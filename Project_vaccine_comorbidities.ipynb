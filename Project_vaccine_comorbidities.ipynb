{
 "cells": [
  {
   "cell_type": "markdown",
   "metadata": {},
   "source": [
    "# 1. Introduction\n",
    "In hope of ending the global COVID-19 pandemic, multiple vaccines have been rapidly developed around the world. However, vaccine hesitancy due to safety concerns is hindering its usage. Phase 2 and 3 clinical trials showed promising results regarding both efficacy and adverse effects, also in people with underlying medical conditions [Choi, 2021].  \n",
    "In this project, the effect of two different vaccines, namely Pfizer-BioNTech and Oxford/AstraZeneca, on people in the UK with different underlying diseases will be analysed, aiming to shed more light on their safety. Specifically, the following questions will be answered: \n",
    "* How common are adverse events? Are they more common in people with (specific categories of) underlying medical conditions? Medical events with an ICD10 code after the second vaccine will be considered and compared to unvaccinated people in a similar time frame. \n",
    "* Is the mortality the same in vaccinated vs. non-vaccinated people? Is it the same when comparing vaccinated and non-vaccinated people with the same underlying diseases?\n",
    "\n",
    "Both analyses start more generally with the full population. The population to be analysed is then reduced to only people with underlying medical conditions and then to specific categories of underlying diseases according to ICD10.  "
   ]
  },
  {
   "cell_type": "markdown",
   "metadata": {},
   "source": [
    "# 2. Methods"
   ]
  },
  {
   "cell_type": "markdown",
   "metadata": {
    "id": "BnOF_K5b9eXs"
   },
   "source": [
    "## Import packages and data"
   ]
  },
  {
   "cell_type": "code",
   "execution_count": 1,
   "metadata": {},
   "outputs": [],
   "source": [
    "import pandas as pd\n",
    "import numpy as np\n",
    "import matplotlib.pyplot as plt\n",
    "import scipy as sp\n",
    "from scipy import stats\n",
    "import random\n",
    "random.seed(13)"
   ]
  },
  {
   "cell_type": "markdown",
   "metadata": {},
   "source": [
    "#### Import data"
   ]
  },
  {
   "cell_type": "code",
   "execution_count": 2,
   "metadata": {
    "id": "ED2_-Iv0DbIJ"
   },
   "outputs": [],
   "source": [
    "# need to import this file in slightly different way because of different delimiters\n",
    "clinical = pd.read_csv('data/covid19_clinical_sample.txt',sep='\\t|,', engine = 'python')"
   ]
  },
  {
   "cell_type": "code",
   "execution_count": 3,
   "metadata": {
    "id": "zyYSNBpnypUf"
   },
   "outputs": [],
   "source": [
    "GPic10 = pd.read_csv('data/GP_ic10_lookup.csv') "
   ]
  },
  {
   "cell_type": "code",
   "execution_count": null,
   "metadata": {},
   "outputs": [],
   "source": [
    "# need to import this file in slightly different way because of different delimiters\n",
    "scripts = pd.read_csv('data/covid19_prescriptions_sample.txt', sep='\\t|,', engine = 'python')"
   ]
  },
  {
   "cell_type": "code",
   "execution_count": 4,
   "metadata": {},
   "outputs": [],
   "source": [
    "mortality = pd.read_csv('data/patients_data_death_sample.csv')"
   ]
  },
  {
   "cell_type": "code",
   "execution_count": 5,
   "metadata": {},
   "outputs": [],
   "source": [
    "mortality_coding = pd.read_csv('data/patients_data_death_decoding.csv')"
   ]
  },
  {
   "cell_type": "markdown",
   "metadata": {},
   "source": [
    "#### Have a look at the data"
   ]
  },
  {
   "cell_type": "code",
   "execution_count": null,
   "metadata": {
    "colab": {
     "base_uri": "https://localhost:8080/",
     "height": 424
    },
    "executionInfo": {
     "elapsed": 319,
     "status": "ok",
     "timestamp": 1635338237249,
     "user": {
      "displayName": "Monica Müller",
      "photoUrl": "https://lh3.googleusercontent.com/a/default-user=s64",
      "userId": "03925055125343928828"
     },
     "user_tz": -120
    },
    "id": "7svXJiX1F5PV",
    "outputId": "d5106cec-154c-46ed-8a33-e4764cd1b78d",
    "scrolled": true
   },
   "outputs": [],
   "source": [
    "clinical\n",
    "# GP dataset from patients in the database\n",
    "# each line corresponds to one incident with a date (event_dt)\n",
    "# eid: patient number "
   ]
  },
  {
   "cell_type": "code",
   "execution_count": null,
   "metadata": {
    "colab": {
     "base_uri": "https://localhost:8080/",
     "height": 476
    },
    "executionInfo": {
     "elapsed": 11,
     "status": "ok",
     "timestamp": 1635338239808,
     "user": {
      "displayName": "Monica Müller",
      "photoUrl": "https://lh3.googleusercontent.com/a/default-user=s64",
      "userId": "03925055125343928828"
     },
     "user_tz": -120
    },
    "id": "QZo7OndFyvd_",
    "outputId": "78c836ec-1ff8-427f-baa7-52298ae33508"
   },
   "outputs": [],
   "source": [
    "GPic10\n",
    "#translates CTV3 codes (read_code) to ICD10 (icd10_code)"
   ]
  },
  {
   "cell_type": "code",
   "execution_count": null,
   "metadata": {
    "colab": {
     "base_uri": "https://localhost:8080/",
     "height": 424
    },
    "executionInfo": {
     "elapsed": 23,
     "status": "ok",
     "timestamp": 1635338241710,
     "user": {
      "displayName": "Monica Müller",
      "photoUrl": "https://lh3.googleusercontent.com/a/default-user=s64",
      "userId": "03925055125343928828"
     },
     "user_tz": -120
    },
    "id": "5xF6ZdG529rs",
    "outputId": "3fa90056-4ede-4317-f4ce-6382549004ca"
   },
   "outputs": [],
   "source": [
    "#scripts\n",
    "# all medication patients got from their GP, incl. the COVID-19 vaccine "
   ]
  },
  {
   "cell_type": "markdown",
   "metadata": {},
   "source": [
    "## Preparing data"
   ]
  },
  {
   "cell_type": "markdown",
   "metadata": {},
   "source": [
    "### Adding column with IC10 categories to clinical dataset for simpler analysis later on"
   ]
  },
  {
   "cell_type": "code",
   "execution_count": 6,
   "metadata": {},
   "outputs": [],
   "source": [
    "# create a reduced dataframe for merging with the clinical dataframe\n",
    "GPic10_red =  GPic10[['read_code', 'icd10_code']]\n",
    "# rename to merge on the ctv3 column with the clinical dataset\n",
    "GPic10_red = GPic10_red.rename(columns = {'read_code':'code'})"
   ]
  },
  {
   "cell_type": "code",
   "execution_count": 7,
   "metadata": {},
   "outputs": [
    {
     "data": {
      "text/html": [
       "<div>\n",
       "<style scoped>\n",
       "    .dataframe tbody tr th:only-of-type {\n",
       "        vertical-align: middle;\n",
       "    }\n",
       "\n",
       "    .dataframe tbody tr th {\n",
       "        vertical-align: top;\n",
       "    }\n",
       "\n",
       "    .dataframe thead th {\n",
       "        text-align: right;\n",
       "    }\n",
       "</style>\n",
       "<table border=\"1\" class=\"dataframe\">\n",
       "  <thead>\n",
       "    <tr style=\"text-align: right;\">\n",
       "      <th></th>\n",
       "      <th>Unnamed: 0</th>\n",
       "      <th>eid</th>\n",
       "      <th>event_dt</th>\n",
       "      <th>code_type</th>\n",
       "      <th>code</th>\n",
       "      <th>value</th>\n",
       "      <th>icd10_code</th>\n",
       "    </tr>\n",
       "  </thead>\n",
       "  <tbody>\n",
       "    <tr>\n",
       "      <th>0</th>\n",
       "      <td>42</td>\n",
       "      <td>1000034</td>\n",
       "      <td>13/05/1998</td>\n",
       "      <td>0</td>\n",
       "      <td>XE1lT</td>\n",
       "      <td>0.0</td>\n",
       "      <td>S832</td>\n",
       "    </tr>\n",
       "    <tr>\n",
       "      <th>1</th>\n",
       "      <td>326324</td>\n",
       "      <td>1011402</td>\n",
       "      <td>15/08/2003</td>\n",
       "      <td>0</td>\n",
       "      <td>XE1lT</td>\n",
       "      <td>0.0</td>\n",
       "      <td>S832</td>\n",
       "    </tr>\n",
       "    <tr>\n",
       "      <th>2</th>\n",
       "      <td>326338</td>\n",
       "      <td>1011402</td>\n",
       "      <td>11/03/2004</td>\n",
       "      <td>0</td>\n",
       "      <td>XE1lT</td>\n",
       "      <td>0.0</td>\n",
       "      <td>S832</td>\n",
       "    </tr>\n",
       "    <tr>\n",
       "      <th>3</th>\n",
       "      <td>326339</td>\n",
       "      <td>1011402</td>\n",
       "      <td>16/07/2004</td>\n",
       "      <td>0</td>\n",
       "      <td>XE1lT</td>\n",
       "      <td>0.0</td>\n",
       "      <td>S832</td>\n",
       "    </tr>\n",
       "    <tr>\n",
       "      <th>4</th>\n",
       "      <td>371890</td>\n",
       "      <td>1012829</td>\n",
       "      <td>06/01/2015</td>\n",
       "      <td>0</td>\n",
       "      <td>XE1lT</td>\n",
       "      <td>0.0</td>\n",
       "      <td>S832</td>\n",
       "    </tr>\n",
       "    <tr>\n",
       "      <th>...</th>\n",
       "      <td>...</td>\n",
       "      <td>...</td>\n",
       "      <td>...</td>\n",
       "      <td>...</td>\n",
       "      <td>...</td>\n",
       "      <td>...</td>\n",
       "      <td>...</td>\n",
       "    </tr>\n",
       "    <tr>\n",
       "      <th>188488</th>\n",
       "      <td>996399</td>\n",
       "      <td>1033266</td>\n",
       "      <td>23/06/2015</td>\n",
       "      <td>0</td>\n",
       "      <td>XaDbE</td>\n",
       "      <td>0.0</td>\n",
       "      <td>R568</td>\n",
       "    </tr>\n",
       "    <tr>\n",
       "      <th>188489</th>\n",
       "      <td>999941</td>\n",
       "      <td>1033328</td>\n",
       "      <td>11/12/2018</td>\n",
       "      <td>0</td>\n",
       "      <td>X2060</td>\n",
       "      <td>0.0</td>\n",
       "      <td>I839</td>\n",
       "    </tr>\n",
       "    <tr>\n",
       "      <th>188490</th>\n",
       "      <td>999941</td>\n",
       "      <td>1033328</td>\n",
       "      <td>11/12/2018</td>\n",
       "      <td>0</td>\n",
       "      <td>X2060</td>\n",
       "      <td>0.0</td>\n",
       "      <td>I83</td>\n",
       "    </tr>\n",
       "    <tr>\n",
       "      <th>188491</th>\n",
       "      <td>999941</td>\n",
       "      <td>1033328</td>\n",
       "      <td>11/12/2018</td>\n",
       "      <td>0</td>\n",
       "      <td>X2060</td>\n",
       "      <td>0.0</td>\n",
       "      <td>O220</td>\n",
       "    </tr>\n",
       "    <tr>\n",
       "      <th>188492</th>\n",
       "      <td>999941</td>\n",
       "      <td>1033328</td>\n",
       "      <td>11/12/2018</td>\n",
       "      <td>0</td>\n",
       "      <td>X2060</td>\n",
       "      <td>0.0</td>\n",
       "      <td>O878</td>\n",
       "    </tr>\n",
       "  </tbody>\n",
       "</table>\n",
       "<p>188493 rows × 7 columns</p>\n",
       "</div>"
      ],
      "text/plain": [
       "        Unnamed: 0      eid    event_dt  code_type   code  value icd10_code\n",
       "0               42  1000034  13/05/1998          0  XE1lT    0.0       S832\n",
       "1           326324  1011402  15/08/2003          0  XE1lT    0.0       S832\n",
       "2           326338  1011402  11/03/2004          0  XE1lT    0.0       S832\n",
       "3           326339  1011402  16/07/2004          0  XE1lT    0.0       S832\n",
       "4           371890  1012829  06/01/2015          0  XE1lT    0.0       S832\n",
       "...            ...      ...         ...        ...    ...    ...        ...\n",
       "188488      996399  1033266  23/06/2015          0  XaDbE    0.0       R568\n",
       "188489      999941  1033328  11/12/2018          0  X2060    0.0       I839\n",
       "188490      999941  1033328  11/12/2018          0  X2060    0.0        I83\n",
       "188491      999941  1033328  11/12/2018          0  X2060    0.0       O220\n",
       "188492      999941  1033328  11/12/2018          0  X2060    0.0       O878\n",
       "\n",
       "[188493 rows x 7 columns]"
      ]
     },
     "execution_count": 7,
     "metadata": {},
     "output_type": "execute_result"
    }
   ],
   "source": [
    "clinical_ic10 = pd.merge(clinical, GPic10_red, how='inner', on='code')\n",
    "clinical_ic10"
   ]
  },
  {
   "cell_type": "markdown",
   "metadata": {},
   "source": [
    "### Data Cleaning"
   ]
  },
  {
   "cell_type": "code",
   "execution_count": 8,
   "metadata": {},
   "outputs": [],
   "source": [
    "# drop unnecessary columns\n",
    "clinical_ic10.drop(columns = ['code_type', 'value', 'Unnamed: 0'], inplace = True)"
   ]
  },
  {
   "cell_type": "code",
   "execution_count": 9,
   "metadata": {},
   "outputs": [
    {
     "data": {
      "text/plain": [
       "eid           0\n",
       "event_dt      0\n",
       "code          0\n",
       "icd10_code    0\n",
       "dtype: int64"
      ]
     },
     "execution_count": 9,
     "metadata": {},
     "output_type": "execute_result"
    }
   ],
   "source": [
    "pd.isnull(clinical_ic10).sum()\n",
    "# no NaN in the sample"
   ]
  },
  {
   "cell_type": "code",
   "execution_count": 10,
   "metadata": {},
   "outputs": [],
   "source": [
    "# remove duplicate entries in clinical dataset (should not be a problem in the other datasets)\n",
    "clinical_ic10.drop_duplicates(inplace = True) "
   ]
  },
  {
   "cell_type": "code",
   "execution_count": 11,
   "metadata": {},
   "outputs": [
    {
     "data": {
      "text/html": [
       "<div>\n",
       "<style scoped>\n",
       "    .dataframe tbody tr th:only-of-type {\n",
       "        vertical-align: middle;\n",
       "    }\n",
       "\n",
       "    .dataframe tbody tr th {\n",
       "        vertical-align: top;\n",
       "    }\n",
       "\n",
       "    .dataframe thead th {\n",
       "        text-align: right;\n",
       "    }\n",
       "</style>\n",
       "<table border=\"1\" class=\"dataframe\">\n",
       "  <thead>\n",
       "    <tr style=\"text-align: right;\">\n",
       "      <th></th>\n",
       "      <th>eid</th>\n",
       "      <th>event_dt</th>\n",
       "      <th>code</th>\n",
       "      <th>icd10_code</th>\n",
       "    </tr>\n",
       "  </thead>\n",
       "  <tbody>\n",
       "    <tr>\n",
       "      <th>12</th>\n",
       "      <td>1000034</td>\n",
       "      <td>01/01/1978</td>\n",
       "      <td>XE0e7</td>\n",
       "      <td>N419</td>\n",
       "    </tr>\n",
       "    <tr>\n",
       "      <th>13</th>\n",
       "      <td>1000034</td>\n",
       "      <td>01/01/1978</td>\n",
       "      <td>XE0e7</td>\n",
       "      <td>N41</td>\n",
       "    </tr>\n",
       "    <tr>\n",
       "      <th>14</th>\n",
       "      <td>1013867</td>\n",
       "      <td>10/01/2003</td>\n",
       "      <td>XE0e7</td>\n",
       "      <td>N419</td>\n",
       "    </tr>\n",
       "    <tr>\n",
       "      <th>15</th>\n",
       "      <td>1013867</td>\n",
       "      <td>10/01/2003</td>\n",
       "      <td>XE0e7</td>\n",
       "      <td>N41</td>\n",
       "    </tr>\n",
       "    <tr>\n",
       "      <th>16</th>\n",
       "      <td>1000034</td>\n",
       "      <td>23/01/2019</td>\n",
       "      <td>XE1FC</td>\n",
       "      <td>M543</td>\n",
       "    </tr>\n",
       "    <tr>\n",
       "      <th>...</th>\n",
       "      <td>...</td>\n",
       "      <td>...</td>\n",
       "      <td>...</td>\n",
       "      <td>...</td>\n",
       "    </tr>\n",
       "    <tr>\n",
       "      <th>188460</th>\n",
       "      <td>1033266</td>\n",
       "      <td>11/02/2016</td>\n",
       "      <td>XaQv0</td>\n",
       "      <td>R452</td>\n",
       "    </tr>\n",
       "    <tr>\n",
       "      <th>188461</th>\n",
       "      <td>1033266</td>\n",
       "      <td>25/02/2015</td>\n",
       "      <td>X75Z0</td>\n",
       "      <td>R568</td>\n",
       "    </tr>\n",
       "    <tr>\n",
       "      <th>188488</th>\n",
       "      <td>1033266</td>\n",
       "      <td>23/06/2015</td>\n",
       "      <td>XaDbE</td>\n",
       "      <td>R568</td>\n",
       "    </tr>\n",
       "    <tr>\n",
       "      <th>188489</th>\n",
       "      <td>1033328</td>\n",
       "      <td>11/12/2018</td>\n",
       "      <td>X2060</td>\n",
       "      <td>I839</td>\n",
       "    </tr>\n",
       "    <tr>\n",
       "      <th>188490</th>\n",
       "      <td>1033328</td>\n",
       "      <td>11/12/2018</td>\n",
       "      <td>X2060</td>\n",
       "      <td>I83</td>\n",
       "    </tr>\n",
       "  </tbody>\n",
       "</table>\n",
       "<p>133026 rows × 4 columns</p>\n",
       "</div>"
      ],
      "text/plain": [
       "            eid    event_dt   code icd10_code\n",
       "12      1000034  01/01/1978  XE0e7       N419\n",
       "13      1000034  01/01/1978  XE0e7        N41\n",
       "14      1013867  10/01/2003  XE0e7       N419\n",
       "15      1013867  10/01/2003  XE0e7        N41\n",
       "16      1000034  23/01/2019  XE1FC       M543\n",
       "...         ...         ...    ...        ...\n",
       "188460  1033266  11/02/2016  XaQv0       R452\n",
       "188461  1033266  25/02/2015  X75Z0       R568\n",
       "188488  1033266  23/06/2015  XaDbE       R568\n",
       "188489  1033328  11/12/2018  X2060       I839\n",
       "188490  1033328  11/12/2018  X2060        I83\n",
       "\n",
       "[133026 rows x 4 columns]"
      ]
     },
     "execution_count": 11,
     "metadata": {},
     "output_type": "execute_result"
    }
   ],
   "source": [
    "# remove not considered clinical events in the clinical dataset (e.g. external factors)\n",
    "# remove O-Z, but leave R as adverse event & Q as underlying disease.\n",
    "\n",
    "# tuple of categories we do not consider as adverse event or underlying disease:\n",
    "exclude = ('O','P','S','T','U','V','W','X','Y','Z')\n",
    "\n",
    "# broadcasting the clinical dataset for all icd codes except those we exclude\n",
    "clinical_ic10 = clinical_ic10[~clinical_ic10['icd10_code'].str.startswith(exclude)]\n",
    "\n",
    "# delete\n",
    "clinical_ic10"
   ]
  },
  {
   "cell_type": "markdown",
   "metadata": {},
   "source": [
    "### Rename columns of mortality dataframe"
   ]
  },
  {
   "cell_type": "code",
   "execution_count": 13,
   "metadata": {},
   "outputs": [
    {
     "data": {
      "text/html": [
       "<div>\n",
       "<style scoped>\n",
       "    .dataframe tbody tr th:only-of-type {\n",
       "        vertical-align: middle;\n",
       "    }\n",
       "\n",
       "    .dataframe tbody tr th {\n",
       "        vertical-align: top;\n",
       "    }\n",
       "\n",
       "    .dataframe thead th {\n",
       "        text-align: right;\n",
       "    }\n",
       "</style>\n",
       "<table border=\"1\" class=\"dataframe\">\n",
       "  <thead>\n",
       "    <tr style=\"text-align: right;\">\n",
       "      <th></th>\n",
       "      <th>Unnamed: 0</th>\n",
       "      <th>eid</th>\n",
       "      <th>31-0.0</th>\n",
       "      <th>34-0.0</th>\n",
       "      <th>52-0.0</th>\n",
       "      <th>53-0.0</th>\n",
       "      <th>21001-0.0</th>\n",
       "      <th>21022-0.0</th>\n",
       "      <th>40000-0.0</th>\n",
       "      <th>40001-0.0</th>\n",
       "      <th>40001-1.0</th>\n",
       "      <th>40007-0.0</th>\n",
       "    </tr>\n",
       "  </thead>\n",
       "  <tbody>\n",
       "    <tr>\n",
       "      <th>0</th>\n",
       "      <td>334517</td>\n",
       "      <td>4345610</td>\n",
       "      <td>1.0</td>\n",
       "      <td>1940.0</td>\n",
       "      <td>2.0</td>\n",
       "      <td>2009-09-17</td>\n",
       "      <td>28.4091</td>\n",
       "      <td>69.0</td>\n",
       "      <td>NaN</td>\n",
       "      <td>NaN</td>\n",
       "      <td>NaN</td>\n",
       "      <td>NaN</td>\n",
       "    </tr>\n",
       "    <tr>\n",
       "      <th>1</th>\n",
       "      <td>297000</td>\n",
       "      <td>3970369</td>\n",
       "      <td>1.0</td>\n",
       "      <td>1949.0</td>\n",
       "      <td>12.0</td>\n",
       "      <td>2008-04-18</td>\n",
       "      <td>26.1106</td>\n",
       "      <td>58.0</td>\n",
       "      <td>NaN</td>\n",
       "      <td>NaN</td>\n",
       "      <td>NaN</td>\n",
       "      <td>NaN</td>\n",
       "    </tr>\n",
       "    <tr>\n",
       "      <th>2</th>\n",
       "      <td>260822</td>\n",
       "      <td>3608558</td>\n",
       "      <td>1.0</td>\n",
       "      <td>1943.0</td>\n",
       "      <td>2.0</td>\n",
       "      <td>2010-02-26</td>\n",
       "      <td>27.4614</td>\n",
       "      <td>67.0</td>\n",
       "      <td>NaN</td>\n",
       "      <td>NaN</td>\n",
       "      <td>NaN</td>\n",
       "      <td>NaN</td>\n",
       "    </tr>\n",
       "    <tr>\n",
       "      <th>3</th>\n",
       "      <td>245361</td>\n",
       "      <td>3453904</td>\n",
       "      <td>0.0</td>\n",
       "      <td>1957.0</td>\n",
       "      <td>8.0</td>\n",
       "      <td>2010-03-19</td>\n",
       "      <td>29.3199</td>\n",
       "      <td>52.0</td>\n",
       "      <td>NaN</td>\n",
       "      <td>NaN</td>\n",
       "      <td>NaN</td>\n",
       "      <td>NaN</td>\n",
       "    </tr>\n",
       "    <tr>\n",
       "      <th>4</th>\n",
       "      <td>25616</td>\n",
       "      <td>1256219</td>\n",
       "      <td>1.0</td>\n",
       "      <td>1959.0</td>\n",
       "      <td>7.0</td>\n",
       "      <td>2008-12-20</td>\n",
       "      <td>32.7859</td>\n",
       "      <td>49.0</td>\n",
       "      <td>NaN</td>\n",
       "      <td>NaN</td>\n",
       "      <td>NaN</td>\n",
       "      <td>NaN</td>\n",
       "    </tr>\n",
       "  </tbody>\n",
       "</table>\n",
       "</div>"
      ],
      "text/plain": [
       "   Unnamed: 0      eid  31-0.0  34-0.0  52-0.0      53-0.0  21001-0.0  \\\n",
       "0      334517  4345610     1.0  1940.0     2.0  2009-09-17    28.4091   \n",
       "1      297000  3970369     1.0  1949.0    12.0  2008-04-18    26.1106   \n",
       "2      260822  3608558     1.0  1943.0     2.0  2010-02-26    27.4614   \n",
       "3      245361  3453904     0.0  1957.0     8.0  2010-03-19    29.3199   \n",
       "4       25616  1256219     1.0  1959.0     7.0  2008-12-20    32.7859   \n",
       "\n",
       "   21022-0.0 40000-0.0 40001-0.0 40001-1.0  40007-0.0  \n",
       "0       69.0       NaN       NaN       NaN        NaN  \n",
       "1       58.0       NaN       NaN       NaN        NaN  \n",
       "2       67.0       NaN       NaN       NaN        NaN  \n",
       "3       52.0       NaN       NaN       NaN        NaN  \n",
       "4       49.0       NaN       NaN       NaN        NaN  "
      ]
     },
     "execution_count": 13,
     "metadata": {},
     "output_type": "execute_result"
    }
   ],
   "source": [
    "# have a look at columns\n",
    "mortality.head(5)"
   ]
  },
  {
   "cell_type": "code",
   "execution_count": 12,
   "metadata": {},
   "outputs": [
    {
     "data": {
      "text/html": [
       "<div>\n",
       "<style scoped>\n",
       "    .dataframe tbody tr th:only-of-type {\n",
       "        vertical-align: middle;\n",
       "    }\n",
       "\n",
       "    .dataframe tbody tr th {\n",
       "        vertical-align: top;\n",
       "    }\n",
       "\n",
       "    .dataframe thead th {\n",
       "        text-align: right;\n",
       "    }\n",
       "</style>\n",
       "<table border=\"1\" class=\"dataframe\">\n",
       "  <thead>\n",
       "    <tr style=\"text-align: right;\">\n",
       "      <th></th>\n",
       "      <th>Unnamed: 0</th>\n",
       "      <th>description</th>\n",
       "    </tr>\n",
       "  </thead>\n",
       "  <tbody>\n",
       "    <tr>\n",
       "      <th>0</th>\n",
       "      <td>eid</td>\n",
       "      <td>PatientID</td>\n",
       "    </tr>\n",
       "    <tr>\n",
       "      <th>1</th>\n",
       "      <td>21022-0.0</td>\n",
       "      <td>AgeRecruit</td>\n",
       "    </tr>\n",
       "    <tr>\n",
       "      <th>2</th>\n",
       "      <td>53-0.0</td>\n",
       "      <td>DateRecruit</td>\n",
       "    </tr>\n",
       "    <tr>\n",
       "      <th>3</th>\n",
       "      <td>34-0.0</td>\n",
       "      <td>YearBirth</td>\n",
       "    </tr>\n",
       "    <tr>\n",
       "      <th>4</th>\n",
       "      <td>52-0.0</td>\n",
       "      <td>MonthBirth</td>\n",
       "    </tr>\n",
       "    <tr>\n",
       "      <th>5</th>\n",
       "      <td>40007-0.0</td>\n",
       "      <td>AgeDeath</td>\n",
       "    </tr>\n",
       "    <tr>\n",
       "      <th>6</th>\n",
       "      <td>40000-0.0</td>\n",
       "      <td>DateDeath</td>\n",
       "    </tr>\n",
       "    <tr>\n",
       "      <th>7</th>\n",
       "      <td>31-0.0</td>\n",
       "      <td>Sex</td>\n",
       "    </tr>\n",
       "    <tr>\n",
       "      <th>8</th>\n",
       "      <td>21001-0.0</td>\n",
       "      <td>BMI</td>\n",
       "    </tr>\n",
       "    <tr>\n",
       "      <th>9</th>\n",
       "      <td>40001-0.0</td>\n",
       "      <td>cause of death 1</td>\n",
       "    </tr>\n",
       "    <tr>\n",
       "      <th>10</th>\n",
       "      <td>40001-1.0</td>\n",
       "      <td>cause of death 2</td>\n",
       "    </tr>\n",
       "  </tbody>\n",
       "</table>\n",
       "</div>"
      ],
      "text/plain": [
       "   Unnamed: 0       description\n",
       "0         eid         PatientID\n",
       "1   21022-0.0        AgeRecruit\n",
       "2      53-0.0       DateRecruit\n",
       "3      34-0.0         YearBirth\n",
       "4      52-0.0        MonthBirth\n",
       "5   40007-0.0          AgeDeath\n",
       "6   40000-0.0         DateDeath\n",
       "7      31-0.0               Sex\n",
       "8   21001-0.0               BMI\n",
       "9   40001-0.0  cause of death 1\n",
       "10  40001-1.0  cause of death 2"
      ]
     },
     "execution_count": 12,
     "metadata": {},
     "output_type": "execute_result"
    }
   ],
   "source": [
    "mortality_coding"
   ]
  },
  {
   "cell_type": "code",
   "execution_count": 14,
   "metadata": {},
   "outputs": [],
   "source": [
    "# make a dictionary out of the mortality_coding dataframe \n",
    "dict_columns = {}\n",
    "for index, value in enumerate(mortality_coding['Unnamed: 0']):\n",
    "  dict_columns[value] = mortality_coding.loc[index, \"description\"]"
   ]
  },
  {
   "cell_type": "code",
   "execution_count": 15,
   "metadata": {},
   "outputs": [],
   "source": [
    "# rename the columns of the mortality dataframe\n",
    "mortality.rename(columns = dict_columns, inplace = True) # columns = a dictionary will automatically rename the columns\n"
   ]
  },
  {
   "cell_type": "code",
   "execution_count": 17,
   "metadata": {},
   "outputs": [
    {
     "data": {
      "text/html": [
       "<div>\n",
       "<style scoped>\n",
       "    .dataframe tbody tr th:only-of-type {\n",
       "        vertical-align: middle;\n",
       "    }\n",
       "\n",
       "    .dataframe tbody tr th {\n",
       "        vertical-align: top;\n",
       "    }\n",
       "\n",
       "    .dataframe thead th {\n",
       "        text-align: right;\n",
       "    }\n",
       "</style>\n",
       "<table border=\"1\" class=\"dataframe\">\n",
       "  <thead>\n",
       "    <tr style=\"text-align: right;\">\n",
       "      <th></th>\n",
       "      <th>Unnamed: 0</th>\n",
       "      <th>PatientID</th>\n",
       "      <th>Sex</th>\n",
       "      <th>YearBirth</th>\n",
       "      <th>MonthBirth</th>\n",
       "      <th>DateRecruit</th>\n",
       "      <th>BMI</th>\n",
       "      <th>AgeRecruit</th>\n",
       "      <th>DateDeath</th>\n",
       "      <th>cause of death 1</th>\n",
       "      <th>cause of death 2</th>\n",
       "      <th>AgeDeath</th>\n",
       "    </tr>\n",
       "  </thead>\n",
       "  <tbody>\n",
       "    <tr>\n",
       "      <th>0</th>\n",
       "      <td>334517</td>\n",
       "      <td>4345610</td>\n",
       "      <td>1.0</td>\n",
       "      <td>1940.0</td>\n",
       "      <td>2.0</td>\n",
       "      <td>2009-09-17</td>\n",
       "      <td>28.4091</td>\n",
       "      <td>69.0</td>\n",
       "      <td>NaN</td>\n",
       "      <td>NaN</td>\n",
       "      <td>NaN</td>\n",
       "      <td>NaN</td>\n",
       "    </tr>\n",
       "    <tr>\n",
       "      <th>1</th>\n",
       "      <td>297000</td>\n",
       "      <td>3970369</td>\n",
       "      <td>1.0</td>\n",
       "      <td>1949.0</td>\n",
       "      <td>12.0</td>\n",
       "      <td>2008-04-18</td>\n",
       "      <td>26.1106</td>\n",
       "      <td>58.0</td>\n",
       "      <td>NaN</td>\n",
       "      <td>NaN</td>\n",
       "      <td>NaN</td>\n",
       "      <td>NaN</td>\n",
       "    </tr>\n",
       "    <tr>\n",
       "      <th>2</th>\n",
       "      <td>260822</td>\n",
       "      <td>3608558</td>\n",
       "      <td>1.0</td>\n",
       "      <td>1943.0</td>\n",
       "      <td>2.0</td>\n",
       "      <td>2010-02-26</td>\n",
       "      <td>27.4614</td>\n",
       "      <td>67.0</td>\n",
       "      <td>NaN</td>\n",
       "      <td>NaN</td>\n",
       "      <td>NaN</td>\n",
       "      <td>NaN</td>\n",
       "    </tr>\n",
       "    <tr>\n",
       "      <th>3</th>\n",
       "      <td>245361</td>\n",
       "      <td>3453904</td>\n",
       "      <td>0.0</td>\n",
       "      <td>1957.0</td>\n",
       "      <td>8.0</td>\n",
       "      <td>2010-03-19</td>\n",
       "      <td>29.3199</td>\n",
       "      <td>52.0</td>\n",
       "      <td>NaN</td>\n",
       "      <td>NaN</td>\n",
       "      <td>NaN</td>\n",
       "      <td>NaN</td>\n",
       "    </tr>\n",
       "    <tr>\n",
       "      <th>4</th>\n",
       "      <td>25616</td>\n",
       "      <td>1256219</td>\n",
       "      <td>1.0</td>\n",
       "      <td>1959.0</td>\n",
       "      <td>7.0</td>\n",
       "      <td>2008-12-20</td>\n",
       "      <td>32.7859</td>\n",
       "      <td>49.0</td>\n",
       "      <td>NaN</td>\n",
       "      <td>NaN</td>\n",
       "      <td>NaN</td>\n",
       "      <td>NaN</td>\n",
       "    </tr>\n",
       "  </tbody>\n",
       "</table>\n",
       "</div>"
      ],
      "text/plain": [
       "   Unnamed: 0  PatientID  Sex  YearBirth  MonthBirth DateRecruit      BMI  \\\n",
       "0      334517    4345610  1.0     1940.0         2.0  2009-09-17  28.4091   \n",
       "1      297000    3970369  1.0     1949.0        12.0  2008-04-18  26.1106   \n",
       "2      260822    3608558  1.0     1943.0         2.0  2010-02-26  27.4614   \n",
       "3      245361    3453904  0.0     1957.0         8.0  2010-03-19  29.3199   \n",
       "4       25616    1256219  1.0     1959.0         7.0  2008-12-20  32.7859   \n",
       "\n",
       "   AgeRecruit DateDeath cause of death 1 cause of death 2  AgeDeath  \n",
       "0        69.0       NaN              NaN              NaN       NaN  \n",
       "1        58.0       NaN              NaN              NaN       NaN  \n",
       "2        67.0       NaN              NaN              NaN       NaN  \n",
       "3        52.0       NaN              NaN              NaN       NaN  \n",
       "4        49.0       NaN              NaN              NaN       NaN  "
      ]
     },
     "execution_count": 17,
     "metadata": {},
     "output_type": "execute_result"
    }
   ],
   "source": [
    "# check\n",
    "mortality.head(5)"
   ]
  },
  {
   "cell_type": "markdown",
   "metadata": {},
   "source": [
    "### Filtering data by vaccination status"
   ]
  },
  {
   "cell_type": "markdown",
   "metadata": {},
   "source": [
    "#### Make 'event_date' in 'clinical' a datetime type"
   ]
  },
  {
   "cell_type": "code",
   "execution_count": 19,
   "metadata": {},
   "outputs": [
    {
     "data": {
      "text/html": [
       "<div>\n",
       "<style scoped>\n",
       "    .dataframe tbody tr th:only-of-type {\n",
       "        vertical-align: middle;\n",
       "    }\n",
       "\n",
       "    .dataframe tbody tr th {\n",
       "        vertical-align: top;\n",
       "    }\n",
       "\n",
       "    .dataframe thead th {\n",
       "        text-align: right;\n",
       "    }\n",
       "</style>\n",
       "<table border=\"1\" class=\"dataframe\">\n",
       "  <thead>\n",
       "    <tr style=\"text-align: right;\">\n",
       "      <th></th>\n",
       "      <th>Unnamed: 0</th>\n",
       "      <th>eid</th>\n",
       "      <th>event_dt</th>\n",
       "      <th>code_type</th>\n",
       "      <th>code</th>\n",
       "      <th>value</th>\n",
       "      <th>event_date_format</th>\n",
       "    </tr>\n",
       "  </thead>\n",
       "  <tbody>\n",
       "    <tr>\n",
       "      <th>0</th>\n",
       "      <td>0</td>\n",
       "      <td>1000034</td>\n",
       "      <td>25/07/2017</td>\n",
       "      <td>0</td>\n",
       "      <td>XaIyt</td>\n",
       "      <td>0.0</td>\n",
       "      <td>2017-07-25</td>\n",
       "    </tr>\n",
       "    <tr>\n",
       "      <th>1</th>\n",
       "      <td>1</td>\n",
       "      <td>1000034</td>\n",
       "      <td>26/06/2018</td>\n",
       "      <td>0</td>\n",
       "      <td>XaF8d</td>\n",
       "      <td>0.0</td>\n",
       "      <td>2018-06-26</td>\n",
       "    </tr>\n",
       "    <tr>\n",
       "      <th>2</th>\n",
       "      <td>2</td>\n",
       "      <td>1000034</td>\n",
       "      <td>22/08/2017</td>\n",
       "      <td>0</td>\n",
       "      <td>XaF8d</td>\n",
       "      <td>0.0</td>\n",
       "      <td>2017-08-22</td>\n",
       "    </tr>\n",
       "    <tr>\n",
       "      <th>3</th>\n",
       "      <td>3</td>\n",
       "      <td>1000034</td>\n",
       "      <td>04/08/2015</td>\n",
       "      <td>0</td>\n",
       "      <td>XaF8d</td>\n",
       "      <td>0.0</td>\n",
       "      <td>2015-04-08</td>\n",
       "    </tr>\n",
       "    <tr>\n",
       "      <th>4</th>\n",
       "      <td>4</td>\n",
       "      <td>1000034</td>\n",
       "      <td>07/06/2018</td>\n",
       "      <td>0</td>\n",
       "      <td>XaIeG</td>\n",
       "      <td>0.0</td>\n",
       "      <td>2018-07-06</td>\n",
       "    </tr>\n",
       "  </tbody>\n",
       "</table>\n",
       "</div>"
      ],
      "text/plain": [
       "   Unnamed: 0      eid    event_dt  code_type   code  value event_date_format\n",
       "0           0  1000034  25/07/2017          0  XaIyt    0.0        2017-07-25\n",
       "1           1  1000034  26/06/2018          0  XaF8d    0.0        2018-06-26\n",
       "2           2  1000034  22/08/2017          0  XaF8d    0.0        2017-08-22\n",
       "3           3  1000034  04/08/2015          0  XaF8d    0.0        2015-04-08\n",
       "4           4  1000034  07/06/2018          0  XaIeG    0.0        2018-07-06"
      ]
     },
     "execution_count": 19,
     "metadata": {},
     "output_type": "execute_result"
    }
   ],
   "source": [
    "# convert event_dt to datetime format\n",
    "clinical['event_date_format'] = pd.to_datetime(clinical['event_dt'])\n",
    "clinical.head(5)"
   ]
  },
  {
   "cell_type": "code",
   "execution_count": 20,
   "metadata": {},
   "outputs": [
    {
     "data": {
      "text/html": [
       "<div>\n",
       "<style scoped>\n",
       "    .dataframe tbody tr th:only-of-type {\n",
       "        vertical-align: middle;\n",
       "    }\n",
       "\n",
       "    .dataframe tbody tr th {\n",
       "        vertical-align: top;\n",
       "    }\n",
       "\n",
       "    .dataframe thead th {\n",
       "        text-align: right;\n",
       "    }\n",
       "</style>\n",
       "<table border=\"1\" class=\"dataframe\">\n",
       "  <thead>\n",
       "    <tr style=\"text-align: right;\">\n",
       "      <th></th>\n",
       "      <th>Unnamed: 0</th>\n",
       "      <th>eid</th>\n",
       "      <th>event_dt</th>\n",
       "      <th>code_type</th>\n",
       "      <th>code</th>\n",
       "      <th>value</th>\n",
       "      <th>event_date_format</th>\n",
       "    </tr>\n",
       "  </thead>\n",
       "  <tbody>\n",
       "    <tr>\n",
       "      <th>797</th>\n",
       "      <td>797</td>\n",
       "      <td>1000087</td>\n",
       "      <td>02/02/2021</td>\n",
       "      <td>1</td>\n",
       "      <td>Y29e7</td>\n",
       "      <td>0.0</td>\n",
       "      <td>2021-02-02</td>\n",
       "    </tr>\n",
       "    <tr>\n",
       "      <th>1981</th>\n",
       "      <td>1981</td>\n",
       "      <td>1000118</td>\n",
       "      <td>26/01/2021</td>\n",
       "      <td>1</td>\n",
       "      <td>Y29e7</td>\n",
       "      <td>0.0</td>\n",
       "      <td>2021-01-26</td>\n",
       "    </tr>\n",
       "    <tr>\n",
       "      <th>2261</th>\n",
       "      <td>2261</td>\n",
       "      <td>1000133</td>\n",
       "      <td>01/02/2021</td>\n",
       "      <td>1</td>\n",
       "      <td>Y29e7</td>\n",
       "      <td>0.0</td>\n",
       "      <td>2021-01-02</td>\n",
       "    </tr>\n",
       "    <tr>\n",
       "      <th>2609</th>\n",
       "      <td>2609</td>\n",
       "      <td>1000159</td>\n",
       "      <td>17/03/2021</td>\n",
       "      <td>1</td>\n",
       "      <td>Y29e7</td>\n",
       "      <td>0.0</td>\n",
       "      <td>2021-03-17</td>\n",
       "    </tr>\n",
       "    <tr>\n",
       "      <th>3112</th>\n",
       "      <td>3112</td>\n",
       "      <td>1000254</td>\n",
       "      <td>31/01/2021</td>\n",
       "      <td>1</td>\n",
       "      <td>Y29e7</td>\n",
       "      <td>0.0</td>\n",
       "      <td>2021-01-31</td>\n",
       "    </tr>\n",
       "    <tr>\n",
       "      <th>...</th>\n",
       "      <td>...</td>\n",
       "      <td>...</td>\n",
       "      <td>...</td>\n",
       "      <td>...</td>\n",
       "      <td>...</td>\n",
       "      <td>...</td>\n",
       "      <td>...</td>\n",
       "    </tr>\n",
       "    <tr>\n",
       "      <th>993869</th>\n",
       "      <td>993869</td>\n",
       "      <td>1033240</td>\n",
       "      <td>20/01/2021</td>\n",
       "      <td>1</td>\n",
       "      <td>Y29e7</td>\n",
       "      <td>0.0</td>\n",
       "      <td>2021-01-20</td>\n",
       "    </tr>\n",
       "    <tr>\n",
       "      <th>995287</th>\n",
       "      <td>995287</td>\n",
       "      <td>1033257</td>\n",
       "      <td>28/01/2021</td>\n",
       "      <td>1</td>\n",
       "      <td>Y29e7</td>\n",
       "      <td>0.0</td>\n",
       "      <td>2021-01-28</td>\n",
       "    </tr>\n",
       "    <tr>\n",
       "      <th>998442</th>\n",
       "      <td>998442</td>\n",
       "      <td>1033294</td>\n",
       "      <td>14/02/2021</td>\n",
       "      <td>1</td>\n",
       "      <td>Y29e7</td>\n",
       "      <td>0.0</td>\n",
       "      <td>2021-02-14</td>\n",
       "    </tr>\n",
       "    <tr>\n",
       "      <th>999236</th>\n",
       "      <td>999236</td>\n",
       "      <td>1033310</td>\n",
       "      <td>27/02/2021</td>\n",
       "      <td>1</td>\n",
       "      <td>Y29e7</td>\n",
       "      <td>0.0</td>\n",
       "      <td>2021-02-27</td>\n",
       "    </tr>\n",
       "    <tr>\n",
       "      <th>999991</th>\n",
       "      <td>999991</td>\n",
       "      <td>1033328</td>\n",
       "      <td>22/02/2021</td>\n",
       "      <td>1</td>\n",
       "      <td>Y29e7</td>\n",
       "      <td>0.0</td>\n",
       "      <td>2021-02-22</td>\n",
       "    </tr>\n",
       "  </tbody>\n",
       "</table>\n",
       "<p>962 rows × 7 columns</p>\n",
       "</div>"
      ],
      "text/plain": [
       "        Unnamed: 0      eid    event_dt  code_type   code  value  \\\n",
       "797            797  1000087  02/02/2021          1  Y29e7    0.0   \n",
       "1981          1981  1000118  26/01/2021          1  Y29e7    0.0   \n",
       "2261          2261  1000133  01/02/2021          1  Y29e7    0.0   \n",
       "2609          2609  1000159  17/03/2021          1  Y29e7    0.0   \n",
       "3112          3112  1000254  31/01/2021          1  Y29e7    0.0   \n",
       "...            ...      ...         ...        ...    ...    ...   \n",
       "993869      993869  1033240  20/01/2021          1  Y29e7    0.0   \n",
       "995287      995287  1033257  28/01/2021          1  Y29e7    0.0   \n",
       "998442      998442  1033294  14/02/2021          1  Y29e7    0.0   \n",
       "999236      999236  1033310  27/02/2021          1  Y29e7    0.0   \n",
       "999991      999991  1033328  22/02/2021          1  Y29e7    0.0   \n",
       "\n",
       "       event_date_format  \n",
       "797           2021-02-02  \n",
       "1981          2021-01-26  \n",
       "2261          2021-01-02  \n",
       "2609          2021-03-17  \n",
       "3112          2021-01-31  \n",
       "...                  ...  \n",
       "993869        2021-01-20  \n",
       "995287        2021-01-28  \n",
       "998442        2021-02-14  \n",
       "999236        2021-02-27  \n",
       "999991        2021-02-22  \n",
       "\n",
       "[962 rows x 7 columns]"
      ]
     },
     "execution_count": 20,
     "metadata": {},
     "output_type": "execute_result"
    }
   ],
   "source": [
    "# code for first dose of the covid vaccinations in the clinical dataset\n",
    "clinical[clinical['code']=='Y29e7'] # first dose SARS-2 coronavirus vaccine\n"
   ]
  },
  {
   "cell_type": "code",
   "execution_count": 21,
   "metadata": {},
   "outputs": [],
   "source": [
    "clinical_vaccines_only = clinical[clinical['code']=='Y29e7'] # subset to first dose"
   ]
  },
  {
   "cell_type": "code",
   "execution_count": 23,
   "metadata": {},
   "outputs": [
    {
     "name": "stderr",
     "output_type": "stream",
     "text": [
      "C:\\Users\\renee\\AppData\\Local\\Temp/ipykernel_10432/3817672817.py:2: SettingWithCopyWarning: \n",
      "A value is trying to be set on a copy of a slice from a DataFrame.\n",
      "Try using .loc[row_indexer,col_indexer] = value instead\n",
      "\n",
      "See the caveats in the documentation: https://pandas.pydata.org/pandas-docs/stable/user_guide/indexing.html#returning-a-view-versus-a-copy\n",
      "  clinical_vaccines_only['issue_date_format'] =  clinical_vaccines_only['event_date_format']\n"
     ]
    },
    {
     "data": {
      "text/html": [
       "<div>\n",
       "<style scoped>\n",
       "    .dataframe tbody tr th:only-of-type {\n",
       "        vertical-align: middle;\n",
       "    }\n",
       "\n",
       "    .dataframe tbody tr th {\n",
       "        vertical-align: top;\n",
       "    }\n",
       "\n",
       "    .dataframe thead th {\n",
       "        text-align: right;\n",
       "    }\n",
       "</style>\n",
       "<table border=\"1\" class=\"dataframe\">\n",
       "  <thead>\n",
       "    <tr style=\"text-align: right;\">\n",
       "      <th></th>\n",
       "      <th>Unnamed: 0</th>\n",
       "      <th>eid</th>\n",
       "      <th>event_dt</th>\n",
       "      <th>code_type</th>\n",
       "      <th>code</th>\n",
       "      <th>value</th>\n",
       "      <th>event_date_format</th>\n",
       "      <th>issue_date_format</th>\n",
       "    </tr>\n",
       "  </thead>\n",
       "  <tbody>\n",
       "    <tr>\n",
       "      <th>797</th>\n",
       "      <td>797</td>\n",
       "      <td>1000087</td>\n",
       "      <td>02/02/2021</td>\n",
       "      <td>1</td>\n",
       "      <td>Y29e7</td>\n",
       "      <td>0.0</td>\n",
       "      <td>2021-02-02</td>\n",
       "      <td>2021-02-02</td>\n",
       "    </tr>\n",
       "    <tr>\n",
       "      <th>1981</th>\n",
       "      <td>1981</td>\n",
       "      <td>1000118</td>\n",
       "      <td>26/01/2021</td>\n",
       "      <td>1</td>\n",
       "      <td>Y29e7</td>\n",
       "      <td>0.0</td>\n",
       "      <td>2021-01-26</td>\n",
       "      <td>2021-01-26</td>\n",
       "    </tr>\n",
       "    <tr>\n",
       "      <th>2261</th>\n",
       "      <td>2261</td>\n",
       "      <td>1000133</td>\n",
       "      <td>01/02/2021</td>\n",
       "      <td>1</td>\n",
       "      <td>Y29e7</td>\n",
       "      <td>0.0</td>\n",
       "      <td>2021-01-02</td>\n",
       "      <td>2021-01-02</td>\n",
       "    </tr>\n",
       "    <tr>\n",
       "      <th>2609</th>\n",
       "      <td>2609</td>\n",
       "      <td>1000159</td>\n",
       "      <td>17/03/2021</td>\n",
       "      <td>1</td>\n",
       "      <td>Y29e7</td>\n",
       "      <td>0.0</td>\n",
       "      <td>2021-03-17</td>\n",
       "      <td>2021-03-17</td>\n",
       "    </tr>\n",
       "    <tr>\n",
       "      <th>3112</th>\n",
       "      <td>3112</td>\n",
       "      <td>1000254</td>\n",
       "      <td>31/01/2021</td>\n",
       "      <td>1</td>\n",
       "      <td>Y29e7</td>\n",
       "      <td>0.0</td>\n",
       "      <td>2021-01-31</td>\n",
       "      <td>2021-01-31</td>\n",
       "    </tr>\n",
       "  </tbody>\n",
       "</table>\n",
       "</div>"
      ],
      "text/plain": [
       "      Unnamed: 0      eid    event_dt  code_type   code  value  \\\n",
       "797          797  1000087  02/02/2021          1  Y29e7    0.0   \n",
       "1981        1981  1000118  26/01/2021          1  Y29e7    0.0   \n",
       "2261        2261  1000133  01/02/2021          1  Y29e7    0.0   \n",
       "2609        2609  1000159  17/03/2021          1  Y29e7    0.0   \n",
       "3112        3112  1000254  31/01/2021          1  Y29e7    0.0   \n",
       "\n",
       "     event_date_format issue_date_format  \n",
       "797         2021-02-02        2021-02-02  \n",
       "1981        2021-01-26        2021-01-26  \n",
       "2261        2021-01-02        2021-01-02  \n",
       "2609        2021-03-17        2021-03-17  \n",
       "3112        2021-01-31        2021-01-31  "
      ]
     },
     "execution_count": 23,
     "metadata": {},
     "output_type": "execute_result"
    }
   ],
   "source": [
    "# make event date of the vaccination the issue date to then allocate it to the events of the respective eids\n",
    "clinical_vaccines_only['issue_date_format'] =  clinical_vaccines_only['event_date_format'] \n",
    "clinical_vaccines_only.head(5)"
   ]
  },
  {
   "cell_type": "code",
   "execution_count": 24,
   "metadata": {},
   "outputs": [
    {
     "data": {
      "text/plain": [
       "1277"
      ]
     },
     "execution_count": 24,
     "metadata": {},
     "output_type": "execute_result"
    }
   ],
   "source": [
    "# finding eids in the clinical dataset that had first covid-19 dose with code 'Y29e7'\n",
    "id_vac = clinical[clinical['code']=='Y29e7']['eid']\n",
    "id_vac # 962 eids with first dose\n",
    "len(clinical['eid'].unique()) # 1277 of total eids in the dataset\n"
   ]
  },
  {
   "cell_type": "markdown",
   "metadata": {},
   "source": [
    "### Categorize event as before or after COVID-19 vaccination / randomly allocated date "
   ]
  },
  {
   "cell_type": "markdown",
   "metadata": {},
   "source": [
    "#### Add deaths to clinical_ic10 df"
   ]
  },
  {
   "cell_type": "code",
   "execution_count": 25,
   "metadata": {},
   "outputs": [
    {
     "name": "stderr",
     "output_type": "stream",
     "text": [
      "C:\\Users\\renee\\anaconda3\\lib\\site-packages\\pandas\\core\\frame.py:4906: SettingWithCopyWarning: \n",
      "A value is trying to be set on a copy of a slice from a DataFrame\n",
      "\n",
      "See the caveats in the documentation: https://pandas.pydata.org/pandas-docs/stable/user_guide/indexing.html#returning-a-view-versus-a-copy\n",
      "  return super().drop(\n",
      "C:\\Users\\renee\\anaconda3\\lib\\site-packages\\pandas\\core\\frame.py:5039: SettingWithCopyWarning: \n",
      "A value is trying to be set on a copy of a slice from a DataFrame\n",
      "\n",
      "See the caveats in the documentation: https://pandas.pydata.org/pandas-docs/stable/user_guide/indexing.html#returning-a-view-versus-a-copy\n",
      "  return super().rename(\n"
     ]
    }
   ],
   "source": [
    "# subset mortality df to the eids with a deathdate that is not NaN\n",
    "mortality_sub = mortality.dropna(subset=['DateDeath'])\n",
    "# drop all the unnecessary columns (also drop age and sex, perhaps no time to analyse this), keep eid, deathdate, cause\n",
    "mortality_sub.drop(columns = ['Unnamed: 0', 'Sex', 'YearBirth', 'MonthBirth', 'DateRecruit', 'BMI', 'AgeDeath', 'AgeRecruit', 'cause of death 1', 'cause of death 2'], inplace = True)\n",
    "# rename column 'PatientID' to 'eid' and 'DateDeath' to 'issue_date_format'\n",
    "mortality_sub.rename(columns = {'PatientID':'eid', 'DateDeath':'event_date_format'}, inplace = True) "
   ]
  },
  {
   "cell_type": "code",
   "execution_count": 26,
   "metadata": {
    "scrolled": true
   },
   "outputs": [
    {
     "name": "stderr",
     "output_type": "stream",
     "text": [
      "C:\\Users\\renee\\AppData\\Local\\Temp/ipykernel_10432/2821320636.py:2: SettingWithCopyWarning: \n",
      "A value is trying to be set on a copy of a slice from a DataFrame.\n",
      "Try using .loc[row_indexer,col_indexer] = value instead\n",
      "\n",
      "See the caveats in the documentation: https://pandas.pydata.org/pandas-docs/stable/user_guide/indexing.html#returning-a-view-versus-a-copy\n",
      "  mortality_sub['icd10_code'] = pd.Series([\"death\" for x in range(len(mortality.index))])\n"
     ]
    }
   ],
   "source": [
    "# add column 'icd10_code' to mortality, filled with string 'death'\n",
    "mortality_sub['icd10_code'] = pd.Series([\"death\" for x in range(len(mortality.index))])\n"
   ]
  },
  {
   "cell_type": "code",
   "execution_count": 27,
   "metadata": {},
   "outputs": [
    {
     "name": "stderr",
     "output_type": "stream",
     "text": [
      "C:\\Users\\renee\\AppData\\Local\\Temp/ipykernel_10432/1819874372.py:2: SettingWithCopyWarning: \n",
      "A value is trying to be set on a copy of a slice from a DataFrame.\n",
      "Try using .loc[row_indexer,col_indexer] = value instead\n",
      "\n",
      "See the caveats in the documentation: https://pandas.pydata.org/pandas-docs/stable/user_guide/indexing.html#returning-a-view-versus-a-copy\n",
      "  mortality_sub['event_date_format'] = pd.to_datetime(mortality_sub['event_date_format'])\n"
     ]
    }
   ],
   "source": [
    "# make 'DateDeath' datetime type\n",
    "mortality_sub['event_date_format'] = pd.to_datetime(mortality_sub['event_date_format'])\n"
   ]
  },
  {
   "cell_type": "code",
   "execution_count": 28,
   "metadata": {},
   "outputs": [
    {
     "data": {
      "text/html": [
       "<div>\n",
       "<style scoped>\n",
       "    .dataframe tbody tr th:only-of-type {\n",
       "        vertical-align: middle;\n",
       "    }\n",
       "\n",
       "    .dataframe tbody tr th {\n",
       "        vertical-align: top;\n",
       "    }\n",
       "\n",
       "    .dataframe thead th {\n",
       "        text-align: right;\n",
       "    }\n",
       "</style>\n",
       "<table border=\"1\" class=\"dataframe\">\n",
       "  <thead>\n",
       "    <tr style=\"text-align: right;\">\n",
       "      <th></th>\n",
       "      <th>eid</th>\n",
       "      <th>event_date_format</th>\n",
       "      <th>icd10_code</th>\n",
       "    </tr>\n",
       "  </thead>\n",
       "  <tbody>\n",
       "    <tr>\n",
       "      <th>5</th>\n",
       "      <td>2717656</td>\n",
       "      <td>2015-06-05</td>\n",
       "      <td>death</td>\n",
       "    </tr>\n",
       "    <tr>\n",
       "      <th>16</th>\n",
       "      <td>1546385</td>\n",
       "      <td>2015-06-28</td>\n",
       "      <td>death</td>\n",
       "    </tr>\n",
       "    <tr>\n",
       "      <th>34</th>\n",
       "      <td>3694551</td>\n",
       "      <td>2013-07-27</td>\n",
       "      <td>death</td>\n",
       "    </tr>\n",
       "    <tr>\n",
       "      <th>35</th>\n",
       "      <td>3396715</td>\n",
       "      <td>2013-03-26</td>\n",
       "      <td>death</td>\n",
       "    </tr>\n",
       "    <tr>\n",
       "      <th>69</th>\n",
       "      <td>2692340</td>\n",
       "      <td>2015-10-09</td>\n",
       "      <td>death</td>\n",
       "    </tr>\n",
       "    <tr>\n",
       "      <th>...</th>\n",
       "      <td>...</td>\n",
       "      <td>...</td>\n",
       "      <td>...</td>\n",
       "    </tr>\n",
       "    <tr>\n",
       "      <th>9943</th>\n",
       "      <td>1525180</td>\n",
       "      <td>2011-09-26</td>\n",
       "      <td>death</td>\n",
       "    </tr>\n",
       "    <tr>\n",
       "      <th>9969</th>\n",
       "      <td>3152046</td>\n",
       "      <td>2019-08-06</td>\n",
       "      <td>death</td>\n",
       "    </tr>\n",
       "    <tr>\n",
       "      <th>9979</th>\n",
       "      <td>2244275</td>\n",
       "      <td>2017-11-16</td>\n",
       "      <td>death</td>\n",
       "    </tr>\n",
       "    <tr>\n",
       "      <th>9985</th>\n",
       "      <td>3652978</td>\n",
       "      <td>2018-08-24</td>\n",
       "      <td>death</td>\n",
       "    </tr>\n",
       "    <tr>\n",
       "      <th>9990</th>\n",
       "      <td>2197584</td>\n",
       "      <td>2015-07-12</td>\n",
       "      <td>death</td>\n",
       "    </tr>\n",
       "  </tbody>\n",
       "</table>\n",
       "<p>661 rows × 3 columns</p>\n",
       "</div>"
      ],
      "text/plain": [
       "          eid event_date_format icd10_code\n",
       "5     2717656        2015-06-05      death\n",
       "16    1546385        2015-06-28      death\n",
       "34    3694551        2013-07-27      death\n",
       "35    3396715        2013-03-26      death\n",
       "69    2692340        2015-10-09      death\n",
       "...       ...               ...        ...\n",
       "9943  1525180        2011-09-26      death\n",
       "9969  3152046        2019-08-06      death\n",
       "9979  2244275        2017-11-16      death\n",
       "9985  3652978        2018-08-24      death\n",
       "9990  2197584        2015-07-12      death\n",
       "\n",
       "[661 rows x 3 columns]"
      ]
     },
     "execution_count": 28,
     "metadata": {},
     "output_type": "execute_result"
    }
   ],
   "source": [
    "# delete\n",
    "mortality_sub"
   ]
  },
  {
   "cell_type": "code",
   "execution_count": 30,
   "metadata": {},
   "outputs": [
    {
     "data": {
      "text/html": [
       "<div>\n",
       "<style scoped>\n",
       "    .dataframe tbody tr th:only-of-type {\n",
       "        vertical-align: middle;\n",
       "    }\n",
       "\n",
       "    .dataframe tbody tr th {\n",
       "        vertical-align: top;\n",
       "    }\n",
       "\n",
       "    .dataframe thead th {\n",
       "        text-align: right;\n",
       "    }\n",
       "</style>\n",
       "<table border=\"1\" class=\"dataframe\">\n",
       "  <thead>\n",
       "    <tr style=\"text-align: right;\">\n",
       "      <th></th>\n",
       "      <th>eid</th>\n",
       "      <th>event_dt</th>\n",
       "      <th>code</th>\n",
       "      <th>icd10_code</th>\n",
       "      <th>event_date_format</th>\n",
       "    </tr>\n",
       "  </thead>\n",
       "  <tbody>\n",
       "    <tr>\n",
       "      <th>12</th>\n",
       "      <td>1000034</td>\n",
       "      <td>01/01/1978</td>\n",
       "      <td>XE0e7</td>\n",
       "      <td>N419</td>\n",
       "      <td>NaT</td>\n",
       "    </tr>\n",
       "    <tr>\n",
       "      <th>13</th>\n",
       "      <td>1000034</td>\n",
       "      <td>01/01/1978</td>\n",
       "      <td>XE0e7</td>\n",
       "      <td>N41</td>\n",
       "      <td>NaT</td>\n",
       "    </tr>\n",
       "    <tr>\n",
       "      <th>14</th>\n",
       "      <td>1013867</td>\n",
       "      <td>10/01/2003</td>\n",
       "      <td>XE0e7</td>\n",
       "      <td>N419</td>\n",
       "      <td>NaT</td>\n",
       "    </tr>\n",
       "    <tr>\n",
       "      <th>15</th>\n",
       "      <td>1013867</td>\n",
       "      <td>10/01/2003</td>\n",
       "      <td>XE0e7</td>\n",
       "      <td>N41</td>\n",
       "      <td>NaT</td>\n",
       "    </tr>\n",
       "    <tr>\n",
       "      <th>16</th>\n",
       "      <td>1000034</td>\n",
       "      <td>23/01/2019</td>\n",
       "      <td>XE1FC</td>\n",
       "      <td>M543</td>\n",
       "      <td>NaT</td>\n",
       "    </tr>\n",
       "    <tr>\n",
       "      <th>...</th>\n",
       "      <td>...</td>\n",
       "      <td>...</td>\n",
       "      <td>...</td>\n",
       "      <td>...</td>\n",
       "      <td>...</td>\n",
       "    </tr>\n",
       "    <tr>\n",
       "      <th>9943</th>\n",
       "      <td>1525180</td>\n",
       "      <td>NaN</td>\n",
       "      <td>NaN</td>\n",
       "      <td>death</td>\n",
       "      <td>2011-09-26</td>\n",
       "    </tr>\n",
       "    <tr>\n",
       "      <th>9969</th>\n",
       "      <td>3152046</td>\n",
       "      <td>NaN</td>\n",
       "      <td>NaN</td>\n",
       "      <td>death</td>\n",
       "      <td>2019-08-06</td>\n",
       "    </tr>\n",
       "    <tr>\n",
       "      <th>9979</th>\n",
       "      <td>2244275</td>\n",
       "      <td>NaN</td>\n",
       "      <td>NaN</td>\n",
       "      <td>death</td>\n",
       "      <td>2017-11-16</td>\n",
       "    </tr>\n",
       "    <tr>\n",
       "      <th>9985</th>\n",
       "      <td>3652978</td>\n",
       "      <td>NaN</td>\n",
       "      <td>NaN</td>\n",
       "      <td>death</td>\n",
       "      <td>2018-08-24</td>\n",
       "    </tr>\n",
       "    <tr>\n",
       "      <th>9990</th>\n",
       "      <td>2197584</td>\n",
       "      <td>NaN</td>\n",
       "      <td>NaN</td>\n",
       "      <td>death</td>\n",
       "      <td>2015-07-12</td>\n",
       "    </tr>\n",
       "  </tbody>\n",
       "</table>\n",
       "<p>134348 rows × 5 columns</p>\n",
       "</div>"
      ],
      "text/plain": [
       "          eid    event_dt   code icd10_code event_date_format\n",
       "12    1000034  01/01/1978  XE0e7       N419               NaT\n",
       "13    1000034  01/01/1978  XE0e7        N41               NaT\n",
       "14    1013867  10/01/2003  XE0e7       N419               NaT\n",
       "15    1013867  10/01/2003  XE0e7        N41               NaT\n",
       "16    1000034  23/01/2019  XE1FC       M543               NaT\n",
       "...       ...         ...    ...        ...               ...\n",
       "9943  1525180         NaN    NaN      death        2011-09-26\n",
       "9969  3152046         NaN    NaN      death        2019-08-06\n",
       "9979  2244275         NaN    NaN      death        2017-11-16\n",
       "9985  3652978         NaN    NaN      death        2018-08-24\n",
       "9990  2197584         NaN    NaN      death        2015-07-12\n",
       "\n",
       "[134348 rows x 5 columns]"
      ]
     },
     "execution_count": 30,
     "metadata": {},
     "output_type": "execute_result"
    }
   ],
   "source": [
    "# now join them\n",
    "clinical_ic10= pd.concat([clinical_ic10, mortality_sub], join = 'outer')\n",
    "clinical_ic10 # 133687 events"
   ]
  },
  {
   "cell_type": "markdown",
   "metadata": {},
   "source": [
    "#### Add column with the date of vaccination to clinical_ic10 and drop event_dt and issue_date"
   ]
  },
  {
   "cell_type": "code",
   "execution_count": 31,
   "metadata": {},
   "outputs": [],
   "source": [
    "# merge clinical_ic10 and clinical_vaccines_only to add the issue_date (date of vaccine) to the df\n",
    "clinical_vac = pd.merge(clinical_ic10, clinical_vaccines_only, how ='outer', on =['eid', 'code', 'event_date_format', 'event_dt'])"
   ]
  },
  {
   "cell_type": "code",
   "execution_count": 35,
   "metadata": {},
   "outputs": [
    {
     "data": {
      "text/html": [
       "<div>\n",
       "<style scoped>\n",
       "    .dataframe tbody tr th:only-of-type {\n",
       "        vertical-align: middle;\n",
       "    }\n",
       "\n",
       "    .dataframe tbody tr th {\n",
       "        vertical-align: top;\n",
       "    }\n",
       "\n",
       "    .dataframe thead th {\n",
       "        text-align: right;\n",
       "    }\n",
       "</style>\n",
       "<table border=\"1\" class=\"dataframe\">\n",
       "  <thead>\n",
       "    <tr style=\"text-align: right;\">\n",
       "      <th></th>\n",
       "      <th>eid</th>\n",
       "      <th>code</th>\n",
       "      <th>icd10_code</th>\n",
       "      <th>event_date_format</th>\n",
       "      <th>Unnamed: 0</th>\n",
       "      <th>issue_date_format</th>\n",
       "    </tr>\n",
       "  </thead>\n",
       "  <tbody>\n",
       "    <tr>\n",
       "      <th>0</th>\n",
       "      <td>1000034</td>\n",
       "      <td>XE0e7</td>\n",
       "      <td>N419</td>\n",
       "      <td>NaT</td>\n",
       "      <td>NaN</td>\n",
       "      <td>NaT</td>\n",
       "    </tr>\n",
       "    <tr>\n",
       "      <th>1</th>\n",
       "      <td>1000034</td>\n",
       "      <td>XE0e7</td>\n",
       "      <td>N41</td>\n",
       "      <td>NaT</td>\n",
       "      <td>NaN</td>\n",
       "      <td>NaT</td>\n",
       "    </tr>\n",
       "    <tr>\n",
       "      <th>2</th>\n",
       "      <td>1013867</td>\n",
       "      <td>XE0e7</td>\n",
       "      <td>N419</td>\n",
       "      <td>NaT</td>\n",
       "      <td>NaN</td>\n",
       "      <td>NaT</td>\n",
       "    </tr>\n",
       "    <tr>\n",
       "      <th>3</th>\n",
       "      <td>1013867</td>\n",
       "      <td>XE0e7</td>\n",
       "      <td>N41</td>\n",
       "      <td>NaT</td>\n",
       "      <td>NaN</td>\n",
       "      <td>NaT</td>\n",
       "    </tr>\n",
       "    <tr>\n",
       "      <th>4</th>\n",
       "      <td>1000034</td>\n",
       "      <td>XE1FC</td>\n",
       "      <td>M543</td>\n",
       "      <td>NaT</td>\n",
       "      <td>NaN</td>\n",
       "      <td>NaT</td>\n",
       "    </tr>\n",
       "    <tr>\n",
       "      <th>...</th>\n",
       "      <td>...</td>\n",
       "      <td>...</td>\n",
       "      <td>...</td>\n",
       "      <td>...</td>\n",
       "      <td>...</td>\n",
       "      <td>...</td>\n",
       "    </tr>\n",
       "    <tr>\n",
       "      <th>135305</th>\n",
       "      <td>1033240</td>\n",
       "      <td>Y29e7</td>\n",
       "      <td>NaN</td>\n",
       "      <td>2021-01-20</td>\n",
       "      <td>993869.0</td>\n",
       "      <td>2021-01-20</td>\n",
       "    </tr>\n",
       "    <tr>\n",
       "      <th>135306</th>\n",
       "      <td>1033257</td>\n",
       "      <td>Y29e7</td>\n",
       "      <td>NaN</td>\n",
       "      <td>2021-01-28</td>\n",
       "      <td>995287.0</td>\n",
       "      <td>2021-01-28</td>\n",
       "    </tr>\n",
       "    <tr>\n",
       "      <th>135307</th>\n",
       "      <td>1033294</td>\n",
       "      <td>Y29e7</td>\n",
       "      <td>NaN</td>\n",
       "      <td>2021-02-14</td>\n",
       "      <td>998442.0</td>\n",
       "      <td>2021-02-14</td>\n",
       "    </tr>\n",
       "    <tr>\n",
       "      <th>135308</th>\n",
       "      <td>1033310</td>\n",
       "      <td>Y29e7</td>\n",
       "      <td>NaN</td>\n",
       "      <td>2021-02-27</td>\n",
       "      <td>999236.0</td>\n",
       "      <td>2021-02-27</td>\n",
       "    </tr>\n",
       "    <tr>\n",
       "      <th>135309</th>\n",
       "      <td>1033328</td>\n",
       "      <td>Y29e7</td>\n",
       "      <td>NaN</td>\n",
       "      <td>2021-02-22</td>\n",
       "      <td>999991.0</td>\n",
       "      <td>2021-02-22</td>\n",
       "    </tr>\n",
       "  </tbody>\n",
       "</table>\n",
       "<p>135310 rows × 6 columns</p>\n",
       "</div>"
      ],
      "text/plain": [
       "            eid   code icd10_code event_date_format  Unnamed: 0  \\\n",
       "0       1000034  XE0e7       N419               NaT         NaN   \n",
       "1       1000034  XE0e7        N41               NaT         NaN   \n",
       "2       1013867  XE0e7       N419               NaT         NaN   \n",
       "3       1013867  XE0e7        N41               NaT         NaN   \n",
       "4       1000034  XE1FC       M543               NaT         NaN   \n",
       "...         ...    ...        ...               ...         ...   \n",
       "135305  1033240  Y29e7        NaN        2021-01-20    993869.0   \n",
       "135306  1033257  Y29e7        NaN        2021-01-28    995287.0   \n",
       "135307  1033294  Y29e7        NaN        2021-02-14    998442.0   \n",
       "135308  1033310  Y29e7        NaN        2021-02-27    999236.0   \n",
       "135309  1033328  Y29e7        NaN        2021-02-22    999991.0   \n",
       "\n",
       "       issue_date_format  \n",
       "0                    NaT  \n",
       "1                    NaT  \n",
       "2                    NaT  \n",
       "3                    NaT  \n",
       "4                    NaT  \n",
       "...                  ...  \n",
       "135305        2021-01-20  \n",
       "135306        2021-01-28  \n",
       "135307        2021-02-14  \n",
       "135308        2021-02-27  \n",
       "135309        2021-02-22  \n",
       "\n",
       "[135310 rows x 6 columns]"
      ]
     },
     "execution_count": 35,
     "metadata": {},
     "output_type": "execute_result"
    }
   ],
   "source": [
    "clinical_vac # 134649 events now in total = 133687 ic10 events + 962 vaccinations"
   ]
  },
  {
   "cell_type": "code",
   "execution_count": null,
   "metadata": {},
   "outputs": [],
   "source": [
    "# scripts_vaccines_only['issue_date_format'] = pd.to_datetime(scripts_vaccines_only['issue_date'])"
   ]
  },
  {
   "cell_type": "code",
   "execution_count": 34,
   "metadata": {},
   "outputs": [],
   "source": [
    "# drop event_dt, code_type, value \n",
    "clinical_vac.drop(columns = ['event_dt', 'code_type', 'value'], inplace = True)"
   ]
  },
  {
   "cell_type": "code",
   "execution_count": 36,
   "metadata": {},
   "outputs": [
    {
     "data": {
      "text/plain": [
       "135310"
      ]
     },
     "execution_count": 36,
     "metadata": {},
     "output_type": "execute_result"
    }
   ],
   "source": [
    "len(clinical_vac) \n",
    "# total amounts of events: vaccinations and medical events from clinical_ic10"
   ]
  },
  {
   "cell_type": "code",
   "execution_count": 37,
   "metadata": {
    "scrolled": true
   },
   "outputs": [
    {
     "data": {
      "text/plain": [
       "134348"
      ]
     },
     "execution_count": 37,
     "metadata": {},
     "output_type": "execute_result"
    }
   ],
   "source": [
    "clinical_vac['issue_date_format'].isna().sum()"
   ]
  },
  {
   "cell_type": "markdown",
   "metadata": {},
   "source": [
    "#### Add column in clinical_vac that says whether a patient is vaccinated or not"
   ]
  },
  {
   "cell_type": "code",
   "execution_count": 38,
   "metadata": {},
   "outputs": [
    {
     "data": {
      "text/plain": [
       "True     105960\n",
       "False     29350\n",
       "Name: vaccinated, dtype: int64"
      ]
     },
     "execution_count": 38,
     "metadata": {},
     "output_type": "execute_result"
    }
   ],
   "source": [
    "mask_vaccinated = clinical_vac['eid'].isin(id_vac)\n",
    "clinical_vac['vaccinated'] = mask_vaccinated\n",
    "\n",
    "# check how many events of vaccinated people there are\n",
    "clinical_vac['vaccinated'].value_counts()"
   ]
  },
  {
   "cell_type": "code",
   "execution_count": 39,
   "metadata": {},
   "outputs": [
    {
     "data": {
      "text/html": [
       "<div>\n",
       "<style scoped>\n",
       "    .dataframe tbody tr th:only-of-type {\n",
       "        vertical-align: middle;\n",
       "    }\n",
       "\n",
       "    .dataframe tbody tr th {\n",
       "        vertical-align: top;\n",
       "    }\n",
       "\n",
       "    .dataframe thead th {\n",
       "        text-align: right;\n",
       "    }\n",
       "</style>\n",
       "<table border=\"1\" class=\"dataframe\">\n",
       "  <thead>\n",
       "    <tr style=\"text-align: right;\">\n",
       "      <th></th>\n",
       "      <th>eid</th>\n",
       "      <th>code</th>\n",
       "      <th>icd10_code</th>\n",
       "      <th>event_date_format</th>\n",
       "      <th>Unnamed: 0</th>\n",
       "      <th>issue_date_format</th>\n",
       "      <th>vaccinated</th>\n",
       "    </tr>\n",
       "  </thead>\n",
       "  <tbody>\n",
       "    <tr>\n",
       "      <th>0</th>\n",
       "      <td>1000034</td>\n",
       "      <td>XE0e7</td>\n",
       "      <td>N419</td>\n",
       "      <td>NaT</td>\n",
       "      <td>NaN</td>\n",
       "      <td>NaT</td>\n",
       "      <td>False</td>\n",
       "    </tr>\n",
       "    <tr>\n",
       "      <th>1</th>\n",
       "      <td>1000034</td>\n",
       "      <td>XE0e7</td>\n",
       "      <td>N41</td>\n",
       "      <td>NaT</td>\n",
       "      <td>NaN</td>\n",
       "      <td>NaT</td>\n",
       "      <td>False</td>\n",
       "    </tr>\n",
       "    <tr>\n",
       "      <th>2</th>\n",
       "      <td>1013867</td>\n",
       "      <td>XE0e7</td>\n",
       "      <td>N419</td>\n",
       "      <td>NaT</td>\n",
       "      <td>NaN</td>\n",
       "      <td>NaT</td>\n",
       "      <td>True</td>\n",
       "    </tr>\n",
       "    <tr>\n",
       "      <th>3</th>\n",
       "      <td>1013867</td>\n",
       "      <td>XE0e7</td>\n",
       "      <td>N41</td>\n",
       "      <td>NaT</td>\n",
       "      <td>NaN</td>\n",
       "      <td>NaT</td>\n",
       "      <td>True</td>\n",
       "    </tr>\n",
       "    <tr>\n",
       "      <th>4</th>\n",
       "      <td>1000034</td>\n",
       "      <td>XE1FC</td>\n",
       "      <td>M543</td>\n",
       "      <td>NaT</td>\n",
       "      <td>NaN</td>\n",
       "      <td>NaT</td>\n",
       "      <td>False</td>\n",
       "    </tr>\n",
       "    <tr>\n",
       "      <th>...</th>\n",
       "      <td>...</td>\n",
       "      <td>...</td>\n",
       "      <td>...</td>\n",
       "      <td>...</td>\n",
       "      <td>...</td>\n",
       "      <td>...</td>\n",
       "      <td>...</td>\n",
       "    </tr>\n",
       "    <tr>\n",
       "      <th>135305</th>\n",
       "      <td>1033240</td>\n",
       "      <td>Y29e7</td>\n",
       "      <td>NaN</td>\n",
       "      <td>2021-01-20</td>\n",
       "      <td>993869.0</td>\n",
       "      <td>2021-01-20</td>\n",
       "      <td>True</td>\n",
       "    </tr>\n",
       "    <tr>\n",
       "      <th>135306</th>\n",
       "      <td>1033257</td>\n",
       "      <td>Y29e7</td>\n",
       "      <td>NaN</td>\n",
       "      <td>2021-01-28</td>\n",
       "      <td>995287.0</td>\n",
       "      <td>2021-01-28</td>\n",
       "      <td>True</td>\n",
       "    </tr>\n",
       "    <tr>\n",
       "      <th>135307</th>\n",
       "      <td>1033294</td>\n",
       "      <td>Y29e7</td>\n",
       "      <td>NaN</td>\n",
       "      <td>2021-02-14</td>\n",
       "      <td>998442.0</td>\n",
       "      <td>2021-02-14</td>\n",
       "      <td>True</td>\n",
       "    </tr>\n",
       "    <tr>\n",
       "      <th>135308</th>\n",
       "      <td>1033310</td>\n",
       "      <td>Y29e7</td>\n",
       "      <td>NaN</td>\n",
       "      <td>2021-02-27</td>\n",
       "      <td>999236.0</td>\n",
       "      <td>2021-02-27</td>\n",
       "      <td>True</td>\n",
       "    </tr>\n",
       "    <tr>\n",
       "      <th>135309</th>\n",
       "      <td>1033328</td>\n",
       "      <td>Y29e7</td>\n",
       "      <td>NaN</td>\n",
       "      <td>2021-02-22</td>\n",
       "      <td>999991.0</td>\n",
       "      <td>2021-02-22</td>\n",
       "      <td>True</td>\n",
       "    </tr>\n",
       "  </tbody>\n",
       "</table>\n",
       "<p>135310 rows × 7 columns</p>\n",
       "</div>"
      ],
      "text/plain": [
       "            eid   code icd10_code event_date_format  Unnamed: 0  \\\n",
       "0       1000034  XE0e7       N419               NaT         NaN   \n",
       "1       1000034  XE0e7        N41               NaT         NaN   \n",
       "2       1013867  XE0e7       N419               NaT         NaN   \n",
       "3       1013867  XE0e7        N41               NaT         NaN   \n",
       "4       1000034  XE1FC       M543               NaT         NaN   \n",
       "...         ...    ...        ...               ...         ...   \n",
       "135305  1033240  Y29e7        NaN        2021-01-20    993869.0   \n",
       "135306  1033257  Y29e7        NaN        2021-01-28    995287.0   \n",
       "135307  1033294  Y29e7        NaN        2021-02-14    998442.0   \n",
       "135308  1033310  Y29e7        NaN        2021-02-27    999236.0   \n",
       "135309  1033328  Y29e7        NaN        2021-02-22    999991.0   \n",
       "\n",
       "       issue_date_format  vaccinated  \n",
       "0                    NaT       False  \n",
       "1                    NaT       False  \n",
       "2                    NaT        True  \n",
       "3                    NaT        True  \n",
       "4                    NaT       False  \n",
       "...                  ...         ...  \n",
       "135305        2021-01-20        True  \n",
       "135306        2021-01-28        True  \n",
       "135307        2021-02-14        True  \n",
       "135308        2021-02-27        True  \n",
       "135309        2021-02-22        True  \n",
       "\n",
       "[135310 rows x 7 columns]"
      ]
     },
     "execution_count": 39,
     "metadata": {},
     "output_type": "execute_result"
    }
   ],
   "source": [
    "clinical_vac \n",
    "# rows with event_dt=NaN: vaccinated eids without medical events"
   ]
  },
  {
   "cell_type": "markdown",
   "metadata": {},
   "source": [
    "#### Add random issue date to events of unvaccinated patients to 'issue_date_format'  in clinical_vac "
   ]
  },
  {
   "cell_type": "code",
   "execution_count": null,
   "metadata": {},
   "outputs": [],
   "source": [
    "# make list from 'issue_date' in scripts_vaccines_only\n",
    "issue_dates = clinical_vaccines_only['issue_date_format'].tolist()\n"
   ]
  },
  {
   "cell_type": "code",
   "execution_count": null,
   "metadata": {},
   "outputs": [],
   "source": [
    "# 'eid' of unvaccinated people\n",
    "id_nvac = clinical_vac[clinical_vac['vaccinated']==False]['eid'].unique()\n",
    "\n",
    "len(id_nvac)"
   ]
  },
  {
   "cell_type": "code",
   "execution_count": null,
   "metadata": {},
   "outputs": [],
   "source": [
    "# create list of new dates\n",
    "issue_dt_random = random.choices(issue_dates, k = len(id_nvac))\n",
    "\n",
    "len(issue_dt_random)"
   ]
  },
  {
   "cell_type": "code",
   "execution_count": null,
   "metadata": {},
   "outputs": [],
   "source": [
    "# make dictionary with random issue dates and unvaccinated eid\n",
    "dict_nvac = dict(zip(id_nvac,issue_dt_random))\n",
    "\n",
    "len(dict_nvac)"
   ]
  },
  {
   "cell_type": "code",
   "execution_count": null,
   "metadata": {},
   "outputs": [],
   "source": [
    "clinical_vac['issue_date_format']"
   ]
  },
  {
   "cell_type": "code",
   "execution_count": null,
   "metadata": {},
   "outputs": [],
   "source": [
    "# fill na with mapping from the dictionary\n",
    "clinical_vac['issue_date_format'] = clinical_vac['issue_date_format'].fillna(clinical_vac['eid'].map(dict_nvac))"
   ]
  },
  {
   "cell_type": "code",
   "execution_count": null,
   "metadata": {},
   "outputs": [],
   "source": [
    "# delete\n",
    "\n",
    "clinical_vac['issue_date_format'][clinical_vac['vaccinated']==True].unique()"
   ]
  },
  {
   "cell_type": "code",
   "execution_count": null,
   "metadata": {},
   "outputs": [],
   "source": [
    "# delete\n",
    "\n",
    "clinical_vac['issue_date_format'][clinical_vac['vaccinated']==False].unique()"
   ]
  },
  {
   "cell_type": "code",
   "execution_count": null,
   "metadata": {},
   "outputs": [],
   "source": [
    "# delete\n",
    "\n",
    "clinical_vac[clinical_vac['vaccinated'] == False]"
   ]
  },
  {
   "cell_type": "code",
   "execution_count": null,
   "metadata": {},
   "outputs": [],
   "source": [
    "# delete \n",
    "clinical_vac['issue_date_format'].isna().sum()"
   ]
  },
  {
   "cell_type": "markdown",
   "metadata": {},
   "source": [
    "#### Add column where it says if the event (event_date_format) was before or after the vaccination (issue_date)"
   ]
  },
  {
   "cell_type": "code",
   "execution_count": null,
   "metadata": {},
   "outputs": [],
   "source": [
    "before_after_vaccine = []\n",
    "for i in range (len(clinical_vac)):\n",
    "    if clinical_vac['event_date_format'].iloc[i] >= clinical_vac['issue_date_format'].iloc[i]:\n",
    "        before_after_vaccine.append('after')\n",
    "    else:\n",
    "        before_after_vaccine.append('before')\n",
    "clinical_vac['before_after_vaccine'] = before_after_vaccine"
   ]
  },
  {
   "cell_type": "code",
   "execution_count": null,
   "metadata": {},
   "outputs": [],
   "source": [
    "# delete\n",
    "clinical_vac"
   ]
  },
  {
   "cell_type": "code",
   "execution_count": null,
   "metadata": {
    "scrolled": true
   },
   "outputs": [],
   "source": [
    "# delete\n",
    "\n",
    "# checking how many events before and after\n",
    "clinical_vac['before_after_vaccine'].value_counts()\n",
    "\n",
    "# if event_date_format is NaT, is says before in 'before_after_vaccine'"
   ]
  },
  {
   "cell_type": "markdown",
   "metadata": {},
   "source": [
    "## 1) Effect of the vaccination on adverse events"
   ]
  },
  {
   "cell_type": "markdown",
   "metadata": {},
   "source": [
    "a) Comparison of occurence of adverse events after vaccination of vaccinated and unvaccinated people\n",
    "\n",
    "b) Same comparison in subset of subjects with underlying medical condition\n",
    "\n",
    "c) Same comparison in subset of subjects with specific underlying medical condition "
   ]
  },
  {
   "cell_type": "markdown",
   "metadata": {},
   "source": [
    "### 1a) Comparison of occurence of adverse events after vaccination of vaccinated and unvaccinated people"
   ]
  },
  {
   "cell_type": "code",
   "execution_count": null,
   "metadata": {},
   "outputs": [],
   "source": [
    "# initialize index names\n",
    "dict_vacORnot = {'Vaccinated':1, 'Not vaccinated':0} #vaccination status"
   ]
  },
  {
   "cell_type": "markdown",
   "metadata": {},
   "source": [
    "#### Total number of adverse events \n",
    "Adverse events = medical events with ICD10 code after the (artificial) vaccination date\n",
    "\n",
    "Total number of adverse events: (multiple per patient in some cases) vaccinated vs. non-vaccinated"
   ]
  },
  {
   "cell_type": "code",
   "execution_count": null,
   "metadata": {},
   "outputs": [],
   "source": [
    "def incidence(df_event, id_vac, id_nvac):\n",
    "    \"\"\"\n",
    "    Calculates the number of events (AEs/deaths) per thousand individuals in a given population.\n",
    "    \n",
    "    Input:\n",
    "    - df_event: a dataframe containing all events after the issue date considered in the analysis (AEs/deaths)\n",
    "    - id_vac: series containing ID's of each individual (with each individual listed once) within the given population. // only vaccinated!\n",
    "    - id_nvac: same as id_vac but with all non-vaccinated individuals\n",
    "    \n",
    "    Note: this is not exactly the incidence (would be number of events in specified time, which would be nice to analyse in the future)\n",
    "    \n",
    "    \"\"\"\n",
    "    \n",
    "    # initialize df for putting in the values\n",
    "    df_sum = pd.DataFrame(columns = ['Number of events', 'Number of individuals', 'Number of events per thousand individuals'], index = dict_vacORnot)\n",
    "    \n",
    "    for v in dict_vacORnot: # loop through vaccinated vs. not\n",
    "        \n",
    "        # put in the number of events (AEs) by subsetting the df_event into vaccinated/not vaccinated\n",
    "        df_sum['Number of events'][v] = len(df_event[df_event['vaccinated'] == dict_vacORnot[v]])\n",
    "    \n",
    "        # if we have no event (happens in the subset), add 0.5 for testing the plot and analysis further below\n",
    "        # -> still visible in the output that it was added\n",
    "        if df_sum['Number of events'][v]==0:\n",
    "            df_sum['Number of events'][v]=0.5\n",
    "    \n",
    "    # put number of vaccinated/not vaccinated people in the population into the summary df\n",
    "    df_sum['Number of individuals']['Vaccinated'] = len(id_vac) # vaccinated (row)\n",
    "    df_sum['Number of individuals']['Not vaccinated'] = len(id_nvac) # not vaccinated (row)\n",
    "    \n",
    "    # calculate AEs/individual\n",
    "    df_sum['Number of events per thousand individuals'] = df_sum['Number of events']/df_sum['Number of individuals']*1000\n",
    "    \n",
    "    return df_sum"
   ]
  },
  {
   "cell_type": "code",
   "execution_count": null,
   "metadata": {},
   "outputs": [],
   "source": [
    "# Make a df with only AEs (defined medical events w. ICD10 code after the (artificial) vaccination date)\n",
    "# reminder: leave R as adverse event & Q as underlying disease.\n",
    "\n",
    "# subset of clinical dataset for adverse events (=after vaccine)\n",
    "df_AEs = clinical_vac[clinical_vac['before_after_vaccine']== 'after']\n",
    "\n",
    "# remove Q (congenital diseases), which are not considered as adverse events\n",
    "df_AEs = df_AEs[~df_AEs['icd10_code'].str.startswith('Q')]"
   ]
  },
  {
   "cell_type": "code",
   "execution_count": null,
   "metadata": {},
   "outputs": [],
   "source": [
    "# remove deaths, which are not considered adverse events\n",
    "df_AEs = df_AEs[df_AEs['icd10_code'] != 'death'] "
   ]
  },
  {
   "cell_type": "code",
   "execution_count": null,
   "metadata": {},
   "outputs": [],
   "source": [
    "# get number of people of the chosen population\n",
    "# list of all IDs from the clinical dataset\n",
    "id_clin = clinical['eid'].unique()\n",
    "\n",
    "# list of all IDs from the scripts dataset\n",
    "id_scr = scripts['eid'].unique()\n",
    "\n",
    "# concatenate both lists to get all IDs in one list\n",
    "id_all = np.concatenate((id_clin, id_scr))\n",
    "\n",
    "# leave only unique IDs in the list to get the number of IDs using len()\n",
    "id_all = np.unique(id_all)\n",
    "\n",
    "# get array with IDs without vaccine by deleting the IDs with vaccine out of the array with all IDs\n",
    "id_nvac = np.delete(id_all, np.isin(id_all,id_vac))"
   ]
  },
  {
   "cell_type": "code",
   "execution_count": null,
   "metadata": {},
   "outputs": [],
   "source": [
    "# use the function to create the summary table\n",
    "df_sum_all = incidence(df_AEs, id_vac, id_nvac)\n",
    "\n",
    "# save \n",
    "df_sum_all.to_csv('analysis/1a_total_AE_table.csv')"
   ]
  },
  {
   "cell_type": "markdown",
   "metadata": {},
   "source": [
    "Plot how oftern AEs occur in vaccinated vs. not vaccinated people for all individuals in the dataset."
   ]
  },
  {
   "cell_type": "code",
   "execution_count": null,
   "metadata": {
    "scrolled": true
   },
   "outputs": [],
   "source": [
    "plt.figure(figsize = (5,5))\n",
    "plt.bar(df_sum_all.index, df_sum_all['Number of events per thousand individuals'])\n",
    "plt.ylabel('Number of AEs per thousand individuals')\n",
    "plt.title('Adverse events in the whole population of the dataset')\n",
    "\n",
    "# save figure in vector format, bbox_inches='tight' so that the plot is not cropped\n",
    "plt.savefig('analysis/1a_total_AE_barplot.svg', bbox_inches='tight')"
   ]
  },
  {
   "cell_type": "markdown",
   "metadata": {},
   "source": [
    "#### Incidence of AEs in all subjects\n",
    "In further analysis: number of eids with AE is analysed (not total number of AEs occurring)"
   ]
  },
  {
   "cell_type": "markdown",
   "metadata": {},
   "source": [
    "Make contingency table (not using pd.crosstab to avoid another huge dataset with all individuals and because we need to count unique IDs)"
   ]
  },
  {
   "cell_type": "code",
   "execution_count": null,
   "metadata": {},
   "outputs": [],
   "source": [
    "def contingency(df_event, id_vac, id_nvac, index = dict_vacORnot):\n",
    "    \"\"\"\n",
    "    Makes a 2x2 contingency table, which can be used for the chi^2 test and calculating the risk ratio.\n",
    "    \n",
    "    Input:\n",
    "    - df_event: a dataframe containing all events (AEs/deaths) considered in the analysis\n",
    "    - id_vac: series containing ID's of each individual (with each individual listed once) within the given population.\n",
    "    - id_nvac: same as id_vac but with all non-vaccinated individuals\n",
    "    \n",
    "    \"\"\"\n",
    "\n",
    "    # initialize contingency table\n",
    "    crosstab = pd.DataFrame(columns = ['event', 'no event'], index = index)\n",
    "    \n",
    "    # fill contingency table with values in the subset\n",
    "\n",
    "    for v in dict_vacORnot: # loop throug vaccinated vs. not\n",
    "\n",
    "        \n",
    "        # with events\n",
    "\n",
    "        # number of nonvaccinated/vaccinated people with event = number of individuals with AEs\n",
    "        crosstab.loc[v,'event'] = len(df_event[df_event['vaccinated']==dict_vacORnot[v]]['eid'].unique())\n",
    "        \n",
    "        # DELETE THIS FOR FINAL ANALYSIS\n",
    "        # if we have no event (happens in the subset), add 1 for testing the plot and analysis further below\n",
    "        # -> still visible in the output that it was added\n",
    "        if crosstab.loc[v,'event']==0:\n",
    "            crosstab.loc[v,'event']=1\n",
    "\n",
    "            \n",
    "        # without events\n",
    "\n",
    "        if v == 'Vaccinated': # for vaccinated people\n",
    "\n",
    "            # total number of vaccinated individuals - those with events\n",
    "            crosstab.loc[v,'no event'] = len(id_vac) - crosstab.loc[v,'event']\n",
    "\n",
    "        else: # for not vaccinated people\n",
    "            \n",
    "            # total number of unvaccinated individuals - those with events\n",
    "            crosstab.loc[v,'no event'] = len(id_nvac) - crosstab.loc[v,'event']\n",
    "            \n",
    "    \n",
    "    # adding margins to the contingency table (=total value as row and column)\n",
    "    \n",
    "    # vaccinated vs. not\n",
    "    crosstab.loc['Total',:] = np.sum(crosstab, axis = 0)\n",
    "    # event vs. no event\n",
    "    crosstab.loc[:,'Total'] = np.sum(crosstab, axis = 1)\n",
    "\n",
    "    return crosstab"
   ]
  },
  {
   "cell_type": "code",
   "execution_count": null,
   "metadata": {},
   "outputs": [],
   "source": [
    "crosstab_all = contingency(df_AEs, id_vac, id_nvac)\n",
    "\n",
    "# save\n",
    "crosstab_all.to_csv('analysis/1a_contigency_table.csv')"
   ]
  },
  {
   "cell_type": "markdown",
   "metadata": {},
   "source": [
    "#### Chi-squared test"
   ]
  },
  {
   "cell_type": "code",
   "execution_count": null,
   "metadata": {},
   "outputs": [],
   "source": [
    "# define significance treshold\n",
    "alpha = 0.05\n",
    "\n",
    "# perform chi-squared test:\n",
    "stat_1a, p_1a, dof_1a, expected_1a = sp.stats.chi2_contingency(crosstab_all.iloc[0:2,0:2], 1)\n",
    "\n",
    "#save \n",
    "chi_square_1a = pd.DataFrame([[stat_1a, p_1a, dof_1a, expected_1a]],columns=['stat_1a', 'p_1a', 'dof_1a', 'expected_1a'])\n",
    "chi_square_1a.to_csv('analysis/1a_chi_square.csv')"
   ]
  },
  {
   "cell_type": "markdown",
   "metadata": {},
   "source": [
    "#### Risk ratio \n",
    "Done similar to Barda et al., but se and CI calculated as described on https://en.wikipedia.org/wiki/Relative_risk for simplicity. "
   ]
  },
  {
   "cell_type": "code",
   "execution_count": null,
   "metadata": {},
   "outputs": [],
   "source": [
    "def riskratio(crosstab, z = 1.96):\n",
    "    \"\"\"\n",
    "    Calculates the risk ratio.\n",
    "    \n",
    "    Returns the risk ratio with the confidence interval (CI) as a df and the adjusted contingency table:\n",
    "    (RR, crosstab)\n",
    "    \n",
    "    Important: the input (crosstab) needs to have the following format:\n",
    "    - 2x2\n",
    "    - column 0 = events (e.g. AEs, deaths), column 1 = non-events\n",
    "    - row 0 = intervention (e.g. vaccinated), column 1 = non-vaccinated\n",
    "    \"\"\"\n",
    "    \n",
    "    # calculating the risk ratio\n",
    "\n",
    "    # risk of getting AE/ dying when vaccinated\n",
    "    R_vac = crosstab.loc['Vaccinated','event']/crosstab.loc['Vaccinated','Total']\n",
    "    # risk of getting \"AE\" or dying when not vaccinated\n",
    "    R_nvac = crosstab.loc['Not vaccinated', 'event']/crosstab.loc['Not vaccinated', 'Total']\n",
    "\n",
    "    # risk ratio\n",
    "    RR = R_vac / R_nvac\n",
    "    \n",
    "    # natural log of the RR     \n",
    "    logRR = np.log(RR) \n",
    "\n",
    "    # standard error\n",
    "    se = np.sqrt(crosstab.loc['Vaccinated','no event']/ \\\n",
    "                 (crosstab.loc['Vaccinated','event']*crosstab.loc['Vaccinated','Total']) + \\\n",
    "                crosstab.loc['Not vaccinated','no event']/ \\\n",
    "                (crosstab.loc['Not vaccinated','event']*crosstab.loc['Not vaccinated','Total']))\n",
    "\n",
    "    # Assuming normal distribution, 95% lie around 1.96 standard deviations of the mean.\n",
    "    # as 95% CI is common, the z-score (z) 1.96 is put as the default value.\n",
    "\n",
    "    # 1-alpha confidence interval (CI) \n",
    "    CI_lower = np.exp(np.log(RR) - se * z) # lower bound\n",
    "    CI_upper = np.exp(np.log(RR) + se * z) # upper bound    \n",
    "    \n",
    "    # put the result in a series\n",
    "    RR_result = pd.Series(data = [RR, CI_lower, CI_upper], index = ['RR', 'CI_lower', 'CI_upper'])\n",
    "    \n",
    "    return RR_result"
   ]
  },
  {
   "cell_type": "code",
   "execution_count": null,
   "metadata": {},
   "outputs": [],
   "source": [
    "RR_all = riskratio(crosstab_all)\n",
    "\n",
    "# will later be saved after 1b "
   ]
  },
  {
   "cell_type": "markdown",
   "metadata": {},
   "source": [
    "### 1b) Same comparison in subset of subjects with underlying medical condition\n"
   ]
  },
  {
   "cell_type": "markdown",
   "metadata": {},
   "source": [
    "#### Subset df to eids with AEs and underlying disease"
   ]
  },
  {
   "cell_type": "code",
   "execution_count": null,
   "metadata": {
    "scrolled": true
   },
   "outputs": [],
   "source": [
    "# get dataset with only AEs AND people with underlying disease \n",
    "# = adverse events (events after vaccination) of people with underlying disease (= that had an event before vaccination)\n",
    "\n",
    "# subset of the df with all AEs (df_AEs) with only people with underlying diseases (df_AEs_ud)\n",
    "# reminder: leave R as adverse event (and general underlying disease) & Q as underlying disease.\n",
    "\n",
    "# subset of clinical_vac df with only medical events before\n",
    "df_ud= clinical_vac[clinical_vac['before_after_vaccine']== 'before']\n",
    "\n",
    "# drop rows without icd10_code, which correspond to vaccinated people without underlying disease\n",
    "df_ud.dropna(subset = ['icd10_code'], inplace = True)\n",
    "\n",
    "# remove deaths to not consider people that died before\n",
    "df_ud = df_ud[df_ud['icd10_code'] != 'death'] \n",
    "\n",
    "# ICD code R is kept in this analysis of general underlying diseases\n",
    "\n",
    "# get id's of people with an underlying disease\n",
    "id_ud = df_ud['eid'].unique()\n",
    "\n",
    "# subset of the df with AEs with only people with an underlying disease\n",
    "df_AEs_ud = df_AEs[df_AEs['eid'].isin(id_ud)]\n",
    "\n",
    "# remove deaths, which are not considered adverse events\n",
    "df_AEs_ud = df_AEs_ud[df_AEs_ud['icd10_code'] != 'death'] "
   ]
  },
  {
   "cell_type": "code",
   "execution_count": null,
   "metadata": {},
   "outputs": [],
   "source": [
    "# individuals in subset with only people with underlying disease AND the vaccine\n",
    "id_ud_vac = df_ud[df_ud['vaccinated']==True]['eid'].unique()\n",
    "\n",
    "# individuals in subset with only people with underlying disease AND NOT the vaccine\n",
    "id_ud_nvac = df_ud[df_ud['vaccinated']==False]['eid'].unique()"
   ]
  },
  {
   "cell_type": "markdown",
   "metadata": {},
   "source": [
    "#### Incidence of AE in subjects with underlying disease"
   ]
  },
  {
   "cell_type": "code",
   "execution_count": null,
   "metadata": {},
   "outputs": [],
   "source": [
    "df_sum_ud = incidence(df_AEs_ud, id_ud_vac, id_ud_nvac)\n",
    "\n",
    "# save\n",
    "df_sum_ud.to_csv('analysis/1b_total_AE_table.csv')"
   ]
  },
  {
   "cell_type": "code",
   "execution_count": null,
   "metadata": {},
   "outputs": [],
   "source": [
    "plt.figure(figsize = (5,5))\n",
    "plt.bar(df_sum_ud.index, df_sum_ud['Number of events per thousand individuals'])\n",
    "plt.ylabel('Number of AEs per thousand individuals')\n",
    "plt.title('Adverse events in subjects with underlying diseases')\n",
    "\n",
    "# save figure in vector format, bbox_inches='tight' so that the plot is not cropped\n",
    "plt.savefig('analysis/1b_total_AE_barplot.svg', bbox_inches='tight')"
   ]
  },
  {
   "cell_type": "markdown",
   "metadata": {},
   "source": [
    "#### Chi-squared test"
   ]
  },
  {
   "cell_type": "code",
   "execution_count": null,
   "metadata": {},
   "outputs": [],
   "source": [
    "# contingency table\n",
    "crosstab_ud = contingency(df_AEs_ud, id_ud_vac, id_ud_nvac, index = dict_vacORnot)\n",
    "crosstab_ud.to_csv('analysis/1b_contigency_table.csv')"
   ]
  },
  {
   "cell_type": "code",
   "execution_count": null,
   "metadata": {},
   "outputs": [],
   "source": [
    "# define significance treshold\n",
    "alpha = 0.05\n",
    "\n",
    "# perform chi-squared test:\n",
    "stat_1b, p_1b, dof_1b, expected_1b = sp.stats.chi2_contingency(crosstab_ud.iloc[0:2,0:2], 1)\n",
    "\n",
    "# save\n",
    "chi_square_1b = pd.DataFrame([[stat_1b, p_1b, dof_1b, expected_1b]],columns=['stat_1b', 'p_1b', 'dof_1b', 'expected_1b'])\n",
    "chi_square_1b.to_csv('analysis/1b_chi_square.csv')"
   ]
  },
  {
   "cell_type": "markdown",
   "metadata": {},
   "source": [
    "#### Risk ratio"
   ]
  },
  {
   "cell_type": "code",
   "execution_count": null,
   "metadata": {},
   "outputs": [],
   "source": [
    "RR_ud = riskratio(crosstab_ud)\n",
    "RR_ud\n"
   ]
  },
  {
   "cell_type": "code",
   "execution_count": null,
   "metadata": {},
   "outputs": [],
   "source": [
    "# create a df for collecting the results of the risk ratio to compare the populations\n",
    "\n",
    "# initialize\n",
    "RR_result = pd.DataFrame(index = ['whole population', 'people with underlying diseases'], columns = ['RR', 'CI_lower', 'CI_upper'])\n",
    "\n",
    "# fill it\n",
    "# RR with data from all individuals in the scripts & clinical dataset\n",
    "RR_result.loc['whole population',:] = RR_all\n",
    "# RR with data from all individuals with underlying diseases\n",
    "RR_result.loc['people with underlying diseases',:] = RR_ud\n",
    "\n",
    "RR_result\n",
    "\n",
    "# save \n",
    "pd.DataFrame(RR_result).to_csv('analysis/1a_b_RR_table.csv')"
   ]
  },
  {
   "cell_type": "code",
   "execution_count": null,
   "metadata": {},
   "outputs": [],
   "source": [
    "# plot the difference in RR with CI\n",
    "\n",
    "# general figure configuration\n",
    "plt.figure(figsize = (6,6))\n",
    "plt.xscale(\"log\")\n",
    "plt.axvline(1, ls='--', linewidth=1, color='black')\n",
    "\n",
    "# draw the RR\n",
    "# RR results\n",
    "x = RR_result['RR'].values\n",
    "# error bar with same size in both directions\n",
    "x_error = RR_result['RR']-RR_result['CI_lower']\n",
    "# for equal spacing of the results\n",
    "y = np.arange(len(RR_result))\n",
    "\n",
    "# the plot\n",
    "plt.errorbar(x, y, xerr = x_error, marker = \"o\", markersize = 10, color = 'b', ls='none')\n",
    "\n",
    "# labelling\n",
    "plt.xlabel('Risk Ratio (log scale)')\n",
    "plt.title('Risk ratio of vaccination in people with underlying diseases or the general population') # renée: Risk ratio of vaccination on an adverse event in subjects with underlying diseases and the entire population\n",
    "# labelling with ICD10 categories\n",
    "plt.yticks(ticks = y, labels = RR_result.index) \n",
    "plt.ylim(-0.5,1.5)\n",
    "\n",
    "# save figure in vector format, bbox_inches='tight' so that the plot is not cropped\n",
    "plt.savefig('analysis/1a_b_RR_plot.svg', bbox_inches='tight')"
   ]
  },
  {
   "cell_type": "markdown",
   "metadata": {},
   "source": [
    "### 1c) Same comparison in subset of subjects with specific underlying medical condition "
   ]
  },
  {
   "cell_type": "markdown",
   "metadata": {},
   "source": [
    "#### Loop through the ICD-10 categories"
   ]
  },
  {
   "cell_type": "markdown",
   "metadata": {
    "id": "7Bw4hTHD2Rg8"
   },
   "source": [
    "ICD10 codes are structured. The following website was used for looking up the meanings of the categories (e.g. respiratory diseases):\n",
    "https://www.icd10data.com/ICD10CM/Codes"
   ]
  },
  {
   "cell_type": "code",
   "execution_count": null,
   "metadata": {},
   "outputs": [],
   "source": [
    "# dictionary of disease categories to analyse, from https://www.icd10data.com/ICD10CM/Codes\n",
    "dict_cat = {('A','B'):'Certain infectious and parasitic diseases',\n",
    "           ('C','D0','D1','D2','D3','D4'):'Neoplasms',\n",
    "           ('D5','D6','D7','D8'):'Diseases of the blood and blood-forming organs and certain disorders involving the immune mechanism',\n",
    "           'E':'Endocrine, nutritional and metabolic diseases',\n",
    "           'F':'Mental, Behavioral and Neurodevelopmental disorders',\n",
    "           'G':'Diseases of the nervous system',\n",
    "           ('H0','H1','H2','H3','H4','H5'):'Diseases of the eye and adnexa',\n",
    "           ('H6','H7','H8', 'H9'): 'Diseases of the ear and mastoid process',\n",
    "           'I':'Diseases of the circulatory system',\n",
    "           'J':'Diseases of the respiratory system',\n",
    "           'K':'Diseases of the digestive system',\n",
    "           'L':'Diseases of the skin and subcutaneous tissue',\n",
    "           'M':'Diseases of the musculoskeletal system and connective tissue',\n",
    "           'N':'Diseases of the genitourinary system',\n",
    "           'Q':'Congenital malformations, deformations and chromosomal abnormalities'}\n",
    "\n",
    "# As mentioned by Barda et al., adjustment for multiple comparisons is not commonly done in studies regarding safety.\n",
    "alpha = 0.05\n",
    "\n",
    "# initialize \n",
    "# dataframe for collecting number of AEs per thousands with/without vaccinated people for all categories\n",
    "df_sum_cat_all = pd.DataFrame(columns = dict_vacORnot, index=dict_cat.values()) \n",
    "\n",
    "# df for saving categories & their p-values\n",
    "#df_chi2_cat = pd.DataFrame(columns = ['p-value', 'significant'], index=dict_cat.values())\n",
    "\n",
    "# df for saving the risk ratio and CIs for the plot\n",
    "RR_result_cat = pd.DataFrame(index = dict_cat.values(), columns = ['RR', 'CI_lower', 'CI_upper'])\n",
    "\n",
    "# df for saving categories and their p-value, significance, RR and CI\n",
    "df_combined = pd.DataFrame(columns = ['P-value', 'Significant', 'Risk Ratio', 'Confidence Interval'], index = dict_cat.values())\n",
    "\n",
    "\n",
    "\n",
    "for i, ic in enumerate(dict_cat): # loop over ICD10 codes of each disease category\n",
    "    \n",
    "    # get dataset with only AEs AND people with specific underlying disease\n",
    "    # subset of the df with all AEs (df_AEs) with only people with specific underlying diseases\n",
    "    # reminder: leave R as adverse event & Q as underlying disease.\n",
    "    # df_ud = subset of clinical_vac df with only diagnoses before vaccine as defined further above\n",
    "\n",
    "    # subset with only underlying diseases within the specific category\n",
    "    df_cat = df_ud[df_ud['icd10_code'].str.startswith(ic)]\n",
    "\n",
    "    # IDs with underlying disease in the specific category\n",
    "    id_cat = df_cat['eid'].unique()\n",
    "\n",
    "    # subset of the df with AEs with only people with underlying disease in the specific category\n",
    "    df_AEs_cat = df_AEs[df_AEs['eid'].isin(id_cat)]\n",
    "\n",
    "    # get IDs of individuals in this subset with vs without vaccine \n",
    "    id_cat_vac = df_cat[df_cat['vaccinated']==True]['eid'].unique() # with vaccine\n",
    "    id_cat_nvac = df_cat[df_cat['vaccinated']==False]['eid'].unique() # without vaccine\n",
    "\n",
    "    ################################################################################\n",
    "    # calculate the number of AEs per thousand people and save the result in a table\n",
    "    df_sum_cat = incidence(df_AEs_cat, id_cat_vac, id_cat_nvac)\n",
    "    \n",
    "    # put in the values from the summary incidence table\n",
    "    df_sum_cat_all.loc[dict_cat[ic],:] = df_sum_cat.loc[:, 'Number of events per thousand individuals']\n",
    "    \n",
    "    \n",
    "    ################################################################################    \n",
    "    # contingency table\n",
    "    crosstab_cat = contingency(df_AEs_cat, id_cat_vac, id_cat_nvac, index = dict_vacORnot)\n",
    "    \n",
    "    ###############################################################################\n",
    "    # perform chi-squared test:\n",
    "    stat, p, dof, expected = sp.stats.chi2_contingency(crosstab_cat.iloc[0:2,0:2], 1)     ## changed crosstab_ud to crosstab_cat\n",
    "\n",
    "    # save the p-value in the df\n",
    "    df_combined.loc[dict_cat[ic],'P-value'] = p\n",
    "    \n",
    "    # mark in which categories there is a significant difference between vaccinated and not vaccinated\n",
    "    if p <= alpha/2: # divided by two because of two-sided test (number of AEs could be higher or lower in vaccinated)\n",
    "        df_combined.loc[dict_cat[ic],'Significant'] = 'Yes'\n",
    "    else:\n",
    "        df_combined.loc[dict_cat[ic],'Significant'] = 'No'\n",
    "       \n",
    "    \n",
    "    ###############################################################################\n",
    "    # risk ratio\n",
    "    RR_cat = riskratio(crosstab_cat)\n",
    "\n",
    "    # fill the df with the RR results for the plot\n",
    "    RR_result_cat.loc[dict_cat[ic],:] = RR_cat\n",
    "    \n",
    "    CI_rounded = (round(RR_cat[1], 2), round(RR_cat[2], 2)) # round to one more decimal place than the original data has\n",
    "    \n",
    "    # new fill df with RR\n",
    "    df_combined.loc[dict_cat[ic], ['Risk Ratio', 'Confidence Interval']] = round(RR_cat[0],2) , CI_rounded\n",
    "    \n",
    "    \n"
   ]
  },
  {
   "cell_type": "markdown",
   "metadata": {},
   "source": [
    "#### Total number of AEs in IC-10 categories"
   ]
  },
  {
   "cell_type": "code",
   "execution_count": null,
   "metadata": {},
   "outputs": [],
   "source": [
    "# total number of AEs in different categories\n",
    "df_sum_cat_all.sort_values(by = 'Vaccinated', ascending = False, inplace = True) # sorting\n",
    "\n",
    "# save\n",
    "df_sum_cat_all.to_csv('analysis/1c_total_AE_table.csv')"
   ]
  },
  {
   "cell_type": "markdown",
   "metadata": {},
   "source": [
    "#### Outcomes of Chi squared test and RR"
   ]
  },
  {
   "cell_type": "code",
   "execution_count": null,
   "metadata": {},
   "outputs": [],
   "source": [
    "# df with p-value, significance, RR and CI\n",
    "df_combined.to_csv('analysis/1c_chi_square_RR_table.csv')"
   ]
  },
  {
   "cell_type": "code",
   "execution_count": null,
   "metadata": {},
   "outputs": [],
   "source": [
    "plt.figure(figsize = (8,8))\n",
    "\n",
    "# plot results for vaccinated and not on top of each other\n",
    "for v in dict_vacORnot:\n",
    "    plt.barh(df_sum_cat_all.index, df_sum_cat_all[v], alpha = 0.5, label = v)\n",
    "\n",
    "# labelling\n",
    "plt.title('Adverse events in people with diseases in specific ICD10 categories')\n",
    "plt.xlabel('Number of AEs per thousand individuals')\n",
    "plt.legend(loc = \"upper right\")\n",
    "\n",
    "# save figure in vector format, bbox_inches='tight' so that the plot is not cropped\n",
    "plt.savefig('analysis/1c_AE_barplot.svg', bbox_inches='tight')"
   ]
  },
  {
   "cell_type": "code",
   "execution_count": null,
   "metadata": {},
   "outputs": [],
   "source": [
    "# plot the RR with CI\n",
    "\n",
    "# general figure configuration\n",
    "plt.figure(figsize = (6,6))\n",
    "plt.xscale(\"log\")\n",
    "plt.axvline(1, ls='--', linewidth=1, color='black')\n",
    "\n",
    "# draw the RR\n",
    "# RR results\n",
    "x = RR_result_cat['RR'].values\n",
    "# error bar with same size in both directions\n",
    "x_error = RR_result_cat['RR']-RR_result_cat['CI_lower']\n",
    "# for equal spacing of the results\n",
    "y = np.arange(len(RR_result_cat))\n",
    "\n",
    "# the plot\n",
    "plt.errorbar(x, y, xerr = x_error, marker = \"o\", markersize = 10, color = 'b', ls='none')\n",
    "\n",
    "# labelling\n",
    "plt.xlabel('Risk Ratio (log scale)')\n",
    "plt.title('Risk ratio of vaccination in people with underlying diseases in different ICD10 categories')\n",
    "# labelling with ICD10 categories\n",
    "plt.yticks(ticks = y, labels = RR_result_cat.index) \n",
    "\n",
    "# save figure in vector format, bbox_inches='tight' so that the plot is not cropped\n",
    "plt.savefig('analysis/1c_AE_RR.svg', bbox_inches='tight')"
   ]
  },
  {
   "cell_type": "markdown",
   "metadata": {},
   "source": [
    "## 2) Effect of the vaccination on mortality"
   ]
  },
  {
   "cell_type": "markdown",
   "metadata": {},
   "source": [
    "a) Comparison of mortality rate after vaccination of vaccinated and unvaccinated people\n",
    "\n",
    "b) Same comparison in subset of subjects with underlying medical condition\n",
    "\n",
    "c) Same comparison in subset of subjects with specific underlying medical condition \n"
   ]
  },
  {
   "cell_type": "markdown",
   "metadata": {},
   "source": [
    "### 2a) Comparison of mortality rate after vaccination of vaccinated and unvaccinated people"
   ]
  },
  {
   "cell_type": "markdown",
   "metadata": {},
   "source": [
    "#### Subset clinical df to only death entries"
   ]
  },
  {
   "cell_type": "code",
   "execution_count": null,
   "metadata": {},
   "outputs": [],
   "source": [
    "# subset of clinical_vac dataset for adverse events (=after vaccine)\n",
    "df_deaths = clinical_vac[clinical_vac['before_after_vaccine']== 'after']\n",
    "\n",
    "# make dataframe with only deaths \n",
    "df_deaths = df_deaths[df_deaths['icd10_code'] == 'death'] "
   ]
  },
  {
   "cell_type": "code",
   "execution_count": null,
   "metadata": {},
   "outputs": [],
   "source": [
    "# initialize column & index names\n",
    "ls_death = ['Deaths', 'No deaths'] # deaths"
   ]
  },
  {
   "cell_type": "markdown",
   "metadata": {},
   "source": [
    "#### Mortality in entire study population"
   ]
  },
  {
   "cell_type": "markdown",
   "metadata": {},
   "source": [
    "Make contingency table (not using pd.crosstab to avoid another huge dataset with all individuals and because we need to count unique IDs)"
   ]
  },
  {
   "cell_type": "code",
   "execution_count": null,
   "metadata": {},
   "outputs": [],
   "source": [
    "crosstab_all_deaths = contingency(df_deaths, id_vac, id_nvac)\n",
    "\n",
    "# save\n",
    "crosstab_all_deaths.to_csv('analysis/2a_contigency_table.csv')"
   ]
  },
  {
   "cell_type": "markdown",
   "metadata": {},
   "source": [
    "#### Chi-squared test"
   ]
  },
  {
   "cell_type": "code",
   "execution_count": null,
   "metadata": {},
   "outputs": [],
   "source": [
    "# perform chi-squared test and name variavles differently for each test\n",
    "# e.g. 1a, 1b, etc.\n",
    "stat_2a, p_2a, dof_2a, expected_2a = sp.stats.chi2_contingency(crosstab_all_deaths.iloc[0:2,0:2], 1)\n",
    "\n",
    "# save\n",
    "chi_square_2a = pd.DataFrame([[stat_2a, p_2a, dof_2a, expected_2a]],columns=['stat_2a', 'p_2a', 'dof_2a', 'expected_2a'])\n",
    "chi_square_2a.to_csv('analysis/2a_chi_square.csv')"
   ]
  },
  {
   "cell_type": "markdown",
   "metadata": {},
   "source": [
    "#### Risk ratio"
   ]
  },
  {
   "cell_type": "code",
   "execution_count": null,
   "metadata": {},
   "outputs": [],
   "source": [
    "RR_all_deaths = riskratio(crosstab_all_deaths)\n",
    "\n",
    "# save together with 2b"
   ]
  },
  {
   "cell_type": "markdown",
   "metadata": {},
   "source": [
    "### 2b) Same comparison in subset of subjects with underlying medical condition"
   ]
  },
  {
   "cell_type": "code",
   "execution_count": null,
   "metadata": {},
   "outputs": [],
   "source": [
    "# subset of the df with deaths with only people with an underlying disease - non in this dataset\n",
    "df_deaths_ud = df_deaths[df_deaths['eid'].isin(id_ud)]\n",
    "\n",
    "#delete\n",
    "df_deaths_ud\n"
   ]
  },
  {
   "cell_type": "code",
   "execution_count": null,
   "metadata": {},
   "outputs": [],
   "source": [
    "# should we keep this output?\n",
    "\n",
    "# also here is total number of deaths not needed, as it is the same as later seen in the crosstable.\n",
    "df_sum_ud = incidence(df_deaths_ud, id_ud_vac, id_ud_nvac)\n",
    "df_sum_ud"
   ]
  },
  {
   "cell_type": "code",
   "execution_count": null,
   "metadata": {},
   "outputs": [],
   "source": [
    "# delete?\n",
    "plt.figure(figsize = (5,5))\n",
    "plt.bar(df_sum_ud.index, df_sum_ud['Number of events per thousand individuals'])\n",
    "plt.ylabel('Number of deaths per thousand individuals')\n",
    "plt.title('Deaths in people with underlying diseases')"
   ]
  },
  {
   "cell_type": "markdown",
   "metadata": {},
   "source": [
    "Chi-squared test"
   ]
  },
  {
   "cell_type": "code",
   "execution_count": null,
   "metadata": {},
   "outputs": [],
   "source": [
    "# contingency table\n",
    "crosstab_ud_deaths = contingency(df_deaths_ud, id_ud_vac, id_ud_nvac, index = dict_vacORnot)\n",
    "\n",
    "# save\n",
    "crosstab_ud_deaths.to_csv('analysis/2b_contigency_table.csv')"
   ]
  },
  {
   "cell_type": "code",
   "execution_count": null,
   "metadata": {},
   "outputs": [],
   "source": [
    "# perform chi-squared test:\n",
    "stat_2b, p_2b, dof_2b, expected_2b = sp.stats.chi2_contingency(crosstab_ud_deaths.iloc[0:2,0:2], 1)\n",
    "\n",
    "# save\n",
    "chi_square_2b = pd.DataFrame([[stat_2a, p_2a, dof_2a, expected_2a]],columns=['stat_2a', 'p_2a', 'dof_2a', 'expected_2a'])\n",
    "chi_square_2b.to_csv('analysis/2b_chi_square.csv')\n"
   ]
  },
  {
   "cell_type": "markdown",
   "metadata": {},
   "source": [
    "Calculate and plot risk ratio"
   ]
  },
  {
   "cell_type": "code",
   "execution_count": null,
   "metadata": {},
   "outputs": [],
   "source": [
    "RR_ud_deaths = riskratio(crosstab_ud_deaths)\n",
    "\n",
    "# delete\n",
    "RR_ud_deaths"
   ]
  },
  {
   "cell_type": "code",
   "execution_count": null,
   "metadata": {},
   "outputs": [],
   "source": [
    "# create a df for collecting the results of the risk ratio to compare the populations\n",
    "\n",
    "# initialize\n",
    "RR_result_deaths = pd.DataFrame(index = ['Whole population', 'People with underlying diseases'], columns = ['RR', 'CI_lower', 'CI_upper'])\n",
    "\n",
    "# fill it\n",
    "# RR with data from all individuals in the scripts & clinical dataset\n",
    "RR_result_deaths.loc['Whole population',:] = RR_all_deaths\n",
    "# RR with data from all individuals with underlying diseases\n",
    "RR_result_deaths.loc['People with underlying diseases',:] = RR_ud_deaths\n",
    "\n",
    "# save\n",
    "pd.DataFrame(RR_result_deaths).to_csv('analysis/1a_b_RR.csv')"
   ]
  },
  {
   "cell_type": "code",
   "execution_count": null,
   "metadata": {
    "scrolled": false
   },
   "outputs": [],
   "source": [
    "# plot the difference in RR with CI\n",
    "\n",
    "# general figure configuration\n",
    "plt.figure(figsize = (6,6))\n",
    "plt.xscale(\"log\")\n",
    "plt.axvline(1, ls='--', linewidth=1, color='black')\n",
    "\n",
    "# draw the RR\n",
    "# RR results\n",
    "x = RR_result_deaths['RR'].values\n",
    "# error bar with same size in both directions\n",
    "x_error = RR_result_deaths['RR']-RR_result_deaths['CI_lower']\n",
    "# for equal spacing of the results\n",
    "y = np.arange(len(RR_result_deaths))\n",
    "\n",
    "# the plot\n",
    "plt.errorbar(x, y, xerr = x_error, marker = \"o\", markersize = 10, color = 'b', ls='none')\n",
    "\n",
    "# labelling\n",
    "plt.xlabel('Risk Ratio (log scale)')\n",
    "plt.title('Risk ratio of vaccination on death in subjects with underlying diseases or the general population') \n",
    "# labelling with ICD10 categories\n",
    "plt.yticks(ticks = y, labels = RR_result_deaths.index) \n",
    "plt.ylim(-0.5,1.5)\n",
    "\n",
    "# save figure in vector format, bbox_inches='tight' so that the plot is not cropped\n",
    "plt.savefig('analysis/2a_b_RR_plot.svg', bbox_inches='tight')"
   ]
  },
  {
   "cell_type": "markdown",
   "metadata": {},
   "source": [
    "### 2c) Same comparison in subset of subjects with specific underlying medical condition "
   ]
  },
  {
   "cell_type": "code",
   "execution_count": null,
   "metadata": {
    "scrolled": true
   },
   "outputs": [],
   "source": [
    "# initialize \n",
    "\n",
    "# dataframe for collecting number of AEs per thousands with/without vaccinated people for all categories\n",
    "df_sum_cat_all_deaths = pd.DataFrame(columns = dict_vacORnot, index=dict_cat.values()) \n",
    "\n",
    "# df for saving the risk ratio and CI\n",
    "RR_result_cat_deaths = pd.DataFrame(index = dict_cat.values(), columns = ['RR', 'CI_lower', 'CI_upper'])\n",
    "\n",
    "# df for saving categories and their p-value, significance, RR and CI\n",
    "df_combined_deaths = pd.DataFrame(columns = ['P-value', 'Significant', 'Risk Ratio', 'Confidence Interval'], index = dict_cat.values())\n",
    "\n",
    "\n",
    "for i, ic in enumerate(dict_cat): # loop over ICD10 codes of each disease category\n",
    "    \n",
    "    # get dataset with only deaths AND people with specific underlying disease\n",
    "    # subset of the df with all deaths (df_deaths) with only people with specific underlying diseases\n",
    "    # reminder: leave R as adverse event & Q as underlying disease.\n",
    "    # df_ud = subset of clinical_vac df with only diagnoses before vaccine as defined further above\n",
    "\n",
    "    # subset with only underlying diseases within the specific category (=ic)\n",
    "    df_cat = df_ud[df_ud['icd10_code'].str.startswith(ic)]\n",
    "\n",
    "    # IDs with underlying disease in the specific category\n",
    "    id_cat = df_cat['eid'].unique()\n",
    "\n",
    "    # subset of the df with deaths after vaccination only in people with underlying disease in the specific category\n",
    "    df_deaths_cat = df_deaths[df_deaths['eid'].isin(id_cat)]\n",
    "\n",
    "    # get IDs of individuals in this subset with vs without vaccine \n",
    "    id_cat_vac = df_cat[df_cat['vaccinated']==True]['eid'].unique() # with vaccine\n",
    "    id_cat_nvac = df_cat[df_cat['vaccinated']==False]['eid'].unique() # without vaccine\n",
    "\n",
    "    ################################################################################\n",
    "    # calculate the number of deaths per thousand people and save the result in a table\n",
    "    df_sum_cat_deaths = incidence(df_deaths_cat, id_cat_vac, id_cat_nvac)\n",
    "    \n",
    "    # put in the values from the summary table\n",
    "    df_sum_cat_all_deaths.loc[dict_cat[ic],:] = df_sum_cat_deaths.loc[:,'Number of events per thousand individuals']\n",
    "    \n",
    "    \n",
    "    ################################################################################    \n",
    "    # contingency table\n",
    "    crosstab_cat = contingency(df_deaths_cat, id_cat_vac, id_cat_nvac, index = dict_vacORnot)\n",
    "    \n",
    "    ###############################################################################\n",
    "    # perform chi-squared test:\n",
    "    stat, p, dof, expected = sp.stats.chi2_contingency(crosstab_cat.iloc[0:2,0:2], 1)       # changed to crosstab_cat from crosstab_ud\n",
    "    \n",
    "    # save the p-value in the df\n",
    "    df_combined_deaths.loc[dict_cat[ic],'P-value'] = p\n",
    "    \n",
    "    # mark in which categories there is a significant difference between vaccinated and not vaccinated\n",
    "    if p <= alpha/2: # divided by two because of two-sided test (number of AEs could be higher or lower in vaccinated)\n",
    "        df_combined_deaths.loc[dict_cat[ic],'Significant'] = 'Yes'\n",
    "    else:\n",
    "        df_combined_deaths.loc[dict_cat[ic],'Significant'] = 'No'\n",
    "       \n",
    "    ###############################################################################\n",
    "    # risk ratio\n",
    "    RR_cat = riskratio(crosstab_cat)\n",
    "\n",
    "    # fill the df with the RR results for the plot later\n",
    "    RR_result_cat_deaths.loc[dict_cat[ic],:] = RR_cat\n",
    "    \n",
    "    CI_rounded = (round(RR_cat[1], 2), round(RR_cat[2], 2)) # round to one more decimal place than the original data has\n",
    "    \n",
    "    # fill df with RR\n",
    "    df_combined_deaths.loc[dict_cat[ic], ['Risk Ratio', 'Confidence Interval']] = round(RR_cat[0],2) , CI_rounded\n",
    "    \n",
    "\n",
    "df_sum_cat_all_deaths.sort_values(by = 'Vaccinated', ascending = False, inplace = True) # sorting\n",
    "\n",
    "# save\n",
    "df_sum_cat_all_deaths.to_csv('analysis/2c_total_mortality_table.csv')"
   ]
  },
  {
   "cell_type": "code",
   "execution_count": null,
   "metadata": {},
   "outputs": [],
   "source": [
    "# df with p-value, significance, RR and CI\n",
    "df_combined_deaths.to_csv('analysis/2c_chi_square_RR_table.csv')"
   ]
  },
  {
   "cell_type": "code",
   "execution_count": null,
   "metadata": {},
   "outputs": [],
   "source": [
    "plt.figure(figsize = (8,8))\n",
    "\n",
    "# plot results for vaccinated and not on top of each other\n",
    "for v in dict_vacORnot:\n",
    "    plt.barh(df_sum_cat_all_deaths.index, df_sum_cat_all_deaths[v], alpha = 0.5, label = v)\n",
    "\n",
    "# labelling\n",
    "plt.title('Deaths in subjects with underlying diseases in specific ICD10 categories')\n",
    "plt.xlabel('Number of deaths per thousand individuals')\n",
    "plt.legend(loc = \"upper right\")\n",
    "\n",
    "# save figure in vector format, bbox_inches='tight' so that the plot is not cropped\n",
    "plt.savefig('analysis/2c_deaths_barplot.svg', bbox_inches='tight')"
   ]
  },
  {
   "cell_type": "code",
   "execution_count": null,
   "metadata": {},
   "outputs": [],
   "source": [
    "# plot the RR with CI\n",
    "\n",
    "# general figure configuration\n",
    "plt.figure(figsize = (6,6))\n",
    "plt.xscale(\"log\")\n",
    "plt.axvline(1, ls='--', linewidth=1, color='black')\n",
    "\n",
    "# draw the RR\n",
    "# RR results\n",
    "x = RR_result_cat_deaths['RR'].values\n",
    "# error bar with same size in both directions\n",
    "x_error = RR_result_cat_deaths['RR']-RR_result_cat_deaths['CI_lower']\n",
    "# for equal spacing of the results\n",
    "y = np.arange(len(RR_result_cat_deaths))\n",
    "\n",
    "# the plot\n",
    "plt.errorbar(x, y, xerr = x_error, marker = \"o\", markersize = 10, color = 'b', ls='none')\n",
    "\n",
    "# labelling\n",
    "plt.xlabel('Risk Ratio (log scale)')\n",
    "plt.title('Risk ratio of vaccination in people with underlying diseases in different ICD10 categories') # renée: Risk ratio of vaccination on an adverse event in subjects with underlying diseases in specific ICD-10 categories\n",
    "# labelling with ICD10 categories\n",
    "plt.yticks(ticks = y, labels = RR_result_cat_deaths.index) \n",
    "\n",
    "# save figure in vector format, bbox_inches='tight' so that the plot is not cropped\n",
    "plt.savefig('analysis/2c_deaths_RR.svg', bbox_inches='tight')"
   ]
  },
  {
   "cell_type": "markdown",
   "metadata": {},
   "source": [
    "# 3. Results"
   ]
  },
  {
   "cell_type": "markdown",
   "metadata": {},
   "source": [
    "# 4. Discussion"
   ]
  },
  {
   "cell_type": "markdown",
   "metadata": {},
   "source": [
    "# References\n",
    "Choi, W. S. & Cheong, H. J. COVID-19 Vaccination for People with Comorbidities. Infect Chemother 53, 155-158, doi:10.3947/ic.2021.0302 (2021)."
   ]
  },
  {
   "cell_type": "code",
   "execution_count": null,
   "metadata": {},
   "outputs": [],
   "source": []
  }
 ],
 "metadata": {
  "colab": {
   "authorship_tag": "ABX9TyPbGrXdLmVVZJgOaOjZE42u",
   "collapsed_sections": [],
   "mount_file_id": "1lzi9RvA-pKhZOBpn5_9XFF17e746VcKM",
   "name": "Project_vaccine_comorbidities.ipynb",
   "provenance": [],
   "toc_visible": true
  },
  "kernelspec": {
   "display_name": "Python 3 (ipykernel)",
   "language": "python",
   "name": "python3"
  },
  "language_info": {
   "codemirror_mode": {
    "name": "ipython",
    "version": 3
   },
   "file_extension": ".py",
   "mimetype": "text/x-python",
   "name": "python",
   "nbconvert_exporter": "python",
   "pygments_lexer": "ipython3",
   "version": "3.9.7"
  }
 },
 "nbformat": 4,
 "nbformat_minor": 1
}
