{
 "cells": [
  {
   "cell_type": "code",
   "execution_count": null,
   "metadata": {
    "id": "ShjvWps0_I39"
   },
   "outputs": [],
   "source": [
    "import pandas as pd\n",
    "import numpy as np\n",
    "import matplotlib.pyplot as plt\n",
    "import scipy as sp\n",
    "from scipy import stats"
   ]
  },
  {
   "cell_type": "code",
   "execution_count": null,
   "metadata": {},
   "outputs": [],
   "source": [
    "import random\n",
    "random.seed(13)"
   ]
  },
  {
   "cell_type": "markdown",
   "metadata": {
    "id": "BnOF_K5b9eXs"
   },
   "source": [
    "### Import data"
   ]
  },
  {
   "cell_type": "code",
   "execution_count": null,
   "metadata": {
    "id": "ceiF4zXL6wAQ"
   },
   "outputs": [],
   "source": [
    "# maybe use np.where to reduce the data imported"
   ]
  },
  {
   "cell_type": "markdown",
   "metadata": {
    "id": "bFNO3k2q_YP1"
   },
   "source": [
    "Read"
   ]
  },
  {
   "cell_type": "code",
   "execution_count": null,
   "metadata": {
    "id": "ctHMNIsY_Xrn"
   },
   "outputs": [],
   "source": [
    "# code = pd.read_csv('data/coding7128.tsv', sep='\\t')"
   ]
  },
  {
   "cell_type": "code",
   "execution_count": null,
   "metadata": {
    "id": "ED2_-Iv0DbIJ"
   },
   "outputs": [],
   "source": [
    "# need to import this file in slightly different way because of different delimiters\n",
    "clinical = pd.read_csv('data/covid19_clinical_sample.txt',sep='\\t|,', engine = 'python')"
   ]
  },
  {
   "cell_type": "code",
   "execution_count": null,
   "metadata": {},
   "outputs": [],
   "source": [
    "clinical_old = pd.read_csv('data/tpp_gp_clinical_subset.csv')"
   ]
  },
  {
   "cell_type": "code",
   "execution_count": null,
   "metadata": {
    "id": "miZ_7lEpyVOQ"
   },
   "outputs": [],
   "source": [
    "ic10 = pd.read_csv('data/ic10_lookup.csv')"
   ]
  },
  {
   "cell_type": "code",
   "execution_count": null,
   "metadata": {
    "id": "zyYSNBpnypUf"
   },
   "outputs": [],
   "source": [
    "GPic10 = pd.read_csv('data/GP_ic10_lookup.csv') "
   ]
  },
  {
   "cell_type": "code",
   "execution_count": null,
   "metadata": {},
   "outputs": [],
   "source": [
    "# need to import this file in slightly different way because of different delimiters\n",
    "scripts = pd.read_csv('data/covid19_prescriptions_sample.txt', sep='\\t|,', engine = 'python')"
   ]
  },
  {
   "cell_type": "code",
   "execution_count": null,
   "metadata": {
    "id": "t22iGaL-2oPK"
   },
   "outputs": [],
   "source": [
    "scripts_old = pd.read_csv('data/sample_covid19_tpp_gp_scripts.txt')"
   ]
  },
  {
   "cell_type": "code",
   "execution_count": null,
   "metadata": {},
   "outputs": [],
   "source": [
    "mortality = pd.read_csv('data/patients_data_death_sample.csv')"
   ]
  },
  {
   "cell_type": "code",
   "execution_count": null,
   "metadata": {},
   "outputs": [],
   "source": [
    "mortality_coding = pd.read_csv('data/patients_data_death_decoding.csv')"
   ]
  },
  {
   "cell_type": "markdown",
   "metadata": {},
   "source": [
    "have a look at the data"
   ]
  },
  {
   "cell_type": "code",
   "execution_count": null,
   "metadata": {
    "colab": {
     "base_uri": "https://localhost:8080/",
     "height": 424
    },
    "executionInfo": {
     "elapsed": 234,
     "status": "ok",
     "timestamp": 1635342695852,
     "user": {
      "displayName": "Monica Müller",
      "photoUrl": "https://lh3.googleusercontent.com/a/default-user=s64",
      "userId": "03925055125343928828"
     },
     "user_tz": -120
    },
    "id": "oxm0xq1GHyoj",
    "outputId": "7354f996-6569-4fd5-d6e6-0138e2f289c3"
   },
   "outputs": [],
   "source": [
    "# code.head()\n",
    "# CTV3 codes (used by GPs, in dataset clinical) and the corresponding disease and incidences\n",
    "# code can also be measurements, but will not be used by us"
   ]
  },
  {
   "cell_type": "code",
   "execution_count": null,
   "metadata": {
    "colab": {
     "base_uri": "https://localhost:8080/",
     "height": 424
    },
    "executionInfo": {
     "elapsed": 319,
     "status": "ok",
     "timestamp": 1635338237249,
     "user": {
      "displayName": "Monica Müller",
      "photoUrl": "https://lh3.googleusercontent.com/a/default-user=s64",
      "userId": "03925055125343928828"
     },
     "user_tz": -120
    },
    "id": "7svXJiX1F5PV",
    "outputId": "d5106cec-154c-46ed-8a33-e4764cd1b78d"
   },
   "outputs": [],
   "source": [
    "clinical\n",
    "# GP dataset from every patient\n",
    "# each line corresponds to one incident with a date (event_dt)\n",
    "# eid: patient number \n",
    "# code_type: ?\n",
    "# value: measured value of a test or whatever"
   ]
  },
  {
   "cell_type": "code",
   "execution_count": null,
   "metadata": {},
   "outputs": [],
   "source": [
    "clinical_old"
   ]
  },
  {
   "cell_type": "code",
   "execution_count": null,
   "metadata": {
    "colab": {
     "base_uri": "https://localhost:8080/",
     "height": 826
    },
    "executionInfo": {
     "elapsed": 8,
     "status": "ok",
     "timestamp": 1635338238489,
     "user": {
      "displayName": "Monica Müller",
      "photoUrl": "https://lh3.googleusercontent.com/a/default-user=s64",
      "userId": "03925055125343928828"
     },
     "user_tz": -120
    },
    "id": "e507eM28yt0Z",
    "outputId": "1d043f28-7538-4e32-ccf7-dc65e466f1f8"
   },
   "outputs": [],
   "source": [
    "ic10\n",
    "# description of ICD20 codes"
   ]
  },
  {
   "cell_type": "code",
   "execution_count": null,
   "metadata": {
    "colab": {
     "base_uri": "https://localhost:8080/",
     "height": 476
    },
    "executionInfo": {
     "elapsed": 11,
     "status": "ok",
     "timestamp": 1635338239808,
     "user": {
      "displayName": "Monica Müller",
      "photoUrl": "https://lh3.googleusercontent.com/a/default-user=s64",
      "userId": "03925055125343928828"
     },
     "user_tz": -120
    },
    "id": "QZo7OndFyvd_",
    "outputId": "78c836ec-1ff8-427f-baa7-52298ae33508"
   },
   "outputs": [],
   "source": [
    "GPic10\n",
    "#translates CTV3 codes (read_code) to ICD10 (icd10_code)"
   ]
  },
  {
   "cell_type": "code",
   "execution_count": null,
   "metadata": {
    "colab": {
     "base_uri": "https://localhost:8080/",
     "height": 424
    },
    "executionInfo": {
     "elapsed": 23,
     "status": "ok",
     "timestamp": 1635338241710,
     "user": {
      "displayName": "Monica Müller",
      "photoUrl": "https://lh3.googleusercontent.com/a/default-user=s64",
      "userId": "03925055125343928828"
     },
     "user_tz": -120
    },
    "id": "5xF6ZdG529rs",
    "outputId": "3fa90056-4ede-4317-f4ce-6382549004ca"
   },
   "outputs": [],
   "source": [
    "scripts\n",
    "# all medication patients got from their GP, incl. the COVID-19 vaccine \n",
    "# needs to be complete if want to compare vaccinated vs. non-vaccinated, but seems like not all vaccinations registered here but just the ones done by the GP"
   ]
  },
  {
   "cell_type": "code",
   "execution_count": null,
   "metadata": {},
   "outputs": [],
   "source": [
    "scripts_old"
   ]
  },
  {
   "cell_type": "code",
   "execution_count": null,
   "metadata": {
    "colab": {
     "base_uri": "https://localhost:8080/"
    },
    "executionInfo": {
     "elapsed": 231,
     "status": "ok",
     "timestamp": 1635173553779,
     "user": {
      "displayName": "Monica Müller",
      "photoUrl": "https://lh3.googleusercontent.com/a/default-user=s64",
      "userId": "03925055125343928828"
     },
     "user_tz": -120
    },
    "id": "_TBQXs1R7mHZ",
    "outputId": "9e496137-72d4-4792-9d4a-b182c8d9b791"
   },
   "outputs": [],
   "source": [
    "# get few individuals from large dataset -> may try to call only part of scripts dataset, where code == one of covid vaccine\n",
    "\n",
    "# try only to get lines from scripts dataset where dmd_code== a vaccine \n",
    "# use function read_csv. only where irgendwas\n",
    "\n",
    "print('lines in samplescripts: ', len(scripts))\n",
    "print('number of subjects in samplescripts: ', len(scripts['eid'].value_counts()))"
   ]
  },
  {
   "cell_type": "markdown",
   "metadata": {},
   "source": [
    "### Preparing the data"
   ]
  },
  {
   "cell_type": "markdown",
   "metadata": {},
   "source": [
    "#### Adding column with IC10 categories to clinical dataset for simpler analysis later on"
   ]
  },
  {
   "cell_type": "code",
   "execution_count": null,
   "metadata": {},
   "outputs": [],
   "source": [
    "# create a reduced dataset for merging with the clinical dataset \n",
    "GPic10_red =  GPic10[['read_code', 'icd10_code']]\n",
    "# rename to merge ont he ctv3 column with the clinical dataset\n",
    "GPic10_red = GPic10_red.rename(columns = {'read_code':'code'})\n",
    "GPic10_red.head()"
   ]
  },
  {
   "cell_type": "code",
   "execution_count": null,
   "metadata": {},
   "outputs": [],
   "source": [
    "clinical_ic10 = pd.merge(clinical, GPic10_red, how='inner', on='code')\n",
    "clinical_ic10"
   ]
  },
  {
   "cell_type": "markdown",
   "metadata": {},
   "source": [
    "#### Data Cleaning"
   ]
  },
  {
   "cell_type": "code",
   "execution_count": null,
   "metadata": {},
   "outputs": [],
   "source": [
    "# drop unnecessary columns\n",
    "clinical_ic10.drop(columns = ['code_type', 'value', 'Unnamed: 0'], inplace = True)\n",
    "clinical_ic10"
   ]
  },
  {
   "cell_type": "code",
   "execution_count": null,
   "metadata": {},
   "outputs": [],
   "source": [
    "pd.isnull(clinical_ic10).sum()\n",
    "# no NaN"
   ]
  },
  {
   "cell_type": "code",
   "execution_count": null,
   "metadata": {},
   "outputs": [],
   "source": [
    "pd.isnull(ic10).sum()"
   ]
  },
  {
   "cell_type": "code",
   "execution_count": null,
   "metadata": {},
   "outputs": [],
   "source": [
    "# remove duplicate entries in clinical dataset \n",
    "# (for other datasets, it should not be a problem)\n",
    "clinical_ic10.drop_duplicates(inplace = True) \n",
    "\n",
    "# remove NaN in selected column\n",
    "ic10.dropna(subset=['DESCRIPTION'], inplace = True)"
   ]
  },
  {
   "cell_type": "code",
   "execution_count": null,
   "metadata": {},
   "outputs": [],
   "source": [
    "pd.isnull(ic10).sum()"
   ]
  },
  {
   "cell_type": "code",
   "execution_count": null,
   "metadata": {},
   "outputs": [],
   "source": [
    "clinical_ic10"
   ]
  },
  {
   "cell_type": "code",
   "execution_count": null,
   "metadata": {},
   "outputs": [],
   "source": [
    "type(('O','P','S','T','U','V','W','X','Y','Z'))"
   ]
  },
  {
   "cell_type": "code",
   "execution_count": null,
   "metadata": {},
   "outputs": [],
   "source": [
    "# remove not considered clinical events in the clinical dataset (e.g. external factors)\n",
    "\n",
    "\"\"\"\"\n",
    "Monica's suggestions: \n",
    "remove O-Z (pregnancy, congenital, others, COVID-19, external causes, factors)\n",
    "maybe keep Q (congenital) as underlying disease, keep all others\n",
    "\n",
    "Renée:\n",
    "I would also keep R in there: \"In general, categories in this chapter include the less well-defined conditions and symptoms that, without the necessary study of the case to establish a final diagnosis, point perhaps equally to two or more diseases or to two or more systems of the body.\n",
    "\n",
    "Decision:\n",
    "O-Z remove, but leave R as adverse event & Q as underlying disease.\n",
    "\n",
    "\"\"\"\n",
    "\n",
    "# tuple of categories we do not consider as adverse event or underlying disease:\n",
    "# the ones starting with O-Z (except Q and R)\n",
    "exclude = ('O','P','S','T','U','V','W','X','Y','Z')\n",
    "\n",
    "# broadcasting the clinical dataset for all icd codes except those we exclude\n",
    "clinical_ic10 = clinical_ic10[~clinical_ic10['icd10_code'].astype(str).str.startswith(exclude)]\n",
    "clinical_ic10"
   ]
  },
  {
   "cell_type": "markdown",
   "metadata": {},
   "source": [
    "#### Rename columns of mortality dataframe"
   ]
  },
  {
   "cell_type": "code",
   "execution_count": null,
   "metadata": {},
   "outputs": [],
   "execution_count": null,
   "metadata": {},
   "outputs": [],
   "source": [
    "scripts_old"
   ]
  },
  {
   "cell_type": "code",
   "execution_count": null,
   "metadata": {
    "colab": {
     "base_uri": "https://localhost:8080/"
    },
    "executionInfo": {
     "elapsed": 231,
     "status": "ok",
     "timestamp": 1635173553779,
     "user": {
      "displayName": "Monica Müller",
      "photoUrl": "https://lh3.googleusercontent.com/a/default-user=s64",
      "userId": "03925055125343928828"
     },
     "user_tz": -120
    },
    "id": "_TBQXs1R7mHZ",
    "outputId": "9e496137-72d4-4792-9d4a-b182c8d9b791"
   },
   "outputs": [],
   "source": [
    "# get few individuals from large dataset -> may try to call only part of scripts dataset, where code == one of covid vaccine\n",
    "\n",
    "# try only to get lines from scripts dataset where dmd_code== a vaccine \n",
    "# use function read_csv. only where irgendwas\n",
    "\n",
    "print('lines in samplescripts: ', len(scripts))\n",
    "print('number of subjects in samplescripts: ', len(scripts['eid'].value_counts()))"
   ]
  },
  {
   "cell_type": "markdown",
   "metadata": {},
   "source": [
    "### Preparing the data"
   ]
  },
  {
   "cell_type": "markdown",
   "metadata": {},
   "source": [
    "#### Adding column with IC10 categories to clinical dataset for simpler analysis later on"
   ]
  },
  {
   "cell_type": "code",
   "execution_count": null,
   "metadata": {},
   "outputs": [],
   "source": [
    "# create a reduced dataset for merging with the clinical dataset \n",
    "GPic10_red =  GPic10[['read_code', 'icd10_code']]\n",
    "# rename to merge ont he ctv3 column with the clinical dataset\n",
    "GPic10_red = GPic10_red.rename(columns = {'read_code':'code'})\n",
    "GPic10_red.head()"
   ]
  },
  {
   "cell_type": "code",
   "execution_count": null,
   "metadata": {},
   "outputs": [],
   "source": [
    "clinical_ic10 = pd.merge(clinical, GPic10_red, how='inner', on='code')\n",
    "clinical_ic10"
   ]
  },
  {
   "cell_type": "markdown",
   "metadata": {},
   "source": [
    "#### Data Cleaning"
   ]
  },
  {
   "cell_type": "code",
   "execution_count": null,
   "metadata": {},
   "outputs": [],
   "source": [
    "# drop unnecessary columns\n",
    "clinical_ic10.drop(columns = ['code_type', 'value', 'Unnamed: 0'], inplace = True)\n",
    "clinical_ic10"
   ]
  },
  {
   "cell_type": "code",
   "execution_count": null,
   "metadata": {},
   "outputs": [],
   "source": [
    "pd.isnull(clinical_ic10).sum()\n",
    "# no NaN"
   ]
  },
  {
   "cell_type": "code",
   "execution_count": null,
   "metadata": {},
   "outputs": [],
   "source": [
    "pd.isnull(ic10).sum()"
   ]
  },
  {
   "cell_type": "code",
   "execution_count": null,
   "metadata": {},
   "outputs": [],
   "source": [
    "# remove duplicate entries in clinical dataset \n",
    "# (for other datasets, it should not be a problem)\n",
    "clinical_ic10.drop_duplicates(inplace = True) \n",
    "\n",
    "# remove NaN in selected column\n",
    "ic10.dropna(subset=['DESCRIPTION'], inplace = True)"
   ]
  },
  {
   "cell_type": "code",
   "execution_count": null,
   "metadata": {},
   "outputs": [],
   "source": [
    "pd.isnull(ic10).sum()"
   ]
  },
  {
   "cell_type": "code",
   "execution_count": null,
   "metadata": {},
   "outputs": [],
   "source": [
    "clinical_ic10"
   ]
  },
  {
   "cell_type": "code",
   "execution_count": null,
   "metadata": {},
   "outputs": [],
   "source": [
    "type(('O','P','S','T','U','V','W','X','Y','Z'))"
   ]
  },
  {
   "cell_type": "code",
   "execution_count": null,
   "metadata": {},
   "outputs": [],
   "source": [
    "# remove not considered clinical events in the clinical dataset (e.g. external factors)\n",
    "\n",
    "\"\"\"\"\n",
    "Monica's suggestions: \n",
    "remove O-Z (pregnancy, congenital, others, COVID-19, external causes, factors)\n",
    "maybe keep Q (congenital) as underlying disease, keep all others\n",
    "\n",
    "Renée:\n",
    "I would also keep R in there: \"In general, categories in this chapter include the less well-defined conditions and symptoms that, without the necessary study of the case to establish a final diagnosis, point perhaps equally to two or more diseases or to two or more systems of the body.\n",
    "\n",
    "Decision:\n",
    "O-Z remove, but leave R as adverse event & Q as underlying disease.\n",
    "\n",
    "\"\"\"\n",
    "\n",
    "# tuple of categories we do not consider as adverse event or underlying disease:\n",
    "# the ones starting with O-Z (except Q and R)\n",
    "exclude = ('O','P','S','T','U','V','W','X','Y','Z')\n",
    "\n",
    "# broadcasting the clinical dataset for all icd codes except those we exclude\n",
    "clinical_ic10 = clinical_ic10[~clinical_ic10['icd10_code'].str.startswith(exclude)]\n",
    "clinical_ic10"
   ]
  },
  {
   "cell_type": "markdown",
   "metadata": {},
   "source": [
    "#### Rename columns of mortality dataframe"
   ]
  },
  {
   "cell_type": "code",
   "execution_count": null,
   "metadata": {},
   "outputs": [
    {
     "data": {
      "text/html": [
       "<div>\n",
       "<style scoped>\n",
       "    .dataframe tbody tr th:only-of-type {\n",
       "        vertical-align: middle;\n",
       "    }\n",
       "\n",
       "    .dataframe tbody tr th {\n",
       "        vertical-align: top;\n",
       "    }\n",
       "\n",
       "    .dataframe thead th {\n",
       "        text-align: right;\n",
       "    }\n",
       "</style>\n",
       "<table border=\"1\" class=\"dataframe\">\n",
       "  <thead>\n",
       "    <tr style=\"text-align: right;\">\n",
       "      <th></th>\n",
       "      <th>Unnamed: 0</th>\n",
       "      <th>eid</th>\n",
       "      <th>31-0.0</th>\n",
       "      <th>34-0.0</th>\n",
       "      <th>52-0.0</th>\n",
       "      <th>53-0.0</th>\n",
       "      <th>21001-0.0</th>\n",
       "      <th>21022-0.0</th>\n",
       "      <th>40000-0.0</th>\n",
       "      <th>40001-0.0</th>\n",
       "      <th>40001-1.0</th>\n",
       "      <th>40007-0.0</th>\n",
       "    </tr>\n",
       "  </thead>\n",
       "  <tbody>\n",
       "    <tr>\n",
       "      <th>0</th>\n",
       "      <td>334517</td>\n",
       "      <td>4345610</td>\n",
       "      <td>1.0</td>\n",
       "      <td>1940.0</td>\n",
       "      <td>2.0</td>\n",
       "      <td>2009-09-17</td>\n",
       "      <td>28.4091</td>\n",
       "      <td>69.0</td>\n",
       "      <td>NaN</td>\n",
       "      <td>NaN</td>\n",
       "      <td>NaN</td>\n",
       "      <td>NaN</td>\n",
       "    </tr>\n",
       "    <tr>\n",
       "      <th>1</th>\n",
       "      <td>297000</td>\n",
       "      <td>3970369</td>\n",
       "      <td>1.0</td>\n",
       "      <td>1949.0</td>\n",
       "      <td>12.0</td>\n",
       "      <td>2008-04-18</td>\n",
       "      <td>26.1106</td>\n",
       "      <td>58.0</td>\n",
       "      <td>NaN</td>\n",
       "      <td>NaN</td>\n",
       "      <td>NaN</td>\n",
       "      <td>NaN</td>\n",
       "    </tr>\n",
       "    <tr>\n",
       "      <th>2</th>\n",
       "      <td>260822</td>\n",
       "      <td>3608558</td>\n",
       "      <td>1.0</td>\n",
       "      <td>1943.0</td>\n",
       "      <td>2.0</td>\n",
       "      <td>2010-02-26</td>\n",
       "      <td>27.4614</td>\n",
       "      <td>67.0</td>\n",
       "      <td>NaN</td>\n",
       "      <td>NaN</td>\n",
       "      <td>NaN</td>\n",
       "      <td>NaN</td>\n",
       "    </tr>\n",
       "    <tr>\n",
       "      <th>3</th>\n",
       "      <td>245361</td>\n",
       "      <td>3453904</td>\n",
       "      <td>0.0</td>\n",
       "      <td>1957.0</td>\n",
       "      <td>8.0</td>\n",
       "      <td>2010-03-19</td>\n",
       "      <td>29.3199</td>\n",
       "      <td>52.0</td>\n",
       "      <td>NaN</td>\n",
       "      <td>NaN</td>\n",
       "      <td>NaN</td>\n",
       "      <td>NaN</td>\n",
       "    </tr>\n",
       "    <tr>\n",
       "      <th>4</th>\n",
       "      <td>25616</td>\n",
       "      <td>1256219</td>\n",
       "      <td>1.0</td>\n",
       "      <td>1959.0</td>\n",
       "      <td>7.0</td>\n",
       "      <td>2008-12-20</td>\n",
       "      <td>32.7859</td>\n",
       "      <td>49.0</td>\n",
       "      <td>NaN</td>\n",
       "      <td>NaN</td>\n",
       "      <td>NaN</td>\n",
       "      <td>NaN</td>\n",
       "    </tr>\n",
       "  </tbody>\n",
       "</table>\n",
       "</div>"
      ],
      "text/plain": [
       "   Unnamed: 0      eid  31-0.0  34-0.0  52-0.0      53-0.0  21001-0.0  \\\n",
       "0      334517  4345610     1.0  1940.0     2.0  2009-09-17    28.4091   \n",
       "1      297000  3970369     1.0  1949.0    12.0  2008-04-18    26.1106   \n",
       "2      260822  3608558     1.0  1943.0     2.0  2010-02-26    27.4614   \n",
       "3      245361  3453904     0.0  1957.0     8.0  2010-03-19    29.3199   \n",
       "4       25616  1256219     1.0  1959.0     7.0  2008-12-20    32.7859   \n",
       "\n",
       "   21022-0.0 40000-0.0 40001-0.0 40001-1.0  40007-0.0  \n",
       "0       69.0       NaN       NaN       NaN        NaN  \n",
       "1       58.0       NaN       NaN       NaN        NaN  \n",
       "2       67.0       NaN       NaN       NaN        NaN  \n",
       "3       52.0       NaN       NaN       NaN        NaN  \n",
       "4       49.0       NaN       NaN       NaN        NaN  "
      ]
     },
     "execution_count": 31,
     "metadata": {},
     "output_type": "execute_result"
    }
   ],
   "source": [
    "mortality.head()"
   ]
  },
  {
   "cell_type": "code",
   "execution_count": 32,
   "metadata": {},
   "outputs": [
    {
     "data": {
      "text/html": [
       "<div>\n",
       "<style scoped>\n",
       "    .dataframe tbody tr th:only-of-type {\n",
       "        vertical-align: middle;\n",
       "    }\n",
       "\n",
       "    .dataframe tbody tr th {\n",
       "        vertical-align: top;\n",
       "    }\n",
       "\n",
       "    .dataframe thead th {\n",
       "        text-align: right;\n",
       "    }\n",
       "</style>\n",
       "<table border=\"1\" class=\"dataframe\">\n",
       "  <thead>\n",
       "    <tr style=\"text-align: right;\">\n",
       "      <th></th>\n",
       "      <th>Unnamed: 0</th>\n",
       "      <th>description</th>\n",
       "    </tr>\n",
       "  </thead>\n",
       "  <tbody>\n",
       "    <tr>\n",
       "      <th>0</th>\n",
       "      <td>eid</td>\n",
       "      <td>PatientID</td>\n",
       "    </tr>\n",
       "    <tr>\n",
       "      <th>1</th>\n",
       "      <td>21022-0.0</td>\n",
       "      <td>AgeRecruit</td>\n",
       "    </tr>\n",
       "    <tr>\n",
       "      <th>2</th>\n",
       "      <td>53-0.0</td>\n",
       "      <td>DateRecruit</td>\n",
       "    </tr>\n",
       "    <tr>\n",
       "      <th>3</th>\n",
       "      <td>34-0.0</td>\n",
       "      <td>YearBirth</td>\n",
       "    </tr>\n",
       "    <tr>\n",
       "      <th>4</th>\n",
       "      <td>52-0.0</td>\n",
       "      <td>MonthBirth</td>\n",
       "    </tr>\n",
       "    <tr>\n",
       "      <th>5</th>\n",
       "      <td>40007-0.0</td>\n",
       "      <td>AgeDeath</td>\n",
       "    </tr>\n",
       "    <tr>\n",
       "      <th>6</th>\n",
       "      <td>40000-0.0</td>\n",
       "      <td>DateDeath</td>\n",
       "    </tr>\n",
       "    <tr>\n",
       "      <th>7</th>\n",
       "      <td>31-0.0</td>\n",
       "      <td>Sex</td>\n",
       "    </tr>\n",
       "    <tr>\n",
       "      <th>8</th>\n",
       "      <td>21001-0.0</td>\n",
       "      <td>BMI</td>\n",
       "    </tr>\n",
       "    <tr>\n",
       "      <th>9</th>\n",
       "      <td>40001-0.0</td>\n",
       "      <td>cause of death 1</td>\n",
       "    </tr>\n",
       "    <tr>\n",
       "      <th>10</th>\n",
       "      <td>40001-1.0</td>\n",
       "      <td>cause of death 2</td>\n",
       "    </tr>\n",
       "  </tbody>\n",
       "</table>\n",
       "</div>"
      ],
      "text/plain": [
       "   Unnamed: 0       description\n",
       "0         eid         PatientID\n",
       "1   21022-0.0        AgeRecruit\n",
       "2      53-0.0       DateRecruit\n",
       "3      34-0.0         YearBirth\n",
       "4      52-0.0        MonthBirth\n",
       "5   40007-0.0          AgeDeath\n",
       "6   40000-0.0         DateDeath\n",
       "7      31-0.0               Sex\n",
       "8   21001-0.0               BMI\n",
       "9   40001-0.0  cause of death 1\n",
       "10  40001-1.0  cause of death 2"
      ]
     },
     "execution_count": 32,
     "metadata": {},
     "output_type": "execute_result"
    }
   ],
   "source": [
    "mortality_coding"
   ]
  },
  {
   "cell_type": "code",
   "execution_count": null,
   "metadata": {},
   "outputs": [],
   "source": [
    "# make a dictionary out of the mortality_coding dataframe \n",
    "dict_columns = {}\n",
    "for index, value in enumerate(mortality_coding['Unnamed: 0']):\n",
    "  dict_columns[value] = mortality_coding.loc[index, \"description\"]"
   ]
  },
  {
   "cell_type": "code",
   "execution_count": null,
   "metadata": {},
   "outputs": [],
   "source": [
    "mortality.rename(columns = dict_columns, inplace = True) # columns = a dictionary will automatically rename the columns\n",
    "mortality['DateDeath'].isna().sum()\n",
    "# mortality['DateDeath'].value_counts()\n"
   ]
  },
  {
   "cell_type": "code",
   "execution_count": null,
   "metadata": {},
   "outputs": [],
   "source": [
    "mortality"
   ]
  },
  {
   "cell_type": "markdown",
   "metadata": {
    "id": "bnqkYcgP6ayP"
   },
   "source": [
    "## Find who is vaccinated"
   ]
  },
  {
   "cell_type": "markdown",
   "metadata": {},
   "source": [
    "The meaning of the SNOMED codes ('dmd_code' in the 'scripts' dataset, where medications that the patients got are listed) were found on: https://services.nhsbsa.nhs.uk/dmd-browser/amp/view/159421?ref=YW1wTmFtZT1jb3ZpZCZzZWFyY2hUeXBlPUFNUCZzaG93SW52YWxpZEl0ZW1zPWZhbHNl#ampCodes\n",
    "\n",
    "Each vaccine has a specific code."
   ]
  },
  {
   "cell_type": "code",
   "execution_count": null,
   "metadata": {
    "colab": {
     "base_uri": "https://localhost:8080/",
     "height": 771
    },
    "executionInfo": {
     "elapsed": 324,
     "status": "ok",
     "timestamp": 1635172302951,
     "user": {
      "displayName": "Monica Müller",
      "photoUrl": "https://lh3.googleusercontent.com/a/default-user=s64",
      "userId": "03925055125343928828"
     },
     "user_tz": -120
    },
    "id": "rl78RX5p3Bbv",
    "outputId": "1a24e2b3-7296-4af9-b1e4-ad9df994137d"
   },
   "outputs": [],
   "source": [
    "# broadcasting to find individuals with AstraZEneca vaccine\n",
    "mask_AZ = scripts['dmd_code']== 39114911000001105\n",
    "scripts[mask_AZ].head()"
   ]
  },
  {
   "cell_type": "code",
   "execution_count": null,
   "metadata": {
    "colab": {
     "base_uri": "https://localhost:8080/",
     "height": 771
    },
    "executionInfo": {
     "elapsed": 321,
     "status": "ok",
     "timestamp": 1635338339030,
     "user": {
      "displayName": "Monica Müller",
      "photoUrl": "https://lh3.googleusercontent.com/a/default-user=s64",
      "userId": "03925055125343928828"
     },
     "user_tz": -120
    },
    "id": "Kr2whtVZ4Skz",
    "outputId": "a664936a-ae12-43d4-b826-dddda27225ab"
   },
   "outputs": [],
   "source": [
    "# getting IDs of individuals with any corona vaccine first (compare vaccinates vs. not)\n",
    "# may look at effects of specific vaccines later\n",
    "dict_vac = {39326911000001101: 'Moderna', 39230211000001104: 'Janssen', \\\n",
    "            39826711000001101:'Medicago', 39473011000001103: 'Baxter', \\\n",
    "            39114911000001105: 'AstraZeneca', 39115611000001103: 'Pfizer',\\\n",
    "            39373511000001104: 'Valneva'}\n",
    "\n",
    "for dmd_code in dict_vac:\n",
    "    mask_vac = scripts['dmd_code']== dmd_code\n",
    "    print(dict_vac[dmd_code], ':',len(scripts[mask_vac]))"
   ]
  },
  {
   "cell_type": "code",
   "execution_count": null,
   "metadata": {},
   "outputs": [],
   "source": [
    "# mask for any vaccine\n",
    "mask_vac = scripts['dmd_code'].isin(dict_vac)\n",
    "\n",
    "# number of vaccinated people\n",
    "print('Number of vaccinated people:', len(scripts[mask_vac]))"
   ]
  },
  {
   "cell_type": "code",
   "execution_count": null,
   "metadata": {
    "id": "nqF2wFkwyNZ0"
   },
   "outputs": [],
   "source": [
    "# finding eids of vaccinated people in the dataset\n",
    "id_vac = scripts[mask_vac]['eid'] \n",
    "id_vac"
   ]
  },
  {
   "cell_type": "code",
   "execution_count": null,
   "metadata": {
    "colab": {
     "base_uri": "https://localhost:8080/",
     "height": 394
    },
    "executionInfo": {
     "elapsed": 249,
     "status": "ok",
     "timestamp": 1635338889565,
     "user": {
      "displayName": "Monica Müller",
      "photoUrl": "https://lh3.googleusercontent.com/a/default-user=s64",
      "userId": "03925055125343928828"
     },
     "user_tz": -120
    },
    "id": "FRWu7mlIyoR7",
    "outputId": "7be7068c-fd1b-4b83-910c-e6e020beab65",
    "scrolled": false
   },
   "outputs": [],
   "source": [
    "# finding events of the vaccinated people, but only events before vaccination found \n",
    "# -> may need a more recent dataset\n",
    "# need to separate clinical events before & after vaccine\n",
    "mask_vac_clin = clinical_ic10['eid'].isin(id_vac)\n",
    "clinical_ic10[mask_vac_clin] "
   ]
  },
  {
   "cell_type": "markdown",
   "metadata": {},
   "source": [
    "# categorize event as before or after COVID-19 vaccination / random date "
   ]
  },
  {
   "cell_type": "markdown",
   "metadata": {},
   "source": [
    "### make 'event_date' in 'clinical' be interpreted as a date"
   ]
  },
  {
   "cell_type": "code",
   "execution_count": null,
   "metadata": {
    "scrolled": true
   },
   "outputs": [],
   "source": [
    "clinical_ic10.head(10)"
   ]
  },
  {
   "cell_type": "code",
   "execution_count": null,
   "metadata": {},
   "outputs": [],
   "source": [
    "from datetime import datetime, timedelta"
   ]
  },
  {
   "cell_type": "markdown",
   "metadata": {},
   "source": [
    "### only to understand the function, can be deleted later"
   ]
  },
  {
   "cell_type": "code",
   "execution_count": null,
   "metadata": {},
   "outputs": [],
   "source": [
    "clinical_ic10['event_dt'].unique()\n",
    "# find out if the other dates are e.g. 06/01/2020 or 6/1/2020"
   ]
  },
  {
   "cell_type": "code",
   "execution_count": null,
   "metadata": {
    "scrolled": true
   },
   "outputs": [],
   "source": [
    "example_date = clinical_ic10['event_dt'].unique()[0]"
   ]
  },
  {
   "cell_type": "code",
   "execution_count": null,
   "metadata": {},
   "outputs": [],
   "source": [
    "example_date_new = datetime.strptime(example_date, '%d/%m/%Y')\n",
    "example_date_new #2020"
   ]
  },
  {
   "cell_type": "code",
   "execution_count": null,
   "metadata": {},
   "outputs": [],
   "source": [
    "example_date_2 = clinical_ic10['event_dt'].unique()[1]\n",
    "example_date_2 "
   ]
  },
  {
   "cell_type": "code",
   "execution_count": null,
   "metadata": {},
   "outputs": [],
   "source": [
    "example_date_2_new = datetime.strptime(example_date_2, '%d/%m/%Y')\n",
    "example_date_2_new #2019"
   ]
  },
  {
   "cell_type": "code",
   "execution_count": null,
   "metadata": {},
   "outputs": [],
   "source": [
    "# compare the 2 dates\n",
    "example_date_new > example_date_2_new # 2020 > 2019 --> True\n",
    "# recent > older --> True"
   ]
  },
  {
   "cell_type": "markdown",
   "metadata": {},
   "source": [
    "### convert the column into datetime object"
   ]
  },
  {
   "cell_type": "code",
   "execution_count": null,
   "metadata": {},
   "outputs": [],
   "source": [
    "# convert entire event_dt in datetime format\n",
    "clinical_ic10['event_date_format'] = pd.to_datetime(clinical_ic10['event_dt'])\n",
    "clinical_ic10"
   ]
  },
  {
   "cell_type": "code",
   "execution_count": null,
   "metadata": {},
   "outputs": [],
   "source": [
    "# checking the date range\n",
    "clinical_ic10.sort_values(by = 'event_date_format', ascending = False)"
   ]
  },
  {
   "cell_type": "code",
   "execution_count": null,
   "metadata": {},
   "outputs": [],
   "source": [
    "# only to understand the function, can be deleted later!!\n",
    "# compare 2 dates (first row and last row) from the new column \n",
    "\n",
    "print(clinical_ic10['event_date_format'].iloc[-1]) # 2019\n",
    "print(clinical_ic10['event_date_format'].iloc[0]) # 2020\n",
    "clinical_ic10['event_date_format'].iloc[0] > clinical_ic10['event_date_format'].iloc[-1]"
   ]
  },
  {
   "cell_type": "markdown",
   "metadata": {},
   "source": [
    "### subset 'scripts' to only those patients (eid) that got the COVID-19 vaccine and drop 'Unnamed: 0' column"
   ]
  },
  {
   "cell_type": "code",
   "execution_count": null,
   "metadata": {},
   "outputs": [],
   "source": [
    "scripts.drop(columns = ['Unnamed: 0'], inplace = True)\n",
    "mask_scripts_vac = scripts['dmd_code'].isin(dict_vac)\n",
    "scripts_vaccines_only = scripts[mask_scripts_vac] \n",
    "\n",
    "len(scripts[mask_scripts_vac]) # corresponds to finding above"
   ]
  },
  {
   "cell_type": "code",
   "execution_count": null,
   "metadata": {
    "scrolled": false
   },
   "outputs": [],
   "source": [
    "scripts_vaccines_only.head() # contains eid and date of vaccination"
   ]
  },
  {
   "cell_type": "code",
   "execution_count": null,
   "metadata": {
    "scrolled": true
   },
   "outputs": [],
   "source": [
    "# gives warning (same as before, should maybe be checked!)\n",
    "scripts_vaccines_only['issue_date_format'] = pd.to_datetime(scripts_vaccines_only['issue_date'])\n"
   ]
  },
  {
   "cell_type": "code",
   "execution_count": null,
   "metadata": {},
   "outputs": [],
   "source": [
    "scripts_vaccines_only"
   ]
  },
  {
   "cell_type": "code",
   "execution_count": null,
   "metadata": {},
   "outputs": [],
   "source": [
    "clinical_ic10.head()\n",
    "# length: 4156\n",
    "#len(clinical_ic10['eid'].unique()) # some eid are in there multiple times (of course)"
   ]
  },
  {
   "cell_type": "markdown",
   "metadata": {},
   "source": [
    "### adding deaths to clinical_ic10 df so they can be treated as adverse events in first analysis (?)"
   ]
  },
  {
   "cell_type": "code",
   "execution_count": null,
   "metadata": {},
   "outputs": [],
   "source": [
    "# subset mortality df to the eids with a deathdate that is not NaN\n",
    "mortality_sub = mortality.dropna(subset=['DateDeath'])\n",
    "# drop all the unnecessary columns (also drop age and sex, perhaps no time to analyse this), keep eid, deathdate, cause\n",
    "mortality_sub.drop(columns = ['Unnamed: 0', 'Sex', 'YearBirth', 'MonthBirth', 'DateRecruit', 'BMI', 'AgeDeath'], inplace = True)\n",
    "# rename column 'PatientID' to 'eid' and 'DateDeath' to 'issue_date_format'\n",
    "mortality_sub.rename(columns = {'PatientID':'eid', 'DateDeath':'event_date_format'}, inplace = True)"
   ]
  },
  {
   "cell_type": "code",
   "execution_count": null,
   "metadata": {
    "scrolled": true
   },
   "outputs": [],
   "source": [
    "# add column 'icd10_code' to mortality, filled with string 'death'\n",
    "mortality_sub['icd10_code'] = pd.Series([\"death\" for x in range(len(mortality.index))])\n"
   ]
  },
  {
   "cell_type": "code",
   "execution_count": null,
   "metadata": {},
   "outputs": [],
   "source": [
    "# make 'DateDeath' datetime type\n",
    "mortality_sub['event_date_format'] = pd.to_datetime(mortality_sub['event_date_format'])\n"
   ]
  },
  {
   "cell_type": "code",
   "execution_count": null,
   "metadata": {},
   "outputs": [],
   "source": [
    "mortality_sub"
   ]
  },
  {
   "cell_type": "code",
   "execution_count": null,
   "metadata": {},
   "outputs": [],
   "source": [
    "# now join it to the clinical_vac\n",
    "clinical_ic10= pd.concat([clinical_ic10, mortality_sub], join = 'outer')\n"
   ]
  },
  {
   "cell_type": "code",
   "execution_count": null,
   "metadata": {},
   "outputs": [],
   "source": [
    "clinical_ic10"
   ]
  },
  {
   "cell_type": "markdown",
   "metadata": {},
   "source": [
    "### add a column with the date of vaccination to clinical_ic10 and drop event_dt and issue_date"
   ]
  },
  {
   "cell_type": "code",
   "execution_count": null,
   "metadata": {},
   "outputs": [],
   "source": [
    "# merge clinical_ic10 and scripts_vaccines_only to add the issue_date (date of vaccine) to the df\n",
    "clinical_vac = pd.merge(clinical_ic10, scripts_vaccines_only, how ='outer', on ='eid')"
   ]
  },
  {
   "cell_type": "code",
   "execution_count": null,
   "metadata": {},
   "outputs": [],
   "source": [
    "# convert issue date to date format\n",
    "# clinical_vac['issue_date_format'] = pd.to_datetime(clinical_vac['issue_date'])\n",
    "# renée: I guess it's safer, since the dtype is 'datetime64' in the new column and 'object' in the old one:\n",
    "# print(clinical_vac['issue_date']) \n",
    "# print(clinical_vac['issue_date_format'])"
   ]
  },
  {
   "cell_type": "code",
   "execution_count": null,
   "metadata": {},
   "outputs": [],
   "source": [
    "# drop event_dt and issue_date\n",
    "clinical_vac.drop(columns = ['event_dt', 'issue_date'], inplace = True)"
   ]
  },
  {
   "cell_type": "code",
   "execution_count": null,
   "metadata": {},
   "outputs": [],
   "source": [
    "len(clinical_vac) \n",
    "# total amounts of events: vaccinations and medical events from clinical_ic10"
   ]
  },
  {
   "cell_type": "code",
   "execution_count": null,
   "metadata": {
    "scrolled": true
   },
   "outputs": [],
   "source": [
    "clinical_vac"
   ]
  },
  {
   "cell_type": "code",
   "execution_count": null,
   "metadata": {},
   "outputs": [],
   "source": [
    "clinical_vac['issue_date_format'].isna().sum()"
   ]
  },
  {
   "cell_type": "markdown",
   "metadata": {},
   "source": [
    "### add column in clinical_vac that says whether a patient is vaccinated or not"
   ]
  },
  {
   "cell_type": "code",
   "execution_count": null,
   "metadata": {},
   "outputs": [],
   "source": [
    "mask_vaccinated = clinical_vac['eid'].isin(id_vac)\n",
    "clinical_vac['vaccinated'] = mask_vaccinated\n",
    "\n",
    "# check how many events of vaccinated people there are\n",
    "clinical_vac['vaccinated'].value_counts()\n",
    "\n",
    "# clinical_ic10['eid'].loc[clinical_ic10['vaccinated']==True]"
   ]
  },
  {
   "cell_type": "code",
   "execution_count": null,
   "metadata": {},
   "outputs": [],
   "source": [
    "clinical_vac \n",
    "# 133029 events\n",
    "# rows with event_dt=NaN: vaccinated eids without medical events -> maybe rename it"
   ]
  },
  {
   "cell_type": "markdown",
   "metadata": {},
   "source": [
    "### add random issue date to events of unvaccinated patients to 'issue_date_format'  in clinical_vac "
   ]
  },
  {
   "cell_type": "code",
   "execution_count": null,
   "metadata": {},
   "outputs": [],
   "source": [
    "# make list from 'issue_date' in scripts_vaccines_only\n",
    "issue_dates = scripts_vaccines_only['issue_date_format'].tolist()\n",
    "issue_dates"
   ]
  },
  {
   "cell_type": "code",
   "execution_count": null,
   "metadata": {},
   "outputs": [],
   "source": [
    "# 'eid' of unvaccinated people\n",
    "id_nvac = clinical_vac[clinical_vac['vaccinated']==False]['eid'].unique()\n",
    "len(id_nvac)"
   ]
  },
  {
   "cell_type": "code",
   "execution_count": null,
   "metadata": {},
   "outputs": [],
   "source": [
    "# create list of new dates\n",
    "issue_dt_random = random.choices(issue_dates, k = len(id_nvac))\n",
    "len(issue_dt_random)"
   ]
  },
  {
   "cell_type": "code",
   "execution_count": null,
   "metadata": {},
   "outputs": [],
   "source": [
    "# make dictionary with random issue dates and unvaccinated eid\n",
    "dict_nvac = dict(zip(id_nvac,issue_dt_random))\n",
    "len(dict_nvac)"
   ]
  },
  {
   "cell_type": "code",
   "execution_count": null,
   "metadata": {},
   "outputs": [],
   "source": [
    "# fill na with mapping from the dictionary\n",
    "clinical_vac['issue_date_format'] = clinical_vac['issue_date_format'].fillna(clinical_vac['eid'].map(dict_nvac))"
   ]
  },
  {
   "cell_type": "code",
   "execution_count": null,
   "metadata": {},
   "outputs": [],
   "source": [
    "clinical_vac['issue_date_format'][clinical_vac['vaccinated']==True].unique()"
   ]
  },
  {
   "cell_type": "code",
   "execution_count": null,
   "metadata": {},
   "outputs": [],
   "source": [
    "clinical_vac['issue_date_format'][clinical_vac['vaccinated']==False].unique()"
   ]
  },
  {
   "cell_type": "code",
   "execution_count": null,
   "metadata": {},
   "outputs": [],
   "source": [
    "clinical_vac[clinical_vac['vaccinated'] == False]"
   ]
  },
  {
   "cell_type": "code",
   "execution_count": null,
   "metadata": {},
   "outputs": [],
   "source": [
    "clinical_vac['issue_date_format'].isna().sum()"
   ]
  },
  {
   "cell_type": "markdown",
   "metadata": {},
   "source": [
    "### add a column where it says if the event (event_date_format) was before or after the vaccination (issue_date)"
   ]
  },
  {
   "cell_type": "code",
   "execution_count": null,
   "metadata": {},
   "outputs": [],
   "source": [
    "before_after_vaccine = []\n",
    "for i in range (len(clinical_vac)):\n",
    "    if clinical_vac['event_date_format'].iloc[i] >= clinical_vac['issue_date_format'].iloc[i]:\n",
    "        before_after_vaccine.append('after')\n",
    "    else:\n",
    "        before_after_vaccine.append('before')\n",
    "clinical_vac['before_after_vaccine'] = before_after_vaccine"
   ]
  },
  {
   "cell_type": "code",
   "execution_count": null,
   "metadata": {},
   "outputs": [],
   "source": [
    "clinical_vac"
   ]
  },
  {
   "cell_type": "code",
   "execution_count": null,
   "metadata": {
    "scrolled": true
   },
   "outputs": [],
   "source": [
    "# checking how many events before and after\n",
    "clinical_vac['before_after_vaccine'].value_counts()\n",
    "\n",
    "# if event_date_format is NaT, is says before in 'before_after_vaccine'"
   ]
  },
  {
   "cell_type": "markdown",
   "metadata": {
    "id": "rEjo9un76oVk"
   },
   "source": [
    "# Analysing clinical events"
   ]
  },
  {
   "cell_type": "markdown",
   "metadata": {
    "id": "7Bw4hTHD2Rg8"
   },
   "source": [
    "IC10 codes are structured. The following website was used for looking up the meanings of the categories (e.g. respiratory diseases):\n",
    "https://www.icd10data.com/ICD10CM/Codes"
   ]
  },
  {
   "cell_type": "code",
   "execution_count": null,
   "metadata": {
    "colab": {
     "base_uri": "https://localhost:8080/",
     "height": 826
    },
    "executionInfo": {
     "elapsed": 317,
     "status": "ok",
     "timestamp": 1635339679533,
     "user": {
      "displayName": "Monica Müller",
      "photoUrl": "https://lh3.googleusercontent.com/a/default-user=s64",
      "userId": "03925055125343928828"
     },
     "user_tz": -120
    },
    "id": "ahuA6Bm81vuv",
    "outputId": "8823e0ea-eb0d-4fd3-bc45-4de9ea0c73e3"
   },
   "outputs": [],
   "source": [
    "ic10.head()"
   ]
  },
  {
   "cell_type": "markdown",
   "metadata": {
    "id": "XM8L5a6w7JAx"
   },
   "source": [
    "the GP_ic10 has the read code which is the CTV3. \n",
    "(However, when things get nasty, there are multiple ICD10 codes per CTV3 codes and viceversa… there is a mapping status which tells you whether the code is primary, duplicated, to revision, etc)"
   ]
  },
  {
   "cell_type": "code",
   "execution_count": null,
   "metadata": {
    "colab": {
     "base_uri": "https://localhost:8080/",
     "height": 206
    },
    "executionInfo": {
     "elapsed": 273,
     "status": "ok",
     "timestamp": 1635342039638,
     "user": {
      "displayName": "Monica Müller",
      "photoUrl": "https://lh3.googleusercontent.com/a/default-user=s64",
      "userId": "03925055125343928828"
     },
     "user_tz": -120
    },
    "id": "DbwrzfVx-Osc",
    "outputId": "43a19bcd-47fd-45de-e127-2b0685fd5f1b"
   },
   "outputs": [],
   "source": [
    "# WILL PROBABLY NOT USE THIS\n",
    "\n",
    "# just to see if corresponding CTV3 to IC10 works\n",
    "\n",
    "# broadcasting for vaccinated comorbidities(CTV3) in ICD10\n",
    "mask_vac_ic10 = GPic10['read_code'].isin(clinical_ic10[mask_vac_clin]['code']) \n",
    "GPic10[mask_vac_ic10]\n",
    "\n",
    "# mask_vac: people that got any vaccine\n",
    "# search for patients that got the vaccine in GPic10\n",
    "# and look what clinical events they had via the read_code (e.g. XE01qn)\n"
   ]
  },
  {
   "cell_type": "markdown",
   "metadata": {
    "id": "heRqef1dIUra"
   },
   "source": [
    "if time: analyse specific diseases such as myocarditis etc."
   ]
  },
  {
   "cell_type": "code",
   "execution_count": null,
   "metadata": {},
   "outputs": [],
   "source": [
    "clinical_ic10"
   ]
  },
  {
   "cell_type": "code",
   "execution_count": null,
   "metadata": {},
   "outputs": [],
   "source": [
    "ic10.head(3)"
   ]
  },
  {
   "cell_type": "code",
   "execution_count": null,
   "metadata": {
    "colab": {
     "base_uri": "https://localhost:8080/",
     "height": 1000
    },
    "executionInfo": {
     "elapsed": 294,
     "status": "ok",
     "timestamp": 1635168978215,
     "user": {
      "displayName": "Monica Müller",
      "photoUrl": "https://lh3.googleusercontent.com/a/default-user=s64",
      "userId": "03925055125343928828"
     },
     "user_tz": -120
    },
    "id": "kPLoAylJCPmm",
    "outputId": "a6e3a4d1-8ce6-4d68-ec45-d2dfc84d7f73"
   },
   "outputs": [],
   "source": [
    "# mask for getting codes related to myocarditis\n",
    "mask_myocarditis = ic10['DESCRIPTION'].str.contains('myocarditis', case = False)\n",
    "ic10[mask_myocarditis]"
   ]
  },
  {
   "cell_type": "code",
   "execution_count": null,
   "metadata": {
    "colab": {
     "base_uri": "https://localhost:8080/",
     "height": 49
    },
    "executionInfo": {
     "elapsed": 57,
     "status": "ok",
     "timestamp": 1635168979858,
     "user": {
      "displayName": "Monica Müller",
      "photoUrl": "https://lh3.googleusercontent.com/a/default-user=s64",
      "userId": "03925055125343928828"
     },
     "user_tz": -120
    },
    "id": "hKa_DcDyImp6",
    "outputId": "62e533bb-9d71-471d-aaf6-de2f6ad3c1fe",
    "scrolled": true
   },
   "outputs": [],
   "source": [
    "# getting data with myocarditis\n",
    "\n",
    "# the alternative code 'ALT_CODE' used here, as this was used in the lookup table GPic10\n",
    "myocarditis = ic10[mask_myocarditis]['ALT_CODE']\n",
    "\n",
    "clinical_ic10[clinical_ic10['icd10_code'].isin(myocarditis)]\n",
    "# nobody had myocarditis in this restricted data"
   ]
  },
  {
   "cell_type": "code",
   "execution_count": null,
   "metadata": {
    "colab": {
     "base_uri": "https://localhost:8080/",
     "height": 488
    },
    "executionInfo": {
     "elapsed": 545,
     "status": "ok",
     "timestamp": 1635168980373,
     "user": {
      "displayName": "Monica Müller",
      "photoUrl": "https://lh3.googleusercontent.com/a/default-user=s64",
      "userId": "03925055125343928828"
     },
     "user_tz": -120
    },
    "id": "goWG5XqkTG1S",
    "outputId": "7cc992aa-c9d7-4268-dc1b-c975d24370a1"
   },
   "outputs": [],
   "source": [
    "## ishaemic heart disease\n",
    "mask_ihd = ic10['DESCRIPTION'].str.contains('ischaemic heart disease', case = False)\n",
    "ischaemicHD = ic10[mask_ihd]['ALT_CODE']\n",
    "clinical_ic10[clinical_ic10['icd10_code'].isin(ischaemicHD)]"
   ]
  },
  {
   "cell_type": "markdown",
   "metadata": {
    "id": "6vBzAZwepe65"
   },
   "source": [
    "several comorbidities"
   ]
  },
  {
   "cell_type": "code",
   "execution_count": null,
   "metadata": {
    "id": "sirLrrLvT5Ca"
   },
   "outputs": [],
   "source": [
    "# getting people with specific diseases\n",
    "\n",
    "# new column for filling with selected disease\n",
    "clinical_ic10['selected disease'] = np.nan \n",
    "\n",
    "# list of specific diseases, to be decided on\n",
    "diseases_selec = ['ischaemic heart disease', 'cardiomyopathy', 'heart failure',\\\n",
    "                  'myocarditis'] \n",
    "\n",
    "for disease in diseases_selec:\n",
    "    \n",
    "    # broadcasting for selected disease\n",
    "    mask = ic10['DESCRIPTION'].str.contains(disease, case = False) \n",
    "    # broadcasting for selected disease\n",
    "    sub_disease = clinical_ic10[clinical_ic10['icd10_code'].isin(ic10[mask]['ALT_CODE'])]\n",
    "    \n",
    "    for i in sub_disease.index:\n",
    "        # fill dataset with selected disease label\n",
    "        clinical_ic10.loc[i,'selected disease'] = disease "
   ]
  },
  {
   "cell_type": "code",
   "execution_count": null,
   "metadata": {
    "colab": {
     "base_uri": "https://localhost:8080/"
    },
    "executionInfo": {
     "elapsed": 41,
     "status": "ok",
     "timestamp": 1635168980381,
     "user": {
      "displayName": "Monica Müller",
      "photoUrl": "https://lh3.googleusercontent.com/a/default-user=s64",
      "userId": "03925055125343928828"
     },
     "user_tz": -120
    },
    "id": "mvy4mUUNW2oC",
    "outputId": "24524ffe-6fb2-4f2c-a8d9-5c186f924d73"
   },
   "outputs": [],
   "source": [
    "# counting how many people in the dataset have a specific disease\n",
    "clinical_ic10['selected disease'].value_counts()"
   ]
  },
  {
   "cell_type": "markdown",
   "metadata": {
    "id": "oJ0DDEwyBvPR"
   },
   "source": [
    "# getting people w. different categories of underlying diseases"
   ]
  },
  {
   "cell_type": "markdown",
   "metadata": {},
   "source": [
    "# Question 1: What is the effect on adverse events?\n",
    "## 1. How common are \"adverse events\"? (i.e. how many percent of vaccinated people have registered medical events after the vaccine) compare vaccinated & nonvaccinated\n",
    "## 2. What about people with medical history?\n",
    "## 3. Are they more common in people with (specific) underlying medical conditions? i.e.: \n",
    "* plot percentage of AEs with & without underlying conditions\n",
    "* plot percentages for specific underlying conditions (not considering if several conditions at once, plot for each category then), for vaccinated and non-vaccinated people\n",
    "* (optional: just for vaccinated people: plot what types of AEs (in IC10 categories) are common."
   ]
  },
  {
   "cell_type": "markdown",
   "metadata": {},
   "source": [
    "## 1. How common are \"adverse events\"? (i.e. how many percent of vaccinated people have registered medical events after the vaccine) compare vaccinated & nonvaccinated"
   ]
  },
  {
   "cell_type": "code",
   "execution_count": null,
   "metadata": {},
   "outputs": [],
   "source": [
    "# initialize column & index names\n",
    "dict_vacORnot = {'vaccinated':1, 'not vaccinated':0} #vaccination status\n",
    "ls_AE = ['AE', 'no AE'] # adverse events"
   ]
  },
  {
   "cell_type": "markdown",
   "metadata": {},
   "source": [
    "Get number of adverse events (defined medical events w. ICD10 code after the (artificial) vaccination date)"
   ]
  },
  {
   "cell_type": "code",
   "execution_count": null,
   "metadata": {},
   "outputs": [],
   "source": [
    "def incidence(df_event, id_vac, id_nvac):\n",
    "    \"\"\"\n",
    "    Calculates the number of AEs per thousand individuals in a given population.\n",
    "    \n",
    "    Input:\n",
    "    - df_event: a dataframe containing all events considered in the analysis (e.g. AEs)\n",
    "    - id_vac: series containing ID's of each individual (with each individual listed once) within the given population.\n",
    "    - id_nvac: same as id_vac but with all non-vaccinated individuals\n",
    "    \n",
    "    \n",
    "    \"\"\"\n",
    "    \n",
    "    # initialize df for putting in the values\n",
    "    df_sum = pd.DataFrame(columns = ['Number of AEs', 'Number of individuals', 'Number of AEs per thousand individuals'], index = dict_vacORnot)\n",
    "    \n",
    "    for v in dict_vacORnot: # loop through vaccinated vs. not\n",
    "        \n",
    "        # put in the number of events (AEs) by subsetting the df_event into vaccinated/not vaccinated\n",
    "        df_sum['Number of AEs'][v] = len(df_event[df_event['vaccinated'] == dict_vacORnot[v]])\n",
    "    \n",
    "        # if we have no event (happens in the subset), add 0.5 for testing the plot and analysis further below\n",
    "        # -> still visible in the output that it was added\n",
    "        if df_sum['Number of AEs'][v]==0:\n",
    "            df_sum['Number of AEs'][v]=0.5\n",
    "    \n",
    "    # put number of vaccinated/not vaccinated people in the population into the summary df\n",
    "    df_sum['Number of individuals']['vaccinated'] = len(id_vac) # vaccinated\n",
    "    df_sum['Number of individuals']['not vaccinated'] = len(id_nvac) # not vaccinated\n",
    "    \n",
    "    # calculate AEs/individual\n",
    "    df_sum['Number of AEs per thousand individuals'] = df_sum['Number of AEs']/df_sum['Number of individuals']*1000\n",
    "    \n",
    "    return df_sum"
   ]
  },
  {
   "cell_type": "code",
   "execution_count": null,
   "metadata": {},
   "outputs": [],
   "source": [
    "# Make a df with only AEs (defined medical events w. ICD10 code after the (artificial) vaccination date)\n",
    "# reminder: leave R as adverse event & Q as underlying disease.\n",
    "\n",
    "# subset of clinical dataset for adverse events (=after vaccine)\n",
    "df_AEs = clinical_vac[clinical_vac['before_after_vaccine']== 'after']\n",
    "\n",
    "# remove Q (congenital diseases), which are not considered as adverse events\n",
    "df_AEs = df_AEs[~df_AEs['icd10_code'].str.startswith('Q')]"
   ]
  },
  {
   "cell_type": "code",
   "execution_count": null,
   "metadata": {},
   "outputs": [],
   "source": [
    "# get number of people of the chosen population\n",
    "# list of all IDs from the clinical dataset\n",
    "id_clin = clinical['eid'].unique()\n",
    "# list of all IDs from the scripts dataset\n",
    "id_scr = scripts['eid'].unique()\n",
    "\n",
    "# concatenate both lists to get all IDs in one list\n",
    "id_all = np.concatenate((id_clin, id_scr))\n",
    "\n",
    "# leave only unique IDs in the list to get the number of IDs using len()\n",
    "id_all = np.unique(id_all)\n",
    "\n",
    "# get array with IDs without vaccine by deleting the IDs with vaccine out of the array with all IDs\n",
    "id_nvac = np.delete(id_all, np.isin(id_all,id_vac))"
   ]
  },
  {
   "cell_type": "code",
   "execution_count": null,
   "metadata": {},
   "outputs": [],
   "source": [
    "# use the function to create the summary table\n",
    "df_sum_all = incidence(df_AEs, id_vac, id_nvac)\n",
    "df_sum_all"
   ]
  },
  {
   "cell_type": "markdown",
   "metadata": {},
   "source": [
    "Plot how oftern AEs occur in vaccinated vs. not vaccinated people for all individuals in the dataset."
   ]
  },
  {
   "cell_type": "code",
   "execution_count": null,
   "metadata": {},
   "outputs": [],
   "source": [
    "plt.figure(figsize = (5,5))\n",
    "plt.bar(df_sum_all.index, df_sum_all['Number of AEs per thousand individuals'])\n",
    "plt.ylabel('Number of AEs per thousand individuals')\n",
    "plt.title('Adverse events in the whole population of the dataset')"
   ]
  },
  {
   "cell_type": "markdown",
   "metadata": {},
   "source": [
    "Make contingency table (not using pd.crosstab to avoid another huge dataset with all individuals and because we need to count unique IDs)"
   ]
  },
  {
   "cell_type": "code",
   "execution_count": null,
   "metadata": {},
   "outputs": [],
   "source": [
    "def contingency(df_event, id_vac, id_nvac, columns = ls_AE, index = dict_vacORnot):\n",
    "    \"\"\"\n",
    "    Makes a 2x2 contingency table, which can be used for the chi^2 test and calculating the risk ratio.\n",
    "    \n",
    "    Input:\n",
    "    - df_event: a dataframe containing all events considered in the analysis (e.g. AEs)\n",
    "    - id_vac: series containing ID's of each individual (with each individual listed once) within the given population.\n",
    "    - id_nvac: same as id_vac but with all non-vaccinated individuals\n",
    "    \n",
    "    \"\"\"\n",
    "\n",
    "    # initialize contingency table\n",
    "    crosstab = pd.DataFrame(columns = columns, index = index)\n",
    "    \n",
    "    # fill contingency table with values in the subset\n",
    "\n",
    "    for v in dict_vacORnot: # loop throug vaccinated vs. not\n",
    "\n",
    "        \n",
    "        # with AEs\n",
    "\n",
    "        # number of nonvaccinated/vaccinated people with AEs = number of individuals with AEs\n",
    "        crosstab.loc[v,'AE'] = len(df_event[df_event['vaccinated']==dict_vacORnot[v]]['eid'].unique())\n",
    "        \n",
    "        # DELETE THIS FOR FINAL ANALYSIS\n",
    "        # if we have no event (happens in the subset), add 1 for testing the plot and analysis further below\n",
    "        # -> still visible in the output that it was added\n",
    "        if crosstab.loc[v,'AE']==0:\n",
    "            crosstab.loc[v,'AE']=1\n",
    "\n",
    "            \n",
    "        # without AEs\n",
    "\n",
    "        if v == 'vaccinated': # for vaccinated people\n",
    "\n",
    "            # total number of vaccinated individuals - those with AEs\n",
    "            crosstab.loc[v,'no AE'] = len(id_vac) - crosstab.loc[v,'AE']\n",
    "\n",
    "        else: # for not vaccinated people\n",
    "            \n",
    "            # using id_vac\n",
    "            crosstab.loc[v,'no AE'] = len(id_nvac) - crosstab.loc[v,'AE']\n",
    "            \n",
    "    \n",
    "    # adding margins to the contingency table (=total value as row and column)\n",
    "    \n",
    "    # vaccinated vs. not\n",
    "    crosstab.loc['Total',:] = np.sum(crosstab, axis = 0)\n",
    "    # event vs. no event\n",
    "    crosstab.loc[:,'Total'] = np.sum(crosstab, axis = 1)\n",
    "\n",
    "    return crosstab\n",
    "    "
   ]
  },
  {
   "cell_type": "code",
   "execution_count": null,
   "metadata": {},
   "outputs": [],
   "source": [
    "crosstab_all = contingency(df_AEs, id_vac, id_nvac)\n",
    "crosstab_all"
   ]
  },
  {
   "cell_type": "markdown",
   "metadata": {},
   "source": [
    "Chi-squared test"
   ]
  },
  {
   "cell_type": "code",
   "execution_count": null,
   "metadata": {},
   "outputs": [],
   "source": [
    "# define significance treshold\n",
    "alpha = 0.05\n",
    "\n",
    "# perform chi-squared test:\n",
    "stat, p, dof, expected = sp.stats.chi2_contingency(crosstab_all.iloc[0:2,0:2], 1)\n",
    "\n",
    "p"
   ]
  },
  {
   "cell_type": "markdown",
   "metadata": {},
   "source": [
    "Calculate risk ratio (similar to Barda et al.)"
   ]
  },
  {
   "cell_type": "code",
   "execution_count": null,
   "metadata": {},
   "outputs": [],
   "source": [
    "def riskratio(crosstab, z = 1.96):\n",
    "    \"\"\"\n",
    "    Calculates the risk ratio by adding a row and a column with the total count to the contingency table.\n",
    "    \n",
    "    Returns the risk ratio with the confidence interval (CI) as a df and the adjusted contingency table:\n",
    "    (RR, crosstab)\n",
    "    \n",
    "    Important: the input (crosstab) needs to have the following format:\n",
    "    - 2x2\n",
    "    - column 0 = events (e.g. AEs), column 1 = non-events\n",
    "    - row 0 = intervention (e.g. vaccinated), column 1 = non-vaccinated\n",
    "    \"\"\"\n",
    "    \n",
    "    # calculating the risk ratio\n",
    "\n",
    "    # risk of getting AE when vaccinated\n",
    "    R_vac = crosstab.loc['vaccinated','AE']/crosstab.loc['vaccinated','Total']\n",
    "    # risk of getting \"AE\" when not vaccinated\n",
    "    R_nvac = crosstab.loc['not vaccinated', 'AE']/crosstab.loc['not vaccinated', 'Total']\n",
    "\n",
    "    # risk ratio\n",
    "    RR = R_vac / R_nvac\n",
    "    \n",
    "    # natural log of the RR\n",
    "    logRR = np.log(RR) \n",
    "\n",
    "    # standard error\n",
    "    se = np.sqrt(crosstab.loc['vaccinated','no AE']/ \\\n",
    "                 (crosstab.loc['vaccinated','AE']*crosstab.loc['vaccinated','Total']) + \\\n",
    "                crosstab.loc['not vaccinated','no AE']/ \\\n",
    "                (crosstab.loc['not vaccinated','AE']*crosstab.loc['not vaccinated','Total']))\n",
    "\n",
    "    # Assuming normal distribution, 95% lie around 1.96 standard deviations of the mean.\n",
    "    # as 95% CI is common, the z-score (z) 1.96 is put as the default value.\n",
    "\n",
    "    # 1-alpha confidence interval (CI) \n",
    "    CI_lower = np.exp(np.log(RR) - se * z) # lower bound\n",
    "    CI_upper = np.exp(np.log(RR) + se * z) # upper bound    \n",
    "    \n",
    "    # put the result in a series\n",
    "    RR_result = pd.Series(data = [RR, CI_lower, CI_upper], index = ['RR', 'CI_lower', 'CI_upper'])\n",
    "    \n",
    "    return RR_result"
   ]
  },
  {
   "cell_type": "markdown",
   "metadata": {},
   "source": [
    "note: se and CI calculated as described on https://en.wikipedia.org/wiki/Relative_risk. "
   ]
  },
  {
   "cell_type": "code",
   "execution_count": null,
   "metadata": {},
   "outputs": [],
   "source": [
    "RR_all = riskratio(crosstab_all)\n",
    "RR_all"
   ]
  },
  {
   "cell_type": "markdown",
   "metadata": {},
   "source": [
    "plot the RR & CI"
   ]
  },
  {
   "cell_type": "code",
   "execution_count": null,
   "metadata": {},
   "outputs": [],
   "source": [
    "plt.figure(figsize = (5,5))\n",
    "plt.yscale(\"log\")\n",
    "plt.axhline(1, ls='--', linewidth=1, color='black')\n",
    "    \n",
    "# draw the CI\n",
    "x = [0,0] # x location at 0\n",
    "y = [RR_all['CI_lower'], RR_all['CI_upper']]\n",
    "plt.plot(x, y, \"_-\", markersize = 15, markeredgewidth= 3, linewidth = 3, color = 'b')\n",
    "\n",
    "# draw the RR\n",
    "x = [0]\n",
    "y = [RR_all['RR']]\n",
    "plt.plot(x, y, \"o\", markersize = 10, color = 'b')\n",
    "\n",
    "# labels\n",
    "plt.xlabel('')\n",
    "plt.ylabel('Risk Ratio (log scale)')\n",
    "plt.title('Risk ratio of vaccination in the whole population')\n",
    "plt.xticks([]) # empty list gives no x-ticks"
   ]
  },
  {
   "cell_type": "markdown",
   "metadata": {},
   "source": [
    "## 2. What about people with medical history?"
   ]
  },
  {
   "cell_type": "markdown",
   "metadata": {},
   "source": [
    "Plot incidence"
   ]
  },
  {
   "cell_type": "code",
   "execution_count": null,
   "metadata": {},
   "outputs": [],
   "source": [
    "# get dataset with only AEs AND people with underlying disease\n",
    "# subset of the df with all AEs (df_AEs) with only people with underlying diseases (df_AEs_ud)\n",
    "# reminder: leave R as adverse event (and general underlying disease) & Q as underlying disease.\n",
    "\n",
    "# subset of clinical_vac df with only medical events before\n",
    "df_ud= clinical_vac[clinical_vac['before_after_vaccine']== 'before']\n",
    "\n",
    "# drop rows without icd10_code, which correspond to vaccinated people without underlying disease\n",
    "df_ud.dropna(subset = ['icd10_code'], inplace = True)\n",
    "\n",
    "# remove R (less well defined condition), which are not considered as underlying disease\n",
    "# df_ud = df_ud[~df_ud['icd10_code'].str.startswith('R')]\n",
    "\n",
    "# get id's of people with an underlying disease\n",
    "id_ud = df_ud['eid'].unique()\n",
    "\n",
    "# subset of the df with AEs with only people with an underlying disease\n",
    "df_AEs_ud = df_AEs[df_AEs['eid'].isin(id_ud)]\n",
    "df_AEs_ud"
   ]
  },
  {
   "cell_type": "code",
   "execution_count": null,
   "metadata": {},
   "outputs": [],
   "source": [
    "# individuals in subset with only people with underlying disease AND the vaccine\n",
    "id_ud_vac = df_ud[df_ud['vaccinated']==True]['eid'].unique()\n",
    "\n",
    "# individuals in subset with only people with underlying disease AND NOT the vaccine\n",
    "id_ud_nvac = df_ud[df_ud['vaccinated']==False]['eid'].unique()"
   ]
  },
  {
   "cell_type": "code",
   "execution_count": null,
   "metadata": {},
   "outputs": [],
   "source": [
    "df_sum_ud = incidence(df_AEs_ud, id_ud_vac, id_ud_nvac)\n",
    "df_sum_ud"
   ]
  },
  {
   "cell_type": "code",
   "execution_count": null,
   "metadata": {},
   "outputs": [],
   "source": [
    "plt.figure(figsize = (5,5))\n",
    "plt.bar(df_sum_ud.index, df_sum_ud['Number of AEs per thousand individuals'])\n",
    "plt.ylabel('Number of AEs per thousand individuals')\n",
    "plt.title('Adverse events in people with underlying diseases')"
   ]
  },
  {
   "cell_type": "markdown",
   "metadata": {},
   "source": [
    "Chi-squared test"
   ]
  },
  {
   "cell_type": "code",
   "execution_count": null,
   "metadata": {},
   "outputs": [],
   "source": [
    "# contingency table\n",
    "crosstab_ud = contingency(df_AEs_ud, id_ud_vac, id_ud_nvac, columns = ls_AE, index = dict_vacORnot)\n",
    "crosstab_ud"
   ]
  },
  {
   "cell_type": "code",
   "execution_count": null,
   "metadata": {},
   "outputs": [],
   "source": [
    "# define significance treshold\n",
    "alpha = 0.05\n",
    "\n",
    "# perform chi-squared test:\n",
    "stat, p, dof, expected = sp.stats.chi2_contingency(crosstab_ud.iloc[0:2,0:2], 1)\n",
    "\n",
    "p"
   ]
  },
  {
   "cell_type": "markdown",
   "metadata": {},
   "source": [
    "Calculate and plot risk ratio"
   ]
  },
  {
   "cell_type": "code",
   "execution_count": null,
   "metadata": {},
   "outputs": [],
   "source": [
    "RR_ud = riskratio(crosstab_ud)\n",
    "RR_ud"
   ]
  },
  {
   "cell_type": "code",
   "execution_count": null,
   "metadata": {},
   "outputs": [],
   "source": [
    "plt.figure(figsize = (5,5))\n",
    "plt.yscale(\"log\")\n",
    "plt.axhline(1, ls='--', linewidth=1, color='black')\n",
    "    \n",
    "# draw the CI\n",
    "x = [0,0] # x location at 0\n",
    "y = [RR_ud['CI_lower'], RR_ud['CI_upper']]\n",
    "plt.plot(x, y, \"_-\", markersize = 15, markeredgewidth= 3, linewidth = 3, color = 'b')\n",
    "\n",
    "# draw the RR\n",
    "x = [0]\n",
    "y = [RR_ud['RR']]\n",
    "plt.plot(x, y, \"o\", markersize = 10, color = 'b')\n",
    "\n",
    "# labels\n",
    "plt.xlabel('')\n",
    "plt.ylabel('Risk Ratio (log scale)')\n",
    "plt.title('Risk ratio of vaccination in people with underlying diseases')\n",
    "plt.xticks([]) # empty list gives no x-ticks"
   ]
  },
  {
   "cell_type": "code",
   "execution_count": null,
   "metadata": {},
   "outputs": [],
   "source": [
    "# create a df for collecting the results of the risk ratio to compare the populations\n",
    "\n",
    "# initialize\n",
    "RR_result = pd.DataFrame(index = ['whole population', 'people with underlying diseases'], columns = ['RR', 'CI_lower', 'CI_upper'])\n",
    "\n",
    "# fill it\n",
    "# RR with data from all individuals in the scripts & clinical dataset\n",
    "RR_result.loc['whole population',:] = RR_all\n",
    "# RR with data from all individuals with underlying diseases\n",
    "RR_result.loc['people with underlying diseases',:] = RR_ud\n",
    "\n",
    "RR_result"
   ]
  },
  {
   "cell_type": "code",
   "execution_count": null,
   "metadata": {},
   "outputs": [],
   "source": [
    "loc = []\n",
    "loc.append(3)\n",
    "loc"
   ]
  },
  {
   "cell_type": "code",
   "execution_count": null,
   "metadata": {},
   "outputs": [],
   "source": [
    "# plot the difference\n",
    "\n",
    "# fig, ax = plt.subplots(figsize=(7, 5))\n",
    "plt.figure(figsize = (5,5))\n",
    "plt.yscale(\"log\")\n",
    "plt.axhline(1, ls='--', linewidth=1, color='black')\n",
    "\n",
    "color = ['g','b']\n",
    "\n",
    "# initialize counter\n",
    "c = 0\n",
    "# initialize location array for labelling x ticks\n",
    "loc = []\n",
    "\n",
    "# looping through the rows, i = index of row and res = data as a series\n",
    "for i, res in RR_result.iterrows():\n",
    "    \n",
    "    # draw the CI\n",
    "    x = [c,c] # x location\n",
    "    y = [res['CI_lower'], res['CI_upper']]\n",
    "    plt.plot(x, y, \"_-\", markersize = 15, markeredgewidth= 3, linewidth = 3, color = color[c])\n",
    "    \n",
    "    # draw the RR\n",
    "    x = [c] # x location\n",
    "    y = [res['RR']]\n",
    "    plt.plot(x, y, \"o\", markersize = 10, color = color[c])\n",
    "    \n",
    "    # append the x location to the location list for labelling x ticks\n",
    "    loc.append(c)\n",
    "    c += 1\n",
    "\n",
    "# labelling\n",
    "plt.ylabel('Risk Ratio (log scale)')\n",
    "plt.title('Risk ratio of vaccination in people with underlying diseases or the general population')\n",
    "plt.xticks(ticks = loc, labels = RR_result.index)\n",
    "plt.xlim(-0.5,1.5)"
   ]
  },
  {
   "cell_type": "markdown",
   "metadata": {},
   "source": [
    "## 3. Are they more common in people with (specific) underlying medical conditions?"
   ]
  },
  {
   "cell_type": "markdown",
   "metadata": {},
   "source": [
    "Incidence"
   ]
  },
  {
   "cell_type": "code",
   "execution_count": null,
   "metadata": {},
   "outputs": [],
   "source": [
    "# dictionary of disease categories to analyse, from https://www.icd10data.com/ICD10CM/Codes\n",
    "dict_cat = {('A','B'):'Certain infectious and parasitic diseases',\n",
    "           ('C','D0','D1','D2','D3','D4'):'Neoplasms',\n",
    "           ('D5','D6','D7','D8'):'Diseases of the blood and blood-forming organs and certain disorders involving the immune mechanism',\n",
    "           'E':'Endocrine, nutritional and metabolic diseases',\n",
    "           'F':'Mental, Behavioral and Neurodevelopmental disorders',\n",
    "           'G':'Diseases of the nervous system',\n",
    "           ('H0','H1','H2','H3','H4','H5'):'Diseases of the eye and adnexa',\n",
    "           ('H6','H7','H8', 'H9'): 'Diseases of the ear and mastoid process',\n",
    "           'I':'Diseases of the circulatory system',\n",
    "           'J':'Diseases of the respiratory system',\n",
    "           'K':'Diseases of the digestive system',\n",
    "           'L':'Diseases of the skin and subcutaneous tissue',\n",
    "           'M':'Diseases of the musculoskeletal system and connective tissue',\n",
    "           'N':'Diseases of the genitourinary system',\n",
    "           'Q':'Congenital malformations, deformations and chromosomal abnormalities'}\n",
    "\n",
    "# initialize dataframe for collecting values with/without vaccinated people for all categories\n",
    "df_sum_cat_all = pd.DataFrame(columns = dict_vacORnot, index=dict_cat.values()) \n",
    "\n",
    "for i, ic in enumerate(dict_cat): # loop over ICD10 codes of each disease category\n",
    "  \n",
    "    # get dataset with only AEs AND people with specific underlying disease\n",
    "    # subset of the df with all AEs (df_AEs) with only people with specific underlying diseases\n",
    "    # reminder: leave R as adverse event & Q as underlying disease.\n",
    "    # df_ud = subset of clinical_vac df with only diagnoses before vaccine as defined further above\n",
    "\n",
    "    # subset with only underlying diseases within the specific category\n",
    "    df_cat = df_ud[df_ud['icd10_code'].str.startswith(ic)]\n",
    "\n",
    "    # IDs with underlying disease in the specific category\n",
    "    id_cat = df_cat['eid'].unique()\n",
    "\n",
    "    # subset of the df with AEs with only people with underlying disease in the specific category\n",
    "    df_AEs_cat = df_AEs[df_AEs['eid'].isin(id_cat)]\n",
    "\n",
    "    # get IDs of individuals in this subset with vs without vaccine \n",
    "    id_cat_vac = df_cat[df_cat['vaccinated']==True]['eid'].unique() # with vaccine\n",
    "    id_cat_nvac = df_cat[df_cat['vaccinated']==False]['eid'].unique() # without vaccine\n",
    "\n",
    "    df_sum_cat = incidence(df_AEs_cat, id_cat_vac, id_cat_nvac)\n",
    "    \n",
    "    # put in the values from the summary table\n",
    "    df_sum_cat_all.loc[dict_cat[ic],:] = df_sum_cat.loc[:, 'Number of AEs per thousand individuals']\n",
    "    \n",
    "df_sum_cat_all.sort_values(by = 'vaccinated', ascending = False, inplace = True) # sorting\n",
    "df_sum_cat_all"
   ]
  },
  {
   "cell_type": "code",
   "execution_count": null,
   "metadata": {},
   "outputs": [],
   "source": [
    "plt.figure(figsize = (8,8))\n",
    "\n",
    "# plot results for vaccinated and not on top of each other\n",
    "for v in dict_vacORnot:\n",
    "    plt.barh(df_sum_cat_all.index, df_sum_cat_all[v], alpha = 0.5, label = v)\n",
    "\n",
    "# labelling\n",
    "plt.title('Adverse events in people with diseases in specific ICD10 categories')\n",
    "plt.xlabel('Number of AEs per thousand individuals')\n",
    "plt.legend(loc = \"upper right\")\n"
   ]
  },
  {
   "cell_type": "markdown",
   "metadata": {},
   "source": [
    "Chi-squared test"
   ]
  },
  {
   "cell_type": "markdown",
   "metadata": {},
   "source": [
    "Risk ratio"
   ]
  },
  {
   "cell_type": "markdown",
   "metadata": {},
   "source": [
    "# Unused code so far"
   ]
  },
  {
   "cell_type": "code",
   "execution_count": null,
   "metadata": {
    "colab": {
     "base_uri": "https://localhost:8080/",
     "height": 424
    },
    "executionInfo": {
     "elapsed": 530,
     "status": "ok",
     "timestamp": 1635342590713,
     "user": {
      "displayName": "Monica Müller",
      "photoUrl": "https://lh3.googleusercontent.com/a/default-user=s64",
      "userId": "03925055125343928828"
     },
     "user_tz": -120
    },
    "id": "Wr3iUUcp_YAD",
    "outputId": "7b128103-ba29-442e-e86b-27cb4f0d815c"
   },
   "outputs": [],
   "source": [
    "# code layout for getting the different categories\n",
    "\n",
    "# subsetting into categories using IC10\n",
    "# e.g. I00-I99 Diseases of the circulatory system, more details available too, e.g. Ischemic heart diseases\n",
    "GPic10.dropna(inplace=True) # drop NaN to enable making mask\n",
    "\n",
    "m_circ = GPic10['icd10_code'].str.startswith('I')\n",
    "GPic10[m_circ]['read_code']"
   ]
  },
  {
   "cell_type": "code",
   "execution_count": null,
   "metadata": {
    "colab": {
     "base_uri": "https://localhost:8080/",
     "height": 424
    },
    "executionInfo": {
     "elapsed": 338,
     "status": "ok",
     "timestamp": 1635342751479,
     "user": {
      "displayName": "Monica Müller",
      "photoUrl": "https://lh3.googleusercontent.com/a/default-user=s64",
      "userId": "03925055125343928828"
     },
     "user_tz": -120
    },
    "id": "joOSUIaFBKVm",
    "outputId": "fc8b9ea9-536a-45bc-d413-721751f8f244"
   },
   "outputs": [],
   "source": [
    "# getting corresponding CTV3 codes\n",
    "m_circ_CTV3 = code['coding'].isin(GPic10[m_circ]['read_code'])\n",
    "# code[m_circ_CTV3]"
   ]
  },
  {
   "cell_type": "code",
   "execution_count": null,
   "metadata": {
    "colab": {
     "base_uri": "https://localhost:8080/",
     "height": 424
    },
    "executionInfo": {
     "elapsed": 272,
     "status": "ok",
     "timestamp": 1635343135065,
     "user": {
      "displayName": "Monica Müller",
      "photoUrl": "https://lh3.googleusercontent.com/a/default-user=s64",
      "userId": "03925055125343928828"
     },
     "user_tz": -120
    },
    "id": "oWct6dD0BKOd",
    "outputId": "6b6cecc6-92b1-4c59-c45b-273c1df6aed4"
   },
   "outputs": [],
   "source": [
    " # getting subjects with this condition\n",
    "m_circ_sub = clinical['code'].isin(code[m_circ_CTV3]['coding']) # another mask"
   ]
  },
  {
   "cell_type": "markdown",
   "metadata": {
    "id": "ZHbu6qcuEv-H"
   },
   "source": [
    "# correspond to vaccinated or not"
   ]
  },
  {
   "cell_type": "code",
   "execution_count": null,
   "metadata": {
    "colab": {
     "base_uri": "https://localhost:8080/"
    },
    "executionInfo": {
     "elapsed": 291,
     "status": "ok",
     "timestamp": 1635343751105,
     "user": {
      "displayName": "Monica Müller",
      "photoUrl": "https://lh3.googleusercontent.com/a/default-user=s64",
      "userId": "03925055125343928828"
     },
     "user_tz": -120
    },
    "id": "3c9ATWLdE0sn",
    "outputId": "6e510def-3879-48c5-ec8a-a4037a38dd64"
   },
   "outputs": [],
   "source": [
    "# no one with any vaccine had circulatory issue before vaccine on this limited dataset\n",
    "scripts[mask_vac]['eid'].isin(clinical[m_circ_sub]['eid']).sum()"
   ]
  },
  {
   "cell_type": "code",
   "execution_count": null,
   "metadata": {},
   "outputs": [],
   "source": []
  }
 ],
 "metadata": {
  "colab": {
   "authorship_tag": "ABX9TyPbGrXdLmVVZJgOaOjZE42u",
   "collapsed_sections": [],
   "mount_file_id": "1lzi9RvA-pKhZOBpn5_9XFF17e746VcKM",
   "name": "Project_vaccine_comorbidities.ipynb",
   "provenance": [],
   "toc_visible": true
  },
  "kernelspec": {
   "display_name": "Python 3 (ipykernel)",
   "language": "python",
   "name": "python3"
  },
  "language_info": {
   "codemirror_mode": {
    "name": "ipython",
    "version": 3
   },
   "file_extension": ".py",
   "mimetype": "text/x-python",
   "name": "python",
   "nbconvert_exporter": "python",
   "pygments_lexer": "ipython3",
   "version": "3.9.7"
  }
 },
 "nbformat": 4,
 "nbformat_minor": 1
}
