{
 "cells": [
  {
   "cell_type": "code",
   "execution_count": 1,
   "metadata": {
    "id": "ShjvWps0_I39"
   },
   "outputs": [],
   "source": [
    "import pandas as pd\n",
    "import numpy as np\n",
    "import matplotlib.pyplot as plt\n",
    "import scipy as sp\n",
    "from scipy import stats"
   ]
  },
  {
   "cell_type": "code",
   "execution_count": 2,
   "metadata": {},
   "outputs": [],
   "source": [
    "import random\n",
    "random.seed(13)"
   ]
  },
  {
   "cell_type": "markdown",
   "metadata": {
    "id": "BnOF_K5b9eXs"
   },
   "source": [
    "### Import data"
   ]
  },
  {
   "cell_type": "code",
   "execution_count": 3,
   "metadata": {
    "id": "ctHMNIsY_Xrn"
   },
   "outputs": [],
   "source": [
    "# code = pd.read_csv('data/coding7128.tsv', sep='\\t')"
   ]
  },
  {
   "cell_type": "code",
   "execution_count": 4,
   "metadata": {
    "id": "ED2_-Iv0DbIJ"
   },
   "outputs": [],
   "source": [
    "# need to import this file in slightly different way because of different delimiters\n",
    "clinical = pd.read_csv('data/covid19_clinical_sample.txt',sep='\\t|,', engine = 'python')"
   ]
  },
  {
   "cell_type": "code",
   "execution_count": 6,
   "metadata": {
    "id": "miZ_7lEpyVOQ"
   },
   "outputs": [],
   "source": [
    "ic10 = pd.read_csv('data/ic10_lookup.csv')"
   ]
  },
  {
   "cell_type": "code",
   "execution_count": 7,
   "metadata": {
    "id": "zyYSNBpnypUf"
   },
   "outputs": [],
   "source": [
    "GPic10 = pd.read_csv('data/GP_ic10_lookup.csv') "
   ]
  },
  {
   "cell_type": "code",
   "execution_count": 8,
   "metadata": {},
   "outputs": [],
   "source": [
    "# need to import this file in slightly different way because of different delimiters\n",
    "scripts = pd.read_csv('data/covid19_prescriptions_sample.txt', sep='\\t|,', engine = 'python')"
   ]
  },
  {
   "cell_type": "code",
   "execution_count": 10,
   "metadata": {},
   "outputs": [],
   "source": [
    "mortality = pd.read_csv('data/patients_data_death_sample.csv')"
   ]
  },
  {
   "cell_type": "code",
   "execution_count": 11,
   "metadata": {},
   "outputs": [],
   "source": [
    "mortality_coding = pd.read_csv('data/patients_data_death_decoding.csv')"
   ]
  },
  {
   "cell_type": "markdown",
   "metadata": {},
   "source": [
    "have a look at the data"
   ]
  },
  {
   "cell_type": "code",
   "execution_count": null,
   "metadata": {
    "colab": {
     "base_uri": "https://localhost:8080/",
     "height": 424
    },
    "executionInfo": {
     "elapsed": 234,
     "status": "ok",
     "timestamp": 1635342695852,
     "user": {
      "displayName": "Monica Müller",
      "photoUrl": "https://lh3.googleusercontent.com/a/default-user=s64",
      "userId": "03925055125343928828"
     },
     "user_tz": -120
    },
    "id": "oxm0xq1GHyoj",
    "outputId": "7354f996-6569-4fd5-d6e6-0138e2f289c3"
   },
   "outputs": [],
   "source": [
    "# code.head()\n",
    "# CTV3 codes (used by GPs, in dataset clinical) and the corresponding disease and incidences\n",
    "# code can also be measurements, but will not be used by us"
   ]
  },
  {
   "cell_type": "code",
   "execution_count": null,
   "metadata": {
    "colab": {
     "base_uri": "https://localhost:8080/",
     "height": 424
    },
    "executionInfo": {
     "elapsed": 319,
     "status": "ok",
     "timestamp": 1635338237249,
     "user": {
      "displayName": "Monica Müller",
      "photoUrl": "https://lh3.googleusercontent.com/a/default-user=s64",
      "userId": "03925055125343928828"
     },
     "user_tz": -120
    },
    "id": "7svXJiX1F5PV",
    "outputId": "d5106cec-154c-46ed-8a33-e4764cd1b78d"
   },
   "outputs": [],
   "source": [
    "clinical\n",
    "# GP dataset from every patient\n",
    "# each line corresponds to one incident with a date (event_dt)\n",
    "# eid: patient number \n",
    "# code_type: ?\n",
    "# value: measured value of a test or whatever"
   ]
  },
  {
   "cell_type": "code",
   "execution_count": null,
   "metadata": {},
   "outputs": [],
   "source": [
    "clinical_old"
   ]
  },
  {
   "cell_type": "code",
   "execution_count": null,
   "metadata": {
    "colab": {
     "base_uri": "https://localhost:8080/",
     "height": 826
    },
    "executionInfo": {
     "elapsed": 8,
     "status": "ok",
     "timestamp": 1635338238489,
     "user": {
      "displayName": "Monica Müller",
      "photoUrl": "https://lh3.googleusercontent.com/a/default-user=s64",
      "userId": "03925055125343928828"
     },
     "user_tz": -120
    },
    "id": "e507eM28yt0Z",
    "outputId": "1d043f28-7538-4e32-ccf7-dc65e466f1f8"
   },
   "outputs": [],
   "source": [
    "ic10\n",
    "# description of ICD20 codes"
   ]
  },
  {
   "cell_type": "code",
   "execution_count": null,
   "metadata": {
    "colab": {
     "base_uri": "https://localhost:8080/",
     "height": 476
    },
    "executionInfo": {
     "elapsed": 11,
     "status": "ok",
     "timestamp": 1635338239808,
     "user": {
      "displayName": "Monica Müller",
      "photoUrl": "https://lh3.googleusercontent.com/a/default-user=s64",
      "userId": "03925055125343928828"
     },
     "user_tz": -120
    },
    "id": "QZo7OndFyvd_",
    "outputId": "78c836ec-1ff8-427f-baa7-52298ae33508"
   },
   "outputs": [],
   "source": [
    "GPic10\n",
    "#translates CTV3 codes (read_code) to ICD10 (icd10_code)"
   ]
  },
  {
   "cell_type": "code",
   "execution_count": null,
   "metadata": {
    "colab": {
     "base_uri": "https://localhost:8080/",
     "height": 424
    },
    "executionInfo": {
     "elapsed": 23,
     "status": "ok",
     "timestamp": 1635338241710,
     "user": {
      "displayName": "Monica Müller",
      "photoUrl": "https://lh3.googleusercontent.com/a/default-user=s64",
      "userId": "03925055125343928828"
     },
     "user_tz": -120
    },
    "id": "5xF6ZdG529rs",
    "outputId": "3fa90056-4ede-4317-f4ce-6382549004ca"
   },
   "outputs": [],
   "source": [
    "scripts\n",
    "# all medication patients got from their GP, incl. the COVID-19 vaccine \n",
    "# needs to be complete if want to compare vaccinated vs. non-vaccinated, but seems like not all vaccinations registered here but just the ones done by the GP"
   ]
  },
  {
   "cell_type": "code",
   "execution_count": null,
   "metadata": {},
   "outputs": [],
   "source": [
    "scripts_old"
   ]
  },
  {
   "cell_type": "code",
   "execution_count": null,
   "metadata": {
    "colab": {
     "base_uri": "https://localhost:8080/"
    },
    "executionInfo": {
     "elapsed": 231,
     "status": "ok",
     "timestamp": 1635173553779,
     "user": {
      "displayName": "Monica Müller",
      "photoUrl": "https://lh3.googleusercontent.com/a/default-user=s64",
      "userId": "03925055125343928828"
     },
     "user_tz": -120
    },
    "id": "_TBQXs1R7mHZ",
    "outputId": "9e496137-72d4-4792-9d4a-b182c8d9b791"
   },
   "outputs": [],
   "source": [
    "# get few individuals from large dataset -> may try to call only part of scripts dataset, where code == one of covid vaccine\n",
    "\n",
    "# try only to get lines from scripts dataset where dmd_code== a vaccine \n",
    "# use function read_csv. only where irgendwas\n",
    "\n",
    "print('lines in samplescripts: ', len(scripts))\n",
    "print('number of subjects in samplescripts: ', len(scripts['eid'].value_counts()))"
   ]
  },
  {
   "cell_type": "markdown",
   "metadata": {},
   "source": [
    "### Preparing the data"
   ]
  },
  {
   "cell_type": "markdown",
   "metadata": {},
   "source": [
    "#### Adding column with IC10 categories to clinical dataset for simpler analysis later on"
   ]
  },
  {
   "cell_type": "code",
   "execution_count": 12,
   "metadata": {},
   "outputs": [
    {
     "data": {
      "text/html": [
       "<div>\n",
       "<style scoped>\n",
       "    .dataframe tbody tr th:only-of-type {\n",
       "        vertical-align: middle;\n",
       "    }\n",
       "\n",
       "    .dataframe tbody tr th {\n",
       "        vertical-align: top;\n",
       "    }\n",
       "\n",
       "    .dataframe thead th {\n",
       "        text-align: right;\n",
       "    }\n",
       "</style>\n",
       "<table border=\"1\" class=\"dataframe\">\n",
       "  <thead>\n",
       "    <tr style=\"text-align: right;\">\n",
       "      <th></th>\n",
       "      <th>code</th>\n",
       "      <th>icd10_code</th>\n",
       "    </tr>\n",
       "  </thead>\n",
       "  <tbody>\n",
       "    <tr>\n",
       "      <th>0</th>\n",
       "      <td>123..</td>\n",
       "      <td>Z831</td>\n",
       "    </tr>\n",
       "    <tr>\n",
       "      <th>1</th>\n",
       "      <td>123..</td>\n",
       "      <td>Z830</td>\n",
       "    </tr>\n",
       "    <tr>\n",
       "      <th>2</th>\n",
       "      <td>1231.</td>\n",
       "      <td>Z831</td>\n",
       "    </tr>\n",
       "    <tr>\n",
       "      <th>3</th>\n",
       "      <td>1232.</td>\n",
       "      <td>Z831</td>\n",
       "    </tr>\n",
       "    <tr>\n",
       "      <th>4</th>\n",
       "      <td>1233.</td>\n",
       "      <td>Z831</td>\n",
       "    </tr>\n",
       "  </tbody>\n",
       "</table>\n",
       "</div>"
      ],
      "text/plain": [
       "    code icd10_code\n",
       "0  123..       Z831\n",
       "1  123..       Z830\n",
       "2  1231.       Z831\n",
       "3  1232.       Z831\n",
       "4  1233.       Z831"
      ]
     },
     "execution_count": 12,
     "metadata": {},
     "output_type": "execute_result"
    }
   ],
   "source": [
    "# create a reduced dataset for merging with the clinical dataset \n",
    "GPic10_red =  GPic10[['read_code', 'icd10_code']]\n",
    "# rename to merge ont he ctv3 column with the clinical dataset\n",
    "GPic10_red = GPic10_red.rename(columns = {'read_code':'code'})\n",
    "GPic10_red.head()"
   ]
  },
  {
   "cell_type": "code",
   "execution_count": 13,
   "metadata": {},
   "outputs": [
    {
     "data": {
      "text/html": [
       "<div>\n",
       "<style scoped>\n",
       "    .dataframe tbody tr th:only-of-type {\n",
       "        vertical-align: middle;\n",
       "    }\n",
       "\n",
       "    .dataframe tbody tr th {\n",
       "        vertical-align: top;\n",
       "    }\n",
       "\n",
       "    .dataframe thead th {\n",
       "        text-align: right;\n",
       "    }\n",
       "</style>\n",
       "<table border=\"1\" class=\"dataframe\">\n",
       "  <thead>\n",
       "    <tr style=\"text-align: right;\">\n",
       "      <th></th>\n",
       "      <th>Unnamed: 0</th>\n",
       "      <th>eid</th>\n",
       "      <th>event_dt</th>\n",
       "      <th>code_type</th>\n",
       "      <th>code</th>\n",
       "      <th>value</th>\n",
       "      <th>icd10_code</th>\n",
       "    </tr>\n",
       "  </thead>\n",
       "  <tbody>\n",
       "    <tr>\n",
       "      <th>0</th>\n",
       "      <td>42</td>\n",
       "      <td>1000034</td>\n",
       "      <td>13/05/1998</td>\n",
       "      <td>0</td>\n",
       "      <td>XE1lT</td>\n",
       "      <td>0.0</td>\n",
       "      <td>S832</td>\n",
       "    </tr>\n",
       "    <tr>\n",
       "      <th>1</th>\n",
       "      <td>326324</td>\n",
       "      <td>1011402</td>\n",
       "      <td>15/08/2003</td>\n",
       "      <td>0</td>\n",
       "      <td>XE1lT</td>\n",
       "      <td>0.0</td>\n",
       "      <td>S832</td>\n",
       "    </tr>\n",
       "    <tr>\n",
       "      <th>2</th>\n",
       "      <td>326338</td>\n",
       "      <td>1011402</td>\n",
       "      <td>11/03/2004</td>\n",
       "      <td>0</td>\n",
       "      <td>XE1lT</td>\n",
       "      <td>0.0</td>\n",
       "      <td>S832</td>\n",
       "    </tr>\n",
       "    <tr>\n",
       "      <th>3</th>\n",
       "      <td>326339</td>\n",
       "      <td>1011402</td>\n",
       "      <td>16/07/2004</td>\n",
       "      <td>0</td>\n",
       "      <td>XE1lT</td>\n",
       "      <td>0.0</td>\n",
       "      <td>S832</td>\n",
       "    </tr>\n",
       "    <tr>\n",
       "      <th>4</th>\n",
       "      <td>371890</td>\n",
       "      <td>1012829</td>\n",
       "      <td>06/01/2015</td>\n",
       "      <td>0</td>\n",
       "      <td>XE1lT</td>\n",
       "      <td>0.0</td>\n",
       "      <td>S832</td>\n",
       "    </tr>\n",
       "    <tr>\n",
       "      <th>...</th>\n",
       "      <td>...</td>\n",
       "      <td>...</td>\n",
       "      <td>...</td>\n",
       "      <td>...</td>\n",
       "      <td>...</td>\n",
       "      <td>...</td>\n",
       "      <td>...</td>\n",
       "    </tr>\n",
       "    <tr>\n",
       "      <th>188488</th>\n",
       "      <td>996399</td>\n",
       "      <td>1033266</td>\n",
       "      <td>23/06/2015</td>\n",
       "      <td>0</td>\n",
       "      <td>XaDbE</td>\n",
       "      <td>0.0</td>\n",
       "      <td>R568</td>\n",
       "    </tr>\n",
       "    <tr>\n",
       "      <th>188489</th>\n",
       "      <td>999941</td>\n",
       "      <td>1033328</td>\n",
       "      <td>11/12/2018</td>\n",
       "      <td>0</td>\n",
       "      <td>X2060</td>\n",
       "      <td>0.0</td>\n",
       "      <td>I839</td>\n",
       "    </tr>\n",
       "    <tr>\n",
       "      <th>188490</th>\n",
       "      <td>999941</td>\n",
       "      <td>1033328</td>\n",
       "      <td>11/12/2018</td>\n",
       "      <td>0</td>\n",
       "      <td>X2060</td>\n",
       "      <td>0.0</td>\n",
       "      <td>I83</td>\n",
       "    </tr>\n",
       "    <tr>\n",
       "      <th>188491</th>\n",
       "      <td>999941</td>\n",
       "      <td>1033328</td>\n",
       "      <td>11/12/2018</td>\n",
       "      <td>0</td>\n",
       "      <td>X2060</td>\n",
       "      <td>0.0</td>\n",
       "      <td>O220</td>\n",
       "    </tr>\n",
       "    <tr>\n",
       "      <th>188492</th>\n",
       "      <td>999941</td>\n",
       "      <td>1033328</td>\n",
       "      <td>11/12/2018</td>\n",
       "      <td>0</td>\n",
       "      <td>X2060</td>\n",
       "      <td>0.0</td>\n",
       "      <td>O878</td>\n",
       "    </tr>\n",
       "  </tbody>\n",
       "</table>\n",
       "<p>188493 rows × 7 columns</p>\n",
       "</div>"
      ],
      "text/plain": [
       "        Unnamed: 0      eid    event_dt  code_type   code  value icd10_code\n",
       "0               42  1000034  13/05/1998          0  XE1lT    0.0       S832\n",
       "1           326324  1011402  15/08/2003          0  XE1lT    0.0       S832\n",
       "2           326338  1011402  11/03/2004          0  XE1lT    0.0       S832\n",
       "3           326339  1011402  16/07/2004          0  XE1lT    0.0       S832\n",
       "4           371890  1012829  06/01/2015          0  XE1lT    0.0       S832\n",
       "...            ...      ...         ...        ...    ...    ...        ...\n",
       "188488      996399  1033266  23/06/2015          0  XaDbE    0.0       R568\n",
       "188489      999941  1033328  11/12/2018          0  X2060    0.0       I839\n",
       "188490      999941  1033328  11/12/2018          0  X2060    0.0        I83\n",
       "188491      999941  1033328  11/12/2018          0  X2060    0.0       O220\n",
       "188492      999941  1033328  11/12/2018          0  X2060    0.0       O878\n",
       "\n",
       "[188493 rows x 7 columns]"
      ]
     },
     "execution_count": 13,
     "metadata": {},
     "output_type": "execute_result"
    }
   ],
   "source": [
    "clinical_ic10 = pd.merge(clinical, GPic10_red, how='inner', on='code')\n",
    "clinical_ic10"
   ]
  },
  {
   "cell_type": "markdown",
   "metadata": {},
   "source": [
    "#### Data Cleaning"
   ]
  },
  {
   "cell_type": "code",
   "execution_count": 14,
   "metadata": {},
   "outputs": [
    {
     "data": {
      "text/html": [
       "<div>\n",
       "<style scoped>\n",
       "    .dataframe tbody tr th:only-of-type {\n",
       "        vertical-align: middle;\n",
       "    }\n",
       "\n",
       "    .dataframe tbody tr th {\n",
       "        vertical-align: top;\n",
       "    }\n",
       "\n",
       "    .dataframe thead th {\n",
       "        text-align: right;\n",
       "    }\n",
       "</style>\n",
       "<table border=\"1\" class=\"dataframe\">\n",
       "  <thead>\n",
       "    <tr style=\"text-align: right;\">\n",
       "      <th></th>\n",
       "      <th>eid</th>\n",
       "      <th>event_dt</th>\n",
       "      <th>code</th>\n",
       "      <th>icd10_code</th>\n",
       "    </tr>\n",
       "  </thead>\n",
       "  <tbody>\n",
       "    <tr>\n",
       "      <th>0</th>\n",
       "      <td>1000034</td>\n",
       "      <td>13/05/1998</td>\n",
       "      <td>XE1lT</td>\n",
       "      <td>S832</td>\n",
       "    </tr>\n",
       "    <tr>\n",
       "      <th>1</th>\n",
       "      <td>1011402</td>\n",
       "      <td>15/08/2003</td>\n",
       "      <td>XE1lT</td>\n",
       "      <td>S832</td>\n",
       "    </tr>\n",
       "    <tr>\n",
       "      <th>2</th>\n",
       "      <td>1011402</td>\n",
       "      <td>11/03/2004</td>\n",
       "      <td>XE1lT</td>\n",
       "      <td>S832</td>\n",
       "    </tr>\n",
       "    <tr>\n",
       "      <th>3</th>\n",
       "      <td>1011402</td>\n",
       "      <td>16/07/2004</td>\n",
       "      <td>XE1lT</td>\n",
       "      <td>S832</td>\n",
       "    </tr>\n",
       "    <tr>\n",
       "      <th>4</th>\n",
       "      <td>1012829</td>\n",
       "      <td>06/01/2015</td>\n",
       "      <td>XE1lT</td>\n",
       "      <td>S832</td>\n",
       "    </tr>\n",
       "    <tr>\n",
       "      <th>...</th>\n",
       "      <td>...</td>\n",
       "      <td>...</td>\n",
       "      <td>...</td>\n",
       "      <td>...</td>\n",
       "    </tr>\n",
       "    <tr>\n",
       "      <th>188488</th>\n",
       "      <td>1033266</td>\n",
       "      <td>23/06/2015</td>\n",
       "      <td>XaDbE</td>\n",
       "      <td>R568</td>\n",
       "    </tr>\n",
       "    <tr>\n",
       "      <th>188489</th>\n",
       "      <td>1033328</td>\n",
       "      <td>11/12/2018</td>\n",
       "      <td>X2060</td>\n",
       "      <td>I839</td>\n",
       "    </tr>\n",
       "    <tr>\n",
       "      <th>188490</th>\n",
       "      <td>1033328</td>\n",
       "      <td>11/12/2018</td>\n",
       "      <td>X2060</td>\n",
       "      <td>I83</td>\n",
       "    </tr>\n",
       "    <tr>\n",
       "      <th>188491</th>\n",
       "      <td>1033328</td>\n",
       "      <td>11/12/2018</td>\n",
       "      <td>X2060</td>\n",
       "      <td>O220</td>\n",
       "    </tr>\n",
       "    <tr>\n",
       "      <th>188492</th>\n",
       "      <td>1033328</td>\n",
       "      <td>11/12/2018</td>\n",
       "      <td>X2060</td>\n",
       "      <td>O878</td>\n",
       "    </tr>\n",
       "  </tbody>\n",
       "</table>\n",
       "<p>188493 rows × 4 columns</p>\n",
       "</div>"
      ],
      "text/plain": [
       "            eid    event_dt   code icd10_code\n",
       "0       1000034  13/05/1998  XE1lT       S832\n",
       "1       1011402  15/08/2003  XE1lT       S832\n",
       "2       1011402  11/03/2004  XE1lT       S832\n",
       "3       1011402  16/07/2004  XE1lT       S832\n",
       "4       1012829  06/01/2015  XE1lT       S832\n",
       "...         ...         ...    ...        ...\n",
       "188488  1033266  23/06/2015  XaDbE       R568\n",
       "188489  1033328  11/12/2018  X2060       I839\n",
       "188490  1033328  11/12/2018  X2060        I83\n",
       "188491  1033328  11/12/2018  X2060       O220\n",
       "188492  1033328  11/12/2018  X2060       O878\n",
       "\n",
       "[188493 rows x 4 columns]"
      ]
     },
     "execution_count": 14,
     "metadata": {},
     "output_type": "execute_result"
    }
   ],
   "source": [
    "# drop unnecessary columns\n",
    "clinical_ic10.drop(columns = ['code_type', 'value', 'Unnamed: 0'], inplace = True)\n",
    "clinical_ic10"
   ]
  },
  {
   "cell_type": "code",
   "execution_count": 15,
   "metadata": {},
   "outputs": [
    {
     "data": {
      "text/plain": [
       "eid           0\n",
       "event_dt      0\n",
       "code          0\n",
       "icd10_code    0\n",
       "dtype: int64"
      ]
     },
     "execution_count": 15,
     "metadata": {},
     "output_type": "execute_result"
    }
   ],
   "source": [
    "pd.isnull(clinical_ic10).sum()\n",
    "# no NaN"
   ]
  },
  {
   "cell_type": "code",
   "execution_count": 16,
   "metadata": {},
   "outputs": [
    {
     "data": {
      "text/plain": [
       "Unnamed: 0          0\n",
       "ICD10_CODE          1\n",
       "ALT_CODE            2\n",
       "USAGE               2\n",
       "USAGE_UK            2\n",
       "DESCRIPTION         2\n",
       "MODIFIER_4          2\n",
       "MODIFIER_5          2\n",
       "QUALIFIERS          2\n",
       "GENDER_MASK         2\n",
       "MIN_AGE             2\n",
       "MAX_AGE             2\n",
       "TREE_DESCRIPTION    2\n",
       "dtype: int64"
      ]
     },
     "execution_count": 16,
     "metadata": {},
     "output_type": "execute_result"
    }
   ],
   "source": [
    "pd.isnull(ic10).sum()"
   ]
  },
  {
   "cell_type": "code",
   "execution_count": 17,
   "metadata": {},
   "outputs": [],
   "source": [
    "# remove duplicate entries in clinical dataset \n",
    "# (for other datasets, it should not be a problem)\n",
    "clinical_ic10.drop_duplicates(inplace = True) \n",
    "\n",
    "# remove NaN in selected column\n",
    "ic10.dropna(subset=['DESCRIPTION'], inplace = True)"
   ]
  },
  {
   "cell_type": "code",
   "execution_count": 18,
   "metadata": {},
   "outputs": [
    {
     "data": {
      "text/plain": [
       "Unnamed: 0          0\n",
       "ICD10_CODE          0\n",
       "ALT_CODE            0\n",
       "USAGE               0\n",
       "USAGE_UK            0\n",
       "DESCRIPTION         0\n",
       "MODIFIER_4          0\n",
       "MODIFIER_5          0\n",
       "QUALIFIERS          0\n",
       "GENDER_MASK         0\n",
       "MIN_AGE             0\n",
       "MAX_AGE             0\n",
       "TREE_DESCRIPTION    0\n",
       "dtype: int64"
      ]
     },
     "execution_count": 18,
     "metadata": {},
     "output_type": "execute_result"
    }
   ],
   "source": [
    "pd.isnull(ic10).sum()"
   ]
  },
  {
   "cell_type": "code",
   "execution_count": 19,
   "metadata": {},
   "outputs": [
    {
     "data": {
      "text/html": [
       "<div>\n",
       "<style scoped>\n",
       "    .dataframe tbody tr th:only-of-type {\n",
       "        vertical-align: middle;\n",
       "    }\n",
       "\n",
       "    .dataframe tbody tr th {\n",
       "        vertical-align: top;\n",
       "    }\n",
       "\n",
       "    .dataframe thead th {\n",
       "        text-align: right;\n",
       "    }\n",
       "</style>\n",
       "<table border=\"1\" class=\"dataframe\">\n",
       "  <thead>\n",
       "    <tr style=\"text-align: right;\">\n",
       "      <th></th>\n",
       "      <th>eid</th>\n",
       "      <th>event_dt</th>\n",
       "      <th>code</th>\n",
       "      <th>icd10_code</th>\n",
       "    </tr>\n",
       "  </thead>\n",
       "  <tbody>\n",
       "    <tr>\n",
       "      <th>0</th>\n",
       "      <td>1000034</td>\n",
       "      <td>13/05/1998</td>\n",
       "      <td>XE1lT</td>\n",
       "      <td>S832</td>\n",
       "    </tr>\n",
       "    <tr>\n",
       "      <th>1</th>\n",
       "      <td>1011402</td>\n",
       "      <td>15/08/2003</td>\n",
       "      <td>XE1lT</td>\n",
       "      <td>S832</td>\n",
       "    </tr>\n",
       "    <tr>\n",
       "      <th>2</th>\n",
       "      <td>1011402</td>\n",
       "      <td>11/03/2004</td>\n",
       "      <td>XE1lT</td>\n",
       "      <td>S832</td>\n",
       "    </tr>\n",
       "    <tr>\n",
       "      <th>3</th>\n",
       "      <td>1011402</td>\n",
       "      <td>16/07/2004</td>\n",
       "      <td>XE1lT</td>\n",
       "      <td>S832</td>\n",
       "    </tr>\n",
       "    <tr>\n",
       "      <th>4</th>\n",
       "      <td>1012829</td>\n",
       "      <td>06/01/2015</td>\n",
       "      <td>XE1lT</td>\n",
       "      <td>S832</td>\n",
       "    </tr>\n",
       "    <tr>\n",
       "      <th>...</th>\n",
       "      <td>...</td>\n",
       "      <td>...</td>\n",
       "      <td>...</td>\n",
       "      <td>...</td>\n",
       "    </tr>\n",
       "    <tr>\n",
       "      <th>188488</th>\n",
       "      <td>1033266</td>\n",
       "      <td>23/06/2015</td>\n",
       "      <td>XaDbE</td>\n",
       "      <td>R568</td>\n",
       "    </tr>\n",
       "    <tr>\n",
       "      <th>188489</th>\n",
       "      <td>1033328</td>\n",
       "      <td>11/12/2018</td>\n",
       "      <td>X2060</td>\n",
       "      <td>I839</td>\n",
       "    </tr>\n",
       "    <tr>\n",
       "      <th>188490</th>\n",
       "      <td>1033328</td>\n",
       "      <td>11/12/2018</td>\n",
       "      <td>X2060</td>\n",
       "      <td>I83</td>\n",
       "    </tr>\n",
       "    <tr>\n",
       "      <th>188491</th>\n",
       "      <td>1033328</td>\n",
       "      <td>11/12/2018</td>\n",
       "      <td>X2060</td>\n",
       "      <td>O220</td>\n",
       "    </tr>\n",
       "    <tr>\n",
       "      <th>188492</th>\n",
       "      <td>1033328</td>\n",
       "      <td>11/12/2018</td>\n",
       "      <td>X2060</td>\n",
       "      <td>O878</td>\n",
       "    </tr>\n",
       "  </tbody>\n",
       "</table>\n",
       "<p>173540 rows × 4 columns</p>\n",
       "</div>"
      ],
      "text/plain": [
       "            eid    event_dt   code icd10_code\n",
       "0       1000034  13/05/1998  XE1lT       S832\n",
       "1       1011402  15/08/2003  XE1lT       S832\n",
       "2       1011402  11/03/2004  XE1lT       S832\n",
       "3       1011402  16/07/2004  XE1lT       S832\n",
       "4       1012829  06/01/2015  XE1lT       S832\n",
       "...         ...         ...    ...        ...\n",
       "188488  1033266  23/06/2015  XaDbE       R568\n",
       "188489  1033328  11/12/2018  X2060       I839\n",
       "188490  1033328  11/12/2018  X2060        I83\n",
       "188491  1033328  11/12/2018  X2060       O220\n",
       "188492  1033328  11/12/2018  X2060       O878\n",
       "\n",
       "[173540 rows x 4 columns]"
      ]
     },
     "execution_count": 19,
     "metadata": {},
     "output_type": "execute_result"
    }
   ],
   "source": [
    "clinical_ic10"
   ]
  },
  {
   "cell_type": "code",
   "execution_count": 20,
   "metadata": {},
   "outputs": [
    {
     "data": {
      "text/plain": [
       "tuple"
      ]
     },
     "execution_count": 20,
     "metadata": {},
     "output_type": "execute_result"
    }
   ],
   "source": [
    "type(('O','P','S','T','U','V','W','X','Y','Z'))"
   ]
  },
  {
   "cell_type": "code",
   "execution_count": 21,
   "metadata": {},
   "outputs": [
    {
     "data": {
      "text/html": [
       "<div>\n",
       "<style scoped>\n",
       "    .dataframe tbody tr th:only-of-type {\n",
       "        vertical-align: middle;\n",
       "    }\n",
       "\n",
       "    .dataframe tbody tr th {\n",
       "        vertical-align: top;\n",
       "    }\n",
       "\n",
       "    .dataframe thead th {\n",
       "        text-align: right;\n",
       "    }\n",
       "</style>\n",
       "<table border=\"1\" class=\"dataframe\">\n",
       "  <thead>\n",
       "    <tr style=\"text-align: right;\">\n",
       "      <th></th>\n",
       "      <th>eid</th>\n",
       "      <th>event_dt</th>\n",
       "      <th>code</th>\n",
       "      <th>icd10_code</th>\n",
       "    </tr>\n",
       "  </thead>\n",
       "  <tbody>\n",
       "    <tr>\n",
       "      <th>12</th>\n",
       "      <td>1000034</td>\n",
       "      <td>01/01/1978</td>\n",
       "      <td>XE0e7</td>\n",
       "      <td>N419</td>\n",
       "    </tr>\n",
       "    <tr>\n",
       "      <th>13</th>\n",
       "      <td>1000034</td>\n",
       "      <td>01/01/1978</td>\n",
       "      <td>XE0e7</td>\n",
       "      <td>N41</td>\n",
       "    </tr>\n",
       "    <tr>\n",
       "      <th>14</th>\n",
       "      <td>1013867</td>\n",
       "      <td>10/01/2003</td>\n",
       "      <td>XE0e7</td>\n",
       "      <td>N419</td>\n",
       "    </tr>\n",
       "    <tr>\n",
       "      <th>15</th>\n",
       "      <td>1013867</td>\n",
       "      <td>10/01/2003</td>\n",
       "      <td>XE0e7</td>\n",
       "      <td>N41</td>\n",
       "    </tr>\n",
       "    <tr>\n",
       "      <th>16</th>\n",
       "      <td>1000034</td>\n",
       "      <td>23/01/2019</td>\n",
       "      <td>XE1FC</td>\n",
       "      <td>M543</td>\n",
       "    </tr>\n",
       "    <tr>\n",
       "      <th>...</th>\n",
       "      <td>...</td>\n",
       "      <td>...</td>\n",
       "      <td>...</td>\n",
       "      <td>...</td>\n",
       "    </tr>\n",
       "    <tr>\n",
       "      <th>188460</th>\n",
       "      <td>1033266</td>\n",
       "      <td>11/02/2016</td>\n",
       "      <td>XaQv0</td>\n",
       "      <td>R452</td>\n",
       "    </tr>\n",
       "    <tr>\n",
       "      <th>188461</th>\n",
       "      <td>1033266</td>\n",
       "      <td>25/02/2015</td>\n",
       "      <td>X75Z0</td>\n",
       "      <td>R568</td>\n",
       "    </tr>\n",
       "    <tr>\n",
       "      <th>188488</th>\n",
       "      <td>1033266</td>\n",
       "      <td>23/06/2015</td>\n",
       "      <td>XaDbE</td>\n",
       "      <td>R568</td>\n",
       "    </tr>\n",
       "    <tr>\n",
       "      <th>188489</th>\n",
       "      <td>1033328</td>\n",
       "      <td>11/12/2018</td>\n",
       "      <td>X2060</td>\n",
       "      <td>I839</td>\n",
       "    </tr>\n",
       "    <tr>\n",
       "      <th>188490</th>\n",
       "      <td>1033328</td>\n",
       "      <td>11/12/2018</td>\n",
       "      <td>X2060</td>\n",
       "      <td>I83</td>\n",
       "    </tr>\n",
       "  </tbody>\n",
       "</table>\n",
       "<p>133026 rows × 4 columns</p>\n",
       "</div>"
      ],
      "text/plain": [
       "            eid    event_dt   code icd10_code\n",
       "12      1000034  01/01/1978  XE0e7       N419\n",
       "13      1000034  01/01/1978  XE0e7        N41\n",
       "14      1013867  10/01/2003  XE0e7       N419\n",
       "15      1013867  10/01/2003  XE0e7        N41\n",
       "16      1000034  23/01/2019  XE1FC       M543\n",
       "...         ...         ...    ...        ...\n",
       "188460  1033266  11/02/2016  XaQv0       R452\n",
       "188461  1033266  25/02/2015  X75Z0       R568\n",
       "188488  1033266  23/06/2015  XaDbE       R568\n",
       "188489  1033328  11/12/2018  X2060       I839\n",
       "188490  1033328  11/12/2018  X2060        I83\n",
       "\n",
       "[133026 rows x 4 columns]"
      ]
     },
     "execution_count": 21,
     "metadata": {},
     "output_type": "execute_result"
    }
   ],
   "source": [
    "# remove not considered clinical events in the clinical dataset (e.g. external factors)\n",
    "\n",
    "\"\"\"\"\n",
    "Monica's suggestions: \n",
    "remove O-Z (pregnancy, congenital, others, COVID-19, external causes, factors)\n",
    "maybe keep Q (congenital) as underlying disease, keep all others\n",
    "\n",
    "Renée:\n",
    "I would also keep R in there: \"In general, categories in this chapter include the less well-defined conditions and symptoms that, without the necessary study of the case to establish a final diagnosis, point perhaps equally to two or more diseases or to two or more systems of the body.\n",
    "\n",
    "Decision:\n",
    "O-Z remove, but leave R as adverse event & Q as underlying disease.\n",
    "\n",
    "\"\"\"\n",
    "\n",
    "# tuple of categories we do not consider as adverse event or underlying disease:\n",
    "# the ones starting with O-Z (except Q and R)\n",
    "exclude = ('O','P','S','T','U','V','W','X','Y','Z')\n",
    "\n",
    "# broadcasting the clinical dataset for all icd codes except those we exclude\n",
    "clinical_ic10 = clinical_ic10[~clinical_ic10['icd10_code'].astype(str).str.startswith(exclude)]\n",
    "clinical_ic10"
   ]
  },
  {
   "cell_type": "markdown",
   "metadata": {},
   "source": [
    "#### Rename columns of mortality dataframe"
   ]
  },
  {
   "cell_type": "code",
   "execution_count": 22,
   "metadata": {},
   "outputs": [
    {
     "data": {
      "text/html": [
       "<div>\n",
       "<style scoped>\n",
       "    .dataframe tbody tr th:only-of-type {\n",
       "        vertical-align: middle;\n",
       "    }\n",
       "\n",
       "    .dataframe tbody tr th {\n",
       "        vertical-align: top;\n",
       "    }\n",
       "\n",
       "    .dataframe thead th {\n",
       "        text-align: right;\n",
       "    }\n",
       "</style>\n",
       "<table border=\"1\" class=\"dataframe\">\n",
       "  <thead>\n",
       "    <tr style=\"text-align: right;\">\n",
       "      <th></th>\n",
       "      <th>Unnamed: 0</th>\n",
       "      <th>eid</th>\n",
       "      <th>issue_date</th>\n",
       "      <th>dmd_code</th>\n",
       "    </tr>\n",
       "  </thead>\n",
       "  <tbody>\n",
       "    <tr>\n",
       "      <th>0</th>\n",
       "      <td>39278003</td>\n",
       "      <td>3743492</td>\n",
       "      <td>2021-03-22</td>\n",
       "      <td>320031002</td>\n",
       "    </tr>\n",
       "    <tr>\n",
       "      <th>1</th>\n",
       "      <td>35914327</td>\n",
       "      <td>3508920</td>\n",
       "      <td>2021-03-15</td>\n",
       "      <td>3591211000001105</td>\n",
       "    </tr>\n",
       "    <tr>\n",
       "      <th>2</th>\n",
       "      <td>49790799</td>\n",
       "      <td>4472075</td>\n",
       "      <td>2021-05-03</td>\n",
       "      <td>33405511000001102</td>\n",
       "    </tr>\n",
       "    <tr>\n",
       "      <th>3</th>\n",
       "      <td>31447155</td>\n",
       "      <td>3192040</td>\n",
       "      <td>2021-03-15</td>\n",
       "      <td>321745007</td>\n",
       "    </tr>\n",
       "    <tr>\n",
       "      <th>4</th>\n",
       "      <td>69964306</td>\n",
       "      <td>5879124</td>\n",
       "      <td>2021-01-19</td>\n",
       "      <td>320031002</td>\n",
       "    </tr>\n",
       "    <tr>\n",
       "      <th>...</th>\n",
       "      <td>...</td>\n",
       "      <td>...</td>\n",
       "      <td>...</td>\n",
       "      <td>...</td>\n",
       "    </tr>\n",
       "    <tr>\n",
       "      <th>99995</th>\n",
       "      <td>62996879</td>\n",
       "      <td>5393814</td>\n",
       "      <td>2021-01-27</td>\n",
       "      <td>320030001</td>\n",
       "    </tr>\n",
       "    <tr>\n",
       "      <th>99996</th>\n",
       "      <td>47834233</td>\n",
       "      <td>4333940</td>\n",
       "      <td>2021-01-03</td>\n",
       "      <td>38893411000001105</td>\n",
       "    </tr>\n",
       "    <tr>\n",
       "      <th>99997</th>\n",
       "      <td>33831040</td>\n",
       "      <td>3365447</td>\n",
       "      <td>2021-03-31</td>\n",
       "      <td>318052005</td>\n",
       "    </tr>\n",
       "    <tr>\n",
       "      <th>99998</th>\n",
       "      <td>12832421</td>\n",
       "      <td>1889162</td>\n",
       "      <td>2021-03-30</td>\n",
       "      <td>321152004</td>\n",
       "    </tr>\n",
       "    <tr>\n",
       "      <th>99999</th>\n",
       "      <td>67550733</td>\n",
       "      <td>5709187</td>\n",
       "      <td>2021-02-26</td>\n",
       "      <td>318896009</td>\n",
       "    </tr>\n",
       "  </tbody>\n",
       "</table>\n",
       "<p>100000 rows × 4 columns</p>\n",
       "</div>"
      ],
      "text/plain": [
       "       Unnamed: 0      eid  issue_date           dmd_code\n",
       "0        39278003  3743492  2021-03-22          320031002\n",
       "1        35914327  3508920  2021-03-15   3591211000001105\n",
       "2        49790799  4472075  2021-05-03  33405511000001102\n",
       "3        31447155  3192040  2021-03-15          321745007\n",
       "4        69964306  5879124  2021-01-19          320031002\n",
       "...           ...      ...         ...                ...\n",
       "99995    62996879  5393814  2021-01-27          320030001\n",
       "99996    47834233  4333940  2021-01-03  38893411000001105\n",
       "99997    33831040  3365447  2021-03-31          318052005\n",
       "99998    12832421  1889162  2021-03-30          321152004\n",
       "99999    67550733  5709187  2021-02-26          318896009\n",
       "\n",
       "[100000 rows x 4 columns]"
      ]
     },
     "execution_count": 22,
     "metadata": {},
     "output_type": "execute_result"
    }
   ],
   "source": [
    "scripts_old"
   ]
  },
  {
   "cell_type": "code",
   "execution_count": 23,
   "metadata": {
    "colab": {
     "base_uri": "https://localhost:8080/"
    },
    "executionInfo": {
     "elapsed": 231,
     "status": "ok",
     "timestamp": 1635173553779,
     "user": {
      "displayName": "Monica Müller",
      "photoUrl": "https://lh3.googleusercontent.com/a/default-user=s64",
      "userId": "03925055125343928828"
     },
     "user_tz": -120
    },
    "id": "_TBQXs1R7mHZ",
    "outputId": "9e496137-72d4-4792-9d4a-b182c8d9b791"
   },
   "outputs": [
    {
     "name": "stdout",
     "output_type": "stream",
     "text": [
      "lines in samplescripts:  1000000\n",
      "number of subjects in samplescripts:  2589\n"
     ]
    }
   ],
   "source": [
    "# get few individuals from large dataset -> may try to call only part of scripts dataset, where code == one of covid vaccine\n",
    "\n",
    "# try only to get lines from scripts dataset where dmd_code== a vaccine \n",
    "# use function read_csv. only where irgendwas\n",
    "\n",
    "print('lines in samplescripts: ', len(scripts))\n",
    "print('number of subjects in samplescripts: ', len(scripts['eid'].value_counts()))"
   ]
  },
  {
   "cell_type": "markdown",
   "metadata": {},
   "source": [
    "### Preparing the data"
   ]
  },
  {
   "cell_type": "markdown",
   "metadata": {},
   "source": [
    "#### Adding column with IC10 categories to clinical dataset for simpler analysis later on"
   ]
  },
  {
   "cell_type": "code",
   "execution_count": 24,
   "metadata": {},
   "outputs": [
    {
     "data": {
      "text/html": [
       "<div>\n",
       "<style scoped>\n",
       "    .dataframe tbody tr th:only-of-type {\n",
       "        vertical-align: middle;\n",
       "    }\n",
       "\n",
       "    .dataframe tbody tr th {\n",
       "        vertical-align: top;\n",
       "    }\n",
       "\n",
       "    .dataframe thead th {\n",
       "        text-align: right;\n",
       "    }\n",
       "</style>\n",
       "<table border=\"1\" class=\"dataframe\">\n",
       "  <thead>\n",
       "    <tr style=\"text-align: right;\">\n",
       "      <th></th>\n",
       "      <th>code</th>\n",
       "      <th>icd10_code</th>\n",
       "    </tr>\n",
       "  </thead>\n",
       "  <tbody>\n",
       "    <tr>\n",
       "      <th>0</th>\n",
       "      <td>123..</td>\n",
       "      <td>Z831</td>\n",
       "    </tr>\n",
       "    <tr>\n",
       "      <th>1</th>\n",
       "      <td>123..</td>\n",
       "      <td>Z830</td>\n",
       "    </tr>\n",
       "    <tr>\n",
       "      <th>2</th>\n",
       "      <td>1231.</td>\n",
       "      <td>Z831</td>\n",
       "    </tr>\n",
       "    <tr>\n",
       "      <th>3</th>\n",
       "      <td>1232.</td>\n",
       "      <td>Z831</td>\n",
       "    </tr>\n",
       "    <tr>\n",
       "      <th>4</th>\n",
       "      <td>1233.</td>\n",
       "      <td>Z831</td>\n",
       "    </tr>\n",
       "  </tbody>\n",
       "</table>\n",
       "</div>"
      ],
      "text/plain": [
       "    code icd10_code\n",
       "0  123..       Z831\n",
       "1  123..       Z830\n",
       "2  1231.       Z831\n",
       "3  1232.       Z831\n",
       "4  1233.       Z831"
      ]
     },
     "execution_count": 24,
     "metadata": {},
     "output_type": "execute_result"
    }
   ],
   "source": [
    "# create a reduced dataset for merging with the clinical dataset \n",
    "GPic10_red =  GPic10[['read_code', 'icd10_code']]\n",
    "# rename to merge ont he ctv3 column with the clinical dataset\n",
    "GPic10_red = GPic10_red.rename(columns = {'read_code':'code'})\n",
    "GPic10_red.head()"
   ]
  },
  {
   "cell_type": "code",
   "execution_count": 25,
   "metadata": {},
   "outputs": [
    {
     "data": {
      "text/html": [
       "<div>\n",
       "<style scoped>\n",
       "    .dataframe tbody tr th:only-of-type {\n",
       "        vertical-align: middle;\n",
       "    }\n",
       "\n",
       "    .dataframe tbody tr th {\n",
       "        vertical-align: top;\n",
       "    }\n",
       "\n",
       "    .dataframe thead th {\n",
       "        text-align: right;\n",
       "    }\n",
       "</style>\n",
       "<table border=\"1\" class=\"dataframe\">\n",
       "  <thead>\n",
       "    <tr style=\"text-align: right;\">\n",
       "      <th></th>\n",
       "      <th>Unnamed: 0</th>\n",
       "      <th>eid</th>\n",
       "      <th>event_dt</th>\n",
       "      <th>code_type</th>\n",
       "      <th>code</th>\n",
       "      <th>value</th>\n",
       "      <th>icd10_code</th>\n",
       "    </tr>\n",
       "  </thead>\n",
       "  <tbody>\n",
       "    <tr>\n",
       "      <th>0</th>\n",
       "      <td>42</td>\n",
       "      <td>1000034</td>\n",
       "      <td>13/05/1998</td>\n",
       "      <td>0</td>\n",
       "      <td>XE1lT</td>\n",
       "      <td>0.0</td>\n",
       "      <td>S832</td>\n",
       "    </tr>\n",
       "    <tr>\n",
       "      <th>1</th>\n",
       "      <td>326324</td>\n",
       "      <td>1011402</td>\n",
       "      <td>15/08/2003</td>\n",
       "      <td>0</td>\n",
       "      <td>XE1lT</td>\n",
       "      <td>0.0</td>\n",
       "      <td>S832</td>\n",
       "    </tr>\n",
       "    <tr>\n",
       "      <th>2</th>\n",
       "      <td>326338</td>\n",
       "      <td>1011402</td>\n",
       "      <td>11/03/2004</td>\n",
       "      <td>0</td>\n",
       "      <td>XE1lT</td>\n",
       "      <td>0.0</td>\n",
       "      <td>S832</td>\n",
       "    </tr>\n",
       "    <tr>\n",
       "      <th>3</th>\n",
       "      <td>326339</td>\n",
       "      <td>1011402</td>\n",
       "      <td>16/07/2004</td>\n",
       "      <td>0</td>\n",
       "      <td>XE1lT</td>\n",
       "      <td>0.0</td>\n",
       "      <td>S832</td>\n",
       "    </tr>\n",
       "    <tr>\n",
       "      <th>4</th>\n",
       "      <td>371890</td>\n",
       "      <td>1012829</td>\n",
       "      <td>06/01/2015</td>\n",
       "      <td>0</td>\n",
       "      <td>XE1lT</td>\n",
       "      <td>0.0</td>\n",
       "      <td>S832</td>\n",
       "    </tr>\n",
       "    <tr>\n",
       "      <th>...</th>\n",
       "      <td>...</td>\n",
       "      <td>...</td>\n",
       "      <td>...</td>\n",
       "      <td>...</td>\n",
       "      <td>...</td>\n",
       "      <td>...</td>\n",
       "      <td>...</td>\n",
       "    </tr>\n",
       "    <tr>\n",
       "      <th>188488</th>\n",
       "      <td>996399</td>\n",
       "      <td>1033266</td>\n",
       "      <td>23/06/2015</td>\n",
       "      <td>0</td>\n",
       "      <td>XaDbE</td>\n",
       "      <td>0.0</td>\n",
       "      <td>R568</td>\n",
       "    </tr>\n",
       "    <tr>\n",
       "      <th>188489</th>\n",
       "      <td>999941</td>\n",
       "      <td>1033328</td>\n",
       "      <td>11/12/2018</td>\n",
       "      <td>0</td>\n",
       "      <td>X2060</td>\n",
       "      <td>0.0</td>\n",
       "      <td>I839</td>\n",
       "    </tr>\n",
       "    <tr>\n",
       "      <th>188490</th>\n",
       "      <td>999941</td>\n",
       "      <td>1033328</td>\n",
       "      <td>11/12/2018</td>\n",
       "      <td>0</td>\n",
       "      <td>X2060</td>\n",
       "      <td>0.0</td>\n",
       "      <td>I83</td>\n",
       "    </tr>\n",
       "    <tr>\n",
       "      <th>188491</th>\n",
       "      <td>999941</td>\n",
       "      <td>1033328</td>\n",
       "      <td>11/12/2018</td>\n",
       "      <td>0</td>\n",
       "      <td>X2060</td>\n",
       "      <td>0.0</td>\n",
       "      <td>O220</td>\n",
       "    </tr>\n",
       "    <tr>\n",
       "      <th>188492</th>\n",
       "      <td>999941</td>\n",
       "      <td>1033328</td>\n",
       "      <td>11/12/2018</td>\n",
       "      <td>0</td>\n",
       "      <td>X2060</td>\n",
       "      <td>0.0</td>\n",
       "      <td>O878</td>\n",
       "    </tr>\n",
       "  </tbody>\n",
       "</table>\n",
       "<p>188493 rows × 7 columns</p>\n",
       "</div>"
      ],
      "text/plain": [
       "        Unnamed: 0      eid    event_dt  code_type   code  value icd10_code\n",
       "0               42  1000034  13/05/1998          0  XE1lT    0.0       S832\n",
       "1           326324  1011402  15/08/2003          0  XE1lT    0.0       S832\n",
       "2           326338  1011402  11/03/2004          0  XE1lT    0.0       S832\n",
       "3           326339  1011402  16/07/2004          0  XE1lT    0.0       S832\n",
       "4           371890  1012829  06/01/2015          0  XE1lT    0.0       S832\n",
       "...            ...      ...         ...        ...    ...    ...        ...\n",
       "188488      996399  1033266  23/06/2015          0  XaDbE    0.0       R568\n",
       "188489      999941  1033328  11/12/2018          0  X2060    0.0       I839\n",
       "188490      999941  1033328  11/12/2018          0  X2060    0.0        I83\n",
       "188491      999941  1033328  11/12/2018          0  X2060    0.0       O220\n",
       "188492      999941  1033328  11/12/2018          0  X2060    0.0       O878\n",
       "\n",
       "[188493 rows x 7 columns]"
      ]
     },
     "execution_count": 25,
     "metadata": {},
     "output_type": "execute_result"
    }
   ],
   "source": [
    "clinical_ic10 = pd.merge(clinical, GPic10_red, how='inner', on='code')\n",
    "clinical_ic10"
   ]
  },
  {
   "cell_type": "markdown",
   "metadata": {},
   "source": [
    "#### Data Cleaning"
   ]
  },
  {
   "cell_type": "code",
   "execution_count": 26,
   "metadata": {},
   "outputs": [
    {
     "data": {
      "text/html": [
       "<div>\n",
       "<style scoped>\n",
       "    .dataframe tbody tr th:only-of-type {\n",
       "        vertical-align: middle;\n",
       "    }\n",
       "\n",
       "    .dataframe tbody tr th {\n",
       "        vertical-align: top;\n",
       "    }\n",
       "\n",
       "    .dataframe thead th {\n",
       "        text-align: right;\n",
       "    }\n",
       "</style>\n",
       "<table border=\"1\" class=\"dataframe\">\n",
       "  <thead>\n",
       "    <tr style=\"text-align: right;\">\n",
       "      <th></th>\n",
       "      <th>eid</th>\n",
       "      <th>event_dt</th>\n",
       "      <th>code</th>\n",
       "      <th>icd10_code</th>\n",
       "    </tr>\n",
       "  </thead>\n",
       "  <tbody>\n",
       "    <tr>\n",
       "      <th>0</th>\n",
       "      <td>1000034</td>\n",
       "      <td>13/05/1998</td>\n",
       "      <td>XE1lT</td>\n",
       "      <td>S832</td>\n",
       "    </tr>\n",
       "    <tr>\n",
       "      <th>1</th>\n",
       "      <td>1011402</td>\n",
       "      <td>15/08/2003</td>\n",
       "      <td>XE1lT</td>\n",
       "      <td>S832</td>\n",
       "    </tr>\n",
       "    <tr>\n",
       "      <th>2</th>\n",
       "      <td>1011402</td>\n",
       "      <td>11/03/2004</td>\n",
       "      <td>XE1lT</td>\n",
       "      <td>S832</td>\n",
       "    </tr>\n",
       "    <tr>\n",
       "      <th>3</th>\n",
       "      <td>1011402</td>\n",
       "      <td>16/07/2004</td>\n",
       "      <td>XE1lT</td>\n",
       "      <td>S832</td>\n",
       "    </tr>\n",
       "    <tr>\n",
       "      <th>4</th>\n",
       "      <td>1012829</td>\n",
       "      <td>06/01/2015</td>\n",
       "      <td>XE1lT</td>\n",
       "      <td>S832</td>\n",
       "    </tr>\n",
       "    <tr>\n",
       "      <th>...</th>\n",
       "      <td>...</td>\n",
       "      <td>...</td>\n",
       "      <td>...</td>\n",
       "      <td>...</td>\n",
       "    </tr>\n",
       "    <tr>\n",
       "      <th>188488</th>\n",
       "      <td>1033266</td>\n",
       "      <td>23/06/2015</td>\n",
       "      <td>XaDbE</td>\n",
       "      <td>R568</td>\n",
       "    </tr>\n",
       "    <tr>\n",
       "      <th>188489</th>\n",
       "      <td>1033328</td>\n",
       "      <td>11/12/2018</td>\n",
       "      <td>X2060</td>\n",
       "      <td>I839</td>\n",
       "    </tr>\n",
       "    <tr>\n",
       "      <th>188490</th>\n",
       "      <td>1033328</td>\n",
       "      <td>11/12/2018</td>\n",
       "      <td>X2060</td>\n",
       "      <td>I83</td>\n",
       "    </tr>\n",
       "    <tr>\n",
       "      <th>188491</th>\n",
       "      <td>1033328</td>\n",
       "      <td>11/12/2018</td>\n",
       "      <td>X2060</td>\n",
       "      <td>O220</td>\n",
       "    </tr>\n",
       "    <tr>\n",
       "      <th>188492</th>\n",
       "      <td>1033328</td>\n",
       "      <td>11/12/2018</td>\n",
       "      <td>X2060</td>\n",
       "      <td>O878</td>\n",
       "    </tr>\n",
       "  </tbody>\n",
       "</table>\n",
       "<p>188493 rows × 4 columns</p>\n",
       "</div>"
      ],
      "text/plain": [
       "            eid    event_dt   code icd10_code\n",
       "0       1000034  13/05/1998  XE1lT       S832\n",
       "1       1011402  15/08/2003  XE1lT       S832\n",
       "2       1011402  11/03/2004  XE1lT       S832\n",
       "3       1011402  16/07/2004  XE1lT       S832\n",
       "4       1012829  06/01/2015  XE1lT       S832\n",
       "...         ...         ...    ...        ...\n",
       "188488  1033266  23/06/2015  XaDbE       R568\n",
       "188489  1033328  11/12/2018  X2060       I839\n",
       "188490  1033328  11/12/2018  X2060        I83\n",
       "188491  1033328  11/12/2018  X2060       O220\n",
       "188492  1033328  11/12/2018  X2060       O878\n",
       "\n",
       "[188493 rows x 4 columns]"
      ]
     },
     "execution_count": 26,
     "metadata": {},
     "output_type": "execute_result"
    }
   ],
   "source": [
    "# drop unnecessary columns\n",
    "clinical_ic10.drop(columns = ['code_type', 'value', 'Unnamed: 0'], inplace = True)\n",
    "clinical_ic10"
   ]
  },
  {
   "cell_type": "code",
   "execution_count": 27,
   "metadata": {},
   "outputs": [
    {
     "data": {
      "text/plain": [
       "eid           0\n",
       "event_dt      0\n",
       "code          0\n",
       "icd10_code    0\n",
       "dtype: int64"
      ]
     },
     "execution_count": 27,
     "metadata": {},
     "output_type": "execute_result"
    }
   ],
   "source": [
    "pd.isnull(clinical_ic10).sum()\n",
    "# no NaN"
   ]
  },
  {
   "cell_type": "code",
   "execution_count": 28,
   "metadata": {},
   "outputs": [
    {
     "data": {
      "text/plain": [
       "Unnamed: 0          0\n",
       "ICD10_CODE          0\n",
       "ALT_CODE            0\n",
       "USAGE               0\n",
       "USAGE_UK            0\n",
       "DESCRIPTION         0\n",
       "MODIFIER_4          0\n",
       "MODIFIER_5          0\n",
       "QUALIFIERS          0\n",
       "GENDER_MASK         0\n",
       "MIN_AGE             0\n",
       "MAX_AGE             0\n",
       "TREE_DESCRIPTION    0\n",
       "dtype: int64"
      ]
     },
     "execution_count": 28,
     "metadata": {},
     "output_type": "execute_result"
    }
   ],
   "source": [
    "pd.isnull(ic10).sum()"
   ]
  },
  {
   "cell_type": "code",
   "execution_count": 29,
   "metadata": {},
   "outputs": [],
   "source": [
    "# remove duplicate entries in clinical dataset \n",
    "# (for other datasets, it should not be a problem)\n",
    "clinical_ic10.drop_duplicates(inplace = True) \n",
    "\n",
    "# remove NaN in selected column\n",
    "ic10.dropna(subset=['DESCRIPTION'], inplace = True)"
   ]
  },
  {
   "cell_type": "code",
   "execution_count": 30,
   "metadata": {},
   "outputs": [
    {
     "data": {
      "text/plain": [
       "Unnamed: 0          0\n",
       "ICD10_CODE          0\n",
       "ALT_CODE            0\n",
       "USAGE               0\n",
       "USAGE_UK            0\n",
       "DESCRIPTION         0\n",
       "MODIFIER_4          0\n",
       "MODIFIER_5          0\n",
       "QUALIFIERS          0\n",
       "GENDER_MASK         0\n",
       "MIN_AGE             0\n",
       "MAX_AGE             0\n",
       "TREE_DESCRIPTION    0\n",
       "dtype: int64"
      ]
     },
     "execution_count": 30,
     "metadata": {},
     "output_type": "execute_result"
    }
   ],
   "source": [
    "pd.isnull(ic10).sum()"
   ]
  },
  {
   "cell_type": "code",
   "execution_count": 31,
   "metadata": {},
   "outputs": [
    {
     "data": {
      "text/html": [
       "<div>\n",
       "<style scoped>\n",
       "    .dataframe tbody tr th:only-of-type {\n",
       "        vertical-align: middle;\n",
       "    }\n",
       "\n",
       "    .dataframe tbody tr th {\n",
       "        vertical-align: top;\n",
       "    }\n",
       "\n",
       "    .dataframe thead th {\n",
       "        text-align: right;\n",
       "    }\n",
       "</style>\n",
       "<table border=\"1\" class=\"dataframe\">\n",
       "  <thead>\n",
       "    <tr style=\"text-align: right;\">\n",
       "      <th></th>\n",
       "      <th>eid</th>\n",
       "      <th>event_dt</th>\n",
       "      <th>code</th>\n",
       "      <th>icd10_code</th>\n",
       "    </tr>\n",
       "  </thead>\n",
       "  <tbody>\n",
       "    <tr>\n",
       "      <th>0</th>\n",
       "      <td>1000034</td>\n",
       "      <td>13/05/1998</td>\n",
       "      <td>XE1lT</td>\n",
       "      <td>S832</td>\n",
       "    </tr>\n",
       "    <tr>\n",
       "      <th>1</th>\n",
       "      <td>1011402</td>\n",
       "      <td>15/08/2003</td>\n",
       "      <td>XE1lT</td>\n",
       "      <td>S832</td>\n",
       "    </tr>\n",
       "    <tr>\n",
       "      <th>2</th>\n",
       "      <td>1011402</td>\n",
       "      <td>11/03/2004</td>\n",
       "      <td>XE1lT</td>\n",
       "      <td>S832</td>\n",
       "    </tr>\n",
       "    <tr>\n",
       "      <th>3</th>\n",
       "      <td>1011402</td>\n",
       "      <td>16/07/2004</td>\n",
       "      <td>XE1lT</td>\n",
       "      <td>S832</td>\n",
       "    </tr>\n",
       "    <tr>\n",
       "      <th>4</th>\n",
       "      <td>1012829</td>\n",
       "      <td>06/01/2015</td>\n",
       "      <td>XE1lT</td>\n",
       "      <td>S832</td>\n",
       "    </tr>\n",
       "    <tr>\n",
       "      <th>...</th>\n",
       "      <td>...</td>\n",
       "      <td>...</td>\n",
       "      <td>...</td>\n",
       "      <td>...</td>\n",
       "    </tr>\n",
       "    <tr>\n",
       "      <th>188488</th>\n",
       "      <td>1033266</td>\n",
       "      <td>23/06/2015</td>\n",
       "      <td>XaDbE</td>\n",
       "      <td>R568</td>\n",
       "    </tr>\n",
       "    <tr>\n",
       "      <th>188489</th>\n",
       "      <td>1033328</td>\n",
       "      <td>11/12/2018</td>\n",
       "      <td>X2060</td>\n",
       "      <td>I839</td>\n",
       "    </tr>\n",
       "    <tr>\n",
       "      <th>188490</th>\n",
       "      <td>1033328</td>\n",
       "      <td>11/12/2018</td>\n",
       "      <td>X2060</td>\n",
       "      <td>I83</td>\n",
       "    </tr>\n",
       "    <tr>\n",
       "      <th>188491</th>\n",
       "      <td>1033328</td>\n",
       "      <td>11/12/2018</td>\n",
       "      <td>X2060</td>\n",
       "      <td>O220</td>\n",
       "    </tr>\n",
       "    <tr>\n",
       "      <th>188492</th>\n",
       "      <td>1033328</td>\n",
       "      <td>11/12/2018</td>\n",
       "      <td>X2060</td>\n",
       "      <td>O878</td>\n",
       "    </tr>\n",
       "  </tbody>\n",
       "</table>\n",
       "<p>173540 rows × 4 columns</p>\n",
       "</div>"
      ],
      "text/plain": [
       "            eid    event_dt   code icd10_code\n",
       "0       1000034  13/05/1998  XE1lT       S832\n",
       "1       1011402  15/08/2003  XE1lT       S832\n",
       "2       1011402  11/03/2004  XE1lT       S832\n",
       "3       1011402  16/07/2004  XE1lT       S832\n",
       "4       1012829  06/01/2015  XE1lT       S832\n",
       "...         ...         ...    ...        ...\n",
       "188488  1033266  23/06/2015  XaDbE       R568\n",
       "188489  1033328  11/12/2018  X2060       I839\n",
       "188490  1033328  11/12/2018  X2060        I83\n",
       "188491  1033328  11/12/2018  X2060       O220\n",
       "188492  1033328  11/12/2018  X2060       O878\n",
       "\n",
       "[173540 rows x 4 columns]"
      ]
     },
     "execution_count": 31,
     "metadata": {},
     "output_type": "execute_result"
    }
   ],
   "source": [
    "clinical_ic10"
   ]
  },
  {
   "cell_type": "code",
   "execution_count": 32,
   "metadata": {},
   "outputs": [
    {
     "data": {
      "text/plain": [
       "tuple"
      ]
     },
     "execution_count": 32,
     "metadata": {},
     "output_type": "execute_result"
    }
   ],
   "source": [
    "type(('O','P','S','T','U','V','W','X','Y','Z'))"
   ]
  },
  {
   "cell_type": "code",
   "execution_count": 33,
   "metadata": {},
   "outputs": [
    {
     "data": {
      "text/html": [
       "<div>\n",
       "<style scoped>\n",
       "    .dataframe tbody tr th:only-of-type {\n",
       "        vertical-align: middle;\n",
       "    }\n",
       "\n",
       "    .dataframe tbody tr th {\n",
       "        vertical-align: top;\n",
       "    }\n",
       "\n",
       "    .dataframe thead th {\n",
       "        text-align: right;\n",
       "    }\n",
       "</style>\n",
       "<table border=\"1\" class=\"dataframe\">\n",
       "  <thead>\n",
       "    <tr style=\"text-align: right;\">\n",
       "      <th></th>\n",
       "      <th>eid</th>\n",
       "      <th>event_dt</th>\n",
       "      <th>code</th>\n",
       "      <th>icd10_code</th>\n",
       "    </tr>\n",
       "  </thead>\n",
       "  <tbody>\n",
       "    <tr>\n",
       "      <th>12</th>\n",
       "      <td>1000034</td>\n",
       "      <td>01/01/1978</td>\n",
       "      <td>XE0e7</td>\n",
       "      <td>N419</td>\n",
       "    </tr>\n",
       "    <tr>\n",
       "      <th>13</th>\n",
       "      <td>1000034</td>\n",
       "      <td>01/01/1978</td>\n",
       "      <td>XE0e7</td>\n",
       "      <td>N41</td>\n",
       "    </tr>\n",
       "    <tr>\n",
       "      <th>14</th>\n",
       "      <td>1013867</td>\n",
       "      <td>10/01/2003</td>\n",
       "      <td>XE0e7</td>\n",
       "      <td>N419</td>\n",
       "    </tr>\n",
       "    <tr>\n",
       "      <th>15</th>\n",
       "      <td>1013867</td>\n",
       "      <td>10/01/2003</td>\n",
       "      <td>XE0e7</td>\n",
       "      <td>N41</td>\n",
       "    </tr>\n",
       "    <tr>\n",
       "      <th>16</th>\n",
       "      <td>1000034</td>\n",
       "      <td>23/01/2019</td>\n",
       "      <td>XE1FC</td>\n",
       "      <td>M543</td>\n",
       "    </tr>\n",
       "    <tr>\n",
       "      <th>...</th>\n",
       "      <td>...</td>\n",
       "      <td>...</td>\n",
       "      <td>...</td>\n",
       "      <td>...</td>\n",
       "    </tr>\n",
       "    <tr>\n",
       "      <th>188460</th>\n",
       "      <td>1033266</td>\n",
       "      <td>11/02/2016</td>\n",
       "      <td>XaQv0</td>\n",
       "      <td>R452</td>\n",
       "    </tr>\n",
       "    <tr>\n",
       "      <th>188461</th>\n",
       "      <td>1033266</td>\n",
       "      <td>25/02/2015</td>\n",
       "      <td>X75Z0</td>\n",
       "      <td>R568</td>\n",
       "    </tr>\n",
       "    <tr>\n",
       "      <th>188488</th>\n",
       "      <td>1033266</td>\n",
       "      <td>23/06/2015</td>\n",
       "      <td>XaDbE</td>\n",
       "      <td>R568</td>\n",
       "    </tr>\n",
       "    <tr>\n",
       "      <th>188489</th>\n",
       "      <td>1033328</td>\n",
       "      <td>11/12/2018</td>\n",
       "      <td>X2060</td>\n",
       "      <td>I839</td>\n",
       "    </tr>\n",
       "    <tr>\n",
       "      <th>188490</th>\n",
       "      <td>1033328</td>\n",
       "      <td>11/12/2018</td>\n",
       "      <td>X2060</td>\n",
       "      <td>I83</td>\n",
       "    </tr>\n",
       "  </tbody>\n",
       "</table>\n",
       "<p>133026 rows × 4 columns</p>\n",
       "</div>"
      ],
      "text/plain": [
       "            eid    event_dt   code icd10_code\n",
       "12      1000034  01/01/1978  XE0e7       N419\n",
       "13      1000034  01/01/1978  XE0e7        N41\n",
       "14      1013867  10/01/2003  XE0e7       N419\n",
       "15      1013867  10/01/2003  XE0e7        N41\n",
       "16      1000034  23/01/2019  XE1FC       M543\n",
       "...         ...         ...    ...        ...\n",
       "188460  1033266  11/02/2016  XaQv0       R452\n",
       "188461  1033266  25/02/2015  X75Z0       R568\n",
       "188488  1033266  23/06/2015  XaDbE       R568\n",
       "188489  1033328  11/12/2018  X2060       I839\n",
       "188490  1033328  11/12/2018  X2060        I83\n",
       "\n",
       "[133026 rows x 4 columns]"
      ]
     },
     "execution_count": 33,
     "metadata": {},
     "output_type": "execute_result"
    }
   ],
   "source": [
    "# remove not considered clinical events in the clinical dataset (e.g. external factors)\n",
    "\n",
    "\"\"\"\"\n",
    "Monica's suggestions: \n",
    "remove O-Z (pregnancy, congenital, others, COVID-19, external causes, factors)\n",
    "maybe keep Q (congenital) as underlying disease, keep all others\n",
    "\n",
    "Renée:\n",
    "I would also keep R in there: \"In general, categories in this chapter include the less well-defined conditions and symptoms that, without the necessary study of the case to establish a final diagnosis, point perhaps equally to two or more diseases or to two or more systems of the body.\n",
    "\n",
    "Decision:\n",
    "O-Z remove, but leave R as adverse event & Q as underlying disease.\n",
    "\n",
    "\"\"\"\n",
    "\n",
    "# tuple of categories we do not consider as adverse event or underlying disease:\n",
    "# the ones starting with O-Z (except Q and R)\n",
    "exclude = ('O','P','S','T','U','V','W','X','Y','Z')\n",
    "\n",
    "# broadcasting the clinical dataset for all icd codes except those we exclude\n",
    "clinical_ic10 = clinical_ic10[~clinical_ic10['icd10_code'].str.startswith(exclude)]\n",
    "clinical_ic10"
   ]
  },
  {
   "cell_type": "markdown",
   "metadata": {},
   "source": [
    "#### Rename columns of mortality dataframe"
   ]
  },
  {
   "cell_type": "code",
   "execution_count": 34,
   "metadata": {},
   "outputs": [
    {
     "data": {
      "text/html": [
       "<div>\n",
       "<style scoped>\n",
       "    .dataframe tbody tr th:only-of-type {\n",
       "        vertical-align: middle;\n",
       "    }\n",
       "\n",
       "    .dataframe tbody tr th {\n",
       "        vertical-align: top;\n",
       "    }\n",
       "\n",
       "    .dataframe thead th {\n",
       "        text-align: right;\n",
       "    }\n",
       "</style>\n",
       "<table border=\"1\" class=\"dataframe\">\n",
       "  <thead>\n",
       "    <tr style=\"text-align: right;\">\n",
       "      <th></th>\n",
       "      <th>Unnamed: 0</th>\n",
       "      <th>eid</th>\n",
       "      <th>31-0.0</th>\n",
       "      <th>34-0.0</th>\n",
       "      <th>52-0.0</th>\n",
       "      <th>53-0.0</th>\n",
       "      <th>21001-0.0</th>\n",
       "      <th>21022-0.0</th>\n",
       "      <th>40000-0.0</th>\n",
       "      <th>40001-0.0</th>\n",
       "      <th>40001-1.0</th>\n",
       "      <th>40007-0.0</th>\n",
       "    </tr>\n",
       "  </thead>\n",
       "  <tbody>\n",
       "    <tr>\n",
       "      <th>0</th>\n",
       "      <td>334517</td>\n",
       "      <td>4345610</td>\n",
       "      <td>1.0</td>\n",
       "      <td>1940.0</td>\n",
       "      <td>2.0</td>\n",
       "      <td>2009-09-17</td>\n",
       "      <td>28.4091</td>\n",
       "      <td>69.0</td>\n",
       "      <td>NaN</td>\n",
       "      <td>NaN</td>\n",
       "      <td>NaN</td>\n",
       "      <td>NaN</td>\n",
       "    </tr>\n",
       "    <tr>\n",
       "      <th>1</th>\n",
       "      <td>297000</td>\n",
       "      <td>3970369</td>\n",
       "      <td>1.0</td>\n",
       "      <td>1949.0</td>\n",
       "      <td>12.0</td>\n",
       "      <td>2008-04-18</td>\n",
       "      <td>26.1106</td>\n",
       "      <td>58.0</td>\n",
       "      <td>NaN</td>\n",
       "      <td>NaN</td>\n",
       "      <td>NaN</td>\n",
       "      <td>NaN</td>\n",
       "    </tr>\n",
       "    <tr>\n",
       "      <th>2</th>\n",
       "      <td>260822</td>\n",
       "      <td>3608558</td>\n",
       "      <td>1.0</td>\n",
       "      <td>1943.0</td>\n",
       "      <td>2.0</td>\n",
       "      <td>2010-02-26</td>\n",
       "      <td>27.4614</td>\n",
       "      <td>67.0</td>\n",
       "      <td>NaN</td>\n",
       "      <td>NaN</td>\n",
       "      <td>NaN</td>\n",
       "      <td>NaN</td>\n",
       "    </tr>\n",
       "    <tr>\n",
       "      <th>3</th>\n",
       "      <td>245361</td>\n",
       "      <td>3453904</td>\n",
       "      <td>0.0</td>\n",
       "      <td>1957.0</td>\n",
       "      <td>8.0</td>\n",
       "      <td>2010-03-19</td>\n",
       "      <td>29.3199</td>\n",
       "      <td>52.0</td>\n",
       "      <td>NaN</td>\n",
       "      <td>NaN</td>\n",
       "      <td>NaN</td>\n",
       "      <td>NaN</td>\n",
       "    </tr>\n",
       "    <tr>\n",
       "      <th>4</th>\n",
       "      <td>25616</td>\n",
       "      <td>1256219</td>\n",
       "      <td>1.0</td>\n",
       "      <td>1959.0</td>\n",
       "      <td>7.0</td>\n",
       "      <td>2008-12-20</td>\n",
       "      <td>32.7859</td>\n",
       "      <td>49.0</td>\n",
       "      <td>NaN</td>\n",
       "      <td>NaN</td>\n",
       "      <td>NaN</td>\n",
       "      <td>NaN</td>\n",
       "    </tr>\n",
       "  </tbody>\n",
       "</table>\n",
       "</div>"
      ],
      "text/plain": [
       "   Unnamed: 0      eid  31-0.0  34-0.0  52-0.0      53-0.0  21001-0.0  \\\n",
       "0      334517  4345610     1.0  1940.0     2.0  2009-09-17    28.4091   \n",
       "1      297000  3970369     1.0  1949.0    12.0  2008-04-18    26.1106   \n",
       "2      260822  3608558     1.0  1943.0     2.0  2010-02-26    27.4614   \n",
       "3      245361  3453904     0.0  1957.0     8.0  2010-03-19    29.3199   \n",
       "4       25616  1256219     1.0  1959.0     7.0  2008-12-20    32.7859   \n",
       "\n",
       "   21022-0.0 40000-0.0 40001-0.0 40001-1.0  40007-0.0  \n",
       "0       69.0       NaN       NaN       NaN        NaN  \n",
       "1       58.0       NaN       NaN       NaN        NaN  \n",
       "2       67.0       NaN       NaN       NaN        NaN  \n",
       "3       52.0       NaN       NaN       NaN        NaN  \n",
       "4       49.0       NaN       NaN       NaN        NaN  "
      ]
     },
     "execution_count": 34,
     "metadata": {},
     "output_type": "execute_result"
    }
   ],
   "source": [
    "mortality.head()"
   ]
  },
  {
   "cell_type": "code",
   "execution_count": 35,
   "metadata": {},
   "outputs": [
    {
     "data": {
      "text/html": [
       "<div>\n",
       "<style scoped>\n",
       "    .dataframe tbody tr th:only-of-type {\n",
       "        vertical-align: middle;\n",
       "    }\n",
       "\n",
       "    .dataframe tbody tr th {\n",
       "        vertical-align: top;\n",
       "    }\n",
       "\n",
       "    .dataframe thead th {\n",
       "        text-align: right;\n",
       "    }\n",
       "</style>\n",
       "<table border=\"1\" class=\"dataframe\">\n",
       "  <thead>\n",
       "    <tr style=\"text-align: right;\">\n",
       "      <th></th>\n",
       "      <th>Unnamed: 0</th>\n",
       "      <th>description</th>\n",
       "    </tr>\n",
       "  </thead>\n",
       "  <tbody>\n",
       "    <tr>\n",
       "      <th>0</th>\n",
       "      <td>eid</td>\n",
       "      <td>PatientID</td>\n",
       "    </tr>\n",
       "    <tr>\n",
       "      <th>1</th>\n",
       "      <td>21022-0.0</td>\n",
       "      <td>AgeRecruit</td>\n",
       "    </tr>\n",
       "    <tr>\n",
       "      <th>2</th>\n",
       "      <td>53-0.0</td>\n",
       "      <td>DateRecruit</td>\n",
       "    </tr>\n",
       "    <tr>\n",
       "      <th>3</th>\n",
       "      <td>34-0.0</td>\n",
       "      <td>YearBirth</td>\n",
       "    </tr>\n",
       "    <tr>\n",
       "      <th>4</th>\n",
       "      <td>52-0.0</td>\n",
       "      <td>MonthBirth</td>\n",
       "    </tr>\n",
       "    <tr>\n",
       "      <th>5</th>\n",
       "      <td>40007-0.0</td>\n",
       "      <td>AgeDeath</td>\n",
       "    </tr>\n",
       "    <tr>\n",
       "      <th>6</th>\n",
       "      <td>40000-0.0</td>\n",
       "      <td>DateDeath</td>\n",
       "    </tr>\n",
       "    <tr>\n",
       "      <th>7</th>\n",
       "      <td>31-0.0</td>\n",
       "      <td>Sex</td>\n",
       "    </tr>\n",
       "    <tr>\n",
       "      <th>8</th>\n",
       "      <td>21001-0.0</td>\n",
       "      <td>BMI</td>\n",
       "    </tr>\n",
       "    <tr>\n",
       "      <th>9</th>\n",
       "      <td>40001-0.0</td>\n",
       "      <td>cause of death 1</td>\n",
       "    </tr>\n",
       "    <tr>\n",
       "      <th>10</th>\n",
       "      <td>40001-1.0</td>\n",
       "      <td>cause of death 2</td>\n",
       "    </tr>\n",
       "  </tbody>\n",
       "</table>\n",
       "</div>"
      ],
      "text/plain": [
       "   Unnamed: 0       description\n",
       "0         eid         PatientID\n",
       "1   21022-0.0        AgeRecruit\n",
       "2      53-0.0       DateRecruit\n",
       "3      34-0.0         YearBirth\n",
       "4      52-0.0        MonthBirth\n",
       "5   40007-0.0          AgeDeath\n",
       "6   40000-0.0         DateDeath\n",
       "7      31-0.0               Sex\n",
       "8   21001-0.0               BMI\n",
       "9   40001-0.0  cause of death 1\n",
       "10  40001-1.0  cause of death 2"
      ]
     },
     "execution_count": 35,
     "metadata": {},
     "output_type": "execute_result"
    }
   ],
   "source": [
    "mortality_coding"
   ]
  },
  {
   "cell_type": "code",
   "execution_count": 36,
   "metadata": {},
   "outputs": [],
   "source": [
    "# make a dictionary out of the mortality_coding dataframe \n",
    "dict_columns = {}\n",
    "for index, value in enumerate(mortality_coding['Unnamed: 0']):\n",
    "  dict_columns[value] = mortality_coding.loc[index, \"description\"]"
   ]
  },
  {
   "cell_type": "code",
   "execution_count": 37,
   "metadata": {},
   "outputs": [
    {
     "data": {
      "text/plain": [
       "9339"
      ]
     },
     "execution_count": 37,
     "metadata": {},
     "output_type": "execute_result"
    }
   ],
   "source": [
    "mortality.rename(columns = dict_columns, inplace = True) # columns = a dictionary will automatically rename the columns\n",
    "mortality['DateDeath'].isna().sum()\n",
    "# mortality['DateDeath'].value_counts()\n"
   ]
  },
  {
   "cell_type": "code",
   "execution_count": 38,
   "metadata": {},
   "outputs": [
    {
     "data": {
      "text/html": [
       "<div>\n",
       "<style scoped>\n",
       "    .dataframe tbody tr th:only-of-type {\n",
       "        vertical-align: middle;\n",
       "    }\n",
       "\n",
       "    .dataframe tbody tr th {\n",
       "        vertical-align: top;\n",
       "    }\n",
       "\n",
       "    .dataframe thead th {\n",
       "        text-align: right;\n",
       "    }\n",
       "</style>\n",
       "<table border=\"1\" class=\"dataframe\">\n",
       "  <thead>\n",
       "    <tr style=\"text-align: right;\">\n",
       "      <th></th>\n",
       "      <th>Unnamed: 0</th>\n",
       "      <th>PatientID</th>\n",
       "      <th>Sex</th>\n",
       "      <th>YearBirth</th>\n",
       "      <th>MonthBirth</th>\n",
       "      <th>DateRecruit</th>\n",
       "      <th>BMI</th>\n",
       "      <th>AgeRecruit</th>\n",
       "      <th>DateDeath</th>\n",
       "      <th>cause of death 1</th>\n",
       "      <th>cause of death 2</th>\n",
       "      <th>AgeDeath</th>\n",
       "    </tr>\n",
       "  </thead>\n",
       "  <tbody>\n",
       "    <tr>\n",
       "      <th>0</th>\n",
       "      <td>334517</td>\n",
       "      <td>4345610</td>\n",
       "      <td>1.0</td>\n",
       "      <td>1940.0</td>\n",
       "      <td>2.0</td>\n",
       "      <td>2009-09-17</td>\n",
       "      <td>28.4091</td>\n",
       "      <td>69.0</td>\n",
       "      <td>NaN</td>\n",
       "      <td>NaN</td>\n",
       "      <td>NaN</td>\n",
       "      <td>NaN</td>\n",
       "    </tr>\n",
       "    <tr>\n",
       "      <th>1</th>\n",
       "      <td>297000</td>\n",
       "      <td>3970369</td>\n",
       "      <td>1.0</td>\n",
       "      <td>1949.0</td>\n",
       "      <td>12.0</td>\n",
       "      <td>2008-04-18</td>\n",
       "      <td>26.1106</td>\n",
       "      <td>58.0</td>\n",
       "      <td>NaN</td>\n",
       "      <td>NaN</td>\n",
       "      <td>NaN</td>\n",
       "      <td>NaN</td>\n",
       "    </tr>\n",
       "    <tr>\n",
       "      <th>2</th>\n",
       "      <td>260822</td>\n",
       "      <td>3608558</td>\n",
       "      <td>1.0</td>\n",
       "      <td>1943.0</td>\n",
       "      <td>2.0</td>\n",
       "      <td>2010-02-26</td>\n",
       "      <td>27.4614</td>\n",
       "      <td>67.0</td>\n",
       "      <td>NaN</td>\n",
       "      <td>NaN</td>\n",
       "      <td>NaN</td>\n",
       "      <td>NaN</td>\n",
       "    </tr>\n",
       "    <tr>\n",
       "      <th>3</th>\n",
       "      <td>245361</td>\n",
       "      <td>3453904</td>\n",
       "      <td>0.0</td>\n",
       "      <td>1957.0</td>\n",
       "      <td>8.0</td>\n",
       "      <td>2010-03-19</td>\n",
       "      <td>29.3199</td>\n",
       "      <td>52.0</td>\n",
       "      <td>NaN</td>\n",
       "      <td>NaN</td>\n",
       "      <td>NaN</td>\n",
       "      <td>NaN</td>\n",
       "    </tr>\n",
       "    <tr>\n",
       "      <th>4</th>\n",
       "      <td>25616</td>\n",
       "      <td>1256219</td>\n",
       "      <td>1.0</td>\n",
       "      <td>1959.0</td>\n",
       "      <td>7.0</td>\n",
       "      <td>2008-12-20</td>\n",
       "      <td>32.7859</td>\n",
       "      <td>49.0</td>\n",
       "      <td>NaN</td>\n",
       "      <td>NaN</td>\n",
       "      <td>NaN</td>\n",
       "      <td>NaN</td>\n",
       "    </tr>\n",
       "    <tr>\n",
       "      <th>...</th>\n",
       "      <td>...</td>\n",
       "      <td>...</td>\n",
       "      <td>...</td>\n",
       "      <td>...</td>\n",
       "      <td>...</td>\n",
       "      <td>...</td>\n",
       "      <td>...</td>\n",
       "      <td>...</td>\n",
       "      <td>...</td>\n",
       "      <td>...</td>\n",
       "      <td>...</td>\n",
       "      <td>...</td>\n",
       "    </tr>\n",
       "    <tr>\n",
       "      <th>9995</th>\n",
       "      <td>218679</td>\n",
       "      <td>3187034</td>\n",
       "      <td>0.0</td>\n",
       "      <td>1969.0</td>\n",
       "      <td>4.0</td>\n",
       "      <td>2009-10-19</td>\n",
       "      <td>26.1005</td>\n",
       "      <td>40.0</td>\n",
       "      <td>NaN</td>\n",
       "      <td>NaN</td>\n",
       "      <td>NaN</td>\n",
       "      <td>NaN</td>\n",
       "    </tr>\n",
       "    <tr>\n",
       "      <th>9996</th>\n",
       "      <td>282089</td>\n",
       "      <td>3821234</td>\n",
       "      <td>0.0</td>\n",
       "      <td>1962.0</td>\n",
       "      <td>5.0</td>\n",
       "      <td>2010-03-02</td>\n",
       "      <td>28.3801</td>\n",
       "      <td>47.0</td>\n",
       "      <td>NaN</td>\n",
       "      <td>NaN</td>\n",
       "      <td>NaN</td>\n",
       "      <td>NaN</td>\n",
       "    </tr>\n",
       "    <tr>\n",
       "      <th>9997</th>\n",
       "      <td>219163</td>\n",
       "      <td>3191883</td>\n",
       "      <td>1.0</td>\n",
       "      <td>1964.0</td>\n",
       "      <td>1.0</td>\n",
       "      <td>2008-09-12</td>\n",
       "      <td>13.9123</td>\n",
       "      <td>44.0</td>\n",
       "      <td>NaN</td>\n",
       "      <td>NaN</td>\n",
       "      <td>NaN</td>\n",
       "      <td>NaN</td>\n",
       "    </tr>\n",
       "    <tr>\n",
       "      <th>9998</th>\n",
       "      <td>55963</td>\n",
       "      <td>1559739</td>\n",
       "      <td>0.0</td>\n",
       "      <td>1946.0</td>\n",
       "      <td>10.0</td>\n",
       "      <td>2008-10-08</td>\n",
       "      <td>25.4259</td>\n",
       "      <td>61.0</td>\n",
       "      <td>NaN</td>\n",
       "      <td>NaN</td>\n",
       "      <td>NaN</td>\n",
       "      <td>NaN</td>\n",
       "    </tr>\n",
       "    <tr>\n",
       "      <th>9999</th>\n",
       "      <td>28678</td>\n",
       "      <td>1286843</td>\n",
       "      <td>0.0</td>\n",
       "      <td>1957.0</td>\n",
       "      <td>8.0</td>\n",
       "      <td>2008-08-23</td>\n",
       "      <td>28.7778</td>\n",
       "      <td>51.0</td>\n",
       "      <td>NaN</td>\n",
       "      <td>NaN</td>\n",
       "      <td>NaN</td>\n",
       "      <td>NaN</td>\n",
       "    </tr>\n",
       "  </tbody>\n",
       "</table>\n",
       "<p>10000 rows × 12 columns</p>\n",
       "</div>"
      ],
      "text/plain": [
       "      Unnamed: 0  PatientID  Sex  YearBirth  MonthBirth DateRecruit      BMI  \\\n",
       "0         334517    4345610  1.0     1940.0         2.0  2009-09-17  28.4091   \n",
       "1         297000    3970369  1.0     1949.0        12.0  2008-04-18  26.1106   \n",
       "2         260822    3608558  1.0     1943.0         2.0  2010-02-26  27.4614   \n",
       "3         245361    3453904  0.0     1957.0         8.0  2010-03-19  29.3199   \n",
       "4          25616    1256219  1.0     1959.0         7.0  2008-12-20  32.7859   \n",
       "...          ...        ...  ...        ...         ...         ...      ...   \n",
       "9995      218679    3187034  0.0     1969.0         4.0  2009-10-19  26.1005   \n",
       "9996      282089    3821234  0.0     1962.0         5.0  2010-03-02  28.3801   \n",
       "9997      219163    3191883  1.0     1964.0         1.0  2008-09-12  13.9123   \n",
       "9998       55963    1559739  0.0     1946.0        10.0  2008-10-08  25.4259   \n",
       "9999       28678    1286843  0.0     1957.0         8.0  2008-08-23  28.7778   \n",
       "\n",
       "      AgeRecruit DateDeath cause of death 1 cause of death 2  AgeDeath  \n",
       "0           69.0       NaN              NaN              NaN       NaN  \n",
       "1           58.0       NaN              NaN              NaN       NaN  \n",
       "2           67.0       NaN              NaN              NaN       NaN  \n",
       "3           52.0       NaN              NaN              NaN       NaN  \n",
       "4           49.0       NaN              NaN              NaN       NaN  \n",
       "...          ...       ...              ...              ...       ...  \n",
       "9995        40.0       NaN              NaN              NaN       NaN  \n",
       "9996        47.0       NaN              NaN              NaN       NaN  \n",
       "9997        44.0       NaN              NaN              NaN       NaN  \n",
       "9998        61.0       NaN              NaN              NaN       NaN  \n",
       "9999        51.0       NaN              NaN              NaN       NaN  \n",
       "\n",
       "[10000 rows x 12 columns]"
      ]
     },
     "execution_count": 38,
     "metadata": {},
     "output_type": "execute_result"
    }
   ],
   "source": [
    "mortality"
   ]
  },
  {
   "cell_type": "markdown",
   "metadata": {
    "id": "bnqkYcgP6ayP"
   },
   "source": [
    "## Find who is vaccinated"
   ]
  },
  {
   "cell_type": "markdown",
   "metadata": {},
   "source": [
    "The meaning of the SNOMED codes ('dmd_code' in the 'scripts' dataset, where medications that the patients got are listed) were found on: https://services.nhsbsa.nhs.uk/dmd-browser/amp/view/159421?ref=YW1wTmFtZT1jb3ZpZCZzZWFyY2hUeXBlPUFNUCZzaG93SW52YWxpZEl0ZW1zPWZhbHNl#ampCodes\n",
    "\n",
    "Each vaccine has a specific code."
   ]
  },
  {
   "cell_type": "code",
   "execution_count": 39,
   "metadata": {
    "colab": {
     "base_uri": "https://localhost:8080/",
     "height": 771
    },
    "executionInfo": {
     "elapsed": 324,
     "status": "ok",
     "timestamp": 1635172302951,
     "user": {
      "displayName": "Monica Müller",
      "photoUrl": "https://lh3.googleusercontent.com/a/default-user=s64",
      "userId": "03925055125343928828"
     },
     "user_tz": -120
    },
    "id": "rl78RX5p3Bbv",
    "outputId": "1a24e2b3-7296-4af9-b1e4-ad9df994137d"
   },
   "outputs": [
    {
     "data": {
      "text/html": [
       "<div>\n",
       "<style scoped>\n",
       "    .dataframe tbody tr th:only-of-type {\n",
       "        vertical-align: middle;\n",
       "    }\n",
       "\n",
       "    .dataframe tbody tr th {\n",
       "        vertical-align: top;\n",
       "    }\n",
       "\n",
       "    .dataframe thead th {\n",
       "        text-align: right;\n",
       "    }\n",
       "</style>\n",
       "<table border=\"1\" class=\"dataframe\">\n",
       "  <thead>\n",
       "    <tr style=\"text-align: right;\">\n",
       "      <th></th>\n",
       "      <th>Unnamed: 0</th>\n",
       "      <th>eid</th>\n",
       "      <th>issue_date</th>\n",
       "      <th>dmd_code</th>\n",
       "    </tr>\n",
       "  </thead>\n",
       "  <tbody>\n",
       "    <tr>\n",
       "      <th>261135</th>\n",
       "      <td>261135</td>\n",
       "      <td>1018525</td>\n",
       "      <td>21/03/2021</td>\n",
       "      <td>39114911000001105</td>\n",
       "    </tr>\n",
       "    <tr>\n",
       "      <th>597692</th>\n",
       "      <td>597692</td>\n",
       "      <td>1040468</td>\n",
       "      <td>30/01/2021</td>\n",
       "      <td>39114911000001105</td>\n",
       "    </tr>\n",
       "    <tr>\n",
       "      <th>970763</th>\n",
       "      <td>970763</td>\n",
       "      <td>1066390</td>\n",
       "      <td>29/01/2021</td>\n",
       "      <td>39114911000001105</td>\n",
       "    </tr>\n",
       "    <tr>\n",
       "      <th>970765</th>\n",
       "      <td>970765</td>\n",
       "      <td>1066390</td>\n",
       "      <td>20/03/2021</td>\n",
       "      <td>39114911000001105</td>\n",
       "    </tr>\n",
       "  </tbody>\n",
       "</table>\n",
       "</div>"
      ],
      "text/plain": [
       "        Unnamed: 0      eid  issue_date           dmd_code\n",
       "261135      261135  1018525  21/03/2021  39114911000001105\n",
       "597692      597692  1040468  30/01/2021  39114911000001105\n",
       "970763      970763  1066390  29/01/2021  39114911000001105\n",
       "970765      970765  1066390  20/03/2021  39114911000001105"
      ]
     },
     "execution_count": 39,
     "metadata": {},
     "output_type": "execute_result"
    }
   ],
   "source": [
    "# broadcasting to find individuals with AstraZEneca vaccine\n",
    "mask_AZ = scripts['dmd_code']== 39114911000001105\n",
    "scripts[mask_AZ].head()"
   ]
  },
  {
   "cell_type": "code",
   "execution_count": 40,
   "metadata": {
    "colab": {
     "base_uri": "https://localhost:8080/",
     "height": 771
    },
    "executionInfo": {
     "elapsed": 321,
     "status": "ok",
     "timestamp": 1635338339030,
     "user": {
      "displayName": "Monica Müller",
      "photoUrl": "https://lh3.googleusercontent.com/a/default-user=s64",
      "userId": "03925055125343928828"
     },
     "user_tz": -120
    },
    "id": "Kr2whtVZ4Skz",
    "outputId": "a664936a-ae12-43d4-b826-dddda27225ab"
   },
   "outputs": [
    {
     "name": "stdout",
     "output_type": "stream",
     "text": [
      "Moderna : 0\n",
      "Janssen : 0\n",
      "Medicago : 0\n",
      "Baxter : 0\n",
      "AstraZeneca : 4\n",
      "Pfizer : 2\n",
      "Valneva : 0\n"
     ]
    }
   ],
   "source": [
    "# getting IDs of individuals with any corona vaccine first (compare vaccinates vs. not)\n",
    "# may look at effects of specific vaccines later\n",
    "dict_vac = {39326911000001101: 'Moderna', 39230211000001104: 'Janssen', \\\n",
    "            39826711000001101:'Medicago', 39473011000001103: 'Baxter', \\\n",
    "            39114911000001105: 'AstraZeneca', 39115611000001103: 'Pfizer',\\\n",
    "            39373511000001104: 'Valneva'}\n",
    "\n",
    "for dmd_code in dict_vac:\n",
    "    mask_vac = scripts['dmd_code']== dmd_code\n",
    "    print(dict_vac[dmd_code], ':',len(scripts[mask_vac]))"
   ]
  },
  {
   "cell_type": "code",
   "execution_count": 41,
   "metadata": {},
   "outputs": [
    {
     "name": "stdout",
     "output_type": "stream",
     "text": [
      "Number of vaccinated people: 6\n"
     ]
    }
   ],
   "source": [
    "# mask for any vaccine\n",
    "mask_vac = scripts['dmd_code'].isin(dict_vac)\n",
    "\n",
    "# number of vaccinated people\n",
    "print('Number of vaccinated people:', len(scripts[mask_vac]))"
   ]
  },
  {
   "cell_type": "code",
   "execution_count": 42,
   "metadata": {
    "id": "nqF2wFkwyNZ0"
   },
   "outputs": [
    {
     "data": {
      "text/plain": [
       "19471     1000899\n",
       "261135    1018525\n",
       "466220    1031590\n",
       "597692    1040468\n",
       "970763    1066390\n",
       "970765    1066390\n",
       "Name: eid, dtype: int64"
      ]
     },
     "execution_count": 42,
     "metadata": {},
     "output_type": "execute_result"
    }
   ],
   "source": [
    "# finding eids of vaccinated people in the dataset\n",
    "id_vac = scripts[mask_vac]['eid'] \n",
    "id_vac"
   ]
  },
  {
   "cell_type": "code",
   "execution_count": 43,
   "metadata": {
    "colab": {
     "base_uri": "https://localhost:8080/",
     "height": 394
    },
    "executionInfo": {
     "elapsed": 249,
     "status": "ok",
     "timestamp": 1635338889565,
     "user": {
      "displayName": "Monica Müller",
      "photoUrl": "https://lh3.googleusercontent.com/a/default-user=s64",
      "userId": "03925055125343928828"
     },
     "user_tz": -120
    },
    "id": "FRWu7mlIyoR7",
    "outputId": "7be7068c-fd1b-4b83-910c-e6e020beab65",
    "scrolled": false
   },
   "outputs": [
    {
     "data": {
      "text/html": [
       "<div>\n",
       "<style scoped>\n",
       "    .dataframe tbody tr th:only-of-type {\n",
       "        vertical-align: middle;\n",
       "    }\n",
       "\n",
       "    .dataframe tbody tr th {\n",
       "        vertical-align: top;\n",
       "    }\n",
       "\n",
       "    .dataframe thead th {\n",
       "        text-align: right;\n",
       "    }\n",
       "</style>\n",
       "<table border=\"1\" class=\"dataframe\">\n",
       "  <thead>\n",
       "    <tr style=\"text-align: right;\">\n",
       "      <th></th>\n",
       "      <th>eid</th>\n",
       "      <th>event_dt</th>\n",
       "      <th>code</th>\n",
       "      <th>icd10_code</th>\n",
       "    </tr>\n",
       "  </thead>\n",
       "  <tbody>\n",
       "    <tr>\n",
       "      <th>2099</th>\n",
       "      <td>1000899</td>\n",
       "      <td>29/07/2013</td>\n",
       "      <td>X75rv</td>\n",
       "      <td>M255</td>\n",
       "    </tr>\n",
       "    <tr>\n",
       "      <th>2100</th>\n",
       "      <td>1000899</td>\n",
       "      <td>29/07/2013</td>\n",
       "      <td>X75rv</td>\n",
       "      <td>A180D</td>\n",
       "    </tr>\n",
       "    <tr>\n",
       "      <th>2101</th>\n",
       "      <td>1000899</td>\n",
       "      <td>29/07/2013</td>\n",
       "      <td>X75rv</td>\n",
       "      <td>M011A</td>\n",
       "    </tr>\n",
       "    <tr>\n",
       "      <th>2104</th>\n",
       "      <td>1000899</td>\n",
       "      <td>06/02/2020</td>\n",
       "      <td>X75rv</td>\n",
       "      <td>M255</td>\n",
       "    </tr>\n",
       "    <tr>\n",
       "      <th>2105</th>\n",
       "      <td>1000899</td>\n",
       "      <td>06/02/2020</td>\n",
       "      <td>X75rv</td>\n",
       "      <td>A180D</td>\n",
       "    </tr>\n",
       "    <tr>\n",
       "      <th>...</th>\n",
       "      <td>...</td>\n",
       "      <td>...</td>\n",
       "      <td>...</td>\n",
       "      <td>...</td>\n",
       "    </tr>\n",
       "    <tr>\n",
       "      <th>184032</th>\n",
       "      <td>1018525</td>\n",
       "      <td>30/03/2020</td>\n",
       "      <td>K24..</td>\n",
       "      <td>N459</td>\n",
       "    </tr>\n",
       "    <tr>\n",
       "      <th>184033</th>\n",
       "      <td>1018525</td>\n",
       "      <td>30/03/2020</td>\n",
       "      <td>K24..</td>\n",
       "      <td>N45</td>\n",
       "    </tr>\n",
       "    <tr>\n",
       "      <th>184034</th>\n",
       "      <td>1018525</td>\n",
       "      <td>22/03/2012</td>\n",
       "      <td>J323z</td>\n",
       "      <td>K429</td>\n",
       "    </tr>\n",
       "    <tr>\n",
       "      <th>184035</th>\n",
       "      <td>1018525</td>\n",
       "      <td>14/03/1995</td>\n",
       "      <td>H03z.</td>\n",
       "      <td>J039</td>\n",
       "    </tr>\n",
       "    <tr>\n",
       "      <th>184036</th>\n",
       "      <td>1018525</td>\n",
       "      <td>10/05/1994</td>\n",
       "      <td>H03z.</td>\n",
       "      <td>J039</td>\n",
       "    </tr>\n",
       "  </tbody>\n",
       "</table>\n",
       "<p>265 rows × 4 columns</p>\n",
       "</div>"
      ],
      "text/plain": [
       "            eid    event_dt   code icd10_code\n",
       "2099    1000899  29/07/2013  X75rv       M255\n",
       "2100    1000899  29/07/2013  X75rv      A180D\n",
       "2101    1000899  29/07/2013  X75rv      M011A\n",
       "2104    1000899  06/02/2020  X75rv       M255\n",
       "2105    1000899  06/02/2020  X75rv      A180D\n",
       "...         ...         ...    ...        ...\n",
       "184032  1018525  30/03/2020  K24..       N459\n",
       "184033  1018525  30/03/2020  K24..        N45\n",
       "184034  1018525  22/03/2012  J323z       K429\n",
       "184035  1018525  14/03/1995  H03z.       J039\n",
       "184036  1018525  10/05/1994  H03z.       J039\n",
       "\n",
       "[265 rows x 4 columns]"
      ]
     },
     "execution_count": 43,
     "metadata": {},
     "output_type": "execute_result"
    }
   ],
   "source": [
    "# finding events of the vaccinated people, but only events before vaccination found \n",
    "# -> may need a more recent dataset\n",
    "# need to separate clinical events before & after vaccine\n",
    "mask_vac_clin = clinical_ic10['eid'].isin(id_vac)\n",
    "clinical_ic10[mask_vac_clin] "
   ]
  },
  {
   "cell_type": "markdown",
   "metadata": {},
   "source": [
    "# categorize event as before or after COVID-19 vaccination / random date "
   ]
  },
  {
   "cell_type": "markdown",
   "metadata": {},
   "source": [
    "### make 'event_date' in 'clinical' be interpreted as a date"
   ]
  },
  {
   "cell_type": "code",
   "execution_count": 44,
   "metadata": {
    "scrolled": true
   },
   "outputs": [
    {
     "data": {
      "text/html": [
       "<div>\n",
       "<style scoped>\n",
       "    .dataframe tbody tr th:only-of-type {\n",
       "        vertical-align: middle;\n",
       "    }\n",
       "\n",
       "    .dataframe tbody tr th {\n",
       "        vertical-align: top;\n",
       "    }\n",
       "\n",
       "    .dataframe thead th {\n",
       "        text-align: right;\n",
       "    }\n",
       "</style>\n",
       "<table border=\"1\" class=\"dataframe\">\n",
       "  <thead>\n",
       "    <tr style=\"text-align: right;\">\n",
       "      <th></th>\n",
       "      <th>eid</th>\n",
       "      <th>event_dt</th>\n",
       "      <th>code</th>\n",
       "      <th>icd10_code</th>\n",
       "    </tr>\n",
       "  </thead>\n",
       "  <tbody>\n",
       "    <tr>\n",
       "      <th>12</th>\n",
       "      <td>1000034</td>\n",
       "      <td>01/01/1978</td>\n",
       "      <td>XE0e7</td>\n",
       "      <td>N419</td>\n",
       "    </tr>\n",
       "    <tr>\n",
       "      <th>13</th>\n",
       "      <td>1000034</td>\n",
       "      <td>01/01/1978</td>\n",
       "      <td>XE0e7</td>\n",
       "      <td>N41</td>\n",
       "    </tr>\n",
       "    <tr>\n",
       "      <th>14</th>\n",
       "      <td>1013867</td>\n",
       "      <td>10/01/2003</td>\n",
       "      <td>XE0e7</td>\n",
       "      <td>N419</td>\n",
       "    </tr>\n",
       "    <tr>\n",
       "      <th>15</th>\n",
       "      <td>1013867</td>\n",
       "      <td>10/01/2003</td>\n",
       "      <td>XE0e7</td>\n",
       "      <td>N41</td>\n",
       "    </tr>\n",
       "    <tr>\n",
       "      <th>16</th>\n",
       "      <td>1000034</td>\n",
       "      <td>23/01/2019</td>\n",
       "      <td>XE1FC</td>\n",
       "      <td>M543</td>\n",
       "    </tr>\n",
       "    <tr>\n",
       "      <th>17</th>\n",
       "      <td>1000034</td>\n",
       "      <td>23/01/2019</td>\n",
       "      <td>XE1FC</td>\n",
       "      <td>M544</td>\n",
       "    </tr>\n",
       "    <tr>\n",
       "      <th>18</th>\n",
       "      <td>1000034</td>\n",
       "      <td>23/01/2019</td>\n",
       "      <td>XE1FC</td>\n",
       "      <td>G570</td>\n",
       "    </tr>\n",
       "    <tr>\n",
       "      <th>19</th>\n",
       "      <td>1000034</td>\n",
       "      <td>23/01/2019</td>\n",
       "      <td>XE1FC</td>\n",
       "      <td>M511</td>\n",
       "    </tr>\n",
       "    <tr>\n",
       "      <th>20</th>\n",
       "      <td>1000034</td>\n",
       "      <td>23/01/2019</td>\n",
       "      <td>XE1FC</td>\n",
       "      <td>M511D</td>\n",
       "    </tr>\n",
       "    <tr>\n",
       "      <th>21</th>\n",
       "      <td>1000034</td>\n",
       "      <td>23/01/2019</td>\n",
       "      <td>XE1FC</td>\n",
       "      <td>G551A</td>\n",
       "    </tr>\n",
       "  </tbody>\n",
       "</table>\n",
       "</div>"
      ],
      "text/plain": [
       "        eid    event_dt   code icd10_code\n",
       "12  1000034  01/01/1978  XE0e7       N419\n",
       "13  1000034  01/01/1978  XE0e7        N41\n",
       "14  1013867  10/01/2003  XE0e7       N419\n",
       "15  1013867  10/01/2003  XE0e7        N41\n",
       "16  1000034  23/01/2019  XE1FC       M543\n",
       "17  1000034  23/01/2019  XE1FC       M544\n",
       "18  1000034  23/01/2019  XE1FC       G570\n",
       "19  1000034  23/01/2019  XE1FC       M511\n",
       "20  1000034  23/01/2019  XE1FC      M511D\n",
       "21  1000034  23/01/2019  XE1FC      G551A"
      ]
     },
     "execution_count": 44,
     "metadata": {},
     "output_type": "execute_result"
    }
   ],
   "source": [
    "clinical_ic10.head(10)"
   ]
  },
  {
   "cell_type": "code",
   "execution_count": 45,
   "metadata": {},
   "outputs": [],
   "source": [
    "from datetime import datetime, timedelta"
   ]
  },
  {
   "cell_type": "markdown",
   "metadata": {},
   "source": [
    "### only to understand the function, can be deleted later"
   ]
  },
  {
   "cell_type": "code",
   "execution_count": 46,
   "metadata": {},
   "outputs": [
    {
     "data": {
      "text/plain": [
       "array(['01/01/1978', '10/01/2003', '23/01/2019', ..., '18/11/1996',\n",
       "       '20/02/1957', '04/12/1956'], dtype=object)"
      ]
     },
     "execution_count": 46,
     "metadata": {},
     "output_type": "execute_result"
    }
   ],
   "source": [
    "clinical_ic10['event_dt'].unique()\n",
    "# find out if the other dates are e.g. 06/01/2020 or 6/1/2020"
   ]
  },
  {
   "cell_type": "code",
   "execution_count": 47,
   "metadata": {
    "scrolled": true
   },
   "outputs": [],
   "source": [
    "example_date = clinical_ic10['event_dt'].unique()[0]"
   ]
  },
  {
   "cell_type": "code",
   "execution_count": 48,
   "metadata": {},
   "outputs": [
    {
     "data": {
      "text/plain": [
       "datetime.datetime(1978, 1, 1, 0, 0)"
      ]
     },
     "execution_count": 48,
     "metadata": {},
     "output_type": "execute_result"
    }
   ],
   "source": [
    "example_date_new = datetime.strptime(example_date, '%d/%m/%Y')\n",
    "example_date_new #2020"
   ]
  },
  {
   "cell_type": "code",
   "execution_count": 49,
   "metadata": {},
   "outputs": [
    {
     "data": {
      "text/plain": [
       "'10/01/2003'"
      ]
     },
     "execution_count": 49,
     "metadata": {},
     "output_type": "execute_result"
    }
   ],
   "source": [
    "example_date_2 = clinical_ic10['event_dt'].unique()[1]\n",
    "example_date_2 "
   ]
  },
  {
   "cell_type": "code",
   "execution_count": 50,
   "metadata": {},
   "outputs": [
    {
     "data": {
      "text/plain": [
       "datetime.datetime(2003, 1, 10, 0, 0)"
      ]
     },
     "execution_count": 50,
     "metadata": {},
     "output_type": "execute_result"
    }
   ],
   "source": [
    "example_date_2_new = datetime.strptime(example_date_2, '%d/%m/%Y')\n",
    "example_date_2_new #2019"
   ]
  },
  {
   "cell_type": "code",
   "execution_count": 51,
   "metadata": {},
   "outputs": [
    {
     "data": {
      "text/plain": [
       "False"
      ]
     },
     "execution_count": 51,
     "metadata": {},
     "output_type": "execute_result"
    }
   ],
   "source": [
    "# compare the 2 dates\n",
    "example_date_new > example_date_2_new # 2020 > 2019 --> True\n",
    "# recent > older --> True"
   ]
  },
  {
   "cell_type": "markdown",
   "metadata": {},
   "source": [
    "### convert the column into datetime object"
   ]
  },
  {
   "cell_type": "code",
   "execution_count": 52,
   "metadata": {},
   "outputs": [
    {
     "name": "stderr",
     "output_type": "stream",
     "text": [
      "C:\\Users\\renee\\AppData\\Local\\Temp/ipykernel_39832/3178288207.py:2: SettingWithCopyWarning: \n",
      "A value is trying to be set on a copy of a slice from a DataFrame.\n",
      "Try using .loc[row_indexer,col_indexer] = value instead\n",
      "\n",
      "See the caveats in the documentation: https://pandas.pydata.org/pandas-docs/stable/user_guide/indexing.html#returning-a-view-versus-a-copy\n",
      "  clinical_ic10['event_date_format'] = pd.to_datetime(clinical_ic10['event_dt'])\n"
     ]
    },
    {
     "data": {
      "text/html": [
       "<div>\n",
       "<style scoped>\n",
       "    .dataframe tbody tr th:only-of-type {\n",
       "        vertical-align: middle;\n",
       "    }\n",
       "\n",
       "    .dataframe tbody tr th {\n",
       "        vertical-align: top;\n",
       "    }\n",
       "\n",
       "    .dataframe thead th {\n",
       "        text-align: right;\n",
       "    }\n",
       "</style>\n",
       "<table border=\"1\" class=\"dataframe\">\n",
       "  <thead>\n",
       "    <tr style=\"text-align: right;\">\n",
       "      <th></th>\n",
       "      <th>eid</th>\n",
       "      <th>event_dt</th>\n",
       "      <th>code</th>\n",
       "      <th>icd10_code</th>\n",
       "      <th>event_date_format</th>\n",
       "    </tr>\n",
       "  </thead>\n",
       "  <tbody>\n",
       "    <tr>\n",
       "      <th>12</th>\n",
       "      <td>1000034</td>\n",
       "      <td>01/01/1978</td>\n",
       "      <td>XE0e7</td>\n",
       "      <td>N419</td>\n",
       "      <td>1978-01-01</td>\n",
       "    </tr>\n",
       "    <tr>\n",
       "      <th>13</th>\n",
       "      <td>1000034</td>\n",
       "      <td>01/01/1978</td>\n",
       "      <td>XE0e7</td>\n",
       "      <td>N41</td>\n",
       "      <td>1978-01-01</td>\n",
       "    </tr>\n",
       "    <tr>\n",
       "      <th>14</th>\n",
       "      <td>1013867</td>\n",
       "      <td>10/01/2003</td>\n",
       "      <td>XE0e7</td>\n",
       "      <td>N419</td>\n",
       "      <td>2003-10-01</td>\n",
       "    </tr>\n",
       "    <tr>\n",
       "      <th>15</th>\n",
       "      <td>1013867</td>\n",
       "      <td>10/01/2003</td>\n",
       "      <td>XE0e7</td>\n",
       "      <td>N41</td>\n",
       "      <td>2003-10-01</td>\n",
       "    </tr>\n",
       "    <tr>\n",
       "      <th>16</th>\n",
       "      <td>1000034</td>\n",
       "      <td>23/01/2019</td>\n",
       "      <td>XE1FC</td>\n",
       "      <td>M543</td>\n",
       "      <td>2019-01-23</td>\n",
       "    </tr>\n",
       "    <tr>\n",
       "      <th>...</th>\n",
       "      <td>...</td>\n",
       "      <td>...</td>\n",
       "      <td>...</td>\n",
       "      <td>...</td>\n",
       "      <td>...</td>\n",
       "    </tr>\n",
       "    <tr>\n",
       "      <th>188460</th>\n",
       "      <td>1033266</td>\n",
       "      <td>11/02/2016</td>\n",
       "      <td>XaQv0</td>\n",
       "      <td>R452</td>\n",
       "      <td>2016-11-02</td>\n",
       "    </tr>\n",
       "    <tr>\n",
       "      <th>188461</th>\n",
       "      <td>1033266</td>\n",
       "      <td>25/02/2015</td>\n",
       "      <td>X75Z0</td>\n",
       "      <td>R568</td>\n",
       "      <td>2015-02-25</td>\n",
       "    </tr>\n",
       "    <tr>\n",
       "      <th>188488</th>\n",
       "      <td>1033266</td>\n",
       "      <td>23/06/2015</td>\n",
       "      <td>XaDbE</td>\n",
       "      <td>R568</td>\n",
       "      <td>2015-06-23</td>\n",
       "    </tr>\n",
       "    <tr>\n",
       "      <th>188489</th>\n",
       "      <td>1033328</td>\n",
       "      <td>11/12/2018</td>\n",
       "      <td>X2060</td>\n",
       "      <td>I839</td>\n",
       "      <td>2018-11-12</td>\n",
       "    </tr>\n",
       "    <tr>\n",
       "      <th>188490</th>\n",
       "      <td>1033328</td>\n",
       "      <td>11/12/2018</td>\n",
       "      <td>X2060</td>\n",
       "      <td>I83</td>\n",
       "      <td>2018-11-12</td>\n",
       "    </tr>\n",
       "  </tbody>\n",
       "</table>\n",
       "<p>133026 rows × 5 columns</p>\n",
       "</div>"
      ],
      "text/plain": [
       "            eid    event_dt   code icd10_code event_date_format\n",
       "12      1000034  01/01/1978  XE0e7       N419        1978-01-01\n",
       "13      1000034  01/01/1978  XE0e7        N41        1978-01-01\n",
       "14      1013867  10/01/2003  XE0e7       N419        2003-10-01\n",
       "15      1013867  10/01/2003  XE0e7        N41        2003-10-01\n",
       "16      1000034  23/01/2019  XE1FC       M543        2019-01-23\n",
       "...         ...         ...    ...        ...               ...\n",
       "188460  1033266  11/02/2016  XaQv0       R452        2016-11-02\n",
       "188461  1033266  25/02/2015  X75Z0       R568        2015-02-25\n",
       "188488  1033266  23/06/2015  XaDbE       R568        2015-06-23\n",
       "188489  1033328  11/12/2018  X2060       I839        2018-11-12\n",
       "188490  1033328  11/12/2018  X2060        I83        2018-11-12\n",
       "\n",
       "[133026 rows x 5 columns]"
      ]
     },
     "execution_count": 52,
     "metadata": {},
     "output_type": "execute_result"
    }
   ],
   "source": [
    "# convert entire event_dt in datetime format\n",
    "clinical_ic10['event_date_format'] = pd.to_datetime(clinical_ic10['event_dt'])\n",
    "clinical_ic10"
   ]
  },
  {
   "cell_type": "code",
   "execution_count": 53,
   "metadata": {},
   "outputs": [
    {
     "data": {
      "text/html": [
       "<div>\n",
       "<style scoped>\n",
       "    .dataframe tbody tr th:only-of-type {\n",
       "        vertical-align: middle;\n",
       "    }\n",
       "\n",
       "    .dataframe tbody tr th {\n",
       "        vertical-align: top;\n",
       "    }\n",
       "\n",
       "    .dataframe thead th {\n",
       "        text-align: right;\n",
       "    }\n",
       "</style>\n",
       "<table border=\"1\" class=\"dataframe\">\n",
       "  <thead>\n",
       "    <tr style=\"text-align: right;\">\n",
       "      <th></th>\n",
       "      <th>eid</th>\n",
       "      <th>event_dt</th>\n",
       "      <th>code</th>\n",
       "      <th>icd10_code</th>\n",
       "      <th>event_date_format</th>\n",
       "    </tr>\n",
       "  </thead>\n",
       "  <tbody>\n",
       "    <tr>\n",
       "      <th>173433</th>\n",
       "      <td>1014125</td>\n",
       "      <td>07/07/2037</td>\n",
       "      <td>X785s</td>\n",
       "      <td>Q613</td>\n",
       "      <td>2037-07-07</td>\n",
       "    </tr>\n",
       "    <tr>\n",
       "      <th>183184</th>\n",
       "      <td>1016438</td>\n",
       "      <td>12/03/2021</td>\n",
       "      <td>X2033</td>\n",
       "      <td>I272</td>\n",
       "      <td>2021-12-03</td>\n",
       "    </tr>\n",
       "    <tr>\n",
       "      <th>183185</th>\n",
       "      <td>1016438</td>\n",
       "      <td>12/03/2021</td>\n",
       "      <td>X2033</td>\n",
       "      <td>I270</td>\n",
       "      <td>2021-12-03</td>\n",
       "    </tr>\n",
       "    <tr>\n",
       "      <th>160773</th>\n",
       "      <td>1028939</td>\n",
       "      <td>12/03/2021</td>\n",
       "      <td>XE0r3</td>\n",
       "      <td>R198</td>\n",
       "      <td>2021-12-03</td>\n",
       "    </tr>\n",
       "    <tr>\n",
       "      <th>121248</th>\n",
       "      <td>1028594</td>\n",
       "      <td>12/03/2021</td>\n",
       "      <td>XaE5D</td>\n",
       "      <td>M858</td>\n",
       "      <td>2021-12-03</td>\n",
       "    </tr>\n",
       "    <tr>\n",
       "      <th>...</th>\n",
       "      <td>...</td>\n",
       "      <td>...</td>\n",
       "      <td>...</td>\n",
       "      <td>...</td>\n",
       "      <td>...</td>\n",
       "    </tr>\n",
       "    <tr>\n",
       "      <th>81833</th>\n",
       "      <td>1000624</td>\n",
       "      <td>01/01/1901</td>\n",
       "      <td>M12z0</td>\n",
       "      <td>L309</td>\n",
       "      <td>1901-01-01</td>\n",
       "    </tr>\n",
       "    <tr>\n",
       "      <th>186024</th>\n",
       "      <td>1023271</td>\n",
       "      <td>01/01/1901</td>\n",
       "      <td>XaIRZ</td>\n",
       "      <td>J303</td>\n",
       "      <td>1901-01-01</td>\n",
       "    </tr>\n",
       "    <tr>\n",
       "      <th>82616</th>\n",
       "      <td>1009699</td>\n",
       "      <td>01/01/1901</td>\n",
       "      <td>G2...</td>\n",
       "      <td>I10X</td>\n",
       "      <td>1901-01-01</td>\n",
       "    </tr>\n",
       "    <tr>\n",
       "      <th>188015</th>\n",
       "      <td>1031708</td>\n",
       "      <td>01/01/1901</td>\n",
       "      <td>A741.</td>\n",
       "      <td>B330</td>\n",
       "      <td>1901-01-01</td>\n",
       "    </tr>\n",
       "    <tr>\n",
       "      <th>154624</th>\n",
       "      <td>1010314</td>\n",
       "      <td>01/01/1901</td>\n",
       "      <td>XE0ag</td>\n",
       "      <td>K51</td>\n",
       "      <td>1901-01-01</td>\n",
       "    </tr>\n",
       "  </tbody>\n",
       "</table>\n",
       "<p>133026 rows × 5 columns</p>\n",
       "</div>"
      ],
      "text/plain": [
       "            eid    event_dt   code icd10_code event_date_format\n",
       "173433  1014125  07/07/2037  X785s       Q613        2037-07-07\n",
       "183184  1016438  12/03/2021  X2033       I272        2021-12-03\n",
       "183185  1016438  12/03/2021  X2033       I270        2021-12-03\n",
       "160773  1028939  12/03/2021  XE0r3       R198        2021-12-03\n",
       "121248  1028594  12/03/2021  XaE5D       M858        2021-12-03\n",
       "...         ...         ...    ...        ...               ...\n",
       "81833   1000624  01/01/1901  M12z0       L309        1901-01-01\n",
       "186024  1023271  01/01/1901  XaIRZ       J303        1901-01-01\n",
       "82616   1009699  01/01/1901  G2...       I10X        1901-01-01\n",
       "188015  1031708  01/01/1901  A741.       B330        1901-01-01\n",
       "154624  1010314  01/01/1901  XE0ag        K51        1901-01-01\n",
       "\n",
       "[133026 rows x 5 columns]"
      ]
     },
     "execution_count": 53,
     "metadata": {},
     "output_type": "execute_result"
    }
   ],
   "source": [
    "# checking the date range\n",
    "clinical_ic10.sort_values(by = 'event_date_format', ascending = False)"
   ]
  },
  {
   "cell_type": "code",
   "execution_count": 54,
   "metadata": {},
   "outputs": [
    {
     "name": "stdout",
     "output_type": "stream",
     "text": [
      "2018-11-12 00:00:00\n",
      "1978-01-01 00:00:00\n"
     ]
    },
    {
     "data": {
      "text/plain": [
       "False"
      ]
     },
     "execution_count": 54,
     "metadata": {},
     "output_type": "execute_result"
    }
   ],
   "source": [
    "# only to understand the function, can be deleted later!!\n",
    "# compare 2 dates (first row and last row) from the new column \n",
    "\n",
    "print(clinical_ic10['event_date_format'].iloc[-1]) # 2019\n",
    "print(clinical_ic10['event_date_format'].iloc[0]) # 2020\n",
    "clinical_ic10['event_date_format'].iloc[0] > clinical_ic10['event_date_format'].iloc[-1]"
   ]
  },
  {
   "cell_type": "markdown",
   "metadata": {},
   "source": [
    "### subset 'scripts' to only those patients (eid) that got the COVID-19 vaccine and drop 'Unnamed: 0' column"
   ]
  },
  {
   "cell_type": "code",
   "execution_count": 55,
   "metadata": {},
   "outputs": [
    {
     "data": {
      "text/plain": [
       "6"
      ]
     },
     "execution_count": 55,
     "metadata": {},
     "output_type": "execute_result"
    }
   ],
   "source": [
    "scripts.drop(columns = ['Unnamed: 0'], inplace = True)\n",
    "mask_scripts_vac = scripts['dmd_code'].isin(dict_vac)\n",
    "scripts_vaccines_only = scripts[mask_scripts_vac] \n",
    "\n",
    "len(scripts[mask_scripts_vac]) # corresponds to finding above"
   ]
  },
  {
   "cell_type": "code",
   "execution_count": 56,
   "metadata": {
    "scrolled": false
   },
   "outputs": [
    {
     "data": {
      "text/html": [
       "<div>\n",
       "<style scoped>\n",
       "    .dataframe tbody tr th:only-of-type {\n",
       "        vertical-align: middle;\n",
       "    }\n",
       "\n",
       "    .dataframe tbody tr th {\n",
       "        vertical-align: top;\n",
       "    }\n",
       "\n",
       "    .dataframe thead th {\n",
       "        text-align: right;\n",
       "    }\n",
       "</style>\n",
       "<table border=\"1\" class=\"dataframe\">\n",
       "  <thead>\n",
       "    <tr style=\"text-align: right;\">\n",
       "      <th></th>\n",
       "      <th>eid</th>\n",
       "      <th>issue_date</th>\n",
       "      <th>dmd_code</th>\n",
       "    </tr>\n",
       "  </thead>\n",
       "  <tbody>\n",
       "    <tr>\n",
       "      <th>19471</th>\n",
       "      <td>1000899</td>\n",
       "      <td>09/01/2021</td>\n",
       "      <td>39115611000001103</td>\n",
       "    </tr>\n",
       "    <tr>\n",
       "      <th>261135</th>\n",
       "      <td>1018525</td>\n",
       "      <td>21/03/2021</td>\n",
       "      <td>39114911000001105</td>\n",
       "    </tr>\n",
       "    <tr>\n",
       "      <th>466220</th>\n",
       "      <td>1031590</td>\n",
       "      <td>23/02/2021</td>\n",
       "      <td>39115611000001103</td>\n",
       "    </tr>\n",
       "    <tr>\n",
       "      <th>597692</th>\n",
       "      <td>1040468</td>\n",
       "      <td>30/01/2021</td>\n",
       "      <td>39114911000001105</td>\n",
       "    </tr>\n",
       "    <tr>\n",
       "      <th>970763</th>\n",
       "      <td>1066390</td>\n",
       "      <td>29/01/2021</td>\n",
       "      <td>39114911000001105</td>\n",
       "    </tr>\n",
       "  </tbody>\n",
       "</table>\n",
       "</div>"
      ],
      "text/plain": [
       "            eid  issue_date           dmd_code\n",
       "19471   1000899  09/01/2021  39115611000001103\n",
       "261135  1018525  21/03/2021  39114911000001105\n",
       "466220  1031590  23/02/2021  39115611000001103\n",
       "597692  1040468  30/01/2021  39114911000001105\n",
       "970763  1066390  29/01/2021  39114911000001105"
      ]
     },
     "execution_count": 56,
     "metadata": {},
     "output_type": "execute_result"
    }
   ],
   "source": [
    "scripts_vaccines_only.head() # contains eid and date of vaccination"
   ]
  },
  {
   "cell_type": "code",
   "execution_count": 57,
   "metadata": {
    "scrolled": true
   },
   "outputs": [
    {
     "name": "stderr",
     "output_type": "stream",
     "text": [
      "C:\\Users\\renee\\AppData\\Local\\Temp/ipykernel_39832/3051744947.py:2: SettingWithCopyWarning: \n",
      "A value is trying to be set on a copy of a slice from a DataFrame.\n",
      "Try using .loc[row_indexer,col_indexer] = value instead\n",
      "\n",
      "See the caveats in the documentation: https://pandas.pydata.org/pandas-docs/stable/user_guide/indexing.html#returning-a-view-versus-a-copy\n",
      "  scripts_vaccines_only['issue_date_format'] = pd.to_datetime(scripts_vaccines_only['issue_date'])\n"
     ]
    }
   ],
   "source": [
    "# gives warning (same as before, should maybe be checked!)\n",
    "scripts_vaccines_only['issue_date_format'] = pd.to_datetime(scripts_vaccines_only['issue_date'])\n"
   ]
  },
  {
   "cell_type": "code",
   "execution_count": 58,
   "metadata": {},
   "outputs": [
    {
     "data": {
      "text/html": [
       "<div>\n",
       "<style scoped>\n",
       "    .dataframe tbody tr th:only-of-type {\n",
       "        vertical-align: middle;\n",
       "    }\n",
       "\n",
       "    .dataframe tbody tr th {\n",
       "        vertical-align: top;\n",
       "    }\n",
       "\n",
       "    .dataframe thead th {\n",
       "        text-align: right;\n",
       "    }\n",
       "</style>\n",
       "<table border=\"1\" class=\"dataframe\">\n",
       "  <thead>\n",
       "    <tr style=\"text-align: right;\">\n",
       "      <th></th>\n",
       "      <th>eid</th>\n",
       "      <th>issue_date</th>\n",
       "      <th>dmd_code</th>\n",
       "      <th>issue_date_format</th>\n",
       "    </tr>\n",
       "  </thead>\n",
       "  <tbody>\n",
       "    <tr>\n",
       "      <th>19471</th>\n",
       "      <td>1000899</td>\n",
       "      <td>09/01/2021</td>\n",
       "      <td>39115611000001103</td>\n",
       "      <td>2021-09-01</td>\n",
       "    </tr>\n",
       "    <tr>\n",
       "      <th>261135</th>\n",
       "      <td>1018525</td>\n",
       "      <td>21/03/2021</td>\n",
       "      <td>39114911000001105</td>\n",
       "      <td>2021-03-21</td>\n",
       "    </tr>\n",
       "    <tr>\n",
       "      <th>466220</th>\n",
       "      <td>1031590</td>\n",
       "      <td>23/02/2021</td>\n",
       "      <td>39115611000001103</td>\n",
       "      <td>2021-02-23</td>\n",
       "    </tr>\n",
       "    <tr>\n",
       "      <th>597692</th>\n",
       "      <td>1040468</td>\n",
       "      <td>30/01/2021</td>\n",
       "      <td>39114911000001105</td>\n",
       "      <td>2021-01-30</td>\n",
       "    </tr>\n",
       "    <tr>\n",
       "      <th>970763</th>\n",
       "      <td>1066390</td>\n",
       "      <td>29/01/2021</td>\n",
       "      <td>39114911000001105</td>\n",
       "      <td>2021-01-29</td>\n",
       "    </tr>\n",
       "    <tr>\n",
       "      <th>970765</th>\n",
       "      <td>1066390</td>\n",
       "      <td>20/03/2021</td>\n",
       "      <td>39114911000001105</td>\n",
       "      <td>2021-03-20</td>\n",
       "    </tr>\n",
       "  </tbody>\n",
       "</table>\n",
       "</div>"
      ],
      "text/plain": [
       "            eid  issue_date           dmd_code issue_date_format\n",
       "19471   1000899  09/01/2021  39115611000001103        2021-09-01\n",
       "261135  1018525  21/03/2021  39114911000001105        2021-03-21\n",
       "466220  1031590  23/02/2021  39115611000001103        2021-02-23\n",
       "597692  1040468  30/01/2021  39114911000001105        2021-01-30\n",
       "970763  1066390  29/01/2021  39114911000001105        2021-01-29\n",
       "970765  1066390  20/03/2021  39114911000001105        2021-03-20"
      ]
     },
     "execution_count": 58,
     "metadata": {},
     "output_type": "execute_result"
    }
   ],
   "source": [
    "scripts_vaccines_only"
   ]
  },
  {
   "cell_type": "code",
   "execution_count": 59,
   "metadata": {},
   "outputs": [
    {
     "data": {
      "text/html": [
       "<div>\n",
       "<style scoped>\n",
       "    .dataframe tbody tr th:only-of-type {\n",
       "        vertical-align: middle;\n",
       "    }\n",
       "\n",
       "    .dataframe tbody tr th {\n",
       "        vertical-align: top;\n",
       "    }\n",
       "\n",
       "    .dataframe thead th {\n",
       "        text-align: right;\n",
       "    }\n",
       "</style>\n",
       "<table border=\"1\" class=\"dataframe\">\n",
       "  <thead>\n",
       "    <tr style=\"text-align: right;\">\n",
       "      <th></th>\n",
       "      <th>eid</th>\n",
       "      <th>event_dt</th>\n",
       "      <th>code</th>\n",
       "      <th>icd10_code</th>\n",
       "      <th>event_date_format</th>\n",
       "    </tr>\n",
       "  </thead>\n",
       "  <tbody>\n",
       "    <tr>\n",
       "      <th>12</th>\n",
       "      <td>1000034</td>\n",
       "      <td>01/01/1978</td>\n",
       "      <td>XE0e7</td>\n",
       "      <td>N419</td>\n",
       "      <td>1978-01-01</td>\n",
       "    </tr>\n",
       "    <tr>\n",
       "      <th>13</th>\n",
       "      <td>1000034</td>\n",
       "      <td>01/01/1978</td>\n",
       "      <td>XE0e7</td>\n",
       "      <td>N41</td>\n",
       "      <td>1978-01-01</td>\n",
       "    </tr>\n",
       "    <tr>\n",
       "      <th>14</th>\n",
       "      <td>1013867</td>\n",
       "      <td>10/01/2003</td>\n",
       "      <td>XE0e7</td>\n",
       "      <td>N419</td>\n",
       "      <td>2003-10-01</td>\n",
       "    </tr>\n",
       "    <tr>\n",
       "      <th>15</th>\n",
       "      <td>1013867</td>\n",
       "      <td>10/01/2003</td>\n",
       "      <td>XE0e7</td>\n",
       "      <td>N41</td>\n",
       "      <td>2003-10-01</td>\n",
       "    </tr>\n",
       "    <tr>\n",
       "      <th>16</th>\n",
       "      <td>1000034</td>\n",
       "      <td>23/01/2019</td>\n",
       "      <td>XE1FC</td>\n",
       "      <td>M543</td>\n",
       "      <td>2019-01-23</td>\n",
       "    </tr>\n",
       "  </tbody>\n",
       "</table>\n",
       "</div>"
      ],
      "text/plain": [
       "        eid    event_dt   code icd10_code event_date_format\n",
       "12  1000034  01/01/1978  XE0e7       N419        1978-01-01\n",
       "13  1000034  01/01/1978  XE0e7        N41        1978-01-01\n",
       "14  1013867  10/01/2003  XE0e7       N419        2003-10-01\n",
       "15  1013867  10/01/2003  XE0e7        N41        2003-10-01\n",
       "16  1000034  23/01/2019  XE1FC       M543        2019-01-23"
      ]
     },
     "execution_count": 59,
     "metadata": {},
     "output_type": "execute_result"
    }
   ],
   "source": [
    "clinical_ic10.head()\n",
    "# length: 4156\n",
    "#len(clinical_ic10['eid'].unique()) # some eid are in there multiple times (of course)"
   ]
  },
  {
   "cell_type": "markdown",
   "metadata": {},
   "source": [
    "### adding deaths to clinical_ic10 df so they can be treated as adverse events in first analysis (?)"
   ]
  },
  {
   "cell_type": "code",
   "execution_count": 60,
   "metadata": {},
   "outputs": [
    {
     "name": "stderr",
     "output_type": "stream",
     "text": [
      "C:\\Users\\renee\\anaconda3\\lib\\site-packages\\pandas\\core\\frame.py:4906: SettingWithCopyWarning: \n",
      "A value is trying to be set on a copy of a slice from a DataFrame\n",
      "\n",
      "See the caveats in the documentation: https://pandas.pydata.org/pandas-docs/stable/user_guide/indexing.html#returning-a-view-versus-a-copy\n",
      "  return super().drop(\n",
      "C:\\Users\\renee\\anaconda3\\lib\\site-packages\\pandas\\core\\frame.py:5039: SettingWithCopyWarning: \n",
      "A value is trying to be set on a copy of a slice from a DataFrame\n",
      "\n",
      "See the caveats in the documentation: https://pandas.pydata.org/pandas-docs/stable/user_guide/indexing.html#returning-a-view-versus-a-copy\n",
      "  return super().rename(\n"
     ]
    }
   ],
   "source": [
    "# subset mortality df to the eids with a deathdate that is not NaN\n",
    "mortality_sub = mortality.dropna(subset=['DateDeath'])\n",
    "# drop all the unnecessary columns (also drop age and sex, perhaps no time to analyse this), keep eid, deathdate, cause\n",
    "mortality_sub.drop(columns = ['Unnamed: 0', 'Sex', 'YearBirth', 'MonthBirth', 'DateRecruit', 'BMI', 'AgeDeath'], inplace = True)\n",
    "# rename column 'PatientID' to 'eid' and 'DateDeath' to 'issue_date_format'\n",
    "mortality_sub.rename(columns = {'PatientID':'eid', 'DateDeath':'event_date_format'}, inplace = True)"
   ]
  },
  {
   "cell_type": "code",
   "execution_count": 61,
   "metadata": {
    "scrolled": true
   },
   "outputs": [
    {
     "name": "stderr",
     "output_type": "stream",
     "text": [
      "C:\\Users\\renee\\AppData\\Local\\Temp/ipykernel_39832/2821320636.py:2: SettingWithCopyWarning: \n",
      "A value is trying to be set on a copy of a slice from a DataFrame.\n",
      "Try using .loc[row_indexer,col_indexer] = value instead\n",
      "\n",
      "See the caveats in the documentation: https://pandas.pydata.org/pandas-docs/stable/user_guide/indexing.html#returning-a-view-versus-a-copy\n",
      "  mortality_sub['icd10_code'] = pd.Series([\"death\" for x in range(len(mortality.index))])\n"
     ]
    }
   ],
   "source": [
    "# add column 'icd10_code' to mortality, filled with string 'death'\n",
    "mortality_sub['icd10_code'] = pd.Series([\"death\" for x in range(len(mortality.index))])\n"
   ]
  },
  {
   "cell_type": "code",
   "execution_count": 62,
   "metadata": {},
   "outputs": [
    {
     "name": "stderr",
     "output_type": "stream",
     "text": [
      "C:\\Users\\renee\\AppData\\Local\\Temp/ipykernel_39832/1819874372.py:2: SettingWithCopyWarning: \n",
      "A value is trying to be set on a copy of a slice from a DataFrame.\n",
      "Try using .loc[row_indexer,col_indexer] = value instead\n",
      "\n",
      "See the caveats in the documentation: https://pandas.pydata.org/pandas-docs/stable/user_guide/indexing.html#returning-a-view-versus-a-copy\n",
      "  mortality_sub['event_date_format'] = pd.to_datetime(mortality_sub['event_date_format'])\n"
     ]
    }
   ],
   "source": [
    "# make 'DateDeath' datetime type\n",
    "mortality_sub['event_date_format'] = pd.to_datetime(mortality_sub['event_date_format'])\n"
   ]
  },
  {
   "cell_type": "code",
   "execution_count": 63,
   "metadata": {},
   "outputs": [
    {
     "data": {
      "text/html": [
       "<div>\n",
       "<style scoped>\n",
       "    .dataframe tbody tr th:only-of-type {\n",
       "        vertical-align: middle;\n",
       "    }\n",
       "\n",
       "    .dataframe tbody tr th {\n",
       "        vertical-align: top;\n",
       "    }\n",
       "\n",
       "    .dataframe thead th {\n",
       "        text-align: right;\n",
       "    }\n",
       "</style>\n",
       "<table border=\"1\" class=\"dataframe\">\n",
       "  <thead>\n",
       "    <tr style=\"text-align: right;\">\n",
       "      <th></th>\n",
       "      <th>eid</th>\n",
       "      <th>AgeRecruit</th>\n",
       "      <th>event_date_format</th>\n",
       "      <th>cause of death 1</th>\n",
       "      <th>cause of death 2</th>\n",
       "      <th>icd10_code</th>\n",
       "    </tr>\n",
       "  </thead>\n",
       "  <tbody>\n",
       "    <tr>\n",
       "      <th>5</th>\n",
       "      <td>2717656</td>\n",
       "      <td>68.0</td>\n",
       "      <td>2015-06-05</td>\n",
       "      <td>C259</td>\n",
       "      <td>NaN</td>\n",
       "      <td>death</td>\n",
       "    </tr>\n",
       "    <tr>\n",
       "      <th>16</th>\n",
       "      <td>1546385</td>\n",
       "      <td>47.0</td>\n",
       "      <td>2015-06-28</td>\n",
       "      <td>C64</td>\n",
       "      <td>NaN</td>\n",
       "      <td>death</td>\n",
       "    </tr>\n",
       "    <tr>\n",
       "      <th>34</th>\n",
       "      <td>3694551</td>\n",
       "      <td>68.0</td>\n",
       "      <td>2013-07-27</td>\n",
       "      <td>K720</td>\n",
       "      <td>NaN</td>\n",
       "      <td>death</td>\n",
       "    </tr>\n",
       "    <tr>\n",
       "      <th>35</th>\n",
       "      <td>3396715</td>\n",
       "      <td>65.0</td>\n",
       "      <td>2013-03-26</td>\n",
       "      <td>J449</td>\n",
       "      <td>NaN</td>\n",
       "      <td>death</td>\n",
       "    </tr>\n",
       "    <tr>\n",
       "      <th>69</th>\n",
       "      <td>2692340</td>\n",
       "      <td>68.0</td>\n",
       "      <td>2015-10-09</td>\n",
       "      <td>I251</td>\n",
       "      <td>NaN</td>\n",
       "      <td>death</td>\n",
       "    </tr>\n",
       "    <tr>\n",
       "      <th>...</th>\n",
       "      <td>...</td>\n",
       "      <td>...</td>\n",
       "      <td>...</td>\n",
       "      <td>...</td>\n",
       "      <td>...</td>\n",
       "      <td>...</td>\n",
       "    </tr>\n",
       "    <tr>\n",
       "      <th>9943</th>\n",
       "      <td>1525180</td>\n",
       "      <td>46.0</td>\n",
       "      <td>2011-09-26</td>\n",
       "      <td>C509</td>\n",
       "      <td>NaN</td>\n",
       "      <td>death</td>\n",
       "    </tr>\n",
       "    <tr>\n",
       "      <th>9969</th>\n",
       "      <td>3152046</td>\n",
       "      <td>60.0</td>\n",
       "      <td>2019-08-06</td>\n",
       "      <td>G409</td>\n",
       "      <td>NaN</td>\n",
       "      <td>death</td>\n",
       "    </tr>\n",
       "    <tr>\n",
       "      <th>9979</th>\n",
       "      <td>2244275</td>\n",
       "      <td>57.0</td>\n",
       "      <td>2017-11-16</td>\n",
       "      <td>C221</td>\n",
       "      <td>NaN</td>\n",
       "      <td>death</td>\n",
       "    </tr>\n",
       "    <tr>\n",
       "      <th>9985</th>\n",
       "      <td>3652978</td>\n",
       "      <td>53.0</td>\n",
       "      <td>2018-08-24</td>\n",
       "      <td>G35</td>\n",
       "      <td>NaN</td>\n",
       "      <td>death</td>\n",
       "    </tr>\n",
       "    <tr>\n",
       "      <th>9990</th>\n",
       "      <td>2197584</td>\n",
       "      <td>55.0</td>\n",
       "      <td>2015-07-12</td>\n",
       "      <td>G122</td>\n",
       "      <td>NaN</td>\n",
       "      <td>death</td>\n",
       "    </tr>\n",
       "  </tbody>\n",
       "</table>\n",
       "<p>661 rows × 6 columns</p>\n",
       "</div>"
      ],
      "text/plain": [
       "          eid  AgeRecruit event_date_format cause of death 1 cause of death 2  \\\n",
       "5     2717656        68.0        2015-06-05             C259              NaN   \n",
       "16    1546385        47.0        2015-06-28              C64              NaN   \n",
       "34    3694551        68.0        2013-07-27             K720              NaN   \n",
       "35    3396715        65.0        2013-03-26             J449              NaN   \n",
       "69    2692340        68.0        2015-10-09             I251              NaN   \n",
       "...       ...         ...               ...              ...              ...   \n",
       "9943  1525180        46.0        2011-09-26             C509              NaN   \n",
       "9969  3152046        60.0        2019-08-06             G409              NaN   \n",
       "9979  2244275        57.0        2017-11-16             C221              NaN   \n",
       "9985  3652978        53.0        2018-08-24              G35              NaN   \n",
       "9990  2197584        55.0        2015-07-12             G122              NaN   \n",
       "\n",
       "     icd10_code  \n",
       "5         death  \n",
       "16        death  \n",
       "34        death  \n",
       "35        death  \n",
       "69        death  \n",
       "...         ...  \n",
       "9943      death  \n",
       "9969      death  \n",
       "9979      death  \n",
       "9985      death  \n",
       "9990      death  \n",
       "\n",
       "[661 rows x 6 columns]"
      ]
     },
     "execution_count": 63,
     "metadata": {},
     "output_type": "execute_result"
    }
   ],
   "source": [
    "mortality_sub"
   ]
  },
  {
   "cell_type": "code",
   "execution_count": 64,
   "metadata": {},
   "outputs": [],
   "source": [
    "# now join it to the clinical_vac\n",
    "clinical_ic10= pd.concat([clinical_ic10, mortality_sub], join = 'outer')\n"
   ]
  },
  {
   "cell_type": "code",
   "execution_count": 65,
   "metadata": {},
   "outputs": [
    {
     "data": {
      "text/html": [
       "<div>\n",
       "<style scoped>\n",
       "    .dataframe tbody tr th:only-of-type {\n",
       "        vertical-align: middle;\n",
       "    }\n",
       "\n",
       "    .dataframe tbody tr th {\n",
       "        vertical-align: top;\n",
       "    }\n",
       "\n",
       "    .dataframe thead th {\n",
       "        text-align: right;\n",
       "    }\n",
       "</style>\n",
       "<table border=\"1\" class=\"dataframe\">\n",
       "  <thead>\n",
       "    <tr style=\"text-align: right;\">\n",
       "      <th></th>\n",
       "      <th>eid</th>\n",
       "      <th>event_dt</th>\n",
       "      <th>code</th>\n",
       "      <th>icd10_code</th>\n",
       "      <th>event_date_format</th>\n",
       "      <th>AgeRecruit</th>\n",
       "      <th>cause of death 1</th>\n",
       "      <th>cause of death 2</th>\n",
       "    </tr>\n",
       "  </thead>\n",
       "  <tbody>\n",
       "    <tr>\n",
       "      <th>12</th>\n",
       "      <td>1000034</td>\n",
       "      <td>01/01/1978</td>\n",
       "      <td>XE0e7</td>\n",
       "      <td>N419</td>\n",
       "      <td>1978-01-01</td>\n",
       "      <td>NaN</td>\n",
       "      <td>NaN</td>\n",
       "      <td>NaN</td>\n",
       "    </tr>\n",
       "    <tr>\n",
       "      <th>13</th>\n",
       "      <td>1000034</td>\n",
       "      <td>01/01/1978</td>\n",
       "      <td>XE0e7</td>\n",
       "      <td>N41</td>\n",
       "      <td>1978-01-01</td>\n",
       "      <td>NaN</td>\n",
       "      <td>NaN</td>\n",
       "      <td>NaN</td>\n",
       "    </tr>\n",
       "    <tr>\n",
       "      <th>14</th>\n",
       "      <td>1013867</td>\n",
       "      <td>10/01/2003</td>\n",
       "      <td>XE0e7</td>\n",
       "      <td>N419</td>\n",
       "      <td>2003-10-01</td>\n",
       "      <td>NaN</td>\n",
       "      <td>NaN</td>\n",
       "      <td>NaN</td>\n",
       "    </tr>\n",
       "    <tr>\n",
       "      <th>15</th>\n",
       "      <td>1013867</td>\n",
       "      <td>10/01/2003</td>\n",
       "      <td>XE0e7</td>\n",
       "      <td>N41</td>\n",
       "      <td>2003-10-01</td>\n",
       "      <td>NaN</td>\n",
       "      <td>NaN</td>\n",
       "      <td>NaN</td>\n",
       "    </tr>\n",
       "    <tr>\n",
       "      <th>16</th>\n",
       "      <td>1000034</td>\n",
       "      <td>23/01/2019</td>\n",
       "      <td>XE1FC</td>\n",
       "      <td>M543</td>\n",
       "      <td>2019-01-23</td>\n",
       "      <td>NaN</td>\n",
       "      <td>NaN</td>\n",
       "      <td>NaN</td>\n",
       "    </tr>\n",
       "    <tr>\n",
       "      <th>...</th>\n",
       "      <td>...</td>\n",
       "      <td>...</td>\n",
       "      <td>...</td>\n",
       "      <td>...</td>\n",
       "      <td>...</td>\n",
       "      <td>...</td>\n",
       "      <td>...</td>\n",
       "      <td>...</td>\n",
       "    </tr>\n",
       "    <tr>\n",
       "      <th>9943</th>\n",
       "      <td>1525180</td>\n",
       "      <td>NaN</td>\n",
       "      <td>NaN</td>\n",
       "      <td>death</td>\n",
       "      <td>2011-09-26</td>\n",
       "      <td>46.0</td>\n",
       "      <td>C509</td>\n",
       "      <td>NaN</td>\n",
       "    </tr>\n",
       "    <tr>\n",
       "      <th>9969</th>\n",
       "      <td>3152046</td>\n",
       "      <td>NaN</td>\n",
       "      <td>NaN</td>\n",
       "      <td>death</td>\n",
       "      <td>2019-08-06</td>\n",
       "      <td>60.0</td>\n",
       "      <td>G409</td>\n",
       "      <td>NaN</td>\n",
       "    </tr>\n",
       "    <tr>\n",
       "      <th>9979</th>\n",
       "      <td>2244275</td>\n",
       "      <td>NaN</td>\n",
       "      <td>NaN</td>\n",
       "      <td>death</td>\n",
       "      <td>2017-11-16</td>\n",
       "      <td>57.0</td>\n",
       "      <td>C221</td>\n",
       "      <td>NaN</td>\n",
       "    </tr>\n",
       "    <tr>\n",
       "      <th>9985</th>\n",
       "      <td>3652978</td>\n",
       "      <td>NaN</td>\n",
       "      <td>NaN</td>\n",
       "      <td>death</td>\n",
       "      <td>2018-08-24</td>\n",
       "      <td>53.0</td>\n",
       "      <td>G35</td>\n",
       "      <td>NaN</td>\n",
       "    </tr>\n",
       "    <tr>\n",
       "      <th>9990</th>\n",
       "      <td>2197584</td>\n",
       "      <td>NaN</td>\n",
       "      <td>NaN</td>\n",
       "      <td>death</td>\n",
       "      <td>2015-07-12</td>\n",
       "      <td>55.0</td>\n",
       "      <td>G122</td>\n",
       "      <td>NaN</td>\n",
       "    </tr>\n",
       "  </tbody>\n",
       "</table>\n",
       "<p>133687 rows × 8 columns</p>\n",
       "</div>"
      ],
      "text/plain": [
       "          eid    event_dt   code icd10_code event_date_format  AgeRecruit  \\\n",
       "12    1000034  01/01/1978  XE0e7       N419        1978-01-01         NaN   \n",
       "13    1000034  01/01/1978  XE0e7        N41        1978-01-01         NaN   \n",
       "14    1013867  10/01/2003  XE0e7       N419        2003-10-01         NaN   \n",
       "15    1013867  10/01/2003  XE0e7        N41        2003-10-01         NaN   \n",
       "16    1000034  23/01/2019  XE1FC       M543        2019-01-23         NaN   \n",
       "...       ...         ...    ...        ...               ...         ...   \n",
       "9943  1525180         NaN    NaN      death        2011-09-26        46.0   \n",
       "9969  3152046         NaN    NaN      death        2019-08-06        60.0   \n",
       "9979  2244275         NaN    NaN      death        2017-11-16        57.0   \n",
       "9985  3652978         NaN    NaN      death        2018-08-24        53.0   \n",
       "9990  2197584         NaN    NaN      death        2015-07-12        55.0   \n",
       "\n",
       "     cause of death 1 cause of death 2  \n",
       "12                NaN              NaN  \n",
       "13                NaN              NaN  \n",
       "14                NaN              NaN  \n",
       "15                NaN              NaN  \n",
       "16                NaN              NaN  \n",
       "...               ...              ...  \n",
       "9943             C509              NaN  \n",
       "9969             G409              NaN  \n",
       "9979             C221              NaN  \n",
       "9985              G35              NaN  \n",
       "9990             G122              NaN  \n",
       "\n",
       "[133687 rows x 8 columns]"
      ]
     },
     "execution_count": 65,
     "metadata": {},
     "output_type": "execute_result"
    }
   ],
   "source": [
    "clinical_ic10"
   ]
  },
  {
   "cell_type": "markdown",
   "metadata": {},
   "source": [
    "### add a column with the date of vaccination to clinical_ic10 and drop event_dt and issue_date"
   ]
  },
  {
   "cell_type": "code",
   "execution_count": 66,
   "metadata": {},
   "outputs": [],
   "source": [
    "# merge clinical_ic10 and scripts_vaccines_only to add the issue_date (date of vaccine) to the df\n",
    "clinical_vac = pd.merge(clinical_ic10, scripts_vaccines_only, how ='outer', on ='eid')"
   ]
  },
  {
   "cell_type": "code",
   "execution_count": 67,
   "metadata": {},
   "outputs": [],
   "source": [
    "# convert issue date to date format\n",
    "# clinical_vac['issue_date_format'] = pd.to_datetime(clinical_vac['issue_date'])\n",
    "# renée: I guess it's safer, since the dtype is 'datetime64' in the new column and 'object' in the old one:\n",
    "# print(clinical_vac['issue_date']) \n",
    "# print(clinical_vac['issue_date_format'])"
   ]
  },
  {
   "cell_type": "code",
   "execution_count": 68,
   "metadata": {},
   "outputs": [],
   "source": [
    "# drop event_dt and issue_date\n",
    "clinical_vac.drop(columns = ['event_dt', 'issue_date'], inplace = True)"
   ]
  },
  {
   "cell_type": "code",
   "execution_count": 69,
   "metadata": {},
   "outputs": [
    {
     "data": {
      "text/plain": [
       "133690"
      ]
     },
     "execution_count": 69,
     "metadata": {},
     "output_type": "execute_result"
    }
   ],
   "source": [
    "len(clinical_vac) \n",
    "# total amounts of events: vaccinations and medical events from clinical_ic10"
   ]
  },
  {
   "cell_type": "code",
   "execution_count": 71,
   "metadata": {
    "scrolled": true
   },
   "outputs": [
    {
     "data": {
      "text/plain": [
       "133422"
      ]
     },
     "execution_count": 71,
     "metadata": {},
     "output_type": "execute_result"
    }
   ],
   "source": [
    "clinical_vac['issue_date_format'].isna().sum()"
   ]
  },
  {
   "cell_type": "markdown",
   "metadata": {},
   "source": [
    "### add column in clinical_vac that says whether a patient is vaccinated or not"
   ]
  },
  {
   "cell_type": "code",
   "execution_count": 72,
   "metadata": {},
   "outputs": [
    {
     "data": {
      "text/plain": [
       "False    133422\n",
       "True        268\n",
       "Name: vaccinated, dtype: int64"
      ]
     },
     "execution_count": 72,
     "metadata": {},
     "output_type": "execute_result"
    }
   ],
   "source": [
    "mask_vaccinated = clinical_vac['eid'].isin(id_vac)\n",
    "clinical_vac['vaccinated'] = mask_vaccinated\n",
    "\n",
    "# check how many events of vaccinated people there are\n",
    "clinical_vac['vaccinated'].value_counts()\n",
    "\n",
    "# clinical_ic10['eid'].loc[clinical_ic10['vaccinated']==True]"
   ]
  },
  {
   "cell_type": "code",
   "execution_count": 73,
   "metadata": {},
   "outputs": [
    {
     "data": {
      "text/html": [
       "<div>\n",
       "<style scoped>\n",
       "    .dataframe tbody tr th:only-of-type {\n",
       "        vertical-align: middle;\n",
       "    }\n",
       "\n",
       "    .dataframe tbody tr th {\n",
       "        vertical-align: top;\n",
       "    }\n",
       "\n",
       "    .dataframe thead th {\n",
       "        text-align: right;\n",
       "    }\n",
       "</style>\n",
       "<table border=\"1\" class=\"dataframe\">\n",
       "  <thead>\n",
       "    <tr style=\"text-align: right;\">\n",
       "      <th></th>\n",
       "      <th>eid</th>\n",
       "      <th>code</th>\n",
       "      <th>icd10_code</th>\n",
       "      <th>event_date_format</th>\n",
       "      <th>AgeRecruit</th>\n",
       "      <th>cause of death 1</th>\n",
       "      <th>cause of death 2</th>\n",
       "      <th>dmd_code</th>\n",
       "      <th>issue_date_format</th>\n",
       "      <th>vaccinated</th>\n",
       "    </tr>\n",
       "  </thead>\n",
       "  <tbody>\n",
       "    <tr>\n",
       "      <th>0</th>\n",
       "      <td>1000034</td>\n",
       "      <td>XE0e7</td>\n",
       "      <td>N419</td>\n",
       "      <td>1978-01-01</td>\n",
       "      <td>NaN</td>\n",
       "      <td>NaN</td>\n",
       "      <td>NaN</td>\n",
       "      <td>NaN</td>\n",
       "      <td>NaT</td>\n",
       "      <td>False</td>\n",
       "    </tr>\n",
       "    <tr>\n",
       "      <th>1</th>\n",
       "      <td>1000034</td>\n",
       "      <td>XE0e7</td>\n",
       "      <td>N41</td>\n",
       "      <td>1978-01-01</td>\n",
       "      <td>NaN</td>\n",
       "      <td>NaN</td>\n",
       "      <td>NaN</td>\n",
       "      <td>NaN</td>\n",
       "      <td>NaT</td>\n",
       "      <td>False</td>\n",
       "    </tr>\n",
       "    <tr>\n",
       "      <th>2</th>\n",
       "      <td>1000034</td>\n",
       "      <td>XE1FC</td>\n",
       "      <td>M543</td>\n",
       "      <td>2019-01-23</td>\n",
       "      <td>NaN</td>\n",
       "      <td>NaN</td>\n",
       "      <td>NaN</td>\n",
       "      <td>NaN</td>\n",
       "      <td>NaT</td>\n",
       "      <td>False</td>\n",
       "    </tr>\n",
       "    <tr>\n",
       "      <th>3</th>\n",
       "      <td>1000034</td>\n",
       "      <td>XE1FC</td>\n",
       "      <td>M544</td>\n",
       "      <td>2019-01-23</td>\n",
       "      <td>NaN</td>\n",
       "      <td>NaN</td>\n",
       "      <td>NaN</td>\n",
       "      <td>NaN</td>\n",
       "      <td>NaT</td>\n",
       "      <td>False</td>\n",
       "    </tr>\n",
       "    <tr>\n",
       "      <th>4</th>\n",
       "      <td>1000034</td>\n",
       "      <td>XE1FC</td>\n",
       "      <td>G570</td>\n",
       "      <td>2019-01-23</td>\n",
       "      <td>NaN</td>\n",
       "      <td>NaN</td>\n",
       "      <td>NaN</td>\n",
       "      <td>NaN</td>\n",
       "      <td>NaT</td>\n",
       "      <td>False</td>\n",
       "    </tr>\n",
       "    <tr>\n",
       "      <th>...</th>\n",
       "      <td>...</td>\n",
       "      <td>...</td>\n",
       "      <td>...</td>\n",
       "      <td>...</td>\n",
       "      <td>...</td>\n",
       "      <td>...</td>\n",
       "      <td>...</td>\n",
       "      <td>...</td>\n",
       "      <td>...</td>\n",
       "      <td>...</td>\n",
       "    </tr>\n",
       "    <tr>\n",
       "      <th>133685</th>\n",
       "      <td>3652978</td>\n",
       "      <td>NaN</td>\n",
       "      <td>death</td>\n",
       "      <td>2018-08-24</td>\n",
       "      <td>53.0</td>\n",
       "      <td>G35</td>\n",
       "      <td>NaN</td>\n",
       "      <td>NaN</td>\n",
       "      <td>NaT</td>\n",
       "      <td>False</td>\n",
       "    </tr>\n",
       "    <tr>\n",
       "      <th>133686</th>\n",
       "      <td>2197584</td>\n",
       "      <td>NaN</td>\n",
       "      <td>death</td>\n",
       "      <td>2015-07-12</td>\n",
       "      <td>55.0</td>\n",
       "      <td>G122</td>\n",
       "      <td>NaN</td>\n",
       "      <td>NaN</td>\n",
       "      <td>NaT</td>\n",
       "      <td>False</td>\n",
       "    </tr>\n",
       "    <tr>\n",
       "      <th>133687</th>\n",
       "      <td>1040468</td>\n",
       "      <td>NaN</td>\n",
       "      <td>NaN</td>\n",
       "      <td>NaT</td>\n",
       "      <td>NaN</td>\n",
       "      <td>NaN</td>\n",
       "      <td>NaN</td>\n",
       "      <td>3.911491e+16</td>\n",
       "      <td>2021-01-30</td>\n",
       "      <td>True</td>\n",
       "    </tr>\n",
       "    <tr>\n",
       "      <th>133688</th>\n",
       "      <td>1066390</td>\n",
       "      <td>NaN</td>\n",
       "      <td>NaN</td>\n",
       "      <td>NaT</td>\n",
       "      <td>NaN</td>\n",
       "      <td>NaN</td>\n",
       "      <td>NaN</td>\n",
       "      <td>3.911491e+16</td>\n",
       "      <td>2021-01-29</td>\n",
       "      <td>True</td>\n",
       "    </tr>\n",
       "    <tr>\n",
       "      <th>133689</th>\n",
       "      <td>1066390</td>\n",
       "      <td>NaN</td>\n",
       "      <td>NaN</td>\n",
       "      <td>NaT</td>\n",
       "      <td>NaN</td>\n",
       "      <td>NaN</td>\n",
       "      <td>NaN</td>\n",
       "      <td>3.911491e+16</td>\n",
       "      <td>2021-03-20</td>\n",
       "      <td>True</td>\n",
       "    </tr>\n",
       "  </tbody>\n",
       "</table>\n",
       "<p>133690 rows × 10 columns</p>\n",
       "</div>"
      ],
      "text/plain": [
       "            eid   code icd10_code event_date_format  AgeRecruit  \\\n",
       "0       1000034  XE0e7       N419        1978-01-01         NaN   \n",
       "1       1000034  XE0e7        N41        1978-01-01         NaN   \n",
       "2       1000034  XE1FC       M543        2019-01-23         NaN   \n",
       "3       1000034  XE1FC       M544        2019-01-23         NaN   \n",
       "4       1000034  XE1FC       G570        2019-01-23         NaN   \n",
       "...         ...    ...        ...               ...         ...   \n",
       "133685  3652978    NaN      death        2018-08-24        53.0   \n",
       "133686  2197584    NaN      death        2015-07-12        55.0   \n",
       "133687  1040468    NaN        NaN               NaT         NaN   \n",
       "133688  1066390    NaN        NaN               NaT         NaN   \n",
       "133689  1066390    NaN        NaN               NaT         NaN   \n",
       "\n",
       "       cause of death 1 cause of death 2      dmd_code issue_date_format  \\\n",
       "0                   NaN              NaN           NaN               NaT   \n",
       "1                   NaN              NaN           NaN               NaT   \n",
       "2                   NaN              NaN           NaN               NaT   \n",
       "3                   NaN              NaN           NaN               NaT   \n",
       "4                   NaN              NaN           NaN               NaT   \n",
       "...                 ...              ...           ...               ...   \n",
       "133685              G35              NaN           NaN               NaT   \n",
       "133686             G122              NaN           NaN               NaT   \n",
       "133687              NaN              NaN  3.911491e+16        2021-01-30   \n",
       "133688              NaN              NaN  3.911491e+16        2021-01-29   \n",
       "133689              NaN              NaN  3.911491e+16        2021-03-20   \n",
       "\n",
       "        vaccinated  \n",
       "0            False  \n",
       "1            False  \n",
       "2            False  \n",
       "3            False  \n",
       "4            False  \n",
       "...            ...  \n",
       "133685       False  \n",
       "133686       False  \n",
       "133687        True  \n",
       "133688        True  \n",
       "133689        True  \n",
       "\n",
       "[133690 rows x 10 columns]"
      ]
     },
     "execution_count": 73,
     "metadata": {},
     "output_type": "execute_result"
    }
   ],
   "source": [
    "clinical_vac \n",
    "# 133029 events\n",
    "# rows with event_dt=NaN: vaccinated eids without medical events -> maybe rename it"
   ]
  },
  {
   "cell_type": "markdown",
   "metadata": {},
   "source": [
    "### add random issue date to events of unvaccinated patients to 'issue_date_format'  in clinical_vac "
   ]
  },
  {
   "cell_type": "code",
   "execution_count": 74,
   "metadata": {},
   "outputs": [
    {
     "data": {
      "text/plain": [
       "[Timestamp('2021-09-01 00:00:00'),\n",
       " Timestamp('2021-03-21 00:00:00'),\n",
       " Timestamp('2021-02-23 00:00:00'),\n",
       " Timestamp('2021-01-30 00:00:00'),\n",
       " Timestamp('2021-01-29 00:00:00'),\n",
       " Timestamp('2021-03-20 00:00:00')]"
      ]
     },
     "execution_count": 74,
     "metadata": {},
     "output_type": "execute_result"
    }
   ],
   "source": [
    "# make list from 'issue_date' in scripts_vaccines_only\n",
    "issue_dates = scripts_vaccines_only['issue_date_format'].tolist()\n",
    "issue_dates"
   ]
  },
  {
   "cell_type": "code",
   "execution_count": 75,
   "metadata": {},
   "outputs": [
    {
     "data": {
      "text/plain": [
       "1895"
      ]
     },
     "execution_count": 75,
     "metadata": {},
     "output_type": "execute_result"
    }
   ],
   "source": [
    "# 'eid' of unvaccinated people\n",
    "id_nvac = clinical_vac[clinical_vac['vaccinated']==False]['eid'].unique()\n",
    "len(id_nvac)"
   ]
  },
  {
   "cell_type": "code",
   "execution_count": 76,
   "metadata": {},
   "outputs": [
    {
     "data": {
      "text/plain": [
       "1895"
      ]
     },
     "execution_count": 76,
     "metadata": {},
     "output_type": "execute_result"
    }
   ],
   "source": [
    "# create list of new dates\n",
    "issue_dt_random = random.choices(issue_dates, k = len(id_nvac))\n",
    "len(issue_dt_random)"
   ]
  },
  {
   "cell_type": "code",
   "execution_count": 77,
   "metadata": {},
   "outputs": [
    {
     "data": {
      "text/plain": [
       "1895"
      ]
     },
     "execution_count": 77,
     "metadata": {},
     "output_type": "execute_result"
    }
   ],
   "source": [
    "# make dictionary with random issue dates and unvaccinated eid\n",
    "dict_nvac = dict(zip(id_nvac,issue_dt_random))\n",
    "len(dict_nvac)"
   ]
  },
  {
   "cell_type": "code",
   "execution_count": 78,
   "metadata": {},
   "outputs": [],
   "source": [
    "# fill na with mapping from the dictionary\n",
    "clinical_vac['issue_date_format'] = clinical_vac['issue_date_format'].fillna(clinical_vac['eid'].map(dict_nvac))"
   ]
  },
  {
   "cell_type": "code",
   "execution_count": 79,
   "metadata": {},
   "outputs": [
    {
     "data": {
      "text/plain": [
       "array(['2021-09-01T00:00:00.000000000', '2021-03-21T00:00:00.000000000',\n",
       "       '2021-02-23T00:00:00.000000000', '2021-01-30T00:00:00.000000000',\n",
       "       '2021-01-29T00:00:00.000000000', '2021-03-20T00:00:00.000000000'],\n",
       "      dtype='datetime64[ns]')"
      ]
     },
     "execution_count": 79,
     "metadata": {},
     "output_type": "execute_result"
    }
   ],
   "source": [
    "clinical_vac['issue_date_format'][clinical_vac['vaccinated']==True].unique()"
   ]
  },
  {
   "cell_type": "code",
   "execution_count": 80,
   "metadata": {},
   "outputs": [
    {
     "data": {
      "text/plain": [
       "array(['2021-03-21T00:00:00.000000000', '2021-01-29T00:00:00.000000000',\n",
       "       '2021-03-20T00:00:00.000000000', '2021-09-01T00:00:00.000000000',\n",
       "       '2021-01-30T00:00:00.000000000', '2021-02-23T00:00:00.000000000'],\n",
       "      dtype='datetime64[ns]')"
      ]
     },
     "execution_count": 80,
     "metadata": {},
     "output_type": "execute_result"
    }
   ],
   "source": [
    "clinical_vac['issue_date_format'][clinical_vac['vaccinated']==False].unique()"
   ]
  },
  {
   "cell_type": "code",
   "execution_count": 81,
   "metadata": {},
   "outputs": [
    {
     "data": {
      "text/html": [
       "<div>\n",
       "<style scoped>\n",
       "    .dataframe tbody tr th:only-of-type {\n",
       "        vertical-align: middle;\n",
       "    }\n",
       "\n",
       "    .dataframe tbody tr th {\n",
       "        vertical-align: top;\n",
       "    }\n",
       "\n",
       "    .dataframe thead th {\n",
       "        text-align: right;\n",
       "    }\n",
       "</style>\n",
       "<table border=\"1\" class=\"dataframe\">\n",
       "  <thead>\n",
       "    <tr style=\"text-align: right;\">\n",
       "      <th></th>\n",
       "      <th>eid</th>\n",
       "      <th>code</th>\n",
       "      <th>icd10_code</th>\n",
       "      <th>event_date_format</th>\n",
       "      <th>AgeRecruit</th>\n",
       "      <th>cause of death 1</th>\n",
       "      <th>cause of death 2</th>\n",
       "      <th>dmd_code</th>\n",
       "      <th>issue_date_format</th>\n",
       "      <th>vaccinated</th>\n",
       "    </tr>\n",
       "  </thead>\n",
       "  <tbody>\n",
       "    <tr>\n",
       "      <th>0</th>\n",
       "      <td>1000034</td>\n",
       "      <td>XE0e7</td>\n",
       "      <td>N419</td>\n",
       "      <td>1978-01-01</td>\n",
       "      <td>NaN</td>\n",
       "      <td>NaN</td>\n",
       "      <td>NaN</td>\n",
       "      <td>NaN</td>\n",
       "      <td>2021-03-21</td>\n",
       "      <td>False</td>\n",
       "    </tr>\n",
       "    <tr>\n",
       "      <th>1</th>\n",
       "      <td>1000034</td>\n",
       "      <td>XE0e7</td>\n",
       "      <td>N41</td>\n",
       "      <td>1978-01-01</td>\n",
       "      <td>NaN</td>\n",
       "      <td>NaN</td>\n",
       "      <td>NaN</td>\n",
       "      <td>NaN</td>\n",
       "      <td>2021-03-21</td>\n",
       "      <td>False</td>\n",
       "    </tr>\n",
       "    <tr>\n",
       "      <th>2</th>\n",
       "      <td>1000034</td>\n",
       "      <td>XE1FC</td>\n",
       "      <td>M543</td>\n",
       "      <td>2019-01-23</td>\n",
       "      <td>NaN</td>\n",
       "      <td>NaN</td>\n",
       "      <td>NaN</td>\n",
       "      <td>NaN</td>\n",
       "      <td>2021-03-21</td>\n",
       "      <td>False</td>\n",
       "    </tr>\n",
       "    <tr>\n",
       "      <th>3</th>\n",
       "      <td>1000034</td>\n",
       "      <td>XE1FC</td>\n",
       "      <td>M544</td>\n",
       "      <td>2019-01-23</td>\n",
       "      <td>NaN</td>\n",
       "      <td>NaN</td>\n",
       "      <td>NaN</td>\n",
       "      <td>NaN</td>\n",
       "      <td>2021-03-21</td>\n",
       "      <td>False</td>\n",
       "    </tr>\n",
       "    <tr>\n",
       "      <th>4</th>\n",
       "      <td>1000034</td>\n",
       "      <td>XE1FC</td>\n",
       "      <td>G570</td>\n",
       "      <td>2019-01-23</td>\n",
       "      <td>NaN</td>\n",
       "      <td>NaN</td>\n",
       "      <td>NaN</td>\n",
       "      <td>NaN</td>\n",
       "      <td>2021-03-21</td>\n",
       "      <td>False</td>\n",
       "    </tr>\n",
       "    <tr>\n",
       "      <th>...</th>\n",
       "      <td>...</td>\n",
       "      <td>...</td>\n",
       "      <td>...</td>\n",
       "      <td>...</td>\n",
       "      <td>...</td>\n",
       "      <td>...</td>\n",
       "      <td>...</td>\n",
       "      <td>...</td>\n",
       "      <td>...</td>\n",
       "      <td>...</td>\n",
       "    </tr>\n",
       "    <tr>\n",
       "      <th>133682</th>\n",
       "      <td>1525180</td>\n",
       "      <td>NaN</td>\n",
       "      <td>death</td>\n",
       "      <td>2011-09-26</td>\n",
       "      <td>46.0</td>\n",
       "      <td>C509</td>\n",
       "      <td>NaN</td>\n",
       "      <td>NaN</td>\n",
       "      <td>2021-03-21</td>\n",
       "      <td>False</td>\n",
       "    </tr>\n",
       "    <tr>\n",
       "      <th>133683</th>\n",
       "      <td>3152046</td>\n",
       "      <td>NaN</td>\n",
       "      <td>death</td>\n",
       "      <td>2019-08-06</td>\n",
       "      <td>60.0</td>\n",
       "      <td>G409</td>\n",
       "      <td>NaN</td>\n",
       "      <td>NaN</td>\n",
       "      <td>2021-03-21</td>\n",
       "      <td>False</td>\n",
       "    </tr>\n",
       "    <tr>\n",
       "      <th>133684</th>\n",
       "      <td>2244275</td>\n",
       "      <td>NaN</td>\n",
       "      <td>death</td>\n",
       "      <td>2017-11-16</td>\n",
       "      <td>57.0</td>\n",
       "      <td>C221</td>\n",
       "      <td>NaN</td>\n",
       "      <td>NaN</td>\n",
       "      <td>2021-01-30</td>\n",
       "      <td>False</td>\n",
       "    </tr>\n",
       "    <tr>\n",
       "      <th>133685</th>\n",
       "      <td>3652978</td>\n",
       "      <td>NaN</td>\n",
       "      <td>death</td>\n",
       "      <td>2018-08-24</td>\n",
       "      <td>53.0</td>\n",
       "      <td>G35</td>\n",
       "      <td>NaN</td>\n",
       "      <td>NaN</td>\n",
       "      <td>2021-03-20</td>\n",
       "      <td>False</td>\n",
       "    </tr>\n",
       "    <tr>\n",
       "      <th>133686</th>\n",
       "      <td>2197584</td>\n",
       "      <td>NaN</td>\n",
       "      <td>death</td>\n",
       "      <td>2015-07-12</td>\n",
       "      <td>55.0</td>\n",
       "      <td>G122</td>\n",
       "      <td>NaN</td>\n",
       "      <td>NaN</td>\n",
       "      <td>2021-09-01</td>\n",
       "      <td>False</td>\n",
       "    </tr>\n",
       "  </tbody>\n",
       "</table>\n",
       "<p>133422 rows × 10 columns</p>\n",
       "</div>"
      ],
      "text/plain": [
       "            eid   code icd10_code event_date_format  AgeRecruit  \\\n",
       "0       1000034  XE0e7       N419        1978-01-01         NaN   \n",
       "1       1000034  XE0e7        N41        1978-01-01         NaN   \n",
       "2       1000034  XE1FC       M543        2019-01-23         NaN   \n",
       "3       1000034  XE1FC       M544        2019-01-23         NaN   \n",
       "4       1000034  XE1FC       G570        2019-01-23         NaN   \n",
       "...         ...    ...        ...               ...         ...   \n",
       "133682  1525180    NaN      death        2011-09-26        46.0   \n",
       "133683  3152046    NaN      death        2019-08-06        60.0   \n",
       "133684  2244275    NaN      death        2017-11-16        57.0   \n",
       "133685  3652978    NaN      death        2018-08-24        53.0   \n",
       "133686  2197584    NaN      death        2015-07-12        55.0   \n",
       "\n",
       "       cause of death 1 cause of death 2  dmd_code issue_date_format  \\\n",
       "0                   NaN              NaN       NaN        2021-03-21   \n",
       "1                   NaN              NaN       NaN        2021-03-21   \n",
       "2                   NaN              NaN       NaN        2021-03-21   \n",
       "3                   NaN              NaN       NaN        2021-03-21   \n",
       "4                   NaN              NaN       NaN        2021-03-21   \n",
       "...                 ...              ...       ...               ...   \n",
       "133682             C509              NaN       NaN        2021-03-21   \n",
       "133683             G409              NaN       NaN        2021-03-21   \n",
       "133684             C221              NaN       NaN        2021-01-30   \n",
       "133685              G35              NaN       NaN        2021-03-20   \n",
       "133686             G122              NaN       NaN        2021-09-01   \n",
       "\n",
       "        vaccinated  \n",
       "0            False  \n",
       "1            False  \n",
       "2            False  \n",
       "3            False  \n",
       "4            False  \n",
       "...            ...  \n",
       "133682       False  \n",
       "133683       False  \n",
       "133684       False  \n",
       "133685       False  \n",
       "133686       False  \n",
       "\n",
       "[133422 rows x 10 columns]"
      ]
     },
     "execution_count": 81,
     "metadata": {},
     "output_type": "execute_result"
    }
   ],
   "source": [
    "clinical_vac[clinical_vac['vaccinated'] == False]"
   ]
  },
  {
   "cell_type": "code",
   "execution_count": 82,
   "metadata": {},
   "outputs": [
    {
     "data": {
      "text/plain": [
       "0"
      ]
     },
     "execution_count": 82,
     "metadata": {},
     "output_type": "execute_result"
    }
   ],
   "source": [
    "clinical_vac['issue_date_format'].isna().sum()"
   ]
  },
  {
   "cell_type": "markdown",
   "metadata": {},
   "source": [
    "### add a column where it says if the event (event_date_format) was before or after the vaccination (issue_date)"
   ]
  },
  {
   "cell_type": "code",
   "execution_count": 83,
   "metadata": {},
   "outputs": [],
   "source": [
    "before_after_vaccine = []\n",
    "for i in range (len(clinical_vac)):\n",
    "    if clinical_vac['event_date_format'].iloc[i] >= clinical_vac['issue_date_format'].iloc[i]:\n",
    "        before_after_vaccine.append('after')\n",
    "    else:\n",
    "        before_after_vaccine.append('before')\n",
    "clinical_vac['before_after_vaccine'] = before_after_vaccine"
   ]
  },
  {
   "cell_type": "code",
   "execution_count": 84,
   "metadata": {},
   "outputs": [
    {
     "data": {
      "text/html": [
       "<div>\n",
       "<style scoped>\n",
       "    .dataframe tbody tr th:only-of-type {\n",
       "        vertical-align: middle;\n",
       "    }\n",
       "\n",
       "    .dataframe tbody tr th {\n",
       "        vertical-align: top;\n",
       "    }\n",
       "\n",
       "    .dataframe thead th {\n",
       "        text-align: right;\n",
       "    }\n",
       "</style>\n",
       "<table border=\"1\" class=\"dataframe\">\n",
       "  <thead>\n",
       "    <tr style=\"text-align: right;\">\n",
       "      <th></th>\n",
       "      <th>eid</th>\n",
       "      <th>code</th>\n",
       "      <th>icd10_code</th>\n",
       "      <th>event_date_format</th>\n",
       "      <th>AgeRecruit</th>\n",
       "      <th>cause of death 1</th>\n",
       "      <th>cause of death 2</th>\n",
       "      <th>dmd_code</th>\n",
       "      <th>issue_date_format</th>\n",
       "      <th>vaccinated</th>\n",
       "      <th>before_after_vaccine</th>\n",
       "    </tr>\n",
       "  </thead>\n",
       "  <tbody>\n",
       "    <tr>\n",
       "      <th>0</th>\n",
       "      <td>1000034</td>\n",
       "      <td>XE0e7</td>\n",
       "      <td>N419</td>\n",
       "      <td>1978-01-01</td>\n",
       "      <td>NaN</td>\n",
       "      <td>NaN</td>\n",
       "      <td>NaN</td>\n",
       "      <td>NaN</td>\n",
       "      <td>2021-03-21</td>\n",
       "      <td>False</td>\n",
       "      <td>before</td>\n",
       "    </tr>\n",
       "    <tr>\n",
       "      <th>1</th>\n",
       "      <td>1000034</td>\n",
       "      <td>XE0e7</td>\n",
       "      <td>N41</td>\n",
       "      <td>1978-01-01</td>\n",
       "      <td>NaN</td>\n",
       "      <td>NaN</td>\n",
       "      <td>NaN</td>\n",
       "      <td>NaN</td>\n",
       "      <td>2021-03-21</td>\n",
       "      <td>False</td>\n",
       "      <td>before</td>\n",
       "    </tr>\n",
       "    <tr>\n",
       "      <th>2</th>\n",
       "      <td>1000034</td>\n",
       "      <td>XE1FC</td>\n",
       "      <td>M543</td>\n",
       "      <td>2019-01-23</td>\n",
       "      <td>NaN</td>\n",
       "      <td>NaN</td>\n",
       "      <td>NaN</td>\n",
       "      <td>NaN</td>\n",
       "      <td>2021-03-21</td>\n",
       "      <td>False</td>\n",
       "      <td>before</td>\n",
       "    </tr>\n",
       "    <tr>\n",
       "      <th>3</th>\n",
       "      <td>1000034</td>\n",
       "      <td>XE1FC</td>\n",
       "      <td>M544</td>\n",
       "      <td>2019-01-23</td>\n",
       "      <td>NaN</td>\n",
       "      <td>NaN</td>\n",
       "      <td>NaN</td>\n",
       "      <td>NaN</td>\n",
       "      <td>2021-03-21</td>\n",
       "      <td>False</td>\n",
       "      <td>before</td>\n",
       "    </tr>\n",
       "    <tr>\n",
       "      <th>4</th>\n",
       "      <td>1000034</td>\n",
       "      <td>XE1FC</td>\n",
       "      <td>G570</td>\n",
       "      <td>2019-01-23</td>\n",
       "      <td>NaN</td>\n",
       "      <td>NaN</td>\n",
       "      <td>NaN</td>\n",
       "      <td>NaN</td>\n",
       "      <td>2021-03-21</td>\n",
       "      <td>False</td>\n",
       "      <td>before</td>\n",
       "    </tr>\n",
       "    <tr>\n",
       "      <th>...</th>\n",
       "      <td>...</td>\n",
       "      <td>...</td>\n",
       "      <td>...</td>\n",
       "      <td>...</td>\n",
       "      <td>...</td>\n",
       "      <td>...</td>\n",
       "      <td>...</td>\n",
       "      <td>...</td>\n",
       "      <td>...</td>\n",
       "      <td>...</td>\n",
       "      <td>...</td>\n",
       "    </tr>\n",
       "    <tr>\n",
       "      <th>133685</th>\n",
       "      <td>3652978</td>\n",
       "      <td>NaN</td>\n",
       "      <td>death</td>\n",
       "      <td>2018-08-24</td>\n",
       "      <td>53.0</td>\n",
       "      <td>G35</td>\n",
       "      <td>NaN</td>\n",
       "      <td>NaN</td>\n",
       "      <td>2021-03-20</td>\n",
       "      <td>False</td>\n",
       "      <td>before</td>\n",
       "    </tr>\n",
       "    <tr>\n",
       "      <th>133686</th>\n",
       "      <td>2197584</td>\n",
       "      <td>NaN</td>\n",
       "      <td>death</td>\n",
       "      <td>2015-07-12</td>\n",
       "      <td>55.0</td>\n",
       "      <td>G122</td>\n",
       "      <td>NaN</td>\n",
       "      <td>NaN</td>\n",
       "      <td>2021-09-01</td>\n",
       "      <td>False</td>\n",
       "      <td>before</td>\n",
       "    </tr>\n",
       "    <tr>\n",
       "      <th>133687</th>\n",
       "      <td>1040468</td>\n",
       "      <td>NaN</td>\n",
       "      <td>NaN</td>\n",
       "      <td>NaT</td>\n",
       "      <td>NaN</td>\n",
       "      <td>NaN</td>\n",
       "      <td>NaN</td>\n",
       "      <td>3.911491e+16</td>\n",
       "      <td>2021-01-30</td>\n",
       "      <td>True</td>\n",
       "      <td>before</td>\n",
       "    </tr>\n",
       "    <tr>\n",
       "      <th>133688</th>\n",
       "      <td>1066390</td>\n",
       "      <td>NaN</td>\n",
       "      <td>NaN</td>\n",
       "      <td>NaT</td>\n",
       "      <td>NaN</td>\n",
       "      <td>NaN</td>\n",
       "      <td>NaN</td>\n",
       "      <td>3.911491e+16</td>\n",
       "      <td>2021-01-29</td>\n",
       "      <td>True</td>\n",
       "      <td>before</td>\n",
       "    </tr>\n",
       "    <tr>\n",
       "      <th>133689</th>\n",
       "      <td>1066390</td>\n",
       "      <td>NaN</td>\n",
       "      <td>NaN</td>\n",
       "      <td>NaT</td>\n",
       "      <td>NaN</td>\n",
       "      <td>NaN</td>\n",
       "      <td>NaN</td>\n",
       "      <td>3.911491e+16</td>\n",
       "      <td>2021-03-20</td>\n",
       "      <td>True</td>\n",
       "      <td>before</td>\n",
       "    </tr>\n",
       "  </tbody>\n",
       "</table>\n",
       "<p>133690 rows × 11 columns</p>\n",
       "</div>"
      ],
      "text/plain": [
       "            eid   code icd10_code event_date_format  AgeRecruit  \\\n",
       "0       1000034  XE0e7       N419        1978-01-01         NaN   \n",
       "1       1000034  XE0e7        N41        1978-01-01         NaN   \n",
       "2       1000034  XE1FC       M543        2019-01-23         NaN   \n",
       "3       1000034  XE1FC       M544        2019-01-23         NaN   \n",
       "4       1000034  XE1FC       G570        2019-01-23         NaN   \n",
       "...         ...    ...        ...               ...         ...   \n",
       "133685  3652978    NaN      death        2018-08-24        53.0   \n",
       "133686  2197584    NaN      death        2015-07-12        55.0   \n",
       "133687  1040468    NaN        NaN               NaT         NaN   \n",
       "133688  1066390    NaN        NaN               NaT         NaN   \n",
       "133689  1066390    NaN        NaN               NaT         NaN   \n",
       "\n",
       "       cause of death 1 cause of death 2      dmd_code issue_date_format  \\\n",
       "0                   NaN              NaN           NaN        2021-03-21   \n",
       "1                   NaN              NaN           NaN        2021-03-21   \n",
       "2                   NaN              NaN           NaN        2021-03-21   \n",
       "3                   NaN              NaN           NaN        2021-03-21   \n",
       "4                   NaN              NaN           NaN        2021-03-21   \n",
       "...                 ...              ...           ...               ...   \n",
       "133685              G35              NaN           NaN        2021-03-20   \n",
       "133686             G122              NaN           NaN        2021-09-01   \n",
       "133687              NaN              NaN  3.911491e+16        2021-01-30   \n",
       "133688              NaN              NaN  3.911491e+16        2021-01-29   \n",
       "133689              NaN              NaN  3.911491e+16        2021-03-20   \n",
       "\n",
       "        vaccinated before_after_vaccine  \n",
       "0            False               before  \n",
       "1            False               before  \n",
       "2            False               before  \n",
       "3            False               before  \n",
       "4            False               before  \n",
       "...            ...                  ...  \n",
       "133685       False               before  \n",
       "133686       False               before  \n",
       "133687        True               before  \n",
       "133688        True               before  \n",
       "133689        True               before  \n",
       "\n",
       "[133690 rows x 11 columns]"
      ]
     },
     "execution_count": 84,
     "metadata": {},
     "output_type": "execute_result"
    }
   ],
   "source": [
    "clinical_vac"
   ]
  },
  {
   "cell_type": "code",
   "execution_count": 85,
   "metadata": {
    "scrolled": true
   },
   "outputs": [
    {
     "data": {
      "text/plain": [
       "before    133146\n",
       "after        544\n",
       "Name: before_after_vaccine, dtype: int64"
      ]
     },
     "execution_count": 85,
     "metadata": {},
     "output_type": "execute_result"
    }
   ],
   "source": [
    "# checking how many events before and after\n",
    "clinical_vac['before_after_vaccine'].value_counts()\n",
    "\n",
    "# if event_date_format is NaT, is says before in 'before_after_vaccine'"
   ]
  },
  {
   "cell_type": "markdown",
   "metadata": {
    "id": "rEjo9un76oVk"
   },
   "source": [
    "# Analysing clinical events"
   ]
  },
  {
   "cell_type": "markdown",
   "metadata": {
    "id": "7Bw4hTHD2Rg8"
   },
   "source": [
    "IC10 codes are structured. The following website was used for looking up the meanings of the categories (e.g. respiratory diseases):\n",
    "https://www.icd10data.com/ICD10CM/Codes"
   ]
  },
  {
   "cell_type": "code",
   "execution_count": null,
   "metadata": {
    "colab": {
     "base_uri": "https://localhost:8080/",
     "height": 826
    },
    "executionInfo": {
     "elapsed": 317,
     "status": "ok",
     "timestamp": 1635339679533,
     "user": {
      "displayName": "Monica Müller",
      "photoUrl": "https://lh3.googleusercontent.com/a/default-user=s64",
      "userId": "03925055125343928828"
     },
     "user_tz": -120
    },
    "id": "ahuA6Bm81vuv",
    "outputId": "8823e0ea-eb0d-4fd3-bc45-4de9ea0c73e3"
   },
   "outputs": [],
   "source": [
    "ic10.head()"
   ]
  },
  {
   "cell_type": "markdown",
   "metadata": {
    "id": "XM8L5a6w7JAx"
   },
   "source": [
    "the GP_ic10 has the read code which is the CTV3. \n",
    "(However, when things get nasty, there are multiple ICD10 codes per CTV3 codes and viceversa… there is a mapping status which tells you whether the code is primary, duplicated, to revision, etc)"
   ]
  },
  {
   "cell_type": "code",
   "execution_count": null,
   "metadata": {
    "colab": {
     "base_uri": "https://localhost:8080/",
     "height": 206
    },
    "executionInfo": {
     "elapsed": 273,
     "status": "ok",
     "timestamp": 1635342039638,
     "user": {
      "displayName": "Monica Müller",
      "photoUrl": "https://lh3.googleusercontent.com/a/default-user=s64",
      "userId": "03925055125343928828"
     },
     "user_tz": -120
    },
    "id": "DbwrzfVx-Osc",
    "outputId": "43a19bcd-47fd-45de-e127-2b0685fd5f1b"
   },
   "outputs": [],
   "source": [
    "# WILL PROBABLY NOT USE THIS\n",
    "\n",
    "# just to see if corresponding CTV3 to IC10 works\n",
    "\n",
    "# broadcasting for vaccinated comorbidities(CTV3) in ICD10\n",
    "#mask_vac_ic10 = GPic10['read_code'].isin(clinical_ic10[mask_vac_clin]['code']) \n",
    "#GPic10[mask_vac_ic10]\n",
    "\n",
    "# mask_vac: people that got any vaccine\n",
    "# search for patients that got the vaccine in GPic10\n",
    "# and look what clinical events they had via the read_code (e.g. XE01qn)\n"
   ]
  },
  {
   "cell_type": "markdown",
   "metadata": {
    "id": "heRqef1dIUra"
   },
   "source": [
    "if time: analyse specific diseases such as myocarditis etc."
   ]
  },
  {
   "cell_type": "code",
   "execution_count": null,
   "metadata": {},
   "outputs": [],
   "source": [
    "clinical_ic10"
   ]
  },
  {
   "cell_type": "code",
   "execution_count": null,
   "metadata": {},
   "outputs": [],
   "source": [
    "ic10.head(3)"
   ]
  },
  {
   "cell_type": "code",
   "execution_count": null,
   "metadata": {
    "colab": {
     "base_uri": "https://localhost:8080/",
     "height": 1000
    },
    "executionInfo": {
     "elapsed": 294,
     "status": "ok",
     "timestamp": 1635168978215,
     "user": {
      "displayName": "Monica Müller",
      "photoUrl": "https://lh3.googleusercontent.com/a/default-user=s64",
      "userId": "03925055125343928828"
     },
     "user_tz": -120
    },
    "id": "kPLoAylJCPmm",
    "outputId": "a6e3a4d1-8ce6-4d68-ec45-d2dfc84d7f73"
   },
   "outputs": [],
   "source": [
    "# mask for getting codes related to myocarditis\n",
    "mask_myocarditis = ic10['DESCRIPTION'].str.contains('myocarditis', case = False)\n",
    "ic10[mask_myocarditis]"
   ]
  },
  {
   "cell_type": "code",
   "execution_count": null,
   "metadata": {
    "colab": {
     "base_uri": "https://localhost:8080/",
     "height": 49
    },
    "executionInfo": {
     "elapsed": 57,
     "status": "ok",
     "timestamp": 1635168979858,
     "user": {
      "displayName": "Monica Müller",
      "photoUrl": "https://lh3.googleusercontent.com/a/default-user=s64",
      "userId": "03925055125343928828"
     },
     "user_tz": -120
    },
    "id": "hKa_DcDyImp6",
    "outputId": "62e533bb-9d71-471d-aaf6-de2f6ad3c1fe",
    "scrolled": true
   },
   "outputs": [],
   "source": [
    "# getting data with myocarditis\n",
    "\n",
    "# the alternative code 'ALT_CODE' used here, as this was used in the lookup table GPic10\n",
    "myocarditis = ic10[mask_myocarditis]['ALT_CODE']\n",
    "\n",
    "clinical_ic10[clinical_ic10['icd10_code'].isin(myocarditis)]\n",
    "# nobody had myocarditis in this restricted data"
   ]
  },
  {
   "cell_type": "code",
   "execution_count": null,
   "metadata": {
    "colab": {
     "base_uri": "https://localhost:8080/",
     "height": 488
    },
    "executionInfo": {
     "elapsed": 545,
     "status": "ok",
     "timestamp": 1635168980373,
     "user": {
      "displayName": "Monica Müller",
      "photoUrl": "https://lh3.googleusercontent.com/a/default-user=s64",
      "userId": "03925055125343928828"
     },
     "user_tz": -120
    },
    "id": "goWG5XqkTG1S",
    "outputId": "7cc992aa-c9d7-4268-dc1b-c975d24370a1"
   },
   "outputs": [],
   "source": [
    "## ishaemic heart disease\n",
    "mask_ihd = ic10['DESCRIPTION'].str.contains('ischaemic heart disease', case = False)\n",
    "ischaemicHD = ic10[mask_ihd]['ALT_CODE']\n",
    "clinical_ic10[clinical_ic10['icd10_code'].isin(ischaemicHD)]"
   ]
  },
  {
   "cell_type": "markdown",
   "metadata": {
    "id": "6vBzAZwepe65"
   },
   "source": [
    "several comorbidities"
   ]
  },
  {
   "cell_type": "code",
   "execution_count": null,
   "metadata": {
    "id": "sirLrrLvT5Ca"
   },
   "outputs": [],
   "source": [
    "# getting people with specific diseases\n",
    "\n",
    "# new column for filling with selected disease\n",
    "clinical_ic10['selected disease'] = np.nan \n",
    "\n",
    "# list of specific diseases, to be decided on\n",
    "diseases_selec = ['ischaemic heart disease', 'cardiomyopathy', 'heart failure',\\\n",
    "                  'myocarditis'] \n",
    "\n",
    "for disease in diseases_selec:\n",
    "    \n",
    "    # broadcasting for selected disease\n",
    "    mask = ic10['DESCRIPTION'].str.contains(disease, case = False) \n",
    "    # broadcasting for selected disease\n",
    "    sub_disease = clinical_ic10[clinical_ic10['icd10_code'].isin(ic10[mask]['ALT_CODE'])]\n",
    "    \n",
    "    for i in sub_disease.index:\n",
    "        # fill dataset with selected disease label\n",
    "        clinical_ic10.loc[i,'selected disease'] = disease "
   ]
  },
  {
   "cell_type": "code",
   "execution_count": null,
   "metadata": {
    "colab": {
     "base_uri": "https://localhost:8080/"
    },
    "executionInfo": {
     "elapsed": 41,
     "status": "ok",
     "timestamp": 1635168980381,
     "user": {
      "displayName": "Monica Müller",
      "photoUrl": "https://lh3.googleusercontent.com/a/default-user=s64",
      "userId": "03925055125343928828"
     },
     "user_tz": -120
    },
    "id": "mvy4mUUNW2oC",
    "outputId": "24524ffe-6fb2-4f2c-a8d9-5c186f924d73"
   },
   "outputs": [],
   "source": [
    "# counting how many people in the dataset have a specific disease\n",
    "clinical_ic10['selected disease'].value_counts()"
   ]
  },
  {
   "cell_type": "markdown",
   "metadata": {},
   "source": [
    "# 1) Effect of the vaccination on adverse events\n",
    "## a) Comparison of occurence of adverse events after vaccination of vaccinated and unvaccinated people\n",
    "## b) Same comparison in subset of subjects with underlying medical condition\n",
    "## c) Same comparison in subset of subjects with specific underlying medical condition \n",
    "* plot percentage of adverse events of subjects with & without underlying conditions\n",
    "* plot percentages for specific underlying conditions (not considering if several conditions at once, plot for each category then), for vaccinated and non-vaccinated people\n",
    "\n",
    "* (optional: just for vaccinated people: plot what types of AEs (in IC10 categories) are common."
   ]
  },
  {
   "cell_type": "markdown",
   "metadata": {},
   "source": [
    "## 1a) Comparison of occurence of adverse events after vaccination of vaccinated and unvaccinated people"
   ]
  },
  {
   "cell_type": "code",
   "execution_count": 86,
   "metadata": {},
   "outputs": [],
   "source": [
    "# initialize column & index names\n",
    "dict_vacORnot = {'Vaccinated':1, 'Not vaccinated':0} #vaccination status\n",
    "ls_AE = ['AE', 'no AE'] # adverse events"
   ]
  },
  {
   "cell_type": "markdown",
   "metadata": {},
   "source": [
    "Get number of adverse events (defined medical events w. ICD10 code after the (artificial) vaccination date)"
   ]
  },
  {
   "cell_type": "code",
   "execution_count": null,
   "metadata": {},
   "outputs": [],
   "source": [
    "def incidence(df_event, id_vac, id_nvac):\n",
    "    \"\"\"\n",
    "    Calculates the number of AEs per thousand individuals in a given population.\n",
    "    \n",
    "    Input:\n",
    "    - df_event: a dataframe containing all events considered in the analysis (e.g. AEs)\n",
    "    - id_vac: series containing ID's of each individual (with each individual listed once) within the given population. // only vaccinated?\n",
    "    - id_nvac: same as id_vac but with all non-vaccinated individuals\n",
    "    \n",
    "    \n",
    "    \"\"\"\n",
    "    \n",
    "    # initialize df for putting in the values\n",
    "    df_sum = pd.DataFrame(columns = ['Number of AEs', 'Number of individuals', 'Number of AEs per thousand individuals'], index = dict_vacORnot)\n",
    "    \n",
    "    for v in dict_vacORnot: # loop through vaccinated vs. not\n",
    "        \n",
    "        # put in the number of events (AEs) by subsetting the df_event into vaccinated/not vaccinated\n",
    "        df_sum['Number of AEs'][v] = len(df_event[df_event['vaccinated'] == dict_vacORnot[v]])\n",
    "    \n",
    "        # if we have no event (happens in the subset), add 0.5 for testing the plot and analysis further below\n",
    "        # -> still visible in the output that it was added\n",
    "        if df_sum['Number of AEs'][v]==0:\n",
    "            df_sum['Number of AEs'][v]=0.5\n",
    "    \n",
    "    # put number of vaccinated/not vaccinated people in the population into the summary df\n",
    "    df_sum['Number of individuals']['Vaccinated'] = len(id_vac) # vaccinated (row)\n",
    "    df_sum['Number of individuals']['Not vaccinated'] = len(id_nvac) # not vaccinated (row)\n",
    "    \n",
    "    # calculate AEs/individual\n",
    "    df_sum['Number of AEs per thousand individuals'] = df_sum['Number of AEs']/df_sum['Number of individuals']*1000\n",
    "    \n",
    "    return df_sum"
   ]
  },
  {
   "cell_type": "markdown",
   "metadata": {},
   "source": [
    "#### total number of adverse events (multiple per patient in some cases) vacc vs. non-vacc."
   ]
  },
  {
   "cell_type": "code",
   "execution_count": null,
   "metadata": {},
   "outputs": [],
   "source": [
    "# Make a df with only AEs (defined medical events w. ICD10 code after the (artificial) vaccination date)\n",
    "# reminder: leave R as adverse event & Q as underlying disease.\n",
    "\n",
    "# subset of clinical dataset for adverse events (=after vaccine)\n",
    "df_AEs = clinical_vac[clinical_vac['before_after_vaccine']== 'after']\n",
    "\n",
    "# remove Q (congenital diseases), which are not considered as adverse events\n",
    "df_AEs = df_AEs[~df_AEs['icd10_code'].str.startswith('Q')]"
   ]
  },
  {
   "cell_type": "code",
   "execution_count": null,
   "metadata": {},
   "outputs": [],
   "source": [
    "# remove deaths, which are not considered as adverse events\n",
    "df_AEs = df_AEs[df_AEs['icd10_code'] != 'death'] "
   ]
  },
  {
   "cell_type": "code",
   "execution_count": null,
   "metadata": {},
   "outputs": [],
   "source": [
    "# get number of people of the chosen population\n",
    "# list of all IDs from the clinical dataset\n",
    "id_clin = clinical['eid'].unique()\n",
    "\n",
    "# list of all IDs from the scripts dataset\n",
    "id_scr = scripts['eid'].unique()\n",
    "\n",
    "# concatenate both lists to get all IDs in one list\n",
    "id_all = np.concatenate((id_clin, id_scr))\n",
    "\n",
    "# leave only unique IDs in the list to get the number of IDs using len()\n",
    "id_all = np.unique(id_all)\n",
    "\n",
    "# get array with IDs without vaccine by deleting the IDs with vaccine out of the array with all IDs\n",
    "id_nvac = np.delete(id_all, np.isin(id_all,id_vac))"
   ]
  },
  {
   "cell_type": "code",
   "execution_count": null,
   "metadata": {},
   "outputs": [],
   "source": [
    "# use the function to create the summary table\n",
    "df_sum_all = incidence(df_AEs, id_vac, id_nvac)\n",
    "df_sum_all"
   ]
  },
  {
   "cell_type": "markdown",
   "metadata": {},
   "source": [
    "Plot how oftern AEs occur in vaccinated vs. not vaccinated people for all individuals in the dataset."
   ]
  },
  {
   "cell_type": "code",
   "execution_count": null,
   "metadata": {
    "scrolled": true
   },
   "outputs": [],
   "source": [
    "plt.figure(figsize = (5,5))\n",
    "plt.bar(df_sum_all.index, df_sum_all['Number of AEs per thousand individuals'])\n",
    "plt.ylabel('Number of AEs per thousand individuals')\n",
    "plt.title('Adverse events in the whole population of the dataset')"
   ]
  },
  {
   "cell_type": "markdown",
   "metadata": {},
   "source": [
    "#### contigency table and further analysis: number of eids with AE (not total AEs)"
   ]
  },
  {
   "cell_type": "markdown",
   "metadata": {},
   "source": [
    "Make contingency table (not using pd.crosstab to avoid another huge dataset with all individuals and because we need to count unique IDs)"
   ]
  },
  {
   "cell_type": "code",
   "execution_count": null,
   "metadata": {},
   "outputs": [],
   "source": [
    "def contingency(df_event, id_vac, id_nvac, columns = ls_AE, index = dict_vacORnot):\n",
    "    \"\"\"\n",
    "    Makes a 2x2 contingency table, which can be used for the chi^2 test and calculating the risk ratio.\n",
    "    \n",
    "    Input:\n",
    "    - df_event: a dataframe containing all events considered in the analysis (e.g. AEs)\n",
    "    - id_vac: series containing ID's of each individual (with each individual listed once) within the given population.\n",
    "    - id_nvac: same as id_vac but with all non-vaccinated individuals\n",
    "    \n",
    "    \"\"\"\n",
    "\n",
    "    # initialize contingency table\n",
    "    crosstab = pd.DataFrame(columns = columns, index = index)\n",
    "    \n",
    "    # fill contingency table with values in the subset\n",
    "\n",
    "    for v in dict_vacORnot: # loop throug vaccinated vs. not\n",
    "\n",
    "        \n",
    "        # with AEs\n",
    "\n",
    "        # number of nonvaccinated/vaccinated people with AEs = number of individuals with AEs\n",
    "        crosstab.loc[v,'AE'] = len(df_event[df_event['vaccinated']==dict_vacORnot[v]]['eid'].unique())\n",
    "        \n",
    "        # DELETE THIS FOR FINAL ANALYSIS\n",
    "        # if we have no event (happens in the subset), add 1 for testing the plot and analysis further below\n",
    "        # -> still visible in the output that it was added\n",
    "        if crosstab.loc[v,'AE']==0:\n",
    "            crosstab.loc[v,'AE']=1\n",
    "\n",
    "            \n",
    "        # without AEs\n",
    "\n",
    "        if v == 'vaccinated': # for vaccinated people\n",
    "\n",
    "            # total number of vaccinated individuals - those with AEs\n",
    "            crosstab.loc[v,'no AE'] = len(id_vac) - crosstab.loc[v,'AE']\n",
    "\n",
    "        else: # for not vaccinated people\n",
    "            \n",
    "            # using id_vac\n",
    "            crosstab.loc[v,'no AE'] = len(id_nvac) - crosstab.loc[v,'AE']\n",
    "            \n",
    "    \n",
    "    # adding margins to the contingency table (=total value as row and column)\n",
    "    \n",
    "    # vaccinated vs. not\n",
    "    crosstab.loc['Total',:] = np.sum(crosstab, axis = 0)\n",
    "    # event vs. no event\n",
    "    crosstab.loc[:,'Total'] = np.sum(crosstab, axis = 1)\n",
    "\n",
    "    return crosstab\n",
    "    "
   ]
  },
  {
   "cell_type": "code",
   "execution_count": null,
   "metadata": {},
   "outputs": [],
   "source": [
    "crosstab_all = contingency(df_AEs, id_vac, id_nvac)\n",
    "crosstab_all"
   ]
  },
  {
   "cell_type": "markdown",
   "metadata": {},
   "source": [
    "Chi-squared test"
   ]
  },
  {
   "cell_type": "code",
   "execution_count": null,
   "metadata": {},
   "outputs": [],
   "source": [
    "# define significance treshold\n",
    "alpha = 0.05\n",
    "\n",
    "# perform chi-squared test:\n",
    "stat_1a, p_1a, dof_1a, expected_1a = sp.stats.chi2_contingency(crosstab_all.iloc[0:2,0:2], 1)\n",
    "\n",
    "p_1a"
   ]
  },
  {
   "cell_type": "markdown",
   "metadata": {},
   "source": [
    "Calculate risk ratio (similar to Barda et al.)"
   ]
  },
  {
   "cell_type": "code",
   "execution_count": null,
   "metadata": {},
   "outputs": [],
   "source": [
    "def riskratio(crosstab, z = 1.96):\n",
    "    \"\"\"\n",
    "    Calculates the risk ratio by adding a row and a column with the total count to the contingency table.\n",
    "    \n",
    "    Returns the risk ratio with the confidence interval (CI) as a df and the adjusted contingency table:\n",
    "    (RR, crosstab)\n",
    "    \n",
    "    Important: the input (crosstab) needs to have the following format:\n",
    "    - 2x2\n",
    "    - column 0 = events (e.g. AEs), column 1 = non-events\n",
    "    - row 0 = intervention (e.g. vaccinated), column 1 = non-vaccinated\n",
    "    \"\"\"\n",
    "    \n",
    "    # calculating the risk ratio\n",
    "\n",
    "    # risk of getting AE when vaccinated\n",
    "    R_vac = crosstab.loc['Vaccinated','AE']/crosstab.loc['Vaccinated','Total']\n",
    "    # risk of getting \"AE\" when not vaccinated\n",
    "    R_nvac = crosstab.loc['Not vaccinated', 'AE']/crosstab.loc['Not vaccinated', 'Total']\n",
    "\n",
    "    # risk ratio\n",
    "    RR = R_vac / R_nvac\n",
    "    \n",
    "    # natural log of the RR     \n",
    "    logRR = np.log(RR) \n",
    "\n",
    "    # standard error\n",
    "    se = np.sqrt(crosstab.loc['Vaccinated','no AE']/ \\\n",
    "                 (crosstab.loc['Vaccinated','AE']*crosstab.loc['Vaccinated','Total']) + \\\n",
    "                crosstab.loc['Not vaccinated','no AE']/ \\\n",
    "                (crosstab.loc['Not vaccinated','AE']*crosstab.loc['Not vaccinated','Total']))\n",
    "\n",
    "    # Assuming normal distribution, 95% lie around 1.96 standard deviations of the mean.\n",
    "    # as 95% CI is common, the z-score (z) 1.96 is put as the default value.\n",
    "\n",
    "    # 1-alpha confidence interval (CI) \n",
    "    CI_lower = np.exp(np.log(RR) - se * z) # lower bound\n",
    "    CI_upper = np.exp(np.log(RR) + se * z) # upper bound    \n",
    "    \n",
    "    # put the result in a series\n",
    "    RR_result = pd.Series(data = [RR, CI_lower, CI_upper], index = ['RR', 'CI_lower', 'CI_upper'])\n",
    "    \n",
    "    return RR_result"
   ]
  },
  {
   "cell_type": "markdown",
   "metadata": {},
   "source": [
    "note: se and CI calculated as described on https://en.wikipedia.org/wiki/Relative_risk. "
   ]
  },
  {
   "cell_type": "code",
   "execution_count": null,
   "metadata": {},
   "outputs": [],
   "source": [
    "RR_all = riskratio(crosstab_all)\n",
    "RR_all"
   ]
  },
  {
   "cell_type": "markdown",
   "metadata": {},
   "source": [
    "plot the RR & CI"
   ]
  },
  {
   "cell_type": "markdown",
   "metadata": {},
   "source": [
    "## 1b) Same comparison in subset of subjects with underlying medical condition\n"
   ]
  },
  {
   "cell_type": "markdown",
   "metadata": {},
   "source": [
    "Plot incidence"
   ]
  },
  {
   "cell_type": "code",
   "execution_count": 97,
   "metadata": {
    "scrolled": true
   },
   "outputs": [
    {
     "name": "stderr",
     "output_type": "stream",
     "text": [
      "C:\\Users\\renee\\anaconda3\\lib\\site-packages\\pandas\\util\\_decorators.py:311: SettingWithCopyWarning: \n",
      "A value is trying to be set on a copy of a slice from a DataFrame\n",
      "\n",
      "See the caveats in the documentation: https://pandas.pydata.org/pandas-docs/stable/user_guide/indexing.html#returning-a-view-versus-a-copy\n",
      "  return func(*args, **kwargs)\n"
     ]
    },
    {
     "ename": "NameError",
     "evalue": "name 'df_AEs' is not defined",
     "output_type": "error",
     "traceback": [
      "\u001b[1;31m---------------------------------------------------------------------------\u001b[0m",
      "\u001b[1;31mNameError\u001b[0m                                 Traceback (most recent call last)",
      "\u001b[1;32m~\\AppData\\Local\\Temp/ipykernel_39832/3380205752.py\u001b[0m in \u001b[0;36m<module>\u001b[1;34m\u001b[0m\n\u001b[0;32m     18\u001b[0m \u001b[1;33m\u001b[0m\u001b[0m\n\u001b[0;32m     19\u001b[0m \u001b[1;31m# subset of the df with AEs with only people with an underlying disease\u001b[0m\u001b[1;33m\u001b[0m\u001b[1;33m\u001b[0m\u001b[0m\n\u001b[1;32m---> 20\u001b[1;33m \u001b[0mdf_AEs_ud\u001b[0m \u001b[1;33m=\u001b[0m \u001b[0mdf_AEs\u001b[0m\u001b[1;33m[\u001b[0m\u001b[0mdf_AEs\u001b[0m\u001b[1;33m[\u001b[0m\u001b[1;34m'eid'\u001b[0m\u001b[1;33m]\u001b[0m\u001b[1;33m.\u001b[0m\u001b[0misin\u001b[0m\u001b[1;33m(\u001b[0m\u001b[0mid_ud\u001b[0m\u001b[1;33m)\u001b[0m\u001b[1;33m]\u001b[0m\u001b[1;33m\u001b[0m\u001b[1;33m\u001b[0m\u001b[0m\n\u001b[0m\u001b[0;32m     21\u001b[0m \u001b[0mdf_AEs_ud\u001b[0m\u001b[1;33m\u001b[0m\u001b[1;33m\u001b[0m\u001b[0m\n",
      "\u001b[1;31mNameError\u001b[0m: name 'df_AEs' is not defined"
     ]
    }
   ],
   "source": [
    "# get dataset with only AEs AND people with underlying disease \n",
    "# = adverse events (events after vaccination) of people with underlying disease (= that had an event before vaccination)\n",
    "\n",
    "# subset of the df with all AEs (df_AEs) with only people with underlying diseases (df_AEs_ud)\n",
    "# reminder: leave R as adverse event (and general underlying disease) & Q as underlying disease.\n",
    "\n",
    "# subset of clinical_vac df with only medical events before\n",
    "df_ud= clinical_vac[clinical_vac['before_after_vaccine']== 'before']\n",
    "\n",
    "# drop rows without icd10_code, which correspond to vaccinated people without underlying disease\n",
    "df_ud.dropna(subset = ['icd10_code'], inplace = True)\n",
    "\n",
    "# remove R (less well defined condition), which are not considered as underlying disease\n",
    "# df_ud = df_ud[~df_ud['icd10_code'].str.startswith('R')]      # wieso uskommentiert?\n",
    "\n",
    "# get id's of people with an underlying disease\n",
    "id_ud = df_ud['eid'].unique()\n",
    "\n",
    "# subset of the df with AEs with only people with an underlying disease\n",
    "df_AEs_ud = df_AEs[df_AEs['eid'].isin(id_ud)]\n",
    "df_AEs_ud"
   ]
  },
  {
   "cell_type": "code",
   "execution_count": 100,
   "metadata": {},
   "outputs": [],
   "source": [
    "# individuals in subset with only people with underlying disease AND the vaccine\n",
    "id_ud_vac = df_ud[df_ud['vaccinated']==True]['eid'].unique()\n",
    "\n",
    "# individuals in subset with only people with underlying disease AND NOT the vaccine\n",
    "id_ud_nvac = df_ud[df_ud['vaccinated']==False]['eid'].unique()"
   ]
  },
  {
   "cell_type": "code",
   "execution_count": null,
   "metadata": {},
   "outputs": [],
   "source": [
    "df_sum_ud = incidence(df_AEs_ud, id_ud_vac, id_ud_nvac)\n",
    "df_sum_ud"
   ]
  },
  {
   "cell_type": "code",
   "execution_count": null,
   "metadata": {},
   "outputs": [],
   "source": [
    "plt.figure(figsize = (5,5))\n",
    "plt.bar(df_sum_ud.index, df_sum_ud['Number of AEs per thousand individuals'])\n",
    "plt.ylabel('Number of AEs per thousand individuals')\n",
    "plt.title('Adverse events in subjects with underlying diseases')"
   ]
  },
  {
   "cell_type": "markdown",
   "metadata": {},
   "source": [
    "Chi-squared test"
   ]
  },
  {
   "cell_type": "code",
   "execution_count": null,
   "metadata": {},
   "outputs": [],
   "source": [
    "# contingency table\n",
    "crosstab_ud = contingency(df_AEs_ud, id_ud_vac, id_ud_nvac, columns = ls_AE, index = dict_vacORnot)\n",
    "crosstab_ud"
   ]
  },
  {
   "cell_type": "code",
   "execution_count": null,
   "metadata": {},
   "outputs": [],
   "source": [
    "# define significance treshold\n",
    "alpha = 0.05\n",
    "\n",
    "# perform chi-squared test:\n",
    "stat_2b, p_2b, dof_2b, expected_2b = sp.stats.chi2_contingency(crosstab_ud.iloc[0:2,0:2], 1)\n",
    "\n",
    "p_2b"
   ]
  },
  {
   "cell_type": "markdown",
   "metadata": {},
   "source": [
    "Calculate and plot risk ratio"
   ]
  },
  {
   "cell_type": "code",
   "execution_count": null,
   "metadata": {},
   "outputs": [],
   "source": [
    "RR_ud = riskratio(crosstab_ud)\n",
    "RR_ud"
   ]
  },
  {
   "cell_type": "code",
   "execution_count": null,
   "metadata": {},
   "outputs": [],
   "source": [
    "# create a df for collecting the results of the risk ratio to compare the populations\n",
    "\n",
    "# initialize\n",
    "RR_result = pd.DataFrame(index = ['whole population', 'people with underlying diseases'], columns = ['RR', 'CI_lower', 'CI_upper'])\n",
    "\n",
    "# fill it\n",
    "# RR with data from all individuals in the scripts & clinical dataset\n",
    "RR_result.loc['whole population',:] = RR_all\n",
    "# RR with data from all individuals with underlying diseases\n",
    "RR_result.loc['people with underlying diseases',:] = RR_ud\n",
    "\n",
    "RR_result"
   ]
  },
  {
   "cell_type": "code",
   "execution_count": null,
   "metadata": {},
   "outputs": [],
   "source": [
    "# plot the difference in RR with CI\n",
    "\n",
    "# general figure configuration\n",
    "plt.figure(figsize = (6,6))\n",
    "plt.xscale(\"log\")\n",
    "plt.axvline(1, ls='--', linewidth=1, color='black')\n",
    "\n",
    "# draw the RR\n",
    "# RR results\n",
    "x = RR_result['RR'].values\n",
    "# error bar with same size in both directions\n",
    "x_error = RR_result['RR']-RR_result['CI_lower']\n",
    "# for equal spacing of the results\n",
    "y = np.arange(len(RR_result))\n",
    "\n",
    "# the plot\n",
    "plt.errorbar(x, y, xerr = x_error, marker = \"o\", markersize = 10, color = 'b', ls='none')\n",
    "\n",
    "# labelling\n",
    "plt.xlabel('Risk Ratio (log scale)')\n",
    "plt.title('Risk ratio of vaccination in people with underlying diseases or the general population') # renée: Risk ratio of vaccination on an adverse event in subjects with underlying diseases and the entire population\n",
    "# labelling with ICD10 categories\n",
    "plt.yticks(ticks = y, labels = RR_result.index) \n",
    "plt.ylim(-0.5,1.5)"
   ]
  },
  {
   "cell_type": "markdown",
   "metadata": {},
   "source": [
    "## 1c) Same comparison in subset of subjects with specific underlying medical condition "
   ]
  },
  {
   "cell_type": "code",
   "execution_count": null,
   "metadata": {},
   "outputs": [],
   "source": [
    "# copy\n",
    "\n",
    "\n",
    "# dictionary of disease categories to analyse, from https://www.icd10data.com/ICD10CM/Codes\n",
    "dict_cat = {('A','B'):'Certain infectious and parasitic diseases',\n",
    "           ('C','D0','D1','D2','D3','D4'):'Neoplasms',\n",
    "           ('D5','D6','D7','D8'):'Diseases of the blood and blood-forming organs and certain disorders involving the immune mechanism',\n",
    "           'E':'Endocrine, nutritional and metabolic diseases',\n",
    "           'F':'Mental, Behavioral and Neurodevelopmental disorders',\n",
    "           'G':'Diseases of the nervous system',\n",
    "           ('H0','H1','H2','H3','H4','H5'):'Diseases of the eye and adnexa',\n",
    "           ('H6','H7','H8', 'H9'): 'Diseases of the ear and mastoid process',\n",
    "           'I':'Diseases of the circulatory system',\n",
    "           'J':'Diseases of the respiratory system',\n",
    "           'K':'Diseases of the digestive system',\n",
    "           'L':'Diseases of the skin and subcutaneous tissue',\n",
    "           'M':'Diseases of the musculoskeletal system and connective tissue',\n",
    "           'N':'Diseases of the genitourinary system',\n",
    "           'Q':'Congenital malformations, deformations and chromosomal abnormalities'}\n",
    "\n",
    "# As mentioned by Barda et al., adjustment for multiple comparisons is not commonly done in studies regarding safety.\n",
    "alpha = 0.05\n",
    "\n",
    "# initialize \n",
    "# dataframe for collecting number of AEs per thousands with/without vaccinated people for all categories\n",
    "df_sum_cat_all = pd.DataFrame(columns = dict_vacORnot, index=dict_cat.values()) \n",
    "\n",
    "# df for saving categories & their p-values\n",
    "#df_chi2_cat = pd.DataFrame(columns = ['p-value', 'significant'], index=dict_cat.values())\n",
    "\n",
    "# df for saving the risk ratio and CIs for the plot\n",
    "RR_result_cat = pd.DataFrame(index = dict_cat.values(), columns = ['RR', 'CI_lower', 'CI_upper'])\n",
    "\n",
    "# df for saving categories and their p-value, significance, RR and CI\n",
    "df_combined = pd.DataFrame(columns = ['P-value', 'Significant', 'Risk Ratio', 'Confidence Interval'], index = dict_cat.values())\n",
    "\n",
    "\n",
    "\n",
    "for i, ic in enumerate(dict_cat): # loop over ICD10 codes of each disease category\n",
    "    \n",
    "    # get dataset with only AEs AND people with specific underlying disease\n",
    "    # subset of the df with all AEs (df_AEs) with only people with specific underlying diseases\n",
    "    # reminder: leave R as adverse event & Q as underlying disease.\n",
    "    # df_ud = subset of clinical_vac df with only diagnoses before vaccine as defined further above\n",
    "\n",
    "    # subset with only underlying diseases within the specific category\n",
    "    df_cat = df_ud[df_ud['icd10_code'].str.startswith(ic)]\n",
    "\n",
    "    # IDs with underlying disease in the specific category\n",
    "    id_cat = df_cat['eid'].unique()\n",
    "\n",
    "    # subset of the df with AEs with only people with underlying disease in the specific category\n",
    "    df_AEs_cat = df_AEs[df_AEs['eid'].isin(id_cat)]\n",
    "\n",
    "    # get IDs of individuals in this subset with vs without vaccine \n",
    "    id_cat_vac = df_cat[df_cat['vaccinated']==True]['eid'].unique() # with vaccine\n",
    "    id_cat_nvac = df_cat[df_cat['vaccinated']==False]['eid'].unique() # without vaccine\n",
    "\n",
    "    ################################################################################\n",
    "    # calculate the number of AEs per thousand people and save the result in a table\n",
    "    df_sum_cat = incidence(df_AEs_cat, id_cat_vac, id_cat_nvac)\n",
    "    \n",
    "    # put in the values from the summary incidence table\n",
    "    df_sum_cat_all.loc[dict_cat[ic],:] = df_sum_cat.loc[:, 'Number of AEs per thousand individuals']\n",
    "    \n",
    "    \n",
    "    ################################################################################    \n",
    "    # contingency table\n",
    "    crosstab_cat = contingency(df_AEs_cat, id_cat_vac, id_cat_nvac, columns = ls_AE, index = dict_vacORnot)\n",
    "    \n",
    "    ###############################################################################\n",
    "    # perform chi-squared test:\n",
    "    stat, p, dof, expected = sp.stats.chi2_contingency(crosstab_cat.iloc[0:2,0:2], 1)     ## changed crosstab_ud to crosstab_cat\n",
    "\n",
    "    # save the p-value in the df\n",
    "    df_combined.loc[dict_cat[ic],'P-value'] = p\n",
    "    \n",
    "    # mark in which categories there is a significant difference between vaccinated and not vaccinated\n",
    "    if p <= alpha/2: # divided by two because of two-sided test (number of AEs could be higher or lower in vaccinated)\n",
    "        df_combined.loc[dict_cat[ic],'Significant'] = 'Yes'\n",
    "    else:\n",
    "        df_combined.loc[dict_cat[ic],'Significant'] = 'No'\n",
    "       \n",
    "    \n",
    "    ###############################################################################\n",
    "    # risk ratio\n",
    "    RR_cat = riskratio(crosstab_cat)\n",
    "\n",
    "    # fill the df with the RR results for the plot\n",
    "    RR_result_cat.loc[dict_cat[ic],:] = RR_cat\n",
    "    \n",
    "    CI_rounded = (round(RR_cat[1], 2), round(RR_cat[2], 2)) # round to one more decimal place than the original data has\n",
    "    \n",
    "    # newww fill df with RR\n",
    "    df_combined.loc[dict_cat[ic], ['Risk Ratio', 'Confidence Interval']] = round(RR_cat[0],2) , CI_rounded\n",
    "    \n",
    "    \n",
    "    \n",
    "\n",
    "df_sum_cat_all.sort_values(by = 'Vaccinated', ascending = False, inplace = True) # sorting\n",
    "df_sum_cat_all\n",
    "\n"
   ]
  },
  {
   "cell_type": "code",
   "execution_count": null,
   "metadata": {},
   "outputs": [],
   "source": [
    "# df with p-value, significance, RR and CI\n",
    "df_combined"
   ]
  },
  {
   "cell_type": "markdown",
   "metadata": {},
   "source": [
    "Incidence"
   ]
  },
  {
   "cell_type": "code",
   "execution_count": null,
   "metadata": {},
   "outputs": [],
   "source": [
    "plt.figure(figsize = (8,8))\n",
    "\n",
    "# plot results for vaccinated and not on top of each other\n",
    "for v in dict_vacORnot:\n",
    "    plt.barh(df_sum_cat_all.index, df_sum_cat_all[v], alpha = 0.5, label = v)\n",
    "\n",
    "# labelling\n",
    "plt.title('Adverse events in people with diseases in specific ICD10 categories')\n",
    "plt.xlabel('Number of AEs per thousand individuals')\n",
    "plt.legend(loc = \"upper right\")\n"
   ]
  },
  {
   "cell_type": "code",
   "execution_count": null,
   "metadata": {},
   "outputs": [],
   "source": [
    "# plot the RR with CI\n",
    "\n",
    "# general figure configuration\n",
    "plt.figure(figsize = (6,6))\n",
    "plt.xscale(\"log\")\n",
    "plt.axvline(1, ls='--', linewidth=1, color='black')\n",
    "\n",
    "# draw the RR\n",
    "# RR results\n",
    "x = RR_result_cat['RR'].values\n",
    "# error bar with same size in both directions\n",
    "x_error = RR_result_cat['RR']-RR_result_cat['CI_lower']\n",
    "# for equal spacing of the results\n",
    "y = np.arange(len(RR_result_cat))\n",
    "\n",
    "# the plot\n",
    "plt.errorbar(x, y, xerr = x_error, marker = \"o\", markersize = 10, color = 'b', ls='none')\n",
    "\n",
    "# labelling\n",
    "plt.xlabel('Risk Ratio (log scale)')\n",
    "plt.title('Risk ratio of vaccination in people with underlying diseases in different ICD10 categories')\n",
    "# labelling with ICD10 categories\n",
    "plt.yticks(ticks = y, labels = RR_result_cat.index) "
   ]
  },
  {
   "cell_type": "markdown",
   "metadata": {},
   "source": [
    "# 2) Effect of the vaccination on mortality\n",
    "## a) Comparison of mortality rate after vaccination of vaccinated and unvaccinated people\n",
    "## b) Same comparison in subset of subjects with underlying medical condition\n",
    "## c) Same comparison in subset of subjects with specific underlying medical condition \n",
    "* plot percentage of mortality of subjects with & without underlying conditions\n",
    "* plot percentages for specific underlying conditions (not considering if several conditions at once, plot for each category then), for vaccinated and non-vaccinated people\n"
   ]
  },
  {
   "cell_type": "code",
   "execution_count": 87,
   "metadata": {},
   "outputs": [],
   "source": [
    "# for c) specific underlying diseases\n",
    "# df_event = deaths after vaccination in subjects with specific underlying diseases (before vaccine)\n",
    "# id_vac = vaccinated subjects with specific underlying diseases\n",
    "# id_nvac = unvaccinated subjects with specific underlying diseases\n",
    "\n",
    "def incidence_deaths(df_event, id_vac, id_nvac):\n",
    "    \"\"\"\n",
    "    Calculates the number of deaths per thousand individuals in a given population.\n",
    "    \n",
    "    Input:\n",
    "    - df_event: a dataframe containing all events considered in the analysis (e.g. AEs)\n",
    "    - id_vac: series containing vaccinated eids of the vaccinated subject of the given population\n",
    "    - id_nvac: series containing non-vaccinated eids of the vaccinated subject of the given population\n",
    "    \n",
    "    \n",
    "    \"\"\"\n",
    "    \n",
    "    # initialize df for putting in the values\n",
    "    df_sum = pd.DataFrame(columns = ['Number of deaths', 'Number of individuals', 'Number of deaths per thousand individuals'], index = dict_vacORnot)\n",
    "    \n",
    "    for v in dict_vacORnot: # loop through vaccinated vs. not\n",
    "        \n",
    "        # put in the number of events (AEs) by subsetting the df_event into vaccinated/not vaccinated\n",
    "        df_sum['Number of deaths'][v] = len(df_event[df_event['vaccinated'] == dict_vacORnot[v]])\n",
    "    \n",
    "        # if we have no event (happens in the subset), add 0.5 for testing the plot and analysis further below\n",
    "        # -> still visible in the output that it was added\n",
    "        if df_sum['Number of deaths'][v]==0:\n",
    "            df_sum['Number of deaths'][v]=0.5\n",
    "    \n",
    "    # put number of vaccinated/not vaccinated people in the population into the summary df\n",
    "    df_sum['Number of individuals']['Vaccinated'] = len(id_vac) # vaccinated (row)\n",
    "    df_sum['Number of individuals']['Not vaccinated'] = len(id_nvac) # not vaccinated (row)\n",
    "    \n",
    "    # calculate AEs/individual\n",
    "    df_sum['Number of deaths per thousand individuals'] = df_sum['Number of deaths']/df_sum['Number of individuals']*1000\n",
    "    \n",
    "    return df_sum"
   ]
  },
  {
   "cell_type": "markdown",
   "metadata": {},
   "source": [
    "## 2a) Comparison of mortality rate after vaccination of vaccinated and unvaccinated people"
   ]
  },
  {
   "cell_type": "markdown",
   "metadata": {},
   "source": [
    "Make contingency table (not using pd.crosstab to avoid another huge dataset with all individuals and because we need to count unique IDs)"
   ]
  },
  {
   "cell_type": "code",
   "execution_count": 88,
   "metadata": {},
   "outputs": [],
   "source": [
    "# subset of clinical_vac dataset for adverse events (=after vaccine)\n",
    "df_deaths = clinical_vac[clinical_vac['before_after_vaccine']== 'after']\n",
    "\n",
    "# make dataframe with only deaths \n",
    "df_deaths = df_deaths[df_deaths['icd10_code'] == 'death'] "
   ]
  },
  {
   "cell_type": "code",
   "execution_count": 89,
   "metadata": {},
   "outputs": [],
   "source": [
    "# initialize column & index names\n",
    "ls_death = ['Deaths', 'No deaths'] # deaths"
   ]
  },
  {
   "cell_type": "code",
   "execution_count": 90,
   "metadata": {},
   "outputs": [],
   "source": [
    "def contingency_deaths(df_event, id_vac, id_nvac, columns = ls_death, index = dict_vacORnot):\n",
    "    \"\"\"\n",
    "    Makes a 2x2 contingency table, which can be used for the chi^2 test and calculating the risk ratio.\n",
    "    \n",
    "    Input:\n",
    "    - df_event: a dataframe containing all events considered in the analysis (e.g. AEs)\n",
    "    - id_vac: series, containing ID's of each individual (with each individual listed once) within the given population.\n",
    "    - id_nvac: same as id_vac but with all non-vaccinated individuals\n",
    "    \n",
    "    \"\"\"\n",
    "\n",
    "    # initialize contingency table\n",
    "    crosstab_deaths = pd.DataFrame(columns = columns, index = index)\n",
    "    \n",
    "    # fill contingency table with values in the subset\n",
    "\n",
    "    for v in dict_vacORnot: # loop through vaccinated vs. not\n",
    "\n",
    "        \n",
    "        # with deaths\n",
    "\n",
    "        # number of nonvaccinated/vaccinated people with deaths = number of individuals with deaths\n",
    "        crosstab_deaths.loc[v,'Deaths'] = len(df_event[df_event['vaccinated']==dict_vacORnot[v]]['eid'].unique())\n",
    "        \n",
    "        # DELETE THIS FOR FINAL ANALYSIS\n",
    "        # if we have no event (happens in the subset), add 1 for testing the plot and analysis further below\n",
    "        # -> still visible in the output that it was added\n",
    "        if crosstab_deaths.loc[v,'Deaths']==0:\n",
    "            crosstab_deaths.loc[v,'Deaths']=1\n",
    "\n",
    "            \n",
    "        # without deaths\n",
    "\n",
    "        if v == 'vaccinated': # for vaccinated people\n",
    "\n",
    "            # total number of vaccinated individuals - those with deaths\n",
    "            crosstab_deaths.loc[v,'No deaths'] = len(id_vac) - crosstab_deaths.loc[v,'Deaths']\n",
    "\n",
    "        else: # for not vaccinated people\n",
    "            \n",
    "            # total number of unvaccinated individuals - those with deaths\n",
    "            crosstab_deaths.loc[v,'No deaths'] = len(id_nvac) - crosstab_deaths.loc[v,'Deaths']\n",
    "            \n",
    "    \n",
    "    # adding margins to the contingency table (=total value as row and column)\n",
    "    \n",
    "    # vaccinated vs. not\n",
    "    crosstab_deaths.loc['Total',:] = np.sum(crosstab_deaths, axis = 0)\n",
    "    # event vs. no event\n",
    "    crosstab_deaths.loc[:,'Total'] = np.sum(crosstab_deaths, axis = 1)\n",
    "\n",
    "    return crosstab_deaths\n",
    "    "
   ]
  },
  {
   "cell_type": "code",
   "execution_count": 91,
   "metadata": {},
   "outputs": [
    {
     "data": {
      "text/html": [
       "<div>\n",
       "<style scoped>\n",
       "    .dataframe tbody tr th:only-of-type {\n",
       "        vertical-align: middle;\n",
       "    }\n",
       "\n",
       "    .dataframe tbody tr th {\n",
       "        vertical-align: top;\n",
       "    }\n",
       "\n",
       "    .dataframe thead th {\n",
       "        text-align: right;\n",
       "    }\n",
       "</style>\n",
       "<table border=\"1\" class=\"dataframe\">\n",
       "  <thead>\n",
       "    <tr style=\"text-align: right;\">\n",
       "      <th></th>\n",
       "      <th>Deaths</th>\n",
       "      <th>No deaths</th>\n",
       "      <th>Total</th>\n",
       "    </tr>\n",
       "  </thead>\n",
       "  <tbody>\n",
       "    <tr>\n",
       "      <th>Vaccinated</th>\n",
       "      <td>1</td>\n",
       "      <td>1894</td>\n",
       "      <td>1895.0</td>\n",
       "    </tr>\n",
       "    <tr>\n",
       "      <th>Not vaccinated</th>\n",
       "      <td>6</td>\n",
       "      <td>1889</td>\n",
       "      <td>1895.0</td>\n",
       "    </tr>\n",
       "    <tr>\n",
       "      <th>Total</th>\n",
       "      <td>7</td>\n",
       "      <td>3783</td>\n",
       "      <td>3790.0</td>\n",
       "    </tr>\n",
       "  </tbody>\n",
       "</table>\n",
       "</div>"
      ],
      "text/plain": [
       "               Deaths No deaths   Total\n",
       "Vaccinated          1      1894  1895.0\n",
       "Not vaccinated      6      1889  1895.0\n",
       "Total               7      3783  3790.0"
      ]
     },
     "execution_count": 91,
     "metadata": {},
     "output_type": "execute_result"
    }
   ],
   "source": [
    "crosstab_all_deaths = contingency_deaths(df_deaths, id_vac, id_nvac)\n",
    "crosstab_all_deaths"
   ]
  },
  {
   "cell_type": "markdown",
   "metadata": {},
   "source": [
    "Chi-squared test"
   ]
  },
  {
   "cell_type": "code",
   "execution_count": 92,
   "metadata": {},
   "outputs": [
    {
     "data": {
      "text/plain": [
       "0.13021464352970188"
      ]
     },
     "execution_count": 92,
     "metadata": {},
     "output_type": "execute_result"
    }
   ],
   "source": [
    "# perform chi-squared test and name variavles differently for each test\n",
    "# e.g. 1a, 1b, etc.\n",
    "stat_2a, p_2a, dof_2a, expected_2a = sp.stats.chi2_contingency(crosstab_all_deaths.iloc[0:2,0:2], 1)\n",
    "\n",
    "p_2a"
   ]
  },
  {
   "cell_type": "markdown",
   "metadata": {},
   "source": [
    "Calculate risk ratio (similar to Barda et al.)"
   ]
  },
  {
   "cell_type": "code",
   "execution_count": 93,
   "metadata": {},
   "outputs": [],
   "source": [
    "def riskratio_deaths(crosstab, z = 1.96):\n",
    "    \"\"\"\n",
    "    Calculates the risk ratio by adding a row and a column with the total count to the contingency table.\n",
    "    \n",
    "    Returns the risk ratio with the confidence interval (CI) as a df and the adjusted contingency table:\n",
    "    (RR, crosstab)\n",
    "    \n",
    "    Important: the input (crosstab) needs to have the following format:\n",
    "    - 2x2\n",
    "    - column 0 = events (e.g. AEs), column 1 = non-events\n",
    "    - row 0 = intervention (e.g. vaccinated), column 1 = non-vaccinated\n",
    "    \"\"\"\n",
    "    \n",
    "    # calculating the risk ratio\n",
    "\n",
    "    # risk of getting AE when vaccinated\n",
    "    R_vac = crosstab.loc['Vaccinated','Deaths']/crosstab.loc['Vaccinated','Total']\n",
    "    # risk of getting \"AE\" when not vaccinated\n",
    "    R_nvac = crosstab.loc['Not vaccinated', 'Deaths']/crosstab.loc['Not vaccinated', 'Total']\n",
    "\n",
    "    # risk ratio\n",
    "    RR = R_vac / R_nvac\n",
    "    \n",
    "    # natural log of the RR     \n",
    "    logRR = np.log(RR) \n",
    "\n",
    "    # standard error\n",
    "    se = np.sqrt(crosstab.loc['Vaccinated','No deaths']/ \\\n",
    "                 (crosstab.loc['Vaccinated','Deaths']*crosstab.loc['Vaccinated','Total']) + \\\n",
    "                crosstab.loc['Not vaccinated','No deaths']/ \\\n",
    "                (crosstab.loc['Not vaccinated','Deaths']*crosstab.loc['Not vaccinated','Total']))\n",
    "\n",
    "    # Assuming normal distribution, 95% lie around 1.96 standard deviations of the mean.\n",
    "    # as 95% CI is common, the z-score (z) 1.96 is put as the default value.\n",
    "\n",
    "    # 1-alpha confidence interval (CI) \n",
    "    CI_lower = np.exp(np.log(RR) - se * z) # lower bound\n",
    "    CI_upper = np.exp(np.log(RR) + se * z) # upper bound    \n",
    "    \n",
    "    # put the result in a series\n",
    "    RR_result_deaths = pd.Series(data = [RR, CI_lower, CI_upper], index = ['RR', 'CI_lower', 'CI_upper'])\n",
    "    \n",
    "    return RR_result_deaths"
   ]
  },
  {
   "cell_type": "markdown",
   "metadata": {},
   "source": [
    "note: se and CI calculated as described on https://en.wikipedia.org/wiki/Relative_risk. "
   ]
  },
  {
   "cell_type": "code",
   "execution_count": 94,
   "metadata": {},
   "outputs": [
    {
     "data": {
      "text/plain": [
       "RR          0.166667\n",
       "CI_lower    0.020084\n",
       "CI_upper    1.383096\n",
       "dtype: float64"
      ]
     },
     "execution_count": 94,
     "metadata": {},
     "output_type": "execute_result"
    }
   ],
   "source": [
    "RR_all_deaths = riskratio_deaths(crosstab_all_deaths)\n",
    "RR_all_deaths"
   ]
  },
  {
   "cell_type": "markdown",
   "metadata": {},
   "source": [
    "## 2b) Same comparison in subset of subjects with underlying medical condition"
   ]
  },
  {
   "cell_type": "code",
   "execution_count": 98,
   "metadata": {},
   "outputs": [
    {
     "data": {
      "text/html": [
       "<div>\n",
       "<style scoped>\n",
       "    .dataframe tbody tr th:only-of-type {\n",
       "        vertical-align: middle;\n",
       "    }\n",
       "\n",
       "    .dataframe tbody tr th {\n",
       "        vertical-align: top;\n",
       "    }\n",
       "\n",
       "    .dataframe thead th {\n",
       "        text-align: right;\n",
       "    }\n",
       "</style>\n",
       "<table border=\"1\" class=\"dataframe\">\n",
       "  <thead>\n",
       "    <tr style=\"text-align: right;\">\n",
       "      <th></th>\n",
       "      <th>eid</th>\n",
       "      <th>code</th>\n",
       "      <th>icd10_code</th>\n",
       "      <th>event_date_format</th>\n",
       "      <th>AgeRecruit</th>\n",
       "      <th>cause of death 1</th>\n",
       "      <th>cause of death 2</th>\n",
       "      <th>dmd_code</th>\n",
       "      <th>issue_date_format</th>\n",
       "      <th>vaccinated</th>\n",
       "      <th>before_after_vaccine</th>\n",
       "    </tr>\n",
       "  </thead>\n",
       "  <tbody>\n",
       "  </tbody>\n",
       "</table>\n",
       "</div>"
      ],
      "text/plain": [
       "Empty DataFrame\n",
       "Columns: [eid, code, icd10_code, event_date_format, AgeRecruit, cause of death 1, cause of death 2, dmd_code, issue_date_format, vaccinated, before_after_vaccine]\n",
       "Index: []"
      ]
     },
     "execution_count": 98,
     "metadata": {},
     "output_type": "execute_result"
    }
   ],
   "source": [
    "# subset of the df with deaths with only people with an underlying disease - non in this dataset\n",
    "df_deaths_ud = df_deaths[df_deaths['eid'].isin(id_ud)]\n",
    "df_deaths_ud"
   ]
  },
  {
   "cell_type": "code",
   "execution_count": 101,
   "metadata": {},
   "outputs": [
    {
     "data": {
      "text/html": [
       "<div>\n",
       "<style scoped>\n",
       "    .dataframe tbody tr th:only-of-type {\n",
       "        vertical-align: middle;\n",
       "    }\n",
       "\n",
       "    .dataframe tbody tr th {\n",
       "        vertical-align: top;\n",
       "    }\n",
       "\n",
       "    .dataframe thead th {\n",
       "        text-align: right;\n",
       "    }\n",
       "</style>\n",
       "<table border=\"1\" class=\"dataframe\">\n",
       "  <thead>\n",
       "    <tr style=\"text-align: right;\">\n",
       "      <th></th>\n",
       "      <th>Number of deaths</th>\n",
       "      <th>Number of individuals</th>\n",
       "      <th>Number of deaths per thousand individuals</th>\n",
       "    </tr>\n",
       "  </thead>\n",
       "  <tbody>\n",
       "    <tr>\n",
       "      <th>Vaccinated</th>\n",
       "      <td>0.5</td>\n",
       "      <td>3</td>\n",
       "      <td>166.666667</td>\n",
       "    </tr>\n",
       "    <tr>\n",
       "      <th>Not vaccinated</th>\n",
       "      <td>0.5</td>\n",
       "      <td>1889</td>\n",
       "      <td>0.26469</td>\n",
       "    </tr>\n",
       "  </tbody>\n",
       "</table>\n",
       "</div>"
      ],
      "text/plain": [
       "               Number of deaths Number of individuals  \\\n",
       "Vaccinated                  0.5                     3   \n",
       "Not vaccinated              0.5                  1889   \n",
       "\n",
       "               Number of deaths per thousand individuals  \n",
       "Vaccinated                                    166.666667  \n",
       "Not vaccinated                                   0.26469  "
      ]
     },
     "execution_count": 101,
     "metadata": {},
     "output_type": "execute_result"
    }
   ],
   "source": [
    "# also here is total number of deaths not needed, as it is the same as later seen in the crosstable.\n",
    "df_sum_ud = incidence_deaths(df_deaths_ud, id_ud_vac, id_ud_nvac)\n",
    "df_sum_ud"
   ]
  },
  {
   "cell_type": "code",
   "execution_count": 102,
   "metadata": {},
   "outputs": [
    {
     "data": {
      "text/plain": [
       "Text(0.5, 1.0, 'Deaths in people with underlying diseases')"
      ]
     },
     "execution_count": 102,
     "metadata": {},
     "output_type": "execute_result"
    },
    {
     "data": {
      "image/png": "[encoded data removed]",
      "text/plain": [
       "<Figure size 360x360 with 1 Axes>"
      ]
     },
     "metadata": {
      "needs_background": "light"
     },
     "output_type": "display_data"
    }
   ],
   "source": [
    "# delete?\n",
    "plt.figure(figsize = (5,5))\n",
    "plt.bar(df_sum_ud.index, df_sum_ud['Number of deaths per thousand individuals'])\n",
    "plt.ylabel('Number of deaths per thousand individuals')\n",
    "plt.title('Deaths in people with underlying diseases')"
   ]
  },
  {
   "cell_type": "markdown",
   "metadata": {},
   "source": [
    "Chi-squared test"
   ]
  },
  {
   "cell_type": "code",
   "execution_count": 103,
   "metadata": {},
   "outputs": [
    {
     "data": {
      "text/html": [
       "<div>\n",
       "<style scoped>\n",
       "    .dataframe tbody tr th:only-of-type {\n",
       "        vertical-align: middle;\n",
       "    }\n",
       "\n",
       "    .dataframe tbody tr th {\n",
       "        vertical-align: top;\n",
       "    }\n",
       "\n",
       "    .dataframe thead th {\n",
       "        text-align: right;\n",
       "    }\n",
       "</style>\n",
       "<table border=\"1\" class=\"dataframe\">\n",
       "  <thead>\n",
       "    <tr style=\"text-align: right;\">\n",
       "      <th></th>\n",
       "      <th>Deaths</th>\n",
       "      <th>No deaths</th>\n",
       "      <th>Total</th>\n",
       "    </tr>\n",
       "  </thead>\n",
       "  <tbody>\n",
       "    <tr>\n",
       "      <th>Vaccinated</th>\n",
       "      <td>1</td>\n",
       "      <td>1888</td>\n",
       "      <td>1889.0</td>\n",
       "    </tr>\n",
       "    <tr>\n",
       "      <th>Not vaccinated</th>\n",
       "      <td>1</td>\n",
       "      <td>1888</td>\n",
       "      <td>1889.0</td>\n",
       "    </tr>\n",
       "    <tr>\n",
       "      <th>Total</th>\n",
       "      <td>2</td>\n",
       "      <td>3776</td>\n",
       "      <td>3778.0</td>\n",
       "    </tr>\n",
       "  </tbody>\n",
       "</table>\n",
       "</div>"
      ],
      "text/plain": [
       "               Deaths No deaths   Total\n",
       "Vaccinated          1      1888  1889.0\n",
       "Not vaccinated      1      1888  1889.0\n",
       "Total               2      3776  3778.0"
      ]
     },
     "execution_count": 103,
     "metadata": {},
     "output_type": "execute_result"
    }
   ],
   "source": [
    "# contingency table\n",
    "crosstab_ud_deaths = contingency_deaths(df_deaths_ud, id_ud_vac, id_ud_nvac, columns = ls_death, index = dict_vacORnot)\n",
    "crosstab_ud_deaths"
   ]
  },
  {
   "cell_type": "code",
   "execution_count": 104,
   "metadata": {},
   "outputs": [
    {
     "data": {
      "text/plain": [
       "1.0"
      ]
     },
     "execution_count": 104,
     "metadata": {},
     "output_type": "execute_result"
    }
   ],
   "source": [
    "# perform chi-squared test:\n",
    "stat_2b, p_2b, dof_2b, expected_2b = sp.stats.chi2_contingency(crosstab_ud_deaths.iloc[0:2,0:2], 1)\n",
    "\n",
    "p_2b"
   ]
  },
  {
   "cell_type": "markdown",
   "metadata": {},
   "source": [
    "Calculate and plot risk ratio"
   ]
  },
  {
   "cell_type": "code",
   "execution_count": 105,
   "metadata": {},
   "outputs": [
    {
     "data": {
      "text/plain": [
       "RR           1.000000\n",
       "CI_lower     0.062592\n",
       "CI_upper    15.976594\n",
       "dtype: float64"
      ]
     },
     "execution_count": 105,
     "metadata": {},
     "output_type": "execute_result"
    }
   ],
   "source": [
    "RR_ud_deaths = riskratio_deaths(crosstab_ud_deaths)\n",
    "RR_ud_deaths"
   ]
  },
  {
   "cell_type": "code",
   "execution_count": 106,
   "metadata": {},
   "outputs": [
    {
     "data": {
      "text/html": [
       "<div>\n",
       "<style scoped>\n",
       "    .dataframe tbody tr th:only-of-type {\n",
       "        vertical-align: middle;\n",
       "    }\n",
       "\n",
       "    .dataframe tbody tr th {\n",
       "        vertical-align: top;\n",
       "    }\n",
       "\n",
       "    .dataframe thead th {\n",
       "        text-align: right;\n",
       "    }\n",
       "</style>\n",
       "<table border=\"1\" class=\"dataframe\">\n",
       "  <thead>\n",
       "    <tr style=\"text-align: right;\">\n",
       "      <th></th>\n",
       "      <th>RR</th>\n",
       "      <th>CI_lower</th>\n",
       "      <th>CI_upper</th>\n",
       "    </tr>\n",
       "  </thead>\n",
       "  <tbody>\n",
       "    <tr>\n",
       "      <th>Whole population</th>\n",
       "      <td>0.166667</td>\n",
       "      <td>0.020084</td>\n",
       "      <td>1.383096</td>\n",
       "    </tr>\n",
       "    <tr>\n",
       "      <th>People with underlying diseases</th>\n",
       "      <td>1.0</td>\n",
       "      <td>0.062592</td>\n",
       "      <td>15.976594</td>\n",
       "    </tr>\n",
       "  </tbody>\n",
       "</table>\n",
       "</div>"
      ],
      "text/plain": [
       "                                       RR  CI_lower   CI_upper\n",
       "Whole population                 0.166667  0.020084   1.383096\n",
       "People with underlying diseases       1.0  0.062592  15.976594"
      ]
     },
     "execution_count": 106,
     "metadata": {},
     "output_type": "execute_result"
    }
   ],
   "source": [
    "# create a df for collecting the results of the risk ratio to compare the populations\n",
    "\n",
    "# initialize\n",
    "RR_result_deaths = pd.DataFrame(index = ['Whole population', 'People with underlying diseases'], columns = ['RR', 'CI_lower', 'CI_upper'])\n",
    "\n",
    "# fill it\n",
    "# RR with data from all individuals in the scripts & clinical dataset\n",
    "RR_result_deaths.loc['Whole population',:] = RR_all_deaths\n",
    "# RR with data from all individuals with underlying diseases\n",
    "RR_result_deaths.loc['People with underlying diseases',:] = RR_ud_deaths\n",
    "\n",
    "RR_result_deaths"
   ]
  },
  {
   "cell_type": "code",
   "execution_count": 107,
   "metadata": {
    "scrolled": false
   },
   "outputs": [
    {
     "data": {
      "text/plain": [
       "(-0.5, 1.5)"
      ]
     },
     "execution_count": 107,
     "metadata": {},
     "output_type": "execute_result"
    },
    {
     "data": {
      "image/png": "[encoded data removed]",
      "text/plain": [
       "<Figure size 432x432 with 1 Axes>"
      ]
     },
     "metadata": {
      "needs_background": "light"
     },
     "output_type": "display_data"
    }
   ],
   "source": [
    "# plot the difference in RR with CI\n",
    "\n",
    "# general figure configuration\n",
    "plt.figure(figsize = (6,6))\n",
    "plt.xscale(\"log\")\n",
    "plt.axvline(1, ls='--', linewidth=1, color='black')\n",
    "\n",
    "# draw the RR\n",
    "# RR results\n",
    "x = RR_result_deaths['RR'].values\n",
    "# error bar with same size in both directions\n",
    "x_error = RR_result_deaths['RR']-RR_result_deaths['CI_lower']\n",
    "# for equal spacing of the results\n",
    "y = np.arange(len(RR_result_deaths))\n",
    "\n",
    "# the plot\n",
    "plt.errorbar(x, y, xerr = x_error, marker = \"o\", markersize = 10, color = 'b', ls='none')\n",
    "\n",
    "# labelling\n",
    "plt.xlabel('Risk Ratio (log scale)')\n",
    "plt.title('Risk ratio of vaccination on death in subjects with underlying diseases or the general population') \n",
    "# labelling with ICD10 categories\n",
    "plt.yticks(ticks = y, labels = RR_result_deaths.index) \n",
    "plt.ylim(-0.5,1.5)"
   ]
  },
  {
   "cell_type": "markdown",
   "metadata": {},
   "source": [
    "## 2c) Same comparison in subset of subjects with specific underlying medical condition "
   ]
  },
  {
   "cell_type": "code",
   "execution_count": 113,
   "metadata": {
    "scrolled": true
   },
   "outputs": [
    {
     "name": "stderr",
     "output_type": "stream",
     "text": [
      "C:\\Users\\renee\\anaconda3\\lib\\site-packages\\numpy\\core\\_asarray.py:102: VisibleDeprecationWarning: Creating an ndarray from ragged nested sequences (which is a list-or-tuple of lists-or-tuples-or ndarrays with different lengths or shapes) is deprecated. If you meant to do this, you must specify 'dtype=object' when creating the ndarray.\n",
      "  return array(a, dtype, copy=False, order=order)\n"
     ]
    },
    {
     "data": {
      "text/html": [
       "<div>\n",
       "<style scoped>\n",
       "    .dataframe tbody tr th:only-of-type {\n",
       "        vertical-align: middle;\n",
       "    }\n",
       "\n",
       "    .dataframe tbody tr th {\n",
       "        vertical-align: top;\n",
       "    }\n",
       "\n",
       "    .dataframe thead th {\n",
       "        text-align: right;\n",
       "    }\n",
       "</style>\n",
       "<table border=\"1\" class=\"dataframe\">\n",
       "  <thead>\n",
       "    <tr style=\"text-align: right;\">\n",
       "      <th></th>\n",
       "      <th>Vaccinated</th>\n",
       "      <th>Not vaccinated</th>\n",
       "    </tr>\n",
       "  </thead>\n",
       "  <tbody>\n",
       "    <tr>\n",
       "      <th>Neoplasms</th>\n",
       "      <td>500.0</td>\n",
       "      <td>0.956023</td>\n",
       "    </tr>\n",
       "    <tr>\n",
       "      <th>Diseases of the blood and blood-forming organs and certain disorders involving the immune mechanism</th>\n",
       "      <td>500.0</td>\n",
       "      <td>1.724138</td>\n",
       "    </tr>\n",
       "    <tr>\n",
       "      <th>Endocrine, nutritional and metabolic diseases</th>\n",
       "      <td>500.0</td>\n",
       "      <td>0.712251</td>\n",
       "    </tr>\n",
       "    <tr>\n",
       "      <th>Congenital malformations, deformations and chromosomal abnormalities</th>\n",
       "      <td>500.0</td>\n",
       "      <td>0.938086</td>\n",
       "    </tr>\n",
       "    <tr>\n",
       "      <th>Mental, Behavioral and Neurodevelopmental disorders</th>\n",
       "      <td>250.0</td>\n",
       "      <td>0.508647</td>\n",
       "    </tr>\n",
       "    <tr>\n",
       "      <th>Diseases of the nervous system</th>\n",
       "      <td>250.0</td>\n",
       "      <td>0.688705</td>\n",
       "    </tr>\n",
       "    <tr>\n",
       "      <th>Diseases of the eye and adnexa</th>\n",
       "      <td>250.0</td>\n",
       "      <td>0.706215</td>\n",
       "    </tr>\n",
       "    <tr>\n",
       "      <th>Diseases of the ear and mastoid process</th>\n",
       "      <td>250.0</td>\n",
       "      <td>0.738552</td>\n",
       "    </tr>\n",
       "    <tr>\n",
       "      <th>Diseases of the circulatory system</th>\n",
       "      <td>250.0</td>\n",
       "      <td>0.604595</td>\n",
       "    </tr>\n",
       "    <tr>\n",
       "      <th>Diseases of the skin and subcutaneous tissue</th>\n",
       "      <td>250.0</td>\n",
       "      <td>0.541126</td>\n",
       "    </tr>\n",
       "    <tr>\n",
       "      <th>Diseases of the genitourinary system</th>\n",
       "      <td>250.0</td>\n",
       "      <td>0.54407</td>\n",
       "    </tr>\n",
       "    <tr>\n",
       "      <th>Certain infectious and parasitic diseases</th>\n",
       "      <td>166.666667</td>\n",
       "      <td>0.502513</td>\n",
       "    </tr>\n",
       "    <tr>\n",
       "      <th>Diseases of the respiratory system</th>\n",
       "      <td>166.666667</td>\n",
       "      <td>0.518135</td>\n",
       "    </tr>\n",
       "    <tr>\n",
       "      <th>Diseases of the digestive system</th>\n",
       "      <td>166.666667</td>\n",
       "      <td>0.595948</td>\n",
       "    </tr>\n",
       "    <tr>\n",
       "      <th>Diseases of the musculoskeletal system and connective tissue</th>\n",
       "      <td>166.666667</td>\n",
       "      <td>0.466418</td>\n",
       "    </tr>\n",
       "  </tbody>\n",
       "</table>\n",
       "</div>"
      ],
      "text/plain": [
       "                                                    Vaccinated Not vaccinated\n",
       "Neoplasms                                                500.0       0.956023\n",
       "Diseases of the blood and blood-forming organs ...       500.0       1.724138\n",
       "Endocrine, nutritional and metabolic diseases            500.0       0.712251\n",
       "Congenital malformations, deformations and chro...       500.0       0.938086\n",
       "Mental, Behavioral and Neurodevelopmental disor...       250.0       0.508647\n",
       "Diseases of the nervous system                           250.0       0.688705\n",
       "Diseases of the eye and adnexa                           250.0       0.706215\n",
       "Diseases of the ear and mastoid process                  250.0       0.738552\n",
       "Diseases of the circulatory system                       250.0       0.604595\n",
       "Diseases of the skin and subcutaneous tissue             250.0       0.541126\n",
       "Diseases of the genitourinary system                     250.0        0.54407\n",
       "Certain infectious and parasitic diseases           166.666667       0.502513\n",
       "Diseases of the respiratory system                  166.666667       0.518135\n",
       "Diseases of the digestive system                    166.666667       0.595948\n",
       "Diseases of the musculoskeletal system and conn...  166.666667       0.466418"
      ]
     },
     "execution_count": 113,
     "metadata": {},
     "output_type": "execute_result"
    }
   ],
   "source": [
    "# initialize \n",
    "\n",
    "# dataframe for collecting number of AEs per thousands with/without vaccinated people for all categories\n",
    "df_sum_cat_all_deaths = pd.DataFrame(columns = dict_vacORnot, index=dict_cat.values()) \n",
    "\n",
    "# df for saving the risk ratio and CI\n",
    "RR_result_cat_deaths = pd.DataFrame(index = dict_cat.values(), columns = ['RR', 'CI_lower', 'CI_upper'])\n",
    "\n",
    "# df for saving categories and their p-value, significance, RR and CI\n",
    "df_combined_deaths = pd.DataFrame(columns = ['P-value', 'Significant', 'Risk Ratio', 'Confidence Interval'], index = dict_cat.values())\n",
    "\n",
    "\n",
    "for i, ic in enumerate(dict_cat): # loop over ICD10 codes of each disease category\n",
    "    \n",
    "    # get dataset with only deaths AND people with specific underlying disease\n",
    "    # subset of the df with all deaths (df_deaths) with only people with specific underlying diseases\n",
    "    # reminder: leave R as adverse event & Q as underlying disease.\n",
    "    # df_ud = subset of clinical_vac df with only diagnoses before vaccine as defined further above\n",
    "\n",
    "    # subset with only underlying diseases within the specific category (=ic)\n",
    "    df_cat = df_ud[df_ud['icd10_code'].str.startswith(ic)]\n",
    "\n",
    "    # IDs with underlying disease in the specific category\n",
    "    id_cat = df_cat['eid'].unique()\n",
    "\n",
    "    # subset of the df with deaths after vaccination only in people with underlying disease in the specific category\n",
    "    df_deaths_cat = df_deaths[df_deaths['eid'].isin(id_cat)]\n",
    "\n",
    "    # get IDs of individuals in this subset with vs without vaccine \n",
    "    id_cat_vac = df_cat[df_cat['vaccinated']==True]['eid'].unique() # with vaccine\n",
    "    id_cat_nvac = df_cat[df_cat['vaccinated']==False]['eid'].unique() # without vaccine\n",
    "\n",
    "    ################################################################################\n",
    "    # calculate the number of deaths per thousand people and save the result in a table\n",
    "    df_sum_cat_deaths = incidence_deaths(df_deaths_cat, id_cat_vac, id_cat_nvac)\n",
    "    \n",
    "    # put in the values from the summary table\n",
    "    df_sum_cat_all_deaths.loc[dict_cat[ic],:] = df_sum_cat_deaths.loc[:,'Number of deaths per thousand individuals']\n",
    "    \n",
    "    \n",
    "    ################################################################################    \n",
    "    # contingency table\n",
    "    crosstab_cat = contingency_deaths(df_deaths_cat, id_cat_vac, id_cat_nvac, columns = ls_death, index = dict_vacORnot)\n",
    "    \n",
    "    ###############################################################################\n",
    "    # perform chi-squared test:\n",
    "    stat, p, dof, expected = sp.stats.chi2_contingency(crosstab_cat.iloc[0:2,0:2], 1)       # changed to crosstab_cat from crosstab_ud\n",
    "    \n",
    "    # save the p-value in the df\n",
    "    df_combined_deaths.loc[dict_cat[ic],'P-value'] = p\n",
    "    \n",
    "    # mark in which categories there is a significant difference between vaccinated and not vaccinated\n",
    "    if p <= alpha/2: # divided by two because of two-sided test (number of AEs could be higher or lower in vaccinated)\n",
    "        df_combined_deaths.loc[dict_cat[ic],'Significant'] = 'Yes'\n",
    "    else:\n",
    "        df_combined_deaths.loc[dict_cat[ic],'Significant'] = 'No'\n",
    "       \n",
    "    ###############################################################################\n",
    "    # risk ratio\n",
    "    RR_cat = riskratio_deaths(crosstab_cat)\n",
    "\n",
    "    # fill the df with the RR results for the plot later\n",
    "    RR_result_cat_deaths.loc[dict_cat[ic],:] = RR_cat\n",
    "    \n",
    "    CI_rounded = (round(RR_cat[1], 2), round(RR_cat[2], 2)) # round to one more decimal place than the original data has\n",
    "    \n",
    "    # fill df with RR\n",
    "    df_combined_deaths.loc[dict_cat[ic], ['Risk Ratio', 'Confidence Interval']] = round(RR_cat[0],2) , CI_rounded\n",
    "    \n",
    "\n",
    "df_sum_cat_all_deaths.sort_values(by = 'Vaccinated', ascending = False, inplace = True) # sorting\n",
    "df_sum_cat_all_deaths"
   ]
  },
  {
   "cell_type": "code",
   "execution_count": 115,
   "metadata": {},
   "outputs": [
    {
     "data": {
      "text/html": [
       "<div>\n",
       "<style scoped>\n",
       "    .dataframe tbody tr th:only-of-type {\n",
       "        vertical-align: middle;\n",
       "    }\n",
       "\n",
       "    .dataframe tbody tr th {\n",
       "        vertical-align: top;\n",
       "    }\n",
       "\n",
       "    .dataframe thead th {\n",
       "        text-align: right;\n",
       "    }\n",
       "</style>\n",
       "<table border=\"1\" class=\"dataframe\">\n",
       "  <thead>\n",
       "    <tr style=\"text-align: right;\">\n",
       "      <th></th>\n",
       "      <th>P-value</th>\n",
       "      <th>Significant</th>\n",
       "      <th>Risk Ratio</th>\n",
       "      <th>Confidence Interval</th>\n",
       "    </tr>\n",
       "  </thead>\n",
       "  <tbody>\n",
       "    <tr>\n",
       "      <th>Certain infectious and parasitic diseases</th>\n",
       "      <td>1.0</td>\n",
       "      <td>No</td>\n",
       "      <td>1.0</td>\n",
       "      <td>(0.06, 15.97)</td>\n",
       "    </tr>\n",
       "    <tr>\n",
       "      <th>Neoplasms</th>\n",
       "      <td>1.0</td>\n",
       "      <td>No</td>\n",
       "      <td>1.0</td>\n",
       "      <td>(0.06, 15.95)</td>\n",
       "    </tr>\n",
       "    <tr>\n",
       "      <th>Diseases of the blood and blood-forming organs and certain disorders involving the immune mechanism</th>\n",
       "      <td>1.0</td>\n",
       "      <td>No</td>\n",
       "      <td>1.0</td>\n",
       "      <td>(0.06, 15.91)</td>\n",
       "    </tr>\n",
       "    <tr>\n",
       "      <th>Endocrine, nutritional and metabolic diseases</th>\n",
       "      <td>1.0</td>\n",
       "      <td>No</td>\n",
       "      <td>1.0</td>\n",
       "      <td>(0.06, 15.96)</td>\n",
       "    </tr>\n",
       "    <tr>\n",
       "      <th>Mental, Behavioral and Neurodevelopmental disorders</th>\n",
       "      <td>1.0</td>\n",
       "      <td>No</td>\n",
       "      <td>1.0</td>\n",
       "      <td>(0.06, 15.97)</td>\n",
       "    </tr>\n",
       "    <tr>\n",
       "      <th>Diseases of the nervous system</th>\n",
       "      <td>1.0</td>\n",
       "      <td>No</td>\n",
       "      <td>1.0</td>\n",
       "      <td>(0.06, 15.96)</td>\n",
       "    </tr>\n",
       "    <tr>\n",
       "      <th>Diseases of the eye and adnexa</th>\n",
       "      <td>1.0</td>\n",
       "      <td>No</td>\n",
       "      <td>1.0</td>\n",
       "      <td>(0.06, 15.96)</td>\n",
       "    </tr>\n",
       "    <tr>\n",
       "      <th>Diseases of the ear and mastoid process</th>\n",
       "      <td>1.0</td>\n",
       "      <td>No</td>\n",
       "      <td>1.0</td>\n",
       "      <td>(0.06, 15.96)</td>\n",
       "    </tr>\n",
       "    <tr>\n",
       "      <th>Diseases of the circulatory system</th>\n",
       "      <td>1.0</td>\n",
       "      <td>No</td>\n",
       "      <td>1.0</td>\n",
       "      <td>(0.06, 15.96)</td>\n",
       "    </tr>\n",
       "    <tr>\n",
       "      <th>Diseases of the respiratory system</th>\n",
       "      <td>1.0</td>\n",
       "      <td>No</td>\n",
       "      <td>1.0</td>\n",
       "      <td>(0.06, 15.97)</td>\n",
       "    </tr>\n",
       "    <tr>\n",
       "      <th>Diseases of the digestive system</th>\n",
       "      <td>1.0</td>\n",
       "      <td>No</td>\n",
       "      <td>1.0</td>\n",
       "      <td>(0.06, 15.96)</td>\n",
       "    </tr>\n",
       "    <tr>\n",
       "      <th>Diseases of the skin and subcutaneous tissue</th>\n",
       "      <td>1.0</td>\n",
       "      <td>No</td>\n",
       "      <td>1.0</td>\n",
       "      <td>(0.06, 15.96)</td>\n",
       "    </tr>\n",
       "    <tr>\n",
       "      <th>Diseases of the musculoskeletal system and connective tissue</th>\n",
       "      <td>1.0</td>\n",
       "      <td>No</td>\n",
       "      <td>1.0</td>\n",
       "      <td>(0.06, 15.97)</td>\n",
       "    </tr>\n",
       "    <tr>\n",
       "      <th>Diseases of the genitourinary system</th>\n",
       "      <td>1.0</td>\n",
       "      <td>No</td>\n",
       "      <td>1.0</td>\n",
       "      <td>(0.06, 15.96)</td>\n",
       "    </tr>\n",
       "    <tr>\n",
       "      <th>Congenital malformations, deformations and chromosomal abnormalities</th>\n",
       "      <td>1.0</td>\n",
       "      <td>No</td>\n",
       "      <td>1.0</td>\n",
       "      <td>(0.06, 15.95)</td>\n",
       "    </tr>\n",
       "  </tbody>\n",
       "</table>\n",
       "</div>"
      ],
      "text/plain": [
       "                                                   P-value Significant  \\\n",
       "Certain infectious and parasitic diseases              1.0          No   \n",
       "Neoplasms                                              1.0          No   \n",
       "Diseases of the blood and blood-forming organs ...     1.0          No   \n",
       "Endocrine, nutritional and metabolic diseases          1.0          No   \n",
       "Mental, Behavioral and Neurodevelopmental disor...     1.0          No   \n",
       "Diseases of the nervous system                         1.0          No   \n",
       "Diseases of the eye and adnexa                         1.0          No   \n",
       "Diseases of the ear and mastoid process                1.0          No   \n",
       "Diseases of the circulatory system                     1.0          No   \n",
       "Diseases of the respiratory system                     1.0          No   \n",
       "Diseases of the digestive system                       1.0          No   \n",
       "Diseases of the skin and subcutaneous tissue           1.0          No   \n",
       "Diseases of the musculoskeletal system and conn...     1.0          No   \n",
       "Diseases of the genitourinary system                   1.0          No   \n",
       "Congenital malformations, deformations and chro...     1.0          No   \n",
       "\n",
       "                                                   Risk Ratio  \\\n",
       "Certain infectious and parasitic diseases                 1.0   \n",
       "Neoplasms                                                 1.0   \n",
       "Diseases of the blood and blood-forming organs ...        1.0   \n",
       "Endocrine, nutritional and metabolic diseases             1.0   \n",
       "Mental, Behavioral and Neurodevelopmental disor...        1.0   \n",
       "Diseases of the nervous system                            1.0   \n",
       "Diseases of the eye and adnexa                            1.0   \n",
       "Diseases of the ear and mastoid process                   1.0   \n",
       "Diseases of the circulatory system                        1.0   \n",
       "Diseases of the respiratory system                        1.0   \n",
       "Diseases of the digestive system                          1.0   \n",
       "Diseases of the skin and subcutaneous tissue              1.0   \n",
       "Diseases of the musculoskeletal system and conn...        1.0   \n",
       "Diseases of the genitourinary system                      1.0   \n",
       "Congenital malformations, deformations and chro...        1.0   \n",
       "\n",
       "                                                   Confidence Interval  \n",
       "Certain infectious and parasitic diseases                (0.06, 15.97)  \n",
       "Neoplasms                                                (0.06, 15.95)  \n",
       "Diseases of the blood and blood-forming organs ...       (0.06, 15.91)  \n",
       "Endocrine, nutritional and metabolic diseases            (0.06, 15.96)  \n",
       "Mental, Behavioral and Neurodevelopmental disor...       (0.06, 15.97)  \n",
       "Diseases of the nervous system                           (0.06, 15.96)  \n",
       "Diseases of the eye and adnexa                           (0.06, 15.96)  \n",
       "Diseases of the ear and mastoid process                  (0.06, 15.96)  \n",
       "Diseases of the circulatory system                       (0.06, 15.96)  \n",
       "Diseases of the respiratory system                       (0.06, 15.97)  \n",
       "Diseases of the digestive system                         (0.06, 15.96)  \n",
       "Diseases of the skin and subcutaneous tissue             (0.06, 15.96)  \n",
       "Diseases of the musculoskeletal system and conn...       (0.06, 15.97)  \n",
       "Diseases of the genitourinary system                     (0.06, 15.96)  \n",
       "Congenital malformations, deformations and chro...       (0.06, 15.95)  "
      ]
     },
     "execution_count": 115,
     "metadata": {},
     "output_type": "execute_result"
    }
   ],
   "source": [
    "# df with p-value, significance, RR and CI\n",
    "df_combined_deaths"
   ]
  },
  {
   "cell_type": "code",
   "execution_count": 117,
   "metadata": {},
   "outputs": [
    {
     "data": {
      "text/plain": [
       "<matplotlib.legend.Legend at 0x1f9a648d9d0>"
      ]
     },
     "execution_count": 117,
     "metadata": {},
     "output_type": "execute_result"
    },
    {
     "data": {
      "image/png": "[encoded data removed]",
      "text/plain": [
       "<Figure size 576x576 with 1 Axes>"
      ]
     },
     "metadata": {
      "needs_background": "light"
     },
     "output_type": "display_data"
    }
   ],
   "source": [
    "plt.figure(figsize = (8,8))\n",
    "\n",
    "# plot results for vaccinated and not on top of each other\n",
    "for v in dict_vacORnot:\n",
    "    plt.barh(df_sum_cat_all_deaths.index, df_sum_cat_all_deaths[v], alpha = 0.5, label = v)\n",
    "\n",
    "# labelling\n",
    "plt.title('Deaths in subjects with underlying diseases in specific ICD10 categories')\n",
    "plt.xlabel('Number of deaths per thousand individuals')\n",
    "plt.legend(loc = \"upper right\")\n"
   ]
  },
  {
   "cell_type": "code",
   "execution_count": 121,
   "metadata": {},
   "outputs": [
    {
     "data": {
      "text/plain": [
       "([<matplotlib.axis.YTick at 0x1f9a5356730>,\n",
       "  <matplotlib.axis.YTick at 0x1f9a7356f70>,\n",
       "  <matplotlib.axis.YTick at 0x1f9a73562e0>,\n",
       "  <matplotlib.axis.YTick at 0x1f9a7d70c70>,\n",
       "  <matplotlib.axis.YTick at 0x1f9a7dac1f0>,\n",
       "  <matplotlib.axis.YTick at 0x1f9a7dac880>,\n",
       "  <matplotlib.axis.YTick at 0x1f9a7da90d0>,\n",
       "  <matplotlib.axis.YTick at 0x1f9a7da9760>,\n",
       "  <matplotlib.axis.YTick at 0x1f9a7da9eb0>,\n",
       "  <matplotlib.axis.YTick at 0x1f9a7da1640>,\n",
       "  <matplotlib.axis.YTick at 0x1f9a7da9a30>,\n",
       "  <matplotlib.axis.YTick at 0x1f9a7dac8e0>,\n",
       "  <matplotlib.axis.YTick at 0x1f9a7da1d00>,\n",
       "  <matplotlib.axis.YTick at 0x1f9a7d9f490>,\n",
       "  <matplotlib.axis.YTick at 0x1f9a7d9fbe0>],\n",
       " [Text(0, 0, 'Certain infectious and parasitic diseases'),\n",
       "  Text(0, 1, 'Neoplasms'),\n",
       "  Text(0, 2, 'Diseases of the blood and blood-forming organs and certain disorders involving the immune mechanism'),\n",
       "  Text(0, 3, 'Endocrine, nutritional and metabolic diseases'),\n",
       "  Text(0, 4, 'Mental, Behavioral and Neurodevelopmental disorders'),\n",
       "  Text(0, 5, 'Diseases of the nervous system'),\n",
       "  Text(0, 6, 'Diseases of the eye and adnexa'),\n",
       "  Text(0, 7, 'Diseases of the ear and mastoid process'),\n",
       "  Text(0, 8, 'Diseases of the circulatory system'),\n",
       "  Text(0, 9, 'Diseases of the respiratory system'),\n",
       "  Text(0, 10, 'Diseases of the digestive system'),\n",
       "  Text(0, 11, 'Diseases of the skin and subcutaneous tissue'),\n",
       "  Text(0, 12, 'Diseases of the musculoskeletal system and connective tissue'),\n",
       "  Text(0, 13, 'Diseases of the genitourinary system'),\n",
       "  Text(0, 14, 'Congenital malformations, deformations and chromosomal abnormalities')])"
      ]
     },
     "execution_count": 121,
     "metadata": {},
     "output_type": "execute_result"
    },
    {
     "data": {
      "image/png": "[encoded data removed]",
      "text/plain": [
       "<Figure size 432x432 with 1 Axes>"
      ]
     },
     "metadata": {
      "needs_background": "light"
     },
     "output_type": "display_data"
    }
   ],
   "source": [
    "# plot the RR with CI\n",
    "\n",
    "# general figure configuration\n",
    "plt.figure(figsize = (6,6))\n",
    "plt.xscale(\"log\")\n",
    "plt.axvline(1, ls='--', linewidth=1, color='black')\n",
    "\n",
    "# draw the RR\n",
    "# RR results\n",
    "x = RR_result_cat_deaths['RR'].values\n",
    "# error bar with same size in both directions\n",
    "x_error = RR_result_cat_deaths['RR']-RR_result_cat_deaths['CI_lower']\n",
    "# for equal spacing of the results\n",
    "y = np.arange(len(RR_result_cat_deaths))\n",
    "\n",
    "# the plot\n",
    "plt.errorbar(x, y, xerr = x_error, marker = \"o\", markersize = 10, color = 'b', ls='none')\n",
    "\n",
    "# labelling\n",
    "plt.xlabel('Risk Ratio (log scale)')\n",
    "plt.title('Risk ratio of vaccination in people with underlying diseases in different ICD10 categories') # renée: Risk ratio of vaccination on an adverse event in subjects with underlying diseases in specific ICD-10 categories\n",
    "# labelling with ICD10 categories\n",
    "plt.yticks(ticks = y, labels = RR_result_cat_deaths.index) "
   ]
  },
  {
   "cell_type": "markdown",
   "metadata": {},
   "source": [
    "# Unused code so far"
   ]
  },
  {
   "cell_type": "code",
   "execution_count": null,
   "metadata": {
    "colab": {
     "base_uri": "https://localhost:8080/",
     "height": 424
    },
    "executionInfo": {
     "elapsed": 530,
     "status": "ok",
     "timestamp": 1635342590713,
     "user": {
      "displayName": "Monica Müller",
      "photoUrl": "https://lh3.googleusercontent.com/a/default-user=s64",
      "userId": "03925055125343928828"
     },
     "user_tz": -120
    },
    "id": "Wr3iUUcp_YAD",
    "outputId": "7b128103-ba29-442e-e86b-27cb4f0d815c"
   },
   "outputs": [],
   "source": [
    "# code layout for getting the different categories\n",
    "\n",
    "# subsetting into categories using IC10\n",
    "# e.g. I00-I99 Diseases of the circulatory system, more details available too, e.g. Ischemic heart diseases\n",
    "GPic10.dropna(inplace=True) # drop NaN to enable making mask\n",
    "\n",
    "m_circ = GPic10['icd10_code'].str.startswith('I')\n",
    "GPic10[m_circ]['read_code']"
   ]
  },
  {
   "cell_type": "code",
   "execution_count": null,
   "metadata": {
    "colab": {
     "base_uri": "https://localhost:8080/",
     "height": 424
    },
    "executionInfo": {
     "elapsed": 338,
     "status": "ok",
     "timestamp": 1635342751479,
     "user": {
      "displayName": "Monica Müller",
      "photoUrl": "https://lh3.googleusercontent.com/a/default-user=s64",
      "userId": "03925055125343928828"
     },
     "user_tz": -120
    },
    "id": "joOSUIaFBKVm",
    "outputId": "fc8b9ea9-536a-45bc-d413-721751f8f244"
   },
   "outputs": [],
   "source": [
    "# getting corresponding CTV3 codes\n",
    "m_circ_CTV3 = code['coding'].isin(GPic10[m_circ]['read_code'])\n",
    "# code[m_circ_CTV3]"
   ]
  },
  {
   "cell_type": "code",
   "execution_count": null,
   "metadata": {
    "colab": {
     "base_uri": "https://localhost:8080/",
     "height": 424
    },
    "executionInfo": {
     "elapsed": 272,
     "status": "ok",
     "timestamp": 1635343135065,
     "user": {
      "displayName": "Monica Müller",
      "photoUrl": "https://lh3.googleusercontent.com/a/default-user=s64",
      "userId": "03925055125343928828"
     },
     "user_tz": -120
    },
    "id": "oWct6dD0BKOd",
    "outputId": "6b6cecc6-92b1-4c59-c45b-273c1df6aed4"
   },
   "outputs": [],
   "source": [
    " # getting subjects with this condition\n",
    "m_circ_sub = clinical['code'].isin(code[m_circ_CTV3]['coding']) # another mask"
   ]
  },
  {
   "cell_type": "markdown",
   "metadata": {
    "id": "ZHbu6qcuEv-H"
   },
   "source": [
    "# correspond to vaccinated or not"
   ]
  },
  {
   "cell_type": "code",
   "execution_count": null,
   "metadata": {
    "colab": {
     "base_uri": "https://localhost:8080/"
    },
    "executionInfo": {
     "elapsed": 291,
     "status": "ok",
     "timestamp": 1635343751105,
     "user": {
      "displayName": "Monica Müller",
      "photoUrl": "https://lh3.googleusercontent.com/a/default-user=s64",
      "userId": "03925055125343928828"
     },
     "user_tz": -120
    },
    "id": "3c9ATWLdE0sn",
    "outputId": "6e510def-3879-48c5-ec8a-a4037a38dd64"
   },
   "outputs": [],
   "source": [
    "# no one with any vaccine had circulatory issue before vaccine on this limited dataset\n",
    "scripts[mask_vac]['eid'].isin(clinical[m_circ_sub]['eid']).sum()"
   ]
  },
  {
   "cell_type": "code",
   "execution_count": null,
   "metadata": {},
   "outputs": [],
   "source": []
  }
 ],
 "metadata": {
  "colab": {
   "authorship_tag": "ABX9TyPbGrXdLmVVZJgOaOjZE42u",
   "collapsed_sections": [],
   "mount_file_id": "1lzi9RvA-pKhZOBpn5_9XFF17e746VcKM",
   "name": "Project_vaccine_comorbidities.ipynb",
   "provenance": [],
   "toc_visible": true
  },
  "kernelspec": {
   "display_name": "Python 3 (ipykernel)",
   "language": "python",
   "name": "python3"
  },
  "language_info": {
   "codemirror_mode": {
    "name": "ipython",
    "version": 3
   },
   "file_extension": ".py",
   "mimetype": "text/x-python",
   "name": "python",
   "nbconvert_exporter": "python",
   "pygments_lexer": "ipython3",
   "version": "3.9.7"
  }
 },
 "nbformat": 4,
 "nbformat_minor": 1
}
