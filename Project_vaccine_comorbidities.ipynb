{
 "cells": [
  {
   "cell_type": "markdown",
   "metadata": {},
   "source": [
    "# 1. Introduction\n",
    "In hope of ending the global COVID-19 pandemic, multiple vaccines have been rapidly developed around the world. However, vaccine hesitancy due to safety concerns is hindering its usage. Phase II and III clinical trials showed promising results regarding both efficacy and adverse effects, also in people with underlying medical conditions [Choi, 2021]. \n",
    "\n",
    "In this project, the effect of two different COVID-19 vaccines, namely Pfizer-BioNTech and Oxford/AstraZeneca, on people in the UK with different underlying diseases will be evaluated, aiming to shed more light on their safety. For this, the community-based UK Biobank cohort will be applied to extract the first doses of the COVID-19 vaccinations, underlying medical conditions and adverse events categorised according to the ICD-10, as well as deaths.\n",
    "\n",
    "Specifically, the analysis will be split uf in two sections:\n",
    "* Effect of the first COVID-19 vaccination dose on adverse events.\n",
    "* Effect of the first COVID-19 vaccination dose on mortality.\n",
    "\n",
    "Both sections start more generally with the full study population, are then reduced to only people with underlying medical conditions and finally, to specific  ICD-10 categories of underlying diseases. "
   ]
  },
  {
   "cell_type": "markdown",
   "metadata": {},
   "source": [
    "# 2. Methods"
   ]
  },
  {
   "cell_type": "markdown",
   "metadata": {
    "id": "BnOF_K5b9eXs"
   },
   "source": [
    "## Import packages and data"
   ]
  },
  {
   "cell_type": "code",
   "execution_count": 1,
   "metadata": {},
   "outputs": [],
   "source": [
    "import pandas as pd\n",
    "import numpy as np\n",
    "import matplotlib.pyplot as plt\n",
    "import scipy as sp\n",
    "from scipy import stats\n",
    "from IPython.core.display import SVG\n",
    "import random\n",
    "random.seed(13)"
   ]
  },
  {
   "cell_type": "markdown",
   "metadata": {},
   "source": [
    "#### Import data"
   ]
  },
  {
   "cell_type": "code",
   "execution_count": 2,
   "metadata": {
    "id": "ED2_-Iv0DbIJ"
   },
   "outputs": [],
   "source": [
    "# need to import this file in slightly different way because of different delimiters\n",
    "clinical = pd.read_csv('data/covid19_clinical_sample.txt',sep='\\t|,', engine = 'python')"
   ]
  },
  {
   "cell_type": "code",
   "execution_count": 3,
   "metadata": {
    "id": "zyYSNBpnypUf"
   },
   "outputs": [],
   "source": [
    "GPic10 = pd.read_csv('data/GP_ic10_lookup.csv') "
   ]
  },
  {
   "cell_type": "code",
   "execution_count": 4,
   "metadata": {},
   "outputs": [],
   "source": [
    "mortality = pd.read_csv('data/patients_data_death_sample.csv')"
   ]
  },
  {
   "cell_type": "code",
   "execution_count": 5,
   "metadata": {},
   "outputs": [],
   "source": [
    "mortality_coding = pd.read_csv('data/patients_data_death_decoding.csv')"
   ]
  },
  {
   "cell_type": "markdown",
   "metadata": {},
   "source": [
    "#### Have a look at the data"
   ]
  },
  {
   "cell_type": "code",
   "execution_count": null,
   "metadata": {
    "colab": {
     "base_uri": "https://localhost:8080/",
     "height": 424
    },
    "executionInfo": {
     "elapsed": 319,
     "status": "ok",
     "timestamp": 1635338237249,
     "user": {
      "displayName": "Monica Müller",
      "photoUrl": "https://lh3.googleusercontent.com/a/default-user=s64",
      "userId": "03925055125343928828"
     },
     "user_tz": -120
    },
    "id": "7svXJiX1F5PV",
    "outputId": "d5106cec-154c-46ed-8a33-e4764cd1b78d",
    "scrolled": true
   },
   "outputs": [],
   "source": [
    "clinical.head()\n",
    "# GP dataset from patients in the database\n",
    "# each line corresponds to one incident with a date (event_dt), including vaccinations\n",
    "# eid: patient number \n",
    "# value: measured value of a test or something similar"
   ]
  },
  {
   "cell_type": "code",
   "execution_count": null,
   "metadata": {
    "colab": {
     "base_uri": "https://localhost:8080/",
     "height": 476
    },
    "executionInfo": {
     "elapsed": 11,
     "status": "ok",
     "timestamp": 1635338239808,
     "user": {
      "displayName": "Monica Müller",
      "photoUrl": "https://lh3.googleusercontent.com/a/default-user=s64",
      "userId": "03925055125343928828"
     },
     "user_tz": -120
    },
    "id": "QZo7OndFyvd_",
    "outputId": "78c836ec-1ff8-427f-baa7-52298ae33508"
   },
   "outputs": [],
   "source": [
    "GPic10.head()\n",
    "#translates CTV3 codes (read_code) to ICD10 (icd10_code)"
   ]
  },
  {
   "cell_type": "code",
   "execution_count": null,
   "metadata": {},
   "outputs": [],
   "source": [
    "mortality.head()\n",
    "# contains death dates and other info such as age and cause of death"
   ]
  },
  {
   "cell_type": "code",
   "execution_count": null,
   "metadata": {},
   "outputs": [],
   "source": [
    "mortality_coding\n",
    "# coding of column names"
   ]
  },
  {
   "cell_type": "markdown",
   "metadata": {},
   "source": [
    "## Preparing data"
   ]
  },
  {
   "cell_type": "markdown",
   "metadata": {},
   "source": [
    "### Data Cleaning"
   ]
  },
  {
   "cell_type": "code",
   "execution_count": null,
   "metadata": {},
   "outputs": [],
   "source": [
    "# drop unnecessary columns\n",
    "clinical.drop(columns = ['code_type', 'value'], inplace = True)"
   ]
  },
  {
   "cell_type": "code",
   "execution_count": null,
   "metadata": {
    "scrolled": true
   },
   "outputs": [],
   "source": [
    "pd.isnull(clinical).sum()\n",
    "# no NaN"
   ]
  },
  {
   "cell_type": "code",
   "execution_count": null,
   "metadata": {},
   "outputs": [],
   "source": [
    "# remove duplicate entries \n",
    "clinical.drop_duplicates(inplace = True) \n",
    "mortality.drop_duplicates (inplace = True)"
   ]
  },
  {
   "cell_type": "markdown",
   "metadata": {},
   "source": [
    "#### Make 'event_date' in 'clinical' a datetime type"
   ]
  },
  {
   "cell_type": "code",
   "execution_count": null,
   "metadata": {},
   "outputs": [],
   "source": [
    "# convert entire event_dt in datetime format\n",
    "clinical['event_dt'] = pd.to_datetime(clinical['event_dt'])\n",
    "clinical"
   ]
  },
  {
   "cell_type": "markdown",
   "metadata": {},
   "source": [
    "### Adding column with ICD-10 categories to clinical dataset for simpler analysis later on"
   ]
  },
  {
   "cell_type": "code",
   "execution_count": null,
   "metadata": {},
   "outputs": [],
   "source": [
    "# create a reduced dataframe for merging with the clinical dataframe\n",
    "GPic10_red =  GPic10[['read_code', 'icd10_code']]\n",
    "# rename to merge on the ctv3 column with the clinical dataset\n",
    "GPic10_red = GPic10_red.rename(columns = {'read_code':'code'})"
   ]
  },
  {
   "cell_type": "code",
   "execution_count": null,
   "metadata": {},
   "outputs": [],
   "source": [
    "# merge\n",
    "clinical_ic10 = pd.merge(clinical, GPic10_red, how='inner', on='code')\n",
    "clinical_ic10"
   ]
  },
  {
   "cell_type": "code",
   "execution_count": null,
   "metadata": {},
   "outputs": [],
   "source": [
    "# remove not considered clinical events in the clinical dataset (e.g. external factors)\n",
    "# remove O-Z, but leave R as adverse event & Q as underlying disease.\n",
    "\n",
    "# tuple of categories we do not consider as adverse event or underlying disease:\n",
    "exclude = ('O','P','S','T','U','V','W','X','Y','Z')\n",
    "\n",
    "# broadcasting the clinical dataset for all icd codes except those we exclude\n",
    "clinical_ic10 = clinical_ic10[~clinical_ic10['icd10_code'].str.startswith(exclude)]\n",
    "\n",
    "# delete\n",
    "clinical_ic10"
   ]
  },
  {
   "cell_type": "markdown",
   "metadata": {},
   "source": [
    "### Filtering data by vaccination status"
   ]
  },
  {
   "cell_type": "code",
   "execution_count": null,
   "metadata": {},
   "outputs": [],
   "source": [
    "# codes for covid vaccinations and their desciprtions in the clinical dataset, as found in the decoding file 8708.tsv \n",
    "clinical[clinical['code']=='Y29e7'] # first dose \n",
    "clinical[clinical['code']=='Y29e8'] # second dose\n",
    "clinical[clinical['code']=='Y2a0e'] # SARS-2 Coronavirus vaccine\n",
    "clinical[clinical['code']=='Y210d'] # Severe acute respiratory syndrome coronavirus 2 vaccination (procedure)\n",
    "clinical[clinical['code']=='Y2eb5'] # COVID-19 Vaccine Novavax (adj) 5mcg/0.5ml dose susp for inj multidose vials (Baxter Oncology GmbH) part 1\n",
    "clinical[clinical['code']=='Y2eb5'] # COVID-19 Vaccine Novavax (adj) 5mcg/0.5ml dose susp for inj multidose vials (Baxter Oncology GmbH) part 2"
   ]
  },
  {
   "cell_type": "markdown",
   "metadata": {},
   "source": [
    "Most entries were found using code Y29e7, decoding the first dose of any COVID-19 vaccination and therefore was chosen to evaluate adverse events."
   ]
  },
  {
   "cell_type": "code",
   "execution_count": null,
   "metadata": {},
   "outputs": [],
   "source": [
    "# subset dataframe to first doses of covid-19 vaccinations\n",
    "clinical_vaccines_only = clinical[clinical['code']=='Y29e7'] # first dose"
   ]
  },
  {
   "cell_type": "code",
   "execution_count": null,
   "metadata": {},
   "outputs": [],
   "source": [
    "# in this df containing only vaccinations, fill new column issue_dt with the event_dt\n",
    "clinical_vaccines_only['issue_dt'] =  clinical_vaccines_only['event_dt']\n"
   ]
  },
  {
   "cell_type": "code",
   "execution_count": null,
   "metadata": {},
   "outputs": [],
   "source": [
    "# finding eids in the clinical dataset that had first covid-19 dose with code 'Y29e7'\n",
    "id_vac = clinical[clinical['code']=='Y29e7']['eid'].unique()\n",
    "len(id_vac) # 961 eids with first dose"
   ]
  },
  {
   "cell_type": "code",
   "execution_count": null,
   "metadata": {},
   "outputs": [],
   "source": [
    "len(clinical['eid'].unique()) # 1277 total eids in the clinical dataset"
   ]
  },
  {
   "cell_type": "markdown",
   "metadata": {},
   "source": [
    "### Rename columns of mortality dataframe"
   ]
  },
  {
   "cell_type": "code",
   "execution_count": null,
   "metadata": {},
   "outputs": [],
   "source": [
    "# make a dictionary out of the mortality_coding dataframe \n",
    "dict_columns = {}\n",
    "for index, value in enumerate(mortality_coding['Unnamed: 0']):\n",
    "  dict_columns[value] = mortality_coding.loc[index, \"description\"]"
   ]
  },
  {
   "cell_type": "code",
   "execution_count": null,
   "metadata": {},
   "outputs": [],
   "source": [
    "mortality.rename(columns = dict_columns, inplace = True) # columns = a dictionary will automatically rename the columns\n",
    "mortality['DateDeath'].isna().sum()\n",
    "# 9339 of the 10'000 eids in the mortality sample have not died yet\n"
   ]
  },
  {
   "cell_type": "markdown",
   "metadata": {},
   "source": [
    "#### Add deaths to clinical_ic10 df"
   ]
  },
  {
   "cell_type": "code",
   "execution_count": null,
   "metadata": {},
   "outputs": [],
   "source": [
    "# subset mortality df to the eids with a deathdate that is not NaN\n",
    "mortality_sub = mortality.dropna(subset=['DateDeath'])\n",
    "# drop all the unnecessary columns (also drop age and sex, perhaps no time to analyse this), keep eid, deathdate, cause\n",
    "mortality_sub.drop(columns = ['Sex', 'YearBirth', 'MonthBirth', 'DateRecruit', 'BMI', 'AgeDeath', 'AgeRecruit', 'cause of death 1', 'cause of death 2'], inplace = True)\n",
    "# rename column 'PatientID' to 'eid' and 'DateDeath' to 'event_dt'\n",
    "mortality_sub.rename(columns = {'PatientID':'eid', 'DateDeath':'event_dt'}, inplace = True) "
   ]
  },
  {
   "cell_type": "code",
   "execution_count": null,
   "metadata": {},
   "outputs": [],
   "source": [
    "mortality_sub\n",
    "#  661 deaths"
   ]
  },
  {
   "cell_type": "code",
   "execution_count": null,
   "metadata": {
    "scrolled": true
   },
   "outputs": [],
   "source": [
    "# add column 'icd10_code' to mortality, filled with string 'death'\n",
    "mortality_sub['icd10_code'] = pd.Series([\"death\" for x in range(len(mortality.index))])\n"
   ]
  },
  {
   "cell_type": "code",
   "execution_count": null,
   "metadata": {},
   "outputs": [],
   "source": [
    "# make 'DateDeath' datetime type\n",
    "mortality_sub['event_dt'] = pd.to_datetime(mortality_sub['event_dt'])\n",
    "mortality_sub.head()"
   ]
  },
  {
   "cell_type": "code",
   "execution_count": null,
   "metadata": {},
   "outputs": [],
   "source": [
    "# now join them\n",
    "clinical_ic10= pd.concat([clinical_ic10, mortality_sub], join = 'outer')\n",
    "clinical_ic10 # contains medical events and deaths"
   ]
  },
  {
   "cell_type": "markdown",
   "metadata": {},
   "source": [
    "#### Add column with the date of vaccination to clinical_ic10"
   ]
  },
  {
   "cell_type": "code",
   "execution_count": null,
   "metadata": {},
   "outputs": [],
   "source": [
    "# drop event_dt in in clinical_vaccines_only that issue_dt of vaccine and event date of other medical event is on the same row\n",
    "clinical_vaccines_only.drop(columns = ['event_dt'], inplace = True)"
   ]
  },
  {
   "cell_type": "code",
   "execution_count": null,
   "metadata": {},
   "outputs": [],
   "source": [
    "# drop code in clinical_vaccines_only so that the issue date of vaccine and event date of other medical event is on the same row\n",
    "clinical_vaccines_only.drop(columns = ['code'], inplace = True)"
   ]
  },
  {
   "cell_type": "code",
   "execution_count": null,
   "metadata": {},
   "outputs": [],
   "source": [
    "# merge clinical_ic10 and clinical_vaccines_only to add the issue_date (date of vaccine) to the df\n",
    "clinical_vac = pd.merge(clinical_ic10, clinical_vaccines_only, how ='outer', on =['eid'])"
   ]
  },
  {
   "cell_type": "code",
   "execution_count": null,
   "metadata": {},
   "outputs": [],
   "source": [
    "clinical_vac "
   ]
  },
  {
   "cell_type": "code",
   "execution_count": null,
   "metadata": {},
   "outputs": [],
   "source": [
    "len(clinical_vac) \n",
    "# total amounts of events = medical events, deaths and vaccinations "
   ]
  },
  {
   "cell_type": "code",
   "execution_count": null,
   "metadata": {
    "scrolled": true
   },
   "outputs": [],
   "source": [
    "clinical_vac['issue_dt'].isna().sum()"
   ]
  },
  {
   "cell_type": "markdown",
   "metadata": {},
   "source": [
    "#### Add column in clinical_vac that says whether a patient is vaccinated or not"
   ]
  },
  {
   "cell_type": "code",
   "execution_count": null,
   "metadata": {},
   "outputs": [],
   "source": [
    "# mask for clinical events of vaccinated eids\n",
    "mask_vaccinated = clinical_vac['eid'].isin(id_vac)\n",
    "# fill new column with the mask\n",
    "clinical_vac['vaccinated'] = mask_vaccinated\n",
    "# check how many events of vaccinated people there are\n",
    "clinical_vac['vaccinated'].value_counts()"
   ]
  },
  {
   "cell_type": "code",
   "execution_count": null,
   "metadata": {},
   "outputs": [],
   "source": [
    "clinical_vac \n",
    "# rows with icd10_code=NaN: vaccinated eids without medical events"
   ]
  },
  {
   "cell_type": "markdown",
   "metadata": {},
   "source": [
    "#### Add random issue date to events of unvaccinated patients to 'issue_date_format'  in clinical_vac "
   ]
  },
  {
   "cell_type": "code",
   "execution_count": null,
   "metadata": {},
   "outputs": [],
   "source": [
    "# make list from issue_date in clinical_vaccines_only\n",
    "issue_dates = clinical_vaccines_only['issue_dt'].tolist()\n"
   ]
  },
  {
   "cell_type": "code",
   "execution_count": null,
   "metadata": {},
   "outputs": [],
   "source": [
    "len(clinical_vac['eid'].unique())\n",
    "# 1899 unique eids in clinical_vac: 1277 eids in the clinical dataset, 661 eids from deaths subet \n",
    "# most death cases were not in the clinical dataset (in the sample)"
   ]
  },
  {
   "cell_type": "code",
   "execution_count": null,
   "metadata": {},
   "outputs": [],
   "source": [
    "len(id_vac)\n",
    "# 961 vaccinated eids"
   ]
  },
  {
   "cell_type": "code",
   "execution_count": null,
   "metadata": {},
   "outputs": [],
   "source": [
    "# list of eid of unvaccinated people\n",
    "id_nvac = clinical_vac[clinical_vac['vaccinated']==False]['eid'].unique()\n",
    "len(id_nvac)\n",
    "# 938 unvaccinated eids"
   ]
  },
  {
   "cell_type": "code",
   "execution_count": null,
   "metadata": {},
   "outputs": [],
   "source": [
    "# create list of new dates\n",
    "issue_dt_random = random.choices(issue_dates, k = len(id_nvac))\n",
    "len(issue_dt_random)"
   ]
  },
  {
   "cell_type": "code",
   "execution_count": null,
   "metadata": {},
   "outputs": [],
   "source": [
    "# make dictionary with random issue dates and unvaccinated eid\n",
    "dict_nvac = dict(zip(id_nvac,issue_dt_random))"
   ]
  },
  {
   "cell_type": "code",
   "execution_count": null,
   "metadata": {},
   "outputs": [],
   "source": [
    "# fill na with mapping from the dictionary\n",
    "clinical_vac['issue_dt'] = clinical_vac['issue_dt'].fillna(clinical_vac['eid'].map(dict_nvac))"
   ]
  },
  {
   "cell_type": "code",
   "execution_count": null,
   "metadata": {},
   "outputs": [],
   "source": [
    "# check unvaccinated events\n",
    "clinical_vac[clinical_vac['vaccinated'] == False]"
   ]
  },
  {
   "cell_type": "code",
   "execution_count": null,
   "metadata": {},
   "outputs": [],
   "source": [
    "# check if there are NaNs in the issue_dt column\n",
    "clinical_vac['issue_dt'].isna().sum()"
   ]
  },
  {
   "cell_type": "markdown",
   "metadata": {},
   "source": [
    "#### Add column where it says if the event (event_date_format) was before or after the vaccination (issue_date)"
   ]
  },
  {
   "cell_type": "code",
   "execution_count": null,
   "metadata": {},
   "outputs": [],
   "source": [
    "# add new column before_after_vaccine \n",
    "conditions = [clinical_vac['event_dt']>=clinical_vac['issue_dt'], clinical_vac['event_dt']<clinical_vac['issue_dt']]\n",
    "choices = ['after', 'before']\n",
    "clinical_vac['before_after_vaccine'] = np.select(conditions, choices, default = 'before')\n",
    "clinical_vac"
   ]
  },
  {
   "cell_type": "code",
   "execution_count": null,
   "metadata": {
    "scrolled": true
   },
   "outputs": [],
   "source": [
    "# checking how many events before and after\n",
    "clinical_vac['before_after_vaccine'].value_counts()"
   ]
  },
  {
   "cell_type": "markdown",
   "metadata": {},
   "source": [
    "## 1) Effect of the vaccination on adverse events"
   ]
  },
  {
   "cell_type": "markdown",
   "metadata": {},
   "source": [
    "### 1a) Comparison of occurrence of adverse events after vaccination of vaccinated and unvaccinated people"
   ]
  },
  {
   "cell_type": "code",
   "execution_count": null,
   "metadata": {},
   "outputs": [],
   "source": [
    "# initialize index names\n",
    "dict_vacORnot = {'Vaccinated':1, 'Not vaccinated':0} #vaccination status"
   ]
  },
  {
   "cell_type": "markdown",
   "metadata": {},
   "source": [
    "#### Total number of adverse events \n",
    "Adverse events: medical events with ICD10 code after the (artificial) vaccination date\n",
    "\n",
    "Total number of adverse events (multiple per patient in some cases): vaccinated vs. non-vaccinated"
   ]
  },
  {
   "cell_type": "code",
   "execution_count": null,
   "metadata": {},
   "outputs": [],
   "source": [
    "def incidence(df_event, id_vac, id_nvac):\n",
    "    \"\"\"\n",
    "    Calculates the number of events (AEs/deaths) per thousand individuals in a given population.\n",
    "    \n",
    "    Input:\n",
    "    - df_event: a dataframe containing all events after the issue date considered in the analysis (AEs/deaths)\n",
    "    - id_vac: series containing ID's of each individual (with each individual listed once) within the given population. // only vaccinated!\n",
    "    - id_nvac: same as id_vac but with all non-vaccinated individuals\n",
    "    \n",
    "    Note: this is not exactly the incidence (would be number of events in specified time, which would be nice to analyse in the future)\n",
    "    \n",
    "    \"\"\"\n",
    "    \n",
    "    # initialize df for putting in the values\n",
    "    df_sum = pd.DataFrame(columns = ['Number of events', 'Number of individuals', 'Number of events per thousand individuals'], index = dict_vacORnot)\n",
    "    \n",
    "    for v in dict_vacORnot: # loop through vaccinated vs. not\n",
    "        \n",
    "        # put in the number of events (AEs) by subsetting the df_event into vaccinated/not vaccinated\n",
    "        df_sum['Number of events'][v] = len(df_event[df_event['vaccinated'] == dict_vacORnot[v]])\n",
    "    \n",
    "        # if we have no event (happens in the subset), add 0.5 for testing the plot and analysis further below\n",
    "        # -> still visible in the output that it was added\n",
    "        if df_sum['Number of events'][v]==0:\n",
    "            df_sum['Number of events'][v]=0.5\n",
    "    \n",
    "    # put number of vaccinated/not vaccinated people in the population into the summary df\n",
    "    df_sum['Number of individuals']['Vaccinated'] = len(id_vac) # vaccinated (row)\n",
    "    df_sum['Number of individuals']['Not vaccinated'] = len(id_nvac) # not vaccinated (row)\n",
    "    \n",
    "    # calculate AEs/individual\n",
    "    df_sum['Number of events per thousand individuals'] = df_sum['Number of events']/df_sum['Number of individuals']*1000\n",
    "    \n",
    "    return df_sum"
   ]
  },
  {
   "cell_type": "code",
   "execution_count": null,
   "metadata": {},
   "outputs": [],
   "source": [
    "# Make a df with only AEs (defined medical events w. ICD10 code after the (artificial) vaccination date)\n",
    "# reminder: leave R as adverse event & Q as underlying disease.\n",
    "\n",
    "# subset of clinical dataset for adverse events (=after vaccine)\n",
    "df_AEs = clinical_vac[clinical_vac['before_after_vaccine']== 'after']\n",
    "# drop NaN (from lines with vaccine)\n",
    "df_AEs.dropna(subset = ['icd10_code'], inplace = True)\n",
    "\n",
    "# remove Q (congenital diseases), which are not considered as adverse events\n",
    "df_AEs = df_AEs[~df_AEs['icd10_code'].str.startswith('Q')]"
   ]
  },
  {
   "cell_type": "code",
   "execution_count": null,
   "metadata": {},
   "outputs": [],
   "source": [
    "# remove deaths, which are not considered adverse events\n",
    "df_AEs = df_AEs[df_AEs['icd10_code'] != 'death'] "
   ]
  },
  {
   "cell_type": "code",
   "execution_count": null,
   "metadata": {},
   "outputs": [],
   "source": [
    "# get number of people of the chosen population\n",
    "# list of all IDs from the clinical dataset\n",
    "id_clin = clinical['eid'].unique()\n",
    "\n",
    "# list of all IDs from the mortality dataset\n",
    "id_mor = mortality['PatientID'].unique()\n",
    "\n",
    "# concatenate both lists to get all IDs in one list\n",
    "id_all = np.concatenate((id_clin, id_mor))\n",
    "\n",
    "# leave only unique IDs in the list to get the number of IDs using len()\n",
    "id_all = np.unique(id_all)\n",
    "\n",
    "# get array with IDs without vaccine by deleting the IDs with vaccine out of the array with all IDs\n",
    "id_nvac = np.delete(id_all, np.isin(id_all,id_vac))"
   ]
  },
  {
   "cell_type": "code",
   "execution_count": null,
   "metadata": {},
   "outputs": [],
   "source": [
    "# use the function to create the summary table\n",
    "df_sum_all = incidence(df_AEs, id_vac, id_nvac)\n",
    "\n",
    "# save \n",
    "df_sum_all.to_csv('analysis/1a_total_AE_table.csv')"
   ]
  },
  {
   "cell_type": "code",
   "execution_count": null,
   "metadata": {},
   "outputs": [],
   "source": [
    "df_sum_all"
   ]
  },
  {
   "cell_type": "markdown",
   "metadata": {},
   "source": [
    "Plot how oftern AEs occur in vaccinated vs. not vaccinated people for all individuals in the dataset."
   ]
  },
  {
   "cell_type": "code",
   "execution_count": null,
   "metadata": {
    "scrolled": true
   },
   "outputs": [],
   "source": [
    "plt.figure(figsize = (5,5))\n",
    "plt.bar(df_sum_all.index, df_sum_all['Number of events per thousand individuals'])\n",
    "plt.ylabel('Number of AEs per thousand individuals')\n",
    "plt.title('Adverse events in the whole population of the dataset')\n",
    "\n",
    "# save figure in vector format, bbox_inches='tight' so that the plot is not cropped\n",
    "plt.savefig('analysis/1a_total_AE_barplot.svg', bbox_inches='tight')"
   ]
  },
  {
   "cell_type": "markdown",
   "metadata": {},
   "source": [
    "#### Incidence of AEs in all subjects\n",
    "In further analysis: number of eids with AE is analysed (not total number of AEs occurring)"
   ]
  },
  {
   "cell_type": "markdown",
   "metadata": {},
   "source": [
    "Make contingency table (not using pd.crosstab to avoid another huge dataset with all individuals and because we need to count unique IDs)"
   ]
  },
  {
   "cell_type": "code",
   "execution_count": null,
   "metadata": {},
   "outputs": [],
   "source": [
    "def contingency(df_event, id_vac, id_nvac, index = dict_vacORnot):\n",
    "    \"\"\"\n",
    "    Makes a 2x2 contingency table, which can be used for the chi^2 test and calculating the risk ratio.\n",
    "    \n",
    "    Input:\n",
    "    - df_event: a dataframe containing all events (AEs/deaths) considered in the analysis\n",
    "    - id_vac: series containing ID's of each individual (with each individual listed once) within the given population.\n",
    "    - id_nvac: same as id_vac but with all non-vaccinated individuals\n",
    "    \n",
    "    \"\"\"\n",
    "\n",
    "    # initialize contingency table\n",
    "    crosstab = pd.DataFrame(columns = ['event', 'no event'], index = index)\n",
    "    \n",
    "    # fill contingency table with values in the subset\n",
    "\n",
    "    for v in dict_vacORnot: # loop throug vaccinated vs. not\n",
    "\n",
    "        \n",
    "        # with events\n",
    "\n",
    "        # number of nonvaccinated/vaccinated people with event = number of individuals with AEs\n",
    "        crosstab.loc[v,'event'] = len(df_event[df_event['vaccinated']==dict_vacORnot[v]]['eid'].unique())\n",
    "        \n",
    "        # DELETE THIS FOR FINAL ANALYSIS\n",
    "        # if we have no event (happens in the subset), add 1 for testing the plot and analysis further below\n",
    "        # -> still visible in the output that it was added\n",
    "        if crosstab.loc[v,'event']==0:\n",
    "            crosstab.loc[v,'event']=1\n",
    "\n",
    "            \n",
    "        # without events\n",
    "\n",
    "        if v == 'Vaccinated': # for vaccinated people\n",
    "\n",
    "            # total number of vaccinated individuals - those with events\n",
    "            crosstab.loc[v,'no event'] = len(id_vac) - crosstab.loc[v,'event']\n",
    "\n",
    "        else: # for not vaccinated people\n",
    "            \n",
    "            # total number of unvaccinated individuals - those with events\n",
    "            crosstab.loc[v,'no event'] = len(id_nvac) - crosstab.loc[v,'event']\n",
    "            \n",
    "    \n",
    "    # adding margins to the contingency table (=total value as row and column)\n",
    "    \n",
    "    # vaccinated vs. not\n",
    "    crosstab.loc['Total',:] = np.sum(crosstab, axis = 0)\n",
    "    # event vs. no event\n",
    "    crosstab.loc[:,'Total'] = np.sum(crosstab, axis = 1)\n",
    "\n",
    "    return crosstab"
   ]
  },
  {
   "cell_type": "code",
   "execution_count": null,
   "metadata": {},
   "outputs": [],
   "source": [
    "crosstab_all = contingency(df_AEs, id_vac, id_nvac)\n",
    "\n",
    "# save\n",
    "crosstab_all.to_csv('analysis/1a_contigency_table.csv')\n"
   ]
  },
  {
   "cell_type": "code",
   "execution_count": null,
   "metadata": {},
   "outputs": [],
   "source": [
    "crosstab_all"
   ]
  },
  {
   "cell_type": "markdown",
   "metadata": {},
   "source": [
    "#### Chi-squared test"
   ]
  },
  {
   "cell_type": "code",
   "execution_count": null,
   "metadata": {},
   "outputs": [],
   "source": [
    "# define significance treshold\n",
    "alpha = 0.05\n",
    "\n",
    "# perform chi-squared test:\n",
    "stat_1a, p_1a, dof_1a, expected_1a = sp.stats.chi2_contingency(crosstab_all.iloc[0:2,0:2], 1)\n",
    "\n",
    "#save \n",
    "chi_square_1a = pd.DataFrame([[stat_1a, p_1a, dof_1a, expected_1a]],columns=['stat_1a', 'p_1a', 'dof_1a', 'expected_1a'])\n",
    "chi_square_1a.to_csv('analysis/1a_chi_square.csv')"
   ]
  },
  {
   "cell_type": "code",
   "execution_count": null,
   "metadata": {},
   "outputs": [],
   "source": [
    "chi_square_1a"
   ]
  },
  {
   "cell_type": "markdown",
   "metadata": {},
   "source": [
    "#### Risk ratio \n",
    "Done similar to Barda et al., but se and CI calculated as described on https://en.wikipedia.org/wiki/Relative_risk for simplicity. "
   ]
  },
  {
   "cell_type": "code",
   "execution_count": null,
   "metadata": {},
   "outputs": [],
   "source": [
    "def riskratio(crosstab, z = 1.96):\n",
    "    \"\"\"\n",
    "    Calculates the risk ratio.\n",
    "    \n",
    "    Returns the risk ratio with the confidence interval (CI) as a df and the adjusted contingency table:\n",
    "    (RR, crosstab)\n",
    "    \n",
    "    Important: the input (crosstab) needs to have the following format:\n",
    "    - 2x2\n",
    "    - column 0 = events (e.g. AEs, deaths), column 1 = non-events\n",
    "    - row 0 = intervention (e.g. vaccinated), column 1 = non-vaccinated\n",
    "    \"\"\"\n",
    "    \n",
    "    # calculating the risk ratio\n",
    "\n",
    "    # risk of getting AE/ dying when vaccinated\n",
    "    R_vac = crosstab.loc['Vaccinated','event']/crosstab.loc['Vaccinated','Total']\n",
    "    # risk of getting \"AE\" or dying when not vaccinated\n",
    "    R_nvac = crosstab.loc['Not vaccinated', 'event']/crosstab.loc['Not vaccinated', 'Total']\n",
    "\n",
    "    # risk ratio\n",
    "    RR = R_vac / R_nvac\n",
    "    \n",
    "    # natural log of the RR     \n",
    "    logRR = np.log(RR) \n",
    "\n",
    "    # standard error\n",
    "    se = np.sqrt(crosstab.loc['Vaccinated','no event']/ \\\n",
    "                 (crosstab.loc['Vaccinated','event']*crosstab.loc['Vaccinated','Total']) + \\\n",
    "                crosstab.loc['Not vaccinated','no event']/ \\\n",
    "                (crosstab.loc['Not vaccinated','event']*crosstab.loc['Not vaccinated','Total']))\n",
    "\n",
    "    # Assuming normal distribution, 95% lie around 1.96 standard deviations of the mean.\n",
    "    # as 95% CI is common, the z-score (z) 1.96 is put as the default value.\n",
    "\n",
    "    # 1-alpha confidence interval (CI) \n",
    "    CI_lower = np.exp(np.log(RR) - se * z) # lower bound\n",
    "    CI_upper = np.exp(np.log(RR) + se * z) # upper bound    \n",
    "    \n",
    "    # put the result in a series\n",
    "    RR_result = pd.Series(data = [RR, CI_lower, CI_upper], index = ['RR', 'CI_lower', 'CI_upper'])\n",
    "    \n",
    "    return RR_result"
   ]
  },
  {
   "cell_type": "code",
   "execution_count": null,
   "metadata": {},
   "outputs": [],
   "source": [
    "RR_all = riskratio(crosstab_all)\n",
    "\n",
    "# will later be saved after 1b "
   ]
  },
  {
   "cell_type": "code",
   "execution_count": null,
   "metadata": {},
   "outputs": [],
   "source": [
    "RR_all"
   ]
  },
  {
   "cell_type": "markdown",
   "metadata": {},
   "source": [
    "### 1b) Same comparison in subset of subjects with underlying medical condition\n"
   ]
  },
  {
   "cell_type": "markdown",
   "metadata": {},
   "source": [
    "#### Subset df to eids with AEs and underlying disease"
   ]
  },
  {
   "cell_type": "code",
   "execution_count": null,
   "metadata": {
    "scrolled": true
   },
   "outputs": [],
   "source": [
    "# get dataset with only AEs AND people with underlying disease \n",
    "# = adverse events (events after vaccination) of people with underlying disease (= that had an event before vaccination)\n",
    "\n",
    "# subset of the df with all AEs (df_AEs) with only people with underlying diseases (df_AEs_ud)\n",
    "# reminder: leave R as adverse event (and general underlying disease) & Q as underlying disease.\n",
    "\n",
    "# subset of clinical_vac df with only medical events before\n",
    "df_ud= clinical_vac[clinical_vac['before_after_vaccine']== 'before']\n",
    "\n",
    "# drop rows without icd10_code\n",
    "df_ud.dropna(subset = ['icd10_code'], inplace = True)\n",
    "\n",
    "# remove deaths to not consider people that died before\n",
    "df_ud = df_ud[df_ud['icd10_code'] != 'death'] \n",
    "\n",
    "# ICD code R is kept in this analysis of general underlying diseases\n",
    "\n",
    "# get id's of people with an underlying disease\n",
    "id_ud = df_ud['eid'].unique()\n",
    "\n",
    "# subset of the df with AEs with only people with an underlying disease\n",
    "df_AEs_ud = df_AEs[df_AEs['eid'].isin(id_ud)]"
   ]
  },
  {
   "cell_type": "code",
   "execution_count": null,
   "metadata": {},
   "outputs": [],
   "source": [
    "# individuals in subset with only people with underlying disease AND the vaccine\n",
    "id_ud_vac = df_ud[df_ud['vaccinated']==True]['eid'].unique()\n",
    "\n",
    "# individuals in subset with only people with underlying disease AND NOT the vaccine\n",
    "id_ud_nvac = df_ud[df_ud['vaccinated']==False]['eid'].unique()"
   ]
  },
  {
   "cell_type": "markdown",
   "metadata": {},
   "source": [
    "#### Incidence of AE in subjects with underlying disease"
   ]
  },
  {
   "cell_type": "code",
   "execution_count": null,
   "metadata": {},
   "outputs": [],
   "source": [
    "df_sum_ud = incidence(df_AEs_ud, id_ud_vac, id_ud_nvac)\n",
    "\n",
    "# save\n",
    "df_sum_ud.to_csv('analysis/1b_total_AE_table.csv')"
   ]
  },
  {
   "cell_type": "code",
   "execution_count": null,
   "metadata": {},
   "outputs": [],
   "source": [
    "df_sum_ud"
   ]
  },
  {
   "cell_type": "code",
   "execution_count": null,
   "metadata": {},
   "outputs": [],
   "source": [
    "plt.figure(figsize = (5,5))\n",
    "plt.bar(df_sum_ud.index, df_sum_ud['Number of events per thousand individuals'])\n",
    "plt.ylabel('Number of AEs per thousand individuals')\n",
    "plt.title('Adverse events in subjects with underlying diseases')\n",
    "\n",
    "# save figure in vector format, bbox_inches='tight' so that the plot is not cropped\n",
    "plt.savefig('analysis/1b_total_AE_barplot.svg', bbox_inches='tight')"
   ]
  },
  {
   "cell_type": "markdown",
   "metadata": {},
   "source": [
    "#### Chi-squared test"
   ]
  },
  {
   "cell_type": "code",
   "execution_count": null,
   "metadata": {},
   "outputs": [],
   "source": [
    "# contingency table\n",
    "crosstab_ud = contingency(df_AEs_ud, id_ud_vac, id_ud_nvac, index = dict_vacORnot)\n",
    "crosstab_ud.to_csv('analysis/1b_contigency_table.csv')"
   ]
  },
  {
   "cell_type": "code",
   "execution_count": null,
   "metadata": {},
   "outputs": [],
   "source": [
    "# define significance treshold\n",
    "alpha = 0.05\n",
    "\n",
    "# perform chi-squared test:\n",
    "stat_1b, p_1b, dof_1b, expected_1b = sp.stats.chi2_contingency(crosstab_ud.iloc[0:2,0:2], 1)\n",
    "\n",
    "# save\n",
    "chi_square_1b = pd.DataFrame([[stat_1b, p_1b, dof_1b, expected_1b]],columns=['stat_1b', 'p_1b', 'dof_1b', 'expected_1b'])\n",
    "chi_square_1b.to_csv('analysis/1b_chi_square.csv')"
   ]
  },
  {
   "cell_type": "code",
   "execution_count": null,
   "metadata": {},
   "outputs": [],
   "source": [
    "chi_square_1b"
   ]
  },
  {
   "cell_type": "markdown",
   "metadata": {},
   "source": [
    "#### Risk ratio"
   ]
  },
  {
   "cell_type": "code",
   "execution_count": null,
   "metadata": {},
   "outputs": [],
   "source": [
    "RR_ud = riskratio(crosstab_ud)\n",
    "RR_ud\n"
   ]
  },
  {
   "cell_type": "code",
   "execution_count": null,
   "metadata": {},
   "outputs": [],
   "source": [
    "# create a df for collecting the results of the risk ratio to compare the populations\n",
    "\n",
    "# initialize\n",
    "RR_result = pd.DataFrame(index = ['whole population', 'people with underlying diseases'], columns = ['RR', 'CI_lower', 'CI_upper'])\n",
    "\n",
    "# fill it\n",
    "# RR with data from all individuals in the mortality & clinical dataset\n",
    "RR_result.loc['whole population',:] = RR_all\n",
    "# RR with data from all individuals with underlying diseases\n",
    "RR_result.loc['people with underlying diseases',:] = RR_ud\n",
    "\n",
    "RR_result\n",
    "\n",
    "# save \n",
    "pd.DataFrame(RR_result).to_csv('analysis/1a_b_RR_table.csv')"
   ]
  },
  {
   "cell_type": "code",
   "execution_count": null,
   "metadata": {},
   "outputs": [],
   "source": [
    "RR_result"
   ]
  },
  {
   "cell_type": "code",
   "execution_count": null,
   "metadata": {},
   "outputs": [],
   "source": [
    "# plot the difference in RR with CI\n",
    "\n",
    "# general figure configuration\n",
    "plt.figure(figsize = (6,6))\n",
    "plt.xscale(\"log\")\n",
    "plt.axvline(1, ls='--', linewidth=1, color='black')\n",
    "\n",
    "# draw the RR\n",
    "# RR results\n",
    "x = RR_result['RR'].values\n",
    "# error bar with same size in both directions\n",
    "x_error = RR_result['RR']-RR_result['CI_lower']\n",
    "# for equal spacing of the results\n",
    "y = np.arange(len(RR_result))\n",
    "\n",
    "# the plot\n",
    "plt.errorbar(x, y, xerr = x_error, marker = \"o\", markersize = 10, color = 'b', ls='none')\n",
    "\n",
    "# labelling\n",
    "plt.xlabel('Risk Ratio (log scale)')\n",
    "plt.title('Risk ratio of vaccination in people with underlying diseases or the general population') # renee: Risk ratio of vaccination on an adverse event in subjects with underlying diseases and the entire population\n",
    "# labelling with ICD10 categories\n",
    "plt.yticks(ticks = y, labels = RR_result.index) \n",
    "plt.ylim(-0.5,1.5)\n",
    "\n",
    "# save figure in vector format, bbox_inches='tight' so that the plot is not cropped\n",
    "plt.savefig('analysis/1a_b_RR_plot.svg', bbox_inches='tight')"
   ]
  },
  {
   "cell_type": "markdown",
   "metadata": {},
   "source": [
    "### 1c) Same comparison in subset of subjects with specific underlying medical condition "
   ]
  },
  {
   "cell_type": "markdown",
   "metadata": {},
   "source": [
    "#### Loop through the ICD-10 categories"
   ]
  },
  {
   "cell_type": "markdown",
   "metadata": {
    "id": "7Bw4hTHD2Rg8"
   },
   "source": [
    "ICD10 codes are structured. The following website was used for looking up the meanings of the categories (e.g. respiratory diseases):\n",
    "https://www.icd10data.com/ICD10CM/Codes"
   ]
  },
  {
   "cell_type": "code",
   "execution_count": null,
   "metadata": {},
   "outputs": [],
   "source": [
    "# dictionary of disease categories to analyse, from https://www.icd10data.com/ICD10CM/Codes\n",
    "dict_cat = {('A','B'):'Certain infectious and parasitic diseases',\n",
    "           ('C','D0','D1','D2','D3','D4'):'Neoplasms',\n",
    "           ('D5','D6','D7','D8'):'Diseases of the blood and blood-forming organs and certain disorders involving the immune mechanism',\n",
    "           'E':'Endocrine, nutritional and metabolic diseases',\n",
    "           'F':'Mental, Behavioral and Neurodevelopmental disorders',\n",
    "           'G':'Diseases of the nervous system',\n",
    "           ('H0','H1','H2','H3','H4','H5'):'Diseases of the eye and adnexa',\n",
    "           ('H6','H7','H8', 'H9'): 'Diseases of the ear and mastoid process',\n",
    "           'I':'Diseases of the circulatory system',\n",
    "           'J':'Diseases of the respiratory system',\n",
    "           'K':'Diseases of the digestive system',\n",
    "           'L':'Diseases of the skin and subcutaneous tissue',\n",
    "           'M':'Diseases of the musculoskeletal system and connective tissue',\n",
    "           'N':'Diseases of the genitourinary system',\n",
    "           'Q':'Congenital malformations, deformations and chromosomal abnormalities'}\n",
    "\n",
    "# As mentioned by Barda et al., adjustment for multiple comparisons is not commonly done in studies regarding safety.\n",
    "alpha = 0.05\n",
    "\n",
    "# initialize \n",
    "# dataframe for collecting number of AEs per thousands with/without vaccinated people for all categories\n",
    "df_sum_cat_all = pd.DataFrame(columns = dict_vacORnot, index=dict_cat.values()) \n",
    "\n",
    "# df for saving categories & their p-values\n",
    "#df_chi2_cat = pd.DataFrame(columns = ['p-value', 'significant'], index=dict_cat.values())\n",
    "\n",
    "# df for saving the risk ratio and CIs for the plot\n",
    "RR_result_cat = pd.DataFrame(index = dict_cat.values(), columns = ['RR', 'CI_lower', 'CI_upper'])\n",
    "\n",
    "# df for saving categories and their p-value, significance, RR and CI\n",
    "df_combined = pd.DataFrame(columns = ['P-value', 'Significant', 'Risk Ratio', 'Confidence Interval'], index = dict_cat.values())\n",
    "\n",
    "\n",
    "\n",
    "for i, ic in enumerate(dict_cat): # loop over ICD10 codes of each disease category\n",
    "    \n",
    "    # get dataset with only AEs AND people with specific underlying disease\n",
    "    # subset of the df with all AEs (df_AEs) with only people with specific underlying diseases\n",
    "    # reminder: leave R as adverse event & Q as underlying disease.\n",
    "    # df_ud = subset of clinical_vac df with only diagnoses before vaccine as defined further above\n",
    "\n",
    "    # subset with only underlying diseases within the specific category\n",
    "    df_cat = df_ud[df_ud['icd10_code'].str.startswith(ic)]\n",
    "\n",
    "    # IDs with underlying disease in the specific category\n",
    "    id_cat = df_cat['eid'].unique()\n",
    "\n",
    "    # subset of the df with AEs with only people with underlying disease in the specific category\n",
    "    df_AEs_cat = df_AEs[df_AEs['eid'].isin(id_cat)]\n",
    "\n",
    "    # get IDs of individuals in this subset with vs without vaccine \n",
    "    id_cat_vac = df_cat[df_cat['vaccinated']==True]['eid'].unique() # with vaccine\n",
    "    id_cat_nvac = df_cat[df_cat['vaccinated']==False]['eid'].unique() # without vaccine\n",
    "\n",
    "    ################################################################################\n",
    "    # calculate the number of AEs per thousand people and save the result in a table\n",
    "    df_sum_cat = incidence(df_AEs_cat, id_cat_vac, id_cat_nvac)\n",
    "    \n",
    "    # put in the values from the summary incidence table\n",
    "    df_sum_cat_all.loc[dict_cat[ic],:] = df_sum_cat.loc[:, 'Number of events per thousand individuals']\n",
    "    \n",
    "    \n",
    "    ################################################################################    \n",
    "    # contingency table\n",
    "    crosstab_cat = contingency(df_AEs_cat, id_cat_vac, id_cat_nvac, index = dict_vacORnot)\n",
    "    \n",
    "    ###############################################################################\n",
    "    # perform chi-squared test:\n",
    "    stat, p, dof, expected = sp.stats.chi2_contingency(crosstab_cat.iloc[0:2,0:2], 1)     ## changed crosstab_ud to crosstab_cat\n",
    "\n",
    "    # save the p-value in the df\n",
    "    df_combined.loc[dict_cat[ic],'P-value'] = p\n",
    "    \n",
    "    # mark in which categories there is a significant difference between vaccinated and not vaccinated\n",
    "    if p <= alpha/2: # divided by two because of two-sided test (number of AEs could be higher or lower in vaccinated)\n",
    "        df_combined.loc[dict_cat[ic],'Significant'] = 'Yes'\n",
    "    else:\n",
    "        df_combined.loc[dict_cat[ic],'Significant'] = 'No'\n",
    "       \n",
    "    \n",
    "    ###############################################################################\n",
    "    # risk ratio\n",
    "    RR_cat = riskratio(crosstab_cat)\n",
    "\n",
    "    # fill the df with the RR results for the plot\n",
    "    RR_result_cat.loc[dict_cat[ic],:] = RR_cat\n",
    "    \n",
    "    # round to one more decimal place than the original data has\n",
    "    CI_rounded = (round(RR_cat[1], 2), round(RR_cat[2], 2)) \n",
    "    \n",
    "    # new fill df with RR\n",
    "    df_combined.loc[dict_cat[ic], ['Risk Ratio', 'Confidence Interval']] = round(RR_cat[0],2) , CI_rounded\n",
    "    \n",
    "    \n"
   ]
  },
  {
   "cell_type": "markdown",
   "metadata": {},
   "source": [
    "#### Total number of AEs in ICD-10 categories"
   ]
  },
  {
   "cell_type": "code",
   "execution_count": null,
   "metadata": {},
   "outputs": [],
   "source": [
    "# total number of AEs in different categories\n",
    "df_sum_cat_all.sort_values(by = 'Vaccinated', ascending = False, inplace = True) # sorting\n",
    "\n",
    "# save\n",
    "df_sum_cat_all.to_csv('analysis/1c_total_AE_table.csv')"
   ]
  },
  {
   "cell_type": "code",
   "execution_count": null,
   "metadata": {},
   "outputs": [],
   "source": [
    "df_sum_cat_all"
   ]
  },
  {
   "cell_type": "markdown",
   "metadata": {},
   "source": [
    "#### Outcomes of Chi squared test and RR"
   ]
  },
  {
   "cell_type": "code",
   "execution_count": null,
   "metadata": {},
   "outputs": [],
   "source": [
    "# df with p-value, significance, RR and CI\n",
    "df_combined.to_csv('analysis/1c_chi_square_RR_table.csv')"
   ]
  },
  {
   "cell_type": "code",
   "execution_count": null,
   "metadata": {},
   "outputs": [],
   "source": [
    "df_combined"
   ]
  },
  {
   "cell_type": "code",
   "execution_count": null,
   "metadata": {},
   "outputs": [],
   "source": [
    "plt.figure(figsize = (8,8))\n",
    "\n",
    "# plot results for vaccinated and not on top of each other\n",
    "for v in dict_vacORnot:\n",
    "    plt.barh(df_sum_cat_all.index, df_sum_cat_all[v], alpha = 0.5, label = v)\n",
    "\n",
    "# labelling\n",
    "plt.title('Adverse events in people with diseases in specific ICD10 categories')\n",
    "plt.xlabel('Number of AEs per thousand individuals')\n",
    "plt.legend(loc = \"upper right\")\n",
    "\n",
    "# save figure in vector format, bbox_inches='tight' so that the plot is not cropped\n",
    "plt.savefig('analysis/1c_AE_barplot.svg', bbox_inches='tight')"
   ]
  },
  {
   "cell_type": "code",
   "execution_count": null,
   "metadata": {},
   "outputs": [],
   "source": [
    "# plot the RR with CI\n",
    "\n",
    "# general figure configuration\n",
    "plt.figure(figsize = (6,6))\n",
    "plt.xscale(\"log\")\n",
    "plt.axvline(1, ls='--', linewidth=1, color='black')\n",
    "\n",
    "# draw the RR\n",
    "# RR results\n",
    "x = RR_result_cat['RR'].values\n",
    "# error bar with same size in both directions\n",
    "x_error = RR_result_cat['RR']-RR_result_cat['CI_lower']\n",
    "# for equal spacing of the results\n",
    "y = np.arange(len(RR_result_cat))\n",
    "\n",
    "# the plot\n",
    "plt.errorbar(x, y, xerr = x_error, marker = \"o\", markersize = 10, color = 'b', ls='none')\n",
    "\n",
    "# labelling\n",
    "plt.xlabel('Risk Ratio (log scale)')\n",
    "plt.title('Risk ratio of vaccination in people with underlying diseases in different ICD10 categories')\n",
    "# labelling with ICD10 categories\n",
    "plt.yticks(ticks = y, labels = RR_result_cat.index) \n",
    "\n",
    "# save figure in vector format, bbox_inches='tight' so that the plot is not cropped\n",
    "plt.savefig('analysis/1c_AE_RR.svg', bbox_inches='tight')"
   ]
  },
  {
   "cell_type": "markdown",
   "metadata": {},
   "source": [
    "## 2) Effect of the vaccination on mortality"
   ]
  },
  {
   "cell_type": "markdown",
   "metadata": {},
   "source": [
    "### 2a) Comparison of mortality rate after vaccination of vaccinated and unvaccinated people"
   ]
  },
  {
   "cell_type": "markdown",
   "metadata": {},
   "source": [
    "#### Subset clinical df to only death entries"
   ]
  },
  {
   "cell_type": "code",
   "execution_count": null,
   "metadata": {},
   "outputs": [],
   "source": [
    "# subset of clinical_vac dataset for adverse events (=after vaccine)\n",
    "df_deaths = clinical_vac[clinical_vac['before_after_vaccine']== 'after']\n",
    "\n",
    "# make dataframe with only deaths \n",
    "df_deaths = df_deaths[df_deaths['icd10_code'] == 'death'] "
   ]
  },
  {
   "cell_type": "markdown",
   "metadata": {},
   "source": [
    "#### Mortality in entire study population"
   ]
  },
  {
   "cell_type": "markdown",
   "metadata": {},
   "source": [
    "Make contingency table (not using pd.crosstab to avoid another huge dataset with all individuals and because we need to count unique IDs)"
   ]
  },
  {
   "cell_type": "code",
   "execution_count": null,
   "metadata": {},
   "outputs": [],
   "source": [
    "crosstab_all_deaths = contingency(df_deaths, id_vac, id_nvac)\n",
    "\n",
    "# save\n",
    "crosstab_all_deaths.to_csv('analysis/2a_contigency_table.csv')"
   ]
  },
  {
   "cell_type": "code",
   "execution_count": null,
   "metadata": {},
   "outputs": [],
   "source": [
    "crosstab_all_deaths\n"
   ]
  },
  {
   "cell_type": "markdown",
   "metadata": {},
   "source": [
    "#### Chi-squared test"
   ]
  },
  {
   "cell_type": "code",
   "execution_count": null,
   "metadata": {},
   "outputs": [],
   "source": [
    "# perform chi-squared test and name variavles differently for each test\n",
    "# e.g. 1a, 1b, etc.\n",
    "stat_2a, p_2a, dof_2a, expected_2a = sp.stats.chi2_contingency(crosstab_all_deaths.iloc[0:2,0:2], 1)\n",
    "\n",
    "# save\n",
    "chi_square_2a = pd.DataFrame([[stat_2a, p_2a, dof_2a, expected_2a]],columns=['stat_2a', 'p_2a', 'dof_2a', 'expected_2a'])\n",
    "chi_square_2a.to_csv('analysis/2a_chi_square.csv')"
   ]
  },
  {
   "cell_type": "code",
   "execution_count": null,
   "metadata": {},
   "outputs": [],
   "source": [
    "chi_square_2a"
   ]
  },
  {
   "cell_type": "markdown",
   "metadata": {},
   "source": [
    "#### Risk ratio"
   ]
  },
  {
   "cell_type": "code",
   "execution_count": null,
   "metadata": {},
   "outputs": [],
   "source": [
    "RR_all_deaths = riskratio(crosstab_all_deaths)\n",
    "\n",
    "# save together with 2b"
   ]
  },
  {
   "cell_type": "code",
   "execution_count": null,
   "metadata": {},
   "outputs": [],
   "source": [
    "RR_all_deaths"
   ]
  },
  {
   "cell_type": "markdown",
   "metadata": {},
   "source": [
    "### 2b) Same comparison in subset of subjects with underlying medical condition"
   ]
  },
  {
   "cell_type": "code",
   "execution_count": null,
   "metadata": {},
   "outputs": [],
   "source": [
    "# subset of the df with deaths with only people with an underlying disease\n",
    "df_deaths_ud = df_deaths[df_deaths['eid'].isin(id_ud)]"
   ]
  },
  {
   "cell_type": "code",
   "execution_count": null,
   "metadata": {},
   "outputs": [],
   "source": [
    "df_deaths_ud\n",
    "# no deaths in people with underlying disease in this sample (but probably because there are mainly different eids in the mortality and clinical samples)"
   ]
  },
  {
   "cell_type": "markdown",
   "metadata": {},
   "source": [
    "Chi-squared test"
   ]
  },
  {
   "cell_type": "code",
   "execution_count": null,
   "metadata": {},
   "outputs": [],
   "source": [
    "# contingency table\n",
    "crosstab_ud_deaths = contingency(df_deaths_ud, id_ud_vac, id_ud_nvac, index = dict_vacORnot)\n",
    "\n",
    "# save\n",
    "crosstab_ud_deaths.to_csv('analysis/2b_contigency_table.csv')"
   ]
  },
  {
   "cell_type": "code",
   "execution_count": null,
   "metadata": {},
   "outputs": [],
   "source": [
    "crosstab_ud_deaths"
   ]
  },
  {
   "cell_type": "code",
   "execution_count": null,
   "metadata": {},
   "outputs": [],
   "source": [
    "# perform chi-squared test:\n",
    "stat_2b, p_2b, dof_2b, expected_2b = sp.stats.chi2_contingency(crosstab_ud_deaths.iloc[0:2,0:2], 1)\n",
    "\n",
    "# save\n",
    "chi_square_2b = pd.DataFrame([[stat_2b, p_2b, dof_2b, expected_2b]],columns=['stat_2b', 'p_2b', 'dof_2b', 'expected_2b']) # edited\n",
    "chi_square_2b.to_csv('analysis/2b_chi_square.csv')\n"
   ]
  },
  {
   "cell_type": "code",
   "execution_count": null,
   "metadata": {},
   "outputs": [],
   "source": [
    "chi_square_2b"
   ]
  },
  {
   "cell_type": "markdown",
   "metadata": {},
   "source": [
    "Calculate and plot risk ratio"
   ]
  },
  {
   "cell_type": "code",
   "execution_count": null,
   "metadata": {},
   "outputs": [],
   "source": [
    "RR_ud_deaths = riskratio(crosstab_ud_deaths)"
   ]
  },
  {
   "cell_type": "code",
   "execution_count": null,
   "metadata": {},
   "outputs": [],
   "source": [
    "RR_ud_deaths"
   ]
  },
  {
   "cell_type": "code",
   "execution_count": null,
   "metadata": {},
   "outputs": [],
   "source": [
    "# create a df for collecting the results of the risk ratio to compare the populations\n",
    "\n",
    "# initialize\n",
    "RR_result_deaths = pd.DataFrame(index = ['Whole population', 'People with underlying diseases'], columns = ['RR', 'CI_lower', 'CI_upper'])\n",
    "\n",
    "# fill it\n",
    "# RR with data from all individuals in the mortality & clinical dataset\n",
    "RR_result_deaths.loc['Whole population',:] = RR_all_deaths\n",
    "# RR with data from all individuals with underlying diseases\n",
    "RR_result_deaths.loc['People with underlying diseases',:] = RR_ud_deaths\n",
    "\n",
    "# save\n",
    "pd.DataFrame(RR_result_deaths).to_csv('analysis/1a_b_RR.csv')"
   ]
  },
  {
   "cell_type": "code",
   "execution_count": null,
   "metadata": {},
   "outputs": [],
   "source": [
    "RR_result_deaths"
   ]
  },
  {
   "cell_type": "code",
   "execution_count": null,
   "metadata": {
    "scrolled": false
   },
   "outputs": [],
   "source": [
    "# plot the difference in RR with CI\n",
    "\n",
    "# general figure configuration\n",
    "plt.figure(figsize = (6,6))\n",
    "plt.xscale(\"log\")\n",
    "plt.axvline(1, ls='--', linewidth=1, color='black')\n",
    "\n",
    "# draw the RR\n",
    "# RR results\n",
    "x = RR_result_deaths['RR'].values\n",
    "# error bar with same size in both directions\n",
    "x_error = RR_result_deaths['RR']-RR_result_deaths['CI_lower']\n",
    "# for equal spacing of the results\n",
    "y = np.arange(len(RR_result_deaths))\n",
    "\n",
    "# the plot\n",
    "plt.errorbar(x, y, xerr = x_error, marker = \"o\", markersize = 10, color = 'b', ls='none')\n",
    "\n",
    "# labelling\n",
    "plt.xlabel('Risk Ratio (log scale)')\n",
    "plt.title('Risk ratio of vaccination on death in subjects with underlying diseases or the general population') \n",
    "# labelling with ICD10 categories\n",
    "plt.yticks(ticks = y, labels = RR_result_deaths.index) \n",
    "plt.ylim(-0.5,1.5)\n",
    "\n",
    "# save figure in vector format, bbox_inches='tight' so that the plot is not cropped\n",
    "plt.savefig('analysis/2a_b_RR_plot.svg', bbox_inches='tight')"
   ]
  },
  {
   "cell_type": "markdown",
   "metadata": {},
   "source": [
    "### 2c) Same comparison in subset of subjects with specific underlying medical condition "
   ]
  },
  {
   "cell_type": "code",
   "execution_count": null,
   "metadata": {
    "scrolled": true
   },
   "outputs": [],
   "source": [
    "# initialize \n",
    "\n",
    "# dataframe for collecting number of AEs per thousands with/without vaccinated people for all categories\n",
    "df_sum_cat_all_deaths = pd.DataFrame(columns = dict_vacORnot, index=dict_cat.values()) \n",
    "\n",
    "# df for saving the risk ratio and CI\n",
    "RR_result_cat_deaths = pd.DataFrame(index = dict_cat.values(), columns = ['RR', 'CI_lower', 'CI_upper'])\n",
    "\n",
    "# df for saving categories and their p-value, significance, RR and CI\n",
    "df_combined_deaths = pd.DataFrame(columns = ['P-value', 'Significant', 'Risk Ratio', 'Confidence Interval'], index = dict_cat.values())\n",
    "\n",
    "\n",
    "for i, ic in enumerate(dict_cat): # loop over ICD10 codes of each disease category\n",
    "    \n",
    "    # get dataset with only deaths AND people with specific underlying disease\n",
    "    # subset of the df with all deaths (df_deaths) with only people with specific underlying diseases\n",
    "    # reminder: leave R as adverse event & Q as underlying disease.\n",
    "    # df_ud = subset of clinical_vac df with only diagnoses before vaccine as defined further above\n",
    "\n",
    "    # subset with only underlying diseases within the specific category (=ic)\n",
    "    df_cat = df_ud[df_ud['icd10_code'].str.startswith(ic)]\n",
    "\n",
    "    # IDs with underlying disease in the specific category\n",
    "    id_cat = df_cat['eid'].unique()\n",
    "\n",
    "    # subset of the df with deaths after vaccination only in people with underlying disease in the specific category\n",
    "    df_deaths_cat = df_deaths[df_deaths['eid'].isin(id_cat)]\n",
    "\n",
    "    # get IDs of individuals in this subset with vs without vaccine \n",
    "    id_cat_vac = df_cat[df_cat['vaccinated']==True]['eid'].unique() # with vaccine\n",
    "    id_cat_nvac = df_cat[df_cat['vaccinated']==False]['eid'].unique() # without vaccine\n",
    "\n",
    "    ################################################################################\n",
    "    # calculate the number of deaths per thousand people and save the result in a table\n",
    "    df_sum_cat_deaths = incidence(df_deaths_cat, id_cat_vac, id_cat_nvac)\n",
    "    \n",
    "    # put in the values from the summary table\n",
    "    df_sum_cat_all_deaths.loc[dict_cat[ic],:] = df_sum_cat_deaths.loc[:,'Number of events per thousand individuals']\n",
    "    \n",
    "    \n",
    "    ################################################################################    \n",
    "    # contingency table\n",
    "    crosstab_cat = contingency(df_deaths_cat, id_cat_vac, id_cat_nvac, index = dict_vacORnot)\n",
    "    \n",
    "    ###############################################################################\n",
    "    # perform chi-squared test:\n",
    "    stat, p, dof, expected = sp.stats.chi2_contingency(crosstab_cat.iloc[0:2,0:2], 1)       # changed to crosstab_cat from crosstab_ud\n",
    "    \n",
    "    # save the p-value in the df\n",
    "    df_combined_deaths.loc[dict_cat[ic],'P-value'] = p\n",
    "    \n",
    "    # mark in which categories there is a significant difference between vaccinated and not vaccinated\n",
    "    if p <= alpha/2: # divided by two because of two-sided test (number of AEs could be higher or lower in vaccinated)\n",
    "        df_combined_deaths.loc[dict_cat[ic],'Significant'] = 'Yes'\n",
    "    else:\n",
    "        df_combined_deaths.loc[dict_cat[ic],'Significant'] = 'No'\n",
    "       \n",
    "    ###############################################################################\n",
    "    # risk ratio\n",
    "    RR_cat = riskratio(crosstab_cat)\n",
    "\n",
    "    # fill the df with the RR results for the plot later\n",
    "    RR_result_cat_deaths.loc[dict_cat[ic],:] = RR_cat\n",
    "    \n",
    "    CI_rounded = (round(RR_cat[1], 2), round(RR_cat[2], 2)) # round to one more decimal place than the original data has\n",
    "    \n",
    "    # fill df with RR\n",
    "    df_combined_deaths.loc[dict_cat[ic], ['Risk Ratio', 'Confidence Interval']] = round(RR_cat[0],2) , CI_rounded\n",
    "    \n",
    "\n",
    "df_sum_cat_all_deaths.sort_values(by = 'Vaccinated', ascending = False, inplace = True) # sorting\n",
    "\n",
    "# save\n",
    "df_sum_cat_all_deaths.to_csv('analysis/2c_total_mortality_table.csv')"
   ]
  },
  {
   "cell_type": "code",
   "execution_count": null,
   "metadata": {},
   "outputs": [],
   "source": [
    "# df with p-value, significance, RR and CI\n",
    "df_combined_deaths.to_csv('analysis/2c_chi_square_RR_table.csv')"
   ]
  },
  {
   "cell_type": "code",
   "execution_count": null,
   "metadata": {},
   "outputs": [],
   "source": [
    "df_combined_deaths"
   ]
  },
  {
   "cell_type": "code",
   "execution_count": null,
   "metadata": {},
   "outputs": [],
   "source": [
    "plt.figure(figsize = (8,8))\n",
    "\n",
    "# plot results for vaccinated and not on top of each other\n",
    "for v in dict_vacORnot:\n",
    "    plt.barh(df_sum_cat_all_deaths.index, df_sum_cat_all_deaths[v], alpha = 0.5, label = v)\n",
    "\n",
    "# labelling\n",
    "plt.title('Deaths in subjects with underlying diseases in specific ICD10 categories')\n",
    "plt.xlabel('Number of deaths per thousand individuals')\n",
    "plt.legend(loc = \"upper right\")\n",
    "\n",
    "# save figure in vector format, bbox_inches='tight' so that the plot is not cropped\n",
    "plt.savefig('analysis/2c_deaths_barplot.svg', bbox_inches='tight')"
   ]
  },
  {
   "cell_type": "code",
   "execution_count": null,
   "metadata": {},
   "outputs": [],
   "source": [
    "# plot the RR with CI\n",
    "\n",
    "# general figure configuration\n",
    "plt.figure(figsize = (6,6))\n",
    "plt.xscale(\"log\")\n",
    "plt.axvline(1, ls='--', linewidth=1, color='black')\n",
    "\n",
    "# draw the RR\n",
    "# RR results\n",
    "x = RR_result_cat_deaths['RR'].values\n",
    "# error bar with same size in both directions\n",
    "x_error = RR_result_cat_deaths['RR']-RR_result_cat_deaths['CI_lower']\n",
    "# for equal spacing of the results\n",
    "y = np.arange(len(RR_result_cat_deaths))\n",
    "\n",
    "# the plot\n",
    "plt.errorbar(x, y, xerr = x_error, marker = \"o\", markersize = 10, color = 'b', ls='none')\n",
    "\n",
    "# labelling\n",
    "plt.xlabel('Risk Ratio (log scale)')\n",
    "plt.title('Risk ratio of vaccination in people with underlying diseases in different ICD10 categories') # renee: Risk ratio of vaccination on an adverse event in subjects with underlying diseases in specific ICD-10 categories\n",
    "# labelling with ICD10 categories\n",
    "plt.yticks(ticks = y, labels = RR_result_cat_deaths.index) \n",
    "\n",
    "# save figure in vector format, bbox_inches='tight' so that the plot is not cropped\n",
    "plt.savefig('analysis/2c_deaths_RR.svg', bbox_inches='tight')"
   ]
  },
  {
   "cell_type": "markdown",
   "metadata": {},
   "source": [
    "### Statistics"
   ]
  },
  {
   "cell_type": "markdown",
   "metadata": {},
   "source": [
    "The effect of the vaccination status on the occurrence of adverse events and death was assessed in three different populations:\n",
    "- the entire study population\n",
    "- subjects with any underlying (unspecific) condition\n",
    "- subjects with specific underlying conditions\n",
    "\n",
    "These relationships were evaluated with a Chi-Square Test of Independence and a calculated risk ratio (RR) with a 95% confidence interval (CI)."
   ]
  },
  {
   "cell_type": "markdown",
   "metadata": {},
   "source": [
    "# 3. Results"
   ]
  },
  {
   "cell_type": "markdown",
   "metadata": {},
   "source": [
    "A total of 648'917 subjects are represented in the two datasets 'clinical' and 'mortality' retrieved from the UK Biobank in August 2021. Out of this study population, 502'460 subjects did not get their first dose of the COVID-19 vaccination (yet), whereas 146'457 individuals got their first shot already. "
   ]
  },
  {
   "cell_type": "markdown",
   "metadata": {},
   "source": [
    "## 1) Effect of the vaccination on adverse events"
   ]
  },
  {
   "cell_type": "markdown",
   "metadata": {},
   "source": [
    "### 1a) Comparison of occurrence of adverse events after vaccination of vaccinated and unvaccinated people"
   ]
  },
  {
   "cell_type": "markdown",
   "metadata": {},
   "source": [
    "When comparing the total number of adverse events (multiple events per subject in some cases) per thousand subjects after vaccination, or the randomly allocated issue date, respectively, the vaccinated group showed a drastically higher number (N = 656.6) than the unvaccinated group (N = 88.3). This can be appreciated in Figure 1."
   ]
  },
  {
   "cell_type": "code",
   "execution_count": 6,
   "metadata": {},
   "outputs": [
    {
     "data": {
      "image/svg+xml": "<svg xmlns=\"http://www.w3.org/2000/svg\" xmlns:xlink=\"http://www.w3.org/1999/xlink\" height=\"323.39625pt\" version=\"1.1\" viewBox=\"0 0 356.874062 323.39625\" width=\"356.874062pt\">\n <defs>\n  <style type=\"text/css\">\n*{stroke-linecap:butt;stroke-linejoin:round;}\n  </style>\n </defs>\n <g id=\"figure_1\">\n  <g id=\"patch_1\">\n   <path d=\"M 0 323.39625  L 356.874062 323.39625  L 356.874062 0  L 0 0  z \" style=\"fill:#ffffff;\"/>\n  </g>\n  <g id=\"axes_1\">\n   <g id=\"patch_2\">\n    <path d=\"M 46.965625 299.518125  L 325.965625 299.518125  L 325.965625 22.318125  L 46.965625 22.318125  z \" style=\"fill:#ffffff;\"/>\n   </g>\n   <g id=\"patch_3\">\n    <path clip-path=\"url(#ped5b25410b)\" d=\"M 59.647443 299.518125  L 172.374716 299.518125  L 172.374716 35.518125  L 59.647443 35.518125  z \" style=\"fill:#1f77b4;\"/>\n   </g>\n   <g id=\"patch_4\">\n    <path clip-path=\"url(#ped5b25410b)\" d=\"M 200.556534 299.518125  L 313.283807 299.518125  L 313.283807 296.167329  L 200.556534 296.167329  z \" style=\"fill:#1f77b4;\"/>\n   </g>\n   <g id=\"matplotlib.axis_1\">\n    <g id=\"xtick_1\">\n     <g id=\"line2d_1\">\n      <defs>\n       <path d=\"M 0 0  L 0 3.5  \" id=\"m876644c519\" style=\"stroke:#000000;stroke-width:0.8;\"/>\n      </defs>\n      <g>\n       <use style=\"stroke:#000000;stroke-width:0.8;\" x=\"116.01108\" xlink:href=\"#m876644c519\" y=\"299.518125\"/>\n      </g>\n     </g>\n     <g id=\"text_1\">\n      <!-- Vaccinated -->\n      <defs>\n       <path d=\"M 28.609375 0  L 0.78125 72.90625  L 11.078125 72.90625  L 34.1875 11.53125  L 57.328125 72.90625  L 67.578125 72.90625  L 39.796875 0  z \" id=\"DejaVuSans-86\"/>\n       <path d=\"M 34.28125 27.484375  Q 23.390625 27.484375 19.1875 25  Q 14.984375 22.515625 14.984375 16.5  Q 14.984375 11.71875 18.140625 8.90625  Q 21.296875 6.109375 26.703125 6.109375  Q 34.1875 6.109375 38.703125 11.40625  Q 43.21875 16.703125 43.21875 25.484375  L 43.21875 27.484375  z M 52.203125 31.203125  L 52.203125 0  L 43.21875 0  L 43.21875 8.296875  Q 40.140625 3.328125 35.546875 0.953125  Q 30.953125 -1.421875 24.3125 -1.421875  Q 15.921875 -1.421875 10.953125 3.296875  Q 6 8.015625 6 15.921875  Q 6 25.140625 12.171875 29.828125  Q 18.359375 34.515625 30.609375 34.515625  L 43.21875 34.515625  L 43.21875 35.40625  Q 43.21875 41.609375 39.140625 45  Q 35.0625 48.390625 27.6875 48.390625  Q 23 48.390625 18.546875 47.265625  Q 14.109375 46.140625 10.015625 43.890625  L 10.015625 52.203125  Q 14.9375 54.109375 19.578125 55.046875  Q 24.21875 56 28.609375 56  Q 40.484375 56 46.34375 49.84375  Q 52.203125 43.703125 52.203125 31.203125  z \" id=\"DejaVuSans-97\"/>\n       <path d=\"M 48.78125 52.59375  L 48.78125 44.1875  Q 44.96875 46.296875 41.140625 47.34375  Q 37.3125 48.390625 33.40625 48.390625  Q 24.65625 48.390625 19.8125 42.84375  Q 14.984375 37.3125 14.984375 27.296875  Q 14.984375 17.28125 19.8125 11.734375  Q 24.65625 6.203125 33.40625 6.203125  Q 37.3125 6.203125 41.140625 7.25  Q 44.96875 8.296875 48.78125 10.40625  L 48.78125 2.09375  Q 45.015625 0.34375 40.984375 -0.53125  Q 36.96875 -1.421875 32.421875 -1.421875  Q 20.0625 -1.421875 12.78125 6.34375  Q 5.515625 14.109375 5.515625 27.296875  Q 5.515625 40.671875 12.859375 48.328125  Q 20.21875 56 33.015625 56  Q 37.15625 56 41.109375 55.140625  Q 45.0625 54.296875 48.78125 52.59375  z \" id=\"DejaVuSans-99\"/>\n       <path d=\"M 9.421875 54.6875  L 18.40625 54.6875  L 18.40625 0  L 9.421875 0  z M 9.421875 75.984375  L 18.40625 75.984375  L 18.40625 64.59375  L 9.421875 64.59375  z \" id=\"DejaVuSans-105\"/>\n       <path d=\"M 54.890625 33.015625  L 54.890625 0  L 45.90625 0  L 45.90625 32.71875  Q 45.90625 40.484375 42.875 44.328125  Q 39.84375 48.1875 33.796875 48.1875  Q 26.515625 48.1875 22.3125 43.546875  Q 18.109375 38.921875 18.109375 30.90625  L 18.109375 0  L 9.078125 0  L 9.078125 54.6875  L 18.109375 54.6875  L 18.109375 46.1875  Q 21.34375 51.125 25.703125 53.5625  Q 30.078125 56 35.796875 56  Q 45.21875 56 50.046875 50.171875  Q 54.890625 44.34375 54.890625 33.015625  z \" id=\"DejaVuSans-110\"/>\n       <path d=\"M 18.3125 70.21875  L 18.3125 54.6875  L 36.8125 54.6875  L 36.8125 47.703125  L 18.3125 47.703125  L 18.3125 18.015625  Q 18.3125 11.328125 20.140625 9.421875  Q 21.96875 7.515625 27.59375 7.515625  L 36.8125 7.515625  L 36.8125 0  L 27.59375 0  Q 17.1875 0 13.234375 3.875  Q 9.28125 7.765625 9.28125 18.015625  L 9.28125 47.703125  L 2.6875 47.703125  L 2.6875 54.6875  L 9.28125 54.6875  L 9.28125 70.21875  z \" id=\"DejaVuSans-116\"/>\n       <path d=\"M 56.203125 29.59375  L 56.203125 25.203125  L 14.890625 25.203125  Q 15.484375 15.921875 20.484375 11.0625  Q 25.484375 6.203125 34.421875 6.203125  Q 39.59375 6.203125 44.453125 7.46875  Q 49.3125 8.734375 54.109375 11.28125  L 54.109375 2.78125  Q 49.265625 0.734375 44.1875 -0.34375  Q 39.109375 -1.421875 33.890625 -1.421875  Q 20.796875 -1.421875 13.15625 6.1875  Q 5.515625 13.8125 5.515625 26.8125  Q 5.515625 40.234375 12.765625 48.109375  Q 20.015625 56 32.328125 56  Q 43.359375 56 49.78125 48.890625  Q 56.203125 41.796875 56.203125 29.59375  z M 47.21875 32.234375  Q 47.125 39.59375 43.09375 43.984375  Q 39.0625 48.390625 32.421875 48.390625  Q 24.90625 48.390625 20.390625 44.140625  Q 15.875 39.890625 15.1875 32.171875  z \" id=\"DejaVuSans-101\"/>\n       <path d=\"M 45.40625 46.390625  L 45.40625 75.984375  L 54.390625 75.984375  L 54.390625 0  L 45.40625 0  L 45.40625 8.203125  Q 42.578125 3.328125 38.25 0.953125  Q 33.9375 -1.421875 27.875 -1.421875  Q 17.96875 -1.421875 11.734375 6.484375  Q 5.515625 14.40625 5.515625 27.296875  Q 5.515625 40.1875 11.734375 48.09375  Q 17.96875 56 27.875 56  Q 33.9375 56 38.25 53.625  Q 42.578125 51.265625 45.40625 46.390625  z M 14.796875 27.296875  Q 14.796875 17.390625 18.875 11.75  Q 22.953125 6.109375 30.078125 6.109375  Q 37.203125 6.109375 41.296875 11.75  Q 45.40625 17.390625 45.40625 27.296875  Q 45.40625 37.203125 41.296875 42.84375  Q 37.203125 48.484375 30.078125 48.484375  Q 22.953125 48.484375 18.875 42.84375  Q 14.796875 37.203125 14.796875 27.296875  z \" id=\"DejaVuSans-100\"/>\n      </defs>\n      <g transform=\"translate(88.200923 314.116563)scale(0.1 -0.1)\">\n       <use xlink:href=\"#DejaVuSans-86\"/>\n       <use x=\"68.298828\" xlink:href=\"#DejaVuSans-97\"/>\n       <use x=\"129.578125\" xlink:href=\"#DejaVuSans-99\"/>\n       <use x=\"184.558594\" xlink:href=\"#DejaVuSans-99\"/>\n       <use x=\"239.539062\" xlink:href=\"#DejaVuSans-105\"/>\n       <use x=\"267.322266\" xlink:href=\"#DejaVuSans-110\"/>\n       <use x=\"330.701172\" xlink:href=\"#DejaVuSans-97\"/>\n       <use x=\"391.980469\" xlink:href=\"#DejaVuSans-116\"/>\n       <use x=\"431.189453\" xlink:href=\"#DejaVuSans-101\"/>\n       <use x=\"492.712891\" xlink:href=\"#DejaVuSans-100\"/>\n      </g>\n     </g>\n    </g>\n    <g id=\"xtick_2\">\n     <g id=\"line2d_2\">\n      <g>\n       <use style=\"stroke:#000000;stroke-width:0.8;\" x=\"256.92017\" xlink:href=\"#m876644c519\" y=\"299.518125\"/>\n      </g>\n     </g>\n     <g id=\"text_2\">\n      <!-- Not vaccinated -->\n      <defs>\n       <path d=\"M 9.8125 72.90625  L 23.09375 72.90625  L 55.421875 11.921875  L 55.421875 72.90625  L 64.984375 72.90625  L 64.984375 0  L 51.703125 0  L 19.390625 60.984375  L 19.390625 0  L 9.8125 0  z \" id=\"DejaVuSans-78\"/>\n       <path d=\"M 30.609375 48.390625  Q 23.390625 48.390625 19.1875 42.75  Q 14.984375 37.109375 14.984375 27.296875  Q 14.984375 17.484375 19.15625 11.84375  Q 23.34375 6.203125 30.609375 6.203125  Q 37.796875 6.203125 41.984375 11.859375  Q 46.1875 17.53125 46.1875 27.296875  Q 46.1875 37.015625 41.984375 42.703125  Q 37.796875 48.390625 30.609375 48.390625  z M 30.609375 56  Q 42.328125 56 49.015625 48.375  Q 55.71875 40.765625 55.71875 27.296875  Q 55.71875 13.875 49.015625 6.21875  Q 42.328125 -1.421875 30.609375 -1.421875  Q 18.84375 -1.421875 12.171875 6.21875  Q 5.515625 13.875 5.515625 27.296875  Q 5.515625 40.765625 12.171875 48.375  Q 18.84375 56 30.609375 56  z \" id=\"DejaVuSans-111\"/>\n       <path id=\"DejaVuSans-32\"/>\n       <path d=\"M 2.984375 54.6875  L 12.5 54.6875  L 29.59375 8.796875  L 46.6875 54.6875  L 56.203125 54.6875  L 35.6875 0  L 23.484375 0  z \" id=\"DejaVuSans-118\"/>\n      </defs>\n      <g transform=\"translate(219.216264 314.116563)scale(0.1 -0.1)\">\n       <use xlink:href=\"#DejaVuSans-78\"/>\n       <use x=\"74.804688\" xlink:href=\"#DejaVuSans-111\"/>\n       <use x=\"135.986328\" xlink:href=\"#DejaVuSans-116\"/>\n       <use x=\"175.195312\" xlink:href=\"#DejaVuSans-32\"/>\n       <use x=\"206.982422\" xlink:href=\"#DejaVuSans-118\"/>\n       <use x=\"266.162109\" xlink:href=\"#DejaVuSans-97\"/>\n       <use x=\"327.441406\" xlink:href=\"#DejaVuSans-99\"/>\n       <use x=\"382.421875\" xlink:href=\"#DejaVuSans-99\"/>\n       <use x=\"437.402344\" xlink:href=\"#DejaVuSans-105\"/>\n       <use x=\"465.185547\" xlink:href=\"#DejaVuSans-110\"/>\n       <use x=\"528.564453\" xlink:href=\"#DejaVuSans-97\"/>\n       <use x=\"589.84375\" xlink:href=\"#DejaVuSans-116\"/>\n       <use x=\"629.052734\" xlink:href=\"#DejaVuSans-101\"/>\n       <use x=\"690.576172\" xlink:href=\"#DejaVuSans-100\"/>\n      </g>\n     </g>\n    </g>\n   </g>\n   <g id=\"matplotlib.axis_2\">\n    <g id=\"ytick_1\">\n     <g id=\"line2d_3\">\n      <defs>\n       <path d=\"M 0 0  L -3.5 0  \" id=\"medbbafcd22\" style=\"stroke:#000000;stroke-width:0.8;\"/>\n      </defs>\n      <g>\n       <use style=\"stroke:#000000;stroke-width:0.8;\" x=\"46.965625\" xlink:href=\"#medbbafcd22\" y=\"299.518125\"/>\n      </g>\n     </g>\n     <g id=\"text_3\">\n      <!-- 0 -->\n      <defs>\n       <path d=\"M 31.78125 66.40625  Q 24.171875 66.40625 20.328125 58.90625  Q 16.5 51.421875 16.5 36.375  Q 16.5 21.390625 20.328125 13.890625  Q 24.171875 6.390625 31.78125 6.390625  Q 39.453125 6.390625 43.28125 13.890625  Q 47.125 21.390625 47.125 36.375  Q 47.125 51.421875 43.28125 58.90625  Q 39.453125 66.40625 31.78125 66.40625  z M 31.78125 74.21875  Q 44.046875 74.21875 50.515625 64.515625  Q 56.984375 54.828125 56.984375 36.375  Q 56.984375 17.96875 50.515625 8.265625  Q 44.046875 -1.421875 31.78125 -1.421875  Q 19.53125 -1.421875 13.0625 8.265625  Q 6.59375 17.96875 6.59375 36.375  Q 6.59375 54.828125 13.0625 64.515625  Q 19.53125 74.21875 31.78125 74.21875  z \" id=\"DejaVuSans-48\"/>\n      </defs>\n      <g transform=\"translate(33.603125 303.317344)scale(0.1 -0.1)\">\n       <use xlink:href=\"#DejaVuSans-48\"/>\n      </g>\n     </g>\n    </g>\n    <g id=\"ytick_2\">\n     <g id=\"line2d_4\">\n      <g>\n       <use style=\"stroke:#000000;stroke-width:0.8;\" x=\"46.965625\" xlink:href=\"#medbbafcd22\" y=\"259.316572\"/>\n      </g>\n     </g>\n     <g id=\"text_4\">\n      <!-- 100 -->\n      <defs>\n       <path d=\"M 12.40625 8.296875  L 28.515625 8.296875  L 28.515625 63.921875  L 10.984375 60.40625  L 10.984375 69.390625  L 28.421875 72.90625  L 38.28125 72.90625  L 38.28125 8.296875  L 54.390625 8.296875  L 54.390625 0  L 12.40625 0  z \" id=\"DejaVuSans-49\"/>\n      </defs>\n      <g transform=\"translate(20.878125 263.11579)scale(0.1 -0.1)\">\n       <use xlink:href=\"#DejaVuSans-49\"/>\n       <use x=\"63.623047\" xlink:href=\"#DejaVuSans-48\"/>\n       <use x=\"127.246094\" xlink:href=\"#DejaVuSans-48\"/>\n      </g>\n     </g>\n    </g>\n    <g id=\"ytick_3\">\n     <g id=\"line2d_5\">\n      <g>\n       <use style=\"stroke:#000000;stroke-width:0.8;\" x=\"46.965625\" xlink:href=\"#medbbafcd22\" y=\"219.115018\"/>\n      </g>\n     </g>\n     <g id=\"text_5\">\n      <!-- 200 -->\n      <defs>\n       <path d=\"M 19.1875 8.296875  L 53.609375 8.296875  L 53.609375 0  L 7.328125 0  L 7.328125 8.296875  Q 12.9375 14.109375 22.625 23.890625  Q 32.328125 33.6875 34.8125 36.53125  Q 39.546875 41.84375 41.421875 45.53125  Q 43.3125 49.21875 43.3125 52.78125  Q 43.3125 58.59375 39.234375 62.25  Q 35.15625 65.921875 28.609375 65.921875  Q 23.96875 65.921875 18.8125 64.3125  Q 13.671875 62.703125 7.8125 59.421875  L 7.8125 69.390625  Q 13.765625 71.78125 18.9375 73  Q 24.125 74.21875 28.421875 74.21875  Q 39.75 74.21875 46.484375 68.546875  Q 53.21875 62.890625 53.21875 53.421875  Q 53.21875 48.921875 51.53125 44.890625  Q 49.859375 40.875 45.40625 35.40625  Q 44.1875 33.984375 37.640625 27.21875  Q 31.109375 20.453125 19.1875 8.296875  z \" id=\"DejaVuSans-50\"/>\n      </defs>\n      <g transform=\"translate(20.878125 222.914237)scale(0.1 -0.1)\">\n       <use xlink:href=\"#DejaVuSans-50\"/>\n       <use x=\"63.623047\" xlink:href=\"#DejaVuSans-48\"/>\n       <use x=\"127.246094\" xlink:href=\"#DejaVuSans-48\"/>\n      </g>\n     </g>\n    </g>\n    <g id=\"ytick_4\">\n     <g id=\"line2d_6\">\n      <g>\n       <use style=\"stroke:#000000;stroke-width:0.8;\" x=\"46.965625\" xlink:href=\"#medbbafcd22\" y=\"178.913465\"/>\n      </g>\n     </g>\n     <g id=\"text_6\">\n      <!-- 300 -->\n      <defs>\n       <path d=\"M 40.578125 39.3125  Q 47.65625 37.796875 51.625 33  Q 55.609375 28.21875 55.609375 21.1875  Q 55.609375 10.40625 48.1875 4.484375  Q 40.765625 -1.421875 27.09375 -1.421875  Q 22.515625 -1.421875 17.65625 -0.515625  Q 12.796875 0.390625 7.625 2.203125  L 7.625 11.71875  Q 11.71875 9.328125 16.59375 8.109375  Q 21.484375 6.890625 26.8125 6.890625  Q 36.078125 6.890625 40.9375 10.546875  Q 45.796875 14.203125 45.796875 21.1875  Q 45.796875 27.640625 41.28125 31.265625  Q 36.765625 34.90625 28.71875 34.90625  L 20.21875 34.90625  L 20.21875 43.015625  L 29.109375 43.015625  Q 36.375 43.015625 40.234375 45.921875  Q 44.09375 48.828125 44.09375 54.296875  Q 44.09375 59.90625 40.109375 62.90625  Q 36.140625 65.921875 28.71875 65.921875  Q 24.65625 65.921875 20.015625 65.03125  Q 15.375 64.15625 9.8125 62.3125  L 9.8125 71.09375  Q 15.4375 72.65625 20.34375 73.4375  Q 25.25 74.21875 29.59375 74.21875  Q 40.828125 74.21875 47.359375 69.109375  Q 53.90625 64.015625 53.90625 55.328125  Q 53.90625 49.265625 50.4375 45.09375  Q 46.96875 40.921875 40.578125 39.3125  z \" id=\"DejaVuSans-51\"/>\n      </defs>\n      <g transform=\"translate(20.878125 182.712684)scale(0.1 -0.1)\">\n       <use xlink:href=\"#DejaVuSans-51\"/>\n       <use x=\"63.623047\" xlink:href=\"#DejaVuSans-48\"/>\n       <use x=\"127.246094\" xlink:href=\"#DejaVuSans-48\"/>\n      </g>\n     </g>\n    </g>\n    <g id=\"ytick_5\">\n     <g id=\"line2d_7\">\n      <g>\n       <use style=\"stroke:#000000;stroke-width:0.8;\" x=\"46.965625\" xlink:href=\"#medbbafcd22\" y=\"138.711911\"/>\n      </g>\n     </g>\n     <g id=\"text_7\">\n      <!-- 400 -->\n      <defs>\n       <path d=\"M 37.796875 64.3125  L 12.890625 25.390625  L 37.796875 25.390625  z M 35.203125 72.90625  L 47.609375 72.90625  L 47.609375 25.390625  L 58.015625 25.390625  L 58.015625 17.1875  L 47.609375 17.1875  L 47.609375 0  L 37.796875 0  L 37.796875 17.1875  L 4.890625 17.1875  L 4.890625 26.703125  z \" id=\"DejaVuSans-52\"/>\n      </defs>\n      <g transform=\"translate(20.878125 142.51113)scale(0.1 -0.1)\">\n       <use xlink:href=\"#DejaVuSans-52\"/>\n       <use x=\"63.623047\" xlink:href=\"#DejaVuSans-48\"/>\n       <use x=\"127.246094\" xlink:href=\"#DejaVuSans-48\"/>\n      </g>\n     </g>\n    </g>\n    <g id=\"ytick_6\">\n     <g id=\"line2d_8\">\n      <g>\n       <use style=\"stroke:#000000;stroke-width:0.8;\" x=\"46.965625\" xlink:href=\"#medbbafcd22\" y=\"98.510358\"/>\n      </g>\n     </g>\n     <g id=\"text_8\">\n      <!-- 500 -->\n      <defs>\n       <path d=\"M 10.796875 72.90625  L 49.515625 72.90625  L 49.515625 64.59375  L 19.828125 64.59375  L 19.828125 46.734375  Q 21.96875 47.46875 24.109375 47.828125  Q 26.265625 48.1875 28.421875 48.1875  Q 40.625 48.1875 47.75 41.5  Q 54.890625 34.8125 54.890625 23.390625  Q 54.890625 11.625 47.5625 5.09375  Q 40.234375 -1.421875 26.90625 -1.421875  Q 22.3125 -1.421875 17.546875 -0.640625  Q 12.796875 0.140625 7.71875 1.703125  L 7.71875 11.625  Q 12.109375 9.234375 16.796875 8.0625  Q 21.484375 6.890625 26.703125 6.890625  Q 35.15625 6.890625 40.078125 11.328125  Q 45.015625 15.765625 45.015625 23.390625  Q 45.015625 31 40.078125 35.4375  Q 35.15625 39.890625 26.703125 39.890625  Q 22.75 39.890625 18.8125 39.015625  Q 14.890625 38.140625 10.796875 36.28125  z \" id=\"DejaVuSans-53\"/>\n      </defs>\n      <g transform=\"translate(20.878125 102.309577)scale(0.1 -0.1)\">\n       <use xlink:href=\"#DejaVuSans-53\"/>\n       <use x=\"63.623047\" xlink:href=\"#DejaVuSans-48\"/>\n       <use x=\"127.246094\" xlink:href=\"#DejaVuSans-48\"/>\n      </g>\n     </g>\n    </g>\n    <g id=\"ytick_7\">\n     <g id=\"line2d_9\">\n      <g>\n       <use style=\"stroke:#000000;stroke-width:0.8;\" x=\"46.965625\" xlink:href=\"#medbbafcd22\" y=\"58.308805\"/>\n      </g>\n     </g>\n     <g id=\"text_9\">\n      <!-- 600 -->\n      <defs>\n       <path d=\"M 33.015625 40.375  Q 26.375 40.375 22.484375 35.828125  Q 18.609375 31.296875 18.609375 23.390625  Q 18.609375 15.53125 22.484375 10.953125  Q 26.375 6.390625 33.015625 6.390625  Q 39.65625 6.390625 43.53125 10.953125  Q 47.40625 15.53125 47.40625 23.390625  Q 47.40625 31.296875 43.53125 35.828125  Q 39.65625 40.375 33.015625 40.375  z M 52.59375 71.296875  L 52.59375 62.3125  Q 48.875 64.0625 45.09375 64.984375  Q 41.3125 65.921875 37.59375 65.921875  Q 27.828125 65.921875 22.671875 59.328125  Q 17.53125 52.734375 16.796875 39.40625  Q 19.671875 43.65625 24.015625 45.921875  Q 28.375 48.1875 33.59375 48.1875  Q 44.578125 48.1875 50.953125 41.515625  Q 57.328125 34.859375 57.328125 23.390625  Q 57.328125 12.15625 50.6875 5.359375  Q 44.046875 -1.421875 33.015625 -1.421875  Q 20.359375 -1.421875 13.671875 8.265625  Q 6.984375 17.96875 6.984375 36.375  Q 6.984375 53.65625 15.1875 63.9375  Q 23.390625 74.21875 37.203125 74.21875  Q 40.921875 74.21875 44.703125 73.484375  Q 48.484375 72.75 52.59375 71.296875  z \" id=\"DejaVuSans-54\"/>\n      </defs>\n      <g transform=\"translate(20.878125 62.108023)scale(0.1 -0.1)\">\n       <use xlink:href=\"#DejaVuSans-54\"/>\n       <use x=\"63.623047\" xlink:href=\"#DejaVuSans-48\"/>\n       <use x=\"127.246094\" xlink:href=\"#DejaVuSans-48\"/>\n      </g>\n     </g>\n    </g>\n    <g id=\"text_10\">\n     <!-- Number of AEs per thousand individuals -->\n     <defs>\n      <path d=\"M 8.5 21.578125  L 8.5 54.6875  L 17.484375 54.6875  L 17.484375 21.921875  Q 17.484375 14.15625 20.5 10.265625  Q 23.53125 6.390625 29.59375 6.390625  Q 36.859375 6.390625 41.078125 11.03125  Q 45.3125 15.671875 45.3125 23.6875  L 45.3125 54.6875  L 54.296875 54.6875  L 54.296875 0  L 45.3125 0  L 45.3125 8.40625  Q 42.046875 3.421875 37.71875 1  Q 33.40625 -1.421875 27.6875 -1.421875  Q 18.265625 -1.421875 13.375 4.4375  Q 8.5 10.296875 8.5 21.578125  z M 31.109375 56  z \" id=\"DejaVuSans-117\"/>\n      <path d=\"M 52 44.1875  Q 55.375 50.25 60.0625 53.125  Q 64.75 56 71.09375 56  Q 79.640625 56 84.28125 50.015625  Q 88.921875 44.046875 88.921875 33.015625  L 88.921875 0  L 79.890625 0  L 79.890625 32.71875  Q 79.890625 40.578125 77.09375 44.375  Q 74.3125 48.1875 68.609375 48.1875  Q 61.625 48.1875 57.5625 43.546875  Q 53.515625 38.921875 53.515625 30.90625  L 53.515625 0  L 44.484375 0  L 44.484375 32.71875  Q 44.484375 40.625 41.703125 44.40625  Q 38.921875 48.1875 33.109375 48.1875  Q 26.21875 48.1875 22.15625 43.53125  Q 18.109375 38.875 18.109375 30.90625  L 18.109375 0  L 9.078125 0  L 9.078125 54.6875  L 18.109375 54.6875  L 18.109375 46.1875  Q 21.1875 51.21875 25.484375 53.609375  Q 29.78125 56 35.6875 56  Q 41.65625 56 45.828125 52.96875  Q 50 49.953125 52 44.1875  z \" id=\"DejaVuSans-109\"/>\n      <path d=\"M 48.6875 27.296875  Q 48.6875 37.203125 44.609375 42.84375  Q 40.53125 48.484375 33.40625 48.484375  Q 26.265625 48.484375 22.1875 42.84375  Q 18.109375 37.203125 18.109375 27.296875  Q 18.109375 17.390625 22.1875 11.75  Q 26.265625 6.109375 33.40625 6.109375  Q 40.53125 6.109375 44.609375 11.75  Q 48.6875 17.390625 48.6875 27.296875  z M 18.109375 46.390625  Q 20.953125 51.265625 25.265625 53.625  Q 29.59375 56 35.59375 56  Q 45.5625 56 51.78125 48.09375  Q 58.015625 40.1875 58.015625 27.296875  Q 58.015625 14.40625 51.78125 6.484375  Q 45.5625 -1.421875 35.59375 -1.421875  Q 29.59375 -1.421875 25.265625 0.953125  Q 20.953125 3.328125 18.109375 8.203125  L 18.109375 0  L 9.078125 0  L 9.078125 75.984375  L 18.109375 75.984375  z \" id=\"DejaVuSans-98\"/>\n      <path d=\"M 41.109375 46.296875  Q 39.59375 47.171875 37.8125 47.578125  Q 36.03125 48 33.890625 48  Q 26.265625 48 22.1875 43.046875  Q 18.109375 38.09375 18.109375 28.8125  L 18.109375 0  L 9.078125 0  L 9.078125 54.6875  L 18.109375 54.6875  L 18.109375 46.1875  Q 20.953125 51.171875 25.484375 53.578125  Q 30.03125 56 36.53125 56  Q 37.453125 56 38.578125 55.875  Q 39.703125 55.765625 41.0625 55.515625  z \" id=\"DejaVuSans-114\"/>\n      <path d=\"M 37.109375 75.984375  L 37.109375 68.5  L 28.515625 68.5  Q 23.6875 68.5 21.796875 66.546875  Q 19.921875 64.59375 19.921875 59.515625  L 19.921875 54.6875  L 34.71875 54.6875  L 34.71875 47.703125  L 19.921875 47.703125  L 19.921875 0  L 10.890625 0  L 10.890625 47.703125  L 2.296875 47.703125  L 2.296875 54.6875  L 10.890625 54.6875  L 10.890625 58.5  Q 10.890625 67.625 15.140625 71.796875  Q 19.390625 75.984375 28.609375 75.984375  z \" id=\"DejaVuSans-102\"/>\n      <path d=\"M 34.1875 63.1875  L 20.796875 26.90625  L 47.609375 26.90625  z M 28.609375 72.90625  L 39.796875 72.90625  L 67.578125 0  L 57.328125 0  L 50.6875 18.703125  L 17.828125 18.703125  L 11.1875 0  L 0.78125 0  z \" id=\"DejaVuSans-65\"/>\n      <path d=\"M 9.8125 72.90625  L 55.90625 72.90625  L 55.90625 64.59375  L 19.671875 64.59375  L 19.671875 43.015625  L 54.390625 43.015625  L 54.390625 34.71875  L 19.671875 34.71875  L 19.671875 8.296875  L 56.78125 8.296875  L 56.78125 0  L 9.8125 0  z \" id=\"DejaVuSans-69\"/>\n      <path d=\"M 44.28125 53.078125  L 44.28125 44.578125  Q 40.484375 46.53125 36.375 47.5  Q 32.28125 48.484375 27.875 48.484375  Q 21.1875 48.484375 17.84375 46.4375  Q 14.5 44.390625 14.5 40.28125  Q 14.5 37.15625 16.890625 35.375  Q 19.28125 33.59375 26.515625 31.984375  L 29.59375 31.296875  Q 39.15625 29.25 43.1875 25.515625  Q 47.21875 21.78125 47.21875 15.09375  Q 47.21875 7.46875 41.1875 3.015625  Q 35.15625 -1.421875 24.609375 -1.421875  Q 20.21875 -1.421875 15.453125 -0.5625  Q 10.6875 0.296875 5.421875 2  L 5.421875 11.28125  Q 10.40625 8.6875 15.234375 7.390625  Q 20.0625 6.109375 24.8125 6.109375  Q 31.15625 6.109375 34.5625 8.28125  Q 37.984375 10.453125 37.984375 14.40625  Q 37.984375 18.0625 35.515625 20.015625  Q 33.0625 21.96875 24.703125 23.78125  L 21.578125 24.515625  Q 13.234375 26.265625 9.515625 29.90625  Q 5.8125 33.546875 5.8125 39.890625  Q 5.8125 47.609375 11.28125 51.796875  Q 16.75 56 26.8125 56  Q 31.78125 56 36.171875 55.265625  Q 40.578125 54.546875 44.28125 53.078125  z \" id=\"DejaVuSans-115\"/>\n      <path d=\"M 18.109375 8.203125  L 18.109375 -20.796875  L 9.078125 -20.796875  L 9.078125 54.6875  L 18.109375 54.6875  L 18.109375 46.390625  Q 20.953125 51.265625 25.265625 53.625  Q 29.59375 56 35.59375 56  Q 45.5625 56 51.78125 48.09375  Q 58.015625 40.1875 58.015625 27.296875  Q 58.015625 14.40625 51.78125 6.484375  Q 45.5625 -1.421875 35.59375 -1.421875  Q 29.59375 -1.421875 25.265625 0.953125  Q 20.953125 3.328125 18.109375 8.203125  z M 48.6875 27.296875  Q 48.6875 37.203125 44.609375 42.84375  Q 40.53125 48.484375 33.40625 48.484375  Q 26.265625 48.484375 22.1875 42.84375  Q 18.109375 37.203125 18.109375 27.296875  Q 18.109375 17.390625 22.1875 11.75  Q 26.265625 6.109375 33.40625 6.109375  Q 40.53125 6.109375 44.609375 11.75  Q 48.6875 17.390625 48.6875 27.296875  z \" id=\"DejaVuSans-112\"/>\n      <path d=\"M 54.890625 33.015625  L 54.890625 0  L 45.90625 0  L 45.90625 32.71875  Q 45.90625 40.484375 42.875 44.328125  Q 39.84375 48.1875 33.796875 48.1875  Q 26.515625 48.1875 22.3125 43.546875  Q 18.109375 38.921875 18.109375 30.90625  L 18.109375 0  L 9.078125 0  L 9.078125 75.984375  L 18.109375 75.984375  L 18.109375 46.1875  Q 21.34375 51.125 25.703125 53.5625  Q 30.078125 56 35.796875 56  Q 45.21875 56 50.046875 50.171875  Q 54.890625 44.34375 54.890625 33.015625  z \" id=\"DejaVuSans-104\"/>\n      <path d=\"M 9.421875 75.984375  L 18.40625 75.984375  L 18.40625 0  L 9.421875 0  z \" id=\"DejaVuSans-108\"/>\n     </defs>\n     <g transform=\"translate(14.798438 261.498594)rotate(-90)scale(0.1 -0.1)\">\n      <use xlink:href=\"#DejaVuSans-78\"/>\n      <use x=\"74.804688\" xlink:href=\"#DejaVuSans-117\"/>\n      <use x=\"138.183594\" xlink:href=\"#DejaVuSans-109\"/>\n      <use x=\"235.595703\" xlink:href=\"#DejaVuSans-98\"/>\n      <use x=\"299.072266\" xlink:href=\"#DejaVuSans-101\"/>\n      <use x=\"360.595703\" xlink:href=\"#DejaVuSans-114\"/>\n      <use x=\"401.708984\" xlink:href=\"#DejaVuSans-32\"/>\n      <use x=\"433.496094\" xlink:href=\"#DejaVuSans-111\"/>\n      <use x=\"494.677734\" xlink:href=\"#DejaVuSans-102\"/>\n      <use x=\"529.882812\" xlink:href=\"#DejaVuSans-32\"/>\n      <use x=\"561.669922\" xlink:href=\"#DejaVuSans-65\"/>\n      <use x=\"630.078125\" xlink:href=\"#DejaVuSans-69\"/>\n      <use x=\"693.261719\" xlink:href=\"#DejaVuSans-115\"/>\n      <use x=\"745.361328\" xlink:href=\"#DejaVuSans-32\"/>\n      <use x=\"777.148438\" xlink:href=\"#DejaVuSans-112\"/>\n      <use x=\"840.625\" xlink:href=\"#DejaVuSans-101\"/>\n      <use x=\"902.148438\" xlink:href=\"#DejaVuSans-114\"/>\n      <use x=\"943.261719\" xlink:href=\"#DejaVuSans-32\"/>\n      <use x=\"975.048828\" xlink:href=\"#DejaVuSans-116\"/>\n      <use x=\"1014.257812\" xlink:href=\"#DejaVuSans-104\"/>\n      <use x=\"1077.636719\" xlink:href=\"#DejaVuSans-111\"/>\n      <use x=\"1138.818359\" xlink:href=\"#DejaVuSans-117\"/>\n      <use x=\"1202.197266\" xlink:href=\"#DejaVuSans-115\"/>\n      <use x=\"1254.296875\" xlink:href=\"#DejaVuSans-97\"/>\n      <use x=\"1315.576172\" xlink:href=\"#DejaVuSans-110\"/>\n      <use x=\"1378.955078\" xlink:href=\"#DejaVuSans-100\"/>\n      <use x=\"1442.431641\" xlink:href=\"#DejaVuSans-32\"/>\n      <use x=\"1474.21875\" xlink:href=\"#DejaVuSans-105\"/>\n      <use x=\"1502.001953\" xlink:href=\"#DejaVuSans-110\"/>\n      <use x=\"1565.380859\" xlink:href=\"#DejaVuSans-100\"/>\n      <use x=\"1628.857422\" xlink:href=\"#DejaVuSans-105\"/>\n      <use x=\"1656.640625\" xlink:href=\"#DejaVuSans-118\"/>\n      <use x=\"1715.820312\" xlink:href=\"#DejaVuSans-105\"/>\n      <use x=\"1743.603516\" xlink:href=\"#DejaVuSans-100\"/>\n      <use x=\"1807.080078\" xlink:href=\"#DejaVuSans-117\"/>\n      <use x=\"1870.458984\" xlink:href=\"#DejaVuSans-97\"/>\n      <use x=\"1931.738281\" xlink:href=\"#DejaVuSans-108\"/>\n      <use x=\"1959.521484\" xlink:href=\"#DejaVuSans-115\"/>\n     </g>\n    </g>\n   </g>\n   <g id=\"patch_5\">\n    <path d=\"M 46.965625 299.518125  L 46.965625 22.318125  \" style=\"fill:none;stroke:#000000;stroke-linecap:square;stroke-linejoin:miter;stroke-width:0.8;\"/>\n   </g>\n   <g id=\"patch_6\">\n    <path d=\"M 325.965625 299.518125  L 325.965625 22.318125  \" style=\"fill:none;stroke:#000000;stroke-linecap:square;stroke-linejoin:miter;stroke-width:0.8;\"/>\n   </g>\n   <g id=\"patch_7\">\n    <path d=\"M 46.965625 299.518125  L 325.965625 299.518125  \" style=\"fill:none;stroke:#000000;stroke-linecap:square;stroke-linejoin:miter;stroke-width:0.8;\"/>\n   </g>\n   <g id=\"patch_8\">\n    <path d=\"M 46.965625 22.318125  L 325.965625 22.318125  \" style=\"fill:none;stroke:#000000;stroke-linecap:square;stroke-linejoin:miter;stroke-width:0.8;\"/>\n   </g>\n   <g id=\"text_11\">\n    <!-- Adverse events in the whole population of the dataset -->\n    <defs>\n     <path d=\"M 4.203125 54.6875  L 13.1875 54.6875  L 24.421875 12.015625  L 35.59375 54.6875  L 46.1875 54.6875  L 57.421875 12.015625  L 68.609375 54.6875  L 77.59375 54.6875  L 63.28125 0  L 52.6875 0  L 40.921875 44.828125  L 29.109375 0  L 18.5 0  z \" id=\"DejaVuSans-119\"/>\n    </defs>\n    <g transform=\"translate(23.257188 16.318125)scale(0.12 -0.12)\">\n     <use xlink:href=\"#DejaVuSans-65\"/>\n     <use x=\"68.392578\" xlink:href=\"#DejaVuSans-100\"/>\n     <use x=\"131.869141\" xlink:href=\"#DejaVuSans-118\"/>\n     <use x=\"191.048828\" xlink:href=\"#DejaVuSans-101\"/>\n     <use x=\"252.572266\" xlink:href=\"#DejaVuSans-114\"/>\n     <use x=\"293.685547\" xlink:href=\"#DejaVuSans-115\"/>\n     <use x=\"345.785156\" xlink:href=\"#DejaVuSans-101\"/>\n     <use x=\"407.308594\" xlink:href=\"#DejaVuSans-32\"/>\n     <use x=\"439.095703\" xlink:href=\"#DejaVuSans-101\"/>\n     <use x=\"500.619141\" xlink:href=\"#DejaVuSans-118\"/>\n     <use x=\"559.798828\" xlink:href=\"#DejaVuSans-101\"/>\n     <use x=\"621.322266\" xlink:href=\"#DejaVuSans-110\"/>\n     <use x=\"684.701172\" xlink:href=\"#DejaVuSans-116\"/>\n     <use x=\"723.910156\" xlink:href=\"#DejaVuSans-115\"/>\n     <use x=\"776.009766\" xlink:href=\"#DejaVuSans-32\"/>\n     <use x=\"807.796875\" xlink:href=\"#DejaVuSans-105\"/>\n     <use x=\"835.580078\" xlink:href=\"#DejaVuSans-110\"/>\n     <use x=\"898.958984\" xlink:href=\"#DejaVuSans-32\"/>\n     <use x=\"930.746094\" xlink:href=\"#DejaVuSans-116\"/>\n     <use x=\"969.955078\" xlink:href=\"#DejaVuSans-104\"/>\n     <use x=\"1033.333984\" xlink:href=\"#DejaVuSans-101\"/>\n     <use x=\"1094.857422\" xlink:href=\"#DejaVuSans-32\"/>\n     <use x=\"1126.644531\" xlink:href=\"#DejaVuSans-119\"/>\n     <use x=\"1208.431641\" xlink:href=\"#DejaVuSans-104\"/>\n     <use x=\"1271.810547\" xlink:href=\"#DejaVuSans-111\"/>\n     <use x=\"1332.992188\" xlink:href=\"#DejaVuSans-108\"/>\n     <use x=\"1360.775391\" xlink:href=\"#DejaVuSans-101\"/>\n     <use x=\"1422.298828\" xlink:href=\"#DejaVuSans-32\"/>\n     <use x=\"1454.085938\" xlink:href=\"#DejaVuSans-112\"/>\n     <use x=\"1517.5625\" xlink:href=\"#DejaVuSans-111\"/>\n     <use x=\"1578.744141\" xlink:href=\"#DejaVuSans-112\"/>\n     <use x=\"1642.220703\" xlink:href=\"#DejaVuSans-117\"/>\n     <use x=\"1705.599609\" xlink:href=\"#DejaVuSans-108\"/>\n     <use x=\"1733.382812\" xlink:href=\"#DejaVuSans-97\"/>\n     <use x=\"1794.662109\" xlink:href=\"#DejaVuSans-116\"/>\n     <use x=\"1833.871094\" xlink:href=\"#DejaVuSans-105\"/>\n     <use x=\"1861.654297\" xlink:href=\"#DejaVuSans-111\"/>\n     <use x=\"1922.835938\" xlink:href=\"#DejaVuSans-110\"/>\n     <use x=\"1986.214844\" xlink:href=\"#DejaVuSans-32\"/>\n     <use x=\"2018.001953\" xlink:href=\"#DejaVuSans-111\"/>\n     <use x=\"2079.183594\" xlink:href=\"#DejaVuSans-102\"/>\n     <use x=\"2114.388672\" xlink:href=\"#DejaVuSans-32\"/>\n     <use x=\"2146.175781\" xlink:href=\"#DejaVuSans-116\"/>\n     <use x=\"2185.384766\" xlink:href=\"#DejaVuSans-104\"/>\n     <use x=\"2248.763672\" xlink:href=\"#DejaVuSans-101\"/>\n     <use x=\"2310.287109\" xlink:href=\"#DejaVuSans-32\"/>\n     <use x=\"2342.074219\" xlink:href=\"#DejaVuSans-100\"/>\n     <use x=\"2405.550781\" xlink:href=\"#DejaVuSans-97\"/>\n     <use x=\"2466.830078\" xlink:href=\"#DejaVuSans-116\"/>\n     <use x=\"2506.039062\" xlink:href=\"#DejaVuSans-97\"/>\n     <use x=\"2567.318359\" xlink:href=\"#DejaVuSans-115\"/>\n     <use x=\"2619.417969\" xlink:href=\"#DejaVuSans-101\"/>\n     <use x=\"2680.941406\" xlink:href=\"#DejaVuSans-116\"/>\n    </g>\n   </g>\n  </g>\n </g>\n <defs>\n  <clipPath id=\"ped5b25410b\">\n   <rect height=\"277.2\" width=\"279\" x=\"46.965625\" y=\"22.318125\"/>\n  </clipPath>\n </defs>\n</svg>",
      "text/plain": [
       "<IPython.core.display.SVG object>"
      ]
     },
     "execution_count": 6,
     "metadata": {},
     "output_type": "execute_result"
    }
   ],
   "source": [
    "# Figure 1\n",
    "SVG(filename='analysis_euler/1a_total_AE_barplot.svg')"
   ]
  },
  {
   "cell_type": "markdown",
   "metadata": {},
   "source": [
    "A similar situation can be found when looking at whether a subject had one or multiple events (event) or none (no event). In the vaccinated group, adverse events were registered in 20'478 out of 146'457 subjects, whereas in the unvaccinated group, there were only 824 out of 605'460 subjects with adverse events, as seen in table 1."
   ]
  },
  {
   "cell_type": "code",
   "execution_count": 8,
   "metadata": {},
   "outputs": [
    {
     "data": {
      "text/html": [
       "<div>\n",
       "<style scoped>\n",
       "    .dataframe tbody tr th:only-of-type {\n",
       "        vertical-align: middle;\n",
       "    }\n",
       "\n",
       "    .dataframe tbody tr th {\n",
       "        vertical-align: top;\n",
       "    }\n",
       "\n",
       "    .dataframe thead th {\n",
       "        text-align: right;\n",
       "    }\n",
       "</style>\n",
       "<table border=\"1\" class=\"dataframe\">\n",
       "  <thead>\n",
       "    <tr style=\"text-align: right;\">\n",
       "      <th></th>\n",
       "      <th>Unnamed: 0</th>\n",
       "      <th>event</th>\n",
       "      <th>no event</th>\n",
       "      <th>Total</th>\n",
       "    </tr>\n",
       "  </thead>\n",
       "  <tbody>\n",
       "    <tr>\n",
       "      <th>0</th>\n",
       "      <td>Vaccinated</td>\n",
       "      <td>20478.0</td>\n",
       "      <td>125979.0</td>\n",
       "      <td>146457.0</td>\n",
       "    </tr>\n",
       "    <tr>\n",
       "      <th>1</th>\n",
       "      <td>Not vaccinated</td>\n",
       "      <td>824.0</td>\n",
       "      <td>501636.0</td>\n",
       "      <td>502460.0</td>\n",
       "    </tr>\n",
       "    <tr>\n",
       "      <th>2</th>\n",
       "      <td>Total</td>\n",
       "      <td>21302.0</td>\n",
       "      <td>627615.0</td>\n",
       "      <td>648917.0</td>\n",
       "    </tr>\n",
       "  </tbody>\n",
       "</table>\n",
       "</div>"
      ],
      "text/plain": [
       "       Unnamed: 0    event  no event     Total\n",
       "0      Vaccinated  20478.0  125979.0  146457.0\n",
       "1  Not vaccinated    824.0  501636.0  502460.0\n",
       "2           Total  21302.0  627615.0  648917.0"
      ]
     },
     "execution_count": 8,
     "metadata": {},
     "output_type": "execute_result"
    }
   ],
   "source": [
    "# Table 1\n",
    "table = pd.read_csv('analysis_euler/1a_contigency_table.csv') \n",
    "table\n"
   ]
  },
  {
   "cell_type": "markdown",
   "metadata": {},
   "source": [
    "A Chi-Squared Test of Independence was performed to examine the relation between the vaccination status and the ocurrence of an adverse event. The relation between these two variables was significant (X2 (1, N = 648917) = 68197.21, p = .0), with the occurrence of an adverse event being more likely in the vaccinated subjects."
   ]
  },
  {
   "cell_type": "markdown",
   "metadata": {},
   "source": [
    "The risk of experiencing an adverse event among vaccinated subjects was 85.3 times higher than among unvaccinated subjects (RR: 85.3, CI: 79.5 - 91.38)."
   ]
  },
  {
   "cell_type": "markdown",
   "metadata": {},
   "source": [
    "### 1b) Same comparison in subset of subjects with underlying medical condition"
   ]
  },
  {
   "cell_type": "markdown",
   "metadata": {},
   "source": [
    "When looking only at subjects with an underlying medical condition, there were 657.4  and 103.4 adverse events registered per thousand individuals, in the vaccinated and in the unvaccinated group, respectively. This is visualised in Figure 2."
   ]
  },
  {
   "cell_type": "code",
   "execution_count": 7,
   "metadata": {},
   "outputs": [
    {
     "data": {
      "image/svg+xml": "<svg xmlns=\"http://www.w3.org/2000/svg\" xmlns:xlink=\"http://www.w3.org/1999/xlink\" height=\"323.39625pt\" version=\"1.1\" viewBox=\"0 0 350.815 323.39625\" width=\"350.815pt\">\n <defs>\n  <style type=\"text/css\">\n*{stroke-linecap:butt;stroke-linejoin:round;}\n  </style>\n </defs>\n <g id=\"figure_1\">\n  <g id=\"patch_1\">\n   <path d=\"M 0 323.39625  L 350.815 323.39625  L 350.815 0  L 0 0  z \" style=\"fill:#ffffff;\"/>\n  </g>\n  <g id=\"axes_1\">\n   <g id=\"patch_2\">\n    <path d=\"M 46.965625 299.518125  L 325.965625 299.518125  L 325.965625 22.318125  L 46.965625 22.318125  z \" style=\"fill:#ffffff;\"/>\n   </g>\n   <g id=\"patch_3\">\n    <path clip-path=\"url(#pe1dfc35008)\" d=\"M 59.647443 299.518125  L 172.374716 299.518125  L 172.374716 35.518125  L 59.647443 35.518125  z \" style=\"fill:#1f77b4;\"/>\n   </g>\n   <g id=\"patch_4\">\n    <path clip-path=\"url(#pe1dfc35008)\" d=\"M 200.556534 299.518125  L 313.283807 299.518125  L 313.283807 257.987634  L 200.556534 257.987634  z \" style=\"fill:#1f77b4;\"/>\n   </g>\n   <g id=\"matplotlib.axis_1\">\n    <g id=\"xtick_1\">\n     <g id=\"line2d_1\">\n      <defs>\n       <path d=\"M 0 0  L 0 3.5  \" id=\"m93f9922162\" style=\"stroke:#000000;stroke-width:0.8;\"/>\n      </defs>\n      <g>\n       <use style=\"stroke:#000000;stroke-width:0.8;\" x=\"116.01108\" xlink:href=\"#m93f9922162\" y=\"299.518125\"/>\n      </g>\n     </g>\n     <g id=\"text_1\">\n      <!-- Vaccinated -->\n      <defs>\n       <path d=\"M 28.609375 0  L 0.78125 72.90625  L 11.078125 72.90625  L 34.1875 11.53125  L 57.328125 72.90625  L 67.578125 72.90625  L 39.796875 0  z \" id=\"DejaVuSans-86\"/>\n       <path d=\"M 34.28125 27.484375  Q 23.390625 27.484375 19.1875 25  Q 14.984375 22.515625 14.984375 16.5  Q 14.984375 11.71875 18.140625 8.90625  Q 21.296875 6.109375 26.703125 6.109375  Q 34.1875 6.109375 38.703125 11.40625  Q 43.21875 16.703125 43.21875 25.484375  L 43.21875 27.484375  z M 52.203125 31.203125  L 52.203125 0  L 43.21875 0  L 43.21875 8.296875  Q 40.140625 3.328125 35.546875 0.953125  Q 30.953125 -1.421875 24.3125 -1.421875  Q 15.921875 -1.421875 10.953125 3.296875  Q 6 8.015625 6 15.921875  Q 6 25.140625 12.171875 29.828125  Q 18.359375 34.515625 30.609375 34.515625  L 43.21875 34.515625  L 43.21875 35.40625  Q 43.21875 41.609375 39.140625 45  Q 35.0625 48.390625 27.6875 48.390625  Q 23 48.390625 18.546875 47.265625  Q 14.109375 46.140625 10.015625 43.890625  L 10.015625 52.203125  Q 14.9375 54.109375 19.578125 55.046875  Q 24.21875 56 28.609375 56  Q 40.484375 56 46.34375 49.84375  Q 52.203125 43.703125 52.203125 31.203125  z \" id=\"DejaVuSans-97\"/>\n       <path d=\"M 48.78125 52.59375  L 48.78125 44.1875  Q 44.96875 46.296875 41.140625 47.34375  Q 37.3125 48.390625 33.40625 48.390625  Q 24.65625 48.390625 19.8125 42.84375  Q 14.984375 37.3125 14.984375 27.296875  Q 14.984375 17.28125 19.8125 11.734375  Q 24.65625 6.203125 33.40625 6.203125  Q 37.3125 6.203125 41.140625 7.25  Q 44.96875 8.296875 48.78125 10.40625  L 48.78125 2.09375  Q 45.015625 0.34375 40.984375 -0.53125  Q 36.96875 -1.421875 32.421875 -1.421875  Q 20.0625 -1.421875 12.78125 6.34375  Q 5.515625 14.109375 5.515625 27.296875  Q 5.515625 40.671875 12.859375 48.328125  Q 20.21875 56 33.015625 56  Q 37.15625 56 41.109375 55.140625  Q 45.0625 54.296875 48.78125 52.59375  z \" id=\"DejaVuSans-99\"/>\n       <path d=\"M 9.421875 54.6875  L 18.40625 54.6875  L 18.40625 0  L 9.421875 0  z M 9.421875 75.984375  L 18.40625 75.984375  L 18.40625 64.59375  L 9.421875 64.59375  z \" id=\"DejaVuSans-105\"/>\n       <path d=\"M 54.890625 33.015625  L 54.890625 0  L 45.90625 0  L 45.90625 32.71875  Q 45.90625 40.484375 42.875 44.328125  Q 39.84375 48.1875 33.796875 48.1875  Q 26.515625 48.1875 22.3125 43.546875  Q 18.109375 38.921875 18.109375 30.90625  L 18.109375 0  L 9.078125 0  L 9.078125 54.6875  L 18.109375 54.6875  L 18.109375 46.1875  Q 21.34375 51.125 25.703125 53.5625  Q 30.078125 56 35.796875 56  Q 45.21875 56 50.046875 50.171875  Q 54.890625 44.34375 54.890625 33.015625  z \" id=\"DejaVuSans-110\"/>\n       <path d=\"M 18.3125 70.21875  L 18.3125 54.6875  L 36.8125 54.6875  L 36.8125 47.703125  L 18.3125 47.703125  L 18.3125 18.015625  Q 18.3125 11.328125 20.140625 9.421875  Q 21.96875 7.515625 27.59375 7.515625  L 36.8125 7.515625  L 36.8125 0  L 27.59375 0  Q 17.1875 0 13.234375 3.875  Q 9.28125 7.765625 9.28125 18.015625  L 9.28125 47.703125  L 2.6875 47.703125  L 2.6875 54.6875  L 9.28125 54.6875  L 9.28125 70.21875  z \" id=\"DejaVuSans-116\"/>\n       <path d=\"M 56.203125 29.59375  L 56.203125 25.203125  L 14.890625 25.203125  Q 15.484375 15.921875 20.484375 11.0625  Q 25.484375 6.203125 34.421875 6.203125  Q 39.59375 6.203125 44.453125 7.46875  Q 49.3125 8.734375 54.109375 11.28125  L 54.109375 2.78125  Q 49.265625 0.734375 44.1875 -0.34375  Q 39.109375 -1.421875 33.890625 -1.421875  Q 20.796875 -1.421875 13.15625 6.1875  Q 5.515625 13.8125 5.515625 26.8125  Q 5.515625 40.234375 12.765625 48.109375  Q 20.015625 56 32.328125 56  Q 43.359375 56 49.78125 48.890625  Q 56.203125 41.796875 56.203125 29.59375  z M 47.21875 32.234375  Q 47.125 39.59375 43.09375 43.984375  Q 39.0625 48.390625 32.421875 48.390625  Q 24.90625 48.390625 20.390625 44.140625  Q 15.875 39.890625 15.1875 32.171875  z \" id=\"DejaVuSans-101\"/>\n       <path d=\"M 45.40625 46.390625  L 45.40625 75.984375  L 54.390625 75.984375  L 54.390625 0  L 45.40625 0  L 45.40625 8.203125  Q 42.578125 3.328125 38.25 0.953125  Q 33.9375 -1.421875 27.875 -1.421875  Q 17.96875 -1.421875 11.734375 6.484375  Q 5.515625 14.40625 5.515625 27.296875  Q 5.515625 40.1875 11.734375 48.09375  Q 17.96875 56 27.875 56  Q 33.9375 56 38.25 53.625  Q 42.578125 51.265625 45.40625 46.390625  z M 14.796875 27.296875  Q 14.796875 17.390625 18.875 11.75  Q 22.953125 6.109375 30.078125 6.109375  Q 37.203125 6.109375 41.296875 11.75  Q 45.40625 17.390625 45.40625 27.296875  Q 45.40625 37.203125 41.296875 42.84375  Q 37.203125 48.484375 30.078125 48.484375  Q 22.953125 48.484375 18.875 42.84375  Q 14.796875 37.203125 14.796875 27.296875  z \" id=\"DejaVuSans-100\"/>\n      </defs>\n      <g transform=\"translate(88.200923 314.116563)scale(0.1 -0.1)\">\n       <use xlink:href=\"#DejaVuSans-86\"/>\n       <use x=\"68.298828\" xlink:href=\"#DejaVuSans-97\"/>\n       <use x=\"129.578125\" xlink:href=\"#DejaVuSans-99\"/>\n       <use x=\"184.558594\" xlink:href=\"#DejaVuSans-99\"/>\n       <use x=\"239.539062\" xlink:href=\"#DejaVuSans-105\"/>\n       <use x=\"267.322266\" xlink:href=\"#DejaVuSans-110\"/>\n       <use x=\"330.701172\" xlink:href=\"#DejaVuSans-97\"/>\n       <use x=\"391.980469\" xlink:href=\"#DejaVuSans-116\"/>\n       <use x=\"431.189453\" xlink:href=\"#DejaVuSans-101\"/>\n       <use x=\"492.712891\" xlink:href=\"#DejaVuSans-100\"/>\n      </g>\n     </g>\n    </g>\n    <g id=\"xtick_2\">\n     <g id=\"line2d_2\">\n      <g>\n       <use style=\"stroke:#000000;stroke-width:0.8;\" x=\"256.92017\" xlink:href=\"#m93f9922162\" y=\"299.518125\"/>\n      </g>\n     </g>\n     <g id=\"text_2\">\n      <!-- Not vaccinated -->\n      <defs>\n       <path d=\"M 9.8125 72.90625  L 23.09375 72.90625  L 55.421875 11.921875  L 55.421875 72.90625  L 64.984375 72.90625  L 64.984375 0  L 51.703125 0  L 19.390625 60.984375  L 19.390625 0  L 9.8125 0  z \" id=\"DejaVuSans-78\"/>\n       <path d=\"M 30.609375 48.390625  Q 23.390625 48.390625 19.1875 42.75  Q 14.984375 37.109375 14.984375 27.296875  Q 14.984375 17.484375 19.15625 11.84375  Q 23.34375 6.203125 30.609375 6.203125  Q 37.796875 6.203125 41.984375 11.859375  Q 46.1875 17.53125 46.1875 27.296875  Q 46.1875 37.015625 41.984375 42.703125  Q 37.796875 48.390625 30.609375 48.390625  z M 30.609375 56  Q 42.328125 56 49.015625 48.375  Q 55.71875 40.765625 55.71875 27.296875  Q 55.71875 13.875 49.015625 6.21875  Q 42.328125 -1.421875 30.609375 -1.421875  Q 18.84375 -1.421875 12.171875 6.21875  Q 5.515625 13.875 5.515625 27.296875  Q 5.515625 40.765625 12.171875 48.375  Q 18.84375 56 30.609375 56  z \" id=\"DejaVuSans-111\"/>\n       <path id=\"DejaVuSans-32\"/>\n       <path d=\"M 2.984375 54.6875  L 12.5 54.6875  L 29.59375 8.796875  L 46.6875 54.6875  L 56.203125 54.6875  L 35.6875 0  L 23.484375 0  z \" id=\"DejaVuSans-118\"/>\n      </defs>\n      <g transform=\"translate(219.216264 314.116563)scale(0.1 -0.1)\">\n       <use xlink:href=\"#DejaVuSans-78\"/>\n       <use x=\"74.804688\" xlink:href=\"#DejaVuSans-111\"/>\n       <use x=\"135.986328\" xlink:href=\"#DejaVuSans-116\"/>\n       <use x=\"175.195312\" xlink:href=\"#DejaVuSans-32\"/>\n       <use x=\"206.982422\" xlink:href=\"#DejaVuSans-118\"/>\n       <use x=\"266.162109\" xlink:href=\"#DejaVuSans-97\"/>\n       <use x=\"327.441406\" xlink:href=\"#DejaVuSans-99\"/>\n       <use x=\"382.421875\" xlink:href=\"#DejaVuSans-99\"/>\n       <use x=\"437.402344\" xlink:href=\"#DejaVuSans-105\"/>\n       <use x=\"465.185547\" xlink:href=\"#DejaVuSans-110\"/>\n       <use x=\"528.564453\" xlink:href=\"#DejaVuSans-97\"/>\n       <use x=\"589.84375\" xlink:href=\"#DejaVuSans-116\"/>\n       <use x=\"629.052734\" xlink:href=\"#DejaVuSans-101\"/>\n       <use x=\"690.576172\" xlink:href=\"#DejaVuSans-100\"/>\n      </g>\n     </g>\n    </g>\n   </g>\n   <g id=\"matplotlib.axis_2\">\n    <g id=\"ytick_1\">\n     <g id=\"line2d_3\">\n      <defs>\n       <path d=\"M 0 0  L -3.5 0  \" id=\"m214973f464\" style=\"stroke:#000000;stroke-width:0.8;\"/>\n      </defs>\n      <g>\n       <use style=\"stroke:#000000;stroke-width:0.8;\" x=\"46.965625\" xlink:href=\"#m214973f464\" y=\"299.518125\"/>\n      </g>\n     </g>\n     <g id=\"text_3\">\n      <!-- 0 -->\n      <defs>\n       <path d=\"M 31.78125 66.40625  Q 24.171875 66.40625 20.328125 58.90625  Q 16.5 51.421875 16.5 36.375  Q 16.5 21.390625 20.328125 13.890625  Q 24.171875 6.390625 31.78125 6.390625  Q 39.453125 6.390625 43.28125 13.890625  Q 47.125 21.390625 47.125 36.375  Q 47.125 51.421875 43.28125 58.90625  Q 39.453125 66.40625 31.78125 66.40625  z M 31.78125 74.21875  Q 44.046875 74.21875 50.515625 64.515625  Q 56.984375 54.828125 56.984375 36.375  Q 56.984375 17.96875 50.515625 8.265625  Q 44.046875 -1.421875 31.78125 -1.421875  Q 19.53125 -1.421875 13.0625 8.265625  Q 6.59375 17.96875 6.59375 36.375  Q 6.59375 54.828125 13.0625 64.515625  Q 19.53125 74.21875 31.78125 74.21875  z \" id=\"DejaVuSans-48\"/>\n      </defs>\n      <g transform=\"translate(33.603125 303.317344)scale(0.1 -0.1)\">\n       <use xlink:href=\"#DejaVuSans-48\"/>\n      </g>\n     </g>\n    </g>\n    <g id=\"ytick_2\">\n     <g id=\"line2d_4\">\n      <g>\n       <use style=\"stroke:#000000;stroke-width:0.8;\" x=\"46.965625\" xlink:href=\"#m214973f464\" y=\"259.361938\"/>\n      </g>\n     </g>\n     <g id=\"text_4\">\n      <!-- 100 -->\n      <defs>\n       <path d=\"M 12.40625 8.296875  L 28.515625 8.296875  L 28.515625 63.921875  L 10.984375 60.40625  L 10.984375 69.390625  L 28.421875 72.90625  L 38.28125 72.90625  L 38.28125 8.296875  L 54.390625 8.296875  L 54.390625 0  L 12.40625 0  z \" id=\"DejaVuSans-49\"/>\n      </defs>\n      <g transform=\"translate(20.878125 263.161157)scale(0.1 -0.1)\">\n       <use xlink:href=\"#DejaVuSans-49\"/>\n       <use x=\"63.623047\" xlink:href=\"#DejaVuSans-48\"/>\n       <use x=\"127.246094\" xlink:href=\"#DejaVuSans-48\"/>\n      </g>\n     </g>\n    </g>\n    <g id=\"ytick_3\">\n     <g id=\"line2d_5\">\n      <g>\n       <use style=\"stroke:#000000;stroke-width:0.8;\" x=\"46.965625\" xlink:href=\"#m214973f464\" y=\"219.205751\"/>\n      </g>\n     </g>\n     <g id=\"text_5\">\n      <!-- 200 -->\n      <defs>\n       <path d=\"M 19.1875 8.296875  L 53.609375 8.296875  L 53.609375 0  L 7.328125 0  L 7.328125 8.296875  Q 12.9375 14.109375 22.625 23.890625  Q 32.328125 33.6875 34.8125 36.53125  Q 39.546875 41.84375 41.421875 45.53125  Q 43.3125 49.21875 43.3125 52.78125  Q 43.3125 58.59375 39.234375 62.25  Q 35.15625 65.921875 28.609375 65.921875  Q 23.96875 65.921875 18.8125 64.3125  Q 13.671875 62.703125 7.8125 59.421875  L 7.8125 69.390625  Q 13.765625 71.78125 18.9375 73  Q 24.125 74.21875 28.421875 74.21875  Q 39.75 74.21875 46.484375 68.546875  Q 53.21875 62.890625 53.21875 53.421875  Q 53.21875 48.921875 51.53125 44.890625  Q 49.859375 40.875 45.40625 35.40625  Q 44.1875 33.984375 37.640625 27.21875  Q 31.109375 20.453125 19.1875 8.296875  z \" id=\"DejaVuSans-50\"/>\n      </defs>\n      <g transform=\"translate(20.878125 223.00497)scale(0.1 -0.1)\">\n       <use xlink:href=\"#DejaVuSans-50\"/>\n       <use x=\"63.623047\" xlink:href=\"#DejaVuSans-48\"/>\n       <use x=\"127.246094\" xlink:href=\"#DejaVuSans-48\"/>\n      </g>\n     </g>\n    </g>\n    <g id=\"ytick_4\">\n     <g id=\"line2d_6\">\n      <g>\n       <use style=\"stroke:#000000;stroke-width:0.8;\" x=\"46.965625\" xlink:href=\"#m214973f464\" y=\"179.049564\"/>\n      </g>\n     </g>\n     <g id=\"text_6\">\n      <!-- 300 -->\n      <defs>\n       <path d=\"M 40.578125 39.3125  Q 47.65625 37.796875 51.625 33  Q 55.609375 28.21875 55.609375 21.1875  Q 55.609375 10.40625 48.1875 4.484375  Q 40.765625 -1.421875 27.09375 -1.421875  Q 22.515625 -1.421875 17.65625 -0.515625  Q 12.796875 0.390625 7.625 2.203125  L 7.625 11.71875  Q 11.71875 9.328125 16.59375 8.109375  Q 21.484375 6.890625 26.8125 6.890625  Q 36.078125 6.890625 40.9375 10.546875  Q 45.796875 14.203125 45.796875 21.1875  Q 45.796875 27.640625 41.28125 31.265625  Q 36.765625 34.90625 28.71875 34.90625  L 20.21875 34.90625  L 20.21875 43.015625  L 29.109375 43.015625  Q 36.375 43.015625 40.234375 45.921875  Q 44.09375 48.828125 44.09375 54.296875  Q 44.09375 59.90625 40.109375 62.90625  Q 36.140625 65.921875 28.71875 65.921875  Q 24.65625 65.921875 20.015625 65.03125  Q 15.375 64.15625 9.8125 62.3125  L 9.8125 71.09375  Q 15.4375 72.65625 20.34375 73.4375  Q 25.25 74.21875 29.59375 74.21875  Q 40.828125 74.21875 47.359375 69.109375  Q 53.90625 64.015625 53.90625 55.328125  Q 53.90625 49.265625 50.4375 45.09375  Q 46.96875 40.921875 40.578125 39.3125  z \" id=\"DejaVuSans-51\"/>\n      </defs>\n      <g transform=\"translate(20.878125 182.848782)scale(0.1 -0.1)\">\n       <use xlink:href=\"#DejaVuSans-51\"/>\n       <use x=\"63.623047\" xlink:href=\"#DejaVuSans-48\"/>\n       <use x=\"127.246094\" xlink:href=\"#DejaVuSans-48\"/>\n      </g>\n     </g>\n    </g>\n    <g id=\"ytick_5\">\n     <g id=\"line2d_7\">\n      <g>\n       <use style=\"stroke:#000000;stroke-width:0.8;\" x=\"46.965625\" xlink:href=\"#m214973f464\" y=\"138.893377\"/>\n      </g>\n     </g>\n     <g id=\"text_7\">\n      <!-- 400 -->\n      <defs>\n       <path d=\"M 37.796875 64.3125  L 12.890625 25.390625  L 37.796875 25.390625  z M 35.203125 72.90625  L 47.609375 72.90625  L 47.609375 25.390625  L 58.015625 25.390625  L 58.015625 17.1875  L 47.609375 17.1875  L 47.609375 0  L 37.796875 0  L 37.796875 17.1875  L 4.890625 17.1875  L 4.890625 26.703125  z \" id=\"DejaVuSans-52\"/>\n      </defs>\n      <g transform=\"translate(20.878125 142.692595)scale(0.1 -0.1)\">\n       <use xlink:href=\"#DejaVuSans-52\"/>\n       <use x=\"63.623047\" xlink:href=\"#DejaVuSans-48\"/>\n       <use x=\"127.246094\" xlink:href=\"#DejaVuSans-48\"/>\n      </g>\n     </g>\n    </g>\n    <g id=\"ytick_6\">\n     <g id=\"line2d_8\">\n      <g>\n       <use style=\"stroke:#000000;stroke-width:0.8;\" x=\"46.965625\" xlink:href=\"#m214973f464\" y=\"98.737189\"/>\n      </g>\n     </g>\n     <g id=\"text_8\">\n      <!-- 500 -->\n      <defs>\n       <path d=\"M 10.796875 72.90625  L 49.515625 72.90625  L 49.515625 64.59375  L 19.828125 64.59375  L 19.828125 46.734375  Q 21.96875 47.46875 24.109375 47.828125  Q 26.265625 48.1875 28.421875 48.1875  Q 40.625 48.1875 47.75 41.5  Q 54.890625 34.8125 54.890625 23.390625  Q 54.890625 11.625 47.5625 5.09375  Q 40.234375 -1.421875 26.90625 -1.421875  Q 22.3125 -1.421875 17.546875 -0.640625  Q 12.796875 0.140625 7.71875 1.703125  L 7.71875 11.625  Q 12.109375 9.234375 16.796875 8.0625  Q 21.484375 6.890625 26.703125 6.890625  Q 35.15625 6.890625 40.078125 11.328125  Q 45.015625 15.765625 45.015625 23.390625  Q 45.015625 31 40.078125 35.4375  Q 35.15625 39.890625 26.703125 39.890625  Q 22.75 39.890625 18.8125 39.015625  Q 14.890625 38.140625 10.796875 36.28125  z \" id=\"DejaVuSans-53\"/>\n      </defs>\n      <g transform=\"translate(20.878125 102.536408)scale(0.1 -0.1)\">\n       <use xlink:href=\"#DejaVuSans-53\"/>\n       <use x=\"63.623047\" xlink:href=\"#DejaVuSans-48\"/>\n       <use x=\"127.246094\" xlink:href=\"#DejaVuSans-48\"/>\n      </g>\n     </g>\n    </g>\n    <g id=\"ytick_7\">\n     <g id=\"line2d_9\">\n      <g>\n       <use style=\"stroke:#000000;stroke-width:0.8;\" x=\"46.965625\" xlink:href=\"#m214973f464\" y=\"58.581002\"/>\n      </g>\n     </g>\n     <g id=\"text_9\">\n      <!-- 600 -->\n      <defs>\n       <path d=\"M 33.015625 40.375  Q 26.375 40.375 22.484375 35.828125  Q 18.609375 31.296875 18.609375 23.390625  Q 18.609375 15.53125 22.484375 10.953125  Q 26.375 6.390625 33.015625 6.390625  Q 39.65625 6.390625 43.53125 10.953125  Q 47.40625 15.53125 47.40625 23.390625  Q 47.40625 31.296875 43.53125 35.828125  Q 39.65625 40.375 33.015625 40.375  z M 52.59375 71.296875  L 52.59375 62.3125  Q 48.875 64.0625 45.09375 64.984375  Q 41.3125 65.921875 37.59375 65.921875  Q 27.828125 65.921875 22.671875 59.328125  Q 17.53125 52.734375 16.796875 39.40625  Q 19.671875 43.65625 24.015625 45.921875  Q 28.375 48.1875 33.59375 48.1875  Q 44.578125 48.1875 50.953125 41.515625  Q 57.328125 34.859375 57.328125 23.390625  Q 57.328125 12.15625 50.6875 5.359375  Q 44.046875 -1.421875 33.015625 -1.421875  Q 20.359375 -1.421875 13.671875 8.265625  Q 6.984375 17.96875 6.984375 36.375  Q 6.984375 53.65625 15.1875 63.9375  Q 23.390625 74.21875 37.203125 74.21875  Q 40.921875 74.21875 44.703125 73.484375  Q 48.484375 72.75 52.59375 71.296875  z \" id=\"DejaVuSans-54\"/>\n      </defs>\n      <g transform=\"translate(20.878125 62.380221)scale(0.1 -0.1)\">\n       <use xlink:href=\"#DejaVuSans-54\"/>\n       <use x=\"63.623047\" xlink:href=\"#DejaVuSans-48\"/>\n       <use x=\"127.246094\" xlink:href=\"#DejaVuSans-48\"/>\n      </g>\n     </g>\n    </g>\n    <g id=\"text_10\">\n     <!-- Number of AEs per thousand individuals -->\n     <defs>\n      <path d=\"M 8.5 21.578125  L 8.5 54.6875  L 17.484375 54.6875  L 17.484375 21.921875  Q 17.484375 14.15625 20.5 10.265625  Q 23.53125 6.390625 29.59375 6.390625  Q 36.859375 6.390625 41.078125 11.03125  Q 45.3125 15.671875 45.3125 23.6875  L 45.3125 54.6875  L 54.296875 54.6875  L 54.296875 0  L 45.3125 0  L 45.3125 8.40625  Q 42.046875 3.421875 37.71875 1  Q 33.40625 -1.421875 27.6875 -1.421875  Q 18.265625 -1.421875 13.375 4.4375  Q 8.5 10.296875 8.5 21.578125  z M 31.109375 56  z \" id=\"DejaVuSans-117\"/>\n      <path d=\"M 52 44.1875  Q 55.375 50.25 60.0625 53.125  Q 64.75 56 71.09375 56  Q 79.640625 56 84.28125 50.015625  Q 88.921875 44.046875 88.921875 33.015625  L 88.921875 0  L 79.890625 0  L 79.890625 32.71875  Q 79.890625 40.578125 77.09375 44.375  Q 74.3125 48.1875 68.609375 48.1875  Q 61.625 48.1875 57.5625 43.546875  Q 53.515625 38.921875 53.515625 30.90625  L 53.515625 0  L 44.484375 0  L 44.484375 32.71875  Q 44.484375 40.625 41.703125 44.40625  Q 38.921875 48.1875 33.109375 48.1875  Q 26.21875 48.1875 22.15625 43.53125  Q 18.109375 38.875 18.109375 30.90625  L 18.109375 0  L 9.078125 0  L 9.078125 54.6875  L 18.109375 54.6875  L 18.109375 46.1875  Q 21.1875 51.21875 25.484375 53.609375  Q 29.78125 56 35.6875 56  Q 41.65625 56 45.828125 52.96875  Q 50 49.953125 52 44.1875  z \" id=\"DejaVuSans-109\"/>\n      <path d=\"M 48.6875 27.296875  Q 48.6875 37.203125 44.609375 42.84375  Q 40.53125 48.484375 33.40625 48.484375  Q 26.265625 48.484375 22.1875 42.84375  Q 18.109375 37.203125 18.109375 27.296875  Q 18.109375 17.390625 22.1875 11.75  Q 26.265625 6.109375 33.40625 6.109375  Q 40.53125 6.109375 44.609375 11.75  Q 48.6875 17.390625 48.6875 27.296875  z M 18.109375 46.390625  Q 20.953125 51.265625 25.265625 53.625  Q 29.59375 56 35.59375 56  Q 45.5625 56 51.78125 48.09375  Q 58.015625 40.1875 58.015625 27.296875  Q 58.015625 14.40625 51.78125 6.484375  Q 45.5625 -1.421875 35.59375 -1.421875  Q 29.59375 -1.421875 25.265625 0.953125  Q 20.953125 3.328125 18.109375 8.203125  L 18.109375 0  L 9.078125 0  L 9.078125 75.984375  L 18.109375 75.984375  z \" id=\"DejaVuSans-98\"/>\n      <path d=\"M 41.109375 46.296875  Q 39.59375 47.171875 37.8125 47.578125  Q 36.03125 48 33.890625 48  Q 26.265625 48 22.1875 43.046875  Q 18.109375 38.09375 18.109375 28.8125  L 18.109375 0  L 9.078125 0  L 9.078125 54.6875  L 18.109375 54.6875  L 18.109375 46.1875  Q 20.953125 51.171875 25.484375 53.578125  Q 30.03125 56 36.53125 56  Q 37.453125 56 38.578125 55.875  Q 39.703125 55.765625 41.0625 55.515625  z \" id=\"DejaVuSans-114\"/>\n      <path d=\"M 37.109375 75.984375  L 37.109375 68.5  L 28.515625 68.5  Q 23.6875 68.5 21.796875 66.546875  Q 19.921875 64.59375 19.921875 59.515625  L 19.921875 54.6875  L 34.71875 54.6875  L 34.71875 47.703125  L 19.921875 47.703125  L 19.921875 0  L 10.890625 0  L 10.890625 47.703125  L 2.296875 47.703125  L 2.296875 54.6875  L 10.890625 54.6875  L 10.890625 58.5  Q 10.890625 67.625 15.140625 71.796875  Q 19.390625 75.984375 28.609375 75.984375  z \" id=\"DejaVuSans-102\"/>\n      <path d=\"M 34.1875 63.1875  L 20.796875 26.90625  L 47.609375 26.90625  z M 28.609375 72.90625  L 39.796875 72.90625  L 67.578125 0  L 57.328125 0  L 50.6875 18.703125  L 17.828125 18.703125  L 11.1875 0  L 0.78125 0  z \" id=\"DejaVuSans-65\"/>\n      <path d=\"M 9.8125 72.90625  L 55.90625 72.90625  L 55.90625 64.59375  L 19.671875 64.59375  L 19.671875 43.015625  L 54.390625 43.015625  L 54.390625 34.71875  L 19.671875 34.71875  L 19.671875 8.296875  L 56.78125 8.296875  L 56.78125 0  L 9.8125 0  z \" id=\"DejaVuSans-69\"/>\n      <path d=\"M 44.28125 53.078125  L 44.28125 44.578125  Q 40.484375 46.53125 36.375 47.5  Q 32.28125 48.484375 27.875 48.484375  Q 21.1875 48.484375 17.84375 46.4375  Q 14.5 44.390625 14.5 40.28125  Q 14.5 37.15625 16.890625 35.375  Q 19.28125 33.59375 26.515625 31.984375  L 29.59375 31.296875  Q 39.15625 29.25 43.1875 25.515625  Q 47.21875 21.78125 47.21875 15.09375  Q 47.21875 7.46875 41.1875 3.015625  Q 35.15625 -1.421875 24.609375 -1.421875  Q 20.21875 -1.421875 15.453125 -0.5625  Q 10.6875 0.296875 5.421875 2  L 5.421875 11.28125  Q 10.40625 8.6875 15.234375 7.390625  Q 20.0625 6.109375 24.8125 6.109375  Q 31.15625 6.109375 34.5625 8.28125  Q 37.984375 10.453125 37.984375 14.40625  Q 37.984375 18.0625 35.515625 20.015625  Q 33.0625 21.96875 24.703125 23.78125  L 21.578125 24.515625  Q 13.234375 26.265625 9.515625 29.90625  Q 5.8125 33.546875 5.8125 39.890625  Q 5.8125 47.609375 11.28125 51.796875  Q 16.75 56 26.8125 56  Q 31.78125 56 36.171875 55.265625  Q 40.578125 54.546875 44.28125 53.078125  z \" id=\"DejaVuSans-115\"/>\n      <path d=\"M 18.109375 8.203125  L 18.109375 -20.796875  L 9.078125 -20.796875  L 9.078125 54.6875  L 18.109375 54.6875  L 18.109375 46.390625  Q 20.953125 51.265625 25.265625 53.625  Q 29.59375 56 35.59375 56  Q 45.5625 56 51.78125 48.09375  Q 58.015625 40.1875 58.015625 27.296875  Q 58.015625 14.40625 51.78125 6.484375  Q 45.5625 -1.421875 35.59375 -1.421875  Q 29.59375 -1.421875 25.265625 0.953125  Q 20.953125 3.328125 18.109375 8.203125  z M 48.6875 27.296875  Q 48.6875 37.203125 44.609375 42.84375  Q 40.53125 48.484375 33.40625 48.484375  Q 26.265625 48.484375 22.1875 42.84375  Q 18.109375 37.203125 18.109375 27.296875  Q 18.109375 17.390625 22.1875 11.75  Q 26.265625 6.109375 33.40625 6.109375  Q 40.53125 6.109375 44.609375 11.75  Q 48.6875 17.390625 48.6875 27.296875  z \" id=\"DejaVuSans-112\"/>\n      <path d=\"M 54.890625 33.015625  L 54.890625 0  L 45.90625 0  L 45.90625 32.71875  Q 45.90625 40.484375 42.875 44.328125  Q 39.84375 48.1875 33.796875 48.1875  Q 26.515625 48.1875 22.3125 43.546875  Q 18.109375 38.921875 18.109375 30.90625  L 18.109375 0  L 9.078125 0  L 9.078125 75.984375  L 18.109375 75.984375  L 18.109375 46.1875  Q 21.34375 51.125 25.703125 53.5625  Q 30.078125 56 35.796875 56  Q 45.21875 56 50.046875 50.171875  Q 54.890625 44.34375 54.890625 33.015625  z \" id=\"DejaVuSans-104\"/>\n      <path d=\"M 9.421875 75.984375  L 18.40625 75.984375  L 18.40625 0  L 9.421875 0  z \" id=\"DejaVuSans-108\"/>\n     </defs>\n     <g transform=\"translate(14.798438 261.498594)rotate(-90)scale(0.1 -0.1)\">\n      <use xlink:href=\"#DejaVuSans-78\"/>\n      <use x=\"74.804688\" xlink:href=\"#DejaVuSans-117\"/>\n      <use x=\"138.183594\" xlink:href=\"#DejaVuSans-109\"/>\n      <use x=\"235.595703\" xlink:href=\"#DejaVuSans-98\"/>\n      <use x=\"299.072266\" xlink:href=\"#DejaVuSans-101\"/>\n      <use x=\"360.595703\" xlink:href=\"#DejaVuSans-114\"/>\n      <use x=\"401.708984\" xlink:href=\"#DejaVuSans-32\"/>\n      <use x=\"433.496094\" xlink:href=\"#DejaVuSans-111\"/>\n      <use x=\"494.677734\" xlink:href=\"#DejaVuSans-102\"/>\n      <use x=\"529.882812\" xlink:href=\"#DejaVuSans-32\"/>\n      <use x=\"561.669922\" xlink:href=\"#DejaVuSans-65\"/>\n      <use x=\"630.078125\" xlink:href=\"#DejaVuSans-69\"/>\n      <use x=\"693.261719\" xlink:href=\"#DejaVuSans-115\"/>\n      <use x=\"745.361328\" xlink:href=\"#DejaVuSans-32\"/>\n      <use x=\"777.148438\" xlink:href=\"#DejaVuSans-112\"/>\n      <use x=\"840.625\" xlink:href=\"#DejaVuSans-101\"/>\n      <use x=\"902.148438\" xlink:href=\"#DejaVuSans-114\"/>\n      <use x=\"943.261719\" xlink:href=\"#DejaVuSans-32\"/>\n      <use x=\"975.048828\" xlink:href=\"#DejaVuSans-116\"/>\n      <use x=\"1014.257812\" xlink:href=\"#DejaVuSans-104\"/>\n      <use x=\"1077.636719\" xlink:href=\"#DejaVuSans-111\"/>\n      <use x=\"1138.818359\" xlink:href=\"#DejaVuSans-117\"/>\n      <use x=\"1202.197266\" xlink:href=\"#DejaVuSans-115\"/>\n      <use x=\"1254.296875\" xlink:href=\"#DejaVuSans-97\"/>\n      <use x=\"1315.576172\" xlink:href=\"#DejaVuSans-110\"/>\n      <use x=\"1378.955078\" xlink:href=\"#DejaVuSans-100\"/>\n      <use x=\"1442.431641\" xlink:href=\"#DejaVuSans-32\"/>\n      <use x=\"1474.21875\" xlink:href=\"#DejaVuSans-105\"/>\n      <use x=\"1502.001953\" xlink:href=\"#DejaVuSans-110\"/>\n      <use x=\"1565.380859\" xlink:href=\"#DejaVuSans-100\"/>\n      <use x=\"1628.857422\" xlink:href=\"#DejaVuSans-105\"/>\n      <use x=\"1656.640625\" xlink:href=\"#DejaVuSans-118\"/>\n      <use x=\"1715.820312\" xlink:href=\"#DejaVuSans-105\"/>\n      <use x=\"1743.603516\" xlink:href=\"#DejaVuSans-100\"/>\n      <use x=\"1807.080078\" xlink:href=\"#DejaVuSans-117\"/>\n      <use x=\"1870.458984\" xlink:href=\"#DejaVuSans-97\"/>\n      <use x=\"1931.738281\" xlink:href=\"#DejaVuSans-108\"/>\n      <use x=\"1959.521484\" xlink:href=\"#DejaVuSans-115\"/>\n     </g>\n    </g>\n   </g>\n   <g id=\"patch_5\">\n    <path d=\"M 46.965625 299.518125  L 46.965625 22.318125  \" style=\"fill:none;stroke:#000000;stroke-linecap:square;stroke-linejoin:miter;stroke-width:0.8;\"/>\n   </g>\n   <g id=\"patch_6\">\n    <path d=\"M 325.965625 299.518125  L 325.965625 22.318125  \" style=\"fill:none;stroke:#000000;stroke-linecap:square;stroke-linejoin:miter;stroke-width:0.8;\"/>\n   </g>\n   <g id=\"patch_7\">\n    <path d=\"M 46.965625 299.518125  L 325.965625 299.518125  \" style=\"fill:none;stroke:#000000;stroke-linecap:square;stroke-linejoin:miter;stroke-width:0.8;\"/>\n   </g>\n   <g id=\"patch_8\">\n    <path d=\"M 46.965625 22.318125  L 325.965625 22.318125  \" style=\"fill:none;stroke:#000000;stroke-linecap:square;stroke-linejoin:miter;stroke-width:0.8;\"/>\n   </g>\n   <g id=\"text_11\">\n    <!-- Adverse events in subjects with underlying diseases -->\n    <defs>\n     <path d=\"M 9.421875 54.6875  L 18.40625 54.6875  L 18.40625 -0.984375  Q 18.40625 -11.421875 14.421875 -16.109375  Q 10.453125 -20.796875 1.609375 -20.796875  L -1.8125 -20.796875  L -1.8125 -13.1875  L 0.59375 -13.1875  Q 5.71875 -13.1875 7.5625 -10.8125  Q 9.421875 -8.453125 9.421875 -0.984375  z M 9.421875 75.984375  L 18.40625 75.984375  L 18.40625 64.59375  L 9.421875 64.59375  z \" id=\"DejaVuSans-106\"/>\n     <path d=\"M 4.203125 54.6875  L 13.1875 54.6875  L 24.421875 12.015625  L 35.59375 54.6875  L 46.1875 54.6875  L 57.421875 12.015625  L 68.609375 54.6875  L 77.59375 54.6875  L 63.28125 0  L 52.6875 0  L 40.921875 44.828125  L 29.109375 0  L 18.5 0  z \" id=\"DejaVuSans-119\"/>\n     <path d=\"M 32.171875 -5.078125  Q 28.375 -14.84375 24.75 -17.8125  Q 21.140625 -20.796875 15.09375 -20.796875  L 7.90625 -20.796875  L 7.90625 -13.28125  L 13.1875 -13.28125  Q 16.890625 -13.28125 18.9375 -11.515625  Q 21 -9.765625 23.484375 -3.21875  L 25.09375 0.875  L 2.984375 54.6875  L 12.5 54.6875  L 29.59375 11.921875  L 46.6875 54.6875  L 56.203125 54.6875  z \" id=\"DejaVuSans-121\"/>\n     <path d=\"M 45.40625 27.984375  Q 45.40625 37.75 41.375 43.109375  Q 37.359375 48.484375 30.078125 48.484375  Q 22.859375 48.484375 18.828125 43.109375  Q 14.796875 37.75 14.796875 27.984375  Q 14.796875 18.265625 18.828125 12.890625  Q 22.859375 7.515625 30.078125 7.515625  Q 37.359375 7.515625 41.375 12.890625  Q 45.40625 18.265625 45.40625 27.984375  z M 54.390625 6.78125  Q 54.390625 -7.171875 48.1875 -13.984375  Q 42 -20.796875 29.203125 -20.796875  Q 24.46875 -20.796875 20.265625 -20.09375  Q 16.0625 -19.390625 12.109375 -17.921875  L 12.109375 -9.1875  Q 16.0625 -11.328125 19.921875 -12.34375  Q 23.78125 -13.375 27.78125 -13.375  Q 36.625 -13.375 41.015625 -8.765625  Q 45.40625 -4.15625 45.40625 5.171875  L 45.40625 9.625  Q 42.625 4.78125 38.28125 2.390625  Q 33.9375 0 27.875 0  Q 17.828125 0 11.671875 7.65625  Q 5.515625 15.328125 5.515625 27.984375  Q 5.515625 40.671875 11.671875 48.328125  Q 17.828125 56 27.875 56  Q 33.9375 56 38.28125 53.609375  Q 42.625 51.21875 45.40625 46.390625  L 45.40625 54.6875  L 54.390625 54.6875  z \" id=\"DejaVuSans-103\"/>\n    </defs>\n    <g transform=\"translate(29.31625 16.318125)scale(0.12 -0.12)\">\n     <use xlink:href=\"#DejaVuSans-65\"/>\n     <use x=\"68.392578\" xlink:href=\"#DejaVuSans-100\"/>\n     <use x=\"131.869141\" xlink:href=\"#DejaVuSans-118\"/>\n     <use x=\"191.048828\" xlink:href=\"#DejaVuSans-101\"/>\n     <use x=\"252.572266\" xlink:href=\"#DejaVuSans-114\"/>\n     <use x=\"293.685547\" xlink:href=\"#DejaVuSans-115\"/>\n     <use x=\"345.785156\" xlink:href=\"#DejaVuSans-101\"/>\n     <use x=\"407.308594\" xlink:href=\"#DejaVuSans-32\"/>\n     <use x=\"439.095703\" xlink:href=\"#DejaVuSans-101\"/>\n     <use x=\"500.619141\" xlink:href=\"#DejaVuSans-118\"/>\n     <use x=\"559.798828\" xlink:href=\"#DejaVuSans-101\"/>\n     <use x=\"621.322266\" xlink:href=\"#DejaVuSans-110\"/>\n     <use x=\"684.701172\" xlink:href=\"#DejaVuSans-116\"/>\n     <use x=\"723.910156\" xlink:href=\"#DejaVuSans-115\"/>\n     <use x=\"776.009766\" xlink:href=\"#DejaVuSans-32\"/>\n     <use x=\"807.796875\" xlink:href=\"#DejaVuSans-105\"/>\n     <use x=\"835.580078\" xlink:href=\"#DejaVuSans-110\"/>\n     <use x=\"898.958984\" xlink:href=\"#DejaVuSans-32\"/>\n     <use x=\"930.746094\" xlink:href=\"#DejaVuSans-115\"/>\n     <use x=\"982.845703\" xlink:href=\"#DejaVuSans-117\"/>\n     <use x=\"1046.224609\" xlink:href=\"#DejaVuSans-98\"/>\n     <use x=\"1109.701172\" xlink:href=\"#DejaVuSans-106\"/>\n     <use x=\"1137.484375\" xlink:href=\"#DejaVuSans-101\"/>\n     <use x=\"1199.007812\" xlink:href=\"#DejaVuSans-99\"/>\n     <use x=\"1253.988281\" xlink:href=\"#DejaVuSans-116\"/>\n     <use x=\"1293.197266\" xlink:href=\"#DejaVuSans-115\"/>\n     <use x=\"1345.296875\" xlink:href=\"#DejaVuSans-32\"/>\n     <use x=\"1377.083984\" xlink:href=\"#DejaVuSans-119\"/>\n     <use x=\"1458.871094\" xlink:href=\"#DejaVuSans-105\"/>\n     <use x=\"1486.654297\" xlink:href=\"#DejaVuSans-116\"/>\n     <use x=\"1525.863281\" xlink:href=\"#DejaVuSans-104\"/>\n     <use x=\"1589.242188\" xlink:href=\"#DejaVuSans-32\"/>\n     <use x=\"1621.029297\" xlink:href=\"#DejaVuSans-117\"/>\n     <use x=\"1684.408203\" xlink:href=\"#DejaVuSans-110\"/>\n     <use x=\"1747.787109\" xlink:href=\"#DejaVuSans-100\"/>\n     <use x=\"1811.263672\" xlink:href=\"#DejaVuSans-101\"/>\n     <use x=\"1872.787109\" xlink:href=\"#DejaVuSans-114\"/>\n     <use x=\"1913.900391\" xlink:href=\"#DejaVuSans-108\"/>\n     <use x=\"1941.683594\" xlink:href=\"#DejaVuSans-121\"/>\n     <use x=\"2000.863281\" xlink:href=\"#DejaVuSans-105\"/>\n     <use x=\"2028.646484\" xlink:href=\"#DejaVuSans-110\"/>\n     <use x=\"2092.025391\" xlink:href=\"#DejaVuSans-103\"/>\n     <use x=\"2155.501953\" xlink:href=\"#DejaVuSans-32\"/>\n     <use x=\"2187.289062\" xlink:href=\"#DejaVuSans-100\"/>\n     <use x=\"2250.765625\" xlink:href=\"#DejaVuSans-105\"/>\n     <use x=\"2278.548828\" xlink:href=\"#DejaVuSans-115\"/>\n     <use x=\"2330.648438\" xlink:href=\"#DejaVuSans-101\"/>\n     <use x=\"2392.171875\" xlink:href=\"#DejaVuSans-97\"/>\n     <use x=\"2453.451172\" xlink:href=\"#DejaVuSans-115\"/>\n     <use x=\"2505.550781\" xlink:href=\"#DejaVuSans-101\"/>\n     <use x=\"2567.074219\" xlink:href=\"#DejaVuSans-115\"/>\n    </g>\n   </g>\n  </g>\n </g>\n <defs>\n  <clipPath id=\"pe1dfc35008\">\n   <rect height=\"277.2\" width=\"279\" x=\"46.965625\" y=\"22.318125\"/>\n  </clipPath>\n </defs>\n</svg>",
      "text/plain": [
       "<IPython.core.display.SVG object>"
      ]
     },
     "execution_count": 7,
     "metadata": {},
     "output_type": "execute_result"
    }
   ],
   "source": [
    "# Figure 2\n",
    "SVG(filename='analysis_euler/1b_total_AE_barplot.svg')"
   ]
  },
  {
   "cell_type": "markdown",
   "metadata": {},
   "source": [
    "When again focusing on the occurrence of one or multiple events (event) or none (no event), there were relatively more vaccinated (20'473 of 146'167) than unvaccinated patients (807 of 39'972) with at least one adverse event, as seen in table 2."
   ]
  },
  {
   "cell_type": "code",
   "execution_count": 9,
   "metadata": {},
   "outputs": [
    {
     "data": {
      "text/html": [
       "<div>\n",
       "<style scoped>\n",
       "    .dataframe tbody tr th:only-of-type {\n",
       "        vertical-align: middle;\n",
       "    }\n",
       "\n",
       "    .dataframe tbody tr th {\n",
       "        vertical-align: top;\n",
       "    }\n",
       "\n",
       "    .dataframe thead th {\n",
       "        text-align: right;\n",
       "    }\n",
       "</style>\n",
       "<table border=\"1\" class=\"dataframe\">\n",
       "  <thead>\n",
       "    <tr style=\"text-align: right;\">\n",
       "      <th></th>\n",
       "      <th>Unnamed: 0</th>\n",
       "      <th>event</th>\n",
       "      <th>no event</th>\n",
       "      <th>Total</th>\n",
       "    </tr>\n",
       "  </thead>\n",
       "  <tbody>\n",
       "    <tr>\n",
       "      <th>0</th>\n",
       "      <td>Vaccinated</td>\n",
       "      <td>20473.0</td>\n",
       "      <td>125694.0</td>\n",
       "      <td>146167.0</td>\n",
       "    </tr>\n",
       "    <tr>\n",
       "      <th>1</th>\n",
       "      <td>Not vaccinated</td>\n",
       "      <td>807.0</td>\n",
       "      <td>39165.0</td>\n",
       "      <td>39972.0</td>\n",
       "    </tr>\n",
       "    <tr>\n",
       "      <th>2</th>\n",
       "      <td>Total</td>\n",
       "      <td>21280.0</td>\n",
       "      <td>164859.0</td>\n",
       "      <td>186139.0</td>\n",
       "    </tr>\n",
       "  </tbody>\n",
       "</table>\n",
       "</div>"
      ],
      "text/plain": [
       "       Unnamed: 0    event  no event     Total\n",
       "0      Vaccinated  20473.0  125694.0  146167.0\n",
       "1  Not vaccinated    807.0   39165.0   39972.0\n",
       "2           Total  21280.0  164859.0  186139.0"
      ]
     },
     "execution_count": 9,
     "metadata": {},
     "output_type": "execute_result"
    }
   ],
   "source": [
    "# Table 2\n",
    "table = pd.read_csv('analysis_euler/1b_contigency_table.csv') \n",
    "table\n"
   ]
  },
  {
   "cell_type": "markdown",
   "metadata": {},
   "source": [
    "The relation between these two variables, the vaccination status and the ocurrence of an adverse event, in this subgroup of patients with an underlying disease was significant (X2 (1, N = 186139) = 4453.611, p = .0), with the occurrence of an adverse event being more likely in the vaccinated subjects."
   ]
  },
  {
   "cell_type": "markdown",
   "metadata": {},
   "source": [
    "The risk of experiencing an adverse event among vaccinated subjects was 6.9 times higher than among unvaccinated subjects (RR: 6.9, CI: 6.5 - 7.4)."
   ]
  },
  {
   "cell_type": "markdown",
   "metadata": {},
   "source": [
    "The risk ratios of analyses 1a) and 1b) are illustrated in figure 3."
   ]
  },
  {
   "cell_type": "code",
   "execution_count": 10,
   "metadata": {},
   "outputs": [
    {
     "data": {
      "image/svg+xml": "<svg xmlns=\"http://www.w3.org/2000/svg\" xmlns:xlink=\"http://www.w3.org/1999/xlink\" height=\"392.514375pt\" version=\"1.1\" viewBox=\"0 0 606.725625 392.514375\" width=\"606.725625pt\">\n <defs>\n  <style type=\"text/css\">\n*{stroke-linecap:butt;stroke-linejoin:round;}\n  </style>\n </defs>\n <g id=\"figure_1\">\n  <g id=\"patch_1\">\n   <path d=\"M 0 392.514375  L 606.725625 392.514375  L 606.725625 0  L 0 0  z \" style=\"fill:#ffffff;\"/>\n  </g>\n  <g id=\"axes_1\">\n   <g id=\"patch_2\">\n    <path d=\"M 175.485938 354.958125  L 510.285938 354.958125  L 510.285938 22.318125  L 175.485938 22.318125  z \" style=\"fill:#ffffff;\"/>\n   </g>\n   <g id=\"matplotlib.axis_1\">\n    <g id=\"xtick_1\">\n     <g id=\"line2d_1\">\n      <defs>\n       <path d=\"M 0 0  L 0 3.5  \" id=\"m326e791d84\" style=\"stroke:#000000;stroke-width:0.8;\"/>\n      </defs>\n      <g>\n       <use style=\"stroke:#000000;stroke-width:0.8;\" x=\"190.704119\" xlink:href=\"#m326e791d84\" y=\"354.958125\"/>\n      </g>\n     </g>\n     <g id=\"text_1\">\n      <!-- $\\mathdefault{10^{0}}$ -->\n      <defs>\n       <path d=\"M 12.40625 8.296875  L 28.515625 8.296875  L 28.515625 63.921875  L 10.984375 60.40625  L 10.984375 69.390625  L 28.421875 72.90625  L 38.28125 72.90625  L 38.28125 8.296875  L 54.390625 8.296875  L 54.390625 0  L 12.40625 0  z \" id=\"DejaVuSans-49\"/>\n       <path d=\"M 31.78125 66.40625  Q 24.171875 66.40625 20.328125 58.90625  Q 16.5 51.421875 16.5 36.375  Q 16.5 21.390625 20.328125 13.890625  Q 24.171875 6.390625 31.78125 6.390625  Q 39.453125 6.390625 43.28125 13.890625  Q 47.125 21.390625 47.125 36.375  Q 47.125 51.421875 43.28125 58.90625  Q 39.453125 66.40625 31.78125 66.40625  z M 31.78125 74.21875  Q 44.046875 74.21875 50.515625 64.515625  Q 56.984375 54.828125 56.984375 36.375  Q 56.984375 17.96875 50.515625 8.265625  Q 44.046875 -1.421875 31.78125 -1.421875  Q 19.53125 -1.421875 13.0625 8.265625  Q 6.59375 17.96875 6.59375 36.375  Q 6.59375 54.828125 13.0625 64.515625  Q 19.53125 74.21875 31.78125 74.21875  z \" id=\"DejaVuSans-48\"/>\n      </defs>\n      <g transform=\"translate(181.904119 369.556562)scale(0.1 -0.1)\">\n       <use transform=\"translate(0 0.765625)\" xlink:href=\"#DejaVuSans-49\"/>\n       <use transform=\"translate(63.623047 0.765625)\" xlink:href=\"#DejaVuSans-48\"/>\n       <use transform=\"translate(128.203125 39.046875)scale(0.7)\" xlink:href=\"#DejaVuSans-48\"/>\n      </g>\n     </g>\n    </g>\n    <g id=\"xtick_2\">\n     <g id=\"line2d_2\">\n      <g>\n       <use style=\"stroke:#000000;stroke-width:0.8;\" x=\"346.076217\" xlink:href=\"#m326e791d84\" y=\"354.958125\"/>\n      </g>\n     </g>\n     <g id=\"text_2\">\n      <!-- $\\mathdefault{10^{1}}$ -->\n      <g transform=\"translate(337.276217 369.556562)scale(0.1 -0.1)\">\n       <use transform=\"translate(0 0.684375)\" xlink:href=\"#DejaVuSans-49\"/>\n       <use transform=\"translate(63.623047 0.684375)\" xlink:href=\"#DejaVuSans-48\"/>\n       <use transform=\"translate(128.203125 38.965625)scale(0.7)\" xlink:href=\"#DejaVuSans-49\"/>\n      </g>\n     </g>\n    </g>\n    <g id=\"xtick_3\">\n     <g id=\"line2d_3\">\n      <g>\n       <use style=\"stroke:#000000;stroke-width:0.8;\" x=\"501.448315\" xlink:href=\"#m326e791d84\" y=\"354.958125\"/>\n      </g>\n     </g>\n     <g id=\"text_3\">\n      <!-- $\\mathdefault{10^{2}}$ -->\n      <defs>\n       <path d=\"M 19.1875 8.296875  L 53.609375 8.296875  L 53.609375 0  L 7.328125 0  L 7.328125 8.296875  Q 12.9375 14.109375 22.625 23.890625  Q 32.328125 33.6875 34.8125 36.53125  Q 39.546875 41.84375 41.421875 45.53125  Q 43.3125 49.21875 43.3125 52.78125  Q 43.3125 58.59375 39.234375 62.25  Q 35.15625 65.921875 28.609375 65.921875  Q 23.96875 65.921875 18.8125 64.3125  Q 13.671875 62.703125 7.8125 59.421875  L 7.8125 69.390625  Q 13.765625 71.78125 18.9375 73  Q 24.125 74.21875 28.421875 74.21875  Q 39.75 74.21875 46.484375 68.546875  Q 53.21875 62.890625 53.21875 53.421875  Q 53.21875 48.921875 51.53125 44.890625  Q 49.859375 40.875 45.40625 35.40625  Q 44.1875 33.984375 37.640625 27.21875  Q 31.109375 20.453125 19.1875 8.296875  z \" id=\"DejaVuSans-50\"/>\n      </defs>\n      <g transform=\"translate(492.648315 369.556562)scale(0.1 -0.1)\">\n       <use transform=\"translate(0 0.765625)\" xlink:href=\"#DejaVuSans-49\"/>\n       <use transform=\"translate(63.623047 0.765625)\" xlink:href=\"#DejaVuSans-48\"/>\n       <use transform=\"translate(128.203125 39.046875)scale(0.7)\" xlink:href=\"#DejaVuSans-50\"/>\n      </g>\n     </g>\n    </g>\n    <g id=\"xtick_4\">\n     <g id=\"line2d_4\">\n      <defs>\n       <path d=\"M 0 0  L 0 2  \" id=\"mf8ec8f6716\" style=\"stroke:#000000;stroke-width:0.6;\"/>\n      </defs>\n      <g>\n       <use style=\"stroke:#000000;stroke-width:0.6;\" x=\"175.647007\" xlink:href=\"#mf8ec8f6716\" y=\"354.958125\"/>\n      </g>\n     </g>\n    </g>\n    <g id=\"xtick_5\">\n     <g id=\"line2d_5\">\n      <g>\n       <use style=\"stroke:#000000;stroke-width:0.6;\" x=\"183.594682\" xlink:href=\"#mf8ec8f6716\" y=\"354.958125\"/>\n      </g>\n     </g>\n    </g>\n    <g id=\"xtick_6\">\n     <g id=\"line2d_6\">\n      <g>\n       <use style=\"stroke:#000000;stroke-width:0.6;\" x=\"237.475781\" xlink:href=\"#mf8ec8f6716\" y=\"354.958125\"/>\n      </g>\n     </g>\n    </g>\n    <g id=\"xtick_7\">\n     <g id=\"line2d_7\">\n      <g>\n       <use style=\"stroke:#000000;stroke-width:0.6;\" x=\"264.83545\" xlink:href=\"#mf8ec8f6716\" y=\"354.958125\"/>\n      </g>\n     </g>\n    </g>\n    <g id=\"xtick_8\">\n     <g id=\"line2d_8\">\n      <g>\n       <use style=\"stroke:#000000;stroke-width:0.6;\" x=\"284.247443\" xlink:href=\"#mf8ec8f6716\" y=\"354.958125\"/>\n      </g>\n     </g>\n    </g>\n    <g id=\"xtick_9\">\n     <g id=\"line2d_9\">\n      <g>\n       <use style=\"stroke:#000000;stroke-width:0.6;\" x=\"299.304555\" xlink:href=\"#mf8ec8f6716\" y=\"354.958125\"/>\n      </g>\n     </g>\n    </g>\n    <g id=\"xtick_10\">\n     <g id=\"line2d_10\">\n      <g>\n       <use style=\"stroke:#000000;stroke-width:0.6;\" x=\"311.607112\" xlink:href=\"#mf8ec8f6716\" y=\"354.958125\"/>\n      </g>\n     </g>\n    </g>\n    <g id=\"xtick_11\">\n     <g id=\"line2d_11\">\n      <g>\n       <use style=\"stroke:#000000;stroke-width:0.6;\" x=\"322.008775\" xlink:href=\"#mf8ec8f6716\" y=\"354.958125\"/>\n      </g>\n     </g>\n    </g>\n    <g id=\"xtick_12\">\n     <g id=\"line2d_12\">\n      <g>\n       <use style=\"stroke:#000000;stroke-width:0.6;\" x=\"331.019105\" xlink:href=\"#mf8ec8f6716\" y=\"354.958125\"/>\n      </g>\n     </g>\n    </g>\n    <g id=\"xtick_13\">\n     <g id=\"line2d_13\">\n      <g>\n       <use style=\"stroke:#000000;stroke-width:0.6;\" x=\"338.96678\" xlink:href=\"#mf8ec8f6716\" y=\"354.958125\"/>\n      </g>\n     </g>\n    </g>\n    <g id=\"xtick_14\">\n     <g id=\"line2d_14\">\n      <g>\n       <use style=\"stroke:#000000;stroke-width:0.6;\" x=\"392.847879\" xlink:href=\"#mf8ec8f6716\" y=\"354.958125\"/>\n      </g>\n     </g>\n    </g>\n    <g id=\"xtick_15\">\n     <g id=\"line2d_15\">\n      <g>\n       <use style=\"stroke:#000000;stroke-width:0.6;\" x=\"420.207547\" xlink:href=\"#mf8ec8f6716\" y=\"354.958125\"/>\n      </g>\n     </g>\n    </g>\n    <g id=\"xtick_16\">\n     <g id=\"line2d_16\">\n      <g>\n       <use style=\"stroke:#000000;stroke-width:0.6;\" x=\"439.619541\" xlink:href=\"#mf8ec8f6716\" y=\"354.958125\"/>\n      </g>\n     </g>\n    </g>\n    <g id=\"xtick_17\">\n     <g id=\"line2d_17\">\n      <g>\n       <use style=\"stroke:#000000;stroke-width:0.6;\" x=\"454.676653\" xlink:href=\"#mf8ec8f6716\" y=\"354.958125\"/>\n      </g>\n     </g>\n    </g>\n    <g id=\"xtick_18\">\n     <g id=\"line2d_18\">\n      <g>\n       <use style=\"stroke:#000000;stroke-width:0.6;\" x=\"466.979209\" xlink:href=\"#mf8ec8f6716\" y=\"354.958125\"/>\n      </g>\n     </g>\n    </g>\n    <g id=\"xtick_19\">\n     <g id=\"line2d_19\">\n      <g>\n       <use style=\"stroke:#000000;stroke-width:0.6;\" x=\"477.380873\" xlink:href=\"#mf8ec8f6716\" y=\"354.958125\"/>\n      </g>\n     </g>\n    </g>\n    <g id=\"xtick_20\">\n     <g id=\"line2d_20\">\n      <g>\n       <use style=\"stroke:#000000;stroke-width:0.6;\" x=\"486.391203\" xlink:href=\"#mf8ec8f6716\" y=\"354.958125\"/>\n      </g>\n     </g>\n    </g>\n    <g id=\"xtick_21\">\n     <g id=\"line2d_21\">\n      <g>\n       <use style=\"stroke:#000000;stroke-width:0.6;\" x=\"494.338878\" xlink:href=\"#mf8ec8f6716\" y=\"354.958125\"/>\n      </g>\n     </g>\n    </g>\n    <g id=\"text_4\">\n     <!-- Risk Ratio (log scale) -->\n     <defs>\n      <path d=\"M 44.390625 34.1875  Q 47.5625 33.109375 50.5625 29.59375  Q 53.5625 26.078125 56.59375 19.921875  L 66.609375 0  L 56 0  L 46.6875 18.703125  Q 43.0625 26.03125 39.671875 28.421875  Q 36.28125 30.8125 30.421875 30.8125  L 19.671875 30.8125  L 19.671875 0  L 9.8125 0  L 9.8125 72.90625  L 32.078125 72.90625  Q 44.578125 72.90625 50.734375 67.671875  Q 56.890625 62.453125 56.890625 51.90625  Q 56.890625 45.015625 53.6875 40.46875  Q 50.484375 35.9375 44.390625 34.1875  z M 19.671875 64.796875  L 19.671875 38.921875  L 32.078125 38.921875  Q 39.203125 38.921875 42.84375 42.21875  Q 46.484375 45.515625 46.484375 51.90625  Q 46.484375 58.296875 42.84375 61.546875  Q 39.203125 64.796875 32.078125 64.796875  z \" id=\"DejaVuSans-82\"/>\n      <path d=\"M 9.421875 54.6875  L 18.40625 54.6875  L 18.40625 0  L 9.421875 0  z M 9.421875 75.984375  L 18.40625 75.984375  L 18.40625 64.59375  L 9.421875 64.59375  z \" id=\"DejaVuSans-105\"/>\n      <path d=\"M 44.28125 53.078125  L 44.28125 44.578125  Q 40.484375 46.53125 36.375 47.5  Q 32.28125 48.484375 27.875 48.484375  Q 21.1875 48.484375 17.84375 46.4375  Q 14.5 44.390625 14.5 40.28125  Q 14.5 37.15625 16.890625 35.375  Q 19.28125 33.59375 26.515625 31.984375  L 29.59375 31.296875  Q 39.15625 29.25 43.1875 25.515625  Q 47.21875 21.78125 47.21875 15.09375  Q 47.21875 7.46875 41.1875 3.015625  Q 35.15625 -1.421875 24.609375 -1.421875  Q 20.21875 -1.421875 15.453125 -0.5625  Q 10.6875 0.296875 5.421875 2  L 5.421875 11.28125  Q 10.40625 8.6875 15.234375 7.390625  Q 20.0625 6.109375 24.8125 6.109375  Q 31.15625 6.109375 34.5625 8.28125  Q 37.984375 10.453125 37.984375 14.40625  Q 37.984375 18.0625 35.515625 20.015625  Q 33.0625 21.96875 24.703125 23.78125  L 21.578125 24.515625  Q 13.234375 26.265625 9.515625 29.90625  Q 5.8125 33.546875 5.8125 39.890625  Q 5.8125 47.609375 11.28125 51.796875  Q 16.75 56 26.8125 56  Q 31.78125 56 36.171875 55.265625  Q 40.578125 54.546875 44.28125 53.078125  z \" id=\"DejaVuSans-115\"/>\n      <path d=\"M 9.078125 75.984375  L 18.109375 75.984375  L 18.109375 31.109375  L 44.921875 54.6875  L 56.390625 54.6875  L 27.390625 29.109375  L 57.625 0  L 45.90625 0  L 18.109375 26.703125  L 18.109375 0  L 9.078125 0  z \" id=\"DejaVuSans-107\"/>\n      <path id=\"DejaVuSans-32\"/>\n      <path d=\"M 34.28125 27.484375  Q 23.390625 27.484375 19.1875 25  Q 14.984375 22.515625 14.984375 16.5  Q 14.984375 11.71875 18.140625 8.90625  Q 21.296875 6.109375 26.703125 6.109375  Q 34.1875 6.109375 38.703125 11.40625  Q 43.21875 16.703125 43.21875 25.484375  L 43.21875 27.484375  z M 52.203125 31.203125  L 52.203125 0  L 43.21875 0  L 43.21875 8.296875  Q 40.140625 3.328125 35.546875 0.953125  Q 30.953125 -1.421875 24.3125 -1.421875  Q 15.921875 -1.421875 10.953125 3.296875  Q 6 8.015625 6 15.921875  Q 6 25.140625 12.171875 29.828125  Q 18.359375 34.515625 30.609375 34.515625  L 43.21875 34.515625  L 43.21875 35.40625  Q 43.21875 41.609375 39.140625 45  Q 35.0625 48.390625 27.6875 48.390625  Q 23 48.390625 18.546875 47.265625  Q 14.109375 46.140625 10.015625 43.890625  L 10.015625 52.203125  Q 14.9375 54.109375 19.578125 55.046875  Q 24.21875 56 28.609375 56  Q 40.484375 56 46.34375 49.84375  Q 52.203125 43.703125 52.203125 31.203125  z \" id=\"DejaVuSans-97\"/>\n      <path d=\"M 18.3125 70.21875  L 18.3125 54.6875  L 36.8125 54.6875  L 36.8125 47.703125  L 18.3125 47.703125  L 18.3125 18.015625  Q 18.3125 11.328125 20.140625 9.421875  Q 21.96875 7.515625 27.59375 7.515625  L 36.8125 7.515625  L 36.8125 0  L 27.59375 0  Q 17.1875 0 13.234375 3.875  Q 9.28125 7.765625 9.28125 18.015625  L 9.28125 47.703125  L 2.6875 47.703125  L 2.6875 54.6875  L 9.28125 54.6875  L 9.28125 70.21875  z \" id=\"DejaVuSans-116\"/>\n      <path d=\"M 30.609375 48.390625  Q 23.390625 48.390625 19.1875 42.75  Q 14.984375 37.109375 14.984375 27.296875  Q 14.984375 17.484375 19.15625 11.84375  Q 23.34375 6.203125 30.609375 6.203125  Q 37.796875 6.203125 41.984375 11.859375  Q 46.1875 17.53125 46.1875 27.296875  Q 46.1875 37.015625 41.984375 42.703125  Q 37.796875 48.390625 30.609375 48.390625  z M 30.609375 56  Q 42.328125 56 49.015625 48.375  Q 55.71875 40.765625 55.71875 27.296875  Q 55.71875 13.875 49.015625 6.21875  Q 42.328125 -1.421875 30.609375 -1.421875  Q 18.84375 -1.421875 12.171875 6.21875  Q 5.515625 13.875 5.515625 27.296875  Q 5.515625 40.765625 12.171875 48.375  Q 18.84375 56 30.609375 56  z \" id=\"DejaVuSans-111\"/>\n      <path d=\"M 31 75.875  Q 24.46875 64.65625 21.28125 53.65625  Q 18.109375 42.671875 18.109375 31.390625  Q 18.109375 20.125 21.3125 9.0625  Q 24.515625 -2 31 -13.1875  L 23.1875 -13.1875  Q 15.875 -1.703125 12.234375 9.375  Q 8.59375 20.453125 8.59375 31.390625  Q 8.59375 42.28125 12.203125 53.3125  Q 15.828125 64.359375 23.1875 75.875  z \" id=\"DejaVuSans-40\"/>\n      <path d=\"M 9.421875 75.984375  L 18.40625 75.984375  L 18.40625 0  L 9.421875 0  z \" id=\"DejaVuSans-108\"/>\n      <path d=\"M 45.40625 27.984375  Q 45.40625 37.75 41.375 43.109375  Q 37.359375 48.484375 30.078125 48.484375  Q 22.859375 48.484375 18.828125 43.109375  Q 14.796875 37.75 14.796875 27.984375  Q 14.796875 18.265625 18.828125 12.890625  Q 22.859375 7.515625 30.078125 7.515625  Q 37.359375 7.515625 41.375 12.890625  Q 45.40625 18.265625 45.40625 27.984375  z M 54.390625 6.78125  Q 54.390625 -7.171875 48.1875 -13.984375  Q 42 -20.796875 29.203125 -20.796875  Q 24.46875 -20.796875 20.265625 -20.09375  Q 16.0625 -19.390625 12.109375 -17.921875  L 12.109375 -9.1875  Q 16.0625 -11.328125 19.921875 -12.34375  Q 23.78125 -13.375 27.78125 -13.375  Q 36.625 -13.375 41.015625 -8.765625  Q 45.40625 -4.15625 45.40625 5.171875  L 45.40625 9.625  Q 42.625 4.78125 38.28125 2.390625  Q 33.9375 0 27.875 0  Q 17.828125 0 11.671875 7.65625  Q 5.515625 15.328125 5.515625 27.984375  Q 5.515625 40.671875 11.671875 48.328125  Q 17.828125 56 27.875 56  Q 33.9375 56 38.28125 53.609375  Q 42.625 51.21875 45.40625 46.390625  L 45.40625 54.6875  L 54.390625 54.6875  z \" id=\"DejaVuSans-103\"/>\n      <path d=\"M 48.78125 52.59375  L 48.78125 44.1875  Q 44.96875 46.296875 41.140625 47.34375  Q 37.3125 48.390625 33.40625 48.390625  Q 24.65625 48.390625 19.8125 42.84375  Q 14.984375 37.3125 14.984375 27.296875  Q 14.984375 17.28125 19.8125 11.734375  Q 24.65625 6.203125 33.40625 6.203125  Q 37.3125 6.203125 41.140625 7.25  Q 44.96875 8.296875 48.78125 10.40625  L 48.78125 2.09375  Q 45.015625 0.34375 40.984375 -0.53125  Q 36.96875 -1.421875 32.421875 -1.421875  Q 20.0625 -1.421875 12.78125 6.34375  Q 5.515625 14.109375 5.515625 27.296875  Q 5.515625 40.671875 12.859375 48.328125  Q 20.21875 56 33.015625 56  Q 37.15625 56 41.109375 55.140625  Q 45.0625 54.296875 48.78125 52.59375  z \" id=\"DejaVuSans-99\"/>\n      <path d=\"M 56.203125 29.59375  L 56.203125 25.203125  L 14.890625 25.203125  Q 15.484375 15.921875 20.484375 11.0625  Q 25.484375 6.203125 34.421875 6.203125  Q 39.59375 6.203125 44.453125 7.46875  Q 49.3125 8.734375 54.109375 11.28125  L 54.109375 2.78125  Q 49.265625 0.734375 44.1875 -0.34375  Q 39.109375 -1.421875 33.890625 -1.421875  Q 20.796875 -1.421875 13.15625 6.1875  Q 5.515625 13.8125 5.515625 26.8125  Q 5.515625 40.234375 12.765625 48.109375  Q 20.015625 56 32.328125 56  Q 43.359375 56 49.78125 48.890625  Q 56.203125 41.796875 56.203125 29.59375  z M 47.21875 32.234375  Q 47.125 39.59375 43.09375 43.984375  Q 39.0625 48.390625 32.421875 48.390625  Q 24.90625 48.390625 20.390625 44.140625  Q 15.875 39.890625 15.1875 32.171875  z \" id=\"DejaVuSans-101\"/>\n      <path d=\"M 8.015625 75.875  L 15.828125 75.875  Q 23.140625 64.359375 26.78125 53.3125  Q 30.421875 42.28125 30.421875 31.390625  Q 30.421875 20.453125 26.78125 9.375  Q 23.140625 -1.703125 15.828125 -13.1875  L 8.015625 -13.1875  Q 14.5 -2 17.703125 9.0625  Q 20.90625 20.125 20.90625 31.390625  Q 20.90625 42.671875 17.703125 53.65625  Q 14.5 64.65625 8.015625 75.875  z \" id=\"DejaVuSans-41\"/>\n     </defs>\n     <g transform=\"translate(290.402344 383.234687)scale(0.1 -0.1)\">\n      <use xlink:href=\"#DejaVuSans-82\"/>\n      <use x=\"69.482422\" xlink:href=\"#DejaVuSans-105\"/>\n      <use x=\"97.265625\" xlink:href=\"#DejaVuSans-115\"/>\n      <use x=\"149.365234\" xlink:href=\"#DejaVuSans-107\"/>\n      <use x=\"207.275391\" xlink:href=\"#DejaVuSans-32\"/>\n      <use x=\"239.0625\" xlink:href=\"#DejaVuSans-82\"/>\n      <use x=\"308.513672\" xlink:href=\"#DejaVuSans-97\"/>\n      <use x=\"369.792969\" xlink:href=\"#DejaVuSans-116\"/>\n      <use x=\"409.001953\" xlink:href=\"#DejaVuSans-105\"/>\n      <use x=\"436.785156\" xlink:href=\"#DejaVuSans-111\"/>\n      <use x=\"497.966797\" xlink:href=\"#DejaVuSans-32\"/>\n      <use x=\"529.753906\" xlink:href=\"#DejaVuSans-40\"/>\n      <use x=\"568.767578\" xlink:href=\"#DejaVuSans-108\"/>\n      <use x=\"596.550781\" xlink:href=\"#DejaVuSans-111\"/>\n      <use x=\"657.732422\" xlink:href=\"#DejaVuSans-103\"/>\n      <use x=\"721.208984\" xlink:href=\"#DejaVuSans-32\"/>\n      <use x=\"752.996094\" xlink:href=\"#DejaVuSans-115\"/>\n      <use x=\"805.095703\" xlink:href=\"#DejaVuSans-99\"/>\n      <use x=\"860.076172\" xlink:href=\"#DejaVuSans-97\"/>\n      <use x=\"921.355469\" xlink:href=\"#DejaVuSans-108\"/>\n      <use x=\"949.138672\" xlink:href=\"#DejaVuSans-101\"/>\n      <use x=\"1010.662109\" xlink:href=\"#DejaVuSans-41\"/>\n     </g>\n    </g>\n   </g>\n   <g id=\"matplotlib.axis_2\">\n    <g id=\"ytick_1\">\n     <g id=\"line2d_22\">\n      <defs>\n       <path d=\"M 0 0  L -3.5 0  \" id=\"mfd1a35e2ed\" style=\"stroke:#000000;stroke-width:0.8;\"/>\n      </defs>\n      <g>\n       <use style=\"stroke:#000000;stroke-width:0.8;\" x=\"175.485938\" xlink:href=\"#mfd1a35e2ed\" y=\"271.798125\"/>\n      </g>\n     </g>\n     <g id=\"text_5\">\n      <!-- whole population -->\n      <defs>\n       <path d=\"M 4.203125 54.6875  L 13.1875 54.6875  L 24.421875 12.015625  L 35.59375 54.6875  L 46.1875 54.6875  L 57.421875 12.015625  L 68.609375 54.6875  L 77.59375 54.6875  L 63.28125 0  L 52.6875 0  L 40.921875 44.828125  L 29.109375 0  L 18.5 0  z \" id=\"DejaVuSans-119\"/>\n       <path d=\"M 54.890625 33.015625  L 54.890625 0  L 45.90625 0  L 45.90625 32.71875  Q 45.90625 40.484375 42.875 44.328125  Q 39.84375 48.1875 33.796875 48.1875  Q 26.515625 48.1875 22.3125 43.546875  Q 18.109375 38.921875 18.109375 30.90625  L 18.109375 0  L 9.078125 0  L 9.078125 75.984375  L 18.109375 75.984375  L 18.109375 46.1875  Q 21.34375 51.125 25.703125 53.5625  Q 30.078125 56 35.796875 56  Q 45.21875 56 50.046875 50.171875  Q 54.890625 44.34375 54.890625 33.015625  z \" id=\"DejaVuSans-104\"/>\n       <path d=\"M 18.109375 8.203125  L 18.109375 -20.796875  L 9.078125 -20.796875  L 9.078125 54.6875  L 18.109375 54.6875  L 18.109375 46.390625  Q 20.953125 51.265625 25.265625 53.625  Q 29.59375 56 35.59375 56  Q 45.5625 56 51.78125 48.09375  Q 58.015625 40.1875 58.015625 27.296875  Q 58.015625 14.40625 51.78125 6.484375  Q 45.5625 -1.421875 35.59375 -1.421875  Q 29.59375 -1.421875 25.265625 0.953125  Q 20.953125 3.328125 18.109375 8.203125  z M 48.6875 27.296875  Q 48.6875 37.203125 44.609375 42.84375  Q 40.53125 48.484375 33.40625 48.484375  Q 26.265625 48.484375 22.1875 42.84375  Q 18.109375 37.203125 18.109375 27.296875  Q 18.109375 17.390625 22.1875 11.75  Q 26.265625 6.109375 33.40625 6.109375  Q 40.53125 6.109375 44.609375 11.75  Q 48.6875 17.390625 48.6875 27.296875  z \" id=\"DejaVuSans-112\"/>\n       <path d=\"M 8.5 21.578125  L 8.5 54.6875  L 17.484375 54.6875  L 17.484375 21.921875  Q 17.484375 14.15625 20.5 10.265625  Q 23.53125 6.390625 29.59375 6.390625  Q 36.859375 6.390625 41.078125 11.03125  Q 45.3125 15.671875 45.3125 23.6875  L 45.3125 54.6875  L 54.296875 54.6875  L 54.296875 0  L 45.3125 0  L 45.3125 8.40625  Q 42.046875 3.421875 37.71875 1  Q 33.40625 -1.421875 27.6875 -1.421875  Q 18.265625 -1.421875 13.375 4.4375  Q 8.5 10.296875 8.5 21.578125  z M 31.109375 56  z \" id=\"DejaVuSans-117\"/>\n       <path d=\"M 54.890625 33.015625  L 54.890625 0  L 45.90625 0  L 45.90625 32.71875  Q 45.90625 40.484375 42.875 44.328125  Q 39.84375 48.1875 33.796875 48.1875  Q 26.515625 48.1875 22.3125 43.546875  Q 18.109375 38.921875 18.109375 30.90625  L 18.109375 0  L 9.078125 0  L 9.078125 54.6875  L 18.109375 54.6875  L 18.109375 46.1875  Q 21.34375 51.125 25.703125 53.5625  Q 30.078125 56 35.796875 56  Q 45.21875 56 50.046875 50.171875  Q 54.890625 44.34375 54.890625 33.015625  z \" id=\"DejaVuSans-110\"/>\n      </defs>\n      <g transform=\"translate(82.528125 275.597344)scale(0.1 -0.1)\">\n       <use xlink:href=\"#DejaVuSans-119\"/>\n       <use x=\"81.787109\" xlink:href=\"#DejaVuSans-104\"/>\n       <use x=\"145.166016\" xlink:href=\"#DejaVuSans-111\"/>\n       <use x=\"206.347656\" xlink:href=\"#DejaVuSans-108\"/>\n       <use x=\"234.130859\" xlink:href=\"#DejaVuSans-101\"/>\n       <use x=\"295.654297\" xlink:href=\"#DejaVuSans-32\"/>\n       <use x=\"327.441406\" xlink:href=\"#DejaVuSans-112\"/>\n       <use x=\"390.917969\" xlink:href=\"#DejaVuSans-111\"/>\n       <use x=\"452.099609\" xlink:href=\"#DejaVuSans-112\"/>\n       <use x=\"515.576172\" xlink:href=\"#DejaVuSans-117\"/>\n       <use x=\"578.955078\" xlink:href=\"#DejaVuSans-108\"/>\n       <use x=\"606.738281\" xlink:href=\"#DejaVuSans-97\"/>\n       <use x=\"668.017578\" xlink:href=\"#DejaVuSans-116\"/>\n       <use x=\"707.226562\" xlink:href=\"#DejaVuSans-105\"/>\n       <use x=\"735.009766\" xlink:href=\"#DejaVuSans-111\"/>\n       <use x=\"796.191406\" xlink:href=\"#DejaVuSans-110\"/>\n      </g>\n     </g>\n    </g>\n    <g id=\"ytick_2\">\n     <g id=\"line2d_23\">\n      <g>\n       <use style=\"stroke:#000000;stroke-width:0.8;\" x=\"175.485938\" xlink:href=\"#mfd1a35e2ed\" y=\"105.478125\"/>\n      </g>\n     </g>\n     <g id=\"text_6\">\n      <!-- people with underlying diseases -->\n      <defs>\n       <path d=\"M 45.40625 46.390625  L 45.40625 75.984375  L 54.390625 75.984375  L 54.390625 0  L 45.40625 0  L 45.40625 8.203125  Q 42.578125 3.328125 38.25 0.953125  Q 33.9375 -1.421875 27.875 -1.421875  Q 17.96875 -1.421875 11.734375 6.484375  Q 5.515625 14.40625 5.515625 27.296875  Q 5.515625 40.1875 11.734375 48.09375  Q 17.96875 56 27.875 56  Q 33.9375 56 38.25 53.625  Q 42.578125 51.265625 45.40625 46.390625  z M 14.796875 27.296875  Q 14.796875 17.390625 18.875 11.75  Q 22.953125 6.109375 30.078125 6.109375  Q 37.203125 6.109375 41.296875 11.75  Q 45.40625 17.390625 45.40625 27.296875  Q 45.40625 37.203125 41.296875 42.84375  Q 37.203125 48.484375 30.078125 48.484375  Q 22.953125 48.484375 18.875 42.84375  Q 14.796875 37.203125 14.796875 27.296875  z \" id=\"DejaVuSans-100\"/>\n       <path d=\"M 41.109375 46.296875  Q 39.59375 47.171875 37.8125 47.578125  Q 36.03125 48 33.890625 48  Q 26.265625 48 22.1875 43.046875  Q 18.109375 38.09375 18.109375 28.8125  L 18.109375 0  L 9.078125 0  L 9.078125 54.6875  L 18.109375 54.6875  L 18.109375 46.1875  Q 20.953125 51.171875 25.484375 53.578125  Q 30.03125 56 36.53125 56  Q 37.453125 56 38.578125 55.875  Q 39.703125 55.765625 41.0625 55.515625  z \" id=\"DejaVuSans-114\"/>\n       <path d=\"M 32.171875 -5.078125  Q 28.375 -14.84375 24.75 -17.8125  Q 21.140625 -20.796875 15.09375 -20.796875  L 7.90625 -20.796875  L 7.90625 -13.28125  L 13.1875 -13.28125  Q 16.890625 -13.28125 18.9375 -11.515625  Q 21 -9.765625 23.484375 -3.21875  L 25.09375 0.875  L 2.984375 54.6875  L 12.5 54.6875  L 29.59375 11.921875  L 46.6875 54.6875  L 56.203125 54.6875  z \" id=\"DejaVuSans-121\"/>\n      </defs>\n      <g transform=\"translate(7.2 109.277344)scale(0.1 -0.1)\">\n       <use xlink:href=\"#DejaVuSans-112\"/>\n       <use x=\"63.476562\" xlink:href=\"#DejaVuSans-101\"/>\n       <use x=\"125\" xlink:href=\"#DejaVuSans-111\"/>\n       <use x=\"186.181641\" xlink:href=\"#DejaVuSans-112\"/>\n       <use x=\"249.658203\" xlink:href=\"#DejaVuSans-108\"/>\n       <use x=\"277.441406\" xlink:href=\"#DejaVuSans-101\"/>\n       <use x=\"338.964844\" xlink:href=\"#DejaVuSans-32\"/>\n       <use x=\"370.751953\" xlink:href=\"#DejaVuSans-119\"/>\n       <use x=\"452.539062\" xlink:href=\"#DejaVuSans-105\"/>\n       <use x=\"480.322266\" xlink:href=\"#DejaVuSans-116\"/>\n       <use x=\"519.53125\" xlink:href=\"#DejaVuSans-104\"/>\n       <use x=\"582.910156\" xlink:href=\"#DejaVuSans-32\"/>\n       <use x=\"614.697266\" xlink:href=\"#DejaVuSans-117\"/>\n       <use x=\"678.076172\" xlink:href=\"#DejaVuSans-110\"/>\n       <use x=\"741.455078\" xlink:href=\"#DejaVuSans-100\"/>\n       <use x=\"804.931641\" xlink:href=\"#DejaVuSans-101\"/>\n       <use x=\"866.455078\" xlink:href=\"#DejaVuSans-114\"/>\n       <use x=\"907.568359\" xlink:href=\"#DejaVuSans-108\"/>\n       <use x=\"935.351562\" xlink:href=\"#DejaVuSans-121\"/>\n       <use x=\"994.53125\" xlink:href=\"#DejaVuSans-105\"/>\n       <use x=\"1022.314453\" xlink:href=\"#DejaVuSans-110\"/>\n       <use x=\"1085.693359\" xlink:href=\"#DejaVuSans-103\"/>\n       <use x=\"1149.169922\" xlink:href=\"#DejaVuSans-32\"/>\n       <use x=\"1180.957031\" xlink:href=\"#DejaVuSans-100\"/>\n       <use x=\"1244.433594\" xlink:href=\"#DejaVuSans-105\"/>\n       <use x=\"1272.216797\" xlink:href=\"#DejaVuSans-115\"/>\n       <use x=\"1324.316406\" xlink:href=\"#DejaVuSans-101\"/>\n       <use x=\"1385.839844\" xlink:href=\"#DejaVuSans-97\"/>\n       <use x=\"1447.119141\" xlink:href=\"#DejaVuSans-115\"/>\n       <use x=\"1499.21875\" xlink:href=\"#DejaVuSans-101\"/>\n       <use x=\"1560.742188\" xlink:href=\"#DejaVuSans-115\"/>\n      </g>\n     </g>\n    </g>\n   </g>\n   <g id=\"LineCollection_1\">\n    <path clip-path=\"url(#p93485d9255)\" d=\"M 486.006383 271.798125  L 495.067756 271.798125  \" style=\"fill:none;stroke:#0000ff;stroke-width:1.5;\"/>\n    <path clip-path=\"url(#p93485d9255)\" d=\"M 316.71797 105.478125  L 325.788216 105.478125  \" style=\"fill:none;stroke:#0000ff;stroke-width:1.5;\"/>\n   </g>\n   <g id=\"line2d_24\">\n    <path clip-path=\"url(#p93485d9255)\" d=\"M 190.704119 354.958125  L 190.704119 22.318125  \" style=\"fill:none;stroke:#000000;stroke-dasharray:3.7,1.6;stroke-dashoffset:0;\"/>\n   </g>\n   <g id=\"line2d_25\">\n    <defs>\n     <path d=\"M 0 5  C 1.326016 5 2.597899 4.473168 3.535534 3.535534  C 4.473168 2.597899 5 1.326016 5 0  C 5 -1.326016 4.473168 -2.597899 3.535534 -3.535534  C 2.597899 -4.473168 1.326016 -5 0 -5  C -1.326016 -5 -2.597899 -4.473168 -3.535534 -3.535534  C -4.473168 -2.597899 -5 -1.326016 -5 0  C -5 1.326016 -4.473168 2.597899 -3.535534 3.535534  C -2.597899 4.473168 -1.326016 5 0 5  z \" id=\"m68a5de4f86\" style=\"stroke:#0000ff;\"/>\n    </defs>\n    <g clip-path=\"url(#p93485d9255)\">\n     <use style=\"fill:#0000ff;stroke:#0000ff;\" x=\"490.689059\" xlink:href=\"#m68a5de4f86\" y=\"271.798125\"/>\n     <use style=\"fill:#0000ff;stroke:#0000ff;\" x=\"321.40538\" xlink:href=\"#m68a5de4f86\" y=\"105.478125\"/>\n    </g>\n   </g>\n   <g id=\"patch_3\">\n    <path d=\"M 175.485938 354.958125  L 175.485938 22.318125  \" style=\"fill:none;stroke:#000000;stroke-linecap:square;stroke-linejoin:miter;stroke-width:0.8;\"/>\n   </g>\n   <g id=\"patch_4\">\n    <path d=\"M 510.285938 354.958125  L 510.285938 22.318125  \" style=\"fill:none;stroke:#000000;stroke-linecap:square;stroke-linejoin:miter;stroke-width:0.8;\"/>\n   </g>\n   <g id=\"patch_5\">\n    <path d=\"M 175.485938 354.958125  L 510.285938 354.958125  \" style=\"fill:none;stroke:#000000;stroke-linecap:square;stroke-linejoin:miter;stroke-width:0.8;\"/>\n   </g>\n   <g id=\"patch_6\">\n    <path d=\"M 175.485938 22.318125  L 510.285938 22.318125  \" style=\"fill:none;stroke:#000000;stroke-linecap:square;stroke-linejoin:miter;stroke-width:0.8;\"/>\n   </g>\n   <g id=\"text_7\">\n    <!-- Risk ratio of vaccination in people with underlying diseases or the general population -->\n    <defs>\n     <path d=\"M 37.109375 75.984375  L 37.109375 68.5  L 28.515625 68.5  Q 23.6875 68.5 21.796875 66.546875  Q 19.921875 64.59375 19.921875 59.515625  L 19.921875 54.6875  L 34.71875 54.6875  L 34.71875 47.703125  L 19.921875 47.703125  L 19.921875 0  L 10.890625 0  L 10.890625 47.703125  L 2.296875 47.703125  L 2.296875 54.6875  L 10.890625 54.6875  L 10.890625 58.5  Q 10.890625 67.625 15.140625 71.796875  Q 19.390625 75.984375 28.609375 75.984375  z \" id=\"DejaVuSans-102\"/>\n     <path d=\"M 2.984375 54.6875  L 12.5 54.6875  L 29.59375 8.796875  L 46.6875 54.6875  L 56.203125 54.6875  L 35.6875 0  L 23.484375 0  z \" id=\"DejaVuSans-118\"/>\n    </defs>\n    <g transform=\"translate(86.24625 16.318125)scale(0.12 -0.12)\">\n     <use xlink:href=\"#DejaVuSans-82\"/>\n     <use x=\"69.482422\" xlink:href=\"#DejaVuSans-105\"/>\n     <use x=\"97.265625\" xlink:href=\"#DejaVuSans-115\"/>\n     <use x=\"149.365234\" xlink:href=\"#DejaVuSans-107\"/>\n     <use x=\"207.275391\" xlink:href=\"#DejaVuSans-32\"/>\n     <use x=\"239.0625\" xlink:href=\"#DejaVuSans-114\"/>\n     <use x=\"280.175781\" xlink:href=\"#DejaVuSans-97\"/>\n     <use x=\"341.455078\" xlink:href=\"#DejaVuSans-116\"/>\n     <use x=\"380.664062\" xlink:href=\"#DejaVuSans-105\"/>\n     <use x=\"408.447266\" xlink:href=\"#DejaVuSans-111\"/>\n     <use x=\"469.628906\" xlink:href=\"#DejaVuSans-32\"/>\n     <use x=\"501.416016\" xlink:href=\"#DejaVuSans-111\"/>\n     <use x=\"562.597656\" xlink:href=\"#DejaVuSans-102\"/>\n     <use x=\"597.802734\" xlink:href=\"#DejaVuSans-32\"/>\n     <use x=\"629.589844\" xlink:href=\"#DejaVuSans-118\"/>\n     <use x=\"688.769531\" xlink:href=\"#DejaVuSans-97\"/>\n     <use x=\"750.048828\" xlink:href=\"#DejaVuSans-99\"/>\n     <use x=\"805.029297\" xlink:href=\"#DejaVuSans-99\"/>\n     <use x=\"860.009766\" xlink:href=\"#DejaVuSans-105\"/>\n     <use x=\"887.792969\" xlink:href=\"#DejaVuSans-110\"/>\n     <use x=\"951.171875\" xlink:href=\"#DejaVuSans-97\"/>\n     <use x=\"1012.451172\" xlink:href=\"#DejaVuSans-116\"/>\n     <use x=\"1051.660156\" xlink:href=\"#DejaVuSans-105\"/>\n     <use x=\"1079.443359\" xlink:href=\"#DejaVuSans-111\"/>\n     <use x=\"1140.625\" xlink:href=\"#DejaVuSans-110\"/>\n     <use x=\"1204.003906\" xlink:href=\"#DejaVuSans-32\"/>\n     <use x=\"1235.791016\" xlink:href=\"#DejaVuSans-105\"/>\n     <use x=\"1263.574219\" xlink:href=\"#DejaVuSans-110\"/>\n     <use x=\"1326.953125\" xlink:href=\"#DejaVuSans-32\"/>\n     <use x=\"1358.740234\" xlink:href=\"#DejaVuSans-112\"/>\n     <use x=\"1422.216797\" xlink:href=\"#DejaVuSans-101\"/>\n     <use x=\"1483.740234\" xlink:href=\"#DejaVuSans-111\"/>\n     <use x=\"1544.921875\" xlink:href=\"#DejaVuSans-112\"/>\n     <use x=\"1608.398438\" xlink:href=\"#DejaVuSans-108\"/>\n     <use x=\"1636.181641\" xlink:href=\"#DejaVuSans-101\"/>\n     <use x=\"1697.705078\" xlink:href=\"#DejaVuSans-32\"/>\n     <use x=\"1729.492188\" xlink:href=\"#DejaVuSans-119\"/>\n     <use x=\"1811.279297\" xlink:href=\"#DejaVuSans-105\"/>\n     <use x=\"1839.0625\" xlink:href=\"#DejaVuSans-116\"/>\n     <use x=\"1878.271484\" xlink:href=\"#DejaVuSans-104\"/>\n     <use x=\"1941.650391\" xlink:href=\"#DejaVuSans-32\"/>\n     <use x=\"1973.4375\" xlink:href=\"#DejaVuSans-117\"/>\n     <use x=\"2036.816406\" xlink:href=\"#DejaVuSans-110\"/>\n     <use x=\"2100.195312\" xlink:href=\"#DejaVuSans-100\"/>\n     <use x=\"2163.671875\" xlink:href=\"#DejaVuSans-101\"/>\n     <use x=\"2225.195312\" xlink:href=\"#DejaVuSans-114\"/>\n     <use x=\"2266.308594\" xlink:href=\"#DejaVuSans-108\"/>\n     <use x=\"2294.091797\" xlink:href=\"#DejaVuSans-121\"/>\n     <use x=\"2353.271484\" xlink:href=\"#DejaVuSans-105\"/>\n     <use x=\"2381.054688\" xlink:href=\"#DejaVuSans-110\"/>\n     <use x=\"2444.433594\" xlink:href=\"#DejaVuSans-103\"/>\n     <use x=\"2507.910156\" xlink:href=\"#DejaVuSans-32\"/>\n     <use x=\"2539.697266\" xlink:href=\"#DejaVuSans-100\"/>\n     <use x=\"2603.173828\" xlink:href=\"#DejaVuSans-105\"/>\n     <use x=\"2630.957031\" xlink:href=\"#DejaVuSans-115\"/>\n     <use x=\"2683.056641\" xlink:href=\"#DejaVuSans-101\"/>\n     <use x=\"2744.580078\" xlink:href=\"#DejaVuSans-97\"/>\n     <use x=\"2805.859375\" xlink:href=\"#DejaVuSans-115\"/>\n     <use x=\"2857.958984\" xlink:href=\"#DejaVuSans-101\"/>\n     <use x=\"2919.482422\" xlink:href=\"#DejaVuSans-115\"/>\n     <use x=\"2971.582031\" xlink:href=\"#DejaVuSans-32\"/>\n     <use x=\"3003.369141\" xlink:href=\"#DejaVuSans-111\"/>\n     <use x=\"3064.550781\" xlink:href=\"#DejaVuSans-114\"/>\n     <use x=\"3105.664062\" xlink:href=\"#DejaVuSans-32\"/>\n     <use x=\"3137.451172\" xlink:href=\"#DejaVuSans-116\"/>\n     <use x=\"3176.660156\" xlink:href=\"#DejaVuSans-104\"/>\n     <use x=\"3240.039062\" xlink:href=\"#DejaVuSans-101\"/>\n     <use x=\"3301.5625\" xlink:href=\"#DejaVuSans-32\"/>\n     <use x=\"3333.349609\" xlink:href=\"#DejaVuSans-103\"/>\n     <use x=\"3396.826172\" xlink:href=\"#DejaVuSans-101\"/>\n     <use x=\"3458.349609\" xlink:href=\"#DejaVuSans-110\"/>\n     <use x=\"3521.728516\" xlink:href=\"#DejaVuSans-101\"/>\n     <use x=\"3583.251953\" xlink:href=\"#DejaVuSans-114\"/>\n     <use x=\"3624.365234\" xlink:href=\"#DejaVuSans-97\"/>\n     <use x=\"3685.644531\" xlink:href=\"#DejaVuSans-108\"/>\n     <use x=\"3713.427734\" xlink:href=\"#DejaVuSans-32\"/>\n     <use x=\"3745.214844\" xlink:href=\"#DejaVuSans-112\"/>\n     <use x=\"3808.691406\" xlink:href=\"#DejaVuSans-111\"/>\n     <use x=\"3869.873047\" xlink:href=\"#DejaVuSans-112\"/>\n     <use x=\"3933.349609\" xlink:href=\"#DejaVuSans-117\"/>\n     <use x=\"3996.728516\" xlink:href=\"#DejaVuSans-108\"/>\n     <use x=\"4024.511719\" xlink:href=\"#DejaVuSans-97\"/>\n     <use x=\"4085.791016\" xlink:href=\"#DejaVuSans-116\"/>\n     <use x=\"4125\" xlink:href=\"#DejaVuSans-105\"/>\n     <use x=\"4152.783203\" xlink:href=\"#DejaVuSans-111\"/>\n     <use x=\"4213.964844\" xlink:href=\"#DejaVuSans-110\"/>\n    </g>\n   </g>\n  </g>\n </g>\n <defs>\n  <clipPath id=\"p93485d9255\">\n   <rect height=\"332.64\" width=\"334.8\" x=\"175.485938\" y=\"22.318125\"/>\n  </clipPath>\n </defs>\n</svg>",
      "text/plain": [
       "<IPython.core.display.SVG object>"
      ]
     },
     "execution_count": 10,
     "metadata": {},
     "output_type": "execute_result"
    }
   ],
   "source": [
    "# da hemer iwie kein error balke, wemer das weglah?\n",
    "\n",
    "# Figure 3\n",
    "SVG(filename='analysis_euler/1a_b_RR_plot.svg')"
   ]
  },
  {
   "cell_type": "markdown",
   "metadata": {},
   "source": [
    "### 1c) Same comparison in subset of subjects with specific underlying medical condition "
   ]
  },
  {
   "cell_type": "markdown",
   "metadata": {},
   "source": [
    "Fot this analysis, the effect of the vaccination on adverse events was evaluated in different underlying conditions defined according to the ICD-10 categories. The number of adverse events per thousand individuals is higher in vaccinated compared to unvaccinated subjects in each of the underlying disease categories, as can be appreciated in table 3 and figure 4."
   ]
  },
  {
   "cell_type": "code",
   "execution_count": 11,
   "metadata": {},
   "outputs": [
    {
     "data": {
      "text/html": [
       "<div>\n",
       "<style scoped>\n",
       "    .dataframe tbody tr th:only-of-type {\n",
       "        vertical-align: middle;\n",
       "    }\n",
       "\n",
       "    .dataframe tbody tr th {\n",
       "        vertical-align: top;\n",
       "    }\n",
       "\n",
       "    .dataframe thead th {\n",
       "        text-align: right;\n",
       "    }\n",
       "</style>\n",
       "<table border=\"1\" class=\"dataframe\">\n",
       "  <thead>\n",
       "    <tr style=\"text-align: right;\">\n",
       "      <th></th>\n",
       "      <th>Unnamed: 0</th>\n",
       "      <th>Vaccinated</th>\n",
       "      <th>Not vaccinated</th>\n",
       "    </tr>\n",
       "  </thead>\n",
       "  <tbody>\n",
       "    <tr>\n",
       "      <th>0</th>\n",
       "      <td>Diseases of the blood and blood-forming organs...</td>\n",
       "      <td>972.338596</td>\n",
       "      <td>176.300256</td>\n",
       "    </tr>\n",
       "    <tr>\n",
       "      <th>1</th>\n",
       "      <td>Congenital malformations, deformations and chr...</td>\n",
       "      <td>852.380742</td>\n",
       "      <td>164.902309</td>\n",
       "    </tr>\n",
       "    <tr>\n",
       "      <th>2</th>\n",
       "      <td>Endocrine, nutritional and metabolic diseases</td>\n",
       "      <td>830.559321</td>\n",
       "      <td>156.156003</td>\n",
       "    </tr>\n",
       "    <tr>\n",
       "      <th>3</th>\n",
       "      <td>Diseases of the circulatory system</td>\n",
       "      <td>822.174792</td>\n",
       "      <td>151.051541</td>\n",
       "    </tr>\n",
       "    <tr>\n",
       "      <th>4</th>\n",
       "      <td>Diseases of the eye and adnexa</td>\n",
       "      <td>795.725800</td>\n",
       "      <td>148.083433</td>\n",
       "    </tr>\n",
       "    <tr>\n",
       "      <th>5</th>\n",
       "      <td>Diseases of the nervous system</td>\n",
       "      <td>791.098325</td>\n",
       "      <td>159.006211</td>\n",
       "    </tr>\n",
       "    <tr>\n",
       "      <th>6</th>\n",
       "      <td>Neoplasms</td>\n",
       "      <td>770.085871</td>\n",
       "      <td>138.232937</td>\n",
       "    </tr>\n",
       "    <tr>\n",
       "      <th>7</th>\n",
       "      <td>Diseases of the ear and mastoid process</td>\n",
       "      <td>759.705276</td>\n",
       "      <td>150.590948</td>\n",
       "    </tr>\n",
       "    <tr>\n",
       "      <th>8</th>\n",
       "      <td>Diseases of the digestive system</td>\n",
       "      <td>757.124218</td>\n",
       "      <td>145.601534</td>\n",
       "    </tr>\n",
       "    <tr>\n",
       "      <th>9</th>\n",
       "      <td>Diseases of the respiratory system</td>\n",
       "      <td>734.655083</td>\n",
       "      <td>134.365325</td>\n",
       "    </tr>\n",
       "    <tr>\n",
       "      <th>10</th>\n",
       "      <td>Diseases of the genitourinary system</td>\n",
       "      <td>731.291120</td>\n",
       "      <td>134.415459</td>\n",
       "    </tr>\n",
       "    <tr>\n",
       "      <th>11</th>\n",
       "      <td>Mental, Behavioral and Neurodevelopmental diso...</td>\n",
       "      <td>729.073392</td>\n",
       "      <td>134.257315</td>\n",
       "    </tr>\n",
       "    <tr>\n",
       "      <th>12</th>\n",
       "      <td>Certain infectious and parasitic diseases</td>\n",
       "      <td>723.948406</td>\n",
       "      <td>130.941006</td>\n",
       "    </tr>\n",
       "    <tr>\n",
       "      <th>13</th>\n",
       "      <td>Diseases of the skin and subcutaneous tissue</td>\n",
       "      <td>719.751599</td>\n",
       "      <td>138.779922</td>\n",
       "    </tr>\n",
       "    <tr>\n",
       "      <th>14</th>\n",
       "      <td>Diseases of the musculoskeletal system and con...</td>\n",
       "      <td>697.492942</td>\n",
       "      <td>129.747899</td>\n",
       "    </tr>\n",
       "  </tbody>\n",
       "</table>\n",
       "</div>"
      ],
      "text/plain": [
       "                                           Unnamed: 0  Vaccinated  \\\n",
       "0   Diseases of the blood and blood-forming organs...  972.338596   \n",
       "1   Congenital malformations, deformations and chr...  852.380742   \n",
       "2       Endocrine, nutritional and metabolic diseases  830.559321   \n",
       "3                  Diseases of the circulatory system  822.174792   \n",
       "4                      Diseases of the eye and adnexa  795.725800   \n",
       "5                      Diseases of the nervous system  791.098325   \n",
       "6                                           Neoplasms  770.085871   \n",
       "7             Diseases of the ear and mastoid process  759.705276   \n",
       "8                    Diseases of the digestive system  757.124218   \n",
       "9                  Diseases of the respiratory system  734.655083   \n",
       "10               Diseases of the genitourinary system  731.291120   \n",
       "11  Mental, Behavioral and Neurodevelopmental diso...  729.073392   \n",
       "12          Certain infectious and parasitic diseases  723.948406   \n",
       "13       Diseases of the skin and subcutaneous tissue  719.751599   \n",
       "14  Diseases of the musculoskeletal system and con...  697.492942   \n",
       "\n",
       "    Not vaccinated  \n",
       "0       176.300256  \n",
       "1       164.902309  \n",
       "2       156.156003  \n",
       "3       151.051541  \n",
       "4       148.083433  \n",
       "5       159.006211  \n",
       "6       138.232937  \n",
       "7       150.590948  \n",
       "8       145.601534  \n",
       "9       134.365325  \n",
       "10      134.415459  \n",
       "11      134.257315  \n",
       "12      130.941006  \n",
       "13      138.779922  \n",
       "14      129.747899  "
      ]
     },
     "execution_count": 11,
     "metadata": {},
     "output_type": "execute_result"
    }
   ],
   "source": [
    "# Table 3\n",
    "table = pd.read_csv('analysis_euler/1c_total_AE_table.csv') \n",
    "table"
   ]
  },
  {
   "cell_type": "code",
   "execution_count": 12,
   "metadata": {},
   "outputs": [
    {
     "data": {
      "image/svg+xml": "<svg xmlns=\"http://www.w3.org/2000/svg\" xmlns:xlink=\"http://www.w3.org/1999/xlink\" height=\"503.394375pt\" version=\"1.1\" viewBox=\"0 0 995.182772 503.394375\" width=\"995.182772pt\">\n <defs>\n  <style type=\"text/css\">\n*{stroke-linecap:butt;stroke-linejoin:round;}\n  </style>\n </defs>\n <g id=\"figure_1\">\n  <g id=\"patch_1\">\n   <path d=\"M 0 503.394375  L 995.182772 503.394375  L 995.182772 0  L 0 0  z \" style=\"fill:#ffffff;\"/>\n  </g>\n  <g id=\"axes_1\">\n   <g id=\"patch_2\">\n    <path d=\"M 538.020313 465.838125  L 984.420312 465.838125  L 984.420312 22.318125  L 538.020313 22.318125  z \" style=\"fill:#ffffff;\"/>\n   </g>\n   <g id=\"patch_3\">\n    <path clip-path=\"url(#pa9b8ba4bf4)\" d=\"M 538.020313 445.678125  L 963.16317 445.678125  L 963.16317 423.88353  L 538.020313 423.88353  z \" style=\"fill:#1f77b4;opacity:0.5;\"/>\n   </g>\n   <g id=\"patch_4\">\n    <path clip-path=\"url(#pa9b8ba4bf4)\" d=\"M 538.020313 418.434882  L 910.713102 418.434882  L 910.713102 396.640287  L 538.020313 396.640287  z \" style=\"fill:#1f77b4;opacity:0.5;\"/>\n   </g>\n   <g id=\"patch_5\">\n    <path clip-path=\"url(#pa9b8ba4bf4)\" d=\"M 538.020313 391.191639  L 901.17196 391.191639  L 901.17196 369.397044  L 538.020313 369.397044  z \" style=\"fill:#1f77b4;opacity:0.5;\"/>\n   </g>\n   <g id=\"patch_6\">\n    <path clip-path=\"url(#pa9b8ba4bf4)\" d=\"M 538.020313 363.948395  L 897.50593 363.948395  L 897.50593 342.153801  L 538.020313 342.153801  z \" style=\"fill:#1f77b4;opacity:0.5;\"/>\n   </g>\n   <g id=\"patch_7\">\n    <path clip-path=\"url(#pa9b8ba4bf4)\" d=\"M 538.020313 336.705152  L 885.94144 336.705152  L 885.94144 314.910557  L 538.020313 314.910557  z \" style=\"fill:#1f77b4;opacity:0.5;\"/>\n   </g>\n   <g id=\"patch_8\">\n    <path clip-path=\"url(#pa9b8ba4bf4)\" d=\"M 538.020313 309.461909  L 883.918134 309.461909  L 883.918134 287.667314  L 538.020313 287.667314  z \" style=\"fill:#1f77b4;opacity:0.5;\"/>\n   </g>\n   <g id=\"patch_9\">\n    <path clip-path=\"url(#pa9b8ba4bf4)\" d=\"M 538.020313 282.218666  L 874.730702 282.218666  L 874.730702 260.424071  L 538.020313 260.424071  z \" style=\"fill:#1f77b4;opacity:0.5;\"/>\n   </g>\n   <g id=\"patch_10\">\n    <path clip-path=\"url(#pa9b8ba4bf4)\" d=\"M 538.020313 254.975422  L 870.191917 254.975422  L 870.191917 233.180828  L 538.020313 233.180828  z \" style=\"fill:#1f77b4;opacity:0.5;\"/>\n   </g>\n   <g id=\"patch_11\">\n    <path clip-path=\"url(#pa9b8ba4bf4)\" d=\"M 538.020313 227.732179  L 869.063382 227.732179  L 869.063382 205.937584  L 538.020313 205.937584  z \" style=\"fill:#1f77b4;opacity:0.5;\"/>\n   </g>\n   <g id=\"patch_12\">\n    <path clip-path=\"url(#pa9b8ba4bf4)\" d=\"M 538.020313 200.488936  L 859.239035 200.488936  L 859.239035 178.694341  L 538.020313 178.694341  z \" style=\"fill:#1f77b4;opacity:0.5;\"/>\n   </g>\n   <g id=\"patch_13\">\n    <path clip-path=\"url(#pa9b8ba4bf4)\" d=\"M 538.020313 173.245693  L 857.768184 173.245693  L 857.768184 151.451098  L 538.020313 151.451098  z \" style=\"fill:#1f77b4;opacity:0.5;\"/>\n   </g>\n   <g id=\"patch_14\">\n    <path clip-path=\"url(#pa9b8ba4bf4)\" d=\"M 538.020313 146.002449  L 856.79851 146.002449  L 856.79851 124.207855  L 538.020313 124.207855  z \" style=\"fill:#1f77b4;opacity:0.5;\"/>\n   </g>\n   <g id=\"patch_15\">\n    <path clip-path=\"url(#pa9b8ba4bf4)\" d=\"M 538.020313 118.759206  L 854.557674 118.759206  L 854.557674 96.964611  L 538.020313 96.964611  z \" style=\"fill:#1f77b4;opacity:0.5;\"/>\n   </g>\n   <g id=\"patch_16\">\n    <path clip-path=\"url(#pa9b8ba4bf4)\" d=\"M 538.020313 91.515963  L 852.722673 91.515963  L 852.722673 69.721368  L 538.020313 69.721368  z \" style=\"fill:#1f77b4;opacity:0.5;\"/>\n   </g>\n   <g id=\"patch_17\">\n    <path clip-path=\"url(#pa9b8ba4bf4)\" d=\"M 538.020313 64.27272  L 842.990355 64.27272  L 842.990355 42.478125  L 538.020313 42.478125  z \" style=\"fill:#1f77b4;opacity:0.5;\"/>\n   </g>\n   <g id=\"patch_18\">\n    <path clip-path=\"url(#pa9b8ba4bf4)\" d=\"M 538.020313 445.678125  L 615.105389 445.678125  L 615.105389 423.88353  L 538.020313 423.88353  z \" style=\"fill:#ff7f0e;opacity:0.5;\"/>\n   </g>\n   <g id=\"patch_19\">\n    <path clip-path=\"url(#pa9b8ba4bf4)\" d=\"M 538.020313 418.434882  L 610.121779 418.434882  L 610.121779 396.640287  L 538.020313 396.640287  z \" style=\"fill:#ff7f0e;opacity:0.5;\"/>\n   </g>\n   <g id=\"patch_20\">\n    <path clip-path=\"url(#pa9b8ba4bf4)\" d=\"M 538.020313 391.191639  L 606.297567 391.191639  L 606.297567 369.397044  L 538.020313 369.397044  z \" style=\"fill:#ff7f0e;opacity:0.5;\"/>\n   </g>\n   <g id=\"patch_21\">\n    <path clip-path=\"url(#pa9b8ba4bf4)\" d=\"M 538.020313 363.948395  L 604.065704 363.948395  L 604.065704 342.153801  L 538.020313 342.153801  z \" style=\"fill:#ff7f0e;opacity:0.5;\"/>\n   </g>\n   <g id=\"patch_22\">\n    <path clip-path=\"url(#pa9b8ba4bf4)\" d=\"M 538.020313 336.705152  L 602.767937 336.705152  L 602.767937 314.910557  L 538.020313 314.910557  z \" style=\"fill:#ff7f0e;opacity:0.5;\"/>\n   </g>\n   <g id=\"patch_23\">\n    <path clip-path=\"url(#pa9b8ba4bf4)\" d=\"M 538.020313 309.461909  L 607.543784 309.461909  L 607.543784 287.667314  L 538.020313 287.667314  z \" style=\"fill:#ff7f0e;opacity:0.5;\"/>\n   </g>\n   <g id=\"patch_24\">\n    <path clip-path=\"url(#pa9b8ba4bf4)\" d=\"M 538.020313 282.218666  L 598.460931 282.218666  L 598.460931 260.424071  L 538.020313 260.424071  z \" style=\"fill:#ff7f0e;opacity:0.5;\"/>\n   </g>\n   <g id=\"patch_25\">\n    <path clip-path=\"url(#pa9b8ba4bf4)\" d=\"M 538.020313 254.975422  L 603.864316 254.975422  L 603.864316 233.180828  L 538.020313 233.180828  z \" style=\"fill:#ff7f0e;opacity:0.5;\"/>\n   </g>\n   <g id=\"patch_26\">\n    <path clip-path=\"url(#pa9b8ba4bf4)\" d=\"M 538.020313 227.732179  L 601.682757 227.732179  L 601.682757 205.937584  L 538.020313 205.937584  z \" style=\"fill:#ff7f0e;opacity:0.5;\"/>\n   </g>\n   <g id=\"patch_27\">\n    <path clip-path=\"url(#pa9b8ba4bf4)\" d=\"M 538.020313 200.488936  L 596.769866 200.488936  L 596.769866 178.694341  L 538.020313 178.694341  z \" style=\"fill:#ff7f0e;opacity:0.5;\"/>\n   </g>\n   <g id=\"patch_28\">\n    <path clip-path=\"url(#pa9b8ba4bf4)\" d=\"M 538.020313 173.245693  L 596.791786 173.245693  L 596.791786 151.451098  L 538.020313 151.451098  z \" style=\"fill:#ff7f0e;opacity:0.5;\"/>\n   </g>\n   <g id=\"patch_29\">\n    <path clip-path=\"url(#pa9b8ba4bf4)\" d=\"M 538.020313 146.002449  L 596.72264 146.002449  L 596.72264 124.207855  L 538.020313 124.207855  z \" style=\"fill:#ff7f0e;opacity:0.5;\"/>\n   </g>\n   <g id=\"patch_30\">\n    <path clip-path=\"url(#pa9b8ba4bf4)\" d=\"M 538.020313 118.759206  L 595.272625 118.759206  L 595.272625 96.964611  L 538.020313 96.964611  z \" style=\"fill:#ff7f0e;opacity:0.5;\"/>\n   </g>\n   <g id=\"patch_31\">\n    <path clip-path=\"url(#pa9b8ba4bf4)\" d=\"M 538.020313 91.515963  L 598.700093 91.515963  L 598.700093 69.721368  L 538.020313 69.721368  z \" style=\"fill:#ff7f0e;opacity:0.5;\"/>\n   </g>\n   <g id=\"patch_32\">\n    <path clip-path=\"url(#pa9b8ba4bf4)\" d=\"M 538.020313 64.27272  L 594.750954 64.27272  L 594.750954 42.478125  L 538.020313 42.478125  z \" style=\"fill:#ff7f0e;opacity:0.5;\"/>\n   </g>\n   <g id=\"matplotlib.axis_1\">\n    <g id=\"xtick_1\">\n     <g id=\"line2d_1\">\n      <defs>\n       <path d=\"M 0 0  L 0 3.5  \" id=\"m5582390cda\" style=\"stroke:#000000;stroke-width:0.8;\"/>\n      </defs>\n      <g>\n       <use style=\"stroke:#000000;stroke-width:0.8;\" x=\"538.020313\" xlink:href=\"#m5582390cda\" y=\"465.838125\"/>\n      </g>\n     </g>\n     <g id=\"text_1\">\n      <!-- 0 -->\n      <defs>\n       <path d=\"M 31.78125 66.40625  Q 24.171875 66.40625 20.328125 58.90625  Q 16.5 51.421875 16.5 36.375  Q 16.5 21.390625 20.328125 13.890625  Q 24.171875 6.390625 31.78125 6.390625  Q 39.453125 6.390625 43.28125 13.890625  Q 47.125 21.390625 47.125 36.375  Q 47.125 51.421875 43.28125 58.90625  Q 39.453125 66.40625 31.78125 66.40625  z M 31.78125 74.21875  Q 44.046875 74.21875 50.515625 64.515625  Q 56.984375 54.828125 56.984375 36.375  Q 56.984375 17.96875 50.515625 8.265625  Q 44.046875 -1.421875 31.78125 -1.421875  Q 19.53125 -1.421875 13.0625 8.265625  Q 6.59375 17.96875 6.59375 36.375  Q 6.59375 54.828125 13.0625 64.515625  Q 19.53125 74.21875 31.78125 74.21875  z \" id=\"DejaVuSans-48\"/>\n      </defs>\n      <g transform=\"translate(534.839063 480.436562)scale(0.1 -0.1)\">\n       <use xlink:href=\"#DejaVuSans-48\"/>\n      </g>\n     </g>\n    </g>\n    <g id=\"xtick_2\">\n     <g id=\"line2d_2\">\n      <g>\n       <use style=\"stroke:#000000;stroke-width:0.8;\" x=\"625.467804\" xlink:href=\"#m5582390cda\" y=\"465.838125\"/>\n      </g>\n     </g>\n     <g id=\"text_2\">\n      <!-- 200 -->\n      <defs>\n       <path d=\"M 19.1875 8.296875  L 53.609375 8.296875  L 53.609375 0  L 7.328125 0  L 7.328125 8.296875  Q 12.9375 14.109375 22.625 23.890625  Q 32.328125 33.6875 34.8125 36.53125  Q 39.546875 41.84375 41.421875 45.53125  Q 43.3125 49.21875 43.3125 52.78125  Q 43.3125 58.59375 39.234375 62.25  Q 35.15625 65.921875 28.609375 65.921875  Q 23.96875 65.921875 18.8125 64.3125  Q 13.671875 62.703125 7.8125 59.421875  L 7.8125 69.390625  Q 13.765625 71.78125 18.9375 73  Q 24.125 74.21875 28.421875 74.21875  Q 39.75 74.21875 46.484375 68.546875  Q 53.21875 62.890625 53.21875 53.421875  Q 53.21875 48.921875 51.53125 44.890625  Q 49.859375 40.875 45.40625 35.40625  Q 44.1875 33.984375 37.640625 27.21875  Q 31.109375 20.453125 19.1875 8.296875  z \" id=\"DejaVuSans-50\"/>\n      </defs>\n      <g transform=\"translate(615.924054 480.436562)scale(0.1 -0.1)\">\n       <use xlink:href=\"#DejaVuSans-50\"/>\n       <use x=\"63.623047\" xlink:href=\"#DejaVuSans-48\"/>\n       <use x=\"127.246094\" xlink:href=\"#DejaVuSans-48\"/>\n      </g>\n     </g>\n    </g>\n    <g id=\"xtick_3\">\n     <g id=\"line2d_3\">\n      <g>\n       <use style=\"stroke:#000000;stroke-width:0.8;\" x=\"712.915296\" xlink:href=\"#m5582390cda\" y=\"465.838125\"/>\n      </g>\n     </g>\n     <g id=\"text_3\">\n      <!-- 400 -->\n      <defs>\n       <path d=\"M 37.796875 64.3125  L 12.890625 25.390625  L 37.796875 25.390625  z M 35.203125 72.90625  L 47.609375 72.90625  L 47.609375 25.390625  L 58.015625 25.390625  L 58.015625 17.1875  L 47.609375 17.1875  L 47.609375 0  L 37.796875 0  L 37.796875 17.1875  L 4.890625 17.1875  L 4.890625 26.703125  z \" id=\"DejaVuSans-52\"/>\n      </defs>\n      <g transform=\"translate(703.371546 480.436562)scale(0.1 -0.1)\">\n       <use xlink:href=\"#DejaVuSans-52\"/>\n       <use x=\"63.623047\" xlink:href=\"#DejaVuSans-48\"/>\n       <use x=\"127.246094\" xlink:href=\"#DejaVuSans-48\"/>\n      </g>\n     </g>\n    </g>\n    <g id=\"xtick_4\">\n     <g id=\"line2d_4\">\n      <g>\n       <use style=\"stroke:#000000;stroke-width:0.8;\" x=\"800.362788\" xlink:href=\"#m5582390cda\" y=\"465.838125\"/>\n      </g>\n     </g>\n     <g id=\"text_4\">\n      <!-- 600 -->\n      <defs>\n       <path d=\"M 33.015625 40.375  Q 26.375 40.375 22.484375 35.828125  Q 18.609375 31.296875 18.609375 23.390625  Q 18.609375 15.53125 22.484375 10.953125  Q 26.375 6.390625 33.015625 6.390625  Q 39.65625 6.390625 43.53125 10.953125  Q 47.40625 15.53125 47.40625 23.390625  Q 47.40625 31.296875 43.53125 35.828125  Q 39.65625 40.375 33.015625 40.375  z M 52.59375 71.296875  L 52.59375 62.3125  Q 48.875 64.0625 45.09375 64.984375  Q 41.3125 65.921875 37.59375 65.921875  Q 27.828125 65.921875 22.671875 59.328125  Q 17.53125 52.734375 16.796875 39.40625  Q 19.671875 43.65625 24.015625 45.921875  Q 28.375 48.1875 33.59375 48.1875  Q 44.578125 48.1875 50.953125 41.515625  Q 57.328125 34.859375 57.328125 23.390625  Q 57.328125 12.15625 50.6875 5.359375  Q 44.046875 -1.421875 33.015625 -1.421875  Q 20.359375 -1.421875 13.671875 8.265625  Q 6.984375 17.96875 6.984375 36.375  Q 6.984375 53.65625 15.1875 63.9375  Q 23.390625 74.21875 37.203125 74.21875  Q 40.921875 74.21875 44.703125 73.484375  Q 48.484375 72.75 52.59375 71.296875  z \" id=\"DejaVuSans-54\"/>\n      </defs>\n      <g transform=\"translate(790.819038 480.436562)scale(0.1 -0.1)\">\n       <use xlink:href=\"#DejaVuSans-54\"/>\n       <use x=\"63.623047\" xlink:href=\"#DejaVuSans-48\"/>\n       <use x=\"127.246094\" xlink:href=\"#DejaVuSans-48\"/>\n      </g>\n     </g>\n    </g>\n    <g id=\"xtick_5\">\n     <g id=\"line2d_5\">\n      <g>\n       <use style=\"stroke:#000000;stroke-width:0.8;\" x=\"887.81028\" xlink:href=\"#m5582390cda\" y=\"465.838125\"/>\n      </g>\n     </g>\n     <g id=\"text_5\">\n      <!-- 800 -->\n      <defs>\n       <path d=\"M 31.78125 34.625  Q 24.75 34.625 20.71875 30.859375  Q 16.703125 27.09375 16.703125 20.515625  Q 16.703125 13.921875 20.71875 10.15625  Q 24.75 6.390625 31.78125 6.390625  Q 38.8125 6.390625 42.859375 10.171875  Q 46.921875 13.96875 46.921875 20.515625  Q 46.921875 27.09375 42.890625 30.859375  Q 38.875 34.625 31.78125 34.625  z M 21.921875 38.8125  Q 15.578125 40.375 12.03125 44.71875  Q 8.5 49.078125 8.5 55.328125  Q 8.5 64.0625 14.71875 69.140625  Q 20.953125 74.21875 31.78125 74.21875  Q 42.671875 74.21875 48.875 69.140625  Q 55.078125 64.0625 55.078125 55.328125  Q 55.078125 49.078125 51.53125 44.71875  Q 48 40.375 41.703125 38.8125  Q 48.828125 37.15625 52.796875 32.3125  Q 56.78125 27.484375 56.78125 20.515625  Q 56.78125 9.90625 50.3125 4.234375  Q 43.84375 -1.421875 31.78125 -1.421875  Q 19.734375 -1.421875 13.25 4.234375  Q 6.78125 9.90625 6.78125 20.515625  Q 6.78125 27.484375 10.78125 32.3125  Q 14.796875 37.15625 21.921875 38.8125  z M 18.3125 54.390625  Q 18.3125 48.734375 21.84375 45.5625  Q 25.390625 42.390625 31.78125 42.390625  Q 38.140625 42.390625 41.71875 45.5625  Q 45.3125 48.734375 45.3125 54.390625  Q 45.3125 60.0625 41.71875 63.234375  Q 38.140625 66.40625 31.78125 66.40625  Q 25.390625 66.40625 21.84375 63.234375  Q 18.3125 60.0625 18.3125 54.390625  z \" id=\"DejaVuSans-56\"/>\n      </defs>\n      <g transform=\"translate(878.26653 480.436562)scale(0.1 -0.1)\">\n       <use xlink:href=\"#DejaVuSans-56\"/>\n       <use x=\"63.623047\" xlink:href=\"#DejaVuSans-48\"/>\n       <use x=\"127.246094\" xlink:href=\"#DejaVuSans-48\"/>\n      </g>\n     </g>\n    </g>\n    <g id=\"xtick_6\">\n     <g id=\"line2d_6\">\n      <g>\n       <use style=\"stroke:#000000;stroke-width:0.8;\" x=\"975.257772\" xlink:href=\"#m5582390cda\" y=\"465.838125\"/>\n      </g>\n     </g>\n     <g id=\"text_6\">\n      <!-- 1000 -->\n      <defs>\n       <path d=\"M 12.40625 8.296875  L 28.515625 8.296875  L 28.515625 63.921875  L 10.984375 60.40625  L 10.984375 69.390625  L 28.421875 72.90625  L 38.28125 72.90625  L 38.28125 8.296875  L 54.390625 8.296875  L 54.390625 0  L 12.40625 0  z \" id=\"DejaVuSans-49\"/>\n      </defs>\n      <g transform=\"translate(962.532772 480.436562)scale(0.1 -0.1)\">\n       <use xlink:href=\"#DejaVuSans-49\"/>\n       <use x=\"63.623047\" xlink:href=\"#DejaVuSans-48\"/>\n       <use x=\"127.246094\" xlink:href=\"#DejaVuSans-48\"/>\n       <use x=\"190.869141\" xlink:href=\"#DejaVuSans-48\"/>\n      </g>\n     </g>\n    </g>\n    <g id=\"text_7\">\n     <!-- Number of AEs per thousand individuals -->\n     <defs>\n      <path d=\"M 9.8125 72.90625  L 23.09375 72.90625  L 55.421875 11.921875  L 55.421875 72.90625  L 64.984375 72.90625  L 64.984375 0  L 51.703125 0  L 19.390625 60.984375  L 19.390625 0  L 9.8125 0  z \" id=\"DejaVuSans-78\"/>\n      <path d=\"M 8.5 21.578125  L 8.5 54.6875  L 17.484375 54.6875  L 17.484375 21.921875  Q 17.484375 14.15625 20.5 10.265625  Q 23.53125 6.390625 29.59375 6.390625  Q 36.859375 6.390625 41.078125 11.03125  Q 45.3125 15.671875 45.3125 23.6875  L 45.3125 54.6875  L 54.296875 54.6875  L 54.296875 0  L 45.3125 0  L 45.3125 8.40625  Q 42.046875 3.421875 37.71875 1  Q 33.40625 -1.421875 27.6875 -1.421875  Q 18.265625 -1.421875 13.375 4.4375  Q 8.5 10.296875 8.5 21.578125  z M 31.109375 56  z \" id=\"DejaVuSans-117\"/>\n      <path d=\"M 52 44.1875  Q 55.375 50.25 60.0625 53.125  Q 64.75 56 71.09375 56  Q 79.640625 56 84.28125 50.015625  Q 88.921875 44.046875 88.921875 33.015625  L 88.921875 0  L 79.890625 0  L 79.890625 32.71875  Q 79.890625 40.578125 77.09375 44.375  Q 74.3125 48.1875 68.609375 48.1875  Q 61.625 48.1875 57.5625 43.546875  Q 53.515625 38.921875 53.515625 30.90625  L 53.515625 0  L 44.484375 0  L 44.484375 32.71875  Q 44.484375 40.625 41.703125 44.40625  Q 38.921875 48.1875 33.109375 48.1875  Q 26.21875 48.1875 22.15625 43.53125  Q 18.109375 38.875 18.109375 30.90625  L 18.109375 0  L 9.078125 0  L 9.078125 54.6875  L 18.109375 54.6875  L 18.109375 46.1875  Q 21.1875 51.21875 25.484375 53.609375  Q 29.78125 56 35.6875 56  Q 41.65625 56 45.828125 52.96875  Q 50 49.953125 52 44.1875  z \" id=\"DejaVuSans-109\"/>\n      <path d=\"M 48.6875 27.296875  Q 48.6875 37.203125 44.609375 42.84375  Q 40.53125 48.484375 33.40625 48.484375  Q 26.265625 48.484375 22.1875 42.84375  Q 18.109375 37.203125 18.109375 27.296875  Q 18.109375 17.390625 22.1875 11.75  Q 26.265625 6.109375 33.40625 6.109375  Q 40.53125 6.109375 44.609375 11.75  Q 48.6875 17.390625 48.6875 27.296875  z M 18.109375 46.390625  Q 20.953125 51.265625 25.265625 53.625  Q 29.59375 56 35.59375 56  Q 45.5625 56 51.78125 48.09375  Q 58.015625 40.1875 58.015625 27.296875  Q 58.015625 14.40625 51.78125 6.484375  Q 45.5625 -1.421875 35.59375 -1.421875  Q 29.59375 -1.421875 25.265625 0.953125  Q 20.953125 3.328125 18.109375 8.203125  L 18.109375 0  L 9.078125 0  L 9.078125 75.984375  L 18.109375 75.984375  z \" id=\"DejaVuSans-98\"/>\n      <path d=\"M 56.203125 29.59375  L 56.203125 25.203125  L 14.890625 25.203125  Q 15.484375 15.921875 20.484375 11.0625  Q 25.484375 6.203125 34.421875 6.203125  Q 39.59375 6.203125 44.453125 7.46875  Q 49.3125 8.734375 54.109375 11.28125  L 54.109375 2.78125  Q 49.265625 0.734375 44.1875 -0.34375  Q 39.109375 -1.421875 33.890625 -1.421875  Q 20.796875 -1.421875 13.15625 6.1875  Q 5.515625 13.8125 5.515625 26.8125  Q 5.515625 40.234375 12.765625 48.109375  Q 20.015625 56 32.328125 56  Q 43.359375 56 49.78125 48.890625  Q 56.203125 41.796875 56.203125 29.59375  z M 47.21875 32.234375  Q 47.125 39.59375 43.09375 43.984375  Q 39.0625 48.390625 32.421875 48.390625  Q 24.90625 48.390625 20.390625 44.140625  Q 15.875 39.890625 15.1875 32.171875  z \" id=\"DejaVuSans-101\"/>\n      <path d=\"M 41.109375 46.296875  Q 39.59375 47.171875 37.8125 47.578125  Q 36.03125 48 33.890625 48  Q 26.265625 48 22.1875 43.046875  Q 18.109375 38.09375 18.109375 28.8125  L 18.109375 0  L 9.078125 0  L 9.078125 54.6875  L 18.109375 54.6875  L 18.109375 46.1875  Q 20.953125 51.171875 25.484375 53.578125  Q 30.03125 56 36.53125 56  Q 37.453125 56 38.578125 55.875  Q 39.703125 55.765625 41.0625 55.515625  z \" id=\"DejaVuSans-114\"/>\n      <path id=\"DejaVuSans-32\"/>\n      <path d=\"M 30.609375 48.390625  Q 23.390625 48.390625 19.1875 42.75  Q 14.984375 37.109375 14.984375 27.296875  Q 14.984375 17.484375 19.15625 11.84375  Q 23.34375 6.203125 30.609375 6.203125  Q 37.796875 6.203125 41.984375 11.859375  Q 46.1875 17.53125 46.1875 27.296875  Q 46.1875 37.015625 41.984375 42.703125  Q 37.796875 48.390625 30.609375 48.390625  z M 30.609375 56  Q 42.328125 56 49.015625 48.375  Q 55.71875 40.765625 55.71875 27.296875  Q 55.71875 13.875 49.015625 6.21875  Q 42.328125 -1.421875 30.609375 -1.421875  Q 18.84375 -1.421875 12.171875 6.21875  Q 5.515625 13.875 5.515625 27.296875  Q 5.515625 40.765625 12.171875 48.375  Q 18.84375 56 30.609375 56  z \" id=\"DejaVuSans-111\"/>\n      <path d=\"M 37.109375 75.984375  L 37.109375 68.5  L 28.515625 68.5  Q 23.6875 68.5 21.796875 66.546875  Q 19.921875 64.59375 19.921875 59.515625  L 19.921875 54.6875  L 34.71875 54.6875  L 34.71875 47.703125  L 19.921875 47.703125  L 19.921875 0  L 10.890625 0  L 10.890625 47.703125  L 2.296875 47.703125  L 2.296875 54.6875  L 10.890625 54.6875  L 10.890625 58.5  Q 10.890625 67.625 15.140625 71.796875  Q 19.390625 75.984375 28.609375 75.984375  z \" id=\"DejaVuSans-102\"/>\n      <path d=\"M 34.1875 63.1875  L 20.796875 26.90625  L 47.609375 26.90625  z M 28.609375 72.90625  L 39.796875 72.90625  L 67.578125 0  L 57.328125 0  L 50.6875 18.703125  L 17.828125 18.703125  L 11.1875 0  L 0.78125 0  z \" id=\"DejaVuSans-65\"/>\n      <path d=\"M 9.8125 72.90625  L 55.90625 72.90625  L 55.90625 64.59375  L 19.671875 64.59375  L 19.671875 43.015625  L 54.390625 43.015625  L 54.390625 34.71875  L 19.671875 34.71875  L 19.671875 8.296875  L 56.78125 8.296875  L 56.78125 0  L 9.8125 0  z \" id=\"DejaVuSans-69\"/>\n      <path d=\"M 44.28125 53.078125  L 44.28125 44.578125  Q 40.484375 46.53125 36.375 47.5  Q 32.28125 48.484375 27.875 48.484375  Q 21.1875 48.484375 17.84375 46.4375  Q 14.5 44.390625 14.5 40.28125  Q 14.5 37.15625 16.890625 35.375  Q 19.28125 33.59375 26.515625 31.984375  L 29.59375 31.296875  Q 39.15625 29.25 43.1875 25.515625  Q 47.21875 21.78125 47.21875 15.09375  Q 47.21875 7.46875 41.1875 3.015625  Q 35.15625 -1.421875 24.609375 -1.421875  Q 20.21875 -1.421875 15.453125 -0.5625  Q 10.6875 0.296875 5.421875 2  L 5.421875 11.28125  Q 10.40625 8.6875 15.234375 7.390625  Q 20.0625 6.109375 24.8125 6.109375  Q 31.15625 6.109375 34.5625 8.28125  Q 37.984375 10.453125 37.984375 14.40625  Q 37.984375 18.0625 35.515625 20.015625  Q 33.0625 21.96875 24.703125 23.78125  L 21.578125 24.515625  Q 13.234375 26.265625 9.515625 29.90625  Q 5.8125 33.546875 5.8125 39.890625  Q 5.8125 47.609375 11.28125 51.796875  Q 16.75 56 26.8125 56  Q 31.78125 56 36.171875 55.265625  Q 40.578125 54.546875 44.28125 53.078125  z \" id=\"DejaVuSans-115\"/>\n      <path d=\"M 18.109375 8.203125  L 18.109375 -20.796875  L 9.078125 -20.796875  L 9.078125 54.6875  L 18.109375 54.6875  L 18.109375 46.390625  Q 20.953125 51.265625 25.265625 53.625  Q 29.59375 56 35.59375 56  Q 45.5625 56 51.78125 48.09375  Q 58.015625 40.1875 58.015625 27.296875  Q 58.015625 14.40625 51.78125 6.484375  Q 45.5625 -1.421875 35.59375 -1.421875  Q 29.59375 -1.421875 25.265625 0.953125  Q 20.953125 3.328125 18.109375 8.203125  z M 48.6875 27.296875  Q 48.6875 37.203125 44.609375 42.84375  Q 40.53125 48.484375 33.40625 48.484375  Q 26.265625 48.484375 22.1875 42.84375  Q 18.109375 37.203125 18.109375 27.296875  Q 18.109375 17.390625 22.1875 11.75  Q 26.265625 6.109375 33.40625 6.109375  Q 40.53125 6.109375 44.609375 11.75  Q 48.6875 17.390625 48.6875 27.296875  z \" id=\"DejaVuSans-112\"/>\n      <path d=\"M 18.3125 70.21875  L 18.3125 54.6875  L 36.8125 54.6875  L 36.8125 47.703125  L 18.3125 47.703125  L 18.3125 18.015625  Q 18.3125 11.328125 20.140625 9.421875  Q 21.96875 7.515625 27.59375 7.515625  L 36.8125 7.515625  L 36.8125 0  L 27.59375 0  Q 17.1875 0 13.234375 3.875  Q 9.28125 7.765625 9.28125 18.015625  L 9.28125 47.703125  L 2.6875 47.703125  L 2.6875 54.6875  L 9.28125 54.6875  L 9.28125 70.21875  z \" id=\"DejaVuSans-116\"/>\n      <path d=\"M 54.890625 33.015625  L 54.890625 0  L 45.90625 0  L 45.90625 32.71875  Q 45.90625 40.484375 42.875 44.328125  Q 39.84375 48.1875 33.796875 48.1875  Q 26.515625 48.1875 22.3125 43.546875  Q 18.109375 38.921875 18.109375 30.90625  L 18.109375 0  L 9.078125 0  L 9.078125 75.984375  L 18.109375 75.984375  L 18.109375 46.1875  Q 21.34375 51.125 25.703125 53.5625  Q 30.078125 56 35.796875 56  Q 45.21875 56 50.046875 50.171875  Q 54.890625 44.34375 54.890625 33.015625  z \" id=\"DejaVuSans-104\"/>\n      <path d=\"M 34.28125 27.484375  Q 23.390625 27.484375 19.1875 25  Q 14.984375 22.515625 14.984375 16.5  Q 14.984375 11.71875 18.140625 8.90625  Q 21.296875 6.109375 26.703125 6.109375  Q 34.1875 6.109375 38.703125 11.40625  Q 43.21875 16.703125 43.21875 25.484375  L 43.21875 27.484375  z M 52.203125 31.203125  L 52.203125 0  L 43.21875 0  L 43.21875 8.296875  Q 40.140625 3.328125 35.546875 0.953125  Q 30.953125 -1.421875 24.3125 -1.421875  Q 15.921875 -1.421875 10.953125 3.296875  Q 6 8.015625 6 15.921875  Q 6 25.140625 12.171875 29.828125  Q 18.359375 34.515625 30.609375 34.515625  L 43.21875 34.515625  L 43.21875 35.40625  Q 43.21875 41.609375 39.140625 45  Q 35.0625 48.390625 27.6875 48.390625  Q 23 48.390625 18.546875 47.265625  Q 14.109375 46.140625 10.015625 43.890625  L 10.015625 52.203125  Q 14.9375 54.109375 19.578125 55.046875  Q 24.21875 56 28.609375 56  Q 40.484375 56 46.34375 49.84375  Q 52.203125 43.703125 52.203125 31.203125  z \" id=\"DejaVuSans-97\"/>\n      <path d=\"M 54.890625 33.015625  L 54.890625 0  L 45.90625 0  L 45.90625 32.71875  Q 45.90625 40.484375 42.875 44.328125  Q 39.84375 48.1875 33.796875 48.1875  Q 26.515625 48.1875 22.3125 43.546875  Q 18.109375 38.921875 18.109375 30.90625  L 18.109375 0  L 9.078125 0  L 9.078125 54.6875  L 18.109375 54.6875  L 18.109375 46.1875  Q 21.34375 51.125 25.703125 53.5625  Q 30.078125 56 35.796875 56  Q 45.21875 56 50.046875 50.171875  Q 54.890625 44.34375 54.890625 33.015625  z \" id=\"DejaVuSans-110\"/>\n      <path d=\"M 45.40625 46.390625  L 45.40625 75.984375  L 54.390625 75.984375  L 54.390625 0  L 45.40625 0  L 45.40625 8.203125  Q 42.578125 3.328125 38.25 0.953125  Q 33.9375 -1.421875 27.875 -1.421875  Q 17.96875 -1.421875 11.734375 6.484375  Q 5.515625 14.40625 5.515625 27.296875  Q 5.515625 40.1875 11.734375 48.09375  Q 17.96875 56 27.875 56  Q 33.9375 56 38.25 53.625  Q 42.578125 51.265625 45.40625 46.390625  z M 14.796875 27.296875  Q 14.796875 17.390625 18.875 11.75  Q 22.953125 6.109375 30.078125 6.109375  Q 37.203125 6.109375 41.296875 11.75  Q 45.40625 17.390625 45.40625 27.296875  Q 45.40625 37.203125 41.296875 42.84375  Q 37.203125 48.484375 30.078125 48.484375  Q 22.953125 48.484375 18.875 42.84375  Q 14.796875 37.203125 14.796875 27.296875  z \" id=\"DejaVuSans-100\"/>\n      <path d=\"M 9.421875 54.6875  L 18.40625 54.6875  L 18.40625 0  L 9.421875 0  z M 9.421875 75.984375  L 18.40625 75.984375  L 18.40625 64.59375  L 9.421875 64.59375  z \" id=\"DejaVuSans-105\"/>\n      <path d=\"M 2.984375 54.6875  L 12.5 54.6875  L 29.59375 8.796875  L 46.6875 54.6875  L 56.203125 54.6875  L 35.6875 0  L 23.484375 0  z \" id=\"DejaVuSans-118\"/>\n      <path d=\"M 9.421875 75.984375  L 18.40625 75.984375  L 18.40625 0  L 9.421875 0  z \" id=\"DejaVuSans-108\"/>\n     </defs>\n     <g transform=\"translate(660.639844 494.114687)scale(0.1 -0.1)\">\n      <use xlink:href=\"#DejaVuSans-78\"/>\n      <use x=\"74.804688\" xlink:href=\"#DejaVuSans-117\"/>\n      <use x=\"138.183594\" xlink:href=\"#DejaVuSans-109\"/>\n      <use x=\"235.595703\" xlink:href=\"#DejaVuSans-98\"/>\n      <use x=\"299.072266\" xlink:href=\"#DejaVuSans-101\"/>\n      <use x=\"360.595703\" xlink:href=\"#DejaVuSans-114\"/>\n      <use x=\"401.708984\" xlink:href=\"#DejaVuSans-32\"/>\n      <use x=\"433.496094\" xlink:href=\"#DejaVuSans-111\"/>\n      <use x=\"494.677734\" xlink:href=\"#DejaVuSans-102\"/>\n      <use x=\"529.882812\" xlink:href=\"#DejaVuSans-32\"/>\n      <use x=\"561.669922\" xlink:href=\"#DejaVuSans-65\"/>\n      <use x=\"630.078125\" xlink:href=\"#DejaVuSans-69\"/>\n      <use x=\"693.261719\" xlink:href=\"#DejaVuSans-115\"/>\n      <use x=\"745.361328\" xlink:href=\"#DejaVuSans-32\"/>\n      <use x=\"777.148438\" xlink:href=\"#DejaVuSans-112\"/>\n      <use x=\"840.625\" xlink:href=\"#DejaVuSans-101\"/>\n      <use x=\"902.148438\" xlink:href=\"#DejaVuSans-114\"/>\n      <use x=\"943.261719\" xlink:href=\"#DejaVuSans-32\"/>\n      <use x=\"975.048828\" xlink:href=\"#DejaVuSans-116\"/>\n      <use x=\"1014.257812\" xlink:href=\"#DejaVuSans-104\"/>\n      <use x=\"1077.636719\" xlink:href=\"#DejaVuSans-111\"/>\n      <use x=\"1138.818359\" xlink:href=\"#DejaVuSans-117\"/>\n      <use x=\"1202.197266\" xlink:href=\"#DejaVuSans-115\"/>\n      <use x=\"1254.296875\" xlink:href=\"#DejaVuSans-97\"/>\n      <use x=\"1315.576172\" xlink:href=\"#DejaVuSans-110\"/>\n      <use x=\"1378.955078\" xlink:href=\"#DejaVuSans-100\"/>\n      <use x=\"1442.431641\" xlink:href=\"#DejaVuSans-32\"/>\n      <use x=\"1474.21875\" xlink:href=\"#DejaVuSans-105\"/>\n      <use x=\"1502.001953\" xlink:href=\"#DejaVuSans-110\"/>\n      <use x=\"1565.380859\" xlink:href=\"#DejaVuSans-100\"/>\n      <use x=\"1628.857422\" xlink:href=\"#DejaVuSans-105\"/>\n      <use x=\"1656.640625\" xlink:href=\"#DejaVuSans-118\"/>\n      <use x=\"1715.820312\" xlink:href=\"#DejaVuSans-105\"/>\n      <use x=\"1743.603516\" xlink:href=\"#DejaVuSans-100\"/>\n      <use x=\"1807.080078\" xlink:href=\"#DejaVuSans-117\"/>\n      <use x=\"1870.458984\" xlink:href=\"#DejaVuSans-97\"/>\n      <use x=\"1931.738281\" xlink:href=\"#DejaVuSans-108\"/>\n      <use x=\"1959.521484\" xlink:href=\"#DejaVuSans-115\"/>\n     </g>\n    </g>\n   </g>\n   <g id=\"matplotlib.axis_2\">\n    <g id=\"ytick_1\">\n     <g id=\"line2d_7\">\n      <defs>\n       <path d=\"M 0 0  L -3.5 0  \" id=\"m708ca6a0b1\" style=\"stroke:#000000;stroke-width:0.8;\"/>\n      </defs>\n      <g>\n       <use style=\"stroke:#000000;stroke-width:0.8;\" x=\"538.020313\" xlink:href=\"#m708ca6a0b1\" y=\"434.780828\"/>\n      </g>\n     </g>\n     <g id=\"text_8\">\n      <!-- Diseases of the blood and blood-forming organs and certain disorders involving the immune mechanism -->\n      <defs>\n       <path d=\"M 19.671875 64.796875  L 19.671875 8.109375  L 31.59375 8.109375  Q 46.6875 8.109375 53.6875 14.9375  Q 60.6875 21.78125 60.6875 36.53125  Q 60.6875 51.171875 53.6875 57.984375  Q 46.6875 64.796875 31.59375 64.796875  z M 9.8125 72.90625  L 30.078125 72.90625  Q 51.265625 72.90625 61.171875 64.09375  Q 71.09375 55.28125 71.09375 36.53125  Q 71.09375 17.671875 61.125 8.828125  Q 51.171875 0 30.078125 0  L 9.8125 0  z \" id=\"DejaVuSans-68\"/>\n       <path d=\"M 4.890625 31.390625  L 31.203125 31.390625  L 31.203125 23.390625  L 4.890625 23.390625  z \" id=\"DejaVuSans-45\"/>\n       <path d=\"M 45.40625 27.984375  Q 45.40625 37.75 41.375 43.109375  Q 37.359375 48.484375 30.078125 48.484375  Q 22.859375 48.484375 18.828125 43.109375  Q 14.796875 37.75 14.796875 27.984375  Q 14.796875 18.265625 18.828125 12.890625  Q 22.859375 7.515625 30.078125 7.515625  Q 37.359375 7.515625 41.375 12.890625  Q 45.40625 18.265625 45.40625 27.984375  z M 54.390625 6.78125  Q 54.390625 -7.171875 48.1875 -13.984375  Q 42 -20.796875 29.203125 -20.796875  Q 24.46875 -20.796875 20.265625 -20.09375  Q 16.0625 -19.390625 12.109375 -17.921875  L 12.109375 -9.1875  Q 16.0625 -11.328125 19.921875 -12.34375  Q 23.78125 -13.375 27.78125 -13.375  Q 36.625 -13.375 41.015625 -8.765625  Q 45.40625 -4.15625 45.40625 5.171875  L 45.40625 9.625  Q 42.625 4.78125 38.28125 2.390625  Q 33.9375 0 27.875 0  Q 17.828125 0 11.671875 7.65625  Q 5.515625 15.328125 5.515625 27.984375  Q 5.515625 40.671875 11.671875 48.328125  Q 17.828125 56 27.875 56  Q 33.9375 56 38.28125 53.609375  Q 42.625 51.21875 45.40625 46.390625  L 45.40625 54.6875  L 54.390625 54.6875  z \" id=\"DejaVuSans-103\"/>\n       <path d=\"M 48.78125 52.59375  L 48.78125 44.1875  Q 44.96875 46.296875 41.140625 47.34375  Q 37.3125 48.390625 33.40625 48.390625  Q 24.65625 48.390625 19.8125 42.84375  Q 14.984375 37.3125 14.984375 27.296875  Q 14.984375 17.28125 19.8125 11.734375  Q 24.65625 6.203125 33.40625 6.203125  Q 37.3125 6.203125 41.140625 7.25  Q 44.96875 8.296875 48.78125 10.40625  L 48.78125 2.09375  Q 45.015625 0.34375 40.984375 -0.53125  Q 36.96875 -1.421875 32.421875 -1.421875  Q 20.0625 -1.421875 12.78125 6.34375  Q 5.515625 14.109375 5.515625 27.296875  Q 5.515625 40.671875 12.859375 48.328125  Q 20.21875 56 33.015625 56  Q 37.15625 56 41.109375 55.140625  Q 45.0625 54.296875 48.78125 52.59375  z \" id=\"DejaVuSans-99\"/>\n      </defs>\n      <g transform=\"translate(7.2 438.580046)scale(0.1 -0.1)\">\n       <use xlink:href=\"#DejaVuSans-68\"/>\n       <use x=\"77.001953\" xlink:href=\"#DejaVuSans-105\"/>\n       <use x=\"104.785156\" xlink:href=\"#DejaVuSans-115\"/>\n       <use x=\"156.884766\" xlink:href=\"#DejaVuSans-101\"/>\n       <use x=\"218.408203\" xlink:href=\"#DejaVuSans-97\"/>\n       <use x=\"279.6875\" xlink:href=\"#DejaVuSans-115\"/>\n       <use x=\"331.787109\" xlink:href=\"#DejaVuSans-101\"/>\n       <use x=\"393.310547\" xlink:href=\"#DejaVuSans-115\"/>\n       <use x=\"445.410156\" xlink:href=\"#DejaVuSans-32\"/>\n       <use x=\"477.197266\" xlink:href=\"#DejaVuSans-111\"/>\n       <use x=\"538.378906\" xlink:href=\"#DejaVuSans-102\"/>\n       <use x=\"573.583984\" xlink:href=\"#DejaVuSans-32\"/>\n       <use x=\"605.371094\" xlink:href=\"#DejaVuSans-116\"/>\n       <use x=\"644.580078\" xlink:href=\"#DejaVuSans-104\"/>\n       <use x=\"707.958984\" xlink:href=\"#DejaVuSans-101\"/>\n       <use x=\"769.482422\" xlink:href=\"#DejaVuSans-32\"/>\n       <use x=\"801.269531\" xlink:href=\"#DejaVuSans-98\"/>\n       <use x=\"864.746094\" xlink:href=\"#DejaVuSans-108\"/>\n       <use x=\"892.529297\" xlink:href=\"#DejaVuSans-111\"/>\n       <use x=\"953.710938\" xlink:href=\"#DejaVuSans-111\"/>\n       <use x=\"1014.892578\" xlink:href=\"#DejaVuSans-100\"/>\n       <use x=\"1078.369141\" xlink:href=\"#DejaVuSans-32\"/>\n       <use x=\"1110.15625\" xlink:href=\"#DejaVuSans-97\"/>\n       <use x=\"1171.435547\" xlink:href=\"#DejaVuSans-110\"/>\n       <use x=\"1234.814453\" xlink:href=\"#DejaVuSans-100\"/>\n       <use x=\"1298.291016\" xlink:href=\"#DejaVuSans-32\"/>\n       <use x=\"1330.078125\" xlink:href=\"#DejaVuSans-98\"/>\n       <use x=\"1393.554688\" xlink:href=\"#DejaVuSans-108\"/>\n       <use x=\"1421.337891\" xlink:href=\"#DejaVuSans-111\"/>\n       <use x=\"1482.519531\" xlink:href=\"#DejaVuSans-111\"/>\n       <use x=\"1543.701172\" xlink:href=\"#DejaVuSans-100\"/>\n       <use x=\"1607.177734\" xlink:href=\"#DejaVuSans-45\"/>\n       <use x=\"1643.261719\" xlink:href=\"#DejaVuSans-102\"/>\n       <use x=\"1678.466797\" xlink:href=\"#DejaVuSans-111\"/>\n       <use x=\"1739.648438\" xlink:href=\"#DejaVuSans-114\"/>\n       <use x=\"1780.746094\" xlink:href=\"#DejaVuSans-109\"/>\n       <use x=\"1878.158203\" xlink:href=\"#DejaVuSans-105\"/>\n       <use x=\"1905.941406\" xlink:href=\"#DejaVuSans-110\"/>\n       <use x=\"1969.320312\" xlink:href=\"#DejaVuSans-103\"/>\n       <use x=\"2032.796875\" xlink:href=\"#DejaVuSans-32\"/>\n       <use x=\"2064.583984\" xlink:href=\"#DejaVuSans-111\"/>\n       <use x=\"2125.765625\" xlink:href=\"#DejaVuSans-114\"/>\n       <use x=\"2166.863281\" xlink:href=\"#DejaVuSans-103\"/>\n       <use x=\"2230.339844\" xlink:href=\"#DejaVuSans-97\"/>\n       <use x=\"2291.619141\" xlink:href=\"#DejaVuSans-110\"/>\n       <use x=\"2354.998047\" xlink:href=\"#DejaVuSans-115\"/>\n       <use x=\"2407.097656\" xlink:href=\"#DejaVuSans-32\"/>\n       <use x=\"2438.884766\" xlink:href=\"#DejaVuSans-97\"/>\n       <use x=\"2500.164062\" xlink:href=\"#DejaVuSans-110\"/>\n       <use x=\"2563.542969\" xlink:href=\"#DejaVuSans-100\"/>\n       <use x=\"2627.019531\" xlink:href=\"#DejaVuSans-32\"/>\n       <use x=\"2658.806641\" xlink:href=\"#DejaVuSans-99\"/>\n       <use x=\"2713.787109\" xlink:href=\"#DejaVuSans-101\"/>\n       <use x=\"2775.310547\" xlink:href=\"#DejaVuSans-114\"/>\n       <use x=\"2816.423828\" xlink:href=\"#DejaVuSans-116\"/>\n       <use x=\"2855.632812\" xlink:href=\"#DejaVuSans-97\"/>\n       <use x=\"2916.912109\" xlink:href=\"#DejaVuSans-105\"/>\n       <use x=\"2944.695312\" xlink:href=\"#DejaVuSans-110\"/>\n       <use x=\"3008.074219\" xlink:href=\"#DejaVuSans-32\"/>\n       <use x=\"3039.861328\" xlink:href=\"#DejaVuSans-100\"/>\n       <use x=\"3103.337891\" xlink:href=\"#DejaVuSans-105\"/>\n       <use x=\"3131.121094\" xlink:href=\"#DejaVuSans-115\"/>\n       <use x=\"3183.220703\" xlink:href=\"#DejaVuSans-111\"/>\n       <use x=\"3244.402344\" xlink:href=\"#DejaVuSans-114\"/>\n       <use x=\"3285.5\" xlink:href=\"#DejaVuSans-100\"/>\n       <use x=\"3348.976562\" xlink:href=\"#DejaVuSans-101\"/>\n       <use x=\"3410.5\" xlink:href=\"#DejaVuSans-114\"/>\n       <use x=\"3451.613281\" xlink:href=\"#DejaVuSans-115\"/>\n       <use x=\"3503.712891\" xlink:href=\"#DejaVuSans-32\"/>\n       <use x=\"3535.5\" xlink:href=\"#DejaVuSans-105\"/>\n       <use x=\"3563.283203\" xlink:href=\"#DejaVuSans-110\"/>\n       <use x=\"3626.662109\" xlink:href=\"#DejaVuSans-118\"/>\n       <use x=\"3685.841797\" xlink:href=\"#DejaVuSans-111\"/>\n       <use x=\"3747.023438\" xlink:href=\"#DejaVuSans-108\"/>\n       <use x=\"3774.806641\" xlink:href=\"#DejaVuSans-118\"/>\n       <use x=\"3833.986328\" xlink:href=\"#DejaVuSans-105\"/>\n       <use x=\"3861.769531\" xlink:href=\"#DejaVuSans-110\"/>\n       <use x=\"3925.148438\" xlink:href=\"#DejaVuSans-103\"/>\n       <use x=\"3988.625\" xlink:href=\"#DejaVuSans-32\"/>\n       <use x=\"4020.412109\" xlink:href=\"#DejaVuSans-116\"/>\n       <use x=\"4059.621094\" xlink:href=\"#DejaVuSans-104\"/>\n       <use x=\"4123\" xlink:href=\"#DejaVuSans-101\"/>\n       <use x=\"4184.523438\" xlink:href=\"#DejaVuSans-32\"/>\n       <use x=\"4216.310547\" xlink:href=\"#DejaVuSans-105\"/>\n       <use x=\"4244.09375\" xlink:href=\"#DejaVuSans-109\"/>\n       <use x=\"4341.505859\" xlink:href=\"#DejaVuSans-109\"/>\n       <use x=\"4438.917969\" xlink:href=\"#DejaVuSans-117\"/>\n       <use x=\"4502.296875\" xlink:href=\"#DejaVuSans-110\"/>\n       <use x=\"4565.675781\" xlink:href=\"#DejaVuSans-101\"/>\n       <use x=\"4627.199219\" xlink:href=\"#DejaVuSans-32\"/>\n       <use x=\"4658.986328\" xlink:href=\"#DejaVuSans-109\"/>\n       <use x=\"4756.398438\" xlink:href=\"#DejaVuSans-101\"/>\n       <use x=\"4817.921875\" xlink:href=\"#DejaVuSans-99\"/>\n       <use x=\"4872.902344\" xlink:href=\"#DejaVuSans-104\"/>\n       <use x=\"4936.28125\" xlink:href=\"#DejaVuSans-97\"/>\n       <use x=\"4997.560547\" xlink:href=\"#DejaVuSans-110\"/>\n       <use x=\"5060.939453\" xlink:href=\"#DejaVuSans-105\"/>\n       <use x=\"5088.722656\" xlink:href=\"#DejaVuSans-115\"/>\n       <use x=\"5140.822266\" xlink:href=\"#DejaVuSans-109\"/>\n      </g>\n     </g>\n    </g>\n    <g id=\"ytick_2\">\n     <g id=\"line2d_8\">\n      <g>\n       <use style=\"stroke:#000000;stroke-width:0.8;\" x=\"538.020313\" xlink:href=\"#m708ca6a0b1\" y=\"407.537584\"/>\n      </g>\n     </g>\n     <g id=\"text_9\">\n      <!-- Congenital malformations, deformations and chromosomal abnormalities -->\n      <defs>\n       <path d=\"M 64.40625 67.28125  L 64.40625 56.890625  Q 59.421875 61.53125 53.78125 63.8125  Q 48.140625 66.109375 41.796875 66.109375  Q 29.296875 66.109375 22.65625 58.46875  Q 16.015625 50.828125 16.015625 36.375  Q 16.015625 21.96875 22.65625 14.328125  Q 29.296875 6.6875 41.796875 6.6875  Q 48.140625 6.6875 53.78125 8.984375  Q 59.421875 11.28125 64.40625 15.921875  L 64.40625 5.609375  Q 59.234375 2.09375 53.4375 0.328125  Q 47.65625 -1.421875 41.21875 -1.421875  Q 24.65625 -1.421875 15.125 8.703125  Q 5.609375 18.84375 5.609375 36.375  Q 5.609375 53.953125 15.125 64.078125  Q 24.65625 74.21875 41.21875 74.21875  Q 47.75 74.21875 53.53125 72.484375  Q 59.328125 70.75 64.40625 67.28125  z \" id=\"DejaVuSans-67\"/>\n       <path d=\"M 11.71875 12.40625  L 22.015625 12.40625  L 22.015625 4  L 14.015625 -11.625  L 7.71875 -11.625  L 11.71875 4  z \" id=\"DejaVuSans-44\"/>\n      </defs>\n      <g transform=\"translate(163.71875 411.336803)scale(0.1 -0.1)\">\n       <use xlink:href=\"#DejaVuSans-67\"/>\n       <use x=\"69.824219\" xlink:href=\"#DejaVuSans-111\"/>\n       <use x=\"131.005859\" xlink:href=\"#DejaVuSans-110\"/>\n       <use x=\"194.384766\" xlink:href=\"#DejaVuSans-103\"/>\n       <use x=\"257.861328\" xlink:href=\"#DejaVuSans-101\"/>\n       <use x=\"319.384766\" xlink:href=\"#DejaVuSans-110\"/>\n       <use x=\"382.763672\" xlink:href=\"#DejaVuSans-105\"/>\n       <use x=\"410.546875\" xlink:href=\"#DejaVuSans-116\"/>\n       <use x=\"449.755859\" xlink:href=\"#DejaVuSans-97\"/>\n       <use x=\"511.035156\" xlink:href=\"#DejaVuSans-108\"/>\n       <use x=\"538.818359\" xlink:href=\"#DejaVuSans-32\"/>\n       <use x=\"570.605469\" xlink:href=\"#DejaVuSans-109\"/>\n       <use x=\"668.017578\" xlink:href=\"#DejaVuSans-97\"/>\n       <use x=\"729.296875\" xlink:href=\"#DejaVuSans-108\"/>\n       <use x=\"757.080078\" xlink:href=\"#DejaVuSans-102\"/>\n       <use x=\"792.285156\" xlink:href=\"#DejaVuSans-111\"/>\n       <use x=\"853.466797\" xlink:href=\"#DejaVuSans-114\"/>\n       <use x=\"894.564453\" xlink:href=\"#DejaVuSans-109\"/>\n       <use x=\"991.976562\" xlink:href=\"#DejaVuSans-97\"/>\n       <use x=\"1053.255859\" xlink:href=\"#DejaVuSans-116\"/>\n       <use x=\"1092.464844\" xlink:href=\"#DejaVuSans-105\"/>\n       <use x=\"1120.248047\" xlink:href=\"#DejaVuSans-111\"/>\n       <use x=\"1181.429688\" xlink:href=\"#DejaVuSans-110\"/>\n       <use x=\"1244.808594\" xlink:href=\"#DejaVuSans-115\"/>\n       <use x=\"1296.908203\" xlink:href=\"#DejaVuSans-44\"/>\n       <use x=\"1328.695312\" xlink:href=\"#DejaVuSans-32\"/>\n       <use x=\"1360.482422\" xlink:href=\"#DejaVuSans-100\"/>\n       <use x=\"1423.958984\" xlink:href=\"#DejaVuSans-101\"/>\n       <use x=\"1485.482422\" xlink:href=\"#DejaVuSans-102\"/>\n       <use x=\"1520.6875\" xlink:href=\"#DejaVuSans-111\"/>\n       <use x=\"1581.869141\" xlink:href=\"#DejaVuSans-114\"/>\n       <use x=\"1622.966797\" xlink:href=\"#DejaVuSans-109\"/>\n       <use x=\"1720.378906\" xlink:href=\"#DejaVuSans-97\"/>\n       <use x=\"1781.658203\" xlink:href=\"#DejaVuSans-116\"/>\n       <use x=\"1820.867188\" xlink:href=\"#DejaVuSans-105\"/>\n       <use x=\"1848.650391\" xlink:href=\"#DejaVuSans-111\"/>\n       <use x=\"1909.832031\" xlink:href=\"#DejaVuSans-110\"/>\n       <use x=\"1973.210938\" xlink:href=\"#DejaVuSans-115\"/>\n       <use x=\"2025.310547\" xlink:href=\"#DejaVuSans-32\"/>\n       <use x=\"2057.097656\" xlink:href=\"#DejaVuSans-97\"/>\n       <use x=\"2118.376953\" xlink:href=\"#DejaVuSans-110\"/>\n       <use x=\"2181.755859\" xlink:href=\"#DejaVuSans-100\"/>\n       <use x=\"2245.232422\" xlink:href=\"#DejaVuSans-32\"/>\n       <use x=\"2277.019531\" xlink:href=\"#DejaVuSans-99\"/>\n       <use x=\"2332\" xlink:href=\"#DejaVuSans-104\"/>\n       <use x=\"2395.378906\" xlink:href=\"#DejaVuSans-114\"/>\n       <use x=\"2436.460938\" xlink:href=\"#DejaVuSans-111\"/>\n       <use x=\"2497.642578\" xlink:href=\"#DejaVuSans-109\"/>\n       <use x=\"2595.054688\" xlink:href=\"#DejaVuSans-111\"/>\n       <use x=\"2656.236328\" xlink:href=\"#DejaVuSans-115\"/>\n       <use x=\"2708.335938\" xlink:href=\"#DejaVuSans-111\"/>\n       <use x=\"2769.517578\" xlink:href=\"#DejaVuSans-109\"/>\n       <use x=\"2866.929688\" xlink:href=\"#DejaVuSans-97\"/>\n       <use x=\"2928.208984\" xlink:href=\"#DejaVuSans-108\"/>\n       <use x=\"2955.992188\" xlink:href=\"#DejaVuSans-32\"/>\n       <use x=\"2987.779297\" xlink:href=\"#DejaVuSans-97\"/>\n       <use x=\"3049.058594\" xlink:href=\"#DejaVuSans-98\"/>\n       <use x=\"3112.535156\" xlink:href=\"#DejaVuSans-110\"/>\n       <use x=\"3175.914062\" xlink:href=\"#DejaVuSans-111\"/>\n       <use x=\"3237.095703\" xlink:href=\"#DejaVuSans-114\"/>\n       <use x=\"3278.193359\" xlink:href=\"#DejaVuSans-109\"/>\n       <use x=\"3375.605469\" xlink:href=\"#DejaVuSans-97\"/>\n       <use x=\"3436.884766\" xlink:href=\"#DejaVuSans-108\"/>\n       <use x=\"3464.667969\" xlink:href=\"#DejaVuSans-105\"/>\n       <use x=\"3492.451172\" xlink:href=\"#DejaVuSans-116\"/>\n       <use x=\"3531.660156\" xlink:href=\"#DejaVuSans-105\"/>\n       <use x=\"3559.443359\" xlink:href=\"#DejaVuSans-101\"/>\n       <use x=\"3620.966797\" xlink:href=\"#DejaVuSans-115\"/>\n      </g>\n     </g>\n    </g>\n    <g id=\"ytick_3\">\n     <g id=\"line2d_9\">\n      <g>\n       <use style=\"stroke:#000000;stroke-width:0.8;\" x=\"538.020313\" xlink:href=\"#m708ca6a0b1\" y=\"380.294341\"/>\n      </g>\n     </g>\n     <g id=\"text_10\">\n      <!-- Endocrine, nutritional and metabolic diseases -->\n      <g transform=\"translate(302.115625 384.09356)scale(0.1 -0.1)\">\n       <use xlink:href=\"#DejaVuSans-69\"/>\n       <use x=\"63.183594\" xlink:href=\"#DejaVuSans-110\"/>\n       <use x=\"126.5625\" xlink:href=\"#DejaVuSans-100\"/>\n       <use x=\"190.039062\" xlink:href=\"#DejaVuSans-111\"/>\n       <use x=\"251.220703\" xlink:href=\"#DejaVuSans-99\"/>\n       <use x=\"306.201172\" xlink:href=\"#DejaVuSans-114\"/>\n       <use x=\"347.314453\" xlink:href=\"#DejaVuSans-105\"/>\n       <use x=\"375.097656\" xlink:href=\"#DejaVuSans-110\"/>\n       <use x=\"438.476562\" xlink:href=\"#DejaVuSans-101\"/>\n       <use x=\"500\" xlink:href=\"#DejaVuSans-44\"/>\n       <use x=\"531.787109\" xlink:href=\"#DejaVuSans-32\"/>\n       <use x=\"563.574219\" xlink:href=\"#DejaVuSans-110\"/>\n       <use x=\"626.953125\" xlink:href=\"#DejaVuSans-117\"/>\n       <use x=\"690.332031\" xlink:href=\"#DejaVuSans-116\"/>\n       <use x=\"729.541016\" xlink:href=\"#DejaVuSans-114\"/>\n       <use x=\"770.654297\" xlink:href=\"#DejaVuSans-105\"/>\n       <use x=\"798.4375\" xlink:href=\"#DejaVuSans-116\"/>\n       <use x=\"837.646484\" xlink:href=\"#DejaVuSans-105\"/>\n       <use x=\"865.429688\" xlink:href=\"#DejaVuSans-111\"/>\n       <use x=\"926.611328\" xlink:href=\"#DejaVuSans-110\"/>\n       <use x=\"989.990234\" xlink:href=\"#DejaVuSans-97\"/>\n       <use x=\"1051.269531\" xlink:href=\"#DejaVuSans-108\"/>\n       <use x=\"1079.052734\" xlink:href=\"#DejaVuSans-32\"/>\n       <use x=\"1110.839844\" xlink:href=\"#DejaVuSans-97\"/>\n       <use x=\"1172.119141\" xlink:href=\"#DejaVuSans-110\"/>\n       <use x=\"1235.498047\" xlink:href=\"#DejaVuSans-100\"/>\n       <use x=\"1298.974609\" xlink:href=\"#DejaVuSans-32\"/>\n       <use x=\"1330.761719\" xlink:href=\"#DejaVuSans-109\"/>\n       <use x=\"1428.173828\" xlink:href=\"#DejaVuSans-101\"/>\n       <use x=\"1489.697266\" xlink:href=\"#DejaVuSans-116\"/>\n       <use x=\"1528.90625\" xlink:href=\"#DejaVuSans-97\"/>\n       <use x=\"1590.185547\" xlink:href=\"#DejaVuSans-98\"/>\n       <use x=\"1653.662109\" xlink:href=\"#DejaVuSans-111\"/>\n       <use x=\"1714.84375\" xlink:href=\"#DejaVuSans-108\"/>\n       <use x=\"1742.626953\" xlink:href=\"#DejaVuSans-105\"/>\n       <use x=\"1770.410156\" xlink:href=\"#DejaVuSans-99\"/>\n       <use x=\"1825.390625\" xlink:href=\"#DejaVuSans-32\"/>\n       <use x=\"1857.177734\" xlink:href=\"#DejaVuSans-100\"/>\n       <use x=\"1920.654297\" xlink:href=\"#DejaVuSans-105\"/>\n       <use x=\"1948.4375\" xlink:href=\"#DejaVuSans-115\"/>\n       <use x=\"2000.537109\" xlink:href=\"#DejaVuSans-101\"/>\n       <use x=\"2062.060547\" xlink:href=\"#DejaVuSans-97\"/>\n       <use x=\"2123.339844\" xlink:href=\"#DejaVuSans-115\"/>\n       <use x=\"2175.439453\" xlink:href=\"#DejaVuSans-101\"/>\n       <use x=\"2236.962891\" xlink:href=\"#DejaVuSans-115\"/>\n      </g>\n     </g>\n    </g>\n    <g id=\"ytick_4\">\n     <g id=\"line2d_10\">\n      <g>\n       <use style=\"stroke:#000000;stroke-width:0.8;\" x=\"538.020313\" xlink:href=\"#m708ca6a0b1\" y=\"353.051098\"/>\n      </g>\n     </g>\n     <g id=\"text_11\">\n      <!-- Diseases of the circulatory system -->\n      <defs>\n       <path d=\"M 32.171875 -5.078125  Q 28.375 -14.84375 24.75 -17.8125  Q 21.140625 -20.796875 15.09375 -20.796875  L 7.90625 -20.796875  L 7.90625 -13.28125  L 13.1875 -13.28125  Q 16.890625 -13.28125 18.9375 -11.515625  Q 21 -9.765625 23.484375 -3.21875  L 25.09375 0.875  L 2.984375 54.6875  L 12.5 54.6875  L 29.59375 11.921875  L 46.6875 54.6875  L 56.203125 54.6875  z \" id=\"DejaVuSans-121\"/>\n      </defs>\n      <g transform=\"translate(358.370313 356.850317)scale(0.1 -0.1)\">\n       <use xlink:href=\"#DejaVuSans-68\"/>\n       <use x=\"77.001953\" xlink:href=\"#DejaVuSans-105\"/>\n       <use x=\"104.785156\" xlink:href=\"#DejaVuSans-115\"/>\n       <use x=\"156.884766\" xlink:href=\"#DejaVuSans-101\"/>\n       <use x=\"218.408203\" xlink:href=\"#DejaVuSans-97\"/>\n       <use x=\"279.6875\" xlink:href=\"#DejaVuSans-115\"/>\n       <use x=\"331.787109\" xlink:href=\"#DejaVuSans-101\"/>\n       <use x=\"393.310547\" xlink:href=\"#DejaVuSans-115\"/>\n       <use x=\"445.410156\" xlink:href=\"#DejaVuSans-32\"/>\n       <use x=\"477.197266\" xlink:href=\"#DejaVuSans-111\"/>\n       <use x=\"538.378906\" xlink:href=\"#DejaVuSans-102\"/>\n       <use x=\"573.583984\" xlink:href=\"#DejaVuSans-32\"/>\n       <use x=\"605.371094\" xlink:href=\"#DejaVuSans-116\"/>\n       <use x=\"644.580078\" xlink:href=\"#DejaVuSans-104\"/>\n       <use x=\"707.958984\" xlink:href=\"#DejaVuSans-101\"/>\n       <use x=\"769.482422\" xlink:href=\"#DejaVuSans-32\"/>\n       <use x=\"801.269531\" xlink:href=\"#DejaVuSans-99\"/>\n       <use x=\"856.25\" xlink:href=\"#DejaVuSans-105\"/>\n       <use x=\"884.033203\" xlink:href=\"#DejaVuSans-114\"/>\n       <use x=\"925.115234\" xlink:href=\"#DejaVuSans-99\"/>\n       <use x=\"980.095703\" xlink:href=\"#DejaVuSans-117\"/>\n       <use x=\"1043.474609\" xlink:href=\"#DejaVuSans-108\"/>\n       <use x=\"1071.257812\" xlink:href=\"#DejaVuSans-97\"/>\n       <use x=\"1132.537109\" xlink:href=\"#DejaVuSans-116\"/>\n       <use x=\"1171.746094\" xlink:href=\"#DejaVuSans-111\"/>\n       <use x=\"1232.927734\" xlink:href=\"#DejaVuSans-114\"/>\n       <use x=\"1274.041016\" xlink:href=\"#DejaVuSans-121\"/>\n       <use x=\"1333.220703\" xlink:href=\"#DejaVuSans-32\"/>\n       <use x=\"1365.007812\" xlink:href=\"#DejaVuSans-115\"/>\n       <use x=\"1417.107422\" xlink:href=\"#DejaVuSans-121\"/>\n       <use x=\"1476.287109\" xlink:href=\"#DejaVuSans-115\"/>\n       <use x=\"1528.386719\" xlink:href=\"#DejaVuSans-116\"/>\n       <use x=\"1567.595703\" xlink:href=\"#DejaVuSans-101\"/>\n       <use x=\"1629.119141\" xlink:href=\"#DejaVuSans-109\"/>\n      </g>\n     </g>\n    </g>\n    <g id=\"ytick_5\">\n     <g id=\"line2d_11\">\n      <g>\n       <use style=\"stroke:#000000;stroke-width:0.8;\" x=\"538.020313\" xlink:href=\"#m708ca6a0b1\" y=\"325.807855\"/>\n      </g>\n     </g>\n     <g id=\"text_12\">\n      <!-- Diseases of the eye and adnexa -->\n      <defs>\n       <path d=\"M 54.890625 54.6875  L 35.109375 28.078125  L 55.90625 0  L 45.3125 0  L 29.390625 21.484375  L 13.484375 0  L 2.875 0  L 24.125 28.609375  L 4.6875 54.6875  L 15.28125 54.6875  L 29.78125 35.203125  L 44.28125 54.6875  z \" id=\"DejaVuSans-120\"/>\n      </defs>\n      <g transform=\"translate(370.4875 329.607073)scale(0.1 -0.1)\">\n       <use xlink:href=\"#DejaVuSans-68\"/>\n       <use x=\"77.001953\" xlink:href=\"#DejaVuSans-105\"/>\n       <use x=\"104.785156\" xlink:href=\"#DejaVuSans-115\"/>\n       <use x=\"156.884766\" xlink:href=\"#DejaVuSans-101\"/>\n       <use x=\"218.408203\" xlink:href=\"#DejaVuSans-97\"/>\n       <use x=\"279.6875\" xlink:href=\"#DejaVuSans-115\"/>\n       <use x=\"331.787109\" xlink:href=\"#DejaVuSans-101\"/>\n       <use x=\"393.310547\" xlink:href=\"#DejaVuSans-115\"/>\n       <use x=\"445.410156\" xlink:href=\"#DejaVuSans-32\"/>\n       <use x=\"477.197266\" xlink:href=\"#DejaVuSans-111\"/>\n       <use x=\"538.378906\" xlink:href=\"#DejaVuSans-102\"/>\n       <use x=\"573.583984\" xlink:href=\"#DejaVuSans-32\"/>\n       <use x=\"605.371094\" xlink:href=\"#DejaVuSans-116\"/>\n       <use x=\"644.580078\" xlink:href=\"#DejaVuSans-104\"/>\n       <use x=\"707.958984\" xlink:href=\"#DejaVuSans-101\"/>\n       <use x=\"769.482422\" xlink:href=\"#DejaVuSans-32\"/>\n       <use x=\"801.269531\" xlink:href=\"#DejaVuSans-101\"/>\n       <use x=\"862.792969\" xlink:href=\"#DejaVuSans-121\"/>\n       <use x=\"921.972656\" xlink:href=\"#DejaVuSans-101\"/>\n       <use x=\"983.496094\" xlink:href=\"#DejaVuSans-32\"/>\n       <use x=\"1015.283203\" xlink:href=\"#DejaVuSans-97\"/>\n       <use x=\"1076.5625\" xlink:href=\"#DejaVuSans-110\"/>\n       <use x=\"1139.941406\" xlink:href=\"#DejaVuSans-100\"/>\n       <use x=\"1203.417969\" xlink:href=\"#DejaVuSans-32\"/>\n       <use x=\"1235.205078\" xlink:href=\"#DejaVuSans-97\"/>\n       <use x=\"1296.484375\" xlink:href=\"#DejaVuSans-100\"/>\n       <use x=\"1359.960938\" xlink:href=\"#DejaVuSans-110\"/>\n       <use x=\"1423.339844\" xlink:href=\"#DejaVuSans-101\"/>\n       <use x=\"1484.847656\" xlink:href=\"#DejaVuSans-120\"/>\n       <use x=\"1544.027344\" xlink:href=\"#DejaVuSans-97\"/>\n      </g>\n     </g>\n    </g>\n    <g id=\"ytick_6\">\n     <g id=\"line2d_12\">\n      <g>\n       <use style=\"stroke:#000000;stroke-width:0.8;\" x=\"538.020313\" xlink:href=\"#m708ca6a0b1\" y=\"298.564611\"/>\n      </g>\n     </g>\n     <g id=\"text_13\">\n      <!-- Diseases of the nervous system -->\n      <g transform=\"translate(371.379688 302.36383)scale(0.1 -0.1)\">\n       <use xlink:href=\"#DejaVuSans-68\"/>\n       <use x=\"77.001953\" xlink:href=\"#DejaVuSans-105\"/>\n       <use x=\"104.785156\" xlink:href=\"#DejaVuSans-115\"/>\n       <use x=\"156.884766\" xlink:href=\"#DejaVuSans-101\"/>\n       <use x=\"218.408203\" xlink:href=\"#DejaVuSans-97\"/>\n       <use x=\"279.6875\" xlink:href=\"#DejaVuSans-115\"/>\n       <use x=\"331.787109\" xlink:href=\"#DejaVuSans-101\"/>\n       <use x=\"393.310547\" xlink:href=\"#DejaVuSans-115\"/>\n       <use x=\"445.410156\" xlink:href=\"#DejaVuSans-32\"/>\n       <use x=\"477.197266\" xlink:href=\"#DejaVuSans-111\"/>\n       <use x=\"538.378906\" xlink:href=\"#DejaVuSans-102\"/>\n       <use x=\"573.583984\" xlink:href=\"#DejaVuSans-32\"/>\n       <use x=\"605.371094\" xlink:href=\"#DejaVuSans-116\"/>\n       <use x=\"644.580078\" xlink:href=\"#DejaVuSans-104\"/>\n       <use x=\"707.958984\" xlink:href=\"#DejaVuSans-101\"/>\n       <use x=\"769.482422\" xlink:href=\"#DejaVuSans-32\"/>\n       <use x=\"801.269531\" xlink:href=\"#DejaVuSans-110\"/>\n       <use x=\"864.648438\" xlink:href=\"#DejaVuSans-101\"/>\n       <use x=\"926.171875\" xlink:href=\"#DejaVuSans-114\"/>\n       <use x=\"967.285156\" xlink:href=\"#DejaVuSans-118\"/>\n       <use x=\"1026.464844\" xlink:href=\"#DejaVuSans-111\"/>\n       <use x=\"1087.646484\" xlink:href=\"#DejaVuSans-117\"/>\n       <use x=\"1151.025391\" xlink:href=\"#DejaVuSans-115\"/>\n       <use x=\"1203.125\" xlink:href=\"#DejaVuSans-32\"/>\n       <use x=\"1234.912109\" xlink:href=\"#DejaVuSans-115\"/>\n       <use x=\"1287.011719\" xlink:href=\"#DejaVuSans-121\"/>\n       <use x=\"1346.191406\" xlink:href=\"#DejaVuSans-115\"/>\n       <use x=\"1398.291016\" xlink:href=\"#DejaVuSans-116\"/>\n       <use x=\"1437.5\" xlink:href=\"#DejaVuSans-101\"/>\n       <use x=\"1499.023438\" xlink:href=\"#DejaVuSans-109\"/>\n      </g>\n     </g>\n    </g>\n    <g id=\"ytick_7\">\n     <g id=\"line2d_13\">\n      <g>\n       <use style=\"stroke:#000000;stroke-width:0.8;\" x=\"538.020313\" xlink:href=\"#m708ca6a0b1\" y=\"271.321368\"/>\n      </g>\n     </g>\n     <g id=\"text_14\">\n      <!-- Neoplasms -->\n      <g transform=\"translate(475.853125 275.120587)scale(0.1 -0.1)\">\n       <use xlink:href=\"#DejaVuSans-78\"/>\n       <use x=\"74.804688\" xlink:href=\"#DejaVuSans-101\"/>\n       <use x=\"136.328125\" xlink:href=\"#DejaVuSans-111\"/>\n       <use x=\"197.509766\" xlink:href=\"#DejaVuSans-112\"/>\n       <use x=\"260.986328\" xlink:href=\"#DejaVuSans-108\"/>\n       <use x=\"288.769531\" xlink:href=\"#DejaVuSans-97\"/>\n       <use x=\"350.048828\" xlink:href=\"#DejaVuSans-115\"/>\n       <use x=\"402.148438\" xlink:href=\"#DejaVuSans-109\"/>\n       <use x=\"499.560547\" xlink:href=\"#DejaVuSans-115\"/>\n      </g>\n     </g>\n    </g>\n    <g id=\"ytick_8\">\n     <g id=\"line2d_14\">\n      <g>\n       <use style=\"stroke:#000000;stroke-width:0.8;\" x=\"538.020313\" xlink:href=\"#m708ca6a0b1\" y=\"244.078125\"/>\n      </g>\n     </g>\n     <g id=\"text_15\">\n      <!-- Diseases of the ear and mastoid process -->\n      <g transform=\"translate(327.265625 247.877344)scale(0.1 -0.1)\">\n       <use xlink:href=\"#DejaVuSans-68\"/>\n       <use x=\"77.001953\" xlink:href=\"#DejaVuSans-105\"/>\n       <use x=\"104.785156\" xlink:href=\"#DejaVuSans-115\"/>\n       <use x=\"156.884766\" xlink:href=\"#DejaVuSans-101\"/>\n       <use x=\"218.408203\" xlink:href=\"#DejaVuSans-97\"/>\n       <use x=\"279.6875\" xlink:href=\"#DejaVuSans-115\"/>\n       <use x=\"331.787109\" xlink:href=\"#DejaVuSans-101\"/>\n       <use x=\"393.310547\" xlink:href=\"#DejaVuSans-115\"/>\n       <use x=\"445.410156\" xlink:href=\"#DejaVuSans-32\"/>\n       <use x=\"477.197266\" xlink:href=\"#DejaVuSans-111\"/>\n       <use x=\"538.378906\" xlink:href=\"#DejaVuSans-102\"/>\n       <use x=\"573.583984\" xlink:href=\"#DejaVuSans-32\"/>\n       <use x=\"605.371094\" xlink:href=\"#DejaVuSans-116\"/>\n       <use x=\"644.580078\" xlink:href=\"#DejaVuSans-104\"/>\n       <use x=\"707.958984\" xlink:href=\"#DejaVuSans-101\"/>\n       <use x=\"769.482422\" xlink:href=\"#DejaVuSans-32\"/>\n       <use x=\"801.269531\" xlink:href=\"#DejaVuSans-101\"/>\n       <use x=\"862.792969\" xlink:href=\"#DejaVuSans-97\"/>\n       <use x=\"924.072266\" xlink:href=\"#DejaVuSans-114\"/>\n       <use x=\"965.185547\" xlink:href=\"#DejaVuSans-32\"/>\n       <use x=\"996.972656\" xlink:href=\"#DejaVuSans-97\"/>\n       <use x=\"1058.251953\" xlink:href=\"#DejaVuSans-110\"/>\n       <use x=\"1121.630859\" xlink:href=\"#DejaVuSans-100\"/>\n       <use x=\"1185.107422\" xlink:href=\"#DejaVuSans-32\"/>\n       <use x=\"1216.894531\" xlink:href=\"#DejaVuSans-109\"/>\n       <use x=\"1314.306641\" xlink:href=\"#DejaVuSans-97\"/>\n       <use x=\"1375.585938\" xlink:href=\"#DejaVuSans-115\"/>\n       <use x=\"1427.685547\" xlink:href=\"#DejaVuSans-116\"/>\n       <use x=\"1466.894531\" xlink:href=\"#DejaVuSans-111\"/>\n       <use x=\"1528.076172\" xlink:href=\"#DejaVuSans-105\"/>\n       <use x=\"1555.859375\" xlink:href=\"#DejaVuSans-100\"/>\n       <use x=\"1619.335938\" xlink:href=\"#DejaVuSans-32\"/>\n       <use x=\"1651.123047\" xlink:href=\"#DejaVuSans-112\"/>\n       <use x=\"1714.599609\" xlink:href=\"#DejaVuSans-114\"/>\n       <use x=\"1755.681641\" xlink:href=\"#DejaVuSans-111\"/>\n       <use x=\"1816.863281\" xlink:href=\"#DejaVuSans-99\"/>\n       <use x=\"1871.84375\" xlink:href=\"#DejaVuSans-101\"/>\n       <use x=\"1933.367188\" xlink:href=\"#DejaVuSans-115\"/>\n       <use x=\"1985.466797\" xlink:href=\"#DejaVuSans-115\"/>\n      </g>\n     </g>\n    </g>\n    <g id=\"ytick_9\">\n     <g id=\"line2d_15\">\n      <g>\n       <use style=\"stroke:#000000;stroke-width:0.8;\" x=\"538.020313\" xlink:href=\"#m708ca6a0b1\" y=\"216.834882\"/>\n      </g>\n     </g>\n     <g id=\"text_16\">\n      <!-- Diseases of the digestive system -->\n      <g transform=\"translate(365.957813 220.634101)scale(0.1 -0.1)\">\n       <use xlink:href=\"#DejaVuSans-68\"/>\n       <use x=\"77.001953\" xlink:href=\"#DejaVuSans-105\"/>\n       <use x=\"104.785156\" xlink:href=\"#DejaVuSans-115\"/>\n       <use x=\"156.884766\" xlink:href=\"#DejaVuSans-101\"/>\n       <use x=\"218.408203\" xlink:href=\"#DejaVuSans-97\"/>\n       <use x=\"279.6875\" xlink:href=\"#DejaVuSans-115\"/>\n       <use x=\"331.787109\" xlink:href=\"#DejaVuSans-101\"/>\n       <use x=\"393.310547\" xlink:href=\"#DejaVuSans-115\"/>\n       <use x=\"445.410156\" xlink:href=\"#DejaVuSans-32\"/>\n       <use x=\"477.197266\" xlink:href=\"#DejaVuSans-111\"/>\n       <use x=\"538.378906\" xlink:href=\"#DejaVuSans-102\"/>\n       <use x=\"573.583984\" xlink:href=\"#DejaVuSans-32\"/>\n       <use x=\"605.371094\" xlink:href=\"#DejaVuSans-116\"/>\n       <use x=\"644.580078\" xlink:href=\"#DejaVuSans-104\"/>\n       <use x=\"707.958984\" xlink:href=\"#DejaVuSans-101\"/>\n       <use x=\"769.482422\" xlink:href=\"#DejaVuSans-32\"/>\n       <use x=\"801.269531\" xlink:href=\"#DejaVuSans-100\"/>\n       <use x=\"864.746094\" xlink:href=\"#DejaVuSans-105\"/>\n       <use x=\"892.529297\" xlink:href=\"#DejaVuSans-103\"/>\n       <use x=\"956.005859\" xlink:href=\"#DejaVuSans-101\"/>\n       <use x=\"1017.529297\" xlink:href=\"#DejaVuSans-115\"/>\n       <use x=\"1069.628906\" xlink:href=\"#DejaVuSans-116\"/>\n       <use x=\"1108.837891\" xlink:href=\"#DejaVuSans-105\"/>\n       <use x=\"1136.621094\" xlink:href=\"#DejaVuSans-118\"/>\n       <use x=\"1195.800781\" xlink:href=\"#DejaVuSans-101\"/>\n       <use x=\"1257.324219\" xlink:href=\"#DejaVuSans-32\"/>\n       <use x=\"1289.111328\" xlink:href=\"#DejaVuSans-115\"/>\n       <use x=\"1341.210938\" xlink:href=\"#DejaVuSans-121\"/>\n       <use x=\"1400.390625\" xlink:href=\"#DejaVuSans-115\"/>\n       <use x=\"1452.490234\" xlink:href=\"#DejaVuSans-116\"/>\n       <use x=\"1491.699219\" xlink:href=\"#DejaVuSans-101\"/>\n       <use x=\"1553.222656\" xlink:href=\"#DejaVuSans-109\"/>\n      </g>\n     </g>\n    </g>\n    <g id=\"ytick_10\">\n     <g id=\"line2d_16\">\n      <g>\n       <use style=\"stroke:#000000;stroke-width:0.8;\" x=\"538.020313\" xlink:href=\"#m708ca6a0b1\" y=\"189.591639\"/>\n      </g>\n     </g>\n     <g id=\"text_17\">\n      <!-- Diseases of the respiratory system -->\n      <g transform=\"translate(356.660938 193.390857)scale(0.1 -0.1)\">\n       <use xlink:href=\"#DejaVuSans-68\"/>\n       <use x=\"77.001953\" xlink:href=\"#DejaVuSans-105\"/>\n       <use x=\"104.785156\" xlink:href=\"#DejaVuSans-115\"/>\n       <use x=\"156.884766\" xlink:href=\"#DejaVuSans-101\"/>\n       <use x=\"218.408203\" xlink:href=\"#DejaVuSans-97\"/>\n       <use x=\"279.6875\" xlink:href=\"#DejaVuSans-115\"/>\n       <use x=\"331.787109\" xlink:href=\"#DejaVuSans-101\"/>\n       <use x=\"393.310547\" xlink:href=\"#DejaVuSans-115\"/>\n       <use x=\"445.410156\" xlink:href=\"#DejaVuSans-32\"/>\n       <use x=\"477.197266\" xlink:href=\"#DejaVuSans-111\"/>\n       <use x=\"538.378906\" xlink:href=\"#DejaVuSans-102\"/>\n       <use x=\"573.583984\" xlink:href=\"#DejaVuSans-32\"/>\n       <use x=\"605.371094\" xlink:href=\"#DejaVuSans-116\"/>\n       <use x=\"644.580078\" xlink:href=\"#DejaVuSans-104\"/>\n       <use x=\"707.958984\" xlink:href=\"#DejaVuSans-101\"/>\n       <use x=\"769.482422\" xlink:href=\"#DejaVuSans-32\"/>\n       <use x=\"801.269531\" xlink:href=\"#DejaVuSans-114\"/>\n       <use x=\"842.351562\" xlink:href=\"#DejaVuSans-101\"/>\n       <use x=\"903.875\" xlink:href=\"#DejaVuSans-115\"/>\n       <use x=\"955.974609\" xlink:href=\"#DejaVuSans-112\"/>\n       <use x=\"1019.451172\" xlink:href=\"#DejaVuSans-105\"/>\n       <use x=\"1047.234375\" xlink:href=\"#DejaVuSans-114\"/>\n       <use x=\"1088.347656\" xlink:href=\"#DejaVuSans-97\"/>\n       <use x=\"1149.626953\" xlink:href=\"#DejaVuSans-116\"/>\n       <use x=\"1188.835938\" xlink:href=\"#DejaVuSans-111\"/>\n       <use x=\"1250.017578\" xlink:href=\"#DejaVuSans-114\"/>\n       <use x=\"1291.130859\" xlink:href=\"#DejaVuSans-121\"/>\n       <use x=\"1350.310547\" xlink:href=\"#DejaVuSans-32\"/>\n       <use x=\"1382.097656\" xlink:href=\"#DejaVuSans-115\"/>\n       <use x=\"1434.197266\" xlink:href=\"#DejaVuSans-121\"/>\n       <use x=\"1493.376953\" xlink:href=\"#DejaVuSans-115\"/>\n       <use x=\"1545.476562\" xlink:href=\"#DejaVuSans-116\"/>\n       <use x=\"1584.685547\" xlink:href=\"#DejaVuSans-101\"/>\n       <use x=\"1646.208984\" xlink:href=\"#DejaVuSans-109\"/>\n      </g>\n     </g>\n    </g>\n    <g id=\"ytick_11\">\n     <g id=\"line2d_17\">\n      <g>\n       <use style=\"stroke:#000000;stroke-width:0.8;\" x=\"538.020313\" xlink:href=\"#m708ca6a0b1\" y=\"162.348395\"/>\n      </g>\n     </g>\n     <g id=\"text_18\">\n      <!-- Diseases of the genitourinary system -->\n      <g transform=\"translate(344.1875 166.147614)scale(0.1 -0.1)\">\n       <use xlink:href=\"#DejaVuSans-68\"/>\n       <use x=\"77.001953\" xlink:href=\"#DejaVuSans-105\"/>\n       <use x=\"104.785156\" xlink:href=\"#DejaVuSans-115\"/>\n       <use x=\"156.884766\" xlink:href=\"#DejaVuSans-101\"/>\n       <use x=\"218.408203\" xlink:href=\"#DejaVuSans-97\"/>\n       <use x=\"279.6875\" xlink:href=\"#DejaVuSans-115\"/>\n       <use x=\"331.787109\" xlink:href=\"#DejaVuSans-101\"/>\n       <use x=\"393.310547\" xlink:href=\"#DejaVuSans-115\"/>\n       <use x=\"445.410156\" xlink:href=\"#DejaVuSans-32\"/>\n       <use x=\"477.197266\" xlink:href=\"#DejaVuSans-111\"/>\n       <use x=\"538.378906\" xlink:href=\"#DejaVuSans-102\"/>\n       <use x=\"573.583984\" xlink:href=\"#DejaVuSans-32\"/>\n       <use x=\"605.371094\" xlink:href=\"#DejaVuSans-116\"/>\n       <use x=\"644.580078\" xlink:href=\"#DejaVuSans-104\"/>\n       <use x=\"707.958984\" xlink:href=\"#DejaVuSans-101\"/>\n       <use x=\"769.482422\" xlink:href=\"#DejaVuSans-32\"/>\n       <use x=\"801.269531\" xlink:href=\"#DejaVuSans-103\"/>\n       <use x=\"864.746094\" xlink:href=\"#DejaVuSans-101\"/>\n       <use x=\"926.269531\" xlink:href=\"#DejaVuSans-110\"/>\n       <use x=\"989.648438\" xlink:href=\"#DejaVuSans-105\"/>\n       <use x=\"1017.431641\" xlink:href=\"#DejaVuSans-116\"/>\n       <use x=\"1056.640625\" xlink:href=\"#DejaVuSans-111\"/>\n       <use x=\"1117.822266\" xlink:href=\"#DejaVuSans-117\"/>\n       <use x=\"1181.201172\" xlink:href=\"#DejaVuSans-114\"/>\n       <use x=\"1222.314453\" xlink:href=\"#DejaVuSans-105\"/>\n       <use x=\"1250.097656\" xlink:href=\"#DejaVuSans-110\"/>\n       <use x=\"1313.476562\" xlink:href=\"#DejaVuSans-97\"/>\n       <use x=\"1374.755859\" xlink:href=\"#DejaVuSans-114\"/>\n       <use x=\"1415.869141\" xlink:href=\"#DejaVuSans-121\"/>\n       <use x=\"1475.048828\" xlink:href=\"#DejaVuSans-32\"/>\n       <use x=\"1506.835938\" xlink:href=\"#DejaVuSans-115\"/>\n       <use x=\"1558.935547\" xlink:href=\"#DejaVuSans-121\"/>\n       <use x=\"1618.115234\" xlink:href=\"#DejaVuSans-115\"/>\n       <use x=\"1670.214844\" xlink:href=\"#DejaVuSans-116\"/>\n       <use x=\"1709.423828\" xlink:href=\"#DejaVuSans-101\"/>\n       <use x=\"1770.947266\" xlink:href=\"#DejaVuSans-109\"/>\n      </g>\n     </g>\n    </g>\n    <g id=\"ytick_12\">\n     <g id=\"line2d_18\">\n      <g>\n       <use style=\"stroke:#000000;stroke-width:0.8;\" x=\"538.020313\" xlink:href=\"#m708ca6a0b1\" y=\"135.105152\"/>\n      </g>\n     </g>\n     <g id=\"text_19\">\n      <!-- Mental, Behavioral and Neurodevelopmental disorders -->\n      <defs>\n       <path d=\"M 9.8125 72.90625  L 24.515625 72.90625  L 43.109375 23.296875  L 61.8125 72.90625  L 76.515625 72.90625  L 76.515625 0  L 66.890625 0  L 66.890625 64.015625  L 48.09375 14.015625  L 38.1875 14.015625  L 19.390625 64.015625  L 19.390625 0  L 9.8125 0  z \" id=\"DejaVuSans-77\"/>\n       <path d=\"M 19.671875 34.8125  L 19.671875 8.109375  L 35.5 8.109375  Q 43.453125 8.109375 47.28125 11.40625  Q 51.125 14.703125 51.125 21.484375  Q 51.125 28.328125 47.28125 31.5625  Q 43.453125 34.8125 35.5 34.8125  z M 19.671875 64.796875  L 19.671875 42.828125  L 34.28125 42.828125  Q 41.5 42.828125 45.03125 45.53125  Q 48.578125 48.25 48.578125 53.8125  Q 48.578125 59.328125 45.03125 62.0625  Q 41.5 64.796875 34.28125 64.796875  z M 9.8125 72.90625  L 35.015625 72.90625  Q 46.296875 72.90625 52.390625 68.21875  Q 58.5 63.53125 58.5 54.890625  Q 58.5 48.1875 55.375 44.234375  Q 52.25 40.28125 46.1875 39.3125  Q 53.46875 37.75 57.5 32.78125  Q 61.53125 27.828125 61.53125 20.40625  Q 61.53125 10.640625 54.890625 5.3125  Q 48.25 0 35.984375 0  L 9.8125 0  z \" id=\"DejaVuSans-66\"/>\n      </defs>\n      <g transform=\"translate(257.596875 138.904371)scale(0.1 -0.1)\">\n       <use xlink:href=\"#DejaVuSans-77\"/>\n       <use x=\"86.279297\" xlink:href=\"#DejaVuSans-101\"/>\n       <use x=\"147.802734\" xlink:href=\"#DejaVuSans-110\"/>\n       <use x=\"211.181641\" xlink:href=\"#DejaVuSans-116\"/>\n       <use x=\"250.390625\" xlink:href=\"#DejaVuSans-97\"/>\n       <use x=\"311.669922\" xlink:href=\"#DejaVuSans-108\"/>\n       <use x=\"339.453125\" xlink:href=\"#DejaVuSans-44\"/>\n       <use x=\"371.240234\" xlink:href=\"#DejaVuSans-32\"/>\n       <use x=\"403.027344\" xlink:href=\"#DejaVuSans-66\"/>\n       <use x=\"471.630859\" xlink:href=\"#DejaVuSans-101\"/>\n       <use x=\"533.154297\" xlink:href=\"#DejaVuSans-104\"/>\n       <use x=\"596.533203\" xlink:href=\"#DejaVuSans-97\"/>\n       <use x=\"657.8125\" xlink:href=\"#DejaVuSans-118\"/>\n       <use x=\"716.992188\" xlink:href=\"#DejaVuSans-105\"/>\n       <use x=\"744.775391\" xlink:href=\"#DejaVuSans-111\"/>\n       <use x=\"805.957031\" xlink:href=\"#DejaVuSans-114\"/>\n       <use x=\"847.070312\" xlink:href=\"#DejaVuSans-97\"/>\n       <use x=\"908.349609\" xlink:href=\"#DejaVuSans-108\"/>\n       <use x=\"936.132812\" xlink:href=\"#DejaVuSans-32\"/>\n       <use x=\"967.919922\" xlink:href=\"#DejaVuSans-97\"/>\n       <use x=\"1029.199219\" xlink:href=\"#DejaVuSans-110\"/>\n       <use x=\"1092.578125\" xlink:href=\"#DejaVuSans-100\"/>\n       <use x=\"1156.054688\" xlink:href=\"#DejaVuSans-32\"/>\n       <use x=\"1187.841797\" xlink:href=\"#DejaVuSans-78\"/>\n       <use x=\"1262.646484\" xlink:href=\"#DejaVuSans-101\"/>\n       <use x=\"1324.169922\" xlink:href=\"#DejaVuSans-117\"/>\n       <use x=\"1387.548828\" xlink:href=\"#DejaVuSans-114\"/>\n       <use x=\"1428.630859\" xlink:href=\"#DejaVuSans-111\"/>\n       <use x=\"1489.8125\" xlink:href=\"#DejaVuSans-100\"/>\n       <use x=\"1553.289062\" xlink:href=\"#DejaVuSans-101\"/>\n       <use x=\"1614.8125\" xlink:href=\"#DejaVuSans-118\"/>\n       <use x=\"1673.992188\" xlink:href=\"#DejaVuSans-101\"/>\n       <use x=\"1735.515625\" xlink:href=\"#DejaVuSans-108\"/>\n       <use x=\"1763.298828\" xlink:href=\"#DejaVuSans-111\"/>\n       <use x=\"1824.480469\" xlink:href=\"#DejaVuSans-112\"/>\n       <use x=\"1887.957031\" xlink:href=\"#DejaVuSans-109\"/>\n       <use x=\"1985.369141\" xlink:href=\"#DejaVuSans-101\"/>\n       <use x=\"2046.892578\" xlink:href=\"#DejaVuSans-110\"/>\n       <use x=\"2110.271484\" xlink:href=\"#DejaVuSans-116\"/>\n       <use x=\"2149.480469\" xlink:href=\"#DejaVuSans-97\"/>\n       <use x=\"2210.759766\" xlink:href=\"#DejaVuSans-108\"/>\n       <use x=\"2238.542969\" xlink:href=\"#DejaVuSans-32\"/>\n       <use x=\"2270.330078\" xlink:href=\"#DejaVuSans-100\"/>\n       <use x=\"2333.806641\" xlink:href=\"#DejaVuSans-105\"/>\n       <use x=\"2361.589844\" xlink:href=\"#DejaVuSans-115\"/>\n       <use x=\"2413.689453\" xlink:href=\"#DejaVuSans-111\"/>\n       <use x=\"2474.871094\" xlink:href=\"#DejaVuSans-114\"/>\n       <use x=\"2515.96875\" xlink:href=\"#DejaVuSans-100\"/>\n       <use x=\"2579.445312\" xlink:href=\"#DejaVuSans-101\"/>\n       <use x=\"2640.96875\" xlink:href=\"#DejaVuSans-114\"/>\n       <use x=\"2682.082031\" xlink:href=\"#DejaVuSans-115\"/>\n      </g>\n     </g>\n    </g>\n    <g id=\"ytick_13\">\n     <g id=\"line2d_19\">\n      <g>\n       <use style=\"stroke:#000000;stroke-width:0.8;\" x=\"538.020313\" xlink:href=\"#m708ca6a0b1\" y=\"107.861909\"/>\n      </g>\n     </g>\n     <g id=\"text_20\">\n      <!-- Certain infectious and parasitic diseases -->\n      <g transform=\"translate(328.342188 111.661128)scale(0.1 -0.1)\">\n       <use xlink:href=\"#DejaVuSans-67\"/>\n       <use x=\"69.824219\" xlink:href=\"#DejaVuSans-101\"/>\n       <use x=\"131.347656\" xlink:href=\"#DejaVuSans-114\"/>\n       <use x=\"172.460938\" xlink:href=\"#DejaVuSans-116\"/>\n       <use x=\"211.669922\" xlink:href=\"#DejaVuSans-97\"/>\n       <use x=\"272.949219\" xlink:href=\"#DejaVuSans-105\"/>\n       <use x=\"300.732422\" xlink:href=\"#DejaVuSans-110\"/>\n       <use x=\"364.111328\" xlink:href=\"#DejaVuSans-32\"/>\n       <use x=\"395.898438\" xlink:href=\"#DejaVuSans-105\"/>\n       <use x=\"423.681641\" xlink:href=\"#DejaVuSans-110\"/>\n       <use x=\"487.060547\" xlink:href=\"#DejaVuSans-102\"/>\n       <use x=\"522.265625\" xlink:href=\"#DejaVuSans-101\"/>\n       <use x=\"583.789062\" xlink:href=\"#DejaVuSans-99\"/>\n       <use x=\"638.769531\" xlink:href=\"#DejaVuSans-116\"/>\n       <use x=\"677.978516\" xlink:href=\"#DejaVuSans-105\"/>\n       <use x=\"705.761719\" xlink:href=\"#DejaVuSans-111\"/>\n       <use x=\"766.943359\" xlink:href=\"#DejaVuSans-117\"/>\n       <use x=\"830.322266\" xlink:href=\"#DejaVuSans-115\"/>\n       <use x=\"882.421875\" xlink:href=\"#DejaVuSans-32\"/>\n       <use x=\"914.208984\" xlink:href=\"#DejaVuSans-97\"/>\n       <use x=\"975.488281\" xlink:href=\"#DejaVuSans-110\"/>\n       <use x=\"1038.867188\" xlink:href=\"#DejaVuSans-100\"/>\n       <use x=\"1102.34375\" xlink:href=\"#DejaVuSans-32\"/>\n       <use x=\"1134.130859\" xlink:href=\"#DejaVuSans-112\"/>\n       <use x=\"1197.607422\" xlink:href=\"#DejaVuSans-97\"/>\n       <use x=\"1258.886719\" xlink:href=\"#DejaVuSans-114\"/>\n       <use x=\"1300\" xlink:href=\"#DejaVuSans-97\"/>\n       <use x=\"1361.279297\" xlink:href=\"#DejaVuSans-115\"/>\n       <use x=\"1413.378906\" xlink:href=\"#DejaVuSans-105\"/>\n       <use x=\"1441.162109\" xlink:href=\"#DejaVuSans-116\"/>\n       <use x=\"1480.371094\" xlink:href=\"#DejaVuSans-105\"/>\n       <use x=\"1508.154297\" xlink:href=\"#DejaVuSans-99\"/>\n       <use x=\"1563.134766\" xlink:href=\"#DejaVuSans-32\"/>\n       <use x=\"1594.921875\" xlink:href=\"#DejaVuSans-100\"/>\n       <use x=\"1658.398438\" xlink:href=\"#DejaVuSans-105\"/>\n       <use x=\"1686.181641\" xlink:href=\"#DejaVuSans-115\"/>\n       <use x=\"1738.28125\" xlink:href=\"#DejaVuSans-101\"/>\n       <use x=\"1799.804688\" xlink:href=\"#DejaVuSans-97\"/>\n       <use x=\"1861.083984\" xlink:href=\"#DejaVuSans-115\"/>\n       <use x=\"1913.183594\" xlink:href=\"#DejaVuSans-101\"/>\n       <use x=\"1974.707031\" xlink:href=\"#DejaVuSans-115\"/>\n      </g>\n     </g>\n    </g>\n    <g id=\"ytick_14\">\n     <g id=\"line2d_20\">\n      <g>\n       <use style=\"stroke:#000000;stroke-width:0.8;\" x=\"538.020313\" xlink:href=\"#m708ca6a0b1\" y=\"80.618666\"/>\n      </g>\n     </g>\n     <g id=\"text_21\">\n      <!-- Diseases of the skin and subcutaneous tissue -->\n      <defs>\n       <path d=\"M 9.078125 75.984375  L 18.109375 75.984375  L 18.109375 31.109375  L 44.921875 54.6875  L 56.390625 54.6875  L 27.390625 29.109375  L 57.625 0  L 45.90625 0  L 18.109375 26.703125  L 18.109375 0  L 9.078125 0  z \" id=\"DejaVuSans-107\"/>\n      </defs>\n      <g transform=\"translate(302.8875 84.417884)scale(0.1 -0.1)\">\n       <use xlink:href=\"#DejaVuSans-68\"/>\n       <use x=\"77.001953\" xlink:href=\"#DejaVuSans-105\"/>\n       <use x=\"104.785156\" xlink:href=\"#DejaVuSans-115\"/>\n       <use x=\"156.884766\" xlink:href=\"#DejaVuSans-101\"/>\n       <use x=\"218.408203\" xlink:href=\"#DejaVuSans-97\"/>\n       <use x=\"279.6875\" xlink:href=\"#DejaVuSans-115\"/>\n       <use x=\"331.787109\" xlink:href=\"#DejaVuSans-101\"/>\n       <use x=\"393.310547\" xlink:href=\"#DejaVuSans-115\"/>\n       <use x=\"445.410156\" xlink:href=\"#DejaVuSans-32\"/>\n       <use x=\"477.197266\" xlink:href=\"#DejaVuSans-111\"/>\n       <use x=\"538.378906\" xlink:href=\"#DejaVuSans-102\"/>\n       <use x=\"573.583984\" xlink:href=\"#DejaVuSans-32\"/>\n       <use x=\"605.371094\" xlink:href=\"#DejaVuSans-116\"/>\n       <use x=\"644.580078\" xlink:href=\"#DejaVuSans-104\"/>\n       <use x=\"707.958984\" xlink:href=\"#DejaVuSans-101\"/>\n       <use x=\"769.482422\" xlink:href=\"#DejaVuSans-32\"/>\n       <use x=\"801.269531\" xlink:href=\"#DejaVuSans-115\"/>\n       <use x=\"853.369141\" xlink:href=\"#DejaVuSans-107\"/>\n       <use x=\"911.279297\" xlink:href=\"#DejaVuSans-105\"/>\n       <use x=\"939.0625\" xlink:href=\"#DejaVuSans-110\"/>\n       <use x=\"1002.441406\" xlink:href=\"#DejaVuSans-32\"/>\n       <use x=\"1034.228516\" xlink:href=\"#DejaVuSans-97\"/>\n       <use x=\"1095.507812\" xlink:href=\"#DejaVuSans-110\"/>\n       <use x=\"1158.886719\" xlink:href=\"#DejaVuSans-100\"/>\n       <use x=\"1222.363281\" xlink:href=\"#DejaVuSans-32\"/>\n       <use x=\"1254.150391\" xlink:href=\"#DejaVuSans-115\"/>\n       <use x=\"1306.25\" xlink:href=\"#DejaVuSans-117\"/>\n       <use x=\"1369.628906\" xlink:href=\"#DejaVuSans-98\"/>\n       <use x=\"1433.105469\" xlink:href=\"#DejaVuSans-99\"/>\n       <use x=\"1488.085938\" xlink:href=\"#DejaVuSans-117\"/>\n       <use x=\"1551.464844\" xlink:href=\"#DejaVuSans-116\"/>\n       <use x=\"1590.673828\" xlink:href=\"#DejaVuSans-97\"/>\n       <use x=\"1651.953125\" xlink:href=\"#DejaVuSans-110\"/>\n       <use x=\"1715.332031\" xlink:href=\"#DejaVuSans-101\"/>\n       <use x=\"1776.855469\" xlink:href=\"#DejaVuSans-111\"/>\n       <use x=\"1838.037109\" xlink:href=\"#DejaVuSans-117\"/>\n       <use x=\"1901.416016\" xlink:href=\"#DejaVuSans-115\"/>\n       <use x=\"1953.515625\" xlink:href=\"#DejaVuSans-32\"/>\n       <use x=\"1985.302734\" xlink:href=\"#DejaVuSans-116\"/>\n       <use x=\"2024.511719\" xlink:href=\"#DejaVuSans-105\"/>\n       <use x=\"2052.294922\" xlink:href=\"#DejaVuSans-115\"/>\n       <use x=\"2104.394531\" xlink:href=\"#DejaVuSans-115\"/>\n       <use x=\"2156.494141\" xlink:href=\"#DejaVuSans-117\"/>\n       <use x=\"2219.873047\" xlink:href=\"#DejaVuSans-101\"/>\n      </g>\n     </g>\n    </g>\n    <g id=\"ytick_15\">\n     <g id=\"line2d_21\">\n      <g>\n       <use style=\"stroke:#000000;stroke-width:0.8;\" x=\"538.020313\" xlink:href=\"#m708ca6a0b1\" y=\"53.375422\"/>\n      </g>\n     </g>\n     <g id=\"text_22\">\n      <!-- Diseases of the musculoskeletal system and connective tissue -->\n      <g transform=\"translate(217.96875 57.174641)scale(0.1 -0.1)\">\n       <use xlink:href=\"#DejaVuSans-68\"/>\n       <use x=\"77.001953\" xlink:href=\"#DejaVuSans-105\"/>\n       <use x=\"104.785156\" xlink:href=\"#DejaVuSans-115\"/>\n       <use x=\"156.884766\" xlink:href=\"#DejaVuSans-101\"/>\n       <use x=\"218.408203\" xlink:href=\"#DejaVuSans-97\"/>\n       <use x=\"279.6875\" xlink:href=\"#DejaVuSans-115\"/>\n       <use x=\"331.787109\" xlink:href=\"#DejaVuSans-101\"/>\n       <use x=\"393.310547\" xlink:href=\"#DejaVuSans-115\"/>\n       <use x=\"445.410156\" xlink:href=\"#DejaVuSans-32\"/>\n       <use x=\"477.197266\" xlink:href=\"#DejaVuSans-111\"/>\n       <use x=\"538.378906\" xlink:href=\"#DejaVuSans-102\"/>\n       <use x=\"573.583984\" xlink:href=\"#DejaVuSans-32\"/>\n       <use x=\"605.371094\" xlink:href=\"#DejaVuSans-116\"/>\n       <use x=\"644.580078\" xlink:href=\"#DejaVuSans-104\"/>\n       <use x=\"707.958984\" xlink:href=\"#DejaVuSans-101\"/>\n       <use x=\"769.482422\" xlink:href=\"#DejaVuSans-32\"/>\n       <use x=\"801.269531\" xlink:href=\"#DejaVuSans-109\"/>\n       <use x=\"898.681641\" xlink:href=\"#DejaVuSans-117\"/>\n       <use x=\"962.060547\" xlink:href=\"#DejaVuSans-115\"/>\n       <use x=\"1014.160156\" xlink:href=\"#DejaVuSans-99\"/>\n       <use x=\"1069.140625\" xlink:href=\"#DejaVuSans-117\"/>\n       <use x=\"1132.519531\" xlink:href=\"#DejaVuSans-108\"/>\n       <use x=\"1160.302734\" xlink:href=\"#DejaVuSans-111\"/>\n       <use x=\"1221.484375\" xlink:href=\"#DejaVuSans-115\"/>\n       <use x=\"1273.583984\" xlink:href=\"#DejaVuSans-107\"/>\n       <use x=\"1331.447266\" xlink:href=\"#DejaVuSans-101\"/>\n       <use x=\"1392.970703\" xlink:href=\"#DejaVuSans-108\"/>\n       <use x=\"1420.753906\" xlink:href=\"#DejaVuSans-101\"/>\n       <use x=\"1482.277344\" xlink:href=\"#DejaVuSans-116\"/>\n       <use x=\"1521.486328\" xlink:href=\"#DejaVuSans-97\"/>\n       <use x=\"1582.765625\" xlink:href=\"#DejaVuSans-108\"/>\n       <use x=\"1610.548828\" xlink:href=\"#DejaVuSans-32\"/>\n       <use x=\"1642.335938\" xlink:href=\"#DejaVuSans-115\"/>\n       <use x=\"1694.435547\" xlink:href=\"#DejaVuSans-121\"/>\n       <use x=\"1753.615234\" xlink:href=\"#DejaVuSans-115\"/>\n       <use x=\"1805.714844\" xlink:href=\"#DejaVuSans-116\"/>\n       <use x=\"1844.923828\" xlink:href=\"#DejaVuSans-101\"/>\n       <use x=\"1906.447266\" xlink:href=\"#DejaVuSans-109\"/>\n       <use x=\"2003.859375\" xlink:href=\"#DejaVuSans-32\"/>\n       <use x=\"2035.646484\" xlink:href=\"#DejaVuSans-97\"/>\n       <use x=\"2096.925781\" xlink:href=\"#DejaVuSans-110\"/>\n       <use x=\"2160.304688\" xlink:href=\"#DejaVuSans-100\"/>\n       <use x=\"2223.78125\" xlink:href=\"#DejaVuSans-32\"/>\n       <use x=\"2255.568359\" xlink:href=\"#DejaVuSans-99\"/>\n       <use x=\"2310.548828\" xlink:href=\"#DejaVuSans-111\"/>\n       <use x=\"2371.730469\" xlink:href=\"#DejaVuSans-110\"/>\n       <use x=\"2435.109375\" xlink:href=\"#DejaVuSans-110\"/>\n       <use x=\"2498.488281\" xlink:href=\"#DejaVuSans-101\"/>\n       <use x=\"2560.011719\" xlink:href=\"#DejaVuSans-99\"/>\n       <use x=\"2614.992188\" xlink:href=\"#DejaVuSans-116\"/>\n       <use x=\"2654.201172\" xlink:href=\"#DejaVuSans-105\"/>\n       <use x=\"2681.984375\" xlink:href=\"#DejaVuSans-118\"/>\n       <use x=\"2741.164062\" xlink:href=\"#DejaVuSans-101\"/>\n       <use x=\"2802.6875\" xlink:href=\"#DejaVuSans-32\"/>\n       <use x=\"2834.474609\" xlink:href=\"#DejaVuSans-116\"/>\n       <use x=\"2873.683594\" xlink:href=\"#DejaVuSans-105\"/>\n       <use x=\"2901.466797\" xlink:href=\"#DejaVuSans-115\"/>\n       <use x=\"2953.566406\" xlink:href=\"#DejaVuSans-115\"/>\n       <use x=\"3005.666016\" xlink:href=\"#DejaVuSans-117\"/>\n       <use x=\"3069.044922\" xlink:href=\"#DejaVuSans-101\"/>\n      </g>\n     </g>\n    </g>\n   </g>\n   <g id=\"patch_33\">\n    <path d=\"M 538.020313 465.838125  L 538.020313 22.318125  \" style=\"fill:none;stroke:#000000;stroke-linecap:square;stroke-linejoin:miter;stroke-width:0.8;\"/>\n   </g>\n   <g id=\"patch_34\">\n    <path d=\"M 984.420312 465.838125  L 984.420312 22.318125  \" style=\"fill:none;stroke:#000000;stroke-linecap:square;stroke-linejoin:miter;stroke-width:0.8;\"/>\n   </g>\n   <g id=\"patch_35\">\n    <path d=\"M 538.020313 465.838125  L 984.420312 465.838125  \" style=\"fill:none;stroke:#000000;stroke-linecap:square;stroke-linejoin:miter;stroke-width:0.8;\"/>\n   </g>\n   <g id=\"patch_36\">\n    <path d=\"M 538.020313 22.318125  L 984.420312 22.318125  \" style=\"fill:none;stroke:#000000;stroke-linecap:square;stroke-linejoin:miter;stroke-width:0.8;\"/>\n   </g>\n   <g id=\"text_23\">\n    <!-- Adverse events in people with diseases in specific ICD10 categories -->\n    <defs>\n     <path d=\"M 4.203125 54.6875  L 13.1875 54.6875  L 24.421875 12.015625  L 35.59375 54.6875  L 46.1875 54.6875  L 57.421875 12.015625  L 68.609375 54.6875  L 77.59375 54.6875  L 63.28125 0  L 52.6875 0  L 40.921875 44.828125  L 29.109375 0  L 18.5 0  z \" id=\"DejaVuSans-119\"/>\n     <path d=\"M 9.8125 72.90625  L 19.671875 72.90625  L 19.671875 0  L 9.8125 0  z \" id=\"DejaVuSans-73\"/>\n    </defs>\n    <g transform=\"translate(557.14625 16.318125)scale(0.12 -0.12)\">\n     <use xlink:href=\"#DejaVuSans-65\"/>\n     <use x=\"68.392578\" xlink:href=\"#DejaVuSans-100\"/>\n     <use x=\"131.869141\" xlink:href=\"#DejaVuSans-118\"/>\n     <use x=\"191.048828\" xlink:href=\"#DejaVuSans-101\"/>\n     <use x=\"252.572266\" xlink:href=\"#DejaVuSans-114\"/>\n     <use x=\"293.685547\" xlink:href=\"#DejaVuSans-115\"/>\n     <use x=\"345.785156\" xlink:href=\"#DejaVuSans-101\"/>\n     <use x=\"407.308594\" xlink:href=\"#DejaVuSans-32\"/>\n     <use x=\"439.095703\" xlink:href=\"#DejaVuSans-101\"/>\n     <use x=\"500.619141\" xlink:href=\"#DejaVuSans-118\"/>\n     <use x=\"559.798828\" xlink:href=\"#DejaVuSans-101\"/>\n     <use x=\"621.322266\" xlink:href=\"#DejaVuSans-110\"/>\n     <use x=\"684.701172\" xlink:href=\"#DejaVuSans-116\"/>\n     <use x=\"723.910156\" xlink:href=\"#DejaVuSans-115\"/>\n     <use x=\"776.009766\" xlink:href=\"#DejaVuSans-32\"/>\n     <use x=\"807.796875\" xlink:href=\"#DejaVuSans-105\"/>\n     <use x=\"835.580078\" xlink:href=\"#DejaVuSans-110\"/>\n     <use x=\"898.958984\" xlink:href=\"#DejaVuSans-32\"/>\n     <use x=\"930.746094\" xlink:href=\"#DejaVuSans-112\"/>\n     <use x=\"994.222656\" xlink:href=\"#DejaVuSans-101\"/>\n     <use x=\"1055.746094\" xlink:href=\"#DejaVuSans-111\"/>\n     <use x=\"1116.927734\" xlink:href=\"#DejaVuSans-112\"/>\n     <use x=\"1180.404297\" xlink:href=\"#DejaVuSans-108\"/>\n     <use x=\"1208.1875\" xlink:href=\"#DejaVuSans-101\"/>\n     <use x=\"1269.710938\" xlink:href=\"#DejaVuSans-32\"/>\n     <use x=\"1301.498047\" xlink:href=\"#DejaVuSans-119\"/>\n     <use x=\"1383.285156\" xlink:href=\"#DejaVuSans-105\"/>\n     <use x=\"1411.068359\" xlink:href=\"#DejaVuSans-116\"/>\n     <use x=\"1450.277344\" xlink:href=\"#DejaVuSans-104\"/>\n     <use x=\"1513.65625\" xlink:href=\"#DejaVuSans-32\"/>\n     <use x=\"1545.443359\" xlink:href=\"#DejaVuSans-100\"/>\n     <use x=\"1608.919922\" xlink:href=\"#DejaVuSans-105\"/>\n     <use x=\"1636.703125\" xlink:href=\"#DejaVuSans-115\"/>\n     <use x=\"1688.802734\" xlink:href=\"#DejaVuSans-101\"/>\n     <use x=\"1750.326172\" xlink:href=\"#DejaVuSans-97\"/>\n     <use x=\"1811.605469\" xlink:href=\"#DejaVuSans-115\"/>\n     <use x=\"1863.705078\" xlink:href=\"#DejaVuSans-101\"/>\n     <use x=\"1925.228516\" xlink:href=\"#DejaVuSans-115\"/>\n     <use x=\"1977.328125\" xlink:href=\"#DejaVuSans-32\"/>\n     <use x=\"2009.115234\" xlink:href=\"#DejaVuSans-105\"/>\n     <use x=\"2036.898438\" xlink:href=\"#DejaVuSans-110\"/>\n     <use x=\"2100.277344\" xlink:href=\"#DejaVuSans-32\"/>\n     <use x=\"2132.064453\" xlink:href=\"#DejaVuSans-115\"/>\n     <use x=\"2184.164062\" xlink:href=\"#DejaVuSans-112\"/>\n     <use x=\"2247.640625\" xlink:href=\"#DejaVuSans-101\"/>\n     <use x=\"2309.164062\" xlink:href=\"#DejaVuSans-99\"/>\n     <use x=\"2364.144531\" xlink:href=\"#DejaVuSans-105\"/>\n     <use x=\"2391.927734\" xlink:href=\"#DejaVuSans-102\"/>\n     <use x=\"2427.132812\" xlink:href=\"#DejaVuSans-105\"/>\n     <use x=\"2454.916016\" xlink:href=\"#DejaVuSans-99\"/>\n     <use x=\"2509.896484\" xlink:href=\"#DejaVuSans-32\"/>\n     <use x=\"2541.683594\" xlink:href=\"#DejaVuSans-73\"/>\n     <use x=\"2571.175781\" xlink:href=\"#DejaVuSans-67\"/>\n     <use x=\"2641\" xlink:href=\"#DejaVuSans-68\"/>\n     <use x=\"2718.001953\" xlink:href=\"#DejaVuSans-49\"/>\n     <use x=\"2781.625\" xlink:href=\"#DejaVuSans-48\"/>\n     <use x=\"2845.248047\" xlink:href=\"#DejaVuSans-32\"/>\n     <use x=\"2877.035156\" xlink:href=\"#DejaVuSans-99\"/>\n     <use x=\"2932.015625\" xlink:href=\"#DejaVuSans-97\"/>\n     <use x=\"2993.294922\" xlink:href=\"#DejaVuSans-116\"/>\n     <use x=\"3032.503906\" xlink:href=\"#DejaVuSans-101\"/>\n     <use x=\"3094.027344\" xlink:href=\"#DejaVuSans-103\"/>\n     <use x=\"3157.503906\" xlink:href=\"#DejaVuSans-111\"/>\n     <use x=\"3218.685547\" xlink:href=\"#DejaVuSans-114\"/>\n     <use x=\"3259.798828\" xlink:href=\"#DejaVuSans-105\"/>\n     <use x=\"3287.582031\" xlink:href=\"#DejaVuSans-101\"/>\n     <use x=\"3349.105469\" xlink:href=\"#DejaVuSans-115\"/>\n    </g>\n   </g>\n   <g id=\"legend_1\">\n    <g id=\"patch_37\">\n     <path d=\"M 870.0125 59.674375  L 977.420312 59.674375  Q 979.420312 59.674375 979.420312 57.674375  L 979.420312 29.318125  Q 979.420312 27.318125 977.420312 27.318125  L 870.0125 27.318125  Q 868.0125 27.318125 868.0125 29.318125  L 868.0125 57.674375  Q 868.0125 59.674375 870.0125 59.674375  z \" style=\"fill:#ffffff;opacity:0.8;stroke:#cccccc;stroke-linejoin:miter;\"/>\n    </g>\n    <g id=\"patch_38\">\n     <path d=\"M 872.0125 38.916562  L 892.0125 38.916562  L 892.0125 31.916562  L 872.0125 31.916562  z \" style=\"fill:#1f77b4;opacity:0.5;\"/>\n    </g>\n    <g id=\"text_24\">\n     <!-- Vaccinated -->\n     <defs>\n      <path d=\"M 28.609375 0  L 0.78125 72.90625  L 11.078125 72.90625  L 34.1875 11.53125  L 57.328125 72.90625  L 67.578125 72.90625  L 39.796875 0  z \" id=\"DejaVuSans-86\"/>\n     </defs>\n     <g transform=\"translate(900.0125 38.916562)scale(0.1 -0.1)\">\n      <use xlink:href=\"#DejaVuSans-86\"/>\n      <use x=\"68.298828\" xlink:href=\"#DejaVuSans-97\"/>\n      <use x=\"129.578125\" xlink:href=\"#DejaVuSans-99\"/>\n      <use x=\"184.558594\" xlink:href=\"#DejaVuSans-99\"/>\n      <use x=\"239.539062\" xlink:href=\"#DejaVuSans-105\"/>\n      <use x=\"267.322266\" xlink:href=\"#DejaVuSans-110\"/>\n      <use x=\"330.701172\" xlink:href=\"#DejaVuSans-97\"/>\n      <use x=\"391.980469\" xlink:href=\"#DejaVuSans-116\"/>\n      <use x=\"431.189453\" xlink:href=\"#DejaVuSans-101\"/>\n      <use x=\"492.712891\" xlink:href=\"#DejaVuSans-100\"/>\n     </g>\n    </g>\n    <g id=\"patch_39\">\n     <path d=\"M 872.0125 53.594687  L 892.0125 53.594687  L 892.0125 46.594687  L 872.0125 46.594687  z \" style=\"fill:#ff7f0e;opacity:0.5;\"/>\n    </g>\n    <g id=\"text_25\">\n     <!-- Not vaccinated -->\n     <g transform=\"translate(900.0125 53.594687)scale(0.1 -0.1)\">\n      <use xlink:href=\"#DejaVuSans-78\"/>\n      <use x=\"74.804688\" xlink:href=\"#DejaVuSans-111\"/>\n      <use x=\"135.986328\" xlink:href=\"#DejaVuSans-116\"/>\n      <use x=\"175.195312\" xlink:href=\"#DejaVuSans-32\"/>\n      <use x=\"206.982422\" xlink:href=\"#DejaVuSans-118\"/>\n      <use x=\"266.162109\" xlink:href=\"#DejaVuSans-97\"/>\n      <use x=\"327.441406\" xlink:href=\"#DejaVuSans-99\"/>\n      <use x=\"382.421875\" xlink:href=\"#DejaVuSans-99\"/>\n      <use x=\"437.402344\" xlink:href=\"#DejaVuSans-105\"/>\n      <use x=\"465.185547\" xlink:href=\"#DejaVuSans-110\"/>\n      <use x=\"528.564453\" xlink:href=\"#DejaVuSans-97\"/>\n      <use x=\"589.84375\" xlink:href=\"#DejaVuSans-116\"/>\n      <use x=\"629.052734\" xlink:href=\"#DejaVuSans-101\"/>\n      <use x=\"690.576172\" xlink:href=\"#DejaVuSans-100\"/>\n     </g>\n    </g>\n   </g>\n  </g>\n </g>\n <defs>\n  <clipPath id=\"pa9b8ba4bf4\">\n   <rect height=\"443.52\" width=\"446.4\" x=\"538.020313\" y=\"22.318125\"/>\n  </clipPath>\n </defs>\n</svg>",
      "text/plain": [
       "<IPython.core.display.SVG object>"
      ]
     },
     "execution_count": 12,
     "metadata": {},
     "output_type": "execute_result"
    }
   ],
   "source": [
    "# Figure 4\n",
    "SVG(filename='analysis_euler/1c_AE_barplot.svg')"
   ]
  },
  {
   "cell_type": "markdown",
   "metadata": {},
   "source": [
    "Vaccination status had a significant effect on the occurrence of at least one adverse event in all of the subgroups, with adverse events being more likely in the vaccinated individuals. The risk of experiencing an adverse event was between 5 and 7 times higher in vaccinated subjects in the different underlying conditions. The p-value of the chi-squared test, the risk ratio and its 95%-CI for the subgroups are listed in table 4. Figure 5 depicts the ratios."
   ]
  },
  {
   "cell_type": "code",
   "execution_count": 13,
   "metadata": {},
   "outputs": [
    {
     "data": {
      "text/html": [
       "<div>\n",
       "<style scoped>\n",
       "    .dataframe tbody tr th:only-of-type {\n",
       "        vertical-align: middle;\n",
       "    }\n",
       "\n",
       "    .dataframe tbody tr th {\n",
       "        vertical-align: top;\n",
       "    }\n",
       "\n",
       "    .dataframe thead th {\n",
       "        text-align: right;\n",
       "    }\n",
       "</style>\n",
       "<table border=\"1\" class=\"dataframe\">\n",
       "  <thead>\n",
       "    <tr style=\"text-align: right;\">\n",
       "      <th></th>\n",
       "      <th>Unnamed: 0</th>\n",
       "      <th>P-value</th>\n",
       "      <th>Significant</th>\n",
       "      <th>Risk Ratio</th>\n",
       "      <th>Confidence Interval</th>\n",
       "    </tr>\n",
       "  </thead>\n",
       "  <tbody>\n",
       "    <tr>\n",
       "      <th>0</th>\n",
       "      <td>Certain infectious and parasitic diseases</td>\n",
       "      <td>0.000000e+00</td>\n",
       "      <td>Yes</td>\n",
       "      <td>6.07</td>\n",
       "      <td>(5.64, 6.54)</td>\n",
       "    </tr>\n",
       "    <tr>\n",
       "      <th>1</th>\n",
       "      <td>Neoplasms</td>\n",
       "      <td>0.000000e+00</td>\n",
       "      <td>Yes</td>\n",
       "      <td>6.29</td>\n",
       "      <td>(5.72, 6.92)</td>\n",
       "    </tr>\n",
       "    <tr>\n",
       "      <th>2</th>\n",
       "      <td>Diseases of the blood and blood-forming organs...</td>\n",
       "      <td>4.778668e-293</td>\n",
       "      <td>Yes</td>\n",
       "      <td>5.93</td>\n",
       "      <td>(5.28, 6.65)</td>\n",
       "    </tr>\n",
       "    <tr>\n",
       "      <th>3</th>\n",
       "      <td>Endocrine, nutritional and metabolic diseases</td>\n",
       "      <td>0.000000e+00</td>\n",
       "      <td>Yes</td>\n",
       "      <td>5.75</td>\n",
       "      <td>(5.3, 6.24)</td>\n",
       "    </tr>\n",
       "    <tr>\n",
       "      <th>4</th>\n",
       "      <td>Mental, Behavioral and Neurodevelopmental diso...</td>\n",
       "      <td>0.000000e+00</td>\n",
       "      <td>Yes</td>\n",
       "      <td>5.97</td>\n",
       "      <td>(5.55, 6.42)</td>\n",
       "    </tr>\n",
       "    <tr>\n",
       "      <th>5</th>\n",
       "      <td>Diseases of the nervous system</td>\n",
       "      <td>0.000000e+00</td>\n",
       "      <td>Yes</td>\n",
       "      <td>5.66</td>\n",
       "      <td>(5.22, 6.14)</td>\n",
       "    </tr>\n",
       "    <tr>\n",
       "      <th>6</th>\n",
       "      <td>Diseases of the eye and adnexa</td>\n",
       "      <td>0.000000e+00</td>\n",
       "      <td>Yes</td>\n",
       "      <td>5.69</td>\n",
       "      <td>(5.22, 6.2)</td>\n",
       "    </tr>\n",
       "    <tr>\n",
       "      <th>7</th>\n",
       "      <td>Diseases of the ear and mastoid process</td>\n",
       "      <td>0.000000e+00</td>\n",
       "      <td>Yes</td>\n",
       "      <td>6.25</td>\n",
       "      <td>(5.7, 6.86)</td>\n",
       "    </tr>\n",
       "    <tr>\n",
       "      <th>8</th>\n",
       "      <td>Diseases of the circulatory system</td>\n",
       "      <td>0.000000e+00</td>\n",
       "      <td>Yes</td>\n",
       "      <td>6.04</td>\n",
       "      <td>(5.58, 6.53)</td>\n",
       "    </tr>\n",
       "    <tr>\n",
       "      <th>9</th>\n",
       "      <td>Diseases of the respiratory system</td>\n",
       "      <td>0.000000e+00</td>\n",
       "      <td>Yes</td>\n",
       "      <td>6.03</td>\n",
       "      <td>(5.6, 6.49)</td>\n",
       "    </tr>\n",
       "    <tr>\n",
       "      <th>10</th>\n",
       "      <td>Diseases of the digestive system</td>\n",
       "      <td>0.000000e+00</td>\n",
       "      <td>Yes</td>\n",
       "      <td>5.91</td>\n",
       "      <td>(5.47, 6.39)</td>\n",
       "    </tr>\n",
       "    <tr>\n",
       "      <th>11</th>\n",
       "      <td>Diseases of the skin and subcutaneous tissue</td>\n",
       "      <td>0.000000e+00</td>\n",
       "      <td>Yes</td>\n",
       "      <td>5.81</td>\n",
       "      <td>(5.38, 6.28)</td>\n",
       "    </tr>\n",
       "    <tr>\n",
       "      <th>12</th>\n",
       "      <td>Diseases of the musculoskeletal system and con...</td>\n",
       "      <td>0.000000e+00</td>\n",
       "      <td>Yes</td>\n",
       "      <td>5.96</td>\n",
       "      <td>(5.54, 6.41)</td>\n",
       "    </tr>\n",
       "    <tr>\n",
       "      <th>13</th>\n",
       "      <td>Diseases of the genitourinary system</td>\n",
       "      <td>0.000000e+00</td>\n",
       "      <td>Yes</td>\n",
       "      <td>5.87</td>\n",
       "      <td>(5.44, 6.33)</td>\n",
       "    </tr>\n",
       "    <tr>\n",
       "      <th>14</th>\n",
       "      <td>Congenital malformations, deformations and chr...</td>\n",
       "      <td>0.000000e+00</td>\n",
       "      <td>Yes</td>\n",
       "      <td>5.95</td>\n",
       "      <td>(5.4, 6.55)</td>\n",
       "    </tr>\n",
       "  </tbody>\n",
       "</table>\n",
       "</div>"
      ],
      "text/plain": [
       "                                           Unnamed: 0        P-value  \\\n",
       "0           Certain infectious and parasitic diseases   0.000000e+00   \n",
       "1                                           Neoplasms   0.000000e+00   \n",
       "2   Diseases of the blood and blood-forming organs...  4.778668e-293   \n",
       "3       Endocrine, nutritional and metabolic diseases   0.000000e+00   \n",
       "4   Mental, Behavioral and Neurodevelopmental diso...   0.000000e+00   \n",
       "5                      Diseases of the nervous system   0.000000e+00   \n",
       "6                      Diseases of the eye and adnexa   0.000000e+00   \n",
       "7             Diseases of the ear and mastoid process   0.000000e+00   \n",
       "8                  Diseases of the circulatory system   0.000000e+00   \n",
       "9                  Diseases of the respiratory system   0.000000e+00   \n",
       "10                   Diseases of the digestive system   0.000000e+00   \n",
       "11       Diseases of the skin and subcutaneous tissue   0.000000e+00   \n",
       "12  Diseases of the musculoskeletal system and con...   0.000000e+00   \n",
       "13               Diseases of the genitourinary system   0.000000e+00   \n",
       "14  Congenital malformations, deformations and chr...   0.000000e+00   \n",
       "\n",
       "   Significant  Risk Ratio Confidence Interval  \n",
       "0          Yes        6.07        (5.64, 6.54)  \n",
       "1          Yes        6.29        (5.72, 6.92)  \n",
       "2          Yes        5.93        (5.28, 6.65)  \n",
       "3          Yes        5.75         (5.3, 6.24)  \n",
       "4          Yes        5.97        (5.55, 6.42)  \n",
       "5          Yes        5.66        (5.22, 6.14)  \n",
       "6          Yes        5.69         (5.22, 6.2)  \n",
       "7          Yes        6.25         (5.7, 6.86)  \n",
       "8          Yes        6.04        (5.58, 6.53)  \n",
       "9          Yes        6.03         (5.6, 6.49)  \n",
       "10         Yes        5.91        (5.47, 6.39)  \n",
       "11         Yes        5.81        (5.38, 6.28)  \n",
       "12         Yes        5.96        (5.54, 6.41)  \n",
       "13         Yes        5.87        (5.44, 6.33)  \n",
       "14         Yes        5.95         (5.4, 6.55)  "
      ]
     },
     "execution_count": 13,
     "metadata": {},
     "output_type": "execute_result"
    }
   ],
   "source": [
    "# Table 4\n",
    "table = pd.read_csv('analysis_euler/1c_chi_square_RR_table.csv') \n",
    "table"
   ]
  },
  {
   "cell_type": "code",
   "execution_count": 14,
   "metadata": {},
   "outputs": [
    {
     "data": {
      "image/svg+xml": "<svg xmlns=\"http://www.w3.org/2000/svg\" xmlns:xlink=\"http://www.w3.org/1999/xlink\" height=\"392.514375pt\" version=\"1.1\" viewBox=\"0 0 979.380312 392.514375\" width=\"979.380312pt\">\n <defs>\n  <style type=\"text/css\">\n*{stroke-linecap:butt;stroke-linejoin:round;}\n  </style>\n </defs>\n <g id=\"figure_1\">\n  <g id=\"patch_1\">\n   <path d=\"M -0 392.514375  L 979.380312 392.514375  L 979.380312 0  L -0 0  z \" style=\"fill:#ffffff;\"/>\n  </g>\n  <g id=\"axes_1\">\n   <g id=\"patch_2\">\n    <path d=\"M 538.020313 354.958125  L 872.820312 354.958125  L 872.820312 22.318125  L 538.020313 22.318125  z \" style=\"fill:#ffffff;\"/>\n   </g>\n   <g id=\"matplotlib.axis_1\">\n    <g id=\"xtick_1\">\n     <g id=\"line2d_1\">\n      <defs>\n       <path d=\"M 0 0  L 0 3.5  \" id=\"mef0c991dc5\" style=\"stroke:#000000;stroke-width:0.8;\"/>\n      </defs>\n      <g>\n       <use style=\"stroke:#000000;stroke-width:0.8;\" x=\"553.238494\" xlink:href=\"#mef0c991dc5\" y=\"354.958125\"/>\n      </g>\n     </g>\n     <g id=\"text_1\">\n      <!-- $\\mathdefault{10^{0}}$ -->\n      <defs>\n       <path d=\"M 12.40625 8.296875  L 28.515625 8.296875  L 28.515625 63.921875  L 10.984375 60.40625  L 10.984375 69.390625  L 28.421875 72.90625  L 38.28125 72.90625  L 38.28125 8.296875  L 54.390625 8.296875  L 54.390625 0  L 12.40625 0  z \" id=\"DejaVuSans-49\"/>\n       <path d=\"M 31.78125 66.40625  Q 24.171875 66.40625 20.328125 58.90625  Q 16.5 51.421875 16.5 36.375  Q 16.5 21.390625 20.328125 13.890625  Q 24.171875 6.390625 31.78125 6.390625  Q 39.453125 6.390625 43.28125 13.890625  Q 47.125 21.390625 47.125 36.375  Q 47.125 51.421875 43.28125 58.90625  Q 39.453125 66.40625 31.78125 66.40625  z M 31.78125 74.21875  Q 44.046875 74.21875 50.515625 64.515625  Q 56.984375 54.828125 56.984375 36.375  Q 56.984375 17.96875 50.515625 8.265625  Q 44.046875 -1.421875 31.78125 -1.421875  Q 19.53125 -1.421875 13.0625 8.265625  Q 6.59375 17.96875 6.59375 36.375  Q 6.59375 54.828125 13.0625 64.515625  Q 19.53125 74.21875 31.78125 74.21875  z \" id=\"DejaVuSans-48\"/>\n      </defs>\n      <g transform=\"translate(544.438494 369.556562)scale(0.1 -0.1)\">\n       <use transform=\"translate(0 0.765625)\" xlink:href=\"#DejaVuSans-49\"/>\n       <use transform=\"translate(63.623047 0.765625)\" xlink:href=\"#DejaVuSans-48\"/>\n       <use transform=\"translate(128.203125 39.046875)scale(0.7)\" xlink:href=\"#DejaVuSans-48\"/>\n      </g>\n     </g>\n    </g>\n    <g id=\"xtick_2\">\n     <g id=\"line2d_2\">\n      <defs>\n       <path d=\"M 0 0  L 0 2  \" id=\"md23cf7a13b\" style=\"stroke:#000000;stroke-width:0.6;\"/>\n      </defs>\n      <g>\n       <use style=\"stroke:#000000;stroke-width:0.6;\" x=\"662.734178\" xlink:href=\"#md23cf7a13b\" y=\"354.958125\"/>\n      </g>\n     </g>\n     <g id=\"text_2\">\n      <!-- $\\mathdefault{2\\times10^{0}}$ -->\n      <defs>\n       <path d=\"M 19.1875 8.296875  L 53.609375 8.296875  L 53.609375 0  L 7.328125 0  L 7.328125 8.296875  Q 12.9375 14.109375 22.625 23.890625  Q 32.328125 33.6875 34.8125 36.53125  Q 39.546875 41.84375 41.421875 45.53125  Q 43.3125 49.21875 43.3125 52.78125  Q 43.3125 58.59375 39.234375 62.25  Q 35.15625 65.921875 28.609375 65.921875  Q 23.96875 65.921875 18.8125 64.3125  Q 13.671875 62.703125 7.8125 59.421875  L 7.8125 69.390625  Q 13.765625 71.78125 18.9375 73  Q 24.125 74.21875 28.421875 74.21875  Q 39.75 74.21875 46.484375 68.546875  Q 53.21875 62.890625 53.21875 53.421875  Q 53.21875 48.921875 51.53125 44.890625  Q 49.859375 40.875 45.40625 35.40625  Q 44.1875 33.984375 37.640625 27.21875  Q 31.109375 20.453125 19.1875 8.296875  z \" id=\"DejaVuSans-50\"/>\n       <path d=\"M 70.125 53.71875  L 47.796875 31.296875  L 70.125 8.984375  L 64.3125 3.078125  L 41.890625 25.484375  L 19.484375 3.078125  L 13.71875 8.984375  L 35.984375 31.296875  L 13.71875 53.71875  L 19.484375 59.625  L 41.890625 37.203125  L 64.3125 59.625  z \" id=\"DejaVuSans-215\"/>\n      </defs>\n      <g transform=\"translate(644.634178 367.956562)scale(0.1 -0.1)\">\n       <use transform=\"translate(0 0.765625)\" xlink:href=\"#DejaVuSans-50\"/>\n       <use transform=\"translate(83.105469 0.765625)\" xlink:href=\"#DejaVuSans-215\"/>\n       <use transform=\"translate(186.376953 0.765625)\" xlink:href=\"#DejaVuSans-49\"/>\n       <use transform=\"translate(250 0.765625)\" xlink:href=\"#DejaVuSans-48\"/>\n       <use transform=\"translate(314.580078 39.046875)scale(0.7)\" xlink:href=\"#DejaVuSans-48\"/>\n      </g>\n     </g>\n    </g>\n    <g id=\"xtick_3\">\n     <g id=\"line2d_3\">\n      <g>\n       <use style=\"stroke:#000000;stroke-width:0.6;\" x=\"726.785046\" xlink:href=\"#md23cf7a13b\" y=\"354.958125\"/>\n      </g>\n     </g>\n     <g id=\"text_3\">\n      <!-- $\\mathdefault{3\\times10^{0}}$ -->\n      <defs>\n       <path d=\"M 40.578125 39.3125  Q 47.65625 37.796875 51.625 33  Q 55.609375 28.21875 55.609375 21.1875  Q 55.609375 10.40625 48.1875 4.484375  Q 40.765625 -1.421875 27.09375 -1.421875  Q 22.515625 -1.421875 17.65625 -0.515625  Q 12.796875 0.390625 7.625 2.203125  L 7.625 11.71875  Q 11.71875 9.328125 16.59375 8.109375  Q 21.484375 6.890625 26.8125 6.890625  Q 36.078125 6.890625 40.9375 10.546875  Q 45.796875 14.203125 45.796875 21.1875  Q 45.796875 27.640625 41.28125 31.265625  Q 36.765625 34.90625 28.71875 34.90625  L 20.21875 34.90625  L 20.21875 43.015625  L 29.109375 43.015625  Q 36.375 43.015625 40.234375 45.921875  Q 44.09375 48.828125 44.09375 54.296875  Q 44.09375 59.90625 40.109375 62.90625  Q 36.140625 65.921875 28.71875 65.921875  Q 24.65625 65.921875 20.015625 65.03125  Q 15.375 64.15625 9.8125 62.3125  L 9.8125 71.09375  Q 15.4375 72.65625 20.34375 73.4375  Q 25.25 74.21875 29.59375 74.21875  Q 40.828125 74.21875 47.359375 69.109375  Q 53.90625 64.015625 53.90625 55.328125  Q 53.90625 49.265625 50.4375 45.09375  Q 46.96875 40.921875 40.578125 39.3125  z \" id=\"DejaVuSans-51\"/>\n      </defs>\n      <g transform=\"translate(708.685046 367.956562)scale(0.1 -0.1)\">\n       <use transform=\"translate(0 0.765625)\" xlink:href=\"#DejaVuSans-51\"/>\n       <use transform=\"translate(83.105469 0.765625)\" xlink:href=\"#DejaVuSans-215\"/>\n       <use transform=\"translate(186.376953 0.765625)\" xlink:href=\"#DejaVuSans-49\"/>\n       <use transform=\"translate(250 0.765625)\" xlink:href=\"#DejaVuSans-48\"/>\n       <use transform=\"translate(314.580078 39.046875)scale(0.7)\" xlink:href=\"#DejaVuSans-48\"/>\n      </g>\n     </g>\n    </g>\n    <g id=\"xtick_4\">\n     <g id=\"line2d_4\">\n      <g>\n       <use style=\"stroke:#000000;stroke-width:0.6;\" x=\"772.229861\" xlink:href=\"#md23cf7a13b\" y=\"354.958125\"/>\n      </g>\n     </g>\n     <g id=\"text_4\">\n      <!-- $\\mathdefault{4\\times10^{0}}$ -->\n      <defs>\n       <path d=\"M 37.796875 64.3125  L 12.890625 25.390625  L 37.796875 25.390625  z M 35.203125 72.90625  L 47.609375 72.90625  L 47.609375 25.390625  L 58.015625 25.390625  L 58.015625 17.1875  L 47.609375 17.1875  L 47.609375 0  L 37.796875 0  L 37.796875 17.1875  L 4.890625 17.1875  L 4.890625 26.703125  z \" id=\"DejaVuSans-52\"/>\n      </defs>\n      <g transform=\"translate(754.129861 367.956562)scale(0.1 -0.1)\">\n       <use transform=\"translate(0 0.765625)\" xlink:href=\"#DejaVuSans-52\"/>\n       <use transform=\"translate(83.105469 0.765625)\" xlink:href=\"#DejaVuSans-215\"/>\n       <use transform=\"translate(186.376953 0.765625)\" xlink:href=\"#DejaVuSans-49\"/>\n       <use transform=\"translate(250 0.765625)\" xlink:href=\"#DejaVuSans-48\"/>\n       <use transform=\"translate(314.580078 39.046875)scale(0.7)\" xlink:href=\"#DejaVuSans-48\"/>\n      </g>\n     </g>\n    </g>\n    <g id=\"xtick_5\">\n     <g id=\"line2d_5\">\n      <g>\n       <use style=\"stroke:#000000;stroke-width:0.6;\" x=\"807.479598\" xlink:href=\"#md23cf7a13b\" y=\"354.958125\"/>\n      </g>\n     </g>\n    </g>\n    <g id=\"xtick_6\">\n     <g id=\"line2d_6\">\n      <g>\n       <use style=\"stroke:#000000;stroke-width:0.6;\" x=\"836.28073\" xlink:href=\"#md23cf7a13b\" y=\"354.958125\"/>\n      </g>\n     </g>\n     <g id=\"text_5\">\n      <!-- $\\mathdefault{6\\times10^{0}}$ -->\n      <defs>\n       <path d=\"M 33.015625 40.375  Q 26.375 40.375 22.484375 35.828125  Q 18.609375 31.296875 18.609375 23.390625  Q 18.609375 15.53125 22.484375 10.953125  Q 26.375 6.390625 33.015625 6.390625  Q 39.65625 6.390625 43.53125 10.953125  Q 47.40625 15.53125 47.40625 23.390625  Q 47.40625 31.296875 43.53125 35.828125  Q 39.65625 40.375 33.015625 40.375  z M 52.59375 71.296875  L 52.59375 62.3125  Q 48.875 64.0625 45.09375 64.984375  Q 41.3125 65.921875 37.59375 65.921875  Q 27.828125 65.921875 22.671875 59.328125  Q 17.53125 52.734375 16.796875 39.40625  Q 19.671875 43.65625 24.015625 45.921875  Q 28.375 48.1875 33.59375 48.1875  Q 44.578125 48.1875 50.953125 41.515625  Q 57.328125 34.859375 57.328125 23.390625  Q 57.328125 12.15625 50.6875 5.359375  Q 44.046875 -1.421875 33.015625 -1.421875  Q 20.359375 -1.421875 13.671875 8.265625  Q 6.984375 17.96875 6.984375 36.375  Q 6.984375 53.65625 15.1875 63.9375  Q 23.390625 74.21875 37.203125 74.21875  Q 40.921875 74.21875 44.703125 73.484375  Q 48.484375 72.75 52.59375 71.296875  z \" id=\"DejaVuSans-54\"/>\n      </defs>\n      <g transform=\"translate(818.18073 367.956562)scale(0.1 -0.1)\">\n       <use transform=\"translate(0 0.765625)\" xlink:href=\"#DejaVuSans-54\"/>\n       <use transform=\"translate(83.105469 0.765625)\" xlink:href=\"#DejaVuSans-215\"/>\n       <use transform=\"translate(186.376953 0.765625)\" xlink:href=\"#DejaVuSans-49\"/>\n       <use transform=\"translate(250 0.765625)\" xlink:href=\"#DejaVuSans-48\"/>\n       <use transform=\"translate(314.580078 39.046875)scale(0.7)\" xlink:href=\"#DejaVuSans-48\"/>\n      </g>\n     </g>\n    </g>\n    <g id=\"xtick_7\">\n     <g id=\"line2d_7\">\n      <g>\n       <use style=\"stroke:#000000;stroke-width:0.6;\" x=\"860.63174\" xlink:href=\"#md23cf7a13b\" y=\"354.958125\"/>\n      </g>\n     </g>\n    </g>\n    <g id=\"text_6\">\n     <!-- Risk Ratio (log scale) -->\n     <defs>\n      <path d=\"M 44.390625 34.1875  Q 47.5625 33.109375 50.5625 29.59375  Q 53.5625 26.078125 56.59375 19.921875  L 66.609375 0  L 56 0  L 46.6875 18.703125  Q 43.0625 26.03125 39.671875 28.421875  Q 36.28125 30.8125 30.421875 30.8125  L 19.671875 30.8125  L 19.671875 0  L 9.8125 0  L 9.8125 72.90625  L 32.078125 72.90625  Q 44.578125 72.90625 50.734375 67.671875  Q 56.890625 62.453125 56.890625 51.90625  Q 56.890625 45.015625 53.6875 40.46875  Q 50.484375 35.9375 44.390625 34.1875  z M 19.671875 64.796875  L 19.671875 38.921875  L 32.078125 38.921875  Q 39.203125 38.921875 42.84375 42.21875  Q 46.484375 45.515625 46.484375 51.90625  Q 46.484375 58.296875 42.84375 61.546875  Q 39.203125 64.796875 32.078125 64.796875  z \" id=\"DejaVuSans-82\"/>\n      <path d=\"M 9.421875 54.6875  L 18.40625 54.6875  L 18.40625 0  L 9.421875 0  z M 9.421875 75.984375  L 18.40625 75.984375  L 18.40625 64.59375  L 9.421875 64.59375  z \" id=\"DejaVuSans-105\"/>\n      <path d=\"M 44.28125 53.078125  L 44.28125 44.578125  Q 40.484375 46.53125 36.375 47.5  Q 32.28125 48.484375 27.875 48.484375  Q 21.1875 48.484375 17.84375 46.4375  Q 14.5 44.390625 14.5 40.28125  Q 14.5 37.15625 16.890625 35.375  Q 19.28125 33.59375 26.515625 31.984375  L 29.59375 31.296875  Q 39.15625 29.25 43.1875 25.515625  Q 47.21875 21.78125 47.21875 15.09375  Q 47.21875 7.46875 41.1875 3.015625  Q 35.15625 -1.421875 24.609375 -1.421875  Q 20.21875 -1.421875 15.453125 -0.5625  Q 10.6875 0.296875 5.421875 2  L 5.421875 11.28125  Q 10.40625 8.6875 15.234375 7.390625  Q 20.0625 6.109375 24.8125 6.109375  Q 31.15625 6.109375 34.5625 8.28125  Q 37.984375 10.453125 37.984375 14.40625  Q 37.984375 18.0625 35.515625 20.015625  Q 33.0625 21.96875 24.703125 23.78125  L 21.578125 24.515625  Q 13.234375 26.265625 9.515625 29.90625  Q 5.8125 33.546875 5.8125 39.890625  Q 5.8125 47.609375 11.28125 51.796875  Q 16.75 56 26.8125 56  Q 31.78125 56 36.171875 55.265625  Q 40.578125 54.546875 44.28125 53.078125  z \" id=\"DejaVuSans-115\"/>\n      <path d=\"M 9.078125 75.984375  L 18.109375 75.984375  L 18.109375 31.109375  L 44.921875 54.6875  L 56.390625 54.6875  L 27.390625 29.109375  L 57.625 0  L 45.90625 0  L 18.109375 26.703125  L 18.109375 0  L 9.078125 0  z \" id=\"DejaVuSans-107\"/>\n      <path id=\"DejaVuSans-32\"/>\n      <path d=\"M 34.28125 27.484375  Q 23.390625 27.484375 19.1875 25  Q 14.984375 22.515625 14.984375 16.5  Q 14.984375 11.71875 18.140625 8.90625  Q 21.296875 6.109375 26.703125 6.109375  Q 34.1875 6.109375 38.703125 11.40625  Q 43.21875 16.703125 43.21875 25.484375  L 43.21875 27.484375  z M 52.203125 31.203125  L 52.203125 0  L 43.21875 0  L 43.21875 8.296875  Q 40.140625 3.328125 35.546875 0.953125  Q 30.953125 -1.421875 24.3125 -1.421875  Q 15.921875 -1.421875 10.953125 3.296875  Q 6 8.015625 6 15.921875  Q 6 25.140625 12.171875 29.828125  Q 18.359375 34.515625 30.609375 34.515625  L 43.21875 34.515625  L 43.21875 35.40625  Q 43.21875 41.609375 39.140625 45  Q 35.0625 48.390625 27.6875 48.390625  Q 23 48.390625 18.546875 47.265625  Q 14.109375 46.140625 10.015625 43.890625  L 10.015625 52.203125  Q 14.9375 54.109375 19.578125 55.046875  Q 24.21875 56 28.609375 56  Q 40.484375 56 46.34375 49.84375  Q 52.203125 43.703125 52.203125 31.203125  z \" id=\"DejaVuSans-97\"/>\n      <path d=\"M 18.3125 70.21875  L 18.3125 54.6875  L 36.8125 54.6875  L 36.8125 47.703125  L 18.3125 47.703125  L 18.3125 18.015625  Q 18.3125 11.328125 20.140625 9.421875  Q 21.96875 7.515625 27.59375 7.515625  L 36.8125 7.515625  L 36.8125 0  L 27.59375 0  Q 17.1875 0 13.234375 3.875  Q 9.28125 7.765625 9.28125 18.015625  L 9.28125 47.703125  L 2.6875 47.703125  L 2.6875 54.6875  L 9.28125 54.6875  L 9.28125 70.21875  z \" id=\"DejaVuSans-116\"/>\n      <path d=\"M 30.609375 48.390625  Q 23.390625 48.390625 19.1875 42.75  Q 14.984375 37.109375 14.984375 27.296875  Q 14.984375 17.484375 19.15625 11.84375  Q 23.34375 6.203125 30.609375 6.203125  Q 37.796875 6.203125 41.984375 11.859375  Q 46.1875 17.53125 46.1875 27.296875  Q 46.1875 37.015625 41.984375 42.703125  Q 37.796875 48.390625 30.609375 48.390625  z M 30.609375 56  Q 42.328125 56 49.015625 48.375  Q 55.71875 40.765625 55.71875 27.296875  Q 55.71875 13.875 49.015625 6.21875  Q 42.328125 -1.421875 30.609375 -1.421875  Q 18.84375 -1.421875 12.171875 6.21875  Q 5.515625 13.875 5.515625 27.296875  Q 5.515625 40.765625 12.171875 48.375  Q 18.84375 56 30.609375 56  z \" id=\"DejaVuSans-111\"/>\n      <path d=\"M 31 75.875  Q 24.46875 64.65625 21.28125 53.65625  Q 18.109375 42.671875 18.109375 31.390625  Q 18.109375 20.125 21.3125 9.0625  Q 24.515625 -2 31 -13.1875  L 23.1875 -13.1875  Q 15.875 -1.703125 12.234375 9.375  Q 8.59375 20.453125 8.59375 31.390625  Q 8.59375 42.28125 12.203125 53.3125  Q 15.828125 64.359375 23.1875 75.875  z \" id=\"DejaVuSans-40\"/>\n      <path d=\"M 9.421875 75.984375  L 18.40625 75.984375  L 18.40625 0  L 9.421875 0  z \" id=\"DejaVuSans-108\"/>\n      <path d=\"M 45.40625 27.984375  Q 45.40625 37.75 41.375 43.109375  Q 37.359375 48.484375 30.078125 48.484375  Q 22.859375 48.484375 18.828125 43.109375  Q 14.796875 37.75 14.796875 27.984375  Q 14.796875 18.265625 18.828125 12.890625  Q 22.859375 7.515625 30.078125 7.515625  Q 37.359375 7.515625 41.375 12.890625  Q 45.40625 18.265625 45.40625 27.984375  z M 54.390625 6.78125  Q 54.390625 -7.171875 48.1875 -13.984375  Q 42 -20.796875 29.203125 -20.796875  Q 24.46875 -20.796875 20.265625 -20.09375  Q 16.0625 -19.390625 12.109375 -17.921875  L 12.109375 -9.1875  Q 16.0625 -11.328125 19.921875 -12.34375  Q 23.78125 -13.375 27.78125 -13.375  Q 36.625 -13.375 41.015625 -8.765625  Q 45.40625 -4.15625 45.40625 5.171875  L 45.40625 9.625  Q 42.625 4.78125 38.28125 2.390625  Q 33.9375 0 27.875 0  Q 17.828125 0 11.671875 7.65625  Q 5.515625 15.328125 5.515625 27.984375  Q 5.515625 40.671875 11.671875 48.328125  Q 17.828125 56 27.875 56  Q 33.9375 56 38.28125 53.609375  Q 42.625 51.21875 45.40625 46.390625  L 45.40625 54.6875  L 54.390625 54.6875  z \" id=\"DejaVuSans-103\"/>\n      <path d=\"M 48.78125 52.59375  L 48.78125 44.1875  Q 44.96875 46.296875 41.140625 47.34375  Q 37.3125 48.390625 33.40625 48.390625  Q 24.65625 48.390625 19.8125 42.84375  Q 14.984375 37.3125 14.984375 27.296875  Q 14.984375 17.28125 19.8125 11.734375  Q 24.65625 6.203125 33.40625 6.203125  Q 37.3125 6.203125 41.140625 7.25  Q 44.96875 8.296875 48.78125 10.40625  L 48.78125 2.09375  Q 45.015625 0.34375 40.984375 -0.53125  Q 36.96875 -1.421875 32.421875 -1.421875  Q 20.0625 -1.421875 12.78125 6.34375  Q 5.515625 14.109375 5.515625 27.296875  Q 5.515625 40.671875 12.859375 48.328125  Q 20.21875 56 33.015625 56  Q 37.15625 56 41.109375 55.140625  Q 45.0625 54.296875 48.78125 52.59375  z \" id=\"DejaVuSans-99\"/>\n      <path d=\"M 56.203125 29.59375  L 56.203125 25.203125  L 14.890625 25.203125  Q 15.484375 15.921875 20.484375 11.0625  Q 25.484375 6.203125 34.421875 6.203125  Q 39.59375 6.203125 44.453125 7.46875  Q 49.3125 8.734375 54.109375 11.28125  L 54.109375 2.78125  Q 49.265625 0.734375 44.1875 -0.34375  Q 39.109375 -1.421875 33.890625 -1.421875  Q 20.796875 -1.421875 13.15625 6.1875  Q 5.515625 13.8125 5.515625 26.8125  Q 5.515625 40.234375 12.765625 48.109375  Q 20.015625 56 32.328125 56  Q 43.359375 56 49.78125 48.890625  Q 56.203125 41.796875 56.203125 29.59375  z M 47.21875 32.234375  Q 47.125 39.59375 43.09375 43.984375  Q 39.0625 48.390625 32.421875 48.390625  Q 24.90625 48.390625 20.390625 44.140625  Q 15.875 39.890625 15.1875 32.171875  z \" id=\"DejaVuSans-101\"/>\n      <path d=\"M 8.015625 75.875  L 15.828125 75.875  Q 23.140625 64.359375 26.78125 53.3125  Q 30.421875 42.28125 30.421875 31.390625  Q 30.421875 20.453125 26.78125 9.375  Q 23.140625 -1.703125 15.828125 -13.1875  L 8.015625 -13.1875  Q 14.5 -2 17.703125 9.0625  Q 20.90625 20.125 20.90625 31.390625  Q 20.90625 42.671875 17.703125 53.65625  Q 14.5 64.65625 8.015625 75.875  z \" id=\"DejaVuSans-41\"/>\n     </defs>\n     <g transform=\"translate(652.936719 383.234687)scale(0.1 -0.1)\">\n      <use xlink:href=\"#DejaVuSans-82\"/>\n      <use x=\"69.482422\" xlink:href=\"#DejaVuSans-105\"/>\n      <use x=\"97.265625\" xlink:href=\"#DejaVuSans-115\"/>\n      <use x=\"149.365234\" xlink:href=\"#DejaVuSans-107\"/>\n      <use x=\"207.275391\" xlink:href=\"#DejaVuSans-32\"/>\n      <use x=\"239.0625\" xlink:href=\"#DejaVuSans-82\"/>\n      <use x=\"308.513672\" xlink:href=\"#DejaVuSans-97\"/>\n      <use x=\"369.792969\" xlink:href=\"#DejaVuSans-116\"/>\n      <use x=\"409.001953\" xlink:href=\"#DejaVuSans-105\"/>\n      <use x=\"436.785156\" xlink:href=\"#DejaVuSans-111\"/>\n      <use x=\"497.966797\" xlink:href=\"#DejaVuSans-32\"/>\n      <use x=\"529.753906\" xlink:href=\"#DejaVuSans-40\"/>\n      <use x=\"568.767578\" xlink:href=\"#DejaVuSans-108\"/>\n      <use x=\"596.550781\" xlink:href=\"#DejaVuSans-111\"/>\n      <use x=\"657.732422\" xlink:href=\"#DejaVuSans-103\"/>\n      <use x=\"721.208984\" xlink:href=\"#DejaVuSans-32\"/>\n      <use x=\"752.996094\" xlink:href=\"#DejaVuSans-115\"/>\n      <use x=\"805.095703\" xlink:href=\"#DejaVuSans-99\"/>\n      <use x=\"860.076172\" xlink:href=\"#DejaVuSans-97\"/>\n      <use x=\"921.355469\" xlink:href=\"#DejaVuSans-108\"/>\n      <use x=\"949.138672\" xlink:href=\"#DejaVuSans-101\"/>\n      <use x=\"1010.662109\" xlink:href=\"#DejaVuSans-41\"/>\n     </g>\n    </g>\n   </g>\n   <g id=\"matplotlib.axis_2\">\n    <g id=\"ytick_1\">\n     <g id=\"line2d_8\">\n      <defs>\n       <path d=\"M 0 0  L -3.5 0  \" id=\"m5552c7ca51\" style=\"stroke:#000000;stroke-width:0.8;\"/>\n      </defs>\n      <g>\n       <use style=\"stroke:#000000;stroke-width:0.8;\" x=\"538.020313\" xlink:href=\"#m5552c7ca51\" y=\"339.838125\"/>\n      </g>\n     </g>\n     <g id=\"text_7\">\n      <!-- Certain infectious and parasitic diseases -->\n      <defs>\n       <path d=\"M 64.40625 67.28125  L 64.40625 56.890625  Q 59.421875 61.53125 53.78125 63.8125  Q 48.140625 66.109375 41.796875 66.109375  Q 29.296875 66.109375 22.65625 58.46875  Q 16.015625 50.828125 16.015625 36.375  Q 16.015625 21.96875 22.65625 14.328125  Q 29.296875 6.6875 41.796875 6.6875  Q 48.140625 6.6875 53.78125 8.984375  Q 59.421875 11.28125 64.40625 15.921875  L 64.40625 5.609375  Q 59.234375 2.09375 53.4375 0.328125  Q 47.65625 -1.421875 41.21875 -1.421875  Q 24.65625 -1.421875 15.125 8.703125  Q 5.609375 18.84375 5.609375 36.375  Q 5.609375 53.953125 15.125 64.078125  Q 24.65625 74.21875 41.21875 74.21875  Q 47.75 74.21875 53.53125 72.484375  Q 59.328125 70.75 64.40625 67.28125  z \" id=\"DejaVuSans-67\"/>\n       <path d=\"M 41.109375 46.296875  Q 39.59375 47.171875 37.8125 47.578125  Q 36.03125 48 33.890625 48  Q 26.265625 48 22.1875 43.046875  Q 18.109375 38.09375 18.109375 28.8125  L 18.109375 0  L 9.078125 0  L 9.078125 54.6875  L 18.109375 54.6875  L 18.109375 46.1875  Q 20.953125 51.171875 25.484375 53.578125  Q 30.03125 56 36.53125 56  Q 37.453125 56 38.578125 55.875  Q 39.703125 55.765625 41.0625 55.515625  z \" id=\"DejaVuSans-114\"/>\n       <path d=\"M 54.890625 33.015625  L 54.890625 0  L 45.90625 0  L 45.90625 32.71875  Q 45.90625 40.484375 42.875 44.328125  Q 39.84375 48.1875 33.796875 48.1875  Q 26.515625 48.1875 22.3125 43.546875  Q 18.109375 38.921875 18.109375 30.90625  L 18.109375 0  L 9.078125 0  L 9.078125 54.6875  L 18.109375 54.6875  L 18.109375 46.1875  Q 21.34375 51.125 25.703125 53.5625  Q 30.078125 56 35.796875 56  Q 45.21875 56 50.046875 50.171875  Q 54.890625 44.34375 54.890625 33.015625  z \" id=\"DejaVuSans-110\"/>\n       <path d=\"M 37.109375 75.984375  L 37.109375 68.5  L 28.515625 68.5  Q 23.6875 68.5 21.796875 66.546875  Q 19.921875 64.59375 19.921875 59.515625  L 19.921875 54.6875  L 34.71875 54.6875  L 34.71875 47.703125  L 19.921875 47.703125  L 19.921875 0  L 10.890625 0  L 10.890625 47.703125  L 2.296875 47.703125  L 2.296875 54.6875  L 10.890625 54.6875  L 10.890625 58.5  Q 10.890625 67.625 15.140625 71.796875  Q 19.390625 75.984375 28.609375 75.984375  z \" id=\"DejaVuSans-102\"/>\n       <path d=\"M 8.5 21.578125  L 8.5 54.6875  L 17.484375 54.6875  L 17.484375 21.921875  Q 17.484375 14.15625 20.5 10.265625  Q 23.53125 6.390625 29.59375 6.390625  Q 36.859375 6.390625 41.078125 11.03125  Q 45.3125 15.671875 45.3125 23.6875  L 45.3125 54.6875  L 54.296875 54.6875  L 54.296875 0  L 45.3125 0  L 45.3125 8.40625  Q 42.046875 3.421875 37.71875 1  Q 33.40625 -1.421875 27.6875 -1.421875  Q 18.265625 -1.421875 13.375 4.4375  Q 8.5 10.296875 8.5 21.578125  z M 31.109375 56  z \" id=\"DejaVuSans-117\"/>\n       <path d=\"M 45.40625 46.390625  L 45.40625 75.984375  L 54.390625 75.984375  L 54.390625 0  L 45.40625 0  L 45.40625 8.203125  Q 42.578125 3.328125 38.25 0.953125  Q 33.9375 -1.421875 27.875 -1.421875  Q 17.96875 -1.421875 11.734375 6.484375  Q 5.515625 14.40625 5.515625 27.296875  Q 5.515625 40.1875 11.734375 48.09375  Q 17.96875 56 27.875 56  Q 33.9375 56 38.25 53.625  Q 42.578125 51.265625 45.40625 46.390625  z M 14.796875 27.296875  Q 14.796875 17.390625 18.875 11.75  Q 22.953125 6.109375 30.078125 6.109375  Q 37.203125 6.109375 41.296875 11.75  Q 45.40625 17.390625 45.40625 27.296875  Q 45.40625 37.203125 41.296875 42.84375  Q 37.203125 48.484375 30.078125 48.484375  Q 22.953125 48.484375 18.875 42.84375  Q 14.796875 37.203125 14.796875 27.296875  z \" id=\"DejaVuSans-100\"/>\n       <path d=\"M 18.109375 8.203125  L 18.109375 -20.796875  L 9.078125 -20.796875  L 9.078125 54.6875  L 18.109375 54.6875  L 18.109375 46.390625  Q 20.953125 51.265625 25.265625 53.625  Q 29.59375 56 35.59375 56  Q 45.5625 56 51.78125 48.09375  Q 58.015625 40.1875 58.015625 27.296875  Q 58.015625 14.40625 51.78125 6.484375  Q 45.5625 -1.421875 35.59375 -1.421875  Q 29.59375 -1.421875 25.265625 0.953125  Q 20.953125 3.328125 18.109375 8.203125  z M 48.6875 27.296875  Q 48.6875 37.203125 44.609375 42.84375  Q 40.53125 48.484375 33.40625 48.484375  Q 26.265625 48.484375 22.1875 42.84375  Q 18.109375 37.203125 18.109375 27.296875  Q 18.109375 17.390625 22.1875 11.75  Q 26.265625 6.109375 33.40625 6.109375  Q 40.53125 6.109375 44.609375 11.75  Q 48.6875 17.390625 48.6875 27.296875  z \" id=\"DejaVuSans-112\"/>\n      </defs>\n      <g transform=\"translate(328.342188 343.637344)scale(0.1 -0.1)\">\n       <use xlink:href=\"#DejaVuSans-67\"/>\n       <use x=\"69.824219\" xlink:href=\"#DejaVuSans-101\"/>\n       <use x=\"131.347656\" xlink:href=\"#DejaVuSans-114\"/>\n       <use x=\"172.460938\" xlink:href=\"#DejaVuSans-116\"/>\n       <use x=\"211.669922\" xlink:href=\"#DejaVuSans-97\"/>\n       <use x=\"272.949219\" xlink:href=\"#DejaVuSans-105\"/>\n       <use x=\"300.732422\" xlink:href=\"#DejaVuSans-110\"/>\n       <use x=\"364.111328\" xlink:href=\"#DejaVuSans-32\"/>\n       <use x=\"395.898438\" xlink:href=\"#DejaVuSans-105\"/>\n       <use x=\"423.681641\" xlink:href=\"#DejaVuSans-110\"/>\n       <use x=\"487.060547\" xlink:href=\"#DejaVuSans-102\"/>\n       <use x=\"522.265625\" xlink:href=\"#DejaVuSans-101\"/>\n       <use x=\"583.789062\" xlink:href=\"#DejaVuSans-99\"/>\n       <use x=\"638.769531\" xlink:href=\"#DejaVuSans-116\"/>\n       <use x=\"677.978516\" xlink:href=\"#DejaVuSans-105\"/>\n       <use x=\"705.761719\" xlink:href=\"#DejaVuSans-111\"/>\n       <use x=\"766.943359\" xlink:href=\"#DejaVuSans-117\"/>\n       <use x=\"830.322266\" xlink:href=\"#DejaVuSans-115\"/>\n       <use x=\"882.421875\" xlink:href=\"#DejaVuSans-32\"/>\n       <use x=\"914.208984\" xlink:href=\"#DejaVuSans-97\"/>\n       <use x=\"975.488281\" xlink:href=\"#DejaVuSans-110\"/>\n       <use x=\"1038.867188\" xlink:href=\"#DejaVuSans-100\"/>\n       <use x=\"1102.34375\" xlink:href=\"#DejaVuSans-32\"/>\n       <use x=\"1134.130859\" xlink:href=\"#DejaVuSans-112\"/>\n       <use x=\"1197.607422\" xlink:href=\"#DejaVuSans-97\"/>\n       <use x=\"1258.886719\" xlink:href=\"#DejaVuSans-114\"/>\n       <use x=\"1300\" xlink:href=\"#DejaVuSans-97\"/>\n       <use x=\"1361.279297\" xlink:href=\"#DejaVuSans-115\"/>\n       <use x=\"1413.378906\" xlink:href=\"#DejaVuSans-105\"/>\n       <use x=\"1441.162109\" xlink:href=\"#DejaVuSans-116\"/>\n       <use x=\"1480.371094\" xlink:href=\"#DejaVuSans-105\"/>\n       <use x=\"1508.154297\" xlink:href=\"#DejaVuSans-99\"/>\n       <use x=\"1563.134766\" xlink:href=\"#DejaVuSans-32\"/>\n       <use x=\"1594.921875\" xlink:href=\"#DejaVuSans-100\"/>\n       <use x=\"1658.398438\" xlink:href=\"#DejaVuSans-105\"/>\n       <use x=\"1686.181641\" xlink:href=\"#DejaVuSans-115\"/>\n       <use x=\"1738.28125\" xlink:href=\"#DejaVuSans-101\"/>\n       <use x=\"1799.804688\" xlink:href=\"#DejaVuSans-97\"/>\n       <use x=\"1861.083984\" xlink:href=\"#DejaVuSans-115\"/>\n       <use x=\"1913.183594\" xlink:href=\"#DejaVuSans-101\"/>\n       <use x=\"1974.707031\" xlink:href=\"#DejaVuSans-115\"/>\n      </g>\n     </g>\n    </g>\n    <g id=\"ytick_2\">\n     <g id=\"line2d_9\">\n      <g>\n       <use style=\"stroke:#000000;stroke-width:0.8;\" x=\"538.020313\" xlink:href=\"#m5552c7ca51\" y=\"318.238125\"/>\n      </g>\n     </g>\n     <g id=\"text_8\">\n      <!-- Neoplasms -->\n      <defs>\n       <path d=\"M 9.8125 72.90625  L 23.09375 72.90625  L 55.421875 11.921875  L 55.421875 72.90625  L 64.984375 72.90625  L 64.984375 0  L 51.703125 0  L 19.390625 60.984375  L 19.390625 0  L 9.8125 0  z \" id=\"DejaVuSans-78\"/>\n       <path d=\"M 52 44.1875  Q 55.375 50.25 60.0625 53.125  Q 64.75 56 71.09375 56  Q 79.640625 56 84.28125 50.015625  Q 88.921875 44.046875 88.921875 33.015625  L 88.921875 0  L 79.890625 0  L 79.890625 32.71875  Q 79.890625 40.578125 77.09375 44.375  Q 74.3125 48.1875 68.609375 48.1875  Q 61.625 48.1875 57.5625 43.546875  Q 53.515625 38.921875 53.515625 30.90625  L 53.515625 0  L 44.484375 0  L 44.484375 32.71875  Q 44.484375 40.625 41.703125 44.40625  Q 38.921875 48.1875 33.109375 48.1875  Q 26.21875 48.1875 22.15625 43.53125  Q 18.109375 38.875 18.109375 30.90625  L 18.109375 0  L 9.078125 0  L 9.078125 54.6875  L 18.109375 54.6875  L 18.109375 46.1875  Q 21.1875 51.21875 25.484375 53.609375  Q 29.78125 56 35.6875 56  Q 41.65625 56 45.828125 52.96875  Q 50 49.953125 52 44.1875  z \" id=\"DejaVuSans-109\"/>\n      </defs>\n      <g transform=\"translate(475.853125 322.037344)scale(0.1 -0.1)\">\n       <use xlink:href=\"#DejaVuSans-78\"/>\n       <use x=\"74.804688\" xlink:href=\"#DejaVuSans-101\"/>\n       <use x=\"136.328125\" xlink:href=\"#DejaVuSans-111\"/>\n       <use x=\"197.509766\" xlink:href=\"#DejaVuSans-112\"/>\n       <use x=\"260.986328\" xlink:href=\"#DejaVuSans-108\"/>\n       <use x=\"288.769531\" xlink:href=\"#DejaVuSans-97\"/>\n       <use x=\"350.048828\" xlink:href=\"#DejaVuSans-115\"/>\n       <use x=\"402.148438\" xlink:href=\"#DejaVuSans-109\"/>\n       <use x=\"499.560547\" xlink:href=\"#DejaVuSans-115\"/>\n      </g>\n     </g>\n    </g>\n    <g id=\"ytick_3\">\n     <g id=\"line2d_10\">\n      <g>\n       <use style=\"stroke:#000000;stroke-width:0.8;\" x=\"538.020313\" xlink:href=\"#m5552c7ca51\" y=\"296.638125\"/>\n      </g>\n     </g>\n     <g id=\"text_9\">\n      <!-- Diseases of the blood and blood-forming organs and certain disorders involving the immune mechanism -->\n      <defs>\n       <path d=\"M 19.671875 64.796875  L 19.671875 8.109375  L 31.59375 8.109375  Q 46.6875 8.109375 53.6875 14.9375  Q 60.6875 21.78125 60.6875 36.53125  Q 60.6875 51.171875 53.6875 57.984375  Q 46.6875 64.796875 31.59375 64.796875  z M 9.8125 72.90625  L 30.078125 72.90625  Q 51.265625 72.90625 61.171875 64.09375  Q 71.09375 55.28125 71.09375 36.53125  Q 71.09375 17.671875 61.125 8.828125  Q 51.171875 0 30.078125 0  L 9.8125 0  z \" id=\"DejaVuSans-68\"/>\n       <path d=\"M 54.890625 33.015625  L 54.890625 0  L 45.90625 0  L 45.90625 32.71875  Q 45.90625 40.484375 42.875 44.328125  Q 39.84375 48.1875 33.796875 48.1875  Q 26.515625 48.1875 22.3125 43.546875  Q 18.109375 38.921875 18.109375 30.90625  L 18.109375 0  L 9.078125 0  L 9.078125 75.984375  L 18.109375 75.984375  L 18.109375 46.1875  Q 21.34375 51.125 25.703125 53.5625  Q 30.078125 56 35.796875 56  Q 45.21875 56 50.046875 50.171875  Q 54.890625 44.34375 54.890625 33.015625  z \" id=\"DejaVuSans-104\"/>\n       <path d=\"M 48.6875 27.296875  Q 48.6875 37.203125 44.609375 42.84375  Q 40.53125 48.484375 33.40625 48.484375  Q 26.265625 48.484375 22.1875 42.84375  Q 18.109375 37.203125 18.109375 27.296875  Q 18.109375 17.390625 22.1875 11.75  Q 26.265625 6.109375 33.40625 6.109375  Q 40.53125 6.109375 44.609375 11.75  Q 48.6875 17.390625 48.6875 27.296875  z M 18.109375 46.390625  Q 20.953125 51.265625 25.265625 53.625  Q 29.59375 56 35.59375 56  Q 45.5625 56 51.78125 48.09375  Q 58.015625 40.1875 58.015625 27.296875  Q 58.015625 14.40625 51.78125 6.484375  Q 45.5625 -1.421875 35.59375 -1.421875  Q 29.59375 -1.421875 25.265625 0.953125  Q 20.953125 3.328125 18.109375 8.203125  L 18.109375 0  L 9.078125 0  L 9.078125 75.984375  L 18.109375 75.984375  z \" id=\"DejaVuSans-98\"/>\n       <path d=\"M 4.890625 31.390625  L 31.203125 31.390625  L 31.203125 23.390625  L 4.890625 23.390625  z \" id=\"DejaVuSans-45\"/>\n       <path d=\"M 2.984375 54.6875  L 12.5 54.6875  L 29.59375 8.796875  L 46.6875 54.6875  L 56.203125 54.6875  L 35.6875 0  L 23.484375 0  z \" id=\"DejaVuSans-118\"/>\n      </defs>\n      <g transform=\"translate(7.2 300.437344)scale(0.1 -0.1)\">\n       <use xlink:href=\"#DejaVuSans-68\"/>\n       <use x=\"77.001953\" xlink:href=\"#DejaVuSans-105\"/>\n       <use x=\"104.785156\" xlink:href=\"#DejaVuSans-115\"/>\n       <use x=\"156.884766\" xlink:href=\"#DejaVuSans-101\"/>\n       <use x=\"218.408203\" xlink:href=\"#DejaVuSans-97\"/>\n       <use x=\"279.6875\" xlink:href=\"#DejaVuSans-115\"/>\n       <use x=\"331.787109\" xlink:href=\"#DejaVuSans-101\"/>\n       <use x=\"393.310547\" xlink:href=\"#DejaVuSans-115\"/>\n       <use x=\"445.410156\" xlink:href=\"#DejaVuSans-32\"/>\n       <use x=\"477.197266\" xlink:href=\"#DejaVuSans-111\"/>\n       <use x=\"538.378906\" xlink:href=\"#DejaVuSans-102\"/>\n       <use x=\"573.583984\" xlink:href=\"#DejaVuSans-32\"/>\n       <use x=\"605.371094\" xlink:href=\"#DejaVuSans-116\"/>\n       <use x=\"644.580078\" xlink:href=\"#DejaVuSans-104\"/>\n       <use x=\"707.958984\" xlink:href=\"#DejaVuSans-101\"/>\n       <use x=\"769.482422\" xlink:href=\"#DejaVuSans-32\"/>\n       <use x=\"801.269531\" xlink:href=\"#DejaVuSans-98\"/>\n       <use x=\"864.746094\" xlink:href=\"#DejaVuSans-108\"/>\n       <use x=\"892.529297\" xlink:href=\"#DejaVuSans-111\"/>\n       <use x=\"953.710938\" xlink:href=\"#DejaVuSans-111\"/>\n       <use x=\"1014.892578\" xlink:href=\"#DejaVuSans-100\"/>\n       <use x=\"1078.369141\" xlink:href=\"#DejaVuSans-32\"/>\n       <use x=\"1110.15625\" xlink:href=\"#DejaVuSans-97\"/>\n       <use x=\"1171.435547\" xlink:href=\"#DejaVuSans-110\"/>\n       <use x=\"1234.814453\" xlink:href=\"#DejaVuSans-100\"/>\n       <use x=\"1298.291016\" xlink:href=\"#DejaVuSans-32\"/>\n       <use x=\"1330.078125\" xlink:href=\"#DejaVuSans-98\"/>\n       <use x=\"1393.554688\" xlink:href=\"#DejaVuSans-108\"/>\n       <use x=\"1421.337891\" xlink:href=\"#DejaVuSans-111\"/>\n       <use x=\"1482.519531\" xlink:href=\"#DejaVuSans-111\"/>\n       <use x=\"1543.701172\" xlink:href=\"#DejaVuSans-100\"/>\n       <use x=\"1607.177734\" xlink:href=\"#DejaVuSans-45\"/>\n       <use x=\"1643.261719\" xlink:href=\"#DejaVuSans-102\"/>\n       <use x=\"1678.466797\" xlink:href=\"#DejaVuSans-111\"/>\n       <use x=\"1739.648438\" xlink:href=\"#DejaVuSans-114\"/>\n       <use x=\"1780.746094\" xlink:href=\"#DejaVuSans-109\"/>\n       <use x=\"1878.158203\" xlink:href=\"#DejaVuSans-105\"/>\n       <use x=\"1905.941406\" xlink:href=\"#DejaVuSans-110\"/>\n       <use x=\"1969.320312\" xlink:href=\"#DejaVuSans-103\"/>\n       <use x=\"2032.796875\" xlink:href=\"#DejaVuSans-32\"/>\n       <use x=\"2064.583984\" xlink:href=\"#DejaVuSans-111\"/>\n       <use x=\"2125.765625\" xlink:href=\"#DejaVuSans-114\"/>\n       <use x=\"2166.863281\" xlink:href=\"#DejaVuSans-103\"/>\n       <use x=\"2230.339844\" xlink:href=\"#DejaVuSans-97\"/>\n       <use x=\"2291.619141\" xlink:href=\"#DejaVuSans-110\"/>\n       <use x=\"2354.998047\" xlink:href=\"#DejaVuSans-115\"/>\n       <use x=\"2407.097656\" xlink:href=\"#DejaVuSans-32\"/>\n       <use x=\"2438.884766\" xlink:href=\"#DejaVuSans-97\"/>\n       <use x=\"2500.164062\" xlink:href=\"#DejaVuSans-110\"/>\n       <use x=\"2563.542969\" xlink:href=\"#DejaVuSans-100\"/>\n       <use x=\"2627.019531\" xlink:href=\"#DejaVuSans-32\"/>\n       <use x=\"2658.806641\" xlink:href=\"#DejaVuSans-99\"/>\n       <use x=\"2713.787109\" xlink:href=\"#DejaVuSans-101\"/>\n       <use x=\"2775.310547\" xlink:href=\"#DejaVuSans-114\"/>\n       <use x=\"2816.423828\" xlink:href=\"#DejaVuSans-116\"/>\n       <use x=\"2855.632812\" xlink:href=\"#DejaVuSans-97\"/>\n       <use x=\"2916.912109\" xlink:href=\"#DejaVuSans-105\"/>\n       <use x=\"2944.695312\" xlink:href=\"#DejaVuSans-110\"/>\n       <use x=\"3008.074219\" xlink:href=\"#DejaVuSans-32\"/>\n       <use x=\"3039.861328\" xlink:href=\"#DejaVuSans-100\"/>\n       <use x=\"3103.337891\" xlink:href=\"#DejaVuSans-105\"/>\n       <use x=\"3131.121094\" xlink:href=\"#DejaVuSans-115\"/>\n       <use x=\"3183.220703\" xlink:href=\"#DejaVuSans-111\"/>\n       <use x=\"3244.402344\" xlink:href=\"#DejaVuSans-114\"/>\n       <use x=\"3285.5\" xlink:href=\"#DejaVuSans-100\"/>\n       <use x=\"3348.976562\" xlink:href=\"#DejaVuSans-101\"/>\n       <use x=\"3410.5\" xlink:href=\"#DejaVuSans-114\"/>\n       <use x=\"3451.613281\" xlink:href=\"#DejaVuSans-115\"/>\n       <use x=\"3503.712891\" xlink:href=\"#DejaVuSans-32\"/>\n       <use x=\"3535.5\" xlink:href=\"#DejaVuSans-105\"/>\n       <use x=\"3563.283203\" xlink:href=\"#DejaVuSans-110\"/>\n       <use x=\"3626.662109\" xlink:href=\"#DejaVuSans-118\"/>\n       <use x=\"3685.841797\" xlink:href=\"#DejaVuSans-111\"/>\n       <use x=\"3747.023438\" xlink:href=\"#DejaVuSans-108\"/>\n       <use x=\"3774.806641\" xlink:href=\"#DejaVuSans-118\"/>\n       <use x=\"3833.986328\" xlink:href=\"#DejaVuSans-105\"/>\n       <use x=\"3861.769531\" xlink:href=\"#DejaVuSans-110\"/>\n       <use x=\"3925.148438\" xlink:href=\"#DejaVuSans-103\"/>\n       <use x=\"3988.625\" xlink:href=\"#DejaVuSans-32\"/>\n       <use x=\"4020.412109\" xlink:href=\"#DejaVuSans-116\"/>\n       <use x=\"4059.621094\" xlink:href=\"#DejaVuSans-104\"/>\n       <use x=\"4123\" xlink:href=\"#DejaVuSans-101\"/>\n       <use x=\"4184.523438\" xlink:href=\"#DejaVuSans-32\"/>\n       <use x=\"4216.310547\" xlink:href=\"#DejaVuSans-105\"/>\n       <use x=\"4244.09375\" xlink:href=\"#DejaVuSans-109\"/>\n       <use x=\"4341.505859\" xlink:href=\"#DejaVuSans-109\"/>\n       <use x=\"4438.917969\" xlink:href=\"#DejaVuSans-117\"/>\n       <use x=\"4502.296875\" xlink:href=\"#DejaVuSans-110\"/>\n       <use x=\"4565.675781\" xlink:href=\"#DejaVuSans-101\"/>\n       <use x=\"4627.199219\" xlink:href=\"#DejaVuSans-32\"/>\n       <use x=\"4658.986328\" xlink:href=\"#DejaVuSans-109\"/>\n       <use x=\"4756.398438\" xlink:href=\"#DejaVuSans-101\"/>\n       <use x=\"4817.921875\" xlink:href=\"#DejaVuSans-99\"/>\n       <use x=\"4872.902344\" xlink:href=\"#DejaVuSans-104\"/>\n       <use x=\"4936.28125\" xlink:href=\"#DejaVuSans-97\"/>\n       <use x=\"4997.560547\" xlink:href=\"#DejaVuSans-110\"/>\n       <use x=\"5060.939453\" xlink:href=\"#DejaVuSans-105\"/>\n       <use x=\"5088.722656\" xlink:href=\"#DejaVuSans-115\"/>\n       <use x=\"5140.822266\" xlink:href=\"#DejaVuSans-109\"/>\n      </g>\n     </g>\n    </g>\n    <g id=\"ytick_4\">\n     <g id=\"line2d_11\">\n      <g>\n       <use style=\"stroke:#000000;stroke-width:0.8;\" x=\"538.020313\" xlink:href=\"#m5552c7ca51\" y=\"275.038125\"/>\n      </g>\n     </g>\n     <g id=\"text_10\">\n      <!-- Endocrine, nutritional and metabolic diseases -->\n      <defs>\n       <path d=\"M 9.8125 72.90625  L 55.90625 72.90625  L 55.90625 64.59375  L 19.671875 64.59375  L 19.671875 43.015625  L 54.390625 43.015625  L 54.390625 34.71875  L 19.671875 34.71875  L 19.671875 8.296875  L 56.78125 8.296875  L 56.78125 0  L 9.8125 0  z \" id=\"DejaVuSans-69\"/>\n       <path d=\"M 11.71875 12.40625  L 22.015625 12.40625  L 22.015625 4  L 14.015625 -11.625  L 7.71875 -11.625  L 11.71875 4  z \" id=\"DejaVuSans-44\"/>\n      </defs>\n      <g transform=\"translate(302.115625 278.837344)scale(0.1 -0.1)\">\n       <use xlink:href=\"#DejaVuSans-69\"/>\n       <use x=\"63.183594\" xlink:href=\"#DejaVuSans-110\"/>\n       <use x=\"126.5625\" xlink:href=\"#DejaVuSans-100\"/>\n       <use x=\"190.039062\" xlink:href=\"#DejaVuSans-111\"/>\n       <use x=\"251.220703\" xlink:href=\"#DejaVuSans-99\"/>\n       <use x=\"306.201172\" xlink:href=\"#DejaVuSans-114\"/>\n       <use x=\"347.314453\" xlink:href=\"#DejaVuSans-105\"/>\n       <use x=\"375.097656\" xlink:href=\"#DejaVuSans-110\"/>\n       <use x=\"438.476562\" xlink:href=\"#DejaVuSans-101\"/>\n       <use x=\"500\" xlink:href=\"#DejaVuSans-44\"/>\n       <use x=\"531.787109\" xlink:href=\"#DejaVuSans-32\"/>\n       <use x=\"563.574219\" xlink:href=\"#DejaVuSans-110\"/>\n       <use x=\"626.953125\" xlink:href=\"#DejaVuSans-117\"/>\n       <use x=\"690.332031\" xlink:href=\"#DejaVuSans-116\"/>\n       <use x=\"729.541016\" xlink:href=\"#DejaVuSans-114\"/>\n       <use x=\"770.654297\" xlink:href=\"#DejaVuSans-105\"/>\n       <use x=\"798.4375\" xlink:href=\"#DejaVuSans-116\"/>\n       <use x=\"837.646484\" xlink:href=\"#DejaVuSans-105\"/>\n       <use x=\"865.429688\" xlink:href=\"#DejaVuSans-111\"/>\n       <use x=\"926.611328\" xlink:href=\"#DejaVuSans-110\"/>\n       <use x=\"989.990234\" xlink:href=\"#DejaVuSans-97\"/>\n       <use x=\"1051.269531\" xlink:href=\"#DejaVuSans-108\"/>\n       <use x=\"1079.052734\" xlink:href=\"#DejaVuSans-32\"/>\n       <use x=\"1110.839844\" xlink:href=\"#DejaVuSans-97\"/>\n       <use x=\"1172.119141\" xlink:href=\"#DejaVuSans-110\"/>\n       <use x=\"1235.498047\" xlink:href=\"#DejaVuSans-100\"/>\n       <use x=\"1298.974609\" xlink:href=\"#DejaVuSans-32\"/>\n       <use x=\"1330.761719\" xlink:href=\"#DejaVuSans-109\"/>\n       <use x=\"1428.173828\" xlink:href=\"#DejaVuSans-101\"/>\n       <use x=\"1489.697266\" xlink:href=\"#DejaVuSans-116\"/>\n       <use x=\"1528.90625\" xlink:href=\"#DejaVuSans-97\"/>\n       <use x=\"1590.185547\" xlink:href=\"#DejaVuSans-98\"/>\n       <use x=\"1653.662109\" xlink:href=\"#DejaVuSans-111\"/>\n       <use x=\"1714.84375\" xlink:href=\"#DejaVuSans-108\"/>\n       <use x=\"1742.626953\" xlink:href=\"#DejaVuSans-105\"/>\n       <use x=\"1770.410156\" xlink:href=\"#DejaVuSans-99\"/>\n       <use x=\"1825.390625\" xlink:href=\"#DejaVuSans-32\"/>\n       <use x=\"1857.177734\" xlink:href=\"#DejaVuSans-100\"/>\n       <use x=\"1920.654297\" xlink:href=\"#DejaVuSans-105\"/>\n       <use x=\"1948.4375\" xlink:href=\"#DejaVuSans-115\"/>\n       <use x=\"2000.537109\" xlink:href=\"#DejaVuSans-101\"/>\n       <use x=\"2062.060547\" xlink:href=\"#DejaVuSans-97\"/>\n       <use x=\"2123.339844\" xlink:href=\"#DejaVuSans-115\"/>\n       <use x=\"2175.439453\" xlink:href=\"#DejaVuSans-101\"/>\n       <use x=\"2236.962891\" xlink:href=\"#DejaVuSans-115\"/>\n      </g>\n     </g>\n    </g>\n    <g id=\"ytick_5\">\n     <g id=\"line2d_12\">\n      <g>\n       <use style=\"stroke:#000000;stroke-width:0.8;\" x=\"538.020313\" xlink:href=\"#m5552c7ca51\" y=\"253.438125\"/>\n      </g>\n     </g>\n     <g id=\"text_11\">\n      <!-- Mental, Behavioral and Neurodevelopmental disorders -->\n      <defs>\n       <path d=\"M 9.8125 72.90625  L 24.515625 72.90625  L 43.109375 23.296875  L 61.8125 72.90625  L 76.515625 72.90625  L 76.515625 0  L 66.890625 0  L 66.890625 64.015625  L 48.09375 14.015625  L 38.1875 14.015625  L 19.390625 64.015625  L 19.390625 0  L 9.8125 0  z \" id=\"DejaVuSans-77\"/>\n       <path d=\"M 19.671875 34.8125  L 19.671875 8.109375  L 35.5 8.109375  Q 43.453125 8.109375 47.28125 11.40625  Q 51.125 14.703125 51.125 21.484375  Q 51.125 28.328125 47.28125 31.5625  Q 43.453125 34.8125 35.5 34.8125  z M 19.671875 64.796875  L 19.671875 42.828125  L 34.28125 42.828125  Q 41.5 42.828125 45.03125 45.53125  Q 48.578125 48.25 48.578125 53.8125  Q 48.578125 59.328125 45.03125 62.0625  Q 41.5 64.796875 34.28125 64.796875  z M 9.8125 72.90625  L 35.015625 72.90625  Q 46.296875 72.90625 52.390625 68.21875  Q 58.5 63.53125 58.5 54.890625  Q 58.5 48.1875 55.375 44.234375  Q 52.25 40.28125 46.1875 39.3125  Q 53.46875 37.75 57.5 32.78125  Q 61.53125 27.828125 61.53125 20.40625  Q 61.53125 10.640625 54.890625 5.3125  Q 48.25 0 35.984375 0  L 9.8125 0  z \" id=\"DejaVuSans-66\"/>\n      </defs>\n      <g transform=\"translate(257.596875 257.237344)scale(0.1 -0.1)\">\n       <use xlink:href=\"#DejaVuSans-77\"/>\n       <use x=\"86.279297\" xlink:href=\"#DejaVuSans-101\"/>\n       <use x=\"147.802734\" xlink:href=\"#DejaVuSans-110\"/>\n       <use x=\"211.181641\" xlink:href=\"#DejaVuSans-116\"/>\n       <use x=\"250.390625\" xlink:href=\"#DejaVuSans-97\"/>\n       <use x=\"311.669922\" xlink:href=\"#DejaVuSans-108\"/>\n       <use x=\"339.453125\" xlink:href=\"#DejaVuSans-44\"/>\n       <use x=\"371.240234\" xlink:href=\"#DejaVuSans-32\"/>\n       <use x=\"403.027344\" xlink:href=\"#DejaVuSans-66\"/>\n       <use x=\"471.630859\" xlink:href=\"#DejaVuSans-101\"/>\n       <use x=\"533.154297\" xlink:href=\"#DejaVuSans-104\"/>\n       <use x=\"596.533203\" xlink:href=\"#DejaVuSans-97\"/>\n       <use x=\"657.8125\" xlink:href=\"#DejaVuSans-118\"/>\n       <use x=\"716.992188\" xlink:href=\"#DejaVuSans-105\"/>\n       <use x=\"744.775391\" xlink:href=\"#DejaVuSans-111\"/>\n       <use x=\"805.957031\" xlink:href=\"#DejaVuSans-114\"/>\n       <use x=\"847.070312\" xlink:href=\"#DejaVuSans-97\"/>\n       <use x=\"908.349609\" xlink:href=\"#DejaVuSans-108\"/>\n       <use x=\"936.132812\" xlink:href=\"#DejaVuSans-32\"/>\n       <use x=\"967.919922\" xlink:href=\"#DejaVuSans-97\"/>\n       <use x=\"1029.199219\" xlink:href=\"#DejaVuSans-110\"/>\n       <use x=\"1092.578125\" xlink:href=\"#DejaVuSans-100\"/>\n       <use x=\"1156.054688\" xlink:href=\"#DejaVuSans-32\"/>\n       <use x=\"1187.841797\" xlink:href=\"#DejaVuSans-78\"/>\n       <use x=\"1262.646484\" xlink:href=\"#DejaVuSans-101\"/>\n       <use x=\"1324.169922\" xlink:href=\"#DejaVuSans-117\"/>\n       <use x=\"1387.548828\" xlink:href=\"#DejaVuSans-114\"/>\n       <use x=\"1428.630859\" xlink:href=\"#DejaVuSans-111\"/>\n       <use x=\"1489.8125\" xlink:href=\"#DejaVuSans-100\"/>\n       <use x=\"1553.289062\" xlink:href=\"#DejaVuSans-101\"/>\n       <use x=\"1614.8125\" xlink:href=\"#DejaVuSans-118\"/>\n       <use x=\"1673.992188\" xlink:href=\"#DejaVuSans-101\"/>\n       <use x=\"1735.515625\" xlink:href=\"#DejaVuSans-108\"/>\n       <use x=\"1763.298828\" xlink:href=\"#DejaVuSans-111\"/>\n       <use x=\"1824.480469\" xlink:href=\"#DejaVuSans-112\"/>\n       <use x=\"1887.957031\" xlink:href=\"#DejaVuSans-109\"/>\n       <use x=\"1985.369141\" xlink:href=\"#DejaVuSans-101\"/>\n       <use x=\"2046.892578\" xlink:href=\"#DejaVuSans-110\"/>\n       <use x=\"2110.271484\" xlink:href=\"#DejaVuSans-116\"/>\n       <use x=\"2149.480469\" xlink:href=\"#DejaVuSans-97\"/>\n       <use x=\"2210.759766\" xlink:href=\"#DejaVuSans-108\"/>\n       <use x=\"2238.542969\" xlink:href=\"#DejaVuSans-32\"/>\n       <use x=\"2270.330078\" xlink:href=\"#DejaVuSans-100\"/>\n       <use x=\"2333.806641\" xlink:href=\"#DejaVuSans-105\"/>\n       <use x=\"2361.589844\" xlink:href=\"#DejaVuSans-115\"/>\n       <use x=\"2413.689453\" xlink:href=\"#DejaVuSans-111\"/>\n       <use x=\"2474.871094\" xlink:href=\"#DejaVuSans-114\"/>\n       <use x=\"2515.96875\" xlink:href=\"#DejaVuSans-100\"/>\n       <use x=\"2579.445312\" xlink:href=\"#DejaVuSans-101\"/>\n       <use x=\"2640.96875\" xlink:href=\"#DejaVuSans-114\"/>\n       <use x=\"2682.082031\" xlink:href=\"#DejaVuSans-115\"/>\n      </g>\n     </g>\n    </g>\n    <g id=\"ytick_6\">\n     <g id=\"line2d_13\">\n      <g>\n       <use style=\"stroke:#000000;stroke-width:0.8;\" x=\"538.020313\" xlink:href=\"#m5552c7ca51\" y=\"231.838125\"/>\n      </g>\n     </g>\n     <g id=\"text_12\">\n      <!-- Diseases of the nervous system -->\n      <defs>\n       <path d=\"M 32.171875 -5.078125  Q 28.375 -14.84375 24.75 -17.8125  Q 21.140625 -20.796875 15.09375 -20.796875  L 7.90625 -20.796875  L 7.90625 -13.28125  L 13.1875 -13.28125  Q 16.890625 -13.28125 18.9375 -11.515625  Q 21 -9.765625 23.484375 -3.21875  L 25.09375 0.875  L 2.984375 54.6875  L 12.5 54.6875  L 29.59375 11.921875  L 46.6875 54.6875  L 56.203125 54.6875  z \" id=\"DejaVuSans-121\"/>\n      </defs>\n      <g transform=\"translate(371.379688 235.637344)scale(0.1 -0.1)\">\n       <use xlink:href=\"#DejaVuSans-68\"/>\n       <use x=\"77.001953\" xlink:href=\"#DejaVuSans-105\"/>\n       <use x=\"104.785156\" xlink:href=\"#DejaVuSans-115\"/>\n       <use x=\"156.884766\" xlink:href=\"#DejaVuSans-101\"/>\n       <use x=\"218.408203\" xlink:href=\"#DejaVuSans-97\"/>\n       <use x=\"279.6875\" xlink:href=\"#DejaVuSans-115\"/>\n       <use x=\"331.787109\" xlink:href=\"#DejaVuSans-101\"/>\n       <use x=\"393.310547\" xlink:href=\"#DejaVuSans-115\"/>\n       <use x=\"445.410156\" xlink:href=\"#DejaVuSans-32\"/>\n       <use x=\"477.197266\" xlink:href=\"#DejaVuSans-111\"/>\n       <use x=\"538.378906\" xlink:href=\"#DejaVuSans-102\"/>\n       <use x=\"573.583984\" xlink:href=\"#DejaVuSans-32\"/>\n       <use x=\"605.371094\" xlink:href=\"#DejaVuSans-116\"/>\n       <use x=\"644.580078\" xlink:href=\"#DejaVuSans-104\"/>\n       <use x=\"707.958984\" xlink:href=\"#DejaVuSans-101\"/>\n       <use x=\"769.482422\" xlink:href=\"#DejaVuSans-32\"/>\n       <use x=\"801.269531\" xlink:href=\"#DejaVuSans-110\"/>\n       <use x=\"864.648438\" xlink:href=\"#DejaVuSans-101\"/>\n       <use x=\"926.171875\" xlink:href=\"#DejaVuSans-114\"/>\n       <use x=\"967.285156\" xlink:href=\"#DejaVuSans-118\"/>\n       <use x=\"1026.464844\" xlink:href=\"#DejaVuSans-111\"/>\n       <use x=\"1087.646484\" xlink:href=\"#DejaVuSans-117\"/>\n       <use x=\"1151.025391\" xlink:href=\"#DejaVuSans-115\"/>\n       <use x=\"1203.125\" xlink:href=\"#DejaVuSans-32\"/>\n       <use x=\"1234.912109\" xlink:href=\"#DejaVuSans-115\"/>\n       <use x=\"1287.011719\" xlink:href=\"#DejaVuSans-121\"/>\n       <use x=\"1346.191406\" xlink:href=\"#DejaVuSans-115\"/>\n       <use x=\"1398.291016\" xlink:href=\"#DejaVuSans-116\"/>\n       <use x=\"1437.5\" xlink:href=\"#DejaVuSans-101\"/>\n       <use x=\"1499.023438\" xlink:href=\"#DejaVuSans-109\"/>\n      </g>\n     </g>\n    </g>\n    <g id=\"ytick_7\">\n     <g id=\"line2d_14\">\n      <g>\n       <use style=\"stroke:#000000;stroke-width:0.8;\" x=\"538.020313\" xlink:href=\"#m5552c7ca51\" y=\"210.238125\"/>\n      </g>\n     </g>\n     <g id=\"text_13\">\n      <!-- Diseases of the eye and adnexa -->\n      <defs>\n       <path d=\"M 54.890625 54.6875  L 35.109375 28.078125  L 55.90625 0  L 45.3125 0  L 29.390625 21.484375  L 13.484375 0  L 2.875 0  L 24.125 28.609375  L 4.6875 54.6875  L 15.28125 54.6875  L 29.78125 35.203125  L 44.28125 54.6875  z \" id=\"DejaVuSans-120\"/>\n      </defs>\n      <g transform=\"translate(370.4875 214.037344)scale(0.1 -0.1)\">\n       <use xlink:href=\"#DejaVuSans-68\"/>\n       <use x=\"77.001953\" xlink:href=\"#DejaVuSans-105\"/>\n       <use x=\"104.785156\" xlink:href=\"#DejaVuSans-115\"/>\n       <use x=\"156.884766\" xlink:href=\"#DejaVuSans-101\"/>\n       <use x=\"218.408203\" xlink:href=\"#DejaVuSans-97\"/>\n       <use x=\"279.6875\" xlink:href=\"#DejaVuSans-115\"/>\n       <use x=\"331.787109\" xlink:href=\"#DejaVuSans-101\"/>\n       <use x=\"393.310547\" xlink:href=\"#DejaVuSans-115\"/>\n       <use x=\"445.410156\" xlink:href=\"#DejaVuSans-32\"/>\n       <use x=\"477.197266\" xlink:href=\"#DejaVuSans-111\"/>\n       <use x=\"538.378906\" xlink:href=\"#DejaVuSans-102\"/>\n       <use x=\"573.583984\" xlink:href=\"#DejaVuSans-32\"/>\n       <use x=\"605.371094\" xlink:href=\"#DejaVuSans-116\"/>\n       <use x=\"644.580078\" xlink:href=\"#DejaVuSans-104\"/>\n       <use x=\"707.958984\" xlink:href=\"#DejaVuSans-101\"/>\n       <use x=\"769.482422\" xlink:href=\"#DejaVuSans-32\"/>\n       <use x=\"801.269531\" xlink:href=\"#DejaVuSans-101\"/>\n       <use x=\"862.792969\" xlink:href=\"#DejaVuSans-121\"/>\n       <use x=\"921.972656\" xlink:href=\"#DejaVuSans-101\"/>\n       <use x=\"983.496094\" xlink:href=\"#DejaVuSans-32\"/>\n       <use x=\"1015.283203\" xlink:href=\"#DejaVuSans-97\"/>\n       <use x=\"1076.5625\" xlink:href=\"#DejaVuSans-110\"/>\n       <use x=\"1139.941406\" xlink:href=\"#DejaVuSans-100\"/>\n       <use x=\"1203.417969\" xlink:href=\"#DejaVuSans-32\"/>\n       <use x=\"1235.205078\" xlink:href=\"#DejaVuSans-97\"/>\n       <use x=\"1296.484375\" xlink:href=\"#DejaVuSans-100\"/>\n       <use x=\"1359.960938\" xlink:href=\"#DejaVuSans-110\"/>\n       <use x=\"1423.339844\" xlink:href=\"#DejaVuSans-101\"/>\n       <use x=\"1484.847656\" xlink:href=\"#DejaVuSans-120\"/>\n       <use x=\"1544.027344\" xlink:href=\"#DejaVuSans-97\"/>\n      </g>\n     </g>\n    </g>\n    <g id=\"ytick_8\">\n     <g id=\"line2d_15\">\n      <g>\n       <use style=\"stroke:#000000;stroke-width:0.8;\" x=\"538.020313\" xlink:href=\"#m5552c7ca51\" y=\"188.638125\"/>\n      </g>\n     </g>\n     <g id=\"text_14\">\n      <!-- Diseases of the ear and mastoid process -->\n      <g transform=\"translate(327.265625 192.437344)scale(0.1 -0.1)\">\n       <use xlink:href=\"#DejaVuSans-68\"/>\n       <use x=\"77.001953\" xlink:href=\"#DejaVuSans-105\"/>\n       <use x=\"104.785156\" xlink:href=\"#DejaVuSans-115\"/>\n       <use x=\"156.884766\" xlink:href=\"#DejaVuSans-101\"/>\n       <use x=\"218.408203\" xlink:href=\"#DejaVuSans-97\"/>\n       <use x=\"279.6875\" xlink:href=\"#DejaVuSans-115\"/>\n       <use x=\"331.787109\" xlink:href=\"#DejaVuSans-101\"/>\n       <use x=\"393.310547\" xlink:href=\"#DejaVuSans-115\"/>\n       <use x=\"445.410156\" xlink:href=\"#DejaVuSans-32\"/>\n       <use x=\"477.197266\" xlink:href=\"#DejaVuSans-111\"/>\n       <use x=\"538.378906\" xlink:href=\"#DejaVuSans-102\"/>\n       <use x=\"573.583984\" xlink:href=\"#DejaVuSans-32\"/>\n       <use x=\"605.371094\" xlink:href=\"#DejaVuSans-116\"/>\n       <use x=\"644.580078\" xlink:href=\"#DejaVuSans-104\"/>\n       <use x=\"707.958984\" xlink:href=\"#DejaVuSans-101\"/>\n       <use x=\"769.482422\" xlink:href=\"#DejaVuSans-32\"/>\n       <use x=\"801.269531\" xlink:href=\"#DejaVuSans-101\"/>\n       <use x=\"862.792969\" xlink:href=\"#DejaVuSans-97\"/>\n       <use x=\"924.072266\" xlink:href=\"#DejaVuSans-114\"/>\n       <use x=\"965.185547\" xlink:href=\"#DejaVuSans-32\"/>\n       <use x=\"996.972656\" xlink:href=\"#DejaVuSans-97\"/>\n       <use x=\"1058.251953\" xlink:href=\"#DejaVuSans-110\"/>\n       <use x=\"1121.630859\" xlink:href=\"#DejaVuSans-100\"/>\n       <use x=\"1185.107422\" xlink:href=\"#DejaVuSans-32\"/>\n       <use x=\"1216.894531\" xlink:href=\"#DejaVuSans-109\"/>\n       <use x=\"1314.306641\" xlink:href=\"#DejaVuSans-97\"/>\n       <use x=\"1375.585938\" xlink:href=\"#DejaVuSans-115\"/>\n       <use x=\"1427.685547\" xlink:href=\"#DejaVuSans-116\"/>\n       <use x=\"1466.894531\" xlink:href=\"#DejaVuSans-111\"/>\n       <use x=\"1528.076172\" xlink:href=\"#DejaVuSans-105\"/>\n       <use x=\"1555.859375\" xlink:href=\"#DejaVuSans-100\"/>\n       <use x=\"1619.335938\" xlink:href=\"#DejaVuSans-32\"/>\n       <use x=\"1651.123047\" xlink:href=\"#DejaVuSans-112\"/>\n       <use x=\"1714.599609\" xlink:href=\"#DejaVuSans-114\"/>\n       <use x=\"1755.681641\" xlink:href=\"#DejaVuSans-111\"/>\n       <use x=\"1816.863281\" xlink:href=\"#DejaVuSans-99\"/>\n       <use x=\"1871.84375\" xlink:href=\"#DejaVuSans-101\"/>\n       <use x=\"1933.367188\" xlink:href=\"#DejaVuSans-115\"/>\n       <use x=\"1985.466797\" xlink:href=\"#DejaVuSans-115\"/>\n      </g>\n     </g>\n    </g>\n    <g id=\"ytick_9\">\n     <g id=\"line2d_16\">\n      <g>\n       <use style=\"stroke:#000000;stroke-width:0.8;\" x=\"538.020313\" xlink:href=\"#m5552c7ca51\" y=\"167.038125\"/>\n      </g>\n     </g>\n     <g id=\"text_15\">\n      <!-- Diseases of the circulatory system -->\n      <g transform=\"translate(358.370313 170.837344)scale(0.1 -0.1)\">\n       <use xlink:href=\"#DejaVuSans-68\"/>\n       <use x=\"77.001953\" xlink:href=\"#DejaVuSans-105\"/>\n       <use x=\"104.785156\" xlink:href=\"#DejaVuSans-115\"/>\n       <use x=\"156.884766\" xlink:href=\"#DejaVuSans-101\"/>\n       <use x=\"218.408203\" xlink:href=\"#DejaVuSans-97\"/>\n       <use x=\"279.6875\" xlink:href=\"#DejaVuSans-115\"/>\n       <use x=\"331.787109\" xlink:href=\"#DejaVuSans-101\"/>\n       <use x=\"393.310547\" xlink:href=\"#DejaVuSans-115\"/>\n       <use x=\"445.410156\" xlink:href=\"#DejaVuSans-32\"/>\n       <use x=\"477.197266\" xlink:href=\"#DejaVuSans-111\"/>\n       <use x=\"538.378906\" xlink:href=\"#DejaVuSans-102\"/>\n       <use x=\"573.583984\" xlink:href=\"#DejaVuSans-32\"/>\n       <use x=\"605.371094\" xlink:href=\"#DejaVuSans-116\"/>\n       <use x=\"644.580078\" xlink:href=\"#DejaVuSans-104\"/>\n       <use x=\"707.958984\" xlink:href=\"#DejaVuSans-101\"/>\n       <use x=\"769.482422\" xlink:href=\"#DejaVuSans-32\"/>\n       <use x=\"801.269531\" xlink:href=\"#DejaVuSans-99\"/>\n       <use x=\"856.25\" xlink:href=\"#DejaVuSans-105\"/>\n       <use x=\"884.033203\" xlink:href=\"#DejaVuSans-114\"/>\n       <use x=\"925.115234\" xlink:href=\"#DejaVuSans-99\"/>\n       <use x=\"980.095703\" xlink:href=\"#DejaVuSans-117\"/>\n       <use x=\"1043.474609\" xlink:href=\"#DejaVuSans-108\"/>\n       <use x=\"1071.257812\" xlink:href=\"#DejaVuSans-97\"/>\n       <use x=\"1132.537109\" xlink:href=\"#DejaVuSans-116\"/>\n       <use x=\"1171.746094\" xlink:href=\"#DejaVuSans-111\"/>\n       <use x=\"1232.927734\" xlink:href=\"#DejaVuSans-114\"/>\n       <use x=\"1274.041016\" xlink:href=\"#DejaVuSans-121\"/>\n       <use x=\"1333.220703\" xlink:href=\"#DejaVuSans-32\"/>\n       <use x=\"1365.007812\" xlink:href=\"#DejaVuSans-115\"/>\n       <use x=\"1417.107422\" xlink:href=\"#DejaVuSans-121\"/>\n       <use x=\"1476.287109\" xlink:href=\"#DejaVuSans-115\"/>\n       <use x=\"1528.386719\" xlink:href=\"#DejaVuSans-116\"/>\n       <use x=\"1567.595703\" xlink:href=\"#DejaVuSans-101\"/>\n       <use x=\"1629.119141\" xlink:href=\"#DejaVuSans-109\"/>\n      </g>\n     </g>\n    </g>\n    <g id=\"ytick_10\">\n     <g id=\"line2d_17\">\n      <g>\n       <use style=\"stroke:#000000;stroke-width:0.8;\" x=\"538.020313\" xlink:href=\"#m5552c7ca51\" y=\"145.438125\"/>\n      </g>\n     </g>\n     <g id=\"text_16\">\n      <!-- Diseases of the respiratory system -->\n      <g transform=\"translate(356.660938 149.237344)scale(0.1 -0.1)\">\n       <use xlink:href=\"#DejaVuSans-68\"/>\n       <use x=\"77.001953\" xlink:href=\"#DejaVuSans-105\"/>\n       <use x=\"104.785156\" xlink:href=\"#DejaVuSans-115\"/>\n       <use x=\"156.884766\" xlink:href=\"#DejaVuSans-101\"/>\n       <use x=\"218.408203\" xlink:href=\"#DejaVuSans-97\"/>\n       <use x=\"279.6875\" xlink:href=\"#DejaVuSans-115\"/>\n       <use x=\"331.787109\" xlink:href=\"#DejaVuSans-101\"/>\n       <use x=\"393.310547\" xlink:href=\"#DejaVuSans-115\"/>\n       <use x=\"445.410156\" xlink:href=\"#DejaVuSans-32\"/>\n       <use x=\"477.197266\" xlink:href=\"#DejaVuSans-111\"/>\n       <use x=\"538.378906\" xlink:href=\"#DejaVuSans-102\"/>\n       <use x=\"573.583984\" xlink:href=\"#DejaVuSans-32\"/>\n       <use x=\"605.371094\" xlink:href=\"#DejaVuSans-116\"/>\n       <use x=\"644.580078\" xlink:href=\"#DejaVuSans-104\"/>\n       <use x=\"707.958984\" xlink:href=\"#DejaVuSans-101\"/>\n       <use x=\"769.482422\" xlink:href=\"#DejaVuSans-32\"/>\n       <use x=\"801.269531\" xlink:href=\"#DejaVuSans-114\"/>\n       <use x=\"842.351562\" xlink:href=\"#DejaVuSans-101\"/>\n       <use x=\"903.875\" xlink:href=\"#DejaVuSans-115\"/>\n       <use x=\"955.974609\" xlink:href=\"#DejaVuSans-112\"/>\n       <use x=\"1019.451172\" xlink:href=\"#DejaVuSans-105\"/>\n       <use x=\"1047.234375\" xlink:href=\"#DejaVuSans-114\"/>\n       <use x=\"1088.347656\" xlink:href=\"#DejaVuSans-97\"/>\n       <use x=\"1149.626953\" xlink:href=\"#DejaVuSans-116\"/>\n       <use x=\"1188.835938\" xlink:href=\"#DejaVuSans-111\"/>\n       <use x=\"1250.017578\" xlink:href=\"#DejaVuSans-114\"/>\n       <use x=\"1291.130859\" xlink:href=\"#DejaVuSans-121\"/>\n       <use x=\"1350.310547\" xlink:href=\"#DejaVuSans-32\"/>\n       <use x=\"1382.097656\" xlink:href=\"#DejaVuSans-115\"/>\n       <use x=\"1434.197266\" xlink:href=\"#DejaVuSans-121\"/>\n       <use x=\"1493.376953\" xlink:href=\"#DejaVuSans-115\"/>\n       <use x=\"1545.476562\" xlink:href=\"#DejaVuSans-116\"/>\n       <use x=\"1584.685547\" xlink:href=\"#DejaVuSans-101\"/>\n       <use x=\"1646.208984\" xlink:href=\"#DejaVuSans-109\"/>\n      </g>\n     </g>\n    </g>\n    <g id=\"ytick_11\">\n     <g id=\"line2d_18\">\n      <g>\n       <use style=\"stroke:#000000;stroke-width:0.8;\" x=\"538.020313\" xlink:href=\"#m5552c7ca51\" y=\"123.838125\"/>\n      </g>\n     </g>\n     <g id=\"text_17\">\n      <!-- Diseases of the digestive system -->\n      <g transform=\"translate(365.957813 127.637344)scale(0.1 -0.1)\">\n       <use xlink:href=\"#DejaVuSans-68\"/>\n       <use x=\"77.001953\" xlink:href=\"#DejaVuSans-105\"/>\n       <use x=\"104.785156\" xlink:href=\"#DejaVuSans-115\"/>\n       <use x=\"156.884766\" xlink:href=\"#DejaVuSans-101\"/>\n       <use x=\"218.408203\" xlink:href=\"#DejaVuSans-97\"/>\n       <use x=\"279.6875\" xlink:href=\"#DejaVuSans-115\"/>\n       <use x=\"331.787109\" xlink:href=\"#DejaVuSans-101\"/>\n       <use x=\"393.310547\" xlink:href=\"#DejaVuSans-115\"/>\n       <use x=\"445.410156\" xlink:href=\"#DejaVuSans-32\"/>\n       <use x=\"477.197266\" xlink:href=\"#DejaVuSans-111\"/>\n       <use x=\"538.378906\" xlink:href=\"#DejaVuSans-102\"/>\n       <use x=\"573.583984\" xlink:href=\"#DejaVuSans-32\"/>\n       <use x=\"605.371094\" xlink:href=\"#DejaVuSans-116\"/>\n       <use x=\"644.580078\" xlink:href=\"#DejaVuSans-104\"/>\n       <use x=\"707.958984\" xlink:href=\"#DejaVuSans-101\"/>\n       <use x=\"769.482422\" xlink:href=\"#DejaVuSans-32\"/>\n       <use x=\"801.269531\" xlink:href=\"#DejaVuSans-100\"/>\n       <use x=\"864.746094\" xlink:href=\"#DejaVuSans-105\"/>\n       <use x=\"892.529297\" xlink:href=\"#DejaVuSans-103\"/>\n       <use x=\"956.005859\" xlink:href=\"#DejaVuSans-101\"/>\n       <use x=\"1017.529297\" xlink:href=\"#DejaVuSans-115\"/>\n       <use x=\"1069.628906\" xlink:href=\"#DejaVuSans-116\"/>\n       <use x=\"1108.837891\" xlink:href=\"#DejaVuSans-105\"/>\n       <use x=\"1136.621094\" xlink:href=\"#DejaVuSans-118\"/>\n       <use x=\"1195.800781\" xlink:href=\"#DejaVuSans-101\"/>\n       <use x=\"1257.324219\" xlink:href=\"#DejaVuSans-32\"/>\n       <use x=\"1289.111328\" xlink:href=\"#DejaVuSans-115\"/>\n       <use x=\"1341.210938\" xlink:href=\"#DejaVuSans-121\"/>\n       <use x=\"1400.390625\" xlink:href=\"#DejaVuSans-115\"/>\n       <use x=\"1452.490234\" xlink:href=\"#DejaVuSans-116\"/>\n       <use x=\"1491.699219\" xlink:href=\"#DejaVuSans-101\"/>\n       <use x=\"1553.222656\" xlink:href=\"#DejaVuSans-109\"/>\n      </g>\n     </g>\n    </g>\n    <g id=\"ytick_12\">\n     <g id=\"line2d_19\">\n      <g>\n       <use style=\"stroke:#000000;stroke-width:0.8;\" x=\"538.020313\" xlink:href=\"#m5552c7ca51\" y=\"102.238125\"/>\n      </g>\n     </g>\n     <g id=\"text_18\">\n      <!-- Diseases of the skin and subcutaneous tissue -->\n      <g transform=\"translate(302.8875 106.037344)scale(0.1 -0.1)\">\n       <use xlink:href=\"#DejaVuSans-68\"/>\n       <use x=\"77.001953\" xlink:href=\"#DejaVuSans-105\"/>\n       <use x=\"104.785156\" xlink:href=\"#DejaVuSans-115\"/>\n       <use x=\"156.884766\" xlink:href=\"#DejaVuSans-101\"/>\n       <use x=\"218.408203\" xlink:href=\"#DejaVuSans-97\"/>\n       <use x=\"279.6875\" xlink:href=\"#DejaVuSans-115\"/>\n       <use x=\"331.787109\" xlink:href=\"#DejaVuSans-101\"/>\n       <use x=\"393.310547\" xlink:href=\"#DejaVuSans-115\"/>\n       <use x=\"445.410156\" xlink:href=\"#DejaVuSans-32\"/>\n       <use x=\"477.197266\" xlink:href=\"#DejaVuSans-111\"/>\n       <use x=\"538.378906\" xlink:href=\"#DejaVuSans-102\"/>\n       <use x=\"573.583984\" xlink:href=\"#DejaVuSans-32\"/>\n       <use x=\"605.371094\" xlink:href=\"#DejaVuSans-116\"/>\n       <use x=\"644.580078\" xlink:href=\"#DejaVuSans-104\"/>\n       <use x=\"707.958984\" xlink:href=\"#DejaVuSans-101\"/>\n       <use x=\"769.482422\" xlink:href=\"#DejaVuSans-32\"/>\n       <use x=\"801.269531\" xlink:href=\"#DejaVuSans-115\"/>\n       <use x=\"853.369141\" xlink:href=\"#DejaVuSans-107\"/>\n       <use x=\"911.279297\" xlink:href=\"#DejaVuSans-105\"/>\n       <use x=\"939.0625\" xlink:href=\"#DejaVuSans-110\"/>\n       <use x=\"1002.441406\" xlink:href=\"#DejaVuSans-32\"/>\n       <use x=\"1034.228516\" xlink:href=\"#DejaVuSans-97\"/>\n       <use x=\"1095.507812\" xlink:href=\"#DejaVuSans-110\"/>\n       <use x=\"1158.886719\" xlink:href=\"#DejaVuSans-100\"/>\n       <use x=\"1222.363281\" xlink:href=\"#DejaVuSans-32\"/>\n       <use x=\"1254.150391\" xlink:href=\"#DejaVuSans-115\"/>\n       <use x=\"1306.25\" xlink:href=\"#DejaVuSans-117\"/>\n       <use x=\"1369.628906\" xlink:href=\"#DejaVuSans-98\"/>\n       <use x=\"1433.105469\" xlink:href=\"#DejaVuSans-99\"/>\n       <use x=\"1488.085938\" xlink:href=\"#DejaVuSans-117\"/>\n       <use x=\"1551.464844\" xlink:href=\"#DejaVuSans-116\"/>\n       <use x=\"1590.673828\" xlink:href=\"#DejaVuSans-97\"/>\n       <use x=\"1651.953125\" xlink:href=\"#DejaVuSans-110\"/>\n       <use x=\"1715.332031\" xlink:href=\"#DejaVuSans-101\"/>\n       <use x=\"1776.855469\" xlink:href=\"#DejaVuSans-111\"/>\n       <use x=\"1838.037109\" xlink:href=\"#DejaVuSans-117\"/>\n       <use x=\"1901.416016\" xlink:href=\"#DejaVuSans-115\"/>\n       <use x=\"1953.515625\" xlink:href=\"#DejaVuSans-32\"/>\n       <use x=\"1985.302734\" xlink:href=\"#DejaVuSans-116\"/>\n       <use x=\"2024.511719\" xlink:href=\"#DejaVuSans-105\"/>\n       <use x=\"2052.294922\" xlink:href=\"#DejaVuSans-115\"/>\n       <use x=\"2104.394531\" xlink:href=\"#DejaVuSans-115\"/>\n       <use x=\"2156.494141\" xlink:href=\"#DejaVuSans-117\"/>\n       <use x=\"2219.873047\" xlink:href=\"#DejaVuSans-101\"/>\n      </g>\n     </g>\n    </g>\n    <g id=\"ytick_13\">\n     <g id=\"line2d_20\">\n      <g>\n       <use style=\"stroke:#000000;stroke-width:0.8;\" x=\"538.020313\" xlink:href=\"#m5552c7ca51\" y=\"80.638125\"/>\n      </g>\n     </g>\n     <g id=\"text_19\">\n      <!-- Diseases of the musculoskeletal system and connective tissue -->\n      <g transform=\"translate(217.96875 84.437344)scale(0.1 -0.1)\">\n       <use xlink:href=\"#DejaVuSans-68\"/>\n       <use x=\"77.001953\" xlink:href=\"#DejaVuSans-105\"/>\n       <use x=\"104.785156\" xlink:href=\"#DejaVuSans-115\"/>\n       <use x=\"156.884766\" xlink:href=\"#DejaVuSans-101\"/>\n       <use x=\"218.408203\" xlink:href=\"#DejaVuSans-97\"/>\n       <use x=\"279.6875\" xlink:href=\"#DejaVuSans-115\"/>\n       <use x=\"331.787109\" xlink:href=\"#DejaVuSans-101\"/>\n       <use x=\"393.310547\" xlink:href=\"#DejaVuSans-115\"/>\n       <use x=\"445.410156\" xlink:href=\"#DejaVuSans-32\"/>\n       <use x=\"477.197266\" xlink:href=\"#DejaVuSans-111\"/>\n       <use x=\"538.378906\" xlink:href=\"#DejaVuSans-102\"/>\n       <use x=\"573.583984\" xlink:href=\"#DejaVuSans-32\"/>\n       <use x=\"605.371094\" xlink:href=\"#DejaVuSans-116\"/>\n       <use x=\"644.580078\" xlink:href=\"#DejaVuSans-104\"/>\n       <use x=\"707.958984\" xlink:href=\"#DejaVuSans-101\"/>\n       <use x=\"769.482422\" xlink:href=\"#DejaVuSans-32\"/>\n       <use x=\"801.269531\" xlink:href=\"#DejaVuSans-109\"/>\n       <use x=\"898.681641\" xlink:href=\"#DejaVuSans-117\"/>\n       <use x=\"962.060547\" xlink:href=\"#DejaVuSans-115\"/>\n       <use x=\"1014.160156\" xlink:href=\"#DejaVuSans-99\"/>\n       <use x=\"1069.140625\" xlink:href=\"#DejaVuSans-117\"/>\n       <use x=\"1132.519531\" xlink:href=\"#DejaVuSans-108\"/>\n       <use x=\"1160.302734\" xlink:href=\"#DejaVuSans-111\"/>\n       <use x=\"1221.484375\" xlink:href=\"#DejaVuSans-115\"/>\n       <use x=\"1273.583984\" xlink:href=\"#DejaVuSans-107\"/>\n       <use x=\"1331.447266\" xlink:href=\"#DejaVuSans-101\"/>\n       <use x=\"1392.970703\" xlink:href=\"#DejaVuSans-108\"/>\n       <use x=\"1420.753906\" xlink:href=\"#DejaVuSans-101\"/>\n       <use x=\"1482.277344\" xlink:href=\"#DejaVuSans-116\"/>\n       <use x=\"1521.486328\" xlink:href=\"#DejaVuSans-97\"/>\n       <use x=\"1582.765625\" xlink:href=\"#DejaVuSans-108\"/>\n       <use x=\"1610.548828\" xlink:href=\"#DejaVuSans-32\"/>\n       <use x=\"1642.335938\" xlink:href=\"#DejaVuSans-115\"/>\n       <use x=\"1694.435547\" xlink:href=\"#DejaVuSans-121\"/>\n       <use x=\"1753.615234\" xlink:href=\"#DejaVuSans-115\"/>\n       <use x=\"1805.714844\" xlink:href=\"#DejaVuSans-116\"/>\n       <use x=\"1844.923828\" xlink:href=\"#DejaVuSans-101\"/>\n       <use x=\"1906.447266\" xlink:href=\"#DejaVuSans-109\"/>\n       <use x=\"2003.859375\" xlink:href=\"#DejaVuSans-32\"/>\n       <use x=\"2035.646484\" xlink:href=\"#DejaVuSans-97\"/>\n       <use x=\"2096.925781\" xlink:href=\"#DejaVuSans-110\"/>\n       <use x=\"2160.304688\" xlink:href=\"#DejaVuSans-100\"/>\n       <use x=\"2223.78125\" xlink:href=\"#DejaVuSans-32\"/>\n       <use x=\"2255.568359\" xlink:href=\"#DejaVuSans-99\"/>\n       <use x=\"2310.548828\" xlink:href=\"#DejaVuSans-111\"/>\n       <use x=\"2371.730469\" xlink:href=\"#DejaVuSans-110\"/>\n       <use x=\"2435.109375\" xlink:href=\"#DejaVuSans-110\"/>\n       <use x=\"2498.488281\" xlink:href=\"#DejaVuSans-101\"/>\n       <use x=\"2560.011719\" xlink:href=\"#DejaVuSans-99\"/>\n       <use x=\"2614.992188\" xlink:href=\"#DejaVuSans-116\"/>\n       <use x=\"2654.201172\" xlink:href=\"#DejaVuSans-105\"/>\n       <use x=\"2681.984375\" xlink:href=\"#DejaVuSans-118\"/>\n       <use x=\"2741.164062\" xlink:href=\"#DejaVuSans-101\"/>\n       <use x=\"2802.6875\" xlink:href=\"#DejaVuSans-32\"/>\n       <use x=\"2834.474609\" xlink:href=\"#DejaVuSans-116\"/>\n       <use x=\"2873.683594\" xlink:href=\"#DejaVuSans-105\"/>\n       <use x=\"2901.466797\" xlink:href=\"#DejaVuSans-115\"/>\n       <use x=\"2953.566406\" xlink:href=\"#DejaVuSans-115\"/>\n       <use x=\"3005.666016\" xlink:href=\"#DejaVuSans-117\"/>\n       <use x=\"3069.044922\" xlink:href=\"#DejaVuSans-101\"/>\n      </g>\n     </g>\n    </g>\n    <g id=\"ytick_14\">\n     <g id=\"line2d_21\">\n      <g>\n       <use style=\"stroke:#000000;stroke-width:0.8;\" x=\"538.020313\" xlink:href=\"#m5552c7ca51\" y=\"59.038125\"/>\n      </g>\n     </g>\n     <g id=\"text_20\">\n      <!-- Diseases of the genitourinary system -->\n      <g transform=\"translate(344.1875 62.837344)scale(0.1 -0.1)\">\n       <use xlink:href=\"#DejaVuSans-68\"/>\n       <use x=\"77.001953\" xlink:href=\"#DejaVuSans-105\"/>\n       <use x=\"104.785156\" xlink:href=\"#DejaVuSans-115\"/>\n       <use x=\"156.884766\" xlink:href=\"#DejaVuSans-101\"/>\n       <use x=\"218.408203\" xlink:href=\"#DejaVuSans-97\"/>\n       <use x=\"279.6875\" xlink:href=\"#DejaVuSans-115\"/>\n       <use x=\"331.787109\" xlink:href=\"#DejaVuSans-101\"/>\n       <use x=\"393.310547\" xlink:href=\"#DejaVuSans-115\"/>\n       <use x=\"445.410156\" xlink:href=\"#DejaVuSans-32\"/>\n       <use x=\"477.197266\" xlink:href=\"#DejaVuSans-111\"/>\n       <use x=\"538.378906\" xlink:href=\"#DejaVuSans-102\"/>\n       <use x=\"573.583984\" xlink:href=\"#DejaVuSans-32\"/>\n       <use x=\"605.371094\" xlink:href=\"#DejaVuSans-116\"/>\n       <use x=\"644.580078\" xlink:href=\"#DejaVuSans-104\"/>\n       <use x=\"707.958984\" xlink:href=\"#DejaVuSans-101\"/>\n       <use x=\"769.482422\" xlink:href=\"#DejaVuSans-32\"/>\n       <use x=\"801.269531\" xlink:href=\"#DejaVuSans-103\"/>\n       <use x=\"864.746094\" xlink:href=\"#DejaVuSans-101\"/>\n       <use x=\"926.269531\" xlink:href=\"#DejaVuSans-110\"/>\n       <use x=\"989.648438\" xlink:href=\"#DejaVuSans-105\"/>\n       <use x=\"1017.431641\" xlink:href=\"#DejaVuSans-116\"/>\n       <use x=\"1056.640625\" xlink:href=\"#DejaVuSans-111\"/>\n       <use x=\"1117.822266\" xlink:href=\"#DejaVuSans-117\"/>\n       <use x=\"1181.201172\" xlink:href=\"#DejaVuSans-114\"/>\n       <use x=\"1222.314453\" xlink:href=\"#DejaVuSans-105\"/>\n       <use x=\"1250.097656\" xlink:href=\"#DejaVuSans-110\"/>\n       <use x=\"1313.476562\" xlink:href=\"#DejaVuSans-97\"/>\n       <use x=\"1374.755859\" xlink:href=\"#DejaVuSans-114\"/>\n       <use x=\"1415.869141\" xlink:href=\"#DejaVuSans-121\"/>\n       <use x=\"1475.048828\" xlink:href=\"#DejaVuSans-32\"/>\n       <use x=\"1506.835938\" xlink:href=\"#DejaVuSans-115\"/>\n       <use x=\"1558.935547\" xlink:href=\"#DejaVuSans-121\"/>\n       <use x=\"1618.115234\" xlink:href=\"#DejaVuSans-115\"/>\n       <use x=\"1670.214844\" xlink:href=\"#DejaVuSans-116\"/>\n       <use x=\"1709.423828\" xlink:href=\"#DejaVuSans-101\"/>\n       <use x=\"1770.947266\" xlink:href=\"#DejaVuSans-109\"/>\n      </g>\n     </g>\n    </g>\n    <g id=\"ytick_15\">\n     <g id=\"line2d_22\">\n      <g>\n       <use style=\"stroke:#000000;stroke-width:0.8;\" x=\"538.020313\" xlink:href=\"#m5552c7ca51\" y=\"37.438125\"/>\n      </g>\n     </g>\n     <g id=\"text_21\">\n      <!-- Congenital malformations, deformations and chromosomal abnormalities -->\n      <g transform=\"translate(163.71875 41.237344)scale(0.1 -0.1)\">\n       <use xlink:href=\"#DejaVuSans-67\"/>\n       <use x=\"69.824219\" xlink:href=\"#DejaVuSans-111\"/>\n       <use x=\"131.005859\" xlink:href=\"#DejaVuSans-110\"/>\n       <use x=\"194.384766\" xlink:href=\"#DejaVuSans-103\"/>\n       <use x=\"257.861328\" xlink:href=\"#DejaVuSans-101\"/>\n       <use x=\"319.384766\" xlink:href=\"#DejaVuSans-110\"/>\n       <use x=\"382.763672\" xlink:href=\"#DejaVuSans-105\"/>\n       <use x=\"410.546875\" xlink:href=\"#DejaVuSans-116\"/>\n       <use x=\"449.755859\" xlink:href=\"#DejaVuSans-97\"/>\n       <use x=\"511.035156\" xlink:href=\"#DejaVuSans-108\"/>\n       <use x=\"538.818359\" xlink:href=\"#DejaVuSans-32\"/>\n       <use x=\"570.605469\" xlink:href=\"#DejaVuSans-109\"/>\n       <use x=\"668.017578\" xlink:href=\"#DejaVuSans-97\"/>\n       <use x=\"729.296875\" xlink:href=\"#DejaVuSans-108\"/>\n       <use x=\"757.080078\" xlink:href=\"#DejaVuSans-102\"/>\n       <use x=\"792.285156\" xlink:href=\"#DejaVuSans-111\"/>\n       <use x=\"853.466797\" xlink:href=\"#DejaVuSans-114\"/>\n       <use x=\"894.564453\" xlink:href=\"#DejaVuSans-109\"/>\n       <use x=\"991.976562\" xlink:href=\"#DejaVuSans-97\"/>\n       <use x=\"1053.255859\" xlink:href=\"#DejaVuSans-116\"/>\n       <use x=\"1092.464844\" xlink:href=\"#DejaVuSans-105\"/>\n       <use x=\"1120.248047\" xlink:href=\"#DejaVuSans-111\"/>\n       <use x=\"1181.429688\" xlink:href=\"#DejaVuSans-110\"/>\n       <use x=\"1244.808594\" xlink:href=\"#DejaVuSans-115\"/>\n       <use x=\"1296.908203\" xlink:href=\"#DejaVuSans-44\"/>\n       <use x=\"1328.695312\" xlink:href=\"#DejaVuSans-32\"/>\n       <use x=\"1360.482422\" xlink:href=\"#DejaVuSans-100\"/>\n       <use x=\"1423.958984\" xlink:href=\"#DejaVuSans-101\"/>\n       <use x=\"1485.482422\" xlink:href=\"#DejaVuSans-102\"/>\n       <use x=\"1520.6875\" xlink:href=\"#DejaVuSans-111\"/>\n       <use x=\"1581.869141\" xlink:href=\"#DejaVuSans-114\"/>\n       <use x=\"1622.966797\" xlink:href=\"#DejaVuSans-109\"/>\n       <use x=\"1720.378906\" xlink:href=\"#DejaVuSans-97\"/>\n       <use x=\"1781.658203\" xlink:href=\"#DejaVuSans-116\"/>\n       <use x=\"1820.867188\" xlink:href=\"#DejaVuSans-105\"/>\n       <use x=\"1848.650391\" xlink:href=\"#DejaVuSans-111\"/>\n       <use x=\"1909.832031\" xlink:href=\"#DejaVuSans-110\"/>\n       <use x=\"1973.210938\" xlink:href=\"#DejaVuSans-115\"/>\n       <use x=\"2025.310547\" xlink:href=\"#DejaVuSans-32\"/>\n       <use x=\"2057.097656\" xlink:href=\"#DejaVuSans-97\"/>\n       <use x=\"2118.376953\" xlink:href=\"#DejaVuSans-110\"/>\n       <use x=\"2181.755859\" xlink:href=\"#DejaVuSans-100\"/>\n       <use x=\"2245.232422\" xlink:href=\"#DejaVuSans-32\"/>\n       <use x=\"2277.019531\" xlink:href=\"#DejaVuSans-99\"/>\n       <use x=\"2332\" xlink:href=\"#DejaVuSans-104\"/>\n       <use x=\"2395.378906\" xlink:href=\"#DejaVuSans-114\"/>\n       <use x=\"2436.460938\" xlink:href=\"#DejaVuSans-111\"/>\n       <use x=\"2497.642578\" xlink:href=\"#DejaVuSans-109\"/>\n       <use x=\"2595.054688\" xlink:href=\"#DejaVuSans-111\"/>\n       <use x=\"2656.236328\" xlink:href=\"#DejaVuSans-115\"/>\n       <use x=\"2708.335938\" xlink:href=\"#DejaVuSans-111\"/>\n       <use x=\"2769.517578\" xlink:href=\"#DejaVuSans-109\"/>\n       <use x=\"2866.929688\" xlink:href=\"#DejaVuSans-97\"/>\n       <use x=\"2928.208984\" xlink:href=\"#DejaVuSans-108\"/>\n       <use x=\"2955.992188\" xlink:href=\"#DejaVuSans-32\"/>\n       <use x=\"2987.779297\" xlink:href=\"#DejaVuSans-97\"/>\n       <use x=\"3049.058594\" xlink:href=\"#DejaVuSans-98\"/>\n       <use x=\"3112.535156\" xlink:href=\"#DejaVuSans-110\"/>\n       <use x=\"3175.914062\" xlink:href=\"#DejaVuSans-111\"/>\n       <use x=\"3237.095703\" xlink:href=\"#DejaVuSans-114\"/>\n       <use x=\"3278.193359\" xlink:href=\"#DejaVuSans-109\"/>\n       <use x=\"3375.605469\" xlink:href=\"#DejaVuSans-97\"/>\n       <use x=\"3436.884766\" xlink:href=\"#DejaVuSans-108\"/>\n       <use x=\"3464.667969\" xlink:href=\"#DejaVuSans-105\"/>\n       <use x=\"3492.451172\" xlink:href=\"#DejaVuSans-116\"/>\n       <use x=\"3531.660156\" xlink:href=\"#DejaVuSans-105\"/>\n       <use x=\"3559.443359\" xlink:href=\"#DejaVuSans-101\"/>\n       <use x=\"3620.966797\" xlink:href=\"#DejaVuSans-115\"/>\n      </g>\n     </g>\n    </g>\n   </g>\n   <g id=\"LineCollection_1\">\n    <path clip-path=\"url(#p3ad42c5468)\" d=\"M 826.537789 339.838125  L 849.122969 339.838125  \" style=\"fill:none;stroke:#0000ff;stroke-width:1.5;\"/>\n    <path clip-path=\"url(#p3ad42c5468)\" d=\"M 828.646341 318.238125  L 857.602131 318.238125  \" style=\"fill:none;stroke:#0000ff;stroke-width:1.5;\"/>\n    <path clip-path=\"url(#p3ad42c5468)\" d=\"M 816.045596 296.638125  L 850.735845 296.638125  \" style=\"fill:none;stroke:#0000ff;stroke-width:1.5;\"/>\n    <path clip-path=\"url(#p3ad42c5468)\" d=\"M 816.550904 275.038125  L 841.49025 275.038125  \" style=\"fill:none;stroke:#0000ff;stroke-width:1.5;\"/>\n    <path clip-path=\"url(#p3ad42c5468)\" d=\"M 824.085618 253.438125  L 846.254906 253.438125  \" style=\"fill:none;stroke:#0000ff;stroke-width:1.5;\"/>\n    <path clip-path=\"url(#p3ad42c5468)\" d=\"M 814.348506 231.838125  L 839.00126 231.838125  \" style=\"fill:none;stroke:#0000ff;stroke-width:1.5;\"/>\n    <path clip-path=\"url(#p3ad42c5468)\" d=\"M 814.405465 210.238125  L 840.442751 210.238125  \" style=\"fill:none;stroke:#0000ff;stroke-width:1.5;\"/>\n    <path clip-path=\"url(#p3ad42c5468)\" d=\"M 828.136497 188.638125  L 856.266844 188.638125  \" style=\"fill:none;stroke:#0000ff;stroke-width:1.5;\"/>\n    <path clip-path=\"url(#p3ad42c5468)\" d=\"M 824.936675 167.038125  L 848.780207 167.038125  \" style=\"fill:none;stroke:#0000ff;stroke-width:1.5;\"/>\n    <path clip-path=\"url(#p3ad42c5468)\" d=\"M 825.293089 145.438125  L 847.941857 145.438125  \" style=\"fill:none;stroke:#0000ff;stroke-width:1.5;\"/>\n    <path clip-path=\"url(#p3ad42c5468)\" d=\"M 821.771491 123.838125  L 845.286821 123.838125  \" style=\"fill:none;stroke:#0000ff;stroke-width:1.5;\"/>\n    <path clip-path=\"url(#p3ad42c5468)\" d=\"M 819.19629 102.238125  L 842.598892 102.238125  \" style=\"fill:none;stroke:#0000ff;stroke-width:1.5;\"/>\n    <path clip-path=\"url(#p3ad42c5468)\" d=\"M 823.755272 80.638125  L 845.864816 80.638125  \" style=\"fill:none;stroke:#0000ff;stroke-width:1.5;\"/>\n    <path clip-path=\"url(#p3ad42c5468)\" d=\"M 820.746996 59.038125  L 843.834923 59.038125  \" style=\"fill:none;stroke:#0000ff;stroke-width:1.5;\"/>\n    <path clip-path=\"url(#p3ad42c5468)\" d=\"M 819.645844 37.438125  L 848.767882 37.438125  \" style=\"fill:none;stroke:#0000ff;stroke-width:1.5;\"/>\n   </g>\n   <g id=\"line2d_23\">\n    <path clip-path=\"url(#p3ad42c5468)\" d=\"M 553.238494 354.958125  L 553.238494 22.318125  \" style=\"fill:none;stroke:#000000;stroke-dasharray:3.7,1.6;stroke-dashoffset:0;\"/>\n   </g>\n   <g id=\"line2d_24\">\n    <defs>\n     <path d=\"M 0 5  C 1.326016 5 2.597899 4.473168 3.535534 3.535534  C 4.473168 2.597899 5 1.326016 5 0  C 5 -1.326016 4.473168 -2.597899 3.535534 -3.535534  C 2.597899 -4.473168 1.326016 -5 0 -5  C -1.326016 -5 -2.597899 -4.473168 -3.535534 -3.535534  C -4.473168 -2.597899 -5 -1.326016 -5 0  C -5 1.326016 -4.473168 2.597899 -3.535534 3.535534  C -2.597899 4.473168 -1.326016 5 0 5  z \" id=\"mf7713cea22\" style=\"stroke:#0000ff;\"/>\n    </defs>\n    <g clip-path=\"url(#p3ad42c5468)\">\n     <use style=\"fill:#0000ff;stroke:#0000ff;\" x=\"838.233667\" xlink:href=\"#mf7713cea22\" y=\"339.838125\"/>\n     <use style=\"fill:#0000ff;stroke:#0000ff;\" x=\"843.786761\" xlink:href=\"#mf7713cea22\" y=\"318.238125\"/>\n     <use style=\"fill:#0000ff;stroke:#0000ff;\" x=\"834.341069\" xlink:href=\"#mf7713cea22\" y=\"296.638125\"/>\n     <use style=\"fill:#0000ff;stroke:#0000ff;\" x=\"829.512229\" xlink:href=\"#mf7713cea22\" y=\"275.038125\"/>\n     <use style=\"fill:#0000ff;stroke:#0000ff;\" x=\"835.558847\" xlink:href=\"#mf7713cea22\" y=\"253.438125\"/>\n     <use style=\"fill:#0000ff;stroke:#0000ff;\" x=\"827.155312\" xlink:href=\"#mf7713cea22\" y=\"231.838125\"/>\n     <use style=\"fill:#0000ff;stroke:#0000ff;\" x=\"827.959953\" xlink:href=\"#mf7713cea22\" y=\"210.238125\"/>\n     <use style=\"fill:#0000ff;stroke:#0000ff;\" x=\"842.82701\" xlink:href=\"#mf7713cea22\" y=\"188.638125\"/>\n     <use style=\"fill:#0000ff;stroke:#0000ff;\" x=\"837.307877\" xlink:href=\"#mf7713cea22\" y=\"167.038125\"/>\n     <use style=\"fill:#0000ff;stroke:#0000ff;\" x=\"837.023034\" xlink:href=\"#mf7713cea22\" y=\"145.438125\"/>\n     <use style=\"fill:#0000ff;stroke:#0000ff;\" x=\"833.966316\" xlink:href=\"#mf7713cea22\" y=\"123.838125\"/>\n     <use style=\"fill:#0000ff;stroke:#0000ff;\" x=\"831.330573\" xlink:href=\"#mf7713cea22\" y=\"102.238125\"/>\n     <use style=\"fill:#0000ff;stroke:#0000ff;\" x=\"835.196539\" xlink:href=\"#mf7713cea22\" y=\"80.638125\"/>\n     <use style=\"fill:#0000ff;stroke:#0000ff;\" x=\"832.712386\" xlink:href=\"#mf7713cea22\" y=\"59.038125\"/>\n     <use style=\"fill:#0000ff;stroke:#0000ff;\" x=\"834.877007\" xlink:href=\"#mf7713cea22\" y=\"37.438125\"/>\n    </g>\n   </g>\n   <g id=\"patch_3\">\n    <path d=\"M 538.020313 354.958125  L 538.020313 22.318125  \" style=\"fill:none;stroke:#000000;stroke-linecap:square;stroke-linejoin:miter;stroke-width:0.8;\"/>\n   </g>\n   <g id=\"patch_4\">\n    <path d=\"M 872.820312 354.958125  L 872.820312 22.318125  \" style=\"fill:none;stroke:#000000;stroke-linecap:square;stroke-linejoin:miter;stroke-width:0.8;\"/>\n   </g>\n   <g id=\"patch_5\">\n    <path d=\"M 538.020313 354.958125  L 872.820312 354.958125  \" style=\"fill:none;stroke:#000000;stroke-linecap:square;stroke-linejoin:miter;stroke-width:0.8;\"/>\n   </g>\n   <g id=\"patch_6\">\n    <path d=\"M 538.020313 22.318125  L 872.820312 22.318125  \" style=\"fill:none;stroke:#000000;stroke-linecap:square;stroke-linejoin:miter;stroke-width:0.8;\"/>\n   </g>\n   <g id=\"text_22\">\n    <!-- Risk ratio of vaccination in people with underlying diseases in different ICD10 categories -->\n    <defs>\n     <path d=\"M 4.203125 54.6875  L 13.1875 54.6875  L 24.421875 12.015625  L 35.59375 54.6875  L 46.1875 54.6875  L 57.421875 12.015625  L 68.609375 54.6875  L 77.59375 54.6875  L 63.28125 0  L 52.6875 0  L 40.921875 44.828125  L 29.109375 0  L 18.5 0  z \" id=\"DejaVuSans-119\"/>\n     <path d=\"M 9.8125 72.90625  L 19.671875 72.90625  L 19.671875 0  L 9.8125 0  z \" id=\"DejaVuSans-73\"/>\n    </defs>\n    <g transform=\"translate(438.660313 16.318125)scale(0.12 -0.12)\">\n     <use xlink:href=\"#DejaVuSans-82\"/>\n     <use x=\"69.482422\" xlink:href=\"#DejaVuSans-105\"/>\n     <use x=\"97.265625\" xlink:href=\"#DejaVuSans-115\"/>\n     <use x=\"149.365234\" xlink:href=\"#DejaVuSans-107\"/>\n     <use x=\"207.275391\" xlink:href=\"#DejaVuSans-32\"/>\n     <use x=\"239.0625\" xlink:href=\"#DejaVuSans-114\"/>\n     <use x=\"280.175781\" xlink:href=\"#DejaVuSans-97\"/>\n     <use x=\"341.455078\" xlink:href=\"#DejaVuSans-116\"/>\n     <use x=\"380.664062\" xlink:href=\"#DejaVuSans-105\"/>\n     <use x=\"408.447266\" xlink:href=\"#DejaVuSans-111\"/>\n     <use x=\"469.628906\" xlink:href=\"#DejaVuSans-32\"/>\n     <use x=\"501.416016\" xlink:href=\"#DejaVuSans-111\"/>\n     <use x=\"562.597656\" xlink:href=\"#DejaVuSans-102\"/>\n     <use x=\"597.802734\" xlink:href=\"#DejaVuSans-32\"/>\n     <use x=\"629.589844\" xlink:href=\"#DejaVuSans-118\"/>\n     <use x=\"688.769531\" xlink:href=\"#DejaVuSans-97\"/>\n     <use x=\"750.048828\" xlink:href=\"#DejaVuSans-99\"/>\n     <use x=\"805.029297\" xlink:href=\"#DejaVuSans-99\"/>\n     <use x=\"860.009766\" xlink:href=\"#DejaVuSans-105\"/>\n     <use x=\"887.792969\" xlink:href=\"#DejaVuSans-110\"/>\n     <use x=\"951.171875\" xlink:href=\"#DejaVuSans-97\"/>\n     <use x=\"1012.451172\" xlink:href=\"#DejaVuSans-116\"/>\n     <use x=\"1051.660156\" xlink:href=\"#DejaVuSans-105\"/>\n     <use x=\"1079.443359\" xlink:href=\"#DejaVuSans-111\"/>\n     <use x=\"1140.625\" xlink:href=\"#DejaVuSans-110\"/>\n     <use x=\"1204.003906\" xlink:href=\"#DejaVuSans-32\"/>\n     <use x=\"1235.791016\" xlink:href=\"#DejaVuSans-105\"/>\n     <use x=\"1263.574219\" xlink:href=\"#DejaVuSans-110\"/>\n     <use x=\"1326.953125\" xlink:href=\"#DejaVuSans-32\"/>\n     <use x=\"1358.740234\" xlink:href=\"#DejaVuSans-112\"/>\n     <use x=\"1422.216797\" xlink:href=\"#DejaVuSans-101\"/>\n     <use x=\"1483.740234\" xlink:href=\"#DejaVuSans-111\"/>\n     <use x=\"1544.921875\" xlink:href=\"#DejaVuSans-112\"/>\n     <use x=\"1608.398438\" xlink:href=\"#DejaVuSans-108\"/>\n     <use x=\"1636.181641\" xlink:href=\"#DejaVuSans-101\"/>\n     <use x=\"1697.705078\" xlink:href=\"#DejaVuSans-32\"/>\n     <use x=\"1729.492188\" xlink:href=\"#DejaVuSans-119\"/>\n     <use x=\"1811.279297\" xlink:href=\"#DejaVuSans-105\"/>\n     <use x=\"1839.0625\" xlink:href=\"#DejaVuSans-116\"/>\n     <use x=\"1878.271484\" xlink:href=\"#DejaVuSans-104\"/>\n     <use x=\"1941.650391\" xlink:href=\"#DejaVuSans-32\"/>\n     <use x=\"1973.4375\" xlink:href=\"#DejaVuSans-117\"/>\n     <use x=\"2036.816406\" xlink:href=\"#DejaVuSans-110\"/>\n     <use x=\"2100.195312\" xlink:href=\"#DejaVuSans-100\"/>\n     <use x=\"2163.671875\" xlink:href=\"#DejaVuSans-101\"/>\n     <use x=\"2225.195312\" xlink:href=\"#DejaVuSans-114\"/>\n     <use x=\"2266.308594\" xlink:href=\"#DejaVuSans-108\"/>\n     <use x=\"2294.091797\" xlink:href=\"#DejaVuSans-121\"/>\n     <use x=\"2353.271484\" xlink:href=\"#DejaVuSans-105\"/>\n     <use x=\"2381.054688\" xlink:href=\"#DejaVuSans-110\"/>\n     <use x=\"2444.433594\" xlink:href=\"#DejaVuSans-103\"/>\n     <use x=\"2507.910156\" xlink:href=\"#DejaVuSans-32\"/>\n     <use x=\"2539.697266\" xlink:href=\"#DejaVuSans-100\"/>\n     <use x=\"2603.173828\" xlink:href=\"#DejaVuSans-105\"/>\n     <use x=\"2630.957031\" xlink:href=\"#DejaVuSans-115\"/>\n     <use x=\"2683.056641\" xlink:href=\"#DejaVuSans-101\"/>\n     <use x=\"2744.580078\" xlink:href=\"#DejaVuSans-97\"/>\n     <use x=\"2805.859375\" xlink:href=\"#DejaVuSans-115\"/>\n     <use x=\"2857.958984\" xlink:href=\"#DejaVuSans-101\"/>\n     <use x=\"2919.482422\" xlink:href=\"#DejaVuSans-115\"/>\n     <use x=\"2971.582031\" xlink:href=\"#DejaVuSans-32\"/>\n     <use x=\"3003.369141\" xlink:href=\"#DejaVuSans-105\"/>\n     <use x=\"3031.152344\" xlink:href=\"#DejaVuSans-110\"/>\n     <use x=\"3094.53125\" xlink:href=\"#DejaVuSans-32\"/>\n     <use x=\"3126.318359\" xlink:href=\"#DejaVuSans-100\"/>\n     <use x=\"3189.794922\" xlink:href=\"#DejaVuSans-105\"/>\n     <use x=\"3217.578125\" xlink:href=\"#DejaVuSans-102\"/>\n     <use x=\"3252.783203\" xlink:href=\"#DejaVuSans-102\"/>\n     <use x=\"3287.988281\" xlink:href=\"#DejaVuSans-101\"/>\n     <use x=\"3349.511719\" xlink:href=\"#DejaVuSans-114\"/>\n     <use x=\"3390.59375\" xlink:href=\"#DejaVuSans-101\"/>\n     <use x=\"3452.117188\" xlink:href=\"#DejaVuSans-110\"/>\n     <use x=\"3515.496094\" xlink:href=\"#DejaVuSans-116\"/>\n     <use x=\"3554.705078\" xlink:href=\"#DejaVuSans-32\"/>\n     <use x=\"3586.492188\" xlink:href=\"#DejaVuSans-73\"/>\n     <use x=\"3615.984375\" xlink:href=\"#DejaVuSans-67\"/>\n     <use x=\"3685.808594\" xlink:href=\"#DejaVuSans-68\"/>\n     <use x=\"3762.810547\" xlink:href=\"#DejaVuSans-49\"/>\n     <use x=\"3826.433594\" xlink:href=\"#DejaVuSans-48\"/>\n     <use x=\"3890.056641\" xlink:href=\"#DejaVuSans-32\"/>\n     <use x=\"3921.84375\" xlink:href=\"#DejaVuSans-99\"/>\n     <use x=\"3976.824219\" xlink:href=\"#DejaVuSans-97\"/>\n     <use x=\"4038.103516\" xlink:href=\"#DejaVuSans-116\"/>\n     <use x=\"4077.3125\" xlink:href=\"#DejaVuSans-101\"/>\n     <use x=\"4138.835938\" xlink:href=\"#DejaVuSans-103\"/>\n     <use x=\"4202.3125\" xlink:href=\"#DejaVuSans-111\"/>\n     <use x=\"4263.494141\" xlink:href=\"#DejaVuSans-114\"/>\n     <use x=\"4304.607422\" xlink:href=\"#DejaVuSans-105\"/>\n     <use x=\"4332.390625\" xlink:href=\"#DejaVuSans-101\"/>\n     <use x=\"4393.914062\" xlink:href=\"#DejaVuSans-115\"/>\n    </g>\n   </g>\n  </g>\n </g>\n <defs>\n  <clipPath id=\"p3ad42c5468\">\n   <rect height=\"332.64\" width=\"334.8\" x=\"538.020313\" y=\"22.318125\"/>\n  </clipPath>\n </defs>\n</svg>",
      "text/plain": [
       "<IPython.core.display.SVG object>"
      ]
     },
     "execution_count": 14,
     "metadata": {},
     "output_type": "execute_result"
    }
   ],
   "source": [
    "# Figure 5\n",
    "SVG(filename='analysis_euler/1c_AE_RR.svg')"
   ]
  },
  {
   "cell_type": "markdown",
   "metadata": {},
   "source": [
    "## 2) Effect of the vaccination on mortality"
   ]
  },
  {
   "cell_type": "markdown",
   "metadata": {},
   "source": [
    "### 2a) Comparison of mortality rate after vaccination of vaccinated and unvaccinated people"
   ]
  },
  {
   "cell_type": "markdown",
   "metadata": {},
   "source": [
    "When comparing the number of deaths of the entire study population, vaccinated people showed a higher mortality rate (0.826 per thousand subjects) than the unvaccinated group (0.738 per thousand subjects). Table 5 lists the subjects that died (event) and the subjects that did not die (no event) since the vaccination date or the randomly allocated issue date, respectively."
   ]
  },
  {
   "cell_type": "code",
   "execution_count": 15,
   "metadata": {},
   "outputs": [
    {
     "data": {
      "text/html": [
       "<div>\n",
       "<style scoped>\n",
       "    .dataframe tbody tr th:only-of-type {\n",
       "        vertical-align: middle;\n",
       "    }\n",
       "\n",
       "    .dataframe tbody tr th {\n",
       "        vertical-align: top;\n",
       "    }\n",
       "\n",
       "    .dataframe thead th {\n",
       "        text-align: right;\n",
       "    }\n",
       "</style>\n",
       "<table border=\"1\" class=\"dataframe\">\n",
       "  <thead>\n",
       "    <tr style=\"text-align: right;\">\n",
       "      <th></th>\n",
       "      <th>Unnamed: 0</th>\n",
       "      <th>event</th>\n",
       "      <th>no event</th>\n",
       "      <th>Total</th>\n",
       "    </tr>\n",
       "  </thead>\n",
       "  <tbody>\n",
       "    <tr>\n",
       "      <th>0</th>\n",
       "      <td>Vaccinated</td>\n",
       "      <td>121.0</td>\n",
       "      <td>146336.0</td>\n",
       "      <td>146457.0</td>\n",
       "    </tr>\n",
       "    <tr>\n",
       "      <th>1</th>\n",
       "      <td>Not vaccinated</td>\n",
       "      <td>371.0</td>\n",
       "      <td>502089.0</td>\n",
       "      <td>502460.0</td>\n",
       "    </tr>\n",
       "    <tr>\n",
       "      <th>2</th>\n",
       "      <td>Total</td>\n",
       "      <td>492.0</td>\n",
       "      <td>648425.0</td>\n",
       "      <td>648917.0</td>\n",
       "    </tr>\n",
       "  </tbody>\n",
       "</table>\n",
       "</div>"
      ],
      "text/plain": [
       "       Unnamed: 0  event  no event     Total\n",
       "0      Vaccinated  121.0  146336.0  146457.0\n",
       "1  Not vaccinated  371.0  502089.0  502460.0\n",
       "2           Total  492.0  648425.0  648917.0"
      ]
     },
     "execution_count": 15,
     "metadata": {},
     "output_type": "execute_result"
    }
   ],
   "source": [
    "# Table 5\n",
    "table = pd.read_csv('analysis_euler/2a_contigency_table.csv') \n",
    "table"
   ]
  },
  {
   "cell_type": "markdown",
   "metadata": {},
   "source": [
    "The relation between vaccination and death in the entire study population was not significant (X2 (1, N = 648917) = 1.041, p = .308), with the occurrence of death being more likely in the unvaccinated subjects."
   ]
  },
  {
   "cell_type": "markdown",
   "metadata": {},
   "source": [
    "The risk of experiencing an adverse event among vaccinated subjects was 1.1 times higher than among unvaccinated subjects (RR: 1.1, CI: 0.91 - 1.37)."
   ]
  },
  {
   "cell_type": "markdown",
   "metadata": {},
   "source": [
    "### 2b) Same comparison in subset of subjects with underlying medical condition"
   ]
  },
  {
   "cell_type": "markdown",
   "metadata": {},
   "source": [
    "When subset the population to only the subjects with underlying medical conditions, the unvaccinated people showed a higher mortality rate (2.051 per thousand subjects) than the vaccinated group (0.828 per thousand subjects). Table 6 lists the subjects that died (event) and the subjects that did not die (no event) since after the vaccination or the randomly allocated issue date, respectively."
   ]
  },
  {
   "cell_type": "code",
   "execution_count": 16,
   "metadata": {},
   "outputs": [
    {
     "data": {
      "text/html": [
       "<div>\n",
       "<style scoped>\n",
       "    .dataframe tbody tr th:only-of-type {\n",
       "        vertical-align: middle;\n",
       "    }\n",
       "\n",
       "    .dataframe tbody tr th {\n",
       "        vertical-align: top;\n",
       "    }\n",
       "\n",
       "    .dataframe thead th {\n",
       "        text-align: right;\n",
       "    }\n",
       "</style>\n",
       "<table border=\"1\" class=\"dataframe\">\n",
       "  <thead>\n",
       "    <tr style=\"text-align: right;\">\n",
       "      <th></th>\n",
       "      <th>Unnamed: 0</th>\n",
       "      <th>event</th>\n",
       "      <th>no event</th>\n",
       "      <th>Total</th>\n",
       "    </tr>\n",
       "  </thead>\n",
       "  <tbody>\n",
       "    <tr>\n",
       "      <th>0</th>\n",
       "      <td>Vaccinated</td>\n",
       "      <td>121.0</td>\n",
       "      <td>146046.0</td>\n",
       "      <td>146167.0</td>\n",
       "    </tr>\n",
       "    <tr>\n",
       "      <th>1</th>\n",
       "      <td>Not vaccinated</td>\n",
       "      <td>82.0</td>\n",
       "      <td>39890.0</td>\n",
       "      <td>39972.0</td>\n",
       "    </tr>\n",
       "    <tr>\n",
       "      <th>2</th>\n",
       "      <td>Total</td>\n",
       "      <td>203.0</td>\n",
       "      <td>185936.0</td>\n",
       "      <td>186139.0</td>\n",
       "    </tr>\n",
       "  </tbody>\n",
       "</table>\n",
       "</div>"
      ],
      "text/plain": [
       "       Unnamed: 0  event  no event     Total\n",
       "0      Vaccinated  121.0  146046.0  146167.0\n",
       "1  Not vaccinated   82.0   39890.0   39972.0\n",
       "2           Total  203.0  185936.0  186139.0"
      ]
     },
     "execution_count": 16,
     "metadata": {},
     "output_type": "execute_result"
    }
   ],
   "source": [
    "# Table 6\n",
    "table = pd.read_csv('analysis_euler/2b_contigency_table.csv') \n",
    "table "
   ]
  },
  {
   "cell_type": "markdown",
   "metadata": {},
   "source": [
    "The vaccination status had a significant effect on death (X2 (1, N = 186139) = 23.376, p = .0), with the unvaccinated subjects being more likely to die compared to the unvaccinated individuals."
   ]
  },
  {
   "cell_type": "markdown",
   "metadata": {},
   "source": [
    "The risk of death among vaccinated subjects was 0.4 times as high as among unvaccinated subjects (RR: 0.4, CI: 0.30 - 0.53)."
   ]
  },
  {
   "cell_type": "markdown",
   "metadata": {},
   "source": [
    "The risk ratios of analyses 2a) and 2b) are illustrated in figure 6."
   ]
  },
  {
   "cell_type": "code",
   "execution_count": 17,
   "metadata": {},
   "outputs": [
    {
     "data": {
      "image/svg+xml": "<svg xmlns=\"http://www.w3.org/2000/svg\" xmlns:xlink=\"http://www.w3.org/1999/xlink\" height=\"392.514375pt\" version=\"1.1\" viewBox=\"0 0 639.555 392.514375\" width=\"639.555pt\">\n <defs>\n  <style type=\"text/css\">\n*{stroke-linecap:butt;stroke-linejoin:round;}\n  </style>\n </defs>\n <g id=\"figure_1\">\n  <g id=\"patch_1\">\n   <path d=\"M -0 392.514375  L 639.555 392.514375  L 639.555 0  L -0 0  z \" style=\"fill:#ffffff;\"/>\n  </g>\n  <g id=\"axes_1\">\n   <g id=\"patch_2\">\n    <path d=\"M 175.1625 354.958125  L 509.9625 354.958125  L 509.9625 22.318125  L 175.1625 22.318125  z \" style=\"fill:#ffffff;\"/>\n   </g>\n   <g id=\"matplotlib.axis_1\">\n    <g id=\"xtick_1\">\n     <g id=\"line2d_1\">\n      <defs>\n       <path d=\"M 0 0  L 0 3.5  \" id=\"mdc4ca51147\" style=\"stroke:#000000;stroke-width:0.8;\"/>\n      </defs>\n      <g>\n       <use style=\"stroke:#000000;stroke-width:0.8;\" x=\"436.260028\" xlink:href=\"#mdc4ca51147\" y=\"354.958125\"/>\n      </g>\n     </g>\n     <g id=\"text_1\">\n      <!-- $\\mathdefault{10^{0}}$ -->\n      <defs>\n       <path d=\"M 12.40625 8.296875  L 28.515625 8.296875  L 28.515625 63.921875  L 10.984375 60.40625  L 10.984375 69.390625  L 28.421875 72.90625  L 38.28125 72.90625  L 38.28125 8.296875  L 54.390625 8.296875  L 54.390625 0  L 12.40625 0  z \" id=\"DejaVuSans-49\"/>\n       <path d=\"M 31.78125 66.40625  Q 24.171875 66.40625 20.328125 58.90625  Q 16.5 51.421875 16.5 36.375  Q 16.5 21.390625 20.328125 13.890625  Q 24.171875 6.390625 31.78125 6.390625  Q 39.453125 6.390625 43.28125 13.890625  Q 47.125 21.390625 47.125 36.375  Q 47.125 51.421875 43.28125 58.90625  Q 39.453125 66.40625 31.78125 66.40625  z M 31.78125 74.21875  Q 44.046875 74.21875 50.515625 64.515625  Q 56.984375 54.828125 56.984375 36.375  Q 56.984375 17.96875 50.515625 8.265625  Q 44.046875 -1.421875 31.78125 -1.421875  Q 19.53125 -1.421875 13.0625 8.265625  Q 6.59375 17.96875 6.59375 36.375  Q 6.59375 54.828125 13.0625 64.515625  Q 19.53125 74.21875 31.78125 74.21875  z \" id=\"DejaVuSans-48\"/>\n      </defs>\n      <g transform=\"translate(427.460028 369.556562)scale(0.1 -0.1)\">\n       <use transform=\"translate(0 0.765625)\" xlink:href=\"#DejaVuSans-49\"/>\n       <use transform=\"translate(63.623047 0.765625)\" xlink:href=\"#DejaVuSans-48\"/>\n       <use transform=\"translate(128.203125 39.046875)scale(0.7)\" xlink:href=\"#DejaVuSans-48\"/>\n      </g>\n     </g>\n    </g>\n    <g id=\"xtick_2\">\n     <g id=\"line2d_2\">\n      <defs>\n       <path d=\"M 0 0  L 0 2  \" id=\"mb38d5f2ed4\" style=\"stroke:#000000;stroke-width:0.6;\"/>\n      </defs>\n      <g>\n       <use style=\"stroke:#000000;stroke-width:0.6;\" x=\"186.997899\" xlink:href=\"#mb38d5f2ed4\" y=\"354.958125\"/>\n      </g>\n     </g>\n     <g id=\"text_2\">\n      <!-- $\\mathdefault{3\\times10^{-1}}$ -->\n      <defs>\n       <path d=\"M 40.578125 39.3125  Q 47.65625 37.796875 51.625 33  Q 55.609375 28.21875 55.609375 21.1875  Q 55.609375 10.40625 48.1875 4.484375  Q 40.765625 -1.421875 27.09375 -1.421875  Q 22.515625 -1.421875 17.65625 -0.515625  Q 12.796875 0.390625 7.625 2.203125  L 7.625 11.71875  Q 11.71875 9.328125 16.59375 8.109375  Q 21.484375 6.890625 26.8125 6.890625  Q 36.078125 6.890625 40.9375 10.546875  Q 45.796875 14.203125 45.796875 21.1875  Q 45.796875 27.640625 41.28125 31.265625  Q 36.765625 34.90625 28.71875 34.90625  L 20.21875 34.90625  L 20.21875 43.015625  L 29.109375 43.015625  Q 36.375 43.015625 40.234375 45.921875  Q 44.09375 48.828125 44.09375 54.296875  Q 44.09375 59.90625 40.109375 62.90625  Q 36.140625 65.921875 28.71875 65.921875  Q 24.65625 65.921875 20.015625 65.03125  Q 15.375 64.15625 9.8125 62.3125  L 9.8125 71.09375  Q 15.4375 72.65625 20.34375 73.4375  Q 25.25 74.21875 29.59375 74.21875  Q 40.828125 74.21875 47.359375 69.109375  Q 53.90625 64.015625 53.90625 55.328125  Q 53.90625 49.265625 50.4375 45.09375  Q 46.96875 40.921875 40.578125 39.3125  z \" id=\"DejaVuSans-51\"/>\n       <path d=\"M 70.125 53.71875  L 47.796875 31.296875  L 70.125 8.984375  L 64.3125 3.078125  L 41.890625 25.484375  L 19.484375 3.078125  L 13.71875 8.984375  L 35.984375 31.296875  L 13.71875 53.71875  L 19.484375 59.625  L 41.890625 37.203125  L 64.3125 59.625  z \" id=\"DejaVuSans-215\"/>\n       <path d=\"M 10.59375 35.5  L 73.1875 35.5  L 73.1875 27.203125  L 10.59375 27.203125  z \" id=\"DejaVuSans-8722\"/>\n      </defs>\n      <g transform=\"translate(165.947899 367.956562)scale(0.1 -0.1)\">\n       <use transform=\"translate(0 0.684375)\" xlink:href=\"#DejaVuSans-51\"/>\n       <use transform=\"translate(83.105469 0.684375)\" xlink:href=\"#DejaVuSans-215\"/>\n       <use transform=\"translate(186.376953 0.684375)\" xlink:href=\"#DejaVuSans-49\"/>\n       <use transform=\"translate(250 0.684375)\" xlink:href=\"#DejaVuSans-48\"/>\n       <use transform=\"translate(314.580078 38.965625)scale(0.7)\" xlink:href=\"#DejaVuSans-8722\"/>\n       <use transform=\"translate(373.232422 38.965625)scale(0.7)\" xlink:href=\"#DejaVuSans-49\"/>\n      </g>\n     </g>\n    </g>\n    <g id=\"xtick_3\">\n     <g id=\"line2d_3\">\n      <g>\n       <use style=\"stroke:#000000;stroke-width:0.6;\" x=\"246.557588\" xlink:href=\"#mb38d5f2ed4\" y=\"354.958125\"/>\n      </g>\n     </g>\n     <g id=\"text_3\">\n      <!-- $\\mathdefault{4\\times10^{-1}}$ -->\n      <defs>\n       <path d=\"M 37.796875 64.3125  L 12.890625 25.390625  L 37.796875 25.390625  z M 35.203125 72.90625  L 47.609375 72.90625  L 47.609375 25.390625  L 58.015625 25.390625  L 58.015625 17.1875  L 47.609375 17.1875  L 47.609375 0  L 37.796875 0  L 37.796875 17.1875  L 4.890625 17.1875  L 4.890625 26.703125  z \" id=\"DejaVuSans-52\"/>\n      </defs>\n      <g transform=\"translate(225.507588 367.956562)scale(0.1 -0.1)\">\n       <use transform=\"translate(0 0.684375)\" xlink:href=\"#DejaVuSans-52\"/>\n       <use transform=\"translate(83.105469 0.684375)\" xlink:href=\"#DejaVuSans-215\"/>\n       <use transform=\"translate(186.376953 0.684375)\" xlink:href=\"#DejaVuSans-49\"/>\n       <use transform=\"translate(250 0.684375)\" xlink:href=\"#DejaVuSans-48\"/>\n       <use transform=\"translate(314.580078 38.965625)scale(0.7)\" xlink:href=\"#DejaVuSans-8722\"/>\n       <use transform=\"translate(373.232422 38.965625)scale(0.7)\" xlink:href=\"#DejaVuSans-49\"/>\n      </g>\n     </g>\n    </g>\n    <g id=\"xtick_4\">\n     <g id=\"line2d_4\">\n      <g>\n       <use style=\"stroke:#000000;stroke-width:0.6;\" x=\"292.755672\" xlink:href=\"#mb38d5f2ed4\" y=\"354.958125\"/>\n      </g>\n     </g>\n    </g>\n    <g id=\"xtick_5\">\n     <g id=\"line2d_5\">\n      <g>\n       <use style=\"stroke:#000000;stroke-width:0.6;\" x=\"330.502255\" xlink:href=\"#mb38d5f2ed4\" y=\"354.958125\"/>\n      </g>\n     </g>\n     <g id=\"text_4\">\n      <!-- $\\mathdefault{6\\times10^{-1}}$ -->\n      <defs>\n       <path d=\"M 33.015625 40.375  Q 26.375 40.375 22.484375 35.828125  Q 18.609375 31.296875 18.609375 23.390625  Q 18.609375 15.53125 22.484375 10.953125  Q 26.375 6.390625 33.015625 6.390625  Q 39.65625 6.390625 43.53125 10.953125  Q 47.40625 15.53125 47.40625 23.390625  Q 47.40625 31.296875 43.53125 35.828125  Q 39.65625 40.375 33.015625 40.375  z M 52.59375 71.296875  L 52.59375 62.3125  Q 48.875 64.0625 45.09375 64.984375  Q 41.3125 65.921875 37.59375 65.921875  Q 27.828125 65.921875 22.671875 59.328125  Q 17.53125 52.734375 16.796875 39.40625  Q 19.671875 43.65625 24.015625 45.921875  Q 28.375 48.1875 33.59375 48.1875  Q 44.578125 48.1875 50.953125 41.515625  Q 57.328125 34.859375 57.328125 23.390625  Q 57.328125 12.15625 50.6875 5.359375  Q 44.046875 -1.421875 33.015625 -1.421875  Q 20.359375 -1.421875 13.671875 8.265625  Q 6.984375 17.96875 6.984375 36.375  Q 6.984375 53.65625 15.1875 63.9375  Q 23.390625 74.21875 37.203125 74.21875  Q 40.921875 74.21875 44.703125 73.484375  Q 48.484375 72.75 52.59375 71.296875  z \" id=\"DejaVuSans-54\"/>\n      </defs>\n      <g transform=\"translate(309.452255 367.956562)scale(0.1 -0.1)\">\n       <use transform=\"translate(0 0.684375)\" xlink:href=\"#DejaVuSans-54\"/>\n       <use transform=\"translate(83.105469 0.684375)\" xlink:href=\"#DejaVuSans-215\"/>\n       <use transform=\"translate(186.376953 0.684375)\" xlink:href=\"#DejaVuSans-49\"/>\n       <use transform=\"translate(250 0.684375)\" xlink:href=\"#DejaVuSans-48\"/>\n       <use transform=\"translate(314.580078 38.965625)scale(0.7)\" xlink:href=\"#DejaVuSans-8722\"/>\n       <use transform=\"translate(373.232422 38.965625)scale(0.7)\" xlink:href=\"#DejaVuSans-49\"/>\n      </g>\n     </g>\n    </g>\n    <g id=\"xtick_6\">\n     <g id=\"line2d_6\">\n      <g>\n       <use style=\"stroke:#000000;stroke-width:0.6;\" x=\"362.416536\" xlink:href=\"#mb38d5f2ed4\" y=\"354.958125\"/>\n      </g>\n     </g>\n    </g>\n    <g id=\"xtick_7\">\n     <g id=\"line2d_7\">\n      <g>\n       <use style=\"stroke:#000000;stroke-width:0.6;\" x=\"390.061944\" xlink:href=\"#mb38d5f2ed4\" y=\"354.958125\"/>\n      </g>\n     </g>\n    </g>\n    <g id=\"xtick_8\">\n     <g id=\"line2d_8\">\n      <g>\n       <use style=\"stroke:#000000;stroke-width:0.6;\" x=\"414.446922\" xlink:href=\"#mb38d5f2ed4\" y=\"354.958125\"/>\n      </g>\n     </g>\n    </g>\n    <g id=\"text_5\">\n     <!-- Risk Ratio (log scale) -->\n     <defs>\n      <path d=\"M 44.390625 34.1875  Q 47.5625 33.109375 50.5625 29.59375  Q 53.5625 26.078125 56.59375 19.921875  L 66.609375 0  L 56 0  L 46.6875 18.703125  Q 43.0625 26.03125 39.671875 28.421875  Q 36.28125 30.8125 30.421875 30.8125  L 19.671875 30.8125  L 19.671875 0  L 9.8125 0  L 9.8125 72.90625  L 32.078125 72.90625  Q 44.578125 72.90625 50.734375 67.671875  Q 56.890625 62.453125 56.890625 51.90625  Q 56.890625 45.015625 53.6875 40.46875  Q 50.484375 35.9375 44.390625 34.1875  z M 19.671875 64.796875  L 19.671875 38.921875  L 32.078125 38.921875  Q 39.203125 38.921875 42.84375 42.21875  Q 46.484375 45.515625 46.484375 51.90625  Q 46.484375 58.296875 42.84375 61.546875  Q 39.203125 64.796875 32.078125 64.796875  z \" id=\"DejaVuSans-82\"/>\n      <path d=\"M 9.421875 54.6875  L 18.40625 54.6875  L 18.40625 0  L 9.421875 0  z M 9.421875 75.984375  L 18.40625 75.984375  L 18.40625 64.59375  L 9.421875 64.59375  z \" id=\"DejaVuSans-105\"/>\n      <path d=\"M 44.28125 53.078125  L 44.28125 44.578125  Q 40.484375 46.53125 36.375 47.5  Q 32.28125 48.484375 27.875 48.484375  Q 21.1875 48.484375 17.84375 46.4375  Q 14.5 44.390625 14.5 40.28125  Q 14.5 37.15625 16.890625 35.375  Q 19.28125 33.59375 26.515625 31.984375  L 29.59375 31.296875  Q 39.15625 29.25 43.1875 25.515625  Q 47.21875 21.78125 47.21875 15.09375  Q 47.21875 7.46875 41.1875 3.015625  Q 35.15625 -1.421875 24.609375 -1.421875  Q 20.21875 -1.421875 15.453125 -0.5625  Q 10.6875 0.296875 5.421875 2  L 5.421875 11.28125  Q 10.40625 8.6875 15.234375 7.390625  Q 20.0625 6.109375 24.8125 6.109375  Q 31.15625 6.109375 34.5625 8.28125  Q 37.984375 10.453125 37.984375 14.40625  Q 37.984375 18.0625 35.515625 20.015625  Q 33.0625 21.96875 24.703125 23.78125  L 21.578125 24.515625  Q 13.234375 26.265625 9.515625 29.90625  Q 5.8125 33.546875 5.8125 39.890625  Q 5.8125 47.609375 11.28125 51.796875  Q 16.75 56 26.8125 56  Q 31.78125 56 36.171875 55.265625  Q 40.578125 54.546875 44.28125 53.078125  z \" id=\"DejaVuSans-115\"/>\n      <path d=\"M 9.078125 75.984375  L 18.109375 75.984375  L 18.109375 31.109375  L 44.921875 54.6875  L 56.390625 54.6875  L 27.390625 29.109375  L 57.625 0  L 45.90625 0  L 18.109375 26.703125  L 18.109375 0  L 9.078125 0  z \" id=\"DejaVuSans-107\"/>\n      <path id=\"DejaVuSans-32\"/>\n      <path d=\"M 34.28125 27.484375  Q 23.390625 27.484375 19.1875 25  Q 14.984375 22.515625 14.984375 16.5  Q 14.984375 11.71875 18.140625 8.90625  Q 21.296875 6.109375 26.703125 6.109375  Q 34.1875 6.109375 38.703125 11.40625  Q 43.21875 16.703125 43.21875 25.484375  L 43.21875 27.484375  z M 52.203125 31.203125  L 52.203125 0  L 43.21875 0  L 43.21875 8.296875  Q 40.140625 3.328125 35.546875 0.953125  Q 30.953125 -1.421875 24.3125 -1.421875  Q 15.921875 -1.421875 10.953125 3.296875  Q 6 8.015625 6 15.921875  Q 6 25.140625 12.171875 29.828125  Q 18.359375 34.515625 30.609375 34.515625  L 43.21875 34.515625  L 43.21875 35.40625  Q 43.21875 41.609375 39.140625 45  Q 35.0625 48.390625 27.6875 48.390625  Q 23 48.390625 18.546875 47.265625  Q 14.109375 46.140625 10.015625 43.890625  L 10.015625 52.203125  Q 14.9375 54.109375 19.578125 55.046875  Q 24.21875 56 28.609375 56  Q 40.484375 56 46.34375 49.84375  Q 52.203125 43.703125 52.203125 31.203125  z \" id=\"DejaVuSans-97\"/>\n      <path d=\"M 18.3125 70.21875  L 18.3125 54.6875  L 36.8125 54.6875  L 36.8125 47.703125  L 18.3125 47.703125  L 18.3125 18.015625  Q 18.3125 11.328125 20.140625 9.421875  Q 21.96875 7.515625 27.59375 7.515625  L 36.8125 7.515625  L 36.8125 0  L 27.59375 0  Q 17.1875 0 13.234375 3.875  Q 9.28125 7.765625 9.28125 18.015625  L 9.28125 47.703125  L 2.6875 47.703125  L 2.6875 54.6875  L 9.28125 54.6875  L 9.28125 70.21875  z \" id=\"DejaVuSans-116\"/>\n      <path d=\"M 30.609375 48.390625  Q 23.390625 48.390625 19.1875 42.75  Q 14.984375 37.109375 14.984375 27.296875  Q 14.984375 17.484375 19.15625 11.84375  Q 23.34375 6.203125 30.609375 6.203125  Q 37.796875 6.203125 41.984375 11.859375  Q 46.1875 17.53125 46.1875 27.296875  Q 46.1875 37.015625 41.984375 42.703125  Q 37.796875 48.390625 30.609375 48.390625  z M 30.609375 56  Q 42.328125 56 49.015625 48.375  Q 55.71875 40.765625 55.71875 27.296875  Q 55.71875 13.875 49.015625 6.21875  Q 42.328125 -1.421875 30.609375 -1.421875  Q 18.84375 -1.421875 12.171875 6.21875  Q 5.515625 13.875 5.515625 27.296875  Q 5.515625 40.765625 12.171875 48.375  Q 18.84375 56 30.609375 56  z \" id=\"DejaVuSans-111\"/>\n      <path d=\"M 31 75.875  Q 24.46875 64.65625 21.28125 53.65625  Q 18.109375 42.671875 18.109375 31.390625  Q 18.109375 20.125 21.3125 9.0625  Q 24.515625 -2 31 -13.1875  L 23.1875 -13.1875  Q 15.875 -1.703125 12.234375 9.375  Q 8.59375 20.453125 8.59375 31.390625  Q 8.59375 42.28125 12.203125 53.3125  Q 15.828125 64.359375 23.1875 75.875  z \" id=\"DejaVuSans-40\"/>\n      <path d=\"M 9.421875 75.984375  L 18.40625 75.984375  L 18.40625 0  L 9.421875 0  z \" id=\"DejaVuSans-108\"/>\n      <path d=\"M 45.40625 27.984375  Q 45.40625 37.75 41.375 43.109375  Q 37.359375 48.484375 30.078125 48.484375  Q 22.859375 48.484375 18.828125 43.109375  Q 14.796875 37.75 14.796875 27.984375  Q 14.796875 18.265625 18.828125 12.890625  Q 22.859375 7.515625 30.078125 7.515625  Q 37.359375 7.515625 41.375 12.890625  Q 45.40625 18.265625 45.40625 27.984375  z M 54.390625 6.78125  Q 54.390625 -7.171875 48.1875 -13.984375  Q 42 -20.796875 29.203125 -20.796875  Q 24.46875 -20.796875 20.265625 -20.09375  Q 16.0625 -19.390625 12.109375 -17.921875  L 12.109375 -9.1875  Q 16.0625 -11.328125 19.921875 -12.34375  Q 23.78125 -13.375 27.78125 -13.375  Q 36.625 -13.375 41.015625 -8.765625  Q 45.40625 -4.15625 45.40625 5.171875  L 45.40625 9.625  Q 42.625 4.78125 38.28125 2.390625  Q 33.9375 0 27.875 0  Q 17.828125 0 11.671875 7.65625  Q 5.515625 15.328125 5.515625 27.984375  Q 5.515625 40.671875 11.671875 48.328125  Q 17.828125 56 27.875 56  Q 33.9375 56 38.28125 53.609375  Q 42.625 51.21875 45.40625 46.390625  L 45.40625 54.6875  L 54.390625 54.6875  z \" id=\"DejaVuSans-103\"/>\n      <path d=\"M 48.78125 52.59375  L 48.78125 44.1875  Q 44.96875 46.296875 41.140625 47.34375  Q 37.3125 48.390625 33.40625 48.390625  Q 24.65625 48.390625 19.8125 42.84375  Q 14.984375 37.3125 14.984375 27.296875  Q 14.984375 17.28125 19.8125 11.734375  Q 24.65625 6.203125 33.40625 6.203125  Q 37.3125 6.203125 41.140625 7.25  Q 44.96875 8.296875 48.78125 10.40625  L 48.78125 2.09375  Q 45.015625 0.34375 40.984375 -0.53125  Q 36.96875 -1.421875 32.421875 -1.421875  Q 20.0625 -1.421875 12.78125 6.34375  Q 5.515625 14.109375 5.515625 27.296875  Q 5.515625 40.671875 12.859375 48.328125  Q 20.21875 56 33.015625 56  Q 37.15625 56 41.109375 55.140625  Q 45.0625 54.296875 48.78125 52.59375  z \" id=\"DejaVuSans-99\"/>\n      <path d=\"M 56.203125 29.59375  L 56.203125 25.203125  L 14.890625 25.203125  Q 15.484375 15.921875 20.484375 11.0625  Q 25.484375 6.203125 34.421875 6.203125  Q 39.59375 6.203125 44.453125 7.46875  Q 49.3125 8.734375 54.109375 11.28125  L 54.109375 2.78125  Q 49.265625 0.734375 44.1875 -0.34375  Q 39.109375 -1.421875 33.890625 -1.421875  Q 20.796875 -1.421875 13.15625 6.1875  Q 5.515625 13.8125 5.515625 26.8125  Q 5.515625 40.234375 12.765625 48.109375  Q 20.015625 56 32.328125 56  Q 43.359375 56 49.78125 48.890625  Q 56.203125 41.796875 56.203125 29.59375  z M 47.21875 32.234375  Q 47.125 39.59375 43.09375 43.984375  Q 39.0625 48.390625 32.421875 48.390625  Q 24.90625 48.390625 20.390625 44.140625  Q 15.875 39.890625 15.1875 32.171875  z \" id=\"DejaVuSans-101\"/>\n      <path d=\"M 8.015625 75.875  L 15.828125 75.875  Q 23.140625 64.359375 26.78125 53.3125  Q 30.421875 42.28125 30.421875 31.390625  Q 30.421875 20.453125 26.78125 9.375  Q 23.140625 -1.703125 15.828125 -13.1875  L 8.015625 -13.1875  Q 14.5 -2 17.703125 9.0625  Q 20.90625 20.125 20.90625 31.390625  Q 20.90625 42.671875 17.703125 53.65625  Q 14.5 64.65625 8.015625 75.875  z \" id=\"DejaVuSans-41\"/>\n     </defs>\n     <g transform=\"translate(290.078906 383.234687)scale(0.1 -0.1)\">\n      <use xlink:href=\"#DejaVuSans-82\"/>\n      <use x=\"69.482422\" xlink:href=\"#DejaVuSans-105\"/>\n      <use x=\"97.265625\" xlink:href=\"#DejaVuSans-115\"/>\n      <use x=\"149.365234\" xlink:href=\"#DejaVuSans-107\"/>\n      <use x=\"207.275391\" xlink:href=\"#DejaVuSans-32\"/>\n      <use x=\"239.0625\" xlink:href=\"#DejaVuSans-82\"/>\n      <use x=\"308.513672\" xlink:href=\"#DejaVuSans-97\"/>\n      <use x=\"369.792969\" xlink:href=\"#DejaVuSans-116\"/>\n      <use x=\"409.001953\" xlink:href=\"#DejaVuSans-105\"/>\n      <use x=\"436.785156\" xlink:href=\"#DejaVuSans-111\"/>\n      <use x=\"497.966797\" xlink:href=\"#DejaVuSans-32\"/>\n      <use x=\"529.753906\" xlink:href=\"#DejaVuSans-40\"/>\n      <use x=\"568.767578\" xlink:href=\"#DejaVuSans-108\"/>\n      <use x=\"596.550781\" xlink:href=\"#DejaVuSans-111\"/>\n      <use x=\"657.732422\" xlink:href=\"#DejaVuSans-103\"/>\n      <use x=\"721.208984\" xlink:href=\"#DejaVuSans-32\"/>\n      <use x=\"752.996094\" xlink:href=\"#DejaVuSans-115\"/>\n      <use x=\"805.095703\" xlink:href=\"#DejaVuSans-99\"/>\n      <use x=\"860.076172\" xlink:href=\"#DejaVuSans-97\"/>\n      <use x=\"921.355469\" xlink:href=\"#DejaVuSans-108\"/>\n      <use x=\"949.138672\" xlink:href=\"#DejaVuSans-101\"/>\n      <use x=\"1010.662109\" xlink:href=\"#DejaVuSans-41\"/>\n     </g>\n    </g>\n   </g>\n   <g id=\"matplotlib.axis_2\">\n    <g id=\"ytick_1\">\n     <g id=\"line2d_9\">\n      <defs>\n       <path d=\"M 0 0  L -3.5 0  \" id=\"mecb42d4e80\" style=\"stroke:#000000;stroke-width:0.8;\"/>\n      </defs>\n      <g>\n       <use style=\"stroke:#000000;stroke-width:0.8;\" x=\"175.1625\" xlink:href=\"#mecb42d4e80\" y=\"271.798125\"/>\n      </g>\n     </g>\n     <g id=\"text_6\">\n      <!-- Whole population -->\n      <defs>\n       <path d=\"M 3.328125 72.90625  L 13.28125 72.90625  L 28.609375 11.28125  L 43.890625 72.90625  L 54.984375 72.90625  L 70.3125 11.28125  L 85.59375 72.90625  L 95.609375 72.90625  L 77.296875 0  L 64.890625 0  L 49.515625 63.28125  L 33.984375 0  L 21.578125 0  z \" id=\"DejaVuSans-87\"/>\n       <path d=\"M 54.890625 33.015625  L 54.890625 0  L 45.90625 0  L 45.90625 32.71875  Q 45.90625 40.484375 42.875 44.328125  Q 39.84375 48.1875 33.796875 48.1875  Q 26.515625 48.1875 22.3125 43.546875  Q 18.109375 38.921875 18.109375 30.90625  L 18.109375 0  L 9.078125 0  L 9.078125 75.984375  L 18.109375 75.984375  L 18.109375 46.1875  Q 21.34375 51.125 25.703125 53.5625  Q 30.078125 56 35.796875 56  Q 45.21875 56 50.046875 50.171875  Q 54.890625 44.34375 54.890625 33.015625  z \" id=\"DejaVuSans-104\"/>\n       <path d=\"M 18.109375 8.203125  L 18.109375 -20.796875  L 9.078125 -20.796875  L 9.078125 54.6875  L 18.109375 54.6875  L 18.109375 46.390625  Q 20.953125 51.265625 25.265625 53.625  Q 29.59375 56 35.59375 56  Q 45.5625 56 51.78125 48.09375  Q 58.015625 40.1875 58.015625 27.296875  Q 58.015625 14.40625 51.78125 6.484375  Q 45.5625 -1.421875 35.59375 -1.421875  Q 29.59375 -1.421875 25.265625 0.953125  Q 20.953125 3.328125 18.109375 8.203125  z M 48.6875 27.296875  Q 48.6875 37.203125 44.609375 42.84375  Q 40.53125 48.484375 33.40625 48.484375  Q 26.265625 48.484375 22.1875 42.84375  Q 18.109375 37.203125 18.109375 27.296875  Q 18.109375 17.390625 22.1875 11.75  Q 26.265625 6.109375 33.40625 6.109375  Q 40.53125 6.109375 44.609375 11.75  Q 48.6875 17.390625 48.6875 27.296875  z \" id=\"DejaVuSans-112\"/>\n       <path d=\"M 8.5 21.578125  L 8.5 54.6875  L 17.484375 54.6875  L 17.484375 21.921875  Q 17.484375 14.15625 20.5 10.265625  Q 23.53125 6.390625 29.59375 6.390625  Q 36.859375 6.390625 41.078125 11.03125  Q 45.3125 15.671875 45.3125 23.6875  L 45.3125 54.6875  L 54.296875 54.6875  L 54.296875 0  L 45.3125 0  L 45.3125 8.40625  Q 42.046875 3.421875 37.71875 1  Q 33.40625 -1.421875 27.6875 -1.421875  Q 18.265625 -1.421875 13.375 4.4375  Q 8.5 10.296875 8.5 21.578125  z M 31.109375 56  z \" id=\"DejaVuSans-117\"/>\n       <path d=\"M 54.890625 33.015625  L 54.890625 0  L 45.90625 0  L 45.90625 32.71875  Q 45.90625 40.484375 42.875 44.328125  Q 39.84375 48.1875 33.796875 48.1875  Q 26.515625 48.1875 22.3125 43.546875  Q 18.109375 38.921875 18.109375 30.90625  L 18.109375 0  L 9.078125 0  L 9.078125 54.6875  L 18.109375 54.6875  L 18.109375 46.1875  Q 21.34375 51.125 25.703125 53.5625  Q 30.078125 56 35.796875 56  Q 45.21875 56 50.046875 50.171875  Q 54.890625 44.34375 54.890625 33.015625  z \" id=\"DejaVuSans-110\"/>\n      </defs>\n      <g transform=\"translate(80.495313 275.597344)scale(0.1 -0.1)\">\n       <use xlink:href=\"#DejaVuSans-87\"/>\n       <use x=\"98.876953\" xlink:href=\"#DejaVuSans-104\"/>\n       <use x=\"162.255859\" xlink:href=\"#DejaVuSans-111\"/>\n       <use x=\"223.4375\" xlink:href=\"#DejaVuSans-108\"/>\n       <use x=\"251.220703\" xlink:href=\"#DejaVuSans-101\"/>\n       <use x=\"312.744141\" xlink:href=\"#DejaVuSans-32\"/>\n       <use x=\"344.53125\" xlink:href=\"#DejaVuSans-112\"/>\n       <use x=\"408.007812\" xlink:href=\"#DejaVuSans-111\"/>\n       <use x=\"469.189453\" xlink:href=\"#DejaVuSans-112\"/>\n       <use x=\"532.666016\" xlink:href=\"#DejaVuSans-117\"/>\n       <use x=\"596.044922\" xlink:href=\"#DejaVuSans-108\"/>\n       <use x=\"623.828125\" xlink:href=\"#DejaVuSans-97\"/>\n       <use x=\"685.107422\" xlink:href=\"#DejaVuSans-116\"/>\n       <use x=\"724.316406\" xlink:href=\"#DejaVuSans-105\"/>\n       <use x=\"752.099609\" xlink:href=\"#DejaVuSans-111\"/>\n       <use x=\"813.28125\" xlink:href=\"#DejaVuSans-110\"/>\n      </g>\n     </g>\n    </g>\n    <g id=\"ytick_2\">\n     <g id=\"line2d_10\">\n      <g>\n       <use style=\"stroke:#000000;stroke-width:0.8;\" x=\"175.1625\" xlink:href=\"#mecb42d4e80\" y=\"105.478125\"/>\n      </g>\n     </g>\n     <g id=\"text_7\">\n      <!-- People with underlying diseases -->\n      <defs>\n       <path d=\"M 19.671875 64.796875  L 19.671875 37.40625  L 32.078125 37.40625  Q 38.96875 37.40625 42.71875 40.96875  Q 46.484375 44.53125 46.484375 51.125  Q 46.484375 57.671875 42.71875 61.234375  Q 38.96875 64.796875 32.078125 64.796875  z M 9.8125 72.90625  L 32.078125 72.90625  Q 44.34375 72.90625 50.609375 67.359375  Q 56.890625 61.8125 56.890625 51.125  Q 56.890625 40.328125 50.609375 34.8125  Q 44.34375 29.296875 32.078125 29.296875  L 19.671875 29.296875  L 19.671875 0  L 9.8125 0  z \" id=\"DejaVuSans-80\"/>\n       <path d=\"M 4.203125 54.6875  L 13.1875 54.6875  L 24.421875 12.015625  L 35.59375 54.6875  L 46.1875 54.6875  L 57.421875 12.015625  L 68.609375 54.6875  L 77.59375 54.6875  L 63.28125 0  L 52.6875 0  L 40.921875 44.828125  L 29.109375 0  L 18.5 0  z \" id=\"DejaVuSans-119\"/>\n       <path d=\"M 45.40625 46.390625  L 45.40625 75.984375  L 54.390625 75.984375  L 54.390625 0  L 45.40625 0  L 45.40625 8.203125  Q 42.578125 3.328125 38.25 0.953125  Q 33.9375 -1.421875 27.875 -1.421875  Q 17.96875 -1.421875 11.734375 6.484375  Q 5.515625 14.40625 5.515625 27.296875  Q 5.515625 40.1875 11.734375 48.09375  Q 17.96875 56 27.875 56  Q 33.9375 56 38.25 53.625  Q 42.578125 51.265625 45.40625 46.390625  z M 14.796875 27.296875  Q 14.796875 17.390625 18.875 11.75  Q 22.953125 6.109375 30.078125 6.109375  Q 37.203125 6.109375 41.296875 11.75  Q 45.40625 17.390625 45.40625 27.296875  Q 45.40625 37.203125 41.296875 42.84375  Q 37.203125 48.484375 30.078125 48.484375  Q 22.953125 48.484375 18.875 42.84375  Q 14.796875 37.203125 14.796875 27.296875  z \" id=\"DejaVuSans-100\"/>\n       <path d=\"M 41.109375 46.296875  Q 39.59375 47.171875 37.8125 47.578125  Q 36.03125 48 33.890625 48  Q 26.265625 48 22.1875 43.046875  Q 18.109375 38.09375 18.109375 28.8125  L 18.109375 0  L 9.078125 0  L 9.078125 54.6875  L 18.109375 54.6875  L 18.109375 46.1875  Q 20.953125 51.171875 25.484375 53.578125  Q 30.03125 56 36.53125 56  Q 37.453125 56 38.578125 55.875  Q 39.703125 55.765625 41.0625 55.515625  z \" id=\"DejaVuSans-114\"/>\n       <path d=\"M 32.171875 -5.078125  Q 28.375 -14.84375 24.75 -17.8125  Q 21.140625 -20.796875 15.09375 -20.796875  L 7.90625 -20.796875  L 7.90625 -13.28125  L 13.1875 -13.28125  Q 16.890625 -13.28125 18.9375 -11.515625  Q 21 -9.765625 23.484375 -3.21875  L 25.09375 0.875  L 2.984375 54.6875  L 12.5 54.6875  L 29.59375 11.921875  L 46.6875 54.6875  L 56.203125 54.6875  z \" id=\"DejaVuSans-121\"/>\n      </defs>\n      <g transform=\"translate(7.2 109.277344)scale(0.1 -0.1)\">\n       <use xlink:href=\"#DejaVuSans-80\"/>\n       <use x=\"60.255859\" xlink:href=\"#DejaVuSans-101\"/>\n       <use x=\"121.779297\" xlink:href=\"#DejaVuSans-111\"/>\n       <use x=\"182.960938\" xlink:href=\"#DejaVuSans-112\"/>\n       <use x=\"246.4375\" xlink:href=\"#DejaVuSans-108\"/>\n       <use x=\"274.220703\" xlink:href=\"#DejaVuSans-101\"/>\n       <use x=\"335.744141\" xlink:href=\"#DejaVuSans-32\"/>\n       <use x=\"367.53125\" xlink:href=\"#DejaVuSans-119\"/>\n       <use x=\"449.318359\" xlink:href=\"#DejaVuSans-105\"/>\n       <use x=\"477.101562\" xlink:href=\"#DejaVuSans-116\"/>\n       <use x=\"516.310547\" xlink:href=\"#DejaVuSans-104\"/>\n       <use x=\"579.689453\" xlink:href=\"#DejaVuSans-32\"/>\n       <use x=\"611.476562\" xlink:href=\"#DejaVuSans-117\"/>\n       <use x=\"674.855469\" xlink:href=\"#DejaVuSans-110\"/>\n       <use x=\"738.234375\" xlink:href=\"#DejaVuSans-100\"/>\n       <use x=\"801.710938\" xlink:href=\"#DejaVuSans-101\"/>\n       <use x=\"863.234375\" xlink:href=\"#DejaVuSans-114\"/>\n       <use x=\"904.347656\" xlink:href=\"#DejaVuSans-108\"/>\n       <use x=\"932.130859\" xlink:href=\"#DejaVuSans-121\"/>\n       <use x=\"991.310547\" xlink:href=\"#DejaVuSans-105\"/>\n       <use x=\"1019.09375\" xlink:href=\"#DejaVuSans-110\"/>\n       <use x=\"1082.472656\" xlink:href=\"#DejaVuSans-103\"/>\n       <use x=\"1145.949219\" xlink:href=\"#DejaVuSans-32\"/>\n       <use x=\"1177.736328\" xlink:href=\"#DejaVuSans-100\"/>\n       <use x=\"1241.212891\" xlink:href=\"#DejaVuSans-105\"/>\n       <use x=\"1268.996094\" xlink:href=\"#DejaVuSans-115\"/>\n       <use x=\"1321.095703\" xlink:href=\"#DejaVuSans-101\"/>\n       <use x=\"1382.619141\" xlink:href=\"#DejaVuSans-97\"/>\n       <use x=\"1443.898438\" xlink:href=\"#DejaVuSans-115\"/>\n       <use x=\"1495.998047\" xlink:href=\"#DejaVuSans-101\"/>\n       <use x=\"1557.521484\" xlink:href=\"#DejaVuSans-115\"/>\n      </g>\n     </g>\n    </g>\n   </g>\n   <g id=\"LineCollection_1\">\n    <path clip-path=\"url(#p5d5962df3c)\" d=\"M 417.060591 271.798125  L 494.744318 271.798125  \" style=\"fill:none;stroke:#0000ff;stroke-width:1.5;\"/>\n    <path clip-path=\"url(#p5d5962df3c)\" d=\"M 190.380682 105.478125  L 293.632497 105.478125  \" style=\"fill:none;stroke:#0000ff;stroke-width:1.5;\"/>\n   </g>\n   <g id=\"line2d_11\">\n    <path clip-path=\"url(#p5d5962df3c)\" d=\"M 436.260028 354.958125  L 436.260028 22.318125  \" style=\"fill:none;stroke:#000000;stroke-dasharray:3.7,1.6;stroke-dashoffset:0;\"/>\n   </g>\n   <g id=\"line2d_12\">\n    <defs>\n     <path d=\"M 0 5  C 1.326016 5 2.597899 4.473168 3.535534 3.535534  C 4.473168 2.597899 5 1.326016 5 0  C 5 -1.326016 4.473168 -2.597899 3.535534 -3.535534  C 2.597899 -4.473168 1.326016 -5 0 -5  C -1.326016 -5 -2.597899 -4.473168 -3.535534 -3.535534  C -4.473168 -2.597899 -5 -1.326016 -5 0  C -5 1.326016 -4.473168 2.597899 -3.535534 3.535534  C -2.597899 4.473168 -1.326016 5 0 5  z \" id=\"m4e18304405\" style=\"stroke:#0000ff;\"/>\n    </defs>\n    <g clip-path=\"url(#p5d5962df3c)\">\n     <use style=\"fill:#0000ff;stroke:#0000ff;\" x=\"459.524877\" xlink:href=\"#m4e18304405\" y=\"271.798125\"/>\n     <use style=\"fill:#0000ff;stroke:#0000ff;\" x=\"248.377705\" xlink:href=\"#m4e18304405\" y=\"105.478125\"/>\n    </g>\n   </g>\n   <g id=\"patch_3\">\n    <path d=\"M 175.1625 354.958125  L 175.1625 22.318125  \" style=\"fill:none;stroke:#000000;stroke-linecap:square;stroke-linejoin:miter;stroke-width:0.8;\"/>\n   </g>\n   <g id=\"patch_4\">\n    <path d=\"M 509.9625 354.958125  L 509.9625 22.318125  \" style=\"fill:none;stroke:#000000;stroke-linecap:square;stroke-linejoin:miter;stroke-width:0.8;\"/>\n   </g>\n   <g id=\"patch_5\">\n    <path d=\"M 175.1625 354.958125  L 509.9625 354.958125  \" style=\"fill:none;stroke:#000000;stroke-linecap:square;stroke-linejoin:miter;stroke-width:0.8;\"/>\n   </g>\n   <g id=\"patch_6\">\n    <path d=\"M 175.1625 22.318125  L 509.9625 22.318125  \" style=\"fill:none;stroke:#000000;stroke-linecap:square;stroke-linejoin:miter;stroke-width:0.8;\"/>\n   </g>\n   <g id=\"text_8\">\n    <!-- Risk ratio of vaccination on death in subjects with underlying diseases or the general population -->\n    <defs>\n     <path d=\"M 37.109375 75.984375  L 37.109375 68.5  L 28.515625 68.5  Q 23.6875 68.5 21.796875 66.546875  Q 19.921875 64.59375 19.921875 59.515625  L 19.921875 54.6875  L 34.71875 54.6875  L 34.71875 47.703125  L 19.921875 47.703125  L 19.921875 0  L 10.890625 0  L 10.890625 47.703125  L 2.296875 47.703125  L 2.296875 54.6875  L 10.890625 54.6875  L 10.890625 58.5  Q 10.890625 67.625 15.140625 71.796875  Q 19.390625 75.984375 28.609375 75.984375  z \" id=\"DejaVuSans-102\"/>\n     <path d=\"M 2.984375 54.6875  L 12.5 54.6875  L 29.59375 8.796875  L 46.6875 54.6875  L 56.203125 54.6875  L 35.6875 0  L 23.484375 0  z \" id=\"DejaVuSans-118\"/>\n     <path d=\"M 48.6875 27.296875  Q 48.6875 37.203125 44.609375 42.84375  Q 40.53125 48.484375 33.40625 48.484375  Q 26.265625 48.484375 22.1875 42.84375  Q 18.109375 37.203125 18.109375 27.296875  Q 18.109375 17.390625 22.1875 11.75  Q 26.265625 6.109375 33.40625 6.109375  Q 40.53125 6.109375 44.609375 11.75  Q 48.6875 17.390625 48.6875 27.296875  z M 18.109375 46.390625  Q 20.953125 51.265625 25.265625 53.625  Q 29.59375 56 35.59375 56  Q 45.5625 56 51.78125 48.09375  Q 58.015625 40.1875 58.015625 27.296875  Q 58.015625 14.40625 51.78125 6.484375  Q 45.5625 -1.421875 35.59375 -1.421875  Q 29.59375 -1.421875 25.265625 0.953125  Q 20.953125 3.328125 18.109375 8.203125  L 18.109375 0  L 9.078125 0  L 9.078125 75.984375  L 18.109375 75.984375  z \" id=\"DejaVuSans-98\"/>\n     <path d=\"M 9.421875 54.6875  L 18.40625 54.6875  L 18.40625 -0.984375  Q 18.40625 -11.421875 14.421875 -16.109375  Q 10.453125 -20.796875 1.609375 -20.796875  L -1.8125 -20.796875  L -1.8125 -13.1875  L 0.59375 -13.1875  Q 5.71875 -13.1875 7.5625 -10.8125  Q 9.421875 -8.453125 9.421875 -0.984375  z M 9.421875 75.984375  L 18.40625 75.984375  L 18.40625 64.59375  L 9.421875 64.59375  z \" id=\"DejaVuSans-106\"/>\n    </defs>\n    <g transform=\"translate(52.77 16.318125)scale(0.12 -0.12)\">\n     <use xlink:href=\"#DejaVuSans-82\"/>\n     <use x=\"69.482422\" xlink:href=\"#DejaVuSans-105\"/>\n     <use x=\"97.265625\" xlink:href=\"#DejaVuSans-115\"/>\n     <use x=\"149.365234\" xlink:href=\"#DejaVuSans-107\"/>\n     <use x=\"207.275391\" xlink:href=\"#DejaVuSans-32\"/>\n     <use x=\"239.0625\" xlink:href=\"#DejaVuSans-114\"/>\n     <use x=\"280.175781\" xlink:href=\"#DejaVuSans-97\"/>\n     <use x=\"341.455078\" xlink:href=\"#DejaVuSans-116\"/>\n     <use x=\"380.664062\" xlink:href=\"#DejaVuSans-105\"/>\n     <use x=\"408.447266\" xlink:href=\"#DejaVuSans-111\"/>\n     <use x=\"469.628906\" xlink:href=\"#DejaVuSans-32\"/>\n     <use x=\"501.416016\" xlink:href=\"#DejaVuSans-111\"/>\n     <use x=\"562.597656\" xlink:href=\"#DejaVuSans-102\"/>\n     <use x=\"597.802734\" xlink:href=\"#DejaVuSans-32\"/>\n     <use x=\"629.589844\" xlink:href=\"#DejaVuSans-118\"/>\n     <use x=\"688.769531\" xlink:href=\"#DejaVuSans-97\"/>\n     <use x=\"750.048828\" xlink:href=\"#DejaVuSans-99\"/>\n     <use x=\"805.029297\" xlink:href=\"#DejaVuSans-99\"/>\n     <use x=\"860.009766\" xlink:href=\"#DejaVuSans-105\"/>\n     <use x=\"887.792969\" xlink:href=\"#DejaVuSans-110\"/>\n     <use x=\"951.171875\" xlink:href=\"#DejaVuSans-97\"/>\n     <use x=\"1012.451172\" xlink:href=\"#DejaVuSans-116\"/>\n     <use x=\"1051.660156\" xlink:href=\"#DejaVuSans-105\"/>\n     <use x=\"1079.443359\" xlink:href=\"#DejaVuSans-111\"/>\n     <use x=\"1140.625\" xlink:href=\"#DejaVuSans-110\"/>\n     <use x=\"1204.003906\" xlink:href=\"#DejaVuSans-32\"/>\n     <use x=\"1235.791016\" xlink:href=\"#DejaVuSans-111\"/>\n     <use x=\"1296.972656\" xlink:href=\"#DejaVuSans-110\"/>\n     <use x=\"1360.351562\" xlink:href=\"#DejaVuSans-32\"/>\n     <use x=\"1392.138672\" xlink:href=\"#DejaVuSans-100\"/>\n     <use x=\"1455.615234\" xlink:href=\"#DejaVuSans-101\"/>\n     <use x=\"1517.138672\" xlink:href=\"#DejaVuSans-97\"/>\n     <use x=\"1578.417969\" xlink:href=\"#DejaVuSans-116\"/>\n     <use x=\"1617.626953\" xlink:href=\"#DejaVuSans-104\"/>\n     <use x=\"1681.005859\" xlink:href=\"#DejaVuSans-32\"/>\n     <use x=\"1712.792969\" xlink:href=\"#DejaVuSans-105\"/>\n     <use x=\"1740.576172\" xlink:href=\"#DejaVuSans-110\"/>\n     <use x=\"1803.955078\" xlink:href=\"#DejaVuSans-32\"/>\n     <use x=\"1835.742188\" xlink:href=\"#DejaVuSans-115\"/>\n     <use x=\"1887.841797\" xlink:href=\"#DejaVuSans-117\"/>\n     <use x=\"1951.220703\" xlink:href=\"#DejaVuSans-98\"/>\n     <use x=\"2014.697266\" xlink:href=\"#DejaVuSans-106\"/>\n     <use x=\"2042.480469\" xlink:href=\"#DejaVuSans-101\"/>\n     <use x=\"2104.003906\" xlink:href=\"#DejaVuSans-99\"/>\n     <use x=\"2158.984375\" xlink:href=\"#DejaVuSans-116\"/>\n     <use x=\"2198.193359\" xlink:href=\"#DejaVuSans-115\"/>\n     <use x=\"2250.292969\" xlink:href=\"#DejaVuSans-32\"/>\n     <use x=\"2282.080078\" xlink:href=\"#DejaVuSans-119\"/>\n     <use x=\"2363.867188\" xlink:href=\"#DejaVuSans-105\"/>\n     <use x=\"2391.650391\" xlink:href=\"#DejaVuSans-116\"/>\n     <use x=\"2430.859375\" xlink:href=\"#DejaVuSans-104\"/>\n     <use x=\"2494.238281\" xlink:href=\"#DejaVuSans-32\"/>\n     <use x=\"2526.025391\" xlink:href=\"#DejaVuSans-117\"/>\n     <use x=\"2589.404297\" xlink:href=\"#DejaVuSans-110\"/>\n     <use x=\"2652.783203\" xlink:href=\"#DejaVuSans-100\"/>\n     <use x=\"2716.259766\" xlink:href=\"#DejaVuSans-101\"/>\n     <use x=\"2777.783203\" xlink:href=\"#DejaVuSans-114\"/>\n     <use x=\"2818.896484\" xlink:href=\"#DejaVuSans-108\"/>\n     <use x=\"2846.679688\" xlink:href=\"#DejaVuSans-121\"/>\n     <use x=\"2905.859375\" xlink:href=\"#DejaVuSans-105\"/>\n     <use x=\"2933.642578\" xlink:href=\"#DejaVuSans-110\"/>\n     <use x=\"2997.021484\" xlink:href=\"#DejaVuSans-103\"/>\n     <use x=\"3060.498047\" xlink:href=\"#DejaVuSans-32\"/>\n     <use x=\"3092.285156\" xlink:href=\"#DejaVuSans-100\"/>\n     <use x=\"3155.761719\" xlink:href=\"#DejaVuSans-105\"/>\n     <use x=\"3183.544922\" xlink:href=\"#DejaVuSans-115\"/>\n     <use x=\"3235.644531\" xlink:href=\"#DejaVuSans-101\"/>\n     <use x=\"3297.167969\" xlink:href=\"#DejaVuSans-97\"/>\n     <use x=\"3358.447266\" xlink:href=\"#DejaVuSans-115\"/>\n     <use x=\"3410.546875\" xlink:href=\"#DejaVuSans-101\"/>\n     <use x=\"3472.070312\" xlink:href=\"#DejaVuSans-115\"/>\n     <use x=\"3524.169922\" xlink:href=\"#DejaVuSans-32\"/>\n     <use x=\"3555.957031\" xlink:href=\"#DejaVuSans-111\"/>\n     <use x=\"3617.138672\" xlink:href=\"#DejaVuSans-114\"/>\n     <use x=\"3658.251953\" xlink:href=\"#DejaVuSans-32\"/>\n     <use x=\"3690.039062\" xlink:href=\"#DejaVuSans-116\"/>\n     <use x=\"3729.248047\" xlink:href=\"#DejaVuSans-104\"/>\n     <use x=\"3792.626953\" xlink:href=\"#DejaVuSans-101\"/>\n     <use x=\"3854.150391\" xlink:href=\"#DejaVuSans-32\"/>\n     <use x=\"3885.9375\" xlink:href=\"#DejaVuSans-103\"/>\n     <use x=\"3949.414062\" xlink:href=\"#DejaVuSans-101\"/>\n     <use x=\"4010.9375\" xlink:href=\"#DejaVuSans-110\"/>\n     <use x=\"4074.316406\" xlink:href=\"#DejaVuSans-101\"/>\n     <use x=\"4135.839844\" xlink:href=\"#DejaVuSans-114\"/>\n     <use x=\"4176.953125\" xlink:href=\"#DejaVuSans-97\"/>\n     <use x=\"4238.232422\" xlink:href=\"#DejaVuSans-108\"/>\n     <use x=\"4266.015625\" xlink:href=\"#DejaVuSans-32\"/>\n     <use x=\"4297.802734\" xlink:href=\"#DejaVuSans-112\"/>\n     <use x=\"4361.279297\" xlink:href=\"#DejaVuSans-111\"/>\n     <use x=\"4422.460938\" xlink:href=\"#DejaVuSans-112\"/>\n     <use x=\"4485.9375\" xlink:href=\"#DejaVuSans-117\"/>\n     <use x=\"4549.316406\" xlink:href=\"#DejaVuSans-108\"/>\n     <use x=\"4577.099609\" xlink:href=\"#DejaVuSans-97\"/>\n     <use x=\"4638.378906\" xlink:href=\"#DejaVuSans-116\"/>\n     <use x=\"4677.587891\" xlink:href=\"#DejaVuSans-105\"/>\n     <use x=\"4705.371094\" xlink:href=\"#DejaVuSans-111\"/>\n     <use x=\"4766.552734\" xlink:href=\"#DejaVuSans-110\"/>\n    </g>\n   </g>\n  </g>\n </g>\n <defs>\n  <clipPath id=\"p5d5962df3c\">\n   <rect height=\"332.64\" width=\"334.8\" x=\"175.1625\" y=\"22.318125\"/>\n  </clipPath>\n </defs>\n</svg>",
      "text/plain": [
       "<IPython.core.display.SVG object>"
      ]
     },
     "execution_count": 17,
     "metadata": {},
     "output_type": "execute_result"
    }
   ],
   "source": [
    "# Figure 6\n",
    "SVG(filename='analysis_euler/2a_b_RR_plot.svg')"
   ]
  },
  {
   "cell_type": "markdown",
   "metadata": {},
   "source": [
    "### 2c) Same comparison in subset of subjects with specific underlying medical condition "
   ]
  },
  {
   "cell_type": "markdown",
   "metadata": {},
   "source": [
    "Fot this last analysis, the effect of the vaccination on death was evaluated in different underlying conditions according to the ICD-10 categories. The number of deaths per thousand subjects was lower in vaccinated compared to unvaccinated subjects in each of the underlying disease categories, as can be appreciated in table 6 and figure 7."
   ]
  },
  {
   "cell_type": "code",
   "execution_count": 18,
   "metadata": {},
   "outputs": [
    {
     "data": {
      "text/html": [
       "<div>\n",
       "<style scoped>\n",
       "    .dataframe tbody tr th:only-of-type {\n",
       "        vertical-align: middle;\n",
       "    }\n",
       "\n",
       "    .dataframe tbody tr th {\n",
       "        vertical-align: top;\n",
       "    }\n",
       "\n",
       "    .dataframe thead th {\n",
       "        text-align: right;\n",
       "    }\n",
       "</style>\n",
       "<table border=\"1\" class=\"dataframe\">\n",
       "  <thead>\n",
       "    <tr style=\"text-align: right;\">\n",
       "      <th></th>\n",
       "      <th>Unnamed: 0</th>\n",
       "      <th>Vaccinated</th>\n",
       "      <th>Not vaccinated</th>\n",
       "    </tr>\n",
       "  </thead>\n",
       "  <tbody>\n",
       "    <tr>\n",
       "      <th>0</th>\n",
       "      <td>Diseases of the blood and blood-forming organs...</td>\n",
       "      <td>1.581444</td>\n",
       "      <td>4.677581</td>\n",
       "    </tr>\n",
       "    <tr>\n",
       "      <th>1</th>\n",
       "      <td>Neoplasms</td>\n",
       "      <td>1.226734</td>\n",
       "      <td>2.959492</td>\n",
       "    </tr>\n",
       "    <tr>\n",
       "      <th>2</th>\n",
       "      <td>Diseases of the circulatory system</td>\n",
       "      <td>1.092706</td>\n",
       "      <td>3.042194</td>\n",
       "    </tr>\n",
       "    <tr>\n",
       "      <th>3</th>\n",
       "      <td>Congenital malformations, deformations and chr...</td>\n",
       "      <td>1.090529</td>\n",
       "      <td>3.055062</td>\n",
       "    </tr>\n",
       "    <tr>\n",
       "      <th>4</th>\n",
       "      <td>Diseases of the eye and adnexa</td>\n",
       "      <td>1.089187</td>\n",
       "      <td>2.948564</td>\n",
       "    </tr>\n",
       "    <tr>\n",
       "      <th>5</th>\n",
       "      <td>Endocrine, nutritional and metabolic diseases</td>\n",
       "      <td>1.033310</td>\n",
       "      <td>3.160846</td>\n",
       "    </tr>\n",
       "    <tr>\n",
       "      <th>6</th>\n",
       "      <td>Diseases of the nervous system</td>\n",
       "      <td>1.026682</td>\n",
       "      <td>2.732919</td>\n",
       "    </tr>\n",
       "    <tr>\n",
       "      <th>7</th>\n",
       "      <td>Diseases of the ear and mastoid process</td>\n",
       "      <td>0.931329</td>\n",
       "      <td>2.882675</td>\n",
       "    </tr>\n",
       "    <tr>\n",
       "      <th>8</th>\n",
       "      <td>Diseases of the digestive system</td>\n",
       "      <td>0.926574</td>\n",
       "      <td>2.708672</td>\n",
       "    </tr>\n",
       "    <tr>\n",
       "      <th>9</th>\n",
       "      <td>Diseases of the respiratory system</td>\n",
       "      <td>0.920351</td>\n",
       "      <td>2.549627</td>\n",
       "    </tr>\n",
       "    <tr>\n",
       "      <th>10</th>\n",
       "      <td>Certain infectious and parasitic diseases</td>\n",
       "      <td>0.911929</td>\n",
       "      <td>2.583431</td>\n",
       "    </tr>\n",
       "    <tr>\n",
       "      <th>11</th>\n",
       "      <td>Diseases of the genitourinary system</td>\n",
       "      <td>0.899948</td>\n",
       "      <td>2.550725</td>\n",
       "    </tr>\n",
       "    <tr>\n",
       "      <th>12</th>\n",
       "      <td>Mental, Behavioral and Neurodevelopmental diso...</td>\n",
       "      <td>0.895433</td>\n",
       "      <td>2.519950</td>\n",
       "    </tr>\n",
       "    <tr>\n",
       "      <th>13</th>\n",
       "      <td>Diseases of the musculoskeletal system and con...</td>\n",
       "      <td>0.841551</td>\n",
       "      <td>2.319328</td>\n",
       "    </tr>\n",
       "    <tr>\n",
       "      <th>14</th>\n",
       "      <td>Diseases of the skin and subcutaneous tissue</td>\n",
       "      <td>0.832728</td>\n",
       "      <td>2.321672</td>\n",
       "    </tr>\n",
       "  </tbody>\n",
       "</table>\n",
       "</div>"
      ],
      "text/plain": [
       "                                           Unnamed: 0  Vaccinated  \\\n",
       "0   Diseases of the blood and blood-forming organs...    1.581444   \n",
       "1                                           Neoplasms    1.226734   \n",
       "2                  Diseases of the circulatory system    1.092706   \n",
       "3   Congenital malformations, deformations and chr...    1.090529   \n",
       "4                      Diseases of the eye and adnexa    1.089187   \n",
       "5       Endocrine, nutritional and metabolic diseases    1.033310   \n",
       "6                      Diseases of the nervous system    1.026682   \n",
       "7             Diseases of the ear and mastoid process    0.931329   \n",
       "8                    Diseases of the digestive system    0.926574   \n",
       "9                  Diseases of the respiratory system    0.920351   \n",
       "10          Certain infectious and parasitic diseases    0.911929   \n",
       "11               Diseases of the genitourinary system    0.899948   \n",
       "12  Mental, Behavioral and Neurodevelopmental diso...    0.895433   \n",
       "13  Diseases of the musculoskeletal system and con...    0.841551   \n",
       "14       Diseases of the skin and subcutaneous tissue    0.832728   \n",
       "\n",
       "    Not vaccinated  \n",
       "0         4.677581  \n",
       "1         2.959492  \n",
       "2         3.042194  \n",
       "3         3.055062  \n",
       "4         2.948564  \n",
       "5         3.160846  \n",
       "6         2.732919  \n",
       "7         2.882675  \n",
       "8         2.708672  \n",
       "9         2.549627  \n",
       "10        2.583431  \n",
       "11        2.550725  \n",
       "12        2.519950  \n",
       "13        2.319328  \n",
       "14        2.321672  "
      ]
     },
     "execution_count": 18,
     "metadata": {},
     "output_type": "execute_result"
    }
   ],
   "source": [
    "# Table 6\n",
    "table = pd.read_csv('analysis_euler/2c_total_mortality_table.csv') \n",
    "table"
   ]
  },
  {
   "cell_type": "code",
   "execution_count": 19,
   "metadata": {},
   "outputs": [
    {
     "data": {
      "image/svg+xml": "<svg xmlns=\"http://www.w3.org/2000/svg\" xmlns:xlink=\"http://www.w3.org/1999/xlink\" height=\"503.394375pt\" version=\"1.1\" viewBox=\"0 0 995.120312 503.394375\" width=\"995.120312pt\">\n <defs>\n  <style type=\"text/css\">\n*{stroke-linecap:butt;stroke-linejoin:round;}\n  </style>\n </defs>\n <g id=\"figure_1\">\n  <g id=\"patch_1\">\n   <path d=\"M 0 503.394375  L 995.120312 503.394375  L 995.120312 0  L 0 0  z \" style=\"fill:#ffffff;\"/>\n  </g>\n  <g id=\"axes_1\">\n   <g id=\"patch_2\">\n    <path d=\"M 538.020313 465.838125  L 984.420312 465.838125  L 984.420312 22.318125  L 538.020313 22.318125  z \" style=\"fill:#ffffff;\"/>\n   </g>\n   <g id=\"patch_3\">\n    <path clip-path=\"url(#p50c9f97125)\" d=\"M 538.020313 445.678125  L 681.756954 445.678125  L 681.756954 423.88353  L 538.020313 423.88353  z \" style=\"fill:#1f77b4;opacity:0.5;\"/>\n   </g>\n   <g id=\"patch_4\">\n    <path clip-path=\"url(#p50c9f97125)\" d=\"M 538.020313 418.434882  L 649.517488 418.434882  L 649.517488 396.640287  L 538.020313 396.640287  z \" style=\"fill:#1f77b4;opacity:0.5;\"/>\n   </g>\n   <g id=\"patch_5\">\n    <path clip-path=\"url(#p50c9f97125)\" d=\"M 538.020313 391.191639  L 637.335821 391.191639  L 637.335821 369.397044  L 538.020313 369.397044  z \" style=\"fill:#1f77b4;opacity:0.5;\"/>\n   </g>\n   <g id=\"patch_6\">\n    <path clip-path=\"url(#p50c9f97125)\" d=\"M 538.020313 363.948395  L 637.137879 363.948395  L 637.137879 342.153801  L 538.020313 342.153801  z \" style=\"fill:#1f77b4;opacity:0.5;\"/>\n   </g>\n   <g id=\"patch_7\">\n    <path clip-path=\"url(#p50c9f97125)\" d=\"M 538.020313 336.705152  L 637.015963 336.705152  L 637.015963 314.910557  L 538.020313 314.910557  z \" style=\"fill:#1f77b4;opacity:0.5;\"/>\n   </g>\n   <g id=\"patch_8\">\n    <path clip-path=\"url(#p50c9f97125)\" d=\"M 538.020313 309.461909  L 631.937344 309.461909  L 631.937344 287.667314  L 538.020313 287.667314  z \" style=\"fill:#1f77b4;opacity:0.5;\"/>\n   </g>\n   <g id=\"patch_9\">\n    <path clip-path=\"url(#p50c9f97125)\" d=\"M 538.020313 282.218666  L 631.334937 282.218666  L 631.334937 260.424071  L 538.020313 260.424071  z \" style=\"fill:#1f77b4;opacity:0.5;\"/>\n   </g>\n   <g id=\"patch_10\">\n    <path clip-path=\"url(#p50c9f97125)\" d=\"M 538.020313 254.975422  L 622.66833 254.975422  L 622.66833 233.180828  L 538.020313 233.180828  z \" style=\"fill:#1f77b4;opacity:0.5;\"/>\n   </g>\n   <g id=\"patch_11\">\n    <path clip-path=\"url(#p50c9f97125)\" d=\"M 538.020313 227.732179  L 622.23611 227.732179  L 622.23611 205.937584  L 538.020313 205.937584  z \" style=\"fill:#1f77b4;opacity:0.5;\"/>\n   </g>\n   <g id=\"patch_12\">\n    <path clip-path=\"url(#p50c9f97125)\" d=\"M 538.020313 200.488936  L 621.670521 200.488936  L 621.670521 178.694341  L 538.020313 178.694341  z \" style=\"fill:#1f77b4;opacity:0.5;\"/>\n   </g>\n   <g id=\"patch_13\">\n    <path clip-path=\"url(#p50c9f97125)\" d=\"M 538.020313 173.245693  L 620.905057 173.245693  L 620.905057 151.451098  L 538.020313 151.451098  z \" style=\"fill:#1f77b4;opacity:0.5;\"/>\n   </g>\n   <g id=\"patch_14\">\n    <path clip-path=\"url(#p50c9f97125)\" d=\"M 538.020313 146.002449  L 619.81615 146.002449  L 619.81615 124.207855  L 538.020313 124.207855  z \" style=\"fill:#1f77b4;opacity:0.5;\"/>\n   </g>\n   <g id=\"patch_15\">\n    <path clip-path=\"url(#p50c9f97125)\" d=\"M 538.020313 118.759206  L 619.405769 118.759206  L 619.405769 96.964611  L 538.020313 96.964611  z \" style=\"fill:#1f77b4;opacity:0.5;\"/>\n   </g>\n   <g id=\"patch_16\">\n    <path clip-path=\"url(#p50c9f97125)\" d=\"M 538.020313 91.515963  L 614.508455 91.515963  L 614.508455 69.721368  L 538.020313 69.721368  z \" style=\"fill:#1f77b4;opacity:0.5;\"/>\n   </g>\n   <g id=\"patch_17\">\n    <path clip-path=\"url(#p50c9f97125)\" d=\"M 538.020313 64.27272  L 613.706517 64.27272  L 613.706517 42.478125  L 538.020313 42.478125  z \" style=\"fill:#1f77b4;opacity:0.5;\"/>\n   </g>\n   <g id=\"patch_18\">\n    <path clip-path=\"url(#p50c9f97125)\" d=\"M 538.020313 445.678125  L 963.16317 445.678125  L 963.16317 423.88353  L 538.020313 423.88353  z \" style=\"fill:#ff7f0e;opacity:0.5;\"/>\n   </g>\n   <g id=\"patch_19\">\n    <path clip-path=\"url(#p50c9f97125)\" d=\"M 538.020313 418.434882  L 807.006966 418.434882  L 807.006966 396.640287  L 538.020313 396.640287  z \" style=\"fill:#ff7f0e;opacity:0.5;\"/>\n   </g>\n   <g id=\"patch_20\">\n    <path clip-path=\"url(#p50c9f97125)\" d=\"M 538.020313 391.191639  L 814.523702 391.191639  L 814.523702 369.397044  L 538.020313 369.397044  z \" style=\"fill:#ff7f0e;opacity:0.5;\"/>\n   </g>\n   <g id=\"patch_21\">\n    <path clip-path=\"url(#p50c9f97125)\" d=\"M 538.020313 363.948395  L 815.693292 363.948395  L 815.693292 342.153801  L 538.020313 342.153801  z \" style=\"fill:#ff7f0e;opacity:0.5;\"/>\n   </g>\n   <g id=\"patch_22\">\n    <path clip-path=\"url(#p50c9f97125)\" d=\"M 538.020313 336.705152  L 806.013724 336.705152  L 806.013724 314.910557  L 538.020313 314.910557  z \" style=\"fill:#ff7f0e;opacity:0.5;\"/>\n   </g>\n   <g id=\"patch_23\">\n    <path clip-path=\"url(#p50c9f97125)\" d=\"M 538.020313 309.461909  L 825.307955 309.461909  L 825.307955 287.667314  L 538.020313 287.667314  z \" style=\"fill:#ff7f0e;opacity:0.5;\"/>\n   </g>\n   <g id=\"patch_24\">\n    <path clip-path=\"url(#p50c9f97125)\" d=\"M 538.020313 282.218666  L 786.413893 282.218666  L 786.413893 260.424071  L 538.020313 260.424071  z \" style=\"fill:#ff7f0e;opacity:0.5;\"/>\n   </g>\n   <g id=\"patch_25\">\n    <path clip-path=\"url(#p50c9f97125)\" d=\"M 538.020313 254.975422  L 800.025125 254.975422  L 800.025125 233.180828  L 538.020313 233.180828  z \" style=\"fill:#ff7f0e;opacity:0.5;\"/>\n   </g>\n   <g id=\"patch_26\">\n    <path clip-path=\"url(#p50c9f97125)\" d=\"M 538.020313 227.732179  L 784.210066 227.732179  L 784.210066 205.937584  L 538.020313 205.937584  z \" style=\"fill:#ff7f0e;opacity:0.5;\"/>\n   </g>\n   <g id=\"patch_27\">\n    <path clip-path=\"url(#p50c9f97125)\" d=\"M 538.020313 200.488936  L 769.754527 200.488936  L 769.754527 178.694341  L 538.020313 178.694341  z \" style=\"fill:#ff7f0e;opacity:0.5;\"/>\n   </g>\n   <g id=\"patch_28\">\n    <path clip-path=\"url(#p50c9f97125)\" d=\"M 538.020313 173.245693  L 772.826954 173.245693  L 772.826954 151.451098  L 538.020313 151.451098  z \" style=\"fill:#ff7f0e;opacity:0.5;\"/>\n   </g>\n   <g id=\"patch_29\">\n    <path clip-path=\"url(#p50c9f97125)\" d=\"M 538.020313 146.002449  L 769.854321 146.002449  L 769.854321 124.207855  L 538.020313 124.207855  z \" style=\"fill:#ff7f0e;opacity:0.5;\"/>\n   </g>\n   <g id=\"patch_30\">\n    <path clip-path=\"url(#p50c9f97125)\" d=\"M 538.020313 118.759206  L 767.057195 118.759206  L 767.057195 96.964611  L 538.020313 96.964611  z \" style=\"fill:#ff7f0e;opacity:0.5;\"/>\n   </g>\n   <g id=\"patch_31\">\n    <path clip-path=\"url(#p50c9f97125)\" d=\"M 538.020313 91.515963  L 748.822779 91.515963  L 748.822779 69.721368  L 538.020313 69.721368  z \" style=\"fill:#ff7f0e;opacity:0.5;\"/>\n   </g>\n   <g id=\"patch_32\">\n    <path clip-path=\"url(#p50c9f97125)\" d=\"M 538.020313 64.27272  L 749.035813 64.27272  L 749.035813 42.478125  L 538.020313 42.478125  z \" style=\"fill:#ff7f0e;opacity:0.5;\"/>\n   </g>\n   <g id=\"matplotlib.axis_1\">\n    <g id=\"xtick_1\">\n     <g id=\"line2d_1\">\n      <defs>\n       <path d=\"M 0 0  L 0 3.5  \" id=\"ma3de0a516a\" style=\"stroke:#000000;stroke-width:0.8;\"/>\n      </defs>\n      <g>\n       <use style=\"stroke:#000000;stroke-width:0.8;\" x=\"538.020313\" xlink:href=\"#ma3de0a516a\" y=\"465.838125\"/>\n      </g>\n     </g>\n     <g id=\"text_1\">\n      <!-- 0 -->\n      <defs>\n       <path d=\"M 31.78125 66.40625  Q 24.171875 66.40625 20.328125 58.90625  Q 16.5 51.421875 16.5 36.375  Q 16.5 21.390625 20.328125 13.890625  Q 24.171875 6.390625 31.78125 6.390625  Q 39.453125 6.390625 43.28125 13.890625  Q 47.125 21.390625 47.125 36.375  Q 47.125 51.421875 43.28125 58.90625  Q 39.453125 66.40625 31.78125 66.40625  z M 31.78125 74.21875  Q 44.046875 74.21875 50.515625 64.515625  Q 56.984375 54.828125 56.984375 36.375  Q 56.984375 17.96875 50.515625 8.265625  Q 44.046875 -1.421875 31.78125 -1.421875  Q 19.53125 -1.421875 13.0625 8.265625  Q 6.59375 17.96875 6.59375 36.375  Q 6.59375 54.828125 13.0625 64.515625  Q 19.53125 74.21875 31.78125 74.21875  z \" id=\"DejaVuSans-48\"/>\n      </defs>\n      <g transform=\"translate(534.839063 480.436562)scale(0.1 -0.1)\">\n       <use xlink:href=\"#DejaVuSans-48\"/>\n      </g>\n     </g>\n    </g>\n    <g id=\"xtick_2\">\n     <g id=\"line2d_2\">\n      <g>\n       <use style=\"stroke:#000000;stroke-width:0.8;\" x=\"628.909782\" xlink:href=\"#ma3de0a516a\" y=\"465.838125\"/>\n      </g>\n     </g>\n     <g id=\"text_2\">\n      <!-- 1 -->\n      <defs>\n       <path d=\"M 12.40625 8.296875  L 28.515625 8.296875  L 28.515625 63.921875  L 10.984375 60.40625  L 10.984375 69.390625  L 28.421875 72.90625  L 38.28125 72.90625  L 38.28125 8.296875  L 54.390625 8.296875  L 54.390625 0  L 12.40625 0  z \" id=\"DejaVuSans-49\"/>\n      </defs>\n      <g transform=\"translate(625.728532 480.436562)scale(0.1 -0.1)\">\n       <use xlink:href=\"#DejaVuSans-49\"/>\n      </g>\n     </g>\n    </g>\n    <g id=\"xtick_3\">\n     <g id=\"line2d_3\">\n      <g>\n       <use style=\"stroke:#000000;stroke-width:0.8;\" x=\"719.799251\" xlink:href=\"#ma3de0a516a\" y=\"465.838125\"/>\n      </g>\n     </g>\n     <g id=\"text_3\">\n      <!-- 2 -->\n      <defs>\n       <path d=\"M 19.1875 8.296875  L 53.609375 8.296875  L 53.609375 0  L 7.328125 0  L 7.328125 8.296875  Q 12.9375 14.109375 22.625 23.890625  Q 32.328125 33.6875 34.8125 36.53125  Q 39.546875 41.84375 41.421875 45.53125  Q 43.3125 49.21875 43.3125 52.78125  Q 43.3125 58.59375 39.234375 62.25  Q 35.15625 65.921875 28.609375 65.921875  Q 23.96875 65.921875 18.8125 64.3125  Q 13.671875 62.703125 7.8125 59.421875  L 7.8125 69.390625  Q 13.765625 71.78125 18.9375 73  Q 24.125 74.21875 28.421875 74.21875  Q 39.75 74.21875 46.484375 68.546875  Q 53.21875 62.890625 53.21875 53.421875  Q 53.21875 48.921875 51.53125 44.890625  Q 49.859375 40.875 45.40625 35.40625  Q 44.1875 33.984375 37.640625 27.21875  Q 31.109375 20.453125 19.1875 8.296875  z \" id=\"DejaVuSans-50\"/>\n      </defs>\n      <g transform=\"translate(716.618001 480.436562)scale(0.1 -0.1)\">\n       <use xlink:href=\"#DejaVuSans-50\"/>\n      </g>\n     </g>\n    </g>\n    <g id=\"xtick_4\">\n     <g id=\"line2d_4\">\n      <g>\n       <use style=\"stroke:#000000;stroke-width:0.8;\" x=\"810.688721\" xlink:href=\"#ma3de0a516a\" y=\"465.838125\"/>\n      </g>\n     </g>\n     <g id=\"text_4\">\n      <!-- 3 -->\n      <defs>\n       <path d=\"M 40.578125 39.3125  Q 47.65625 37.796875 51.625 33  Q 55.609375 28.21875 55.609375 21.1875  Q 55.609375 10.40625 48.1875 4.484375  Q 40.765625 -1.421875 27.09375 -1.421875  Q 22.515625 -1.421875 17.65625 -0.515625  Q 12.796875 0.390625 7.625 2.203125  L 7.625 11.71875  Q 11.71875 9.328125 16.59375 8.109375  Q 21.484375 6.890625 26.8125 6.890625  Q 36.078125 6.890625 40.9375 10.546875  Q 45.796875 14.203125 45.796875 21.1875  Q 45.796875 27.640625 41.28125 31.265625  Q 36.765625 34.90625 28.71875 34.90625  L 20.21875 34.90625  L 20.21875 43.015625  L 29.109375 43.015625  Q 36.375 43.015625 40.234375 45.921875  Q 44.09375 48.828125 44.09375 54.296875  Q 44.09375 59.90625 40.109375 62.90625  Q 36.140625 65.921875 28.71875 65.921875  Q 24.65625 65.921875 20.015625 65.03125  Q 15.375 64.15625 9.8125 62.3125  L 9.8125 71.09375  Q 15.4375 72.65625 20.34375 73.4375  Q 25.25 74.21875 29.59375 74.21875  Q 40.828125 74.21875 47.359375 69.109375  Q 53.90625 64.015625 53.90625 55.328125  Q 53.90625 49.265625 50.4375 45.09375  Q 46.96875 40.921875 40.578125 39.3125  z \" id=\"DejaVuSans-51\"/>\n      </defs>\n      <g transform=\"translate(807.507471 480.436562)scale(0.1 -0.1)\">\n       <use xlink:href=\"#DejaVuSans-51\"/>\n      </g>\n     </g>\n    </g>\n    <g id=\"xtick_5\">\n     <g id=\"line2d_5\">\n      <g>\n       <use style=\"stroke:#000000;stroke-width:0.8;\" x=\"901.57819\" xlink:href=\"#ma3de0a516a\" y=\"465.838125\"/>\n      </g>\n     </g>\n     <g id=\"text_5\">\n      <!-- 4 -->\n      <defs>\n       <path d=\"M 37.796875 64.3125  L 12.890625 25.390625  L 37.796875 25.390625  z M 35.203125 72.90625  L 47.609375 72.90625  L 47.609375 25.390625  L 58.015625 25.390625  L 58.015625 17.1875  L 47.609375 17.1875  L 47.609375 0  L 37.796875 0  L 37.796875 17.1875  L 4.890625 17.1875  L 4.890625 26.703125  z \" id=\"DejaVuSans-52\"/>\n      </defs>\n      <g transform=\"translate(898.39694 480.436562)scale(0.1 -0.1)\">\n       <use xlink:href=\"#DejaVuSans-52\"/>\n      </g>\n     </g>\n    </g>\n    <g id=\"text_6\">\n     <!-- Number of deaths per thousand individuals -->\n     <defs>\n      <path d=\"M 9.8125 72.90625  L 23.09375 72.90625  L 55.421875 11.921875  L 55.421875 72.90625  L 64.984375 72.90625  L 64.984375 0  L 51.703125 0  L 19.390625 60.984375  L 19.390625 0  L 9.8125 0  z \" id=\"DejaVuSans-78\"/>\n      <path d=\"M 8.5 21.578125  L 8.5 54.6875  L 17.484375 54.6875  L 17.484375 21.921875  Q 17.484375 14.15625 20.5 10.265625  Q 23.53125 6.390625 29.59375 6.390625  Q 36.859375 6.390625 41.078125 11.03125  Q 45.3125 15.671875 45.3125 23.6875  L 45.3125 54.6875  L 54.296875 54.6875  L 54.296875 0  L 45.3125 0  L 45.3125 8.40625  Q 42.046875 3.421875 37.71875 1  Q 33.40625 -1.421875 27.6875 -1.421875  Q 18.265625 -1.421875 13.375 4.4375  Q 8.5 10.296875 8.5 21.578125  z M 31.109375 56  z \" id=\"DejaVuSans-117\"/>\n      <path d=\"M 52 44.1875  Q 55.375 50.25 60.0625 53.125  Q 64.75 56 71.09375 56  Q 79.640625 56 84.28125 50.015625  Q 88.921875 44.046875 88.921875 33.015625  L 88.921875 0  L 79.890625 0  L 79.890625 32.71875  Q 79.890625 40.578125 77.09375 44.375  Q 74.3125 48.1875 68.609375 48.1875  Q 61.625 48.1875 57.5625 43.546875  Q 53.515625 38.921875 53.515625 30.90625  L 53.515625 0  L 44.484375 0  L 44.484375 32.71875  Q 44.484375 40.625 41.703125 44.40625  Q 38.921875 48.1875 33.109375 48.1875  Q 26.21875 48.1875 22.15625 43.53125  Q 18.109375 38.875 18.109375 30.90625  L 18.109375 0  L 9.078125 0  L 9.078125 54.6875  L 18.109375 54.6875  L 18.109375 46.1875  Q 21.1875 51.21875 25.484375 53.609375  Q 29.78125 56 35.6875 56  Q 41.65625 56 45.828125 52.96875  Q 50 49.953125 52 44.1875  z \" id=\"DejaVuSans-109\"/>\n      <path d=\"M 48.6875 27.296875  Q 48.6875 37.203125 44.609375 42.84375  Q 40.53125 48.484375 33.40625 48.484375  Q 26.265625 48.484375 22.1875 42.84375  Q 18.109375 37.203125 18.109375 27.296875  Q 18.109375 17.390625 22.1875 11.75  Q 26.265625 6.109375 33.40625 6.109375  Q 40.53125 6.109375 44.609375 11.75  Q 48.6875 17.390625 48.6875 27.296875  z M 18.109375 46.390625  Q 20.953125 51.265625 25.265625 53.625  Q 29.59375 56 35.59375 56  Q 45.5625 56 51.78125 48.09375  Q 58.015625 40.1875 58.015625 27.296875  Q 58.015625 14.40625 51.78125 6.484375  Q 45.5625 -1.421875 35.59375 -1.421875  Q 29.59375 -1.421875 25.265625 0.953125  Q 20.953125 3.328125 18.109375 8.203125  L 18.109375 0  L 9.078125 0  L 9.078125 75.984375  L 18.109375 75.984375  z \" id=\"DejaVuSans-98\"/>\n      <path d=\"M 56.203125 29.59375  L 56.203125 25.203125  L 14.890625 25.203125  Q 15.484375 15.921875 20.484375 11.0625  Q 25.484375 6.203125 34.421875 6.203125  Q 39.59375 6.203125 44.453125 7.46875  Q 49.3125 8.734375 54.109375 11.28125  L 54.109375 2.78125  Q 49.265625 0.734375 44.1875 -0.34375  Q 39.109375 -1.421875 33.890625 -1.421875  Q 20.796875 -1.421875 13.15625 6.1875  Q 5.515625 13.8125 5.515625 26.8125  Q 5.515625 40.234375 12.765625 48.109375  Q 20.015625 56 32.328125 56  Q 43.359375 56 49.78125 48.890625  Q 56.203125 41.796875 56.203125 29.59375  z M 47.21875 32.234375  Q 47.125 39.59375 43.09375 43.984375  Q 39.0625 48.390625 32.421875 48.390625  Q 24.90625 48.390625 20.390625 44.140625  Q 15.875 39.890625 15.1875 32.171875  z \" id=\"DejaVuSans-101\"/>\n      <path d=\"M 41.109375 46.296875  Q 39.59375 47.171875 37.8125 47.578125  Q 36.03125 48 33.890625 48  Q 26.265625 48 22.1875 43.046875  Q 18.109375 38.09375 18.109375 28.8125  L 18.109375 0  L 9.078125 0  L 9.078125 54.6875  L 18.109375 54.6875  L 18.109375 46.1875  Q 20.953125 51.171875 25.484375 53.578125  Q 30.03125 56 36.53125 56  Q 37.453125 56 38.578125 55.875  Q 39.703125 55.765625 41.0625 55.515625  z \" id=\"DejaVuSans-114\"/>\n      <path id=\"DejaVuSans-32\"/>\n      <path d=\"M 30.609375 48.390625  Q 23.390625 48.390625 19.1875 42.75  Q 14.984375 37.109375 14.984375 27.296875  Q 14.984375 17.484375 19.15625 11.84375  Q 23.34375 6.203125 30.609375 6.203125  Q 37.796875 6.203125 41.984375 11.859375  Q 46.1875 17.53125 46.1875 27.296875  Q 46.1875 37.015625 41.984375 42.703125  Q 37.796875 48.390625 30.609375 48.390625  z M 30.609375 56  Q 42.328125 56 49.015625 48.375  Q 55.71875 40.765625 55.71875 27.296875  Q 55.71875 13.875 49.015625 6.21875  Q 42.328125 -1.421875 30.609375 -1.421875  Q 18.84375 -1.421875 12.171875 6.21875  Q 5.515625 13.875 5.515625 27.296875  Q 5.515625 40.765625 12.171875 48.375  Q 18.84375 56 30.609375 56  z \" id=\"DejaVuSans-111\"/>\n      <path d=\"M 37.109375 75.984375  L 37.109375 68.5  L 28.515625 68.5  Q 23.6875 68.5 21.796875 66.546875  Q 19.921875 64.59375 19.921875 59.515625  L 19.921875 54.6875  L 34.71875 54.6875  L 34.71875 47.703125  L 19.921875 47.703125  L 19.921875 0  L 10.890625 0  L 10.890625 47.703125  L 2.296875 47.703125  L 2.296875 54.6875  L 10.890625 54.6875  L 10.890625 58.5  Q 10.890625 67.625 15.140625 71.796875  Q 19.390625 75.984375 28.609375 75.984375  z \" id=\"DejaVuSans-102\"/>\n      <path d=\"M 45.40625 46.390625  L 45.40625 75.984375  L 54.390625 75.984375  L 54.390625 0  L 45.40625 0  L 45.40625 8.203125  Q 42.578125 3.328125 38.25 0.953125  Q 33.9375 -1.421875 27.875 -1.421875  Q 17.96875 -1.421875 11.734375 6.484375  Q 5.515625 14.40625 5.515625 27.296875  Q 5.515625 40.1875 11.734375 48.09375  Q 17.96875 56 27.875 56  Q 33.9375 56 38.25 53.625  Q 42.578125 51.265625 45.40625 46.390625  z M 14.796875 27.296875  Q 14.796875 17.390625 18.875 11.75  Q 22.953125 6.109375 30.078125 6.109375  Q 37.203125 6.109375 41.296875 11.75  Q 45.40625 17.390625 45.40625 27.296875  Q 45.40625 37.203125 41.296875 42.84375  Q 37.203125 48.484375 30.078125 48.484375  Q 22.953125 48.484375 18.875 42.84375  Q 14.796875 37.203125 14.796875 27.296875  z \" id=\"DejaVuSans-100\"/>\n      <path d=\"M 34.28125 27.484375  Q 23.390625 27.484375 19.1875 25  Q 14.984375 22.515625 14.984375 16.5  Q 14.984375 11.71875 18.140625 8.90625  Q 21.296875 6.109375 26.703125 6.109375  Q 34.1875 6.109375 38.703125 11.40625  Q 43.21875 16.703125 43.21875 25.484375  L 43.21875 27.484375  z M 52.203125 31.203125  L 52.203125 0  L 43.21875 0  L 43.21875 8.296875  Q 40.140625 3.328125 35.546875 0.953125  Q 30.953125 -1.421875 24.3125 -1.421875  Q 15.921875 -1.421875 10.953125 3.296875  Q 6 8.015625 6 15.921875  Q 6 25.140625 12.171875 29.828125  Q 18.359375 34.515625 30.609375 34.515625  L 43.21875 34.515625  L 43.21875 35.40625  Q 43.21875 41.609375 39.140625 45  Q 35.0625 48.390625 27.6875 48.390625  Q 23 48.390625 18.546875 47.265625  Q 14.109375 46.140625 10.015625 43.890625  L 10.015625 52.203125  Q 14.9375 54.109375 19.578125 55.046875  Q 24.21875 56 28.609375 56  Q 40.484375 56 46.34375 49.84375  Q 52.203125 43.703125 52.203125 31.203125  z \" id=\"DejaVuSans-97\"/>\n      <path d=\"M 18.3125 70.21875  L 18.3125 54.6875  L 36.8125 54.6875  L 36.8125 47.703125  L 18.3125 47.703125  L 18.3125 18.015625  Q 18.3125 11.328125 20.140625 9.421875  Q 21.96875 7.515625 27.59375 7.515625  L 36.8125 7.515625  L 36.8125 0  L 27.59375 0  Q 17.1875 0 13.234375 3.875  Q 9.28125 7.765625 9.28125 18.015625  L 9.28125 47.703125  L 2.6875 47.703125  L 2.6875 54.6875  L 9.28125 54.6875  L 9.28125 70.21875  z \" id=\"DejaVuSans-116\"/>\n      <path d=\"M 54.890625 33.015625  L 54.890625 0  L 45.90625 0  L 45.90625 32.71875  Q 45.90625 40.484375 42.875 44.328125  Q 39.84375 48.1875 33.796875 48.1875  Q 26.515625 48.1875 22.3125 43.546875  Q 18.109375 38.921875 18.109375 30.90625  L 18.109375 0  L 9.078125 0  L 9.078125 75.984375  L 18.109375 75.984375  L 18.109375 46.1875  Q 21.34375 51.125 25.703125 53.5625  Q 30.078125 56 35.796875 56  Q 45.21875 56 50.046875 50.171875  Q 54.890625 44.34375 54.890625 33.015625  z \" id=\"DejaVuSans-104\"/>\n      <path d=\"M 44.28125 53.078125  L 44.28125 44.578125  Q 40.484375 46.53125 36.375 47.5  Q 32.28125 48.484375 27.875 48.484375  Q 21.1875 48.484375 17.84375 46.4375  Q 14.5 44.390625 14.5 40.28125  Q 14.5 37.15625 16.890625 35.375  Q 19.28125 33.59375 26.515625 31.984375  L 29.59375 31.296875  Q 39.15625 29.25 43.1875 25.515625  Q 47.21875 21.78125 47.21875 15.09375  Q 47.21875 7.46875 41.1875 3.015625  Q 35.15625 -1.421875 24.609375 -1.421875  Q 20.21875 -1.421875 15.453125 -0.5625  Q 10.6875 0.296875 5.421875 2  L 5.421875 11.28125  Q 10.40625 8.6875 15.234375 7.390625  Q 20.0625 6.109375 24.8125 6.109375  Q 31.15625 6.109375 34.5625 8.28125  Q 37.984375 10.453125 37.984375 14.40625  Q 37.984375 18.0625 35.515625 20.015625  Q 33.0625 21.96875 24.703125 23.78125  L 21.578125 24.515625  Q 13.234375 26.265625 9.515625 29.90625  Q 5.8125 33.546875 5.8125 39.890625  Q 5.8125 47.609375 11.28125 51.796875  Q 16.75 56 26.8125 56  Q 31.78125 56 36.171875 55.265625  Q 40.578125 54.546875 44.28125 53.078125  z \" id=\"DejaVuSans-115\"/>\n      <path d=\"M 18.109375 8.203125  L 18.109375 -20.796875  L 9.078125 -20.796875  L 9.078125 54.6875  L 18.109375 54.6875  L 18.109375 46.390625  Q 20.953125 51.265625 25.265625 53.625  Q 29.59375 56 35.59375 56  Q 45.5625 56 51.78125 48.09375  Q 58.015625 40.1875 58.015625 27.296875  Q 58.015625 14.40625 51.78125 6.484375  Q 45.5625 -1.421875 35.59375 -1.421875  Q 29.59375 -1.421875 25.265625 0.953125  Q 20.953125 3.328125 18.109375 8.203125  z M 48.6875 27.296875  Q 48.6875 37.203125 44.609375 42.84375  Q 40.53125 48.484375 33.40625 48.484375  Q 26.265625 48.484375 22.1875 42.84375  Q 18.109375 37.203125 18.109375 27.296875  Q 18.109375 17.390625 22.1875 11.75  Q 26.265625 6.109375 33.40625 6.109375  Q 40.53125 6.109375 44.609375 11.75  Q 48.6875 17.390625 48.6875 27.296875  z \" id=\"DejaVuSans-112\"/>\n      <path d=\"M 54.890625 33.015625  L 54.890625 0  L 45.90625 0  L 45.90625 32.71875  Q 45.90625 40.484375 42.875 44.328125  Q 39.84375 48.1875 33.796875 48.1875  Q 26.515625 48.1875 22.3125 43.546875  Q 18.109375 38.921875 18.109375 30.90625  L 18.109375 0  L 9.078125 0  L 9.078125 54.6875  L 18.109375 54.6875  L 18.109375 46.1875  Q 21.34375 51.125 25.703125 53.5625  Q 30.078125 56 35.796875 56  Q 45.21875 56 50.046875 50.171875  Q 54.890625 44.34375 54.890625 33.015625  z \" id=\"DejaVuSans-110\"/>\n      <path d=\"M 9.421875 54.6875  L 18.40625 54.6875  L 18.40625 0  L 9.421875 0  z M 9.421875 75.984375  L 18.40625 75.984375  L 18.40625 64.59375  L 9.421875 64.59375  z \" id=\"DejaVuSans-105\"/>\n      <path d=\"M 2.984375 54.6875  L 12.5 54.6875  L 29.59375 8.796875  L 46.6875 54.6875  L 56.203125 54.6875  L 35.6875 0  L 23.484375 0  z \" id=\"DejaVuSans-118\"/>\n      <path d=\"M 9.421875 75.984375  L 18.40625 75.984375  L 18.40625 0  L 9.421875 0  z \" id=\"DejaVuSans-108\"/>\n     </defs>\n     <g transform=\"translate(652.775781 494.114687)scale(0.1 -0.1)\">\n      <use xlink:href=\"#DejaVuSans-78\"/>\n      <use x=\"74.804688\" xlink:href=\"#DejaVuSans-117\"/>\n      <use x=\"138.183594\" xlink:href=\"#DejaVuSans-109\"/>\n      <use x=\"235.595703\" xlink:href=\"#DejaVuSans-98\"/>\n      <use x=\"299.072266\" xlink:href=\"#DejaVuSans-101\"/>\n      <use x=\"360.595703\" xlink:href=\"#DejaVuSans-114\"/>\n      <use x=\"401.708984\" xlink:href=\"#DejaVuSans-32\"/>\n      <use x=\"433.496094\" xlink:href=\"#DejaVuSans-111\"/>\n      <use x=\"494.677734\" xlink:href=\"#DejaVuSans-102\"/>\n      <use x=\"529.882812\" xlink:href=\"#DejaVuSans-32\"/>\n      <use x=\"561.669922\" xlink:href=\"#DejaVuSans-100\"/>\n      <use x=\"625.146484\" xlink:href=\"#DejaVuSans-101\"/>\n      <use x=\"686.669922\" xlink:href=\"#DejaVuSans-97\"/>\n      <use x=\"747.949219\" xlink:href=\"#DejaVuSans-116\"/>\n      <use x=\"787.158203\" xlink:href=\"#DejaVuSans-104\"/>\n      <use x=\"850.537109\" xlink:href=\"#DejaVuSans-115\"/>\n      <use x=\"902.636719\" xlink:href=\"#DejaVuSans-32\"/>\n      <use x=\"934.423828\" xlink:href=\"#DejaVuSans-112\"/>\n      <use x=\"997.900391\" xlink:href=\"#DejaVuSans-101\"/>\n      <use x=\"1059.423828\" xlink:href=\"#DejaVuSans-114\"/>\n      <use x=\"1100.537109\" xlink:href=\"#DejaVuSans-32\"/>\n      <use x=\"1132.324219\" xlink:href=\"#DejaVuSans-116\"/>\n      <use x=\"1171.533203\" xlink:href=\"#DejaVuSans-104\"/>\n      <use x=\"1234.912109\" xlink:href=\"#DejaVuSans-111\"/>\n      <use x=\"1296.09375\" xlink:href=\"#DejaVuSans-117\"/>\n      <use x=\"1359.472656\" xlink:href=\"#DejaVuSans-115\"/>\n      <use x=\"1411.572266\" xlink:href=\"#DejaVuSans-97\"/>\n      <use x=\"1472.851562\" xlink:href=\"#DejaVuSans-110\"/>\n      <use x=\"1536.230469\" xlink:href=\"#DejaVuSans-100\"/>\n      <use x=\"1599.707031\" xlink:href=\"#DejaVuSans-32\"/>\n      <use x=\"1631.494141\" xlink:href=\"#DejaVuSans-105\"/>\n      <use x=\"1659.277344\" xlink:href=\"#DejaVuSans-110\"/>\n      <use x=\"1722.65625\" xlink:href=\"#DejaVuSans-100\"/>\n      <use x=\"1786.132812\" xlink:href=\"#DejaVuSans-105\"/>\n      <use x=\"1813.916016\" xlink:href=\"#DejaVuSans-118\"/>\n      <use x=\"1873.095703\" xlink:href=\"#DejaVuSans-105\"/>\n      <use x=\"1900.878906\" xlink:href=\"#DejaVuSans-100\"/>\n      <use x=\"1964.355469\" xlink:href=\"#DejaVuSans-117\"/>\n      <use x=\"2027.734375\" xlink:href=\"#DejaVuSans-97\"/>\n      <use x=\"2089.013672\" xlink:href=\"#DejaVuSans-108\"/>\n      <use x=\"2116.796875\" xlink:href=\"#DejaVuSans-115\"/>\n     </g>\n    </g>\n   </g>\n   <g id=\"matplotlib.axis_2\">\n    <g id=\"ytick_1\">\n     <g id=\"line2d_6\">\n      <defs>\n       <path d=\"M 0 0  L -3.5 0  \" id=\"mb2d8cf769d\" style=\"stroke:#000000;stroke-width:0.8;\"/>\n      </defs>\n      <g>\n       <use style=\"stroke:#000000;stroke-width:0.8;\" x=\"538.020313\" xlink:href=\"#mb2d8cf769d\" y=\"434.780828\"/>\n      </g>\n     </g>\n     <g id=\"text_7\">\n      <!-- Diseases of the blood and blood-forming organs and certain disorders involving the immune mechanism -->\n      <defs>\n       <path d=\"M 19.671875 64.796875  L 19.671875 8.109375  L 31.59375 8.109375  Q 46.6875 8.109375 53.6875 14.9375  Q 60.6875 21.78125 60.6875 36.53125  Q 60.6875 51.171875 53.6875 57.984375  Q 46.6875 64.796875 31.59375 64.796875  z M 9.8125 72.90625  L 30.078125 72.90625  Q 51.265625 72.90625 61.171875 64.09375  Q 71.09375 55.28125 71.09375 36.53125  Q 71.09375 17.671875 61.125 8.828125  Q 51.171875 0 30.078125 0  L 9.8125 0  z \" id=\"DejaVuSans-68\"/>\n       <path d=\"M 4.890625 31.390625  L 31.203125 31.390625  L 31.203125 23.390625  L 4.890625 23.390625  z \" id=\"DejaVuSans-45\"/>\n       <path d=\"M 45.40625 27.984375  Q 45.40625 37.75 41.375 43.109375  Q 37.359375 48.484375 30.078125 48.484375  Q 22.859375 48.484375 18.828125 43.109375  Q 14.796875 37.75 14.796875 27.984375  Q 14.796875 18.265625 18.828125 12.890625  Q 22.859375 7.515625 30.078125 7.515625  Q 37.359375 7.515625 41.375 12.890625  Q 45.40625 18.265625 45.40625 27.984375  z M 54.390625 6.78125  Q 54.390625 -7.171875 48.1875 -13.984375  Q 42 -20.796875 29.203125 -20.796875  Q 24.46875 -20.796875 20.265625 -20.09375  Q 16.0625 -19.390625 12.109375 -17.921875  L 12.109375 -9.1875  Q 16.0625 -11.328125 19.921875 -12.34375  Q 23.78125 -13.375 27.78125 -13.375  Q 36.625 -13.375 41.015625 -8.765625  Q 45.40625 -4.15625 45.40625 5.171875  L 45.40625 9.625  Q 42.625 4.78125 38.28125 2.390625  Q 33.9375 0 27.875 0  Q 17.828125 0 11.671875 7.65625  Q 5.515625 15.328125 5.515625 27.984375  Q 5.515625 40.671875 11.671875 48.328125  Q 17.828125 56 27.875 56  Q 33.9375 56 38.28125 53.609375  Q 42.625 51.21875 45.40625 46.390625  L 45.40625 54.6875  L 54.390625 54.6875  z \" id=\"DejaVuSans-103\"/>\n       <path d=\"M 48.78125 52.59375  L 48.78125 44.1875  Q 44.96875 46.296875 41.140625 47.34375  Q 37.3125 48.390625 33.40625 48.390625  Q 24.65625 48.390625 19.8125 42.84375  Q 14.984375 37.3125 14.984375 27.296875  Q 14.984375 17.28125 19.8125 11.734375  Q 24.65625 6.203125 33.40625 6.203125  Q 37.3125 6.203125 41.140625 7.25  Q 44.96875 8.296875 48.78125 10.40625  L 48.78125 2.09375  Q 45.015625 0.34375 40.984375 -0.53125  Q 36.96875 -1.421875 32.421875 -1.421875  Q 20.0625 -1.421875 12.78125 6.34375  Q 5.515625 14.109375 5.515625 27.296875  Q 5.515625 40.671875 12.859375 48.328125  Q 20.21875 56 33.015625 56  Q 37.15625 56 41.109375 55.140625  Q 45.0625 54.296875 48.78125 52.59375  z \" id=\"DejaVuSans-99\"/>\n      </defs>\n      <g transform=\"translate(7.2 438.580046)scale(0.1 -0.1)\">\n       <use xlink:href=\"#DejaVuSans-68\"/>\n       <use x=\"77.001953\" xlink:href=\"#DejaVuSans-105\"/>\n       <use x=\"104.785156\" xlink:href=\"#DejaVuSans-115\"/>\n       <use x=\"156.884766\" xlink:href=\"#DejaVuSans-101\"/>\n       <use x=\"218.408203\" xlink:href=\"#DejaVuSans-97\"/>\n       <use x=\"279.6875\" xlink:href=\"#DejaVuSans-115\"/>\n       <use x=\"331.787109\" xlink:href=\"#DejaVuSans-101\"/>\n       <use x=\"393.310547\" xlink:href=\"#DejaVuSans-115\"/>\n       <use x=\"445.410156\" xlink:href=\"#DejaVuSans-32\"/>\n       <use x=\"477.197266\" xlink:href=\"#DejaVuSans-111\"/>\n       <use x=\"538.378906\" xlink:href=\"#DejaVuSans-102\"/>\n       <use x=\"573.583984\" xlink:href=\"#DejaVuSans-32\"/>\n       <use x=\"605.371094\" xlink:href=\"#DejaVuSans-116\"/>\n       <use x=\"644.580078\" xlink:href=\"#DejaVuSans-104\"/>\n       <use x=\"707.958984\" xlink:href=\"#DejaVuSans-101\"/>\n       <use x=\"769.482422\" xlink:href=\"#DejaVuSans-32\"/>\n       <use x=\"801.269531\" xlink:href=\"#DejaVuSans-98\"/>\n       <use x=\"864.746094\" xlink:href=\"#DejaVuSans-108\"/>\n       <use x=\"892.529297\" xlink:href=\"#DejaVuSans-111\"/>\n       <use x=\"953.710938\" xlink:href=\"#DejaVuSans-111\"/>\n       <use x=\"1014.892578\" xlink:href=\"#DejaVuSans-100\"/>\n       <use x=\"1078.369141\" xlink:href=\"#DejaVuSans-32\"/>\n       <use x=\"1110.15625\" xlink:href=\"#DejaVuSans-97\"/>\n       <use x=\"1171.435547\" xlink:href=\"#DejaVuSans-110\"/>\n       <use x=\"1234.814453\" xlink:href=\"#DejaVuSans-100\"/>\n       <use x=\"1298.291016\" xlink:href=\"#DejaVuSans-32\"/>\n       <use x=\"1330.078125\" xlink:href=\"#DejaVuSans-98\"/>\n       <use x=\"1393.554688\" xlink:href=\"#DejaVuSans-108\"/>\n       <use x=\"1421.337891\" xlink:href=\"#DejaVuSans-111\"/>\n       <use x=\"1482.519531\" xlink:href=\"#DejaVuSans-111\"/>\n       <use x=\"1543.701172\" xlink:href=\"#DejaVuSans-100\"/>\n       <use x=\"1607.177734\" xlink:href=\"#DejaVuSans-45\"/>\n       <use x=\"1643.261719\" xlink:href=\"#DejaVuSans-102\"/>\n       <use x=\"1678.466797\" xlink:href=\"#DejaVuSans-111\"/>\n       <use x=\"1739.648438\" xlink:href=\"#DejaVuSans-114\"/>\n       <use x=\"1780.746094\" xlink:href=\"#DejaVuSans-109\"/>\n       <use x=\"1878.158203\" xlink:href=\"#DejaVuSans-105\"/>\n       <use x=\"1905.941406\" xlink:href=\"#DejaVuSans-110\"/>\n       <use x=\"1969.320312\" xlink:href=\"#DejaVuSans-103\"/>\n       <use x=\"2032.796875\" xlink:href=\"#DejaVuSans-32\"/>\n       <use x=\"2064.583984\" xlink:href=\"#DejaVuSans-111\"/>\n       <use x=\"2125.765625\" xlink:href=\"#DejaVuSans-114\"/>\n       <use x=\"2166.863281\" xlink:href=\"#DejaVuSans-103\"/>\n       <use x=\"2230.339844\" xlink:href=\"#DejaVuSans-97\"/>\n       <use x=\"2291.619141\" xlink:href=\"#DejaVuSans-110\"/>\n       <use x=\"2354.998047\" xlink:href=\"#DejaVuSans-115\"/>\n       <use x=\"2407.097656\" xlink:href=\"#DejaVuSans-32\"/>\n       <use x=\"2438.884766\" xlink:href=\"#DejaVuSans-97\"/>\n       <use x=\"2500.164062\" xlink:href=\"#DejaVuSans-110\"/>\n       <use x=\"2563.542969\" xlink:href=\"#DejaVuSans-100\"/>\n       <use x=\"2627.019531\" xlink:href=\"#DejaVuSans-32\"/>\n       <use x=\"2658.806641\" xlink:href=\"#DejaVuSans-99\"/>\n       <use x=\"2713.787109\" xlink:href=\"#DejaVuSans-101\"/>\n       <use x=\"2775.310547\" xlink:href=\"#DejaVuSans-114\"/>\n       <use x=\"2816.423828\" xlink:href=\"#DejaVuSans-116\"/>\n       <use x=\"2855.632812\" xlink:href=\"#DejaVuSans-97\"/>\n       <use x=\"2916.912109\" xlink:href=\"#DejaVuSans-105\"/>\n       <use x=\"2944.695312\" xlink:href=\"#DejaVuSans-110\"/>\n       <use x=\"3008.074219\" xlink:href=\"#DejaVuSans-32\"/>\n       <use x=\"3039.861328\" xlink:href=\"#DejaVuSans-100\"/>\n       <use x=\"3103.337891\" xlink:href=\"#DejaVuSans-105\"/>\n       <use x=\"3131.121094\" xlink:href=\"#DejaVuSans-115\"/>\n       <use x=\"3183.220703\" xlink:href=\"#DejaVuSans-111\"/>\n       <use x=\"3244.402344\" xlink:href=\"#DejaVuSans-114\"/>\n       <use x=\"3285.5\" xlink:href=\"#DejaVuSans-100\"/>\n       <use x=\"3348.976562\" xlink:href=\"#DejaVuSans-101\"/>\n       <use x=\"3410.5\" xlink:href=\"#DejaVuSans-114\"/>\n       <use x=\"3451.613281\" xlink:href=\"#DejaVuSans-115\"/>\n       <use x=\"3503.712891\" xlink:href=\"#DejaVuSans-32\"/>\n       <use x=\"3535.5\" xlink:href=\"#DejaVuSans-105\"/>\n       <use x=\"3563.283203\" xlink:href=\"#DejaVuSans-110\"/>\n       <use x=\"3626.662109\" xlink:href=\"#DejaVuSans-118\"/>\n       <use x=\"3685.841797\" xlink:href=\"#DejaVuSans-111\"/>\n       <use x=\"3747.023438\" xlink:href=\"#DejaVuSans-108\"/>\n       <use x=\"3774.806641\" xlink:href=\"#DejaVuSans-118\"/>\n       <use x=\"3833.986328\" xlink:href=\"#DejaVuSans-105\"/>\n       <use x=\"3861.769531\" xlink:href=\"#DejaVuSans-110\"/>\n       <use x=\"3925.148438\" xlink:href=\"#DejaVuSans-103\"/>\n       <use x=\"3988.625\" xlink:href=\"#DejaVuSans-32\"/>\n       <use x=\"4020.412109\" xlink:href=\"#DejaVuSans-116\"/>\n       <use x=\"4059.621094\" xlink:href=\"#DejaVuSans-104\"/>\n       <use x=\"4123\" xlink:href=\"#DejaVuSans-101\"/>\n       <use x=\"4184.523438\" xlink:href=\"#DejaVuSans-32\"/>\n       <use x=\"4216.310547\" xlink:href=\"#DejaVuSans-105\"/>\n       <use x=\"4244.09375\" xlink:href=\"#DejaVuSans-109\"/>\n       <use x=\"4341.505859\" xlink:href=\"#DejaVuSans-109\"/>\n       <use x=\"4438.917969\" xlink:href=\"#DejaVuSans-117\"/>\n       <use x=\"4502.296875\" xlink:href=\"#DejaVuSans-110\"/>\n       <use x=\"4565.675781\" xlink:href=\"#DejaVuSans-101\"/>\n       <use x=\"4627.199219\" xlink:href=\"#DejaVuSans-32\"/>\n       <use x=\"4658.986328\" xlink:href=\"#DejaVuSans-109\"/>\n       <use x=\"4756.398438\" xlink:href=\"#DejaVuSans-101\"/>\n       <use x=\"4817.921875\" xlink:href=\"#DejaVuSans-99\"/>\n       <use x=\"4872.902344\" xlink:href=\"#DejaVuSans-104\"/>\n       <use x=\"4936.28125\" xlink:href=\"#DejaVuSans-97\"/>\n       <use x=\"4997.560547\" xlink:href=\"#DejaVuSans-110\"/>\n       <use x=\"5060.939453\" xlink:href=\"#DejaVuSans-105\"/>\n       <use x=\"5088.722656\" xlink:href=\"#DejaVuSans-115\"/>\n       <use x=\"5140.822266\" xlink:href=\"#DejaVuSans-109\"/>\n      </g>\n     </g>\n    </g>\n    <g id=\"ytick_2\">\n     <g id=\"line2d_7\">\n      <g>\n       <use style=\"stroke:#000000;stroke-width:0.8;\" x=\"538.020313\" xlink:href=\"#mb2d8cf769d\" y=\"407.537584\"/>\n      </g>\n     </g>\n     <g id=\"text_8\">\n      <!-- Neoplasms -->\n      <g transform=\"translate(475.853125 411.336803)scale(0.1 -0.1)\">\n       <use xlink:href=\"#DejaVuSans-78\"/>\n       <use x=\"74.804688\" xlink:href=\"#DejaVuSans-101\"/>\n       <use x=\"136.328125\" xlink:href=\"#DejaVuSans-111\"/>\n       <use x=\"197.509766\" xlink:href=\"#DejaVuSans-112\"/>\n       <use x=\"260.986328\" xlink:href=\"#DejaVuSans-108\"/>\n       <use x=\"288.769531\" xlink:href=\"#DejaVuSans-97\"/>\n       <use x=\"350.048828\" xlink:href=\"#DejaVuSans-115\"/>\n       <use x=\"402.148438\" xlink:href=\"#DejaVuSans-109\"/>\n       <use x=\"499.560547\" xlink:href=\"#DejaVuSans-115\"/>\n      </g>\n     </g>\n    </g>\n    <g id=\"ytick_3\">\n     <g id=\"line2d_8\">\n      <g>\n       <use style=\"stroke:#000000;stroke-width:0.8;\" x=\"538.020313\" xlink:href=\"#mb2d8cf769d\" y=\"380.294341\"/>\n      </g>\n     </g>\n     <g id=\"text_9\">\n      <!-- Diseases of the circulatory system -->\n      <defs>\n       <path d=\"M 32.171875 -5.078125  Q 28.375 -14.84375 24.75 -17.8125  Q 21.140625 -20.796875 15.09375 -20.796875  L 7.90625 -20.796875  L 7.90625 -13.28125  L 13.1875 -13.28125  Q 16.890625 -13.28125 18.9375 -11.515625  Q 21 -9.765625 23.484375 -3.21875  L 25.09375 0.875  L 2.984375 54.6875  L 12.5 54.6875  L 29.59375 11.921875  L 46.6875 54.6875  L 56.203125 54.6875  z \" id=\"DejaVuSans-121\"/>\n      </defs>\n      <g transform=\"translate(358.370313 384.09356)scale(0.1 -0.1)\">\n       <use xlink:href=\"#DejaVuSans-68\"/>\n       <use x=\"77.001953\" xlink:href=\"#DejaVuSans-105\"/>\n       <use x=\"104.785156\" xlink:href=\"#DejaVuSans-115\"/>\n       <use x=\"156.884766\" xlink:href=\"#DejaVuSans-101\"/>\n       <use x=\"218.408203\" xlink:href=\"#DejaVuSans-97\"/>\n       <use x=\"279.6875\" xlink:href=\"#DejaVuSans-115\"/>\n       <use x=\"331.787109\" xlink:href=\"#DejaVuSans-101\"/>\n       <use x=\"393.310547\" xlink:href=\"#DejaVuSans-115\"/>\n       <use x=\"445.410156\" xlink:href=\"#DejaVuSans-32\"/>\n       <use x=\"477.197266\" xlink:href=\"#DejaVuSans-111\"/>\n       <use x=\"538.378906\" xlink:href=\"#DejaVuSans-102\"/>\n       <use x=\"573.583984\" xlink:href=\"#DejaVuSans-32\"/>\n       <use x=\"605.371094\" xlink:href=\"#DejaVuSans-116\"/>\n       <use x=\"644.580078\" xlink:href=\"#DejaVuSans-104\"/>\n       <use x=\"707.958984\" xlink:href=\"#DejaVuSans-101\"/>\n       <use x=\"769.482422\" xlink:href=\"#DejaVuSans-32\"/>\n       <use x=\"801.269531\" xlink:href=\"#DejaVuSans-99\"/>\n       <use x=\"856.25\" xlink:href=\"#DejaVuSans-105\"/>\n       <use x=\"884.033203\" xlink:href=\"#DejaVuSans-114\"/>\n       <use x=\"925.115234\" xlink:href=\"#DejaVuSans-99\"/>\n       <use x=\"980.095703\" xlink:href=\"#DejaVuSans-117\"/>\n       <use x=\"1043.474609\" xlink:href=\"#DejaVuSans-108\"/>\n       <use x=\"1071.257812\" xlink:href=\"#DejaVuSans-97\"/>\n       <use x=\"1132.537109\" xlink:href=\"#DejaVuSans-116\"/>\n       <use x=\"1171.746094\" xlink:href=\"#DejaVuSans-111\"/>\n       <use x=\"1232.927734\" xlink:href=\"#DejaVuSans-114\"/>\n       <use x=\"1274.041016\" xlink:href=\"#DejaVuSans-121\"/>\n       <use x=\"1333.220703\" xlink:href=\"#DejaVuSans-32\"/>\n       <use x=\"1365.007812\" xlink:href=\"#DejaVuSans-115\"/>\n       <use x=\"1417.107422\" xlink:href=\"#DejaVuSans-121\"/>\n       <use x=\"1476.287109\" xlink:href=\"#DejaVuSans-115\"/>\n       <use x=\"1528.386719\" xlink:href=\"#DejaVuSans-116\"/>\n       <use x=\"1567.595703\" xlink:href=\"#DejaVuSans-101\"/>\n       <use x=\"1629.119141\" xlink:href=\"#DejaVuSans-109\"/>\n      </g>\n     </g>\n    </g>\n    <g id=\"ytick_4\">\n     <g id=\"line2d_9\">\n      <g>\n       <use style=\"stroke:#000000;stroke-width:0.8;\" x=\"538.020313\" xlink:href=\"#mb2d8cf769d\" y=\"353.051098\"/>\n      </g>\n     </g>\n     <g id=\"text_10\">\n      <!-- Congenital malformations, deformations and chromosomal abnormalities -->\n      <defs>\n       <path d=\"M 64.40625 67.28125  L 64.40625 56.890625  Q 59.421875 61.53125 53.78125 63.8125  Q 48.140625 66.109375 41.796875 66.109375  Q 29.296875 66.109375 22.65625 58.46875  Q 16.015625 50.828125 16.015625 36.375  Q 16.015625 21.96875 22.65625 14.328125  Q 29.296875 6.6875 41.796875 6.6875  Q 48.140625 6.6875 53.78125 8.984375  Q 59.421875 11.28125 64.40625 15.921875  L 64.40625 5.609375  Q 59.234375 2.09375 53.4375 0.328125  Q 47.65625 -1.421875 41.21875 -1.421875  Q 24.65625 -1.421875 15.125 8.703125  Q 5.609375 18.84375 5.609375 36.375  Q 5.609375 53.953125 15.125 64.078125  Q 24.65625 74.21875 41.21875 74.21875  Q 47.75 74.21875 53.53125 72.484375  Q 59.328125 70.75 64.40625 67.28125  z \" id=\"DejaVuSans-67\"/>\n       <path d=\"M 11.71875 12.40625  L 22.015625 12.40625  L 22.015625 4  L 14.015625 -11.625  L 7.71875 -11.625  L 11.71875 4  z \" id=\"DejaVuSans-44\"/>\n      </defs>\n      <g transform=\"translate(163.71875 356.850317)scale(0.1 -0.1)\">\n       <use xlink:href=\"#DejaVuSans-67\"/>\n       <use x=\"69.824219\" xlink:href=\"#DejaVuSans-111\"/>\n       <use x=\"131.005859\" xlink:href=\"#DejaVuSans-110\"/>\n       <use x=\"194.384766\" xlink:href=\"#DejaVuSans-103\"/>\n       <use x=\"257.861328\" xlink:href=\"#DejaVuSans-101\"/>\n       <use x=\"319.384766\" xlink:href=\"#DejaVuSans-110\"/>\n       <use x=\"382.763672\" xlink:href=\"#DejaVuSans-105\"/>\n       <use x=\"410.546875\" xlink:href=\"#DejaVuSans-116\"/>\n       <use x=\"449.755859\" xlink:href=\"#DejaVuSans-97\"/>\n       <use x=\"511.035156\" xlink:href=\"#DejaVuSans-108\"/>\n       <use x=\"538.818359\" xlink:href=\"#DejaVuSans-32\"/>\n       <use x=\"570.605469\" xlink:href=\"#DejaVuSans-109\"/>\n       <use x=\"668.017578\" xlink:href=\"#DejaVuSans-97\"/>\n       <use x=\"729.296875\" xlink:href=\"#DejaVuSans-108\"/>\n       <use x=\"757.080078\" xlink:href=\"#DejaVuSans-102\"/>\n       <use x=\"792.285156\" xlink:href=\"#DejaVuSans-111\"/>\n       <use x=\"853.466797\" xlink:href=\"#DejaVuSans-114\"/>\n       <use x=\"894.564453\" xlink:href=\"#DejaVuSans-109\"/>\n       <use x=\"991.976562\" xlink:href=\"#DejaVuSans-97\"/>\n       <use x=\"1053.255859\" xlink:href=\"#DejaVuSans-116\"/>\n       <use x=\"1092.464844\" xlink:href=\"#DejaVuSans-105\"/>\n       <use x=\"1120.248047\" xlink:href=\"#DejaVuSans-111\"/>\n       <use x=\"1181.429688\" xlink:href=\"#DejaVuSans-110\"/>\n       <use x=\"1244.808594\" xlink:href=\"#DejaVuSans-115\"/>\n       <use x=\"1296.908203\" xlink:href=\"#DejaVuSans-44\"/>\n       <use x=\"1328.695312\" xlink:href=\"#DejaVuSans-32\"/>\n       <use x=\"1360.482422\" xlink:href=\"#DejaVuSans-100\"/>\n       <use x=\"1423.958984\" xlink:href=\"#DejaVuSans-101\"/>\n       <use x=\"1485.482422\" xlink:href=\"#DejaVuSans-102\"/>\n       <use x=\"1520.6875\" xlink:href=\"#DejaVuSans-111\"/>\n       <use x=\"1581.869141\" xlink:href=\"#DejaVuSans-114\"/>\n       <use x=\"1622.966797\" xlink:href=\"#DejaVuSans-109\"/>\n       <use x=\"1720.378906\" xlink:href=\"#DejaVuSans-97\"/>\n       <use x=\"1781.658203\" xlink:href=\"#DejaVuSans-116\"/>\n       <use x=\"1820.867188\" xlink:href=\"#DejaVuSans-105\"/>\n       <use x=\"1848.650391\" xlink:href=\"#DejaVuSans-111\"/>\n       <use x=\"1909.832031\" xlink:href=\"#DejaVuSans-110\"/>\n       <use x=\"1973.210938\" xlink:href=\"#DejaVuSans-115\"/>\n       <use x=\"2025.310547\" xlink:href=\"#DejaVuSans-32\"/>\n       <use x=\"2057.097656\" xlink:href=\"#DejaVuSans-97\"/>\n       <use x=\"2118.376953\" xlink:href=\"#DejaVuSans-110\"/>\n       <use x=\"2181.755859\" xlink:href=\"#DejaVuSans-100\"/>\n       <use x=\"2245.232422\" xlink:href=\"#DejaVuSans-32\"/>\n       <use x=\"2277.019531\" xlink:href=\"#DejaVuSans-99\"/>\n       <use x=\"2332\" xlink:href=\"#DejaVuSans-104\"/>\n       <use x=\"2395.378906\" xlink:href=\"#DejaVuSans-114\"/>\n       <use x=\"2436.460938\" xlink:href=\"#DejaVuSans-111\"/>\n       <use x=\"2497.642578\" xlink:href=\"#DejaVuSans-109\"/>\n       <use x=\"2595.054688\" xlink:href=\"#DejaVuSans-111\"/>\n       <use x=\"2656.236328\" xlink:href=\"#DejaVuSans-115\"/>\n       <use x=\"2708.335938\" xlink:href=\"#DejaVuSans-111\"/>\n       <use x=\"2769.517578\" xlink:href=\"#DejaVuSans-109\"/>\n       <use x=\"2866.929688\" xlink:href=\"#DejaVuSans-97\"/>\n       <use x=\"2928.208984\" xlink:href=\"#DejaVuSans-108\"/>\n       <use x=\"2955.992188\" xlink:href=\"#DejaVuSans-32\"/>\n       <use x=\"2987.779297\" xlink:href=\"#DejaVuSans-97\"/>\n       <use x=\"3049.058594\" xlink:href=\"#DejaVuSans-98\"/>\n       <use x=\"3112.535156\" xlink:href=\"#DejaVuSans-110\"/>\n       <use x=\"3175.914062\" xlink:href=\"#DejaVuSans-111\"/>\n       <use x=\"3237.095703\" xlink:href=\"#DejaVuSans-114\"/>\n       <use x=\"3278.193359\" xlink:href=\"#DejaVuSans-109\"/>\n       <use x=\"3375.605469\" xlink:href=\"#DejaVuSans-97\"/>\n       <use x=\"3436.884766\" xlink:href=\"#DejaVuSans-108\"/>\n       <use x=\"3464.667969\" xlink:href=\"#DejaVuSans-105\"/>\n       <use x=\"3492.451172\" xlink:href=\"#DejaVuSans-116\"/>\n       <use x=\"3531.660156\" xlink:href=\"#DejaVuSans-105\"/>\n       <use x=\"3559.443359\" xlink:href=\"#DejaVuSans-101\"/>\n       <use x=\"3620.966797\" xlink:href=\"#DejaVuSans-115\"/>\n      </g>\n     </g>\n    </g>\n    <g id=\"ytick_5\">\n     <g id=\"line2d_10\">\n      <g>\n       <use style=\"stroke:#000000;stroke-width:0.8;\" x=\"538.020313\" xlink:href=\"#mb2d8cf769d\" y=\"325.807855\"/>\n      </g>\n     </g>\n     <g id=\"text_11\">\n      <!-- Diseases of the eye and adnexa -->\n      <defs>\n       <path d=\"M 54.890625 54.6875  L 35.109375 28.078125  L 55.90625 0  L 45.3125 0  L 29.390625 21.484375  L 13.484375 0  L 2.875 0  L 24.125 28.609375  L 4.6875 54.6875  L 15.28125 54.6875  L 29.78125 35.203125  L 44.28125 54.6875  z \" id=\"DejaVuSans-120\"/>\n      </defs>\n      <g transform=\"translate(370.4875 329.607073)scale(0.1 -0.1)\">\n       <use xlink:href=\"#DejaVuSans-68\"/>\n       <use x=\"77.001953\" xlink:href=\"#DejaVuSans-105\"/>\n       <use x=\"104.785156\" xlink:href=\"#DejaVuSans-115\"/>\n       <use x=\"156.884766\" xlink:href=\"#DejaVuSans-101\"/>\n       <use x=\"218.408203\" xlink:href=\"#DejaVuSans-97\"/>\n       <use x=\"279.6875\" xlink:href=\"#DejaVuSans-115\"/>\n       <use x=\"331.787109\" xlink:href=\"#DejaVuSans-101\"/>\n       <use x=\"393.310547\" xlink:href=\"#DejaVuSans-115\"/>\n       <use x=\"445.410156\" xlink:href=\"#DejaVuSans-32\"/>\n       <use x=\"477.197266\" xlink:href=\"#DejaVuSans-111\"/>\n       <use x=\"538.378906\" xlink:href=\"#DejaVuSans-102\"/>\n       <use x=\"573.583984\" xlink:href=\"#DejaVuSans-32\"/>\n       <use x=\"605.371094\" xlink:href=\"#DejaVuSans-116\"/>\n       <use x=\"644.580078\" xlink:href=\"#DejaVuSans-104\"/>\n       <use x=\"707.958984\" xlink:href=\"#DejaVuSans-101\"/>\n       <use x=\"769.482422\" xlink:href=\"#DejaVuSans-32\"/>\n       <use x=\"801.269531\" xlink:href=\"#DejaVuSans-101\"/>\n       <use x=\"862.792969\" xlink:href=\"#DejaVuSans-121\"/>\n       <use x=\"921.972656\" xlink:href=\"#DejaVuSans-101\"/>\n       <use x=\"983.496094\" xlink:href=\"#DejaVuSans-32\"/>\n       <use x=\"1015.283203\" xlink:href=\"#DejaVuSans-97\"/>\n       <use x=\"1076.5625\" xlink:href=\"#DejaVuSans-110\"/>\n       <use x=\"1139.941406\" xlink:href=\"#DejaVuSans-100\"/>\n       <use x=\"1203.417969\" xlink:href=\"#DejaVuSans-32\"/>\n       <use x=\"1235.205078\" xlink:href=\"#DejaVuSans-97\"/>\n       <use x=\"1296.484375\" xlink:href=\"#DejaVuSans-100\"/>\n       <use x=\"1359.960938\" xlink:href=\"#DejaVuSans-110\"/>\n       <use x=\"1423.339844\" xlink:href=\"#DejaVuSans-101\"/>\n       <use x=\"1484.847656\" xlink:href=\"#DejaVuSans-120\"/>\n       <use x=\"1544.027344\" xlink:href=\"#DejaVuSans-97\"/>\n      </g>\n     </g>\n    </g>\n    <g id=\"ytick_6\">\n     <g id=\"line2d_11\">\n      <g>\n       <use style=\"stroke:#000000;stroke-width:0.8;\" x=\"538.020313\" xlink:href=\"#mb2d8cf769d\" y=\"298.564611\"/>\n      </g>\n     </g>\n     <g id=\"text_12\">\n      <!-- Endocrine, nutritional and metabolic diseases -->\n      <defs>\n       <path d=\"M 9.8125 72.90625  L 55.90625 72.90625  L 55.90625 64.59375  L 19.671875 64.59375  L 19.671875 43.015625  L 54.390625 43.015625  L 54.390625 34.71875  L 19.671875 34.71875  L 19.671875 8.296875  L 56.78125 8.296875  L 56.78125 0  L 9.8125 0  z \" id=\"DejaVuSans-69\"/>\n      </defs>\n      <g transform=\"translate(302.115625 302.36383)scale(0.1 -0.1)\">\n       <use xlink:href=\"#DejaVuSans-69\"/>\n       <use x=\"63.183594\" xlink:href=\"#DejaVuSans-110\"/>\n       <use x=\"126.5625\" xlink:href=\"#DejaVuSans-100\"/>\n       <use x=\"190.039062\" xlink:href=\"#DejaVuSans-111\"/>\n       <use x=\"251.220703\" xlink:href=\"#DejaVuSans-99\"/>\n       <use x=\"306.201172\" xlink:href=\"#DejaVuSans-114\"/>\n       <use x=\"347.314453\" xlink:href=\"#DejaVuSans-105\"/>\n       <use x=\"375.097656\" xlink:href=\"#DejaVuSans-110\"/>\n       <use x=\"438.476562\" xlink:href=\"#DejaVuSans-101\"/>\n       <use x=\"500\" xlink:href=\"#DejaVuSans-44\"/>\n       <use x=\"531.787109\" xlink:href=\"#DejaVuSans-32\"/>\n       <use x=\"563.574219\" xlink:href=\"#DejaVuSans-110\"/>\n       <use x=\"626.953125\" xlink:href=\"#DejaVuSans-117\"/>\n       <use x=\"690.332031\" xlink:href=\"#DejaVuSans-116\"/>\n       <use x=\"729.541016\" xlink:href=\"#DejaVuSans-114\"/>\n       <use x=\"770.654297\" xlink:href=\"#DejaVuSans-105\"/>\n       <use x=\"798.4375\" xlink:href=\"#DejaVuSans-116\"/>\n       <use x=\"837.646484\" xlink:href=\"#DejaVuSans-105\"/>\n       <use x=\"865.429688\" xlink:href=\"#DejaVuSans-111\"/>\n       <use x=\"926.611328\" xlink:href=\"#DejaVuSans-110\"/>\n       <use x=\"989.990234\" xlink:href=\"#DejaVuSans-97\"/>\n       <use x=\"1051.269531\" xlink:href=\"#DejaVuSans-108\"/>\n       <use x=\"1079.052734\" xlink:href=\"#DejaVuSans-32\"/>\n       <use x=\"1110.839844\" xlink:href=\"#DejaVuSans-97\"/>\n       <use x=\"1172.119141\" xlink:href=\"#DejaVuSans-110\"/>\n       <use x=\"1235.498047\" xlink:href=\"#DejaVuSans-100\"/>\n       <use x=\"1298.974609\" xlink:href=\"#DejaVuSans-32\"/>\n       <use x=\"1330.761719\" xlink:href=\"#DejaVuSans-109\"/>\n       <use x=\"1428.173828\" xlink:href=\"#DejaVuSans-101\"/>\n       <use x=\"1489.697266\" xlink:href=\"#DejaVuSans-116\"/>\n       <use x=\"1528.90625\" xlink:href=\"#DejaVuSans-97\"/>\n       <use x=\"1590.185547\" xlink:href=\"#DejaVuSans-98\"/>\n       <use x=\"1653.662109\" xlink:href=\"#DejaVuSans-111\"/>\n       <use x=\"1714.84375\" xlink:href=\"#DejaVuSans-108\"/>\n       <use x=\"1742.626953\" xlink:href=\"#DejaVuSans-105\"/>\n       <use x=\"1770.410156\" xlink:href=\"#DejaVuSans-99\"/>\n       <use x=\"1825.390625\" xlink:href=\"#DejaVuSans-32\"/>\n       <use x=\"1857.177734\" xlink:href=\"#DejaVuSans-100\"/>\n       <use x=\"1920.654297\" xlink:href=\"#DejaVuSans-105\"/>\n       <use x=\"1948.4375\" xlink:href=\"#DejaVuSans-115\"/>\n       <use x=\"2000.537109\" xlink:href=\"#DejaVuSans-101\"/>\n       <use x=\"2062.060547\" xlink:href=\"#DejaVuSans-97\"/>\n       <use x=\"2123.339844\" xlink:href=\"#DejaVuSans-115\"/>\n       <use x=\"2175.439453\" xlink:href=\"#DejaVuSans-101\"/>\n       <use x=\"2236.962891\" xlink:href=\"#DejaVuSans-115\"/>\n      </g>\n     </g>\n    </g>\n    <g id=\"ytick_7\">\n     <g id=\"line2d_12\">\n      <g>\n       <use style=\"stroke:#000000;stroke-width:0.8;\" x=\"538.020313\" xlink:href=\"#mb2d8cf769d\" y=\"271.321368\"/>\n      </g>\n     </g>\n     <g id=\"text_13\">\n      <!-- Diseases of the nervous system -->\n      <g transform=\"translate(371.379688 275.120587)scale(0.1 -0.1)\">\n       <use xlink:href=\"#DejaVuSans-68\"/>\n       <use x=\"77.001953\" xlink:href=\"#DejaVuSans-105\"/>\n       <use x=\"104.785156\" xlink:href=\"#DejaVuSans-115\"/>\n       <use x=\"156.884766\" xlink:href=\"#DejaVuSans-101\"/>\n       <use x=\"218.408203\" xlink:href=\"#DejaVuSans-97\"/>\n       <use x=\"279.6875\" xlink:href=\"#DejaVuSans-115\"/>\n       <use x=\"331.787109\" xlink:href=\"#DejaVuSans-101\"/>\n       <use x=\"393.310547\" xlink:href=\"#DejaVuSans-115\"/>\n       <use x=\"445.410156\" xlink:href=\"#DejaVuSans-32\"/>\n       <use x=\"477.197266\" xlink:href=\"#DejaVuSans-111\"/>\n       <use x=\"538.378906\" xlink:href=\"#DejaVuSans-102\"/>\n       <use x=\"573.583984\" xlink:href=\"#DejaVuSans-32\"/>\n       <use x=\"605.371094\" xlink:href=\"#DejaVuSans-116\"/>\n       <use x=\"644.580078\" xlink:href=\"#DejaVuSans-104\"/>\n       <use x=\"707.958984\" xlink:href=\"#DejaVuSans-101\"/>\n       <use x=\"769.482422\" xlink:href=\"#DejaVuSans-32\"/>\n       <use x=\"801.269531\" xlink:href=\"#DejaVuSans-110\"/>\n       <use x=\"864.648438\" xlink:href=\"#DejaVuSans-101\"/>\n       <use x=\"926.171875\" xlink:href=\"#DejaVuSans-114\"/>\n       <use x=\"967.285156\" xlink:href=\"#DejaVuSans-118\"/>\n       <use x=\"1026.464844\" xlink:href=\"#DejaVuSans-111\"/>\n       <use x=\"1087.646484\" xlink:href=\"#DejaVuSans-117\"/>\n       <use x=\"1151.025391\" xlink:href=\"#DejaVuSans-115\"/>\n       <use x=\"1203.125\" xlink:href=\"#DejaVuSans-32\"/>\n       <use x=\"1234.912109\" xlink:href=\"#DejaVuSans-115\"/>\n       <use x=\"1287.011719\" xlink:href=\"#DejaVuSans-121\"/>\n       <use x=\"1346.191406\" xlink:href=\"#DejaVuSans-115\"/>\n       <use x=\"1398.291016\" xlink:href=\"#DejaVuSans-116\"/>\n       <use x=\"1437.5\" xlink:href=\"#DejaVuSans-101\"/>\n       <use x=\"1499.023438\" xlink:href=\"#DejaVuSans-109\"/>\n      </g>\n     </g>\n    </g>\n    <g id=\"ytick_8\">\n     <g id=\"line2d_13\">\n      <g>\n       <use style=\"stroke:#000000;stroke-width:0.8;\" x=\"538.020313\" xlink:href=\"#mb2d8cf769d\" y=\"244.078125\"/>\n      </g>\n     </g>\n     <g id=\"text_14\">\n      <!-- Diseases of the ear and mastoid process -->\n      <g transform=\"translate(327.265625 247.877344)scale(0.1 -0.1)\">\n       <use xlink:href=\"#DejaVuSans-68\"/>\n       <use x=\"77.001953\" xlink:href=\"#DejaVuSans-105\"/>\n       <use x=\"104.785156\" xlink:href=\"#DejaVuSans-115\"/>\n       <use x=\"156.884766\" xlink:href=\"#DejaVuSans-101\"/>\n       <use x=\"218.408203\" xlink:href=\"#DejaVuSans-97\"/>\n       <use x=\"279.6875\" xlink:href=\"#DejaVuSans-115\"/>\n       <use x=\"331.787109\" xlink:href=\"#DejaVuSans-101\"/>\n       <use x=\"393.310547\" xlink:href=\"#DejaVuSans-115\"/>\n       <use x=\"445.410156\" xlink:href=\"#DejaVuSans-32\"/>\n       <use x=\"477.197266\" xlink:href=\"#DejaVuSans-111\"/>\n       <use x=\"538.378906\" xlink:href=\"#DejaVuSans-102\"/>\n       <use x=\"573.583984\" xlink:href=\"#DejaVuSans-32\"/>\n       <use x=\"605.371094\" xlink:href=\"#DejaVuSans-116\"/>\n       <use x=\"644.580078\" xlink:href=\"#DejaVuSans-104\"/>\n       <use x=\"707.958984\" xlink:href=\"#DejaVuSans-101\"/>\n       <use x=\"769.482422\" xlink:href=\"#DejaVuSans-32\"/>\n       <use x=\"801.269531\" xlink:href=\"#DejaVuSans-101\"/>\n       <use x=\"862.792969\" xlink:href=\"#DejaVuSans-97\"/>\n       <use x=\"924.072266\" xlink:href=\"#DejaVuSans-114\"/>\n       <use x=\"965.185547\" xlink:href=\"#DejaVuSans-32\"/>\n       <use x=\"996.972656\" xlink:href=\"#DejaVuSans-97\"/>\n       <use x=\"1058.251953\" xlink:href=\"#DejaVuSans-110\"/>\n       <use x=\"1121.630859\" xlink:href=\"#DejaVuSans-100\"/>\n       <use x=\"1185.107422\" xlink:href=\"#DejaVuSans-32\"/>\n       <use x=\"1216.894531\" xlink:href=\"#DejaVuSans-109\"/>\n       <use x=\"1314.306641\" xlink:href=\"#DejaVuSans-97\"/>\n       <use x=\"1375.585938\" xlink:href=\"#DejaVuSans-115\"/>\n       <use x=\"1427.685547\" xlink:href=\"#DejaVuSans-116\"/>\n       <use x=\"1466.894531\" xlink:href=\"#DejaVuSans-111\"/>\n       <use x=\"1528.076172\" xlink:href=\"#DejaVuSans-105\"/>\n       <use x=\"1555.859375\" xlink:href=\"#DejaVuSans-100\"/>\n       <use x=\"1619.335938\" xlink:href=\"#DejaVuSans-32\"/>\n       <use x=\"1651.123047\" xlink:href=\"#DejaVuSans-112\"/>\n       <use x=\"1714.599609\" xlink:href=\"#DejaVuSans-114\"/>\n       <use x=\"1755.681641\" xlink:href=\"#DejaVuSans-111\"/>\n       <use x=\"1816.863281\" xlink:href=\"#DejaVuSans-99\"/>\n       <use x=\"1871.84375\" xlink:href=\"#DejaVuSans-101\"/>\n       <use x=\"1933.367188\" xlink:href=\"#DejaVuSans-115\"/>\n       <use x=\"1985.466797\" xlink:href=\"#DejaVuSans-115\"/>\n      </g>\n     </g>\n    </g>\n    <g id=\"ytick_9\">\n     <g id=\"line2d_14\">\n      <g>\n       <use style=\"stroke:#000000;stroke-width:0.8;\" x=\"538.020313\" xlink:href=\"#mb2d8cf769d\" y=\"216.834882\"/>\n      </g>\n     </g>\n     <g id=\"text_15\">\n      <!-- Diseases of the digestive system -->\n      <g transform=\"translate(365.957813 220.634101)scale(0.1 -0.1)\">\n       <use xlink:href=\"#DejaVuSans-68\"/>\n       <use x=\"77.001953\" xlink:href=\"#DejaVuSans-105\"/>\n       <use x=\"104.785156\" xlink:href=\"#DejaVuSans-115\"/>\n       <use x=\"156.884766\" xlink:href=\"#DejaVuSans-101\"/>\n       <use x=\"218.408203\" xlink:href=\"#DejaVuSans-97\"/>\n       <use x=\"279.6875\" xlink:href=\"#DejaVuSans-115\"/>\n       <use x=\"331.787109\" xlink:href=\"#DejaVuSans-101\"/>\n       <use x=\"393.310547\" xlink:href=\"#DejaVuSans-115\"/>\n       <use x=\"445.410156\" xlink:href=\"#DejaVuSans-32\"/>\n       <use x=\"477.197266\" xlink:href=\"#DejaVuSans-111\"/>\n       <use x=\"538.378906\" xlink:href=\"#DejaVuSans-102\"/>\n       <use x=\"573.583984\" xlink:href=\"#DejaVuSans-32\"/>\n       <use x=\"605.371094\" xlink:href=\"#DejaVuSans-116\"/>\n       <use x=\"644.580078\" xlink:href=\"#DejaVuSans-104\"/>\n       <use x=\"707.958984\" xlink:href=\"#DejaVuSans-101\"/>\n       <use x=\"769.482422\" xlink:href=\"#DejaVuSans-32\"/>\n       <use x=\"801.269531\" xlink:href=\"#DejaVuSans-100\"/>\n       <use x=\"864.746094\" xlink:href=\"#DejaVuSans-105\"/>\n       <use x=\"892.529297\" xlink:href=\"#DejaVuSans-103\"/>\n       <use x=\"956.005859\" xlink:href=\"#DejaVuSans-101\"/>\n       <use x=\"1017.529297\" xlink:href=\"#DejaVuSans-115\"/>\n       <use x=\"1069.628906\" xlink:href=\"#DejaVuSans-116\"/>\n       <use x=\"1108.837891\" xlink:href=\"#DejaVuSans-105\"/>\n       <use x=\"1136.621094\" xlink:href=\"#DejaVuSans-118\"/>\n       <use x=\"1195.800781\" xlink:href=\"#DejaVuSans-101\"/>\n       <use x=\"1257.324219\" xlink:href=\"#DejaVuSans-32\"/>\n       <use x=\"1289.111328\" xlink:href=\"#DejaVuSans-115\"/>\n       <use x=\"1341.210938\" xlink:href=\"#DejaVuSans-121\"/>\n       <use x=\"1400.390625\" xlink:href=\"#DejaVuSans-115\"/>\n       <use x=\"1452.490234\" xlink:href=\"#DejaVuSans-116\"/>\n       <use x=\"1491.699219\" xlink:href=\"#DejaVuSans-101\"/>\n       <use x=\"1553.222656\" xlink:href=\"#DejaVuSans-109\"/>\n      </g>\n     </g>\n    </g>\n    <g id=\"ytick_10\">\n     <g id=\"line2d_15\">\n      <g>\n       <use style=\"stroke:#000000;stroke-width:0.8;\" x=\"538.020313\" xlink:href=\"#mb2d8cf769d\" y=\"189.591639\"/>\n      </g>\n     </g>\n     <g id=\"text_16\">\n      <!-- Diseases of the respiratory system -->\n      <g transform=\"translate(356.660938 193.390857)scale(0.1 -0.1)\">\n       <use xlink:href=\"#DejaVuSans-68\"/>\n       <use x=\"77.001953\" xlink:href=\"#DejaVuSans-105\"/>\n       <use x=\"104.785156\" xlink:href=\"#DejaVuSans-115\"/>\n       <use x=\"156.884766\" xlink:href=\"#DejaVuSans-101\"/>\n       <use x=\"218.408203\" xlink:href=\"#DejaVuSans-97\"/>\n       <use x=\"279.6875\" xlink:href=\"#DejaVuSans-115\"/>\n       <use x=\"331.787109\" xlink:href=\"#DejaVuSans-101\"/>\n       <use x=\"393.310547\" xlink:href=\"#DejaVuSans-115\"/>\n       <use x=\"445.410156\" xlink:href=\"#DejaVuSans-32\"/>\n       <use x=\"477.197266\" xlink:href=\"#DejaVuSans-111\"/>\n       <use x=\"538.378906\" xlink:href=\"#DejaVuSans-102\"/>\n       <use x=\"573.583984\" xlink:href=\"#DejaVuSans-32\"/>\n       <use x=\"605.371094\" xlink:href=\"#DejaVuSans-116\"/>\n       <use x=\"644.580078\" xlink:href=\"#DejaVuSans-104\"/>\n       <use x=\"707.958984\" xlink:href=\"#DejaVuSans-101\"/>\n       <use x=\"769.482422\" xlink:href=\"#DejaVuSans-32\"/>\n       <use x=\"801.269531\" xlink:href=\"#DejaVuSans-114\"/>\n       <use x=\"842.351562\" xlink:href=\"#DejaVuSans-101\"/>\n       <use x=\"903.875\" xlink:href=\"#DejaVuSans-115\"/>\n       <use x=\"955.974609\" xlink:href=\"#DejaVuSans-112\"/>\n       <use x=\"1019.451172\" xlink:href=\"#DejaVuSans-105\"/>\n       <use x=\"1047.234375\" xlink:href=\"#DejaVuSans-114\"/>\n       <use x=\"1088.347656\" xlink:href=\"#DejaVuSans-97\"/>\n       <use x=\"1149.626953\" xlink:href=\"#DejaVuSans-116\"/>\n       <use x=\"1188.835938\" xlink:href=\"#DejaVuSans-111\"/>\n       <use x=\"1250.017578\" xlink:href=\"#DejaVuSans-114\"/>\n       <use x=\"1291.130859\" xlink:href=\"#DejaVuSans-121\"/>\n       <use x=\"1350.310547\" xlink:href=\"#DejaVuSans-32\"/>\n       <use x=\"1382.097656\" xlink:href=\"#DejaVuSans-115\"/>\n       <use x=\"1434.197266\" xlink:href=\"#DejaVuSans-121\"/>\n       <use x=\"1493.376953\" xlink:href=\"#DejaVuSans-115\"/>\n       <use x=\"1545.476562\" xlink:href=\"#DejaVuSans-116\"/>\n       <use x=\"1584.685547\" xlink:href=\"#DejaVuSans-101\"/>\n       <use x=\"1646.208984\" xlink:href=\"#DejaVuSans-109\"/>\n      </g>\n     </g>\n    </g>\n    <g id=\"ytick_11\">\n     <g id=\"line2d_16\">\n      <g>\n       <use style=\"stroke:#000000;stroke-width:0.8;\" x=\"538.020313\" xlink:href=\"#mb2d8cf769d\" y=\"162.348395\"/>\n      </g>\n     </g>\n     <g id=\"text_17\">\n      <!-- Certain infectious and parasitic diseases -->\n      <g transform=\"translate(328.342188 166.147614)scale(0.1 -0.1)\">\n       <use xlink:href=\"#DejaVuSans-67\"/>\n       <use x=\"69.824219\" xlink:href=\"#DejaVuSans-101\"/>\n       <use x=\"131.347656\" xlink:href=\"#DejaVuSans-114\"/>\n       <use x=\"172.460938\" xlink:href=\"#DejaVuSans-116\"/>\n       <use x=\"211.669922\" xlink:href=\"#DejaVuSans-97\"/>\n       <use x=\"272.949219\" xlink:href=\"#DejaVuSans-105\"/>\n       <use x=\"300.732422\" xlink:href=\"#DejaVuSans-110\"/>\n       <use x=\"364.111328\" xlink:href=\"#DejaVuSans-32\"/>\n       <use x=\"395.898438\" xlink:href=\"#DejaVuSans-105\"/>\n       <use x=\"423.681641\" xlink:href=\"#DejaVuSans-110\"/>\n       <use x=\"487.060547\" xlink:href=\"#DejaVuSans-102\"/>\n       <use x=\"522.265625\" xlink:href=\"#DejaVuSans-101\"/>\n       <use x=\"583.789062\" xlink:href=\"#DejaVuSans-99\"/>\n       <use x=\"638.769531\" xlink:href=\"#DejaVuSans-116\"/>\n       <use x=\"677.978516\" xlink:href=\"#DejaVuSans-105\"/>\n       <use x=\"705.761719\" xlink:href=\"#DejaVuSans-111\"/>\n       <use x=\"766.943359\" xlink:href=\"#DejaVuSans-117\"/>\n       <use x=\"830.322266\" xlink:href=\"#DejaVuSans-115\"/>\n       <use x=\"882.421875\" xlink:href=\"#DejaVuSans-32\"/>\n       <use x=\"914.208984\" xlink:href=\"#DejaVuSans-97\"/>\n       <use x=\"975.488281\" xlink:href=\"#DejaVuSans-110\"/>\n       <use x=\"1038.867188\" xlink:href=\"#DejaVuSans-100\"/>\n       <use x=\"1102.34375\" xlink:href=\"#DejaVuSans-32\"/>\n       <use x=\"1134.130859\" xlink:href=\"#DejaVuSans-112\"/>\n       <use x=\"1197.607422\" xlink:href=\"#DejaVuSans-97\"/>\n       <use x=\"1258.886719\" xlink:href=\"#DejaVuSans-114\"/>\n       <use x=\"1300\" xlink:href=\"#DejaVuSans-97\"/>\n       <use x=\"1361.279297\" xlink:href=\"#DejaVuSans-115\"/>\n       <use x=\"1413.378906\" xlink:href=\"#DejaVuSans-105\"/>\n       <use x=\"1441.162109\" xlink:href=\"#DejaVuSans-116\"/>\n       <use x=\"1480.371094\" xlink:href=\"#DejaVuSans-105\"/>\n       <use x=\"1508.154297\" xlink:href=\"#DejaVuSans-99\"/>\n       <use x=\"1563.134766\" xlink:href=\"#DejaVuSans-32\"/>\n       <use x=\"1594.921875\" xlink:href=\"#DejaVuSans-100\"/>\n       <use x=\"1658.398438\" xlink:href=\"#DejaVuSans-105\"/>\n       <use x=\"1686.181641\" xlink:href=\"#DejaVuSans-115\"/>\n       <use x=\"1738.28125\" xlink:href=\"#DejaVuSans-101\"/>\n       <use x=\"1799.804688\" xlink:href=\"#DejaVuSans-97\"/>\n       <use x=\"1861.083984\" xlink:href=\"#DejaVuSans-115\"/>\n       <use x=\"1913.183594\" xlink:href=\"#DejaVuSans-101\"/>\n       <use x=\"1974.707031\" xlink:href=\"#DejaVuSans-115\"/>\n      </g>\n     </g>\n    </g>\n    <g id=\"ytick_12\">\n     <g id=\"line2d_17\">\n      <g>\n       <use style=\"stroke:#000000;stroke-width:0.8;\" x=\"538.020313\" xlink:href=\"#mb2d8cf769d\" y=\"135.105152\"/>\n      </g>\n     </g>\n     <g id=\"text_18\">\n      <!-- Diseases of the genitourinary system -->\n      <g transform=\"translate(344.1875 138.904371)scale(0.1 -0.1)\">\n       <use xlink:href=\"#DejaVuSans-68\"/>\n       <use x=\"77.001953\" xlink:href=\"#DejaVuSans-105\"/>\n       <use x=\"104.785156\" xlink:href=\"#DejaVuSans-115\"/>\n       <use x=\"156.884766\" xlink:href=\"#DejaVuSans-101\"/>\n       <use x=\"218.408203\" xlink:href=\"#DejaVuSans-97\"/>\n       <use x=\"279.6875\" xlink:href=\"#DejaVuSans-115\"/>\n       <use x=\"331.787109\" xlink:href=\"#DejaVuSans-101\"/>\n       <use x=\"393.310547\" xlink:href=\"#DejaVuSans-115\"/>\n       <use x=\"445.410156\" xlink:href=\"#DejaVuSans-32\"/>\n       <use x=\"477.197266\" xlink:href=\"#DejaVuSans-111\"/>\n       <use x=\"538.378906\" xlink:href=\"#DejaVuSans-102\"/>\n       <use x=\"573.583984\" xlink:href=\"#DejaVuSans-32\"/>\n       <use x=\"605.371094\" xlink:href=\"#DejaVuSans-116\"/>\n       <use x=\"644.580078\" xlink:href=\"#DejaVuSans-104\"/>\n       <use x=\"707.958984\" xlink:href=\"#DejaVuSans-101\"/>\n       <use x=\"769.482422\" xlink:href=\"#DejaVuSans-32\"/>\n       <use x=\"801.269531\" xlink:href=\"#DejaVuSans-103\"/>\n       <use x=\"864.746094\" xlink:href=\"#DejaVuSans-101\"/>\n       <use x=\"926.269531\" xlink:href=\"#DejaVuSans-110\"/>\n       <use x=\"989.648438\" xlink:href=\"#DejaVuSans-105\"/>\n       <use x=\"1017.431641\" xlink:href=\"#DejaVuSans-116\"/>\n       <use x=\"1056.640625\" xlink:href=\"#DejaVuSans-111\"/>\n       <use x=\"1117.822266\" xlink:href=\"#DejaVuSans-117\"/>\n       <use x=\"1181.201172\" xlink:href=\"#DejaVuSans-114\"/>\n       <use x=\"1222.314453\" xlink:href=\"#DejaVuSans-105\"/>\n       <use x=\"1250.097656\" xlink:href=\"#DejaVuSans-110\"/>\n       <use x=\"1313.476562\" xlink:href=\"#DejaVuSans-97\"/>\n       <use x=\"1374.755859\" xlink:href=\"#DejaVuSans-114\"/>\n       <use x=\"1415.869141\" xlink:href=\"#DejaVuSans-121\"/>\n       <use x=\"1475.048828\" xlink:href=\"#DejaVuSans-32\"/>\n       <use x=\"1506.835938\" xlink:href=\"#DejaVuSans-115\"/>\n       <use x=\"1558.935547\" xlink:href=\"#DejaVuSans-121\"/>\n       <use x=\"1618.115234\" xlink:href=\"#DejaVuSans-115\"/>\n       <use x=\"1670.214844\" xlink:href=\"#DejaVuSans-116\"/>\n       <use x=\"1709.423828\" xlink:href=\"#DejaVuSans-101\"/>\n       <use x=\"1770.947266\" xlink:href=\"#DejaVuSans-109\"/>\n      </g>\n     </g>\n    </g>\n    <g id=\"ytick_13\">\n     <g id=\"line2d_18\">\n      <g>\n       <use style=\"stroke:#000000;stroke-width:0.8;\" x=\"538.020313\" xlink:href=\"#mb2d8cf769d\" y=\"107.861909\"/>\n      </g>\n     </g>\n     <g id=\"text_19\">\n      <!-- Mental, Behavioral and Neurodevelopmental disorders -->\n      <defs>\n       <path d=\"M 9.8125 72.90625  L 24.515625 72.90625  L 43.109375 23.296875  L 61.8125 72.90625  L 76.515625 72.90625  L 76.515625 0  L 66.890625 0  L 66.890625 64.015625  L 48.09375 14.015625  L 38.1875 14.015625  L 19.390625 64.015625  L 19.390625 0  L 9.8125 0  z \" id=\"DejaVuSans-77\"/>\n       <path d=\"M 19.671875 34.8125  L 19.671875 8.109375  L 35.5 8.109375  Q 43.453125 8.109375 47.28125 11.40625  Q 51.125 14.703125 51.125 21.484375  Q 51.125 28.328125 47.28125 31.5625  Q 43.453125 34.8125 35.5 34.8125  z M 19.671875 64.796875  L 19.671875 42.828125  L 34.28125 42.828125  Q 41.5 42.828125 45.03125 45.53125  Q 48.578125 48.25 48.578125 53.8125  Q 48.578125 59.328125 45.03125 62.0625  Q 41.5 64.796875 34.28125 64.796875  z M 9.8125 72.90625  L 35.015625 72.90625  Q 46.296875 72.90625 52.390625 68.21875  Q 58.5 63.53125 58.5 54.890625  Q 58.5 48.1875 55.375 44.234375  Q 52.25 40.28125 46.1875 39.3125  Q 53.46875 37.75 57.5 32.78125  Q 61.53125 27.828125 61.53125 20.40625  Q 61.53125 10.640625 54.890625 5.3125  Q 48.25 0 35.984375 0  L 9.8125 0  z \" id=\"DejaVuSans-66\"/>\n      </defs>\n      <g transform=\"translate(257.596875 111.661128)scale(0.1 -0.1)\">\n       <use xlink:href=\"#DejaVuSans-77\"/>\n       <use x=\"86.279297\" xlink:href=\"#DejaVuSans-101\"/>\n       <use x=\"147.802734\" xlink:href=\"#DejaVuSans-110\"/>\n       <use x=\"211.181641\" xlink:href=\"#DejaVuSans-116\"/>\n       <use x=\"250.390625\" xlink:href=\"#DejaVuSans-97\"/>\n       <use x=\"311.669922\" xlink:href=\"#DejaVuSans-108\"/>\n       <use x=\"339.453125\" xlink:href=\"#DejaVuSans-44\"/>\n       <use x=\"371.240234\" xlink:href=\"#DejaVuSans-32\"/>\n       <use x=\"403.027344\" xlink:href=\"#DejaVuSans-66\"/>\n       <use x=\"471.630859\" xlink:href=\"#DejaVuSans-101\"/>\n       <use x=\"533.154297\" xlink:href=\"#DejaVuSans-104\"/>\n       <use x=\"596.533203\" xlink:href=\"#DejaVuSans-97\"/>\n       <use x=\"657.8125\" xlink:href=\"#DejaVuSans-118\"/>\n       <use x=\"716.992188\" xlink:href=\"#DejaVuSans-105\"/>\n       <use x=\"744.775391\" xlink:href=\"#DejaVuSans-111\"/>\n       <use x=\"805.957031\" xlink:href=\"#DejaVuSans-114\"/>\n       <use x=\"847.070312\" xlink:href=\"#DejaVuSans-97\"/>\n       <use x=\"908.349609\" xlink:href=\"#DejaVuSans-108\"/>\n       <use x=\"936.132812\" xlink:href=\"#DejaVuSans-32\"/>\n       <use x=\"967.919922\" xlink:href=\"#DejaVuSans-97\"/>\n       <use x=\"1029.199219\" xlink:href=\"#DejaVuSans-110\"/>\n       <use x=\"1092.578125\" xlink:href=\"#DejaVuSans-100\"/>\n       <use x=\"1156.054688\" xlink:href=\"#DejaVuSans-32\"/>\n       <use x=\"1187.841797\" xlink:href=\"#DejaVuSans-78\"/>\n       <use x=\"1262.646484\" xlink:href=\"#DejaVuSans-101\"/>\n       <use x=\"1324.169922\" xlink:href=\"#DejaVuSans-117\"/>\n       <use x=\"1387.548828\" xlink:href=\"#DejaVuSans-114\"/>\n       <use x=\"1428.630859\" xlink:href=\"#DejaVuSans-111\"/>\n       <use x=\"1489.8125\" xlink:href=\"#DejaVuSans-100\"/>\n       <use x=\"1553.289062\" xlink:href=\"#DejaVuSans-101\"/>\n       <use x=\"1614.8125\" xlink:href=\"#DejaVuSans-118\"/>\n       <use x=\"1673.992188\" xlink:href=\"#DejaVuSans-101\"/>\n       <use x=\"1735.515625\" xlink:href=\"#DejaVuSans-108\"/>\n       <use x=\"1763.298828\" xlink:href=\"#DejaVuSans-111\"/>\n       <use x=\"1824.480469\" xlink:href=\"#DejaVuSans-112\"/>\n       <use x=\"1887.957031\" xlink:href=\"#DejaVuSans-109\"/>\n       <use x=\"1985.369141\" xlink:href=\"#DejaVuSans-101\"/>\n       <use x=\"2046.892578\" xlink:href=\"#DejaVuSans-110\"/>\n       <use x=\"2110.271484\" xlink:href=\"#DejaVuSans-116\"/>\n       <use x=\"2149.480469\" xlink:href=\"#DejaVuSans-97\"/>\n       <use x=\"2210.759766\" xlink:href=\"#DejaVuSans-108\"/>\n       <use x=\"2238.542969\" xlink:href=\"#DejaVuSans-32\"/>\n       <use x=\"2270.330078\" xlink:href=\"#DejaVuSans-100\"/>\n       <use x=\"2333.806641\" xlink:href=\"#DejaVuSans-105\"/>\n       <use x=\"2361.589844\" xlink:href=\"#DejaVuSans-115\"/>\n       <use x=\"2413.689453\" xlink:href=\"#DejaVuSans-111\"/>\n       <use x=\"2474.871094\" xlink:href=\"#DejaVuSans-114\"/>\n       <use x=\"2515.96875\" xlink:href=\"#DejaVuSans-100\"/>\n       <use x=\"2579.445312\" xlink:href=\"#DejaVuSans-101\"/>\n       <use x=\"2640.96875\" xlink:href=\"#DejaVuSans-114\"/>\n       <use x=\"2682.082031\" xlink:href=\"#DejaVuSans-115\"/>\n      </g>\n     </g>\n    </g>\n    <g id=\"ytick_14\">\n     <g id=\"line2d_19\">\n      <g>\n       <use style=\"stroke:#000000;stroke-width:0.8;\" x=\"538.020313\" xlink:href=\"#mb2d8cf769d\" y=\"80.618666\"/>\n      </g>\n     </g>\n     <g id=\"text_20\">\n      <!-- Diseases of the musculoskeletal system and connective tissue -->\n      <defs>\n       <path d=\"M 9.078125 75.984375  L 18.109375 75.984375  L 18.109375 31.109375  L 44.921875 54.6875  L 56.390625 54.6875  L 27.390625 29.109375  L 57.625 0  L 45.90625 0  L 18.109375 26.703125  L 18.109375 0  L 9.078125 0  z \" id=\"DejaVuSans-107\"/>\n      </defs>\n      <g transform=\"translate(217.96875 84.417884)scale(0.1 -0.1)\">\n       <use xlink:href=\"#DejaVuSans-68\"/>\n       <use x=\"77.001953\" xlink:href=\"#DejaVuSans-105\"/>\n       <use x=\"104.785156\" xlink:href=\"#DejaVuSans-115\"/>\n       <use x=\"156.884766\" xlink:href=\"#DejaVuSans-101\"/>\n       <use x=\"218.408203\" xlink:href=\"#DejaVuSans-97\"/>\n       <use x=\"279.6875\" xlink:href=\"#DejaVuSans-115\"/>\n       <use x=\"331.787109\" xlink:href=\"#DejaVuSans-101\"/>\n       <use x=\"393.310547\" xlink:href=\"#DejaVuSans-115\"/>\n       <use x=\"445.410156\" xlink:href=\"#DejaVuSans-32\"/>\n       <use x=\"477.197266\" xlink:href=\"#DejaVuSans-111\"/>\n       <use x=\"538.378906\" xlink:href=\"#DejaVuSans-102\"/>\n       <use x=\"573.583984\" xlink:href=\"#DejaVuSans-32\"/>\n       <use x=\"605.371094\" xlink:href=\"#DejaVuSans-116\"/>\n       <use x=\"644.580078\" xlink:href=\"#DejaVuSans-104\"/>\n       <use x=\"707.958984\" xlink:href=\"#DejaVuSans-101\"/>\n       <use x=\"769.482422\" xlink:href=\"#DejaVuSans-32\"/>\n       <use x=\"801.269531\" xlink:href=\"#DejaVuSans-109\"/>\n       <use x=\"898.681641\" xlink:href=\"#DejaVuSans-117\"/>\n       <use x=\"962.060547\" xlink:href=\"#DejaVuSans-115\"/>\n       <use x=\"1014.160156\" xlink:href=\"#DejaVuSans-99\"/>\n       <use x=\"1069.140625\" xlink:href=\"#DejaVuSans-117\"/>\n       <use x=\"1132.519531\" xlink:href=\"#DejaVuSans-108\"/>\n       <use x=\"1160.302734\" xlink:href=\"#DejaVuSans-111\"/>\n       <use x=\"1221.484375\" xlink:href=\"#DejaVuSans-115\"/>\n       <use x=\"1273.583984\" xlink:href=\"#DejaVuSans-107\"/>\n       <use x=\"1331.447266\" xlink:href=\"#DejaVuSans-101\"/>\n       <use x=\"1392.970703\" xlink:href=\"#DejaVuSans-108\"/>\n       <use x=\"1420.753906\" xlink:href=\"#DejaVuSans-101\"/>\n       <use x=\"1482.277344\" xlink:href=\"#DejaVuSans-116\"/>\n       <use x=\"1521.486328\" xlink:href=\"#DejaVuSans-97\"/>\n       <use x=\"1582.765625\" xlink:href=\"#DejaVuSans-108\"/>\n       <use x=\"1610.548828\" xlink:href=\"#DejaVuSans-32\"/>\n       <use x=\"1642.335938\" xlink:href=\"#DejaVuSans-115\"/>\n       <use x=\"1694.435547\" xlink:href=\"#DejaVuSans-121\"/>\n       <use x=\"1753.615234\" xlink:href=\"#DejaVuSans-115\"/>\n       <use x=\"1805.714844\" xlink:href=\"#DejaVuSans-116\"/>\n       <use x=\"1844.923828\" xlink:href=\"#DejaVuSans-101\"/>\n       <use x=\"1906.447266\" xlink:href=\"#DejaVuSans-109\"/>\n       <use x=\"2003.859375\" xlink:href=\"#DejaVuSans-32\"/>\n       <use x=\"2035.646484\" xlink:href=\"#DejaVuSans-97\"/>\n       <use x=\"2096.925781\" xlink:href=\"#DejaVuSans-110\"/>\n       <use x=\"2160.304688\" xlink:href=\"#DejaVuSans-100\"/>\n       <use x=\"2223.78125\" xlink:href=\"#DejaVuSans-32\"/>\n       <use x=\"2255.568359\" xlink:href=\"#DejaVuSans-99\"/>\n       <use x=\"2310.548828\" xlink:href=\"#DejaVuSans-111\"/>\n       <use x=\"2371.730469\" xlink:href=\"#DejaVuSans-110\"/>\n       <use x=\"2435.109375\" xlink:href=\"#DejaVuSans-110\"/>\n       <use x=\"2498.488281\" xlink:href=\"#DejaVuSans-101\"/>\n       <use x=\"2560.011719\" xlink:href=\"#DejaVuSans-99\"/>\n       <use x=\"2614.992188\" xlink:href=\"#DejaVuSans-116\"/>\n       <use x=\"2654.201172\" xlink:href=\"#DejaVuSans-105\"/>\n       <use x=\"2681.984375\" xlink:href=\"#DejaVuSans-118\"/>\n       <use x=\"2741.164062\" xlink:href=\"#DejaVuSans-101\"/>\n       <use x=\"2802.6875\" xlink:href=\"#DejaVuSans-32\"/>\n       <use x=\"2834.474609\" xlink:href=\"#DejaVuSans-116\"/>\n       <use x=\"2873.683594\" xlink:href=\"#DejaVuSans-105\"/>\n       <use x=\"2901.466797\" xlink:href=\"#DejaVuSans-115\"/>\n       <use x=\"2953.566406\" xlink:href=\"#DejaVuSans-115\"/>\n       <use x=\"3005.666016\" xlink:href=\"#DejaVuSans-117\"/>\n       <use x=\"3069.044922\" xlink:href=\"#DejaVuSans-101\"/>\n      </g>\n     </g>\n    </g>\n    <g id=\"ytick_15\">\n     <g id=\"line2d_20\">\n      <g>\n       <use style=\"stroke:#000000;stroke-width:0.8;\" x=\"538.020313\" xlink:href=\"#mb2d8cf769d\" y=\"53.375422\"/>\n      </g>\n     </g>\n     <g id=\"text_21\">\n      <!-- Diseases of the skin and subcutaneous tissue -->\n      <g transform=\"translate(302.8875 57.174641)scale(0.1 -0.1)\">\n       <use xlink:href=\"#DejaVuSans-68\"/>\n       <use x=\"77.001953\" xlink:href=\"#DejaVuSans-105\"/>\n       <use x=\"104.785156\" xlink:href=\"#DejaVuSans-115\"/>\n       <use x=\"156.884766\" xlink:href=\"#DejaVuSans-101\"/>\n       <use x=\"218.408203\" xlink:href=\"#DejaVuSans-97\"/>\n       <use x=\"279.6875\" xlink:href=\"#DejaVuSans-115\"/>\n       <use x=\"331.787109\" xlink:href=\"#DejaVuSans-101\"/>\n       <use x=\"393.310547\" xlink:href=\"#DejaVuSans-115\"/>\n       <use x=\"445.410156\" xlink:href=\"#DejaVuSans-32\"/>\n       <use x=\"477.197266\" xlink:href=\"#DejaVuSans-111\"/>\n       <use x=\"538.378906\" xlink:href=\"#DejaVuSans-102\"/>\n       <use x=\"573.583984\" xlink:href=\"#DejaVuSans-32\"/>\n       <use x=\"605.371094\" xlink:href=\"#DejaVuSans-116\"/>\n       <use x=\"644.580078\" xlink:href=\"#DejaVuSans-104\"/>\n       <use x=\"707.958984\" xlink:href=\"#DejaVuSans-101\"/>\n       <use x=\"769.482422\" xlink:href=\"#DejaVuSans-32\"/>\n       <use x=\"801.269531\" xlink:href=\"#DejaVuSans-115\"/>\n       <use x=\"853.369141\" xlink:href=\"#DejaVuSans-107\"/>\n       <use x=\"911.279297\" xlink:href=\"#DejaVuSans-105\"/>\n       <use x=\"939.0625\" xlink:href=\"#DejaVuSans-110\"/>\n       <use x=\"1002.441406\" xlink:href=\"#DejaVuSans-32\"/>\n       <use x=\"1034.228516\" xlink:href=\"#DejaVuSans-97\"/>\n       <use x=\"1095.507812\" xlink:href=\"#DejaVuSans-110\"/>\n       <use x=\"1158.886719\" xlink:href=\"#DejaVuSans-100\"/>\n       <use x=\"1222.363281\" xlink:href=\"#DejaVuSans-32\"/>\n       <use x=\"1254.150391\" xlink:href=\"#DejaVuSans-115\"/>\n       <use x=\"1306.25\" xlink:href=\"#DejaVuSans-117\"/>\n       <use x=\"1369.628906\" xlink:href=\"#DejaVuSans-98\"/>\n       <use x=\"1433.105469\" xlink:href=\"#DejaVuSans-99\"/>\n       <use x=\"1488.085938\" xlink:href=\"#DejaVuSans-117\"/>\n       <use x=\"1551.464844\" xlink:href=\"#DejaVuSans-116\"/>\n       <use x=\"1590.673828\" xlink:href=\"#DejaVuSans-97\"/>\n       <use x=\"1651.953125\" xlink:href=\"#DejaVuSans-110\"/>\n       <use x=\"1715.332031\" xlink:href=\"#DejaVuSans-101\"/>\n       <use x=\"1776.855469\" xlink:href=\"#DejaVuSans-111\"/>\n       <use x=\"1838.037109\" xlink:href=\"#DejaVuSans-117\"/>\n       <use x=\"1901.416016\" xlink:href=\"#DejaVuSans-115\"/>\n       <use x=\"1953.515625\" xlink:href=\"#DejaVuSans-32\"/>\n       <use x=\"1985.302734\" xlink:href=\"#DejaVuSans-116\"/>\n       <use x=\"2024.511719\" xlink:href=\"#DejaVuSans-105\"/>\n       <use x=\"2052.294922\" xlink:href=\"#DejaVuSans-115\"/>\n       <use x=\"2104.394531\" xlink:href=\"#DejaVuSans-115\"/>\n       <use x=\"2156.494141\" xlink:href=\"#DejaVuSans-117\"/>\n       <use x=\"2219.873047\" xlink:href=\"#DejaVuSans-101\"/>\n      </g>\n     </g>\n    </g>\n   </g>\n   <g id=\"patch_33\">\n    <path d=\"M 538.020313 465.838125  L 538.020313 22.318125  \" style=\"fill:none;stroke:#000000;stroke-linecap:square;stroke-linejoin:miter;stroke-width:0.8;\"/>\n   </g>\n   <g id=\"patch_34\">\n    <path d=\"M 984.420312 465.838125  L 984.420312 22.318125  \" style=\"fill:none;stroke:#000000;stroke-linecap:square;stroke-linejoin:miter;stroke-width:0.8;\"/>\n   </g>\n   <g id=\"patch_35\">\n    <path d=\"M 538.020313 465.838125  L 984.420312 465.838125  \" style=\"fill:none;stroke:#000000;stroke-linecap:square;stroke-linejoin:miter;stroke-width:0.8;\"/>\n   </g>\n   <g id=\"patch_36\">\n    <path d=\"M 538.020313 22.318125  L 984.420312 22.318125  \" style=\"fill:none;stroke:#000000;stroke-linecap:square;stroke-linejoin:miter;stroke-width:0.8;\"/>\n   </g>\n   <g id=\"text_22\">\n    <!-- Deaths in subjects with underlying diseases in specific ICD10 categories -->\n    <defs>\n     <path d=\"M 9.421875 54.6875  L 18.40625 54.6875  L 18.40625 -0.984375  Q 18.40625 -11.421875 14.421875 -16.109375  Q 10.453125 -20.796875 1.609375 -20.796875  L -1.8125 -20.796875  L -1.8125 -13.1875  L 0.59375 -13.1875  Q 5.71875 -13.1875 7.5625 -10.8125  Q 9.421875 -8.453125 9.421875 -0.984375  z M 9.421875 75.984375  L 18.40625 75.984375  L 18.40625 64.59375  L 9.421875 64.59375  z \" id=\"DejaVuSans-106\"/>\n     <path d=\"M 4.203125 54.6875  L 13.1875 54.6875  L 24.421875 12.015625  L 35.59375 54.6875  L 46.1875 54.6875  L 57.421875 12.015625  L 68.609375 54.6875  L 77.59375 54.6875  L 63.28125 0  L 52.6875 0  L 40.921875 44.828125  L 29.109375 0  L 18.5 0  z \" id=\"DejaVuSans-119\"/>\n     <path d=\"M 9.8125 72.90625  L 19.671875 72.90625  L 19.671875 0  L 9.8125 0  z \" id=\"DejaVuSans-73\"/>\n    </defs>\n    <g transform=\"translate(543.930313 16.318125)scale(0.12 -0.12)\">\n     <use xlink:href=\"#DejaVuSans-68\"/>\n     <use x=\"77.001953\" xlink:href=\"#DejaVuSans-101\"/>\n     <use x=\"138.525391\" xlink:href=\"#DejaVuSans-97\"/>\n     <use x=\"199.804688\" xlink:href=\"#DejaVuSans-116\"/>\n     <use x=\"239.013672\" xlink:href=\"#DejaVuSans-104\"/>\n     <use x=\"302.392578\" xlink:href=\"#DejaVuSans-115\"/>\n     <use x=\"354.492188\" xlink:href=\"#DejaVuSans-32\"/>\n     <use x=\"386.279297\" xlink:href=\"#DejaVuSans-105\"/>\n     <use x=\"414.0625\" xlink:href=\"#DejaVuSans-110\"/>\n     <use x=\"477.441406\" xlink:href=\"#DejaVuSans-32\"/>\n     <use x=\"509.228516\" xlink:href=\"#DejaVuSans-115\"/>\n     <use x=\"561.328125\" xlink:href=\"#DejaVuSans-117\"/>\n     <use x=\"624.707031\" xlink:href=\"#DejaVuSans-98\"/>\n     <use x=\"688.183594\" xlink:href=\"#DejaVuSans-106\"/>\n     <use x=\"715.966797\" xlink:href=\"#DejaVuSans-101\"/>\n     <use x=\"777.490234\" xlink:href=\"#DejaVuSans-99\"/>\n     <use x=\"832.470703\" xlink:href=\"#DejaVuSans-116\"/>\n     <use x=\"871.679688\" xlink:href=\"#DejaVuSans-115\"/>\n     <use x=\"923.779297\" xlink:href=\"#DejaVuSans-32\"/>\n     <use x=\"955.566406\" xlink:href=\"#DejaVuSans-119\"/>\n     <use x=\"1037.353516\" xlink:href=\"#DejaVuSans-105\"/>\n     <use x=\"1065.136719\" xlink:href=\"#DejaVuSans-116\"/>\n     <use x=\"1104.345703\" xlink:href=\"#DejaVuSans-104\"/>\n     <use x=\"1167.724609\" xlink:href=\"#DejaVuSans-32\"/>\n     <use x=\"1199.511719\" xlink:href=\"#DejaVuSans-117\"/>\n     <use x=\"1262.890625\" xlink:href=\"#DejaVuSans-110\"/>\n     <use x=\"1326.269531\" xlink:href=\"#DejaVuSans-100\"/>\n     <use x=\"1389.746094\" xlink:href=\"#DejaVuSans-101\"/>\n     <use x=\"1451.269531\" xlink:href=\"#DejaVuSans-114\"/>\n     <use x=\"1492.382812\" xlink:href=\"#DejaVuSans-108\"/>\n     <use x=\"1520.166016\" xlink:href=\"#DejaVuSans-121\"/>\n     <use x=\"1579.345703\" xlink:href=\"#DejaVuSans-105\"/>\n     <use x=\"1607.128906\" xlink:href=\"#DejaVuSans-110\"/>\n     <use x=\"1670.507812\" xlink:href=\"#DejaVuSans-103\"/>\n     <use x=\"1733.984375\" xlink:href=\"#DejaVuSans-32\"/>\n     <use x=\"1765.771484\" xlink:href=\"#DejaVuSans-100\"/>\n     <use x=\"1829.248047\" xlink:href=\"#DejaVuSans-105\"/>\n     <use x=\"1857.03125\" xlink:href=\"#DejaVuSans-115\"/>\n     <use x=\"1909.130859\" xlink:href=\"#DejaVuSans-101\"/>\n     <use x=\"1970.654297\" xlink:href=\"#DejaVuSans-97\"/>\n     <use x=\"2031.933594\" xlink:href=\"#DejaVuSans-115\"/>\n     <use x=\"2084.033203\" xlink:href=\"#DejaVuSans-101\"/>\n     <use x=\"2145.556641\" xlink:href=\"#DejaVuSans-115\"/>\n     <use x=\"2197.65625\" xlink:href=\"#DejaVuSans-32\"/>\n     <use x=\"2229.443359\" xlink:href=\"#DejaVuSans-105\"/>\n     <use x=\"2257.226562\" xlink:href=\"#DejaVuSans-110\"/>\n     <use x=\"2320.605469\" xlink:href=\"#DejaVuSans-32\"/>\n     <use x=\"2352.392578\" xlink:href=\"#DejaVuSans-115\"/>\n     <use x=\"2404.492188\" xlink:href=\"#DejaVuSans-112\"/>\n     <use x=\"2467.96875\" xlink:href=\"#DejaVuSans-101\"/>\n     <use x=\"2529.492188\" xlink:href=\"#DejaVuSans-99\"/>\n     <use x=\"2584.472656\" xlink:href=\"#DejaVuSans-105\"/>\n     <use x=\"2612.255859\" xlink:href=\"#DejaVuSans-102\"/>\n     <use x=\"2647.460938\" xlink:href=\"#DejaVuSans-105\"/>\n     <use x=\"2675.244141\" xlink:href=\"#DejaVuSans-99\"/>\n     <use x=\"2730.224609\" xlink:href=\"#DejaVuSans-32\"/>\n     <use x=\"2762.011719\" xlink:href=\"#DejaVuSans-73\"/>\n     <use x=\"2791.503906\" xlink:href=\"#DejaVuSans-67\"/>\n     <use x=\"2861.328125\" xlink:href=\"#DejaVuSans-68\"/>\n     <use x=\"2938.330078\" xlink:href=\"#DejaVuSans-49\"/>\n     <use x=\"3001.953125\" xlink:href=\"#DejaVuSans-48\"/>\n     <use x=\"3065.576172\" xlink:href=\"#DejaVuSans-32\"/>\n     <use x=\"3097.363281\" xlink:href=\"#DejaVuSans-99\"/>\n     <use x=\"3152.34375\" xlink:href=\"#DejaVuSans-97\"/>\n     <use x=\"3213.623047\" xlink:href=\"#DejaVuSans-116\"/>\n     <use x=\"3252.832031\" xlink:href=\"#DejaVuSans-101\"/>\n     <use x=\"3314.355469\" xlink:href=\"#DejaVuSans-103\"/>\n     <use x=\"3377.832031\" xlink:href=\"#DejaVuSans-111\"/>\n     <use x=\"3439.013672\" xlink:href=\"#DejaVuSans-114\"/>\n     <use x=\"3480.126953\" xlink:href=\"#DejaVuSans-105\"/>\n     <use x=\"3507.910156\" xlink:href=\"#DejaVuSans-101\"/>\n     <use x=\"3569.433594\" xlink:href=\"#DejaVuSans-115\"/>\n    </g>\n   </g>\n   <g id=\"legend_1\">\n    <g id=\"patch_37\">\n     <path d=\"M 870.0125 59.674375  L 977.420312 59.674375  Q 979.420312 59.674375 979.420312 57.674375  L 979.420312 29.318125  Q 979.420312 27.318125 977.420312 27.318125  L 870.0125 27.318125  Q 868.0125 27.318125 868.0125 29.318125  L 868.0125 57.674375  Q 868.0125 59.674375 870.0125 59.674375  z \" style=\"fill:#ffffff;opacity:0.8;stroke:#cccccc;stroke-linejoin:miter;\"/>\n    </g>\n    <g id=\"patch_38\">\n     <path d=\"M 872.0125 38.916562  L 892.0125 38.916562  L 892.0125 31.916562  L 872.0125 31.916562  z \" style=\"fill:#1f77b4;opacity:0.5;\"/>\n    </g>\n    <g id=\"text_23\">\n     <!-- Vaccinated -->\n     <defs>\n      <path d=\"M 28.609375 0  L 0.78125 72.90625  L 11.078125 72.90625  L 34.1875 11.53125  L 57.328125 72.90625  L 67.578125 72.90625  L 39.796875 0  z \" id=\"DejaVuSans-86\"/>\n     </defs>\n     <g transform=\"translate(900.0125 38.916562)scale(0.1 -0.1)\">\n      <use xlink:href=\"#DejaVuSans-86\"/>\n      <use x=\"68.298828\" xlink:href=\"#DejaVuSans-97\"/>\n      <use x=\"129.578125\" xlink:href=\"#DejaVuSans-99\"/>\n      <use x=\"184.558594\" xlink:href=\"#DejaVuSans-99\"/>\n      <use x=\"239.539062\" xlink:href=\"#DejaVuSans-105\"/>\n      <use x=\"267.322266\" xlink:href=\"#DejaVuSans-110\"/>\n      <use x=\"330.701172\" xlink:href=\"#DejaVuSans-97\"/>\n      <use x=\"391.980469\" xlink:href=\"#DejaVuSans-116\"/>\n      <use x=\"431.189453\" xlink:href=\"#DejaVuSans-101\"/>\n      <use x=\"492.712891\" xlink:href=\"#DejaVuSans-100\"/>\n     </g>\n    </g>\n    <g id=\"patch_39\">\n     <path d=\"M 872.0125 53.594687  L 892.0125 53.594687  L 892.0125 46.594687  L 872.0125 46.594687  z \" style=\"fill:#ff7f0e;opacity:0.5;\"/>\n    </g>\n    <g id=\"text_24\">\n     <!-- Not vaccinated -->\n     <g transform=\"translate(900.0125 53.594687)scale(0.1 -0.1)\">\n      <use xlink:href=\"#DejaVuSans-78\"/>\n      <use x=\"74.804688\" xlink:href=\"#DejaVuSans-111\"/>\n      <use x=\"135.986328\" xlink:href=\"#DejaVuSans-116\"/>\n      <use x=\"175.195312\" xlink:href=\"#DejaVuSans-32\"/>\n      <use x=\"206.982422\" xlink:href=\"#DejaVuSans-118\"/>\n      <use x=\"266.162109\" xlink:href=\"#DejaVuSans-97\"/>\n      <use x=\"327.441406\" xlink:href=\"#DejaVuSans-99\"/>\n      <use x=\"382.421875\" xlink:href=\"#DejaVuSans-99\"/>\n      <use x=\"437.402344\" xlink:href=\"#DejaVuSans-105\"/>\n      <use x=\"465.185547\" xlink:href=\"#DejaVuSans-110\"/>\n      <use x=\"528.564453\" xlink:href=\"#DejaVuSans-97\"/>\n      <use x=\"589.84375\" xlink:href=\"#DejaVuSans-116\"/>\n      <use x=\"629.052734\" xlink:href=\"#DejaVuSans-101\"/>\n      <use x=\"690.576172\" xlink:href=\"#DejaVuSans-100\"/>\n     </g>\n    </g>\n   </g>\n  </g>\n </g>\n <defs>\n  <clipPath id=\"p50c9f97125\">\n   <rect height=\"443.52\" width=\"446.4\" x=\"538.020313\" y=\"22.318125\"/>\n  </clipPath>\n </defs>\n</svg>",
      "text/plain": [
       "<IPython.core.display.SVG object>"
      ]
     },
     "execution_count": 19,
     "metadata": {},
     "output_type": "execute_result"
    }
   ],
   "source": [
    "# Figure 7\n",
    "SVG(filename='analysis_euler/2c_deaths_barplot.svg')"
   ]
  },
  {
   "cell_type": "markdown",
   "metadata": {},
   "source": [
    "A Chi-Squared Test of Independence was performed for each of the underlying disease categories in order to examine the relationship between the vaccination status and the ocurrence of death. The relationship between these two variables was significant for all of the subgroups, with death being more likely in the unvaccinated subjects. Further, the risk ratio and its 95% confidence interval was calculated for each subgroup, whereas vaccinated individuals had between 0.3 and 0.4 times the risk of dying compared to unvaccinated subjects. The p-value of the chi-squared test, the risk ratio and its CI for the subgroups are listed in table 7. Figure 8 depicts the risk ratios."
   ]
  },
  {
   "cell_type": "code",
   "execution_count": 20,
   "metadata": {},
   "outputs": [
    {
     "data": {
      "text/html": [
       "<div>\n",
       "<style scoped>\n",
       "    .dataframe tbody tr th:only-of-type {\n",
       "        vertical-align: middle;\n",
       "    }\n",
       "\n",
       "    .dataframe tbody tr th {\n",
       "        vertical-align: top;\n",
       "    }\n",
       "\n",
       "    .dataframe thead th {\n",
       "        text-align: right;\n",
       "    }\n",
       "</style>\n",
       "<table border=\"1\" class=\"dataframe\">\n",
       "  <thead>\n",
       "    <tr style=\"text-align: right;\">\n",
       "      <th></th>\n",
       "      <th>Unnamed: 0</th>\n",
       "      <th>P-value</th>\n",
       "      <th>Significant</th>\n",
       "      <th>Risk Ratio</th>\n",
       "      <th>Confidence Interval</th>\n",
       "    </tr>\n",
       "  </thead>\n",
       "  <tbody>\n",
       "    <tr>\n",
       "      <th>0</th>\n",
       "      <td>Certain infectious and parasitic diseases</td>\n",
       "      <td>9.549588e-13</td>\n",
       "      <td>Yes</td>\n",
       "      <td>0.35</td>\n",
       "      <td>(0.26, 0.47)</td>\n",
       "    </tr>\n",
       "    <tr>\n",
       "      <th>1</th>\n",
       "      <td>Neoplasms</td>\n",
       "      <td>1.030402e-06</td>\n",
       "      <td>Yes</td>\n",
       "      <td>0.41</td>\n",
       "      <td>(0.29, 0.59)</td>\n",
       "    </tr>\n",
       "    <tr>\n",
       "      <th>2</th>\n",
       "      <td>Diseases of the blood and blood-forming organs...</td>\n",
       "      <td>4.297056e-08</td>\n",
       "      <td>Yes</td>\n",
       "      <td>0.34</td>\n",
       "      <td>(0.23, 0.5)</td>\n",
       "    </tr>\n",
       "    <tr>\n",
       "      <th>3</th>\n",
       "      <td>Endocrine, nutritional and metabolic diseases</td>\n",
       "      <td>1.437963e-12</td>\n",
       "      <td>Yes</td>\n",
       "      <td>0.33</td>\n",
       "      <td>(0.24, 0.45)</td>\n",
       "    </tr>\n",
       "    <tr>\n",
       "      <th>4</th>\n",
       "      <td>Mental, Behavioral and Neurodevelopmental diso...</td>\n",
       "      <td>2.256728e-12</td>\n",
       "      <td>Yes</td>\n",
       "      <td>0.36</td>\n",
       "      <td>(0.26, 0.48)</td>\n",
       "    </tr>\n",
       "    <tr>\n",
       "      <th>5</th>\n",
       "      <td>Diseases of the nervous system</td>\n",
       "      <td>4.592065e-09</td>\n",
       "      <td>Yes</td>\n",
       "      <td>0.38</td>\n",
       "      <td>(0.27, 0.52)</td>\n",
       "    </tr>\n",
       "    <tr>\n",
       "      <th>6</th>\n",
       "      <td>Diseases of the eye and adnexa</td>\n",
       "      <td>2.176042e-09</td>\n",
       "      <td>Yes</td>\n",
       "      <td>0.37</td>\n",
       "      <td>(0.26, 0.52)</td>\n",
       "    </tr>\n",
       "    <tr>\n",
       "      <th>7</th>\n",
       "      <td>Diseases of the ear and mastoid process</td>\n",
       "      <td>9.364046e-11</td>\n",
       "      <td>Yes</td>\n",
       "      <td>0.32</td>\n",
       "      <td>(0.23, 0.46)</td>\n",
       "    </tr>\n",
       "    <tr>\n",
       "      <th>8</th>\n",
       "      <td>Diseases of the circulatory system</td>\n",
       "      <td>8.270185e-12</td>\n",
       "      <td>Yes</td>\n",
       "      <td>0.36</td>\n",
       "      <td>(0.27, 0.49)</td>\n",
       "    </tr>\n",
       "    <tr>\n",
       "      <th>9</th>\n",
       "      <td>Diseases of the respiratory system</td>\n",
       "      <td>8.643481e-12</td>\n",
       "      <td>Yes</td>\n",
       "      <td>0.36</td>\n",
       "      <td>(0.27, 0.49)</td>\n",
       "    </tr>\n",
       "    <tr>\n",
       "      <th>10</th>\n",
       "      <td>Diseases of the digestive system</td>\n",
       "      <td>4.043465e-12</td>\n",
       "      <td>Yes</td>\n",
       "      <td>0.34</td>\n",
       "      <td>(0.25, 0.47)</td>\n",
       "    </tr>\n",
       "    <tr>\n",
       "      <th>11</th>\n",
       "      <td>Diseases of the skin and subcutaneous tissue</td>\n",
       "      <td>2.763326e-10</td>\n",
       "      <td>Yes</td>\n",
       "      <td>0.36</td>\n",
       "      <td>(0.26, 0.5)</td>\n",
       "    </tr>\n",
       "    <tr>\n",
       "      <th>12</th>\n",
       "      <td>Diseases of the musculoskeletal system and con...</td>\n",
       "      <td>1.079770e-11</td>\n",
       "      <td>Yes</td>\n",
       "      <td>0.36</td>\n",
       "      <td>(0.27, 0.49)</td>\n",
       "    </tr>\n",
       "    <tr>\n",
       "      <th>13</th>\n",
       "      <td>Diseases of the genitourinary system</td>\n",
       "      <td>9.413658e-12</td>\n",
       "      <td>Yes</td>\n",
       "      <td>0.35</td>\n",
       "      <td>(0.26, 0.48)</td>\n",
       "    </tr>\n",
       "    <tr>\n",
       "      <th>14</th>\n",
       "      <td>Congenital malformations, deformations and chr...</td>\n",
       "      <td>3.922961e-08</td>\n",
       "      <td>Yes</td>\n",
       "      <td>0.36</td>\n",
       "      <td>(0.25, 0.52)</td>\n",
       "    </tr>\n",
       "  </tbody>\n",
       "</table>\n",
       "</div>"
      ],
      "text/plain": [
       "                                           Unnamed: 0       P-value  \\\n",
       "0           Certain infectious and parasitic diseases  9.549588e-13   \n",
       "1                                           Neoplasms  1.030402e-06   \n",
       "2   Diseases of the blood and blood-forming organs...  4.297056e-08   \n",
       "3       Endocrine, nutritional and metabolic diseases  1.437963e-12   \n",
       "4   Mental, Behavioral and Neurodevelopmental diso...  2.256728e-12   \n",
       "5                      Diseases of the nervous system  4.592065e-09   \n",
       "6                      Diseases of the eye and adnexa  2.176042e-09   \n",
       "7             Diseases of the ear and mastoid process  9.364046e-11   \n",
       "8                  Diseases of the circulatory system  8.270185e-12   \n",
       "9                  Diseases of the respiratory system  8.643481e-12   \n",
       "10                   Diseases of the digestive system  4.043465e-12   \n",
       "11       Diseases of the skin and subcutaneous tissue  2.763326e-10   \n",
       "12  Diseases of the musculoskeletal system and con...  1.079770e-11   \n",
       "13               Diseases of the genitourinary system  9.413658e-12   \n",
       "14  Congenital malformations, deformations and chr...  3.922961e-08   \n",
       "\n",
       "   Significant  Risk Ratio Confidence Interval  \n",
       "0          Yes        0.35        (0.26, 0.47)  \n",
       "1          Yes        0.41        (0.29, 0.59)  \n",
       "2          Yes        0.34         (0.23, 0.5)  \n",
       "3          Yes        0.33        (0.24, 0.45)  \n",
       "4          Yes        0.36        (0.26, 0.48)  \n",
       "5          Yes        0.38        (0.27, 0.52)  \n",
       "6          Yes        0.37        (0.26, 0.52)  \n",
       "7          Yes        0.32        (0.23, 0.46)  \n",
       "8          Yes        0.36        (0.27, 0.49)  \n",
       "9          Yes        0.36        (0.27, 0.49)  \n",
       "10         Yes        0.34        (0.25, 0.47)  \n",
       "11         Yes        0.36         (0.26, 0.5)  \n",
       "12         Yes        0.36        (0.27, 0.49)  \n",
       "13         Yes        0.35        (0.26, 0.48)  \n",
       "14         Yes        0.36        (0.25, 0.52)  "
      ]
     },
     "execution_count": 20,
     "metadata": {},
     "output_type": "execute_result"
    }
   ],
   "source": [
    "# Table 7\n",
    "table = pd.read_csv('analysis_euler/2c_chi_square_RR_table.csv') \n",
    "table"
   ]
  },
  {
   "cell_type": "code",
   "execution_count": 21,
   "metadata": {},
   "outputs": [
    {
     "data": {
      "image/svg+xml": "<svg xmlns=\"http://www.w3.org/2000/svg\" xmlns:xlink=\"http://www.w3.org/1999/xlink\" height=\"392.514375pt\" version=\"1.1\" viewBox=\"0 0 979.380312 392.514375\" width=\"979.380312pt\">\n <defs>\n  <style type=\"text/css\">\n*{stroke-linecap:butt;stroke-linejoin:round;}\n  </style>\n </defs>\n <g id=\"figure_1\">\n  <g id=\"patch_1\">\n   <path d=\"M -0 392.514375  L 979.380312 392.514375  L 979.380312 0  L -0 0  z \" style=\"fill:#ffffff;\"/>\n  </g>\n  <g id=\"axes_1\">\n   <g id=\"patch_2\">\n    <path d=\"M 538.020313 354.958125  L 872.820312 354.958125  L 872.820312 22.318125  L 538.020313 22.318125  z \" style=\"fill:#ffffff;\"/>\n   </g>\n   <g id=\"matplotlib.axis_1\">\n    <g id=\"xtick_1\">\n     <g id=\"line2d_1\">\n      <defs>\n       <path d=\"M 0 0  L 0 3.5  \" id=\"m2e06422ab0\" style=\"stroke:#000000;stroke-width:0.8;\"/>\n      </defs>\n      <g>\n       <use style=\"stroke:#000000;stroke-width:0.8;\" x=\"857.602131\" xlink:href=\"#m2e06422ab0\" y=\"354.958125\"/>\n      </g>\n     </g>\n     <g id=\"text_1\">\n      <!-- $\\mathdefault{10^{0}}$ -->\n      <defs>\n       <path d=\"M 12.40625 8.296875  L 28.515625 8.296875  L 28.515625 63.921875  L 10.984375 60.40625  L 10.984375 69.390625  L 28.421875 72.90625  L 38.28125 72.90625  L 38.28125 8.296875  L 54.390625 8.296875  L 54.390625 0  L 12.40625 0  z \" id=\"DejaVuSans-49\"/>\n       <path d=\"M 31.78125 66.40625  Q 24.171875 66.40625 20.328125 58.90625  Q 16.5 51.421875 16.5 36.375  Q 16.5 21.390625 20.328125 13.890625  Q 24.171875 6.390625 31.78125 6.390625  Q 39.453125 6.390625 43.28125 13.890625  Q 47.125 21.390625 47.125 36.375  Q 47.125 51.421875 43.28125 58.90625  Q 39.453125 66.40625 31.78125 66.40625  z M 31.78125 74.21875  Q 44.046875 74.21875 50.515625 64.515625  Q 56.984375 54.828125 56.984375 36.375  Q 56.984375 17.96875 50.515625 8.265625  Q 44.046875 -1.421875 31.78125 -1.421875  Q 19.53125 -1.421875 13.0625 8.265625  Q 6.59375 17.96875 6.59375 36.375  Q 6.59375 54.828125 13.0625 64.515625  Q 19.53125 74.21875 31.78125 74.21875  z \" id=\"DejaVuSans-48\"/>\n      </defs>\n      <g transform=\"translate(848.802131 369.556562)scale(0.1 -0.1)\">\n       <use transform=\"translate(0 0.765625)\" xlink:href=\"#DejaVuSans-49\"/>\n       <use transform=\"translate(63.623047 0.765625)\" xlink:href=\"#DejaVuSans-48\"/>\n       <use transform=\"translate(128.203125 39.046875)scale(0.7)\" xlink:href=\"#DejaVuSans-48\"/>\n      </g>\n     </g>\n    </g>\n    <g id=\"xtick_2\">\n     <g id=\"line2d_2\">\n      <defs>\n       <path d=\"M 0 0  L 0 2  \" id=\"md997138e57\" style=\"stroke:#000000;stroke-width:0.6;\"/>\n      </defs>\n      <g>\n       <use style=\"stroke:#000000;stroke-width:0.6;\" x=\"610.619167\" xlink:href=\"#md997138e57\" y=\"354.958125\"/>\n      </g>\n     </g>\n     <g id=\"text_2\">\n      <!-- $\\mathdefault{3\\times10^{-1}}$ -->\n      <defs>\n       <path d=\"M 40.578125 39.3125  Q 47.65625 37.796875 51.625 33  Q 55.609375 28.21875 55.609375 21.1875  Q 55.609375 10.40625 48.1875 4.484375  Q 40.765625 -1.421875 27.09375 -1.421875  Q 22.515625 -1.421875 17.65625 -0.515625  Q 12.796875 0.390625 7.625 2.203125  L 7.625 11.71875  Q 11.71875 9.328125 16.59375 8.109375  Q 21.484375 6.890625 26.8125 6.890625  Q 36.078125 6.890625 40.9375 10.546875  Q 45.796875 14.203125 45.796875 21.1875  Q 45.796875 27.640625 41.28125 31.265625  Q 36.765625 34.90625 28.71875 34.90625  L 20.21875 34.90625  L 20.21875 43.015625  L 29.109375 43.015625  Q 36.375 43.015625 40.234375 45.921875  Q 44.09375 48.828125 44.09375 54.296875  Q 44.09375 59.90625 40.109375 62.90625  Q 36.140625 65.921875 28.71875 65.921875  Q 24.65625 65.921875 20.015625 65.03125  Q 15.375 64.15625 9.8125 62.3125  L 9.8125 71.09375  Q 15.4375 72.65625 20.34375 73.4375  Q 25.25 74.21875 29.59375 74.21875  Q 40.828125 74.21875 47.359375 69.109375  Q 53.90625 64.015625 53.90625 55.328125  Q 53.90625 49.265625 50.4375 45.09375  Q 46.96875 40.921875 40.578125 39.3125  z \" id=\"DejaVuSans-51\"/>\n       <path d=\"M 70.125 53.71875  L 47.796875 31.296875  L 70.125 8.984375  L 64.3125 3.078125  L 41.890625 25.484375  L 19.484375 3.078125  L 13.71875 8.984375  L 35.984375 31.296875  L 13.71875 53.71875  L 19.484375 59.625  L 41.890625 37.203125  L 64.3125 59.625  z \" id=\"DejaVuSans-215\"/>\n       <path d=\"M 10.59375 35.5  L 73.1875 35.5  L 73.1875 27.203125  L 10.59375 27.203125  z \" id=\"DejaVuSans-8722\"/>\n      </defs>\n      <g transform=\"translate(589.569167 367.956562)scale(0.1 -0.1)\">\n       <use transform=\"translate(0 0.684375)\" xlink:href=\"#DejaVuSans-51\"/>\n       <use transform=\"translate(83.105469 0.684375)\" xlink:href=\"#DejaVuSans-215\"/>\n       <use transform=\"translate(186.376953 0.684375)\" xlink:href=\"#DejaVuSans-49\"/>\n       <use transform=\"translate(250 0.684375)\" xlink:href=\"#DejaVuSans-48\"/>\n       <use transform=\"translate(314.580078 38.965625)scale(0.7)\" xlink:href=\"#DejaVuSans-8722\"/>\n       <use transform=\"translate(373.232422 38.965625)scale(0.7)\" xlink:href=\"#DejaVuSans-49\"/>\n      </g>\n     </g>\n    </g>\n    <g id=\"xtick_3\">\n     <g id=\"line2d_3\">\n      <g>\n       <use style=\"stroke:#000000;stroke-width:0.6;\" x=\"669.634263\" xlink:href=\"#md997138e57\" y=\"354.958125\"/>\n      </g>\n     </g>\n     <g id=\"text_3\">\n      <!-- $\\mathdefault{4\\times10^{-1}}$ -->\n      <defs>\n       <path d=\"M 37.796875 64.3125  L 12.890625 25.390625  L 37.796875 25.390625  z M 35.203125 72.90625  L 47.609375 72.90625  L 47.609375 25.390625  L 58.015625 25.390625  L 58.015625 17.1875  L 47.609375 17.1875  L 47.609375 0  L 37.796875 0  L 37.796875 17.1875  L 4.890625 17.1875  L 4.890625 26.703125  z \" id=\"DejaVuSans-52\"/>\n      </defs>\n      <g transform=\"translate(648.584263 367.956562)scale(0.1 -0.1)\">\n       <use transform=\"translate(0 0.684375)\" xlink:href=\"#DejaVuSans-52\"/>\n       <use transform=\"translate(83.105469 0.684375)\" xlink:href=\"#DejaVuSans-215\"/>\n       <use transform=\"translate(186.376953 0.684375)\" xlink:href=\"#DejaVuSans-49\"/>\n       <use transform=\"translate(250 0.684375)\" xlink:href=\"#DejaVuSans-48\"/>\n       <use transform=\"translate(314.580078 38.965625)scale(0.7)\" xlink:href=\"#DejaVuSans-8722\"/>\n       <use transform=\"translate(373.232422 38.965625)scale(0.7)\" xlink:href=\"#DejaVuSans-49\"/>\n      </g>\n     </g>\n    </g>\n    <g id=\"xtick_4\">\n     <g id=\"line2d_4\">\n      <g>\n       <use style=\"stroke:#000000;stroke-width:0.6;\" x=\"715.409928\" xlink:href=\"#md997138e57\" y=\"354.958125\"/>\n      </g>\n     </g>\n    </g>\n    <g id=\"xtick_5\">\n     <g id=\"line2d_5\">\n      <g>\n       <use style=\"stroke:#000000;stroke-width:0.6;\" x=\"752.81137\" xlink:href=\"#md997138e57\" y=\"354.958125\"/>\n      </g>\n     </g>\n     <g id=\"text_4\">\n      <!-- $\\mathdefault{6\\times10^{-1}}$ -->\n      <defs>\n       <path d=\"M 33.015625 40.375  Q 26.375 40.375 22.484375 35.828125  Q 18.609375 31.296875 18.609375 23.390625  Q 18.609375 15.53125 22.484375 10.953125  Q 26.375 6.390625 33.015625 6.390625  Q 39.65625 6.390625 43.53125 10.953125  Q 47.40625 15.53125 47.40625 23.390625  Q 47.40625 31.296875 43.53125 35.828125  Q 39.65625 40.375 33.015625 40.375  z M 52.59375 71.296875  L 52.59375 62.3125  Q 48.875 64.0625 45.09375 64.984375  Q 41.3125 65.921875 37.59375 65.921875  Q 27.828125 65.921875 22.671875 59.328125  Q 17.53125 52.734375 16.796875 39.40625  Q 19.671875 43.65625 24.015625 45.921875  Q 28.375 48.1875 33.59375 48.1875  Q 44.578125 48.1875 50.953125 41.515625  Q 57.328125 34.859375 57.328125 23.390625  Q 57.328125 12.15625 50.6875 5.359375  Q 44.046875 -1.421875 33.015625 -1.421875  Q 20.359375 -1.421875 13.671875 8.265625  Q 6.984375 17.96875 6.984375 36.375  Q 6.984375 53.65625 15.1875 63.9375  Q 23.390625 74.21875 37.203125 74.21875  Q 40.921875 74.21875 44.703125 73.484375  Q 48.484375 72.75 52.59375 71.296875  z \" id=\"DejaVuSans-54\"/>\n      </defs>\n      <g transform=\"translate(731.76137 367.956562)scale(0.1 -0.1)\">\n       <use transform=\"translate(0 0.684375)\" xlink:href=\"#DejaVuSans-54\"/>\n       <use transform=\"translate(83.105469 0.684375)\" xlink:href=\"#DejaVuSans-215\"/>\n       <use transform=\"translate(186.376953 0.684375)\" xlink:href=\"#DejaVuSans-49\"/>\n       <use transform=\"translate(250 0.684375)\" xlink:href=\"#DejaVuSans-48\"/>\n       <use transform=\"translate(314.580078 38.965625)scale(0.7)\" xlink:href=\"#DejaVuSans-8722\"/>\n       <use transform=\"translate(373.232422 38.965625)scale(0.7)\" xlink:href=\"#DejaVuSans-49\"/>\n      </g>\n     </g>\n    </g>\n    <g id=\"xtick_6\">\n     <g id=\"line2d_6\">\n      <g>\n       <use style=\"stroke:#000000;stroke-width:0.6;\" x=\"784.433838\" xlink:href=\"#md997138e57\" y=\"354.958125\"/>\n      </g>\n     </g>\n    </g>\n    <g id=\"xtick_7\">\n     <g id=\"line2d_7\">\n      <g>\n       <use style=\"stroke:#000000;stroke-width:0.6;\" x=\"811.826466\" xlink:href=\"#md997138e57\" y=\"354.958125\"/>\n      </g>\n     </g>\n    </g>\n    <g id=\"xtick_8\">\n     <g id=\"line2d_8\">\n      <g>\n       <use style=\"stroke:#000000;stroke-width:0.6;\" x=\"835.988476\" xlink:href=\"#md997138e57\" y=\"354.958125\"/>\n      </g>\n     </g>\n    </g>\n    <g id=\"text_5\">\n     <!-- Risk Ratio (log scale) -->\n     <defs>\n      <path d=\"M 44.390625 34.1875  Q 47.5625 33.109375 50.5625 29.59375  Q 53.5625 26.078125 56.59375 19.921875  L 66.609375 0  L 56 0  L 46.6875 18.703125  Q 43.0625 26.03125 39.671875 28.421875  Q 36.28125 30.8125 30.421875 30.8125  L 19.671875 30.8125  L 19.671875 0  L 9.8125 0  L 9.8125 72.90625  L 32.078125 72.90625  Q 44.578125 72.90625 50.734375 67.671875  Q 56.890625 62.453125 56.890625 51.90625  Q 56.890625 45.015625 53.6875 40.46875  Q 50.484375 35.9375 44.390625 34.1875  z M 19.671875 64.796875  L 19.671875 38.921875  L 32.078125 38.921875  Q 39.203125 38.921875 42.84375 42.21875  Q 46.484375 45.515625 46.484375 51.90625  Q 46.484375 58.296875 42.84375 61.546875  Q 39.203125 64.796875 32.078125 64.796875  z \" id=\"DejaVuSans-82\"/>\n      <path d=\"M 9.421875 54.6875  L 18.40625 54.6875  L 18.40625 0  L 9.421875 0  z M 9.421875 75.984375  L 18.40625 75.984375  L 18.40625 64.59375  L 9.421875 64.59375  z \" id=\"DejaVuSans-105\"/>\n      <path d=\"M 44.28125 53.078125  L 44.28125 44.578125  Q 40.484375 46.53125 36.375 47.5  Q 32.28125 48.484375 27.875 48.484375  Q 21.1875 48.484375 17.84375 46.4375  Q 14.5 44.390625 14.5 40.28125  Q 14.5 37.15625 16.890625 35.375  Q 19.28125 33.59375 26.515625 31.984375  L 29.59375 31.296875  Q 39.15625 29.25 43.1875 25.515625  Q 47.21875 21.78125 47.21875 15.09375  Q 47.21875 7.46875 41.1875 3.015625  Q 35.15625 -1.421875 24.609375 -1.421875  Q 20.21875 -1.421875 15.453125 -0.5625  Q 10.6875 0.296875 5.421875 2  L 5.421875 11.28125  Q 10.40625 8.6875 15.234375 7.390625  Q 20.0625 6.109375 24.8125 6.109375  Q 31.15625 6.109375 34.5625 8.28125  Q 37.984375 10.453125 37.984375 14.40625  Q 37.984375 18.0625 35.515625 20.015625  Q 33.0625 21.96875 24.703125 23.78125  L 21.578125 24.515625  Q 13.234375 26.265625 9.515625 29.90625  Q 5.8125 33.546875 5.8125 39.890625  Q 5.8125 47.609375 11.28125 51.796875  Q 16.75 56 26.8125 56  Q 31.78125 56 36.171875 55.265625  Q 40.578125 54.546875 44.28125 53.078125  z \" id=\"DejaVuSans-115\"/>\n      <path d=\"M 9.078125 75.984375  L 18.109375 75.984375  L 18.109375 31.109375  L 44.921875 54.6875  L 56.390625 54.6875  L 27.390625 29.109375  L 57.625 0  L 45.90625 0  L 18.109375 26.703125  L 18.109375 0  L 9.078125 0  z \" id=\"DejaVuSans-107\"/>\n      <path id=\"DejaVuSans-32\"/>\n      <path d=\"M 34.28125 27.484375  Q 23.390625 27.484375 19.1875 25  Q 14.984375 22.515625 14.984375 16.5  Q 14.984375 11.71875 18.140625 8.90625  Q 21.296875 6.109375 26.703125 6.109375  Q 34.1875 6.109375 38.703125 11.40625  Q 43.21875 16.703125 43.21875 25.484375  L 43.21875 27.484375  z M 52.203125 31.203125  L 52.203125 0  L 43.21875 0  L 43.21875 8.296875  Q 40.140625 3.328125 35.546875 0.953125  Q 30.953125 -1.421875 24.3125 -1.421875  Q 15.921875 -1.421875 10.953125 3.296875  Q 6 8.015625 6 15.921875  Q 6 25.140625 12.171875 29.828125  Q 18.359375 34.515625 30.609375 34.515625  L 43.21875 34.515625  L 43.21875 35.40625  Q 43.21875 41.609375 39.140625 45  Q 35.0625 48.390625 27.6875 48.390625  Q 23 48.390625 18.546875 47.265625  Q 14.109375 46.140625 10.015625 43.890625  L 10.015625 52.203125  Q 14.9375 54.109375 19.578125 55.046875  Q 24.21875 56 28.609375 56  Q 40.484375 56 46.34375 49.84375  Q 52.203125 43.703125 52.203125 31.203125  z \" id=\"DejaVuSans-97\"/>\n      <path d=\"M 18.3125 70.21875  L 18.3125 54.6875  L 36.8125 54.6875  L 36.8125 47.703125  L 18.3125 47.703125  L 18.3125 18.015625  Q 18.3125 11.328125 20.140625 9.421875  Q 21.96875 7.515625 27.59375 7.515625  L 36.8125 7.515625  L 36.8125 0  L 27.59375 0  Q 17.1875 0 13.234375 3.875  Q 9.28125 7.765625 9.28125 18.015625  L 9.28125 47.703125  L 2.6875 47.703125  L 2.6875 54.6875  L 9.28125 54.6875  L 9.28125 70.21875  z \" id=\"DejaVuSans-116\"/>\n      <path d=\"M 30.609375 48.390625  Q 23.390625 48.390625 19.1875 42.75  Q 14.984375 37.109375 14.984375 27.296875  Q 14.984375 17.484375 19.15625 11.84375  Q 23.34375 6.203125 30.609375 6.203125  Q 37.796875 6.203125 41.984375 11.859375  Q 46.1875 17.53125 46.1875 27.296875  Q 46.1875 37.015625 41.984375 42.703125  Q 37.796875 48.390625 30.609375 48.390625  z M 30.609375 56  Q 42.328125 56 49.015625 48.375  Q 55.71875 40.765625 55.71875 27.296875  Q 55.71875 13.875 49.015625 6.21875  Q 42.328125 -1.421875 30.609375 -1.421875  Q 18.84375 -1.421875 12.171875 6.21875  Q 5.515625 13.875 5.515625 27.296875  Q 5.515625 40.765625 12.171875 48.375  Q 18.84375 56 30.609375 56  z \" id=\"DejaVuSans-111\"/>\n      <path d=\"M 31 75.875  Q 24.46875 64.65625 21.28125 53.65625  Q 18.109375 42.671875 18.109375 31.390625  Q 18.109375 20.125 21.3125 9.0625  Q 24.515625 -2 31 -13.1875  L 23.1875 -13.1875  Q 15.875 -1.703125 12.234375 9.375  Q 8.59375 20.453125 8.59375 31.390625  Q 8.59375 42.28125 12.203125 53.3125  Q 15.828125 64.359375 23.1875 75.875  z \" id=\"DejaVuSans-40\"/>\n      <path d=\"M 9.421875 75.984375  L 18.40625 75.984375  L 18.40625 0  L 9.421875 0  z \" id=\"DejaVuSans-108\"/>\n      <path d=\"M 45.40625 27.984375  Q 45.40625 37.75 41.375 43.109375  Q 37.359375 48.484375 30.078125 48.484375  Q 22.859375 48.484375 18.828125 43.109375  Q 14.796875 37.75 14.796875 27.984375  Q 14.796875 18.265625 18.828125 12.890625  Q 22.859375 7.515625 30.078125 7.515625  Q 37.359375 7.515625 41.375 12.890625  Q 45.40625 18.265625 45.40625 27.984375  z M 54.390625 6.78125  Q 54.390625 -7.171875 48.1875 -13.984375  Q 42 -20.796875 29.203125 -20.796875  Q 24.46875 -20.796875 20.265625 -20.09375  Q 16.0625 -19.390625 12.109375 -17.921875  L 12.109375 -9.1875  Q 16.0625 -11.328125 19.921875 -12.34375  Q 23.78125 -13.375 27.78125 -13.375  Q 36.625 -13.375 41.015625 -8.765625  Q 45.40625 -4.15625 45.40625 5.171875  L 45.40625 9.625  Q 42.625 4.78125 38.28125 2.390625  Q 33.9375 0 27.875 0  Q 17.828125 0 11.671875 7.65625  Q 5.515625 15.328125 5.515625 27.984375  Q 5.515625 40.671875 11.671875 48.328125  Q 17.828125 56 27.875 56  Q 33.9375 56 38.28125 53.609375  Q 42.625 51.21875 45.40625 46.390625  L 45.40625 54.6875  L 54.390625 54.6875  z \" id=\"DejaVuSans-103\"/>\n      <path d=\"M 48.78125 52.59375  L 48.78125 44.1875  Q 44.96875 46.296875 41.140625 47.34375  Q 37.3125 48.390625 33.40625 48.390625  Q 24.65625 48.390625 19.8125 42.84375  Q 14.984375 37.3125 14.984375 27.296875  Q 14.984375 17.28125 19.8125 11.734375  Q 24.65625 6.203125 33.40625 6.203125  Q 37.3125 6.203125 41.140625 7.25  Q 44.96875 8.296875 48.78125 10.40625  L 48.78125 2.09375  Q 45.015625 0.34375 40.984375 -0.53125  Q 36.96875 -1.421875 32.421875 -1.421875  Q 20.0625 -1.421875 12.78125 6.34375  Q 5.515625 14.109375 5.515625 27.296875  Q 5.515625 40.671875 12.859375 48.328125  Q 20.21875 56 33.015625 56  Q 37.15625 56 41.109375 55.140625  Q 45.0625 54.296875 48.78125 52.59375  z \" id=\"DejaVuSans-99\"/>\n      <path d=\"M 56.203125 29.59375  L 56.203125 25.203125  L 14.890625 25.203125  Q 15.484375 15.921875 20.484375 11.0625  Q 25.484375 6.203125 34.421875 6.203125  Q 39.59375 6.203125 44.453125 7.46875  Q 49.3125 8.734375 54.109375 11.28125  L 54.109375 2.78125  Q 49.265625 0.734375 44.1875 -0.34375  Q 39.109375 -1.421875 33.890625 -1.421875  Q 20.796875 -1.421875 13.15625 6.1875  Q 5.515625 13.8125 5.515625 26.8125  Q 5.515625 40.234375 12.765625 48.109375  Q 20.015625 56 32.328125 56  Q 43.359375 56 49.78125 48.890625  Q 56.203125 41.796875 56.203125 29.59375  z M 47.21875 32.234375  Q 47.125 39.59375 43.09375 43.984375  Q 39.0625 48.390625 32.421875 48.390625  Q 24.90625 48.390625 20.390625 44.140625  Q 15.875 39.890625 15.1875 32.171875  z \" id=\"DejaVuSans-101\"/>\n      <path d=\"M 8.015625 75.875  L 15.828125 75.875  Q 23.140625 64.359375 26.78125 53.3125  Q 30.421875 42.28125 30.421875 31.390625  Q 30.421875 20.453125 26.78125 9.375  Q 23.140625 -1.703125 15.828125 -13.1875  L 8.015625 -13.1875  Q 14.5 -2 17.703125 9.0625  Q 20.90625 20.125 20.90625 31.390625  Q 20.90625 42.671875 17.703125 53.65625  Q 14.5 64.65625 8.015625 75.875  z \" id=\"DejaVuSans-41\"/>\n     </defs>\n     <g transform=\"translate(652.936719 383.234687)scale(0.1 -0.1)\">\n      <use xlink:href=\"#DejaVuSans-82\"/>\n      <use x=\"69.482422\" xlink:href=\"#DejaVuSans-105\"/>\n      <use x=\"97.265625\" xlink:href=\"#DejaVuSans-115\"/>\n      <use x=\"149.365234\" xlink:href=\"#DejaVuSans-107\"/>\n      <use x=\"207.275391\" xlink:href=\"#DejaVuSans-32\"/>\n      <use x=\"239.0625\" xlink:href=\"#DejaVuSans-82\"/>\n      <use x=\"308.513672\" xlink:href=\"#DejaVuSans-97\"/>\n      <use x=\"369.792969\" xlink:href=\"#DejaVuSans-116\"/>\n      <use x=\"409.001953\" xlink:href=\"#DejaVuSans-105\"/>\n      <use x=\"436.785156\" xlink:href=\"#DejaVuSans-111\"/>\n      <use x=\"497.966797\" xlink:href=\"#DejaVuSans-32\"/>\n      <use x=\"529.753906\" xlink:href=\"#DejaVuSans-40\"/>\n      <use x=\"568.767578\" xlink:href=\"#DejaVuSans-108\"/>\n      <use x=\"596.550781\" xlink:href=\"#DejaVuSans-111\"/>\n      <use x=\"657.732422\" xlink:href=\"#DejaVuSans-103\"/>\n      <use x=\"721.208984\" xlink:href=\"#DejaVuSans-32\"/>\n      <use x=\"752.996094\" xlink:href=\"#DejaVuSans-115\"/>\n      <use x=\"805.095703\" xlink:href=\"#DejaVuSans-99\"/>\n      <use x=\"860.076172\" xlink:href=\"#DejaVuSans-97\"/>\n      <use x=\"921.355469\" xlink:href=\"#DejaVuSans-108\"/>\n      <use x=\"949.138672\" xlink:href=\"#DejaVuSans-101\"/>\n      <use x=\"1010.662109\" xlink:href=\"#DejaVuSans-41\"/>\n     </g>\n    </g>\n   </g>\n   <g id=\"matplotlib.axis_2\">\n    <g id=\"ytick_1\">\n     <g id=\"line2d_9\">\n      <defs>\n       <path d=\"M 0 0  L -3.5 0  \" id=\"m9e258a7c1d\" style=\"stroke:#000000;stroke-width:0.8;\"/>\n      </defs>\n      <g>\n       <use style=\"stroke:#000000;stroke-width:0.8;\" x=\"538.020313\" xlink:href=\"#m9e258a7c1d\" y=\"339.838125\"/>\n      </g>\n     </g>\n     <g id=\"text_6\">\n      <!-- Certain infectious and parasitic diseases -->\n      <defs>\n       <path d=\"M 64.40625 67.28125  L 64.40625 56.890625  Q 59.421875 61.53125 53.78125 63.8125  Q 48.140625 66.109375 41.796875 66.109375  Q 29.296875 66.109375 22.65625 58.46875  Q 16.015625 50.828125 16.015625 36.375  Q 16.015625 21.96875 22.65625 14.328125  Q 29.296875 6.6875 41.796875 6.6875  Q 48.140625 6.6875 53.78125 8.984375  Q 59.421875 11.28125 64.40625 15.921875  L 64.40625 5.609375  Q 59.234375 2.09375 53.4375 0.328125  Q 47.65625 -1.421875 41.21875 -1.421875  Q 24.65625 -1.421875 15.125 8.703125  Q 5.609375 18.84375 5.609375 36.375  Q 5.609375 53.953125 15.125 64.078125  Q 24.65625 74.21875 41.21875 74.21875  Q 47.75 74.21875 53.53125 72.484375  Q 59.328125 70.75 64.40625 67.28125  z \" id=\"DejaVuSans-67\"/>\n       <path d=\"M 41.109375 46.296875  Q 39.59375 47.171875 37.8125 47.578125  Q 36.03125 48 33.890625 48  Q 26.265625 48 22.1875 43.046875  Q 18.109375 38.09375 18.109375 28.8125  L 18.109375 0  L 9.078125 0  L 9.078125 54.6875  L 18.109375 54.6875  L 18.109375 46.1875  Q 20.953125 51.171875 25.484375 53.578125  Q 30.03125 56 36.53125 56  Q 37.453125 56 38.578125 55.875  Q 39.703125 55.765625 41.0625 55.515625  z \" id=\"DejaVuSans-114\"/>\n       <path d=\"M 54.890625 33.015625  L 54.890625 0  L 45.90625 0  L 45.90625 32.71875  Q 45.90625 40.484375 42.875 44.328125  Q 39.84375 48.1875 33.796875 48.1875  Q 26.515625 48.1875 22.3125 43.546875  Q 18.109375 38.921875 18.109375 30.90625  L 18.109375 0  L 9.078125 0  L 9.078125 54.6875  L 18.109375 54.6875  L 18.109375 46.1875  Q 21.34375 51.125 25.703125 53.5625  Q 30.078125 56 35.796875 56  Q 45.21875 56 50.046875 50.171875  Q 54.890625 44.34375 54.890625 33.015625  z \" id=\"DejaVuSans-110\"/>\n       <path d=\"M 37.109375 75.984375  L 37.109375 68.5  L 28.515625 68.5  Q 23.6875 68.5 21.796875 66.546875  Q 19.921875 64.59375 19.921875 59.515625  L 19.921875 54.6875  L 34.71875 54.6875  L 34.71875 47.703125  L 19.921875 47.703125  L 19.921875 0  L 10.890625 0  L 10.890625 47.703125  L 2.296875 47.703125  L 2.296875 54.6875  L 10.890625 54.6875  L 10.890625 58.5  Q 10.890625 67.625 15.140625 71.796875  Q 19.390625 75.984375 28.609375 75.984375  z \" id=\"DejaVuSans-102\"/>\n       <path d=\"M 8.5 21.578125  L 8.5 54.6875  L 17.484375 54.6875  L 17.484375 21.921875  Q 17.484375 14.15625 20.5 10.265625  Q 23.53125 6.390625 29.59375 6.390625  Q 36.859375 6.390625 41.078125 11.03125  Q 45.3125 15.671875 45.3125 23.6875  L 45.3125 54.6875  L 54.296875 54.6875  L 54.296875 0  L 45.3125 0  L 45.3125 8.40625  Q 42.046875 3.421875 37.71875 1  Q 33.40625 -1.421875 27.6875 -1.421875  Q 18.265625 -1.421875 13.375 4.4375  Q 8.5 10.296875 8.5 21.578125  z M 31.109375 56  z \" id=\"DejaVuSans-117\"/>\n       <path d=\"M 45.40625 46.390625  L 45.40625 75.984375  L 54.390625 75.984375  L 54.390625 0  L 45.40625 0  L 45.40625 8.203125  Q 42.578125 3.328125 38.25 0.953125  Q 33.9375 -1.421875 27.875 -1.421875  Q 17.96875 -1.421875 11.734375 6.484375  Q 5.515625 14.40625 5.515625 27.296875  Q 5.515625 40.1875 11.734375 48.09375  Q 17.96875 56 27.875 56  Q 33.9375 56 38.25 53.625  Q 42.578125 51.265625 45.40625 46.390625  z M 14.796875 27.296875  Q 14.796875 17.390625 18.875 11.75  Q 22.953125 6.109375 30.078125 6.109375  Q 37.203125 6.109375 41.296875 11.75  Q 45.40625 17.390625 45.40625 27.296875  Q 45.40625 37.203125 41.296875 42.84375  Q 37.203125 48.484375 30.078125 48.484375  Q 22.953125 48.484375 18.875 42.84375  Q 14.796875 37.203125 14.796875 27.296875  z \" id=\"DejaVuSans-100\"/>\n       <path d=\"M 18.109375 8.203125  L 18.109375 -20.796875  L 9.078125 -20.796875  L 9.078125 54.6875  L 18.109375 54.6875  L 18.109375 46.390625  Q 20.953125 51.265625 25.265625 53.625  Q 29.59375 56 35.59375 56  Q 45.5625 56 51.78125 48.09375  Q 58.015625 40.1875 58.015625 27.296875  Q 58.015625 14.40625 51.78125 6.484375  Q 45.5625 -1.421875 35.59375 -1.421875  Q 29.59375 -1.421875 25.265625 0.953125  Q 20.953125 3.328125 18.109375 8.203125  z M 48.6875 27.296875  Q 48.6875 37.203125 44.609375 42.84375  Q 40.53125 48.484375 33.40625 48.484375  Q 26.265625 48.484375 22.1875 42.84375  Q 18.109375 37.203125 18.109375 27.296875  Q 18.109375 17.390625 22.1875 11.75  Q 26.265625 6.109375 33.40625 6.109375  Q 40.53125 6.109375 44.609375 11.75  Q 48.6875 17.390625 48.6875 27.296875  z \" id=\"DejaVuSans-112\"/>\n      </defs>\n      <g transform=\"translate(328.342188 343.637344)scale(0.1 -0.1)\">\n       <use xlink:href=\"#DejaVuSans-67\"/>\n       <use x=\"69.824219\" xlink:href=\"#DejaVuSans-101\"/>\n       <use x=\"131.347656\" xlink:href=\"#DejaVuSans-114\"/>\n       <use x=\"172.460938\" xlink:href=\"#DejaVuSans-116\"/>\n       <use x=\"211.669922\" xlink:href=\"#DejaVuSans-97\"/>\n       <use x=\"272.949219\" xlink:href=\"#DejaVuSans-105\"/>\n       <use x=\"300.732422\" xlink:href=\"#DejaVuSans-110\"/>\n       <use x=\"364.111328\" xlink:href=\"#DejaVuSans-32\"/>\n       <use x=\"395.898438\" xlink:href=\"#DejaVuSans-105\"/>\n       <use x=\"423.681641\" xlink:href=\"#DejaVuSans-110\"/>\n       <use x=\"487.060547\" xlink:href=\"#DejaVuSans-102\"/>\n       <use x=\"522.265625\" xlink:href=\"#DejaVuSans-101\"/>\n       <use x=\"583.789062\" xlink:href=\"#DejaVuSans-99\"/>\n       <use x=\"638.769531\" xlink:href=\"#DejaVuSans-116\"/>\n       <use x=\"677.978516\" xlink:href=\"#DejaVuSans-105\"/>\n       <use x=\"705.761719\" xlink:href=\"#DejaVuSans-111\"/>\n       <use x=\"766.943359\" xlink:href=\"#DejaVuSans-117\"/>\n       <use x=\"830.322266\" xlink:href=\"#DejaVuSans-115\"/>\n       <use x=\"882.421875\" xlink:href=\"#DejaVuSans-32\"/>\n       <use x=\"914.208984\" xlink:href=\"#DejaVuSans-97\"/>\n       <use x=\"975.488281\" xlink:href=\"#DejaVuSans-110\"/>\n       <use x=\"1038.867188\" xlink:href=\"#DejaVuSans-100\"/>\n       <use x=\"1102.34375\" xlink:href=\"#DejaVuSans-32\"/>\n       <use x=\"1134.130859\" xlink:href=\"#DejaVuSans-112\"/>\n       <use x=\"1197.607422\" xlink:href=\"#DejaVuSans-97\"/>\n       <use x=\"1258.886719\" xlink:href=\"#DejaVuSans-114\"/>\n       <use x=\"1300\" xlink:href=\"#DejaVuSans-97\"/>\n       <use x=\"1361.279297\" xlink:href=\"#DejaVuSans-115\"/>\n       <use x=\"1413.378906\" xlink:href=\"#DejaVuSans-105\"/>\n       <use x=\"1441.162109\" xlink:href=\"#DejaVuSans-116\"/>\n       <use x=\"1480.371094\" xlink:href=\"#DejaVuSans-105\"/>\n       <use x=\"1508.154297\" xlink:href=\"#DejaVuSans-99\"/>\n       <use x=\"1563.134766\" xlink:href=\"#DejaVuSans-32\"/>\n       <use x=\"1594.921875\" xlink:href=\"#DejaVuSans-100\"/>\n       <use x=\"1658.398438\" xlink:href=\"#DejaVuSans-105\"/>\n       <use x=\"1686.181641\" xlink:href=\"#DejaVuSans-115\"/>\n       <use x=\"1738.28125\" xlink:href=\"#DejaVuSans-101\"/>\n       <use x=\"1799.804688\" xlink:href=\"#DejaVuSans-97\"/>\n       <use x=\"1861.083984\" xlink:href=\"#DejaVuSans-115\"/>\n       <use x=\"1913.183594\" xlink:href=\"#DejaVuSans-101\"/>\n       <use x=\"1974.707031\" xlink:href=\"#DejaVuSans-115\"/>\n      </g>\n     </g>\n    </g>\n    <g id=\"ytick_2\">\n     <g id=\"line2d_10\">\n      <g>\n       <use style=\"stroke:#000000;stroke-width:0.8;\" x=\"538.020313\" xlink:href=\"#m9e258a7c1d\" y=\"318.238125\"/>\n      </g>\n     </g>\n     <g id=\"text_7\">\n      <!-- Neoplasms -->\n      <defs>\n       <path d=\"M 9.8125 72.90625  L 23.09375 72.90625  L 55.421875 11.921875  L 55.421875 72.90625  L 64.984375 72.90625  L 64.984375 0  L 51.703125 0  L 19.390625 60.984375  L 19.390625 0  L 9.8125 0  z \" id=\"DejaVuSans-78\"/>\n       <path d=\"M 52 44.1875  Q 55.375 50.25 60.0625 53.125  Q 64.75 56 71.09375 56  Q 79.640625 56 84.28125 50.015625  Q 88.921875 44.046875 88.921875 33.015625  L 88.921875 0  L 79.890625 0  L 79.890625 32.71875  Q 79.890625 40.578125 77.09375 44.375  Q 74.3125 48.1875 68.609375 48.1875  Q 61.625 48.1875 57.5625 43.546875  Q 53.515625 38.921875 53.515625 30.90625  L 53.515625 0  L 44.484375 0  L 44.484375 32.71875  Q 44.484375 40.625 41.703125 44.40625  Q 38.921875 48.1875 33.109375 48.1875  Q 26.21875 48.1875 22.15625 43.53125  Q 18.109375 38.875 18.109375 30.90625  L 18.109375 0  L 9.078125 0  L 9.078125 54.6875  L 18.109375 54.6875  L 18.109375 46.1875  Q 21.1875 51.21875 25.484375 53.609375  Q 29.78125 56 35.6875 56  Q 41.65625 56 45.828125 52.96875  Q 50 49.953125 52 44.1875  z \" id=\"DejaVuSans-109\"/>\n      </defs>\n      <g transform=\"translate(475.853125 322.037344)scale(0.1 -0.1)\">\n       <use xlink:href=\"#DejaVuSans-78\"/>\n       <use x=\"74.804688\" xlink:href=\"#DejaVuSans-101\"/>\n       <use x=\"136.328125\" xlink:href=\"#DejaVuSans-111\"/>\n       <use x=\"197.509766\" xlink:href=\"#DejaVuSans-112\"/>\n       <use x=\"260.986328\" xlink:href=\"#DejaVuSans-108\"/>\n       <use x=\"288.769531\" xlink:href=\"#DejaVuSans-97\"/>\n       <use x=\"350.048828\" xlink:href=\"#DejaVuSans-115\"/>\n       <use x=\"402.148438\" xlink:href=\"#DejaVuSans-109\"/>\n       <use x=\"499.560547\" xlink:href=\"#DejaVuSans-115\"/>\n      </g>\n     </g>\n    </g>\n    <g id=\"ytick_3\">\n     <g id=\"line2d_11\">\n      <g>\n       <use style=\"stroke:#000000;stroke-width:0.8;\" x=\"538.020313\" xlink:href=\"#m9e258a7c1d\" y=\"296.638125\"/>\n      </g>\n     </g>\n     <g id=\"text_8\">\n      <!-- Diseases of the blood and blood-forming organs and certain disorders involving the immune mechanism -->\n      <defs>\n       <path d=\"M 19.671875 64.796875  L 19.671875 8.109375  L 31.59375 8.109375  Q 46.6875 8.109375 53.6875 14.9375  Q 60.6875 21.78125 60.6875 36.53125  Q 60.6875 51.171875 53.6875 57.984375  Q 46.6875 64.796875 31.59375 64.796875  z M 9.8125 72.90625  L 30.078125 72.90625  Q 51.265625 72.90625 61.171875 64.09375  Q 71.09375 55.28125 71.09375 36.53125  Q 71.09375 17.671875 61.125 8.828125  Q 51.171875 0 30.078125 0  L 9.8125 0  z \" id=\"DejaVuSans-68\"/>\n       <path d=\"M 54.890625 33.015625  L 54.890625 0  L 45.90625 0  L 45.90625 32.71875  Q 45.90625 40.484375 42.875 44.328125  Q 39.84375 48.1875 33.796875 48.1875  Q 26.515625 48.1875 22.3125 43.546875  Q 18.109375 38.921875 18.109375 30.90625  L 18.109375 0  L 9.078125 0  L 9.078125 75.984375  L 18.109375 75.984375  L 18.109375 46.1875  Q 21.34375 51.125 25.703125 53.5625  Q 30.078125 56 35.796875 56  Q 45.21875 56 50.046875 50.171875  Q 54.890625 44.34375 54.890625 33.015625  z \" id=\"DejaVuSans-104\"/>\n       <path d=\"M 48.6875 27.296875  Q 48.6875 37.203125 44.609375 42.84375  Q 40.53125 48.484375 33.40625 48.484375  Q 26.265625 48.484375 22.1875 42.84375  Q 18.109375 37.203125 18.109375 27.296875  Q 18.109375 17.390625 22.1875 11.75  Q 26.265625 6.109375 33.40625 6.109375  Q 40.53125 6.109375 44.609375 11.75  Q 48.6875 17.390625 48.6875 27.296875  z M 18.109375 46.390625  Q 20.953125 51.265625 25.265625 53.625  Q 29.59375 56 35.59375 56  Q 45.5625 56 51.78125 48.09375  Q 58.015625 40.1875 58.015625 27.296875  Q 58.015625 14.40625 51.78125 6.484375  Q 45.5625 -1.421875 35.59375 -1.421875  Q 29.59375 -1.421875 25.265625 0.953125  Q 20.953125 3.328125 18.109375 8.203125  L 18.109375 0  L 9.078125 0  L 9.078125 75.984375  L 18.109375 75.984375  z \" id=\"DejaVuSans-98\"/>\n       <path d=\"M 4.890625 31.390625  L 31.203125 31.390625  L 31.203125 23.390625  L 4.890625 23.390625  z \" id=\"DejaVuSans-45\"/>\n       <path d=\"M 2.984375 54.6875  L 12.5 54.6875  L 29.59375 8.796875  L 46.6875 54.6875  L 56.203125 54.6875  L 35.6875 0  L 23.484375 0  z \" id=\"DejaVuSans-118\"/>\n      </defs>\n      <g transform=\"translate(7.2 300.437344)scale(0.1 -0.1)\">\n       <use xlink:href=\"#DejaVuSans-68\"/>\n       <use x=\"77.001953\" xlink:href=\"#DejaVuSans-105\"/>\n       <use x=\"104.785156\" xlink:href=\"#DejaVuSans-115\"/>\n       <use x=\"156.884766\" xlink:href=\"#DejaVuSans-101\"/>\n       <use x=\"218.408203\" xlink:href=\"#DejaVuSans-97\"/>\n       <use x=\"279.6875\" xlink:href=\"#DejaVuSans-115\"/>\n       <use x=\"331.787109\" xlink:href=\"#DejaVuSans-101\"/>\n       <use x=\"393.310547\" xlink:href=\"#DejaVuSans-115\"/>\n       <use x=\"445.410156\" xlink:href=\"#DejaVuSans-32\"/>\n       <use x=\"477.197266\" xlink:href=\"#DejaVuSans-111\"/>\n       <use x=\"538.378906\" xlink:href=\"#DejaVuSans-102\"/>\n       <use x=\"573.583984\" xlink:href=\"#DejaVuSans-32\"/>\n       <use x=\"605.371094\" xlink:href=\"#DejaVuSans-116\"/>\n       <use x=\"644.580078\" xlink:href=\"#DejaVuSans-104\"/>\n       <use x=\"707.958984\" xlink:href=\"#DejaVuSans-101\"/>\n       <use x=\"769.482422\" xlink:href=\"#DejaVuSans-32\"/>\n       <use x=\"801.269531\" xlink:href=\"#DejaVuSans-98\"/>\n       <use x=\"864.746094\" xlink:href=\"#DejaVuSans-108\"/>\n       <use x=\"892.529297\" xlink:href=\"#DejaVuSans-111\"/>\n       <use x=\"953.710938\" xlink:href=\"#DejaVuSans-111\"/>\n       <use x=\"1014.892578\" xlink:href=\"#DejaVuSans-100\"/>\n       <use x=\"1078.369141\" xlink:href=\"#DejaVuSans-32\"/>\n       <use x=\"1110.15625\" xlink:href=\"#DejaVuSans-97\"/>\n       <use x=\"1171.435547\" xlink:href=\"#DejaVuSans-110\"/>\n       <use x=\"1234.814453\" xlink:href=\"#DejaVuSans-100\"/>\n       <use x=\"1298.291016\" xlink:href=\"#DejaVuSans-32\"/>\n       <use x=\"1330.078125\" xlink:href=\"#DejaVuSans-98\"/>\n       <use x=\"1393.554688\" xlink:href=\"#DejaVuSans-108\"/>\n       <use x=\"1421.337891\" xlink:href=\"#DejaVuSans-111\"/>\n       <use x=\"1482.519531\" xlink:href=\"#DejaVuSans-111\"/>\n       <use x=\"1543.701172\" xlink:href=\"#DejaVuSans-100\"/>\n       <use x=\"1607.177734\" xlink:href=\"#DejaVuSans-45\"/>\n       <use x=\"1643.261719\" xlink:href=\"#DejaVuSans-102\"/>\n       <use x=\"1678.466797\" xlink:href=\"#DejaVuSans-111\"/>\n       <use x=\"1739.648438\" xlink:href=\"#DejaVuSans-114\"/>\n       <use x=\"1780.746094\" xlink:href=\"#DejaVuSans-109\"/>\n       <use x=\"1878.158203\" xlink:href=\"#DejaVuSans-105\"/>\n       <use x=\"1905.941406\" xlink:href=\"#DejaVuSans-110\"/>\n       <use x=\"1969.320312\" xlink:href=\"#DejaVuSans-103\"/>\n       <use x=\"2032.796875\" xlink:href=\"#DejaVuSans-32\"/>\n       <use x=\"2064.583984\" xlink:href=\"#DejaVuSans-111\"/>\n       <use x=\"2125.765625\" xlink:href=\"#DejaVuSans-114\"/>\n       <use x=\"2166.863281\" xlink:href=\"#DejaVuSans-103\"/>\n       <use x=\"2230.339844\" xlink:href=\"#DejaVuSans-97\"/>\n       <use x=\"2291.619141\" xlink:href=\"#DejaVuSans-110\"/>\n       <use x=\"2354.998047\" xlink:href=\"#DejaVuSans-115\"/>\n       <use x=\"2407.097656\" xlink:href=\"#DejaVuSans-32\"/>\n       <use x=\"2438.884766\" xlink:href=\"#DejaVuSans-97\"/>\n       <use x=\"2500.164062\" xlink:href=\"#DejaVuSans-110\"/>\n       <use x=\"2563.542969\" xlink:href=\"#DejaVuSans-100\"/>\n       <use x=\"2627.019531\" xlink:href=\"#DejaVuSans-32\"/>\n       <use x=\"2658.806641\" xlink:href=\"#DejaVuSans-99\"/>\n       <use x=\"2713.787109\" xlink:href=\"#DejaVuSans-101\"/>\n       <use x=\"2775.310547\" xlink:href=\"#DejaVuSans-114\"/>\n       <use x=\"2816.423828\" xlink:href=\"#DejaVuSans-116\"/>\n       <use x=\"2855.632812\" xlink:href=\"#DejaVuSans-97\"/>\n       <use x=\"2916.912109\" xlink:href=\"#DejaVuSans-105\"/>\n       <use x=\"2944.695312\" xlink:href=\"#DejaVuSans-110\"/>\n       <use x=\"3008.074219\" xlink:href=\"#DejaVuSans-32\"/>\n       <use x=\"3039.861328\" xlink:href=\"#DejaVuSans-100\"/>\n       <use x=\"3103.337891\" xlink:href=\"#DejaVuSans-105\"/>\n       <use x=\"3131.121094\" xlink:href=\"#DejaVuSans-115\"/>\n       <use x=\"3183.220703\" xlink:href=\"#DejaVuSans-111\"/>\n       <use x=\"3244.402344\" xlink:href=\"#DejaVuSans-114\"/>\n       <use x=\"3285.5\" xlink:href=\"#DejaVuSans-100\"/>\n       <use x=\"3348.976562\" xlink:href=\"#DejaVuSans-101\"/>\n       <use x=\"3410.5\" xlink:href=\"#DejaVuSans-114\"/>\n       <use x=\"3451.613281\" xlink:href=\"#DejaVuSans-115\"/>\n       <use x=\"3503.712891\" xlink:href=\"#DejaVuSans-32\"/>\n       <use x=\"3535.5\" xlink:href=\"#DejaVuSans-105\"/>\n       <use x=\"3563.283203\" xlink:href=\"#DejaVuSans-110\"/>\n       <use x=\"3626.662109\" xlink:href=\"#DejaVuSans-118\"/>\n       <use x=\"3685.841797\" xlink:href=\"#DejaVuSans-111\"/>\n       <use x=\"3747.023438\" xlink:href=\"#DejaVuSans-108\"/>\n       <use x=\"3774.806641\" xlink:href=\"#DejaVuSans-118\"/>\n       <use x=\"3833.986328\" xlink:href=\"#DejaVuSans-105\"/>\n       <use x=\"3861.769531\" xlink:href=\"#DejaVuSans-110\"/>\n       <use x=\"3925.148438\" xlink:href=\"#DejaVuSans-103\"/>\n       <use x=\"3988.625\" xlink:href=\"#DejaVuSans-32\"/>\n       <use x=\"4020.412109\" xlink:href=\"#DejaVuSans-116\"/>\n       <use x=\"4059.621094\" xlink:href=\"#DejaVuSans-104\"/>\n       <use x=\"4123\" xlink:href=\"#DejaVuSans-101\"/>\n       <use x=\"4184.523438\" xlink:href=\"#DejaVuSans-32\"/>\n       <use x=\"4216.310547\" xlink:href=\"#DejaVuSans-105\"/>\n       <use x=\"4244.09375\" xlink:href=\"#DejaVuSans-109\"/>\n       <use x=\"4341.505859\" xlink:href=\"#DejaVuSans-109\"/>\n       <use x=\"4438.917969\" xlink:href=\"#DejaVuSans-117\"/>\n       <use x=\"4502.296875\" xlink:href=\"#DejaVuSans-110\"/>\n       <use x=\"4565.675781\" xlink:href=\"#DejaVuSans-101\"/>\n       <use x=\"4627.199219\" xlink:href=\"#DejaVuSans-32\"/>\n       <use x=\"4658.986328\" xlink:href=\"#DejaVuSans-109\"/>\n       <use x=\"4756.398438\" xlink:href=\"#DejaVuSans-101\"/>\n       <use x=\"4817.921875\" xlink:href=\"#DejaVuSans-99\"/>\n       <use x=\"4872.902344\" xlink:href=\"#DejaVuSans-104\"/>\n       <use x=\"4936.28125\" xlink:href=\"#DejaVuSans-97\"/>\n       <use x=\"4997.560547\" xlink:href=\"#DejaVuSans-110\"/>\n       <use x=\"5060.939453\" xlink:href=\"#DejaVuSans-105\"/>\n       <use x=\"5088.722656\" xlink:href=\"#DejaVuSans-115\"/>\n       <use x=\"5140.822266\" xlink:href=\"#DejaVuSans-109\"/>\n      </g>\n     </g>\n    </g>\n    <g id=\"ytick_4\">\n     <g id=\"line2d_12\">\n      <g>\n       <use style=\"stroke:#000000;stroke-width:0.8;\" x=\"538.020313\" xlink:href=\"#m9e258a7c1d\" y=\"275.038125\"/>\n      </g>\n     </g>\n     <g id=\"text_9\">\n      <!-- Endocrine, nutritional and metabolic diseases -->\n      <defs>\n       <path d=\"M 9.8125 72.90625  L 55.90625 72.90625  L 55.90625 64.59375  L 19.671875 64.59375  L 19.671875 43.015625  L 54.390625 43.015625  L 54.390625 34.71875  L 19.671875 34.71875  L 19.671875 8.296875  L 56.78125 8.296875  L 56.78125 0  L 9.8125 0  z \" id=\"DejaVuSans-69\"/>\n       <path d=\"M 11.71875 12.40625  L 22.015625 12.40625  L 22.015625 4  L 14.015625 -11.625  L 7.71875 -11.625  L 11.71875 4  z \" id=\"DejaVuSans-44\"/>\n      </defs>\n      <g transform=\"translate(302.115625 278.837344)scale(0.1 -0.1)\">\n       <use xlink:href=\"#DejaVuSans-69\"/>\n       <use x=\"63.183594\" xlink:href=\"#DejaVuSans-110\"/>\n       <use x=\"126.5625\" xlink:href=\"#DejaVuSans-100\"/>\n       <use x=\"190.039062\" xlink:href=\"#DejaVuSans-111\"/>\n       <use x=\"251.220703\" xlink:href=\"#DejaVuSans-99\"/>\n       <use x=\"306.201172\" xlink:href=\"#DejaVuSans-114\"/>\n       <use x=\"347.314453\" xlink:href=\"#DejaVuSans-105\"/>\n       <use x=\"375.097656\" xlink:href=\"#DejaVuSans-110\"/>\n       <use x=\"438.476562\" xlink:href=\"#DejaVuSans-101\"/>\n       <use x=\"500\" xlink:href=\"#DejaVuSans-44\"/>\n       <use x=\"531.787109\" xlink:href=\"#DejaVuSans-32\"/>\n       <use x=\"563.574219\" xlink:href=\"#DejaVuSans-110\"/>\n       <use x=\"626.953125\" xlink:href=\"#DejaVuSans-117\"/>\n       <use x=\"690.332031\" xlink:href=\"#DejaVuSans-116\"/>\n       <use x=\"729.541016\" xlink:href=\"#DejaVuSans-114\"/>\n       <use x=\"770.654297\" xlink:href=\"#DejaVuSans-105\"/>\n       <use x=\"798.4375\" xlink:href=\"#DejaVuSans-116\"/>\n       <use x=\"837.646484\" xlink:href=\"#DejaVuSans-105\"/>\n       <use x=\"865.429688\" xlink:href=\"#DejaVuSans-111\"/>\n       <use x=\"926.611328\" xlink:href=\"#DejaVuSans-110\"/>\n       <use x=\"989.990234\" xlink:href=\"#DejaVuSans-97\"/>\n       <use x=\"1051.269531\" xlink:href=\"#DejaVuSans-108\"/>\n       <use x=\"1079.052734\" xlink:href=\"#DejaVuSans-32\"/>\n       <use x=\"1110.839844\" xlink:href=\"#DejaVuSans-97\"/>\n       <use x=\"1172.119141\" xlink:href=\"#DejaVuSans-110\"/>\n       <use x=\"1235.498047\" xlink:href=\"#DejaVuSans-100\"/>\n       <use x=\"1298.974609\" xlink:href=\"#DejaVuSans-32\"/>\n       <use x=\"1330.761719\" xlink:href=\"#DejaVuSans-109\"/>\n       <use x=\"1428.173828\" xlink:href=\"#DejaVuSans-101\"/>\n       <use x=\"1489.697266\" xlink:href=\"#DejaVuSans-116\"/>\n       <use x=\"1528.90625\" xlink:href=\"#DejaVuSans-97\"/>\n       <use x=\"1590.185547\" xlink:href=\"#DejaVuSans-98\"/>\n       <use x=\"1653.662109\" xlink:href=\"#DejaVuSans-111\"/>\n       <use x=\"1714.84375\" xlink:href=\"#DejaVuSans-108\"/>\n       <use x=\"1742.626953\" xlink:href=\"#DejaVuSans-105\"/>\n       <use x=\"1770.410156\" xlink:href=\"#DejaVuSans-99\"/>\n       <use x=\"1825.390625\" xlink:href=\"#DejaVuSans-32\"/>\n       <use x=\"1857.177734\" xlink:href=\"#DejaVuSans-100\"/>\n       <use x=\"1920.654297\" xlink:href=\"#DejaVuSans-105\"/>\n       <use x=\"1948.4375\" xlink:href=\"#DejaVuSans-115\"/>\n       <use x=\"2000.537109\" xlink:href=\"#DejaVuSans-101\"/>\n       <use x=\"2062.060547\" xlink:href=\"#DejaVuSans-97\"/>\n       <use x=\"2123.339844\" xlink:href=\"#DejaVuSans-115\"/>\n       <use x=\"2175.439453\" xlink:href=\"#DejaVuSans-101\"/>\n       <use x=\"2236.962891\" xlink:href=\"#DejaVuSans-115\"/>\n      </g>\n     </g>\n    </g>\n    <g id=\"ytick_5\">\n     <g id=\"line2d_13\">\n      <g>\n       <use style=\"stroke:#000000;stroke-width:0.8;\" x=\"538.020313\" xlink:href=\"#m9e258a7c1d\" y=\"253.438125\"/>\n      </g>\n     </g>\n     <g id=\"text_10\">\n      <!-- Mental, Behavioral and Neurodevelopmental disorders -->\n      <defs>\n       <path d=\"M 9.8125 72.90625  L 24.515625 72.90625  L 43.109375 23.296875  L 61.8125 72.90625  L 76.515625 72.90625  L 76.515625 0  L 66.890625 0  L 66.890625 64.015625  L 48.09375 14.015625  L 38.1875 14.015625  L 19.390625 64.015625  L 19.390625 0  L 9.8125 0  z \" id=\"DejaVuSans-77\"/>\n       <path d=\"M 19.671875 34.8125  L 19.671875 8.109375  L 35.5 8.109375  Q 43.453125 8.109375 47.28125 11.40625  Q 51.125 14.703125 51.125 21.484375  Q 51.125 28.328125 47.28125 31.5625  Q 43.453125 34.8125 35.5 34.8125  z M 19.671875 64.796875  L 19.671875 42.828125  L 34.28125 42.828125  Q 41.5 42.828125 45.03125 45.53125  Q 48.578125 48.25 48.578125 53.8125  Q 48.578125 59.328125 45.03125 62.0625  Q 41.5 64.796875 34.28125 64.796875  z M 9.8125 72.90625  L 35.015625 72.90625  Q 46.296875 72.90625 52.390625 68.21875  Q 58.5 63.53125 58.5 54.890625  Q 58.5 48.1875 55.375 44.234375  Q 52.25 40.28125 46.1875 39.3125  Q 53.46875 37.75 57.5 32.78125  Q 61.53125 27.828125 61.53125 20.40625  Q 61.53125 10.640625 54.890625 5.3125  Q 48.25 0 35.984375 0  L 9.8125 0  z \" id=\"DejaVuSans-66\"/>\n      </defs>\n      <g transform=\"translate(257.596875 257.237344)scale(0.1 -0.1)\">\n       <use xlink:href=\"#DejaVuSans-77\"/>\n       <use x=\"86.279297\" xlink:href=\"#DejaVuSans-101\"/>\n       <use x=\"147.802734\" xlink:href=\"#DejaVuSans-110\"/>\n       <use x=\"211.181641\" xlink:href=\"#DejaVuSans-116\"/>\n       <use x=\"250.390625\" xlink:href=\"#DejaVuSans-97\"/>\n       <use x=\"311.669922\" xlink:href=\"#DejaVuSans-108\"/>\n       <use x=\"339.453125\" xlink:href=\"#DejaVuSans-44\"/>\n       <use x=\"371.240234\" xlink:href=\"#DejaVuSans-32\"/>\n       <use x=\"403.027344\" xlink:href=\"#DejaVuSans-66\"/>\n       <use x=\"471.630859\" xlink:href=\"#DejaVuSans-101\"/>\n       <use x=\"533.154297\" xlink:href=\"#DejaVuSans-104\"/>\n       <use x=\"596.533203\" xlink:href=\"#DejaVuSans-97\"/>\n       <use x=\"657.8125\" xlink:href=\"#DejaVuSans-118\"/>\n       <use x=\"716.992188\" xlink:href=\"#DejaVuSans-105\"/>\n       <use x=\"744.775391\" xlink:href=\"#DejaVuSans-111\"/>\n       <use x=\"805.957031\" xlink:href=\"#DejaVuSans-114\"/>\n       <use x=\"847.070312\" xlink:href=\"#DejaVuSans-97\"/>\n       <use x=\"908.349609\" xlink:href=\"#DejaVuSans-108\"/>\n       <use x=\"936.132812\" xlink:href=\"#DejaVuSans-32\"/>\n       <use x=\"967.919922\" xlink:href=\"#DejaVuSans-97\"/>\n       <use x=\"1029.199219\" xlink:href=\"#DejaVuSans-110\"/>\n       <use x=\"1092.578125\" xlink:href=\"#DejaVuSans-100\"/>\n       <use x=\"1156.054688\" xlink:href=\"#DejaVuSans-32\"/>\n       <use x=\"1187.841797\" xlink:href=\"#DejaVuSans-78\"/>\n       <use x=\"1262.646484\" xlink:href=\"#DejaVuSans-101\"/>\n       <use x=\"1324.169922\" xlink:href=\"#DejaVuSans-117\"/>\n       <use x=\"1387.548828\" xlink:href=\"#DejaVuSans-114\"/>\n       <use x=\"1428.630859\" xlink:href=\"#DejaVuSans-111\"/>\n       <use x=\"1489.8125\" xlink:href=\"#DejaVuSans-100\"/>\n       <use x=\"1553.289062\" xlink:href=\"#DejaVuSans-101\"/>\n       <use x=\"1614.8125\" xlink:href=\"#DejaVuSans-118\"/>\n       <use x=\"1673.992188\" xlink:href=\"#DejaVuSans-101\"/>\n       <use x=\"1735.515625\" xlink:href=\"#DejaVuSans-108\"/>\n       <use x=\"1763.298828\" xlink:href=\"#DejaVuSans-111\"/>\n       <use x=\"1824.480469\" xlink:href=\"#DejaVuSans-112\"/>\n       <use x=\"1887.957031\" xlink:href=\"#DejaVuSans-109\"/>\n       <use x=\"1985.369141\" xlink:href=\"#DejaVuSans-101\"/>\n       <use x=\"2046.892578\" xlink:href=\"#DejaVuSans-110\"/>\n       <use x=\"2110.271484\" xlink:href=\"#DejaVuSans-116\"/>\n       <use x=\"2149.480469\" xlink:href=\"#DejaVuSans-97\"/>\n       <use x=\"2210.759766\" xlink:href=\"#DejaVuSans-108\"/>\n       <use x=\"2238.542969\" xlink:href=\"#DejaVuSans-32\"/>\n       <use x=\"2270.330078\" xlink:href=\"#DejaVuSans-100\"/>\n       <use x=\"2333.806641\" xlink:href=\"#DejaVuSans-105\"/>\n       <use x=\"2361.589844\" xlink:href=\"#DejaVuSans-115\"/>\n       <use x=\"2413.689453\" xlink:href=\"#DejaVuSans-111\"/>\n       <use x=\"2474.871094\" xlink:href=\"#DejaVuSans-114\"/>\n       <use x=\"2515.96875\" xlink:href=\"#DejaVuSans-100\"/>\n       <use x=\"2579.445312\" xlink:href=\"#DejaVuSans-101\"/>\n       <use x=\"2640.96875\" xlink:href=\"#DejaVuSans-114\"/>\n       <use x=\"2682.082031\" xlink:href=\"#DejaVuSans-115\"/>\n      </g>\n     </g>\n    </g>\n    <g id=\"ytick_6\">\n     <g id=\"line2d_14\">\n      <g>\n       <use style=\"stroke:#000000;stroke-width:0.8;\" x=\"538.020313\" xlink:href=\"#m9e258a7c1d\" y=\"231.838125\"/>\n      </g>\n     </g>\n     <g id=\"text_11\">\n      <!-- Diseases of the nervous system -->\n      <defs>\n       <path d=\"M 32.171875 -5.078125  Q 28.375 -14.84375 24.75 -17.8125  Q 21.140625 -20.796875 15.09375 -20.796875  L 7.90625 -20.796875  L 7.90625 -13.28125  L 13.1875 -13.28125  Q 16.890625 -13.28125 18.9375 -11.515625  Q 21 -9.765625 23.484375 -3.21875  L 25.09375 0.875  L 2.984375 54.6875  L 12.5 54.6875  L 29.59375 11.921875  L 46.6875 54.6875  L 56.203125 54.6875  z \" id=\"DejaVuSans-121\"/>\n      </defs>\n      <g transform=\"translate(371.379688 235.637344)scale(0.1 -0.1)\">\n       <use xlink:href=\"#DejaVuSans-68\"/>\n       <use x=\"77.001953\" xlink:href=\"#DejaVuSans-105\"/>\n       <use x=\"104.785156\" xlink:href=\"#DejaVuSans-115\"/>\n       <use x=\"156.884766\" xlink:href=\"#DejaVuSans-101\"/>\n       <use x=\"218.408203\" xlink:href=\"#DejaVuSans-97\"/>\n       <use x=\"279.6875\" xlink:href=\"#DejaVuSans-115\"/>\n       <use x=\"331.787109\" xlink:href=\"#DejaVuSans-101\"/>\n       <use x=\"393.310547\" xlink:href=\"#DejaVuSans-115\"/>\n       <use x=\"445.410156\" xlink:href=\"#DejaVuSans-32\"/>\n       <use x=\"477.197266\" xlink:href=\"#DejaVuSans-111\"/>\n       <use x=\"538.378906\" xlink:href=\"#DejaVuSans-102\"/>\n       <use x=\"573.583984\" xlink:href=\"#DejaVuSans-32\"/>\n       <use x=\"605.371094\" xlink:href=\"#DejaVuSans-116\"/>\n       <use x=\"644.580078\" xlink:href=\"#DejaVuSans-104\"/>\n       <use x=\"707.958984\" xlink:href=\"#DejaVuSans-101\"/>\n       <use x=\"769.482422\" xlink:href=\"#DejaVuSans-32\"/>\n       <use x=\"801.269531\" xlink:href=\"#DejaVuSans-110\"/>\n       <use x=\"864.648438\" xlink:href=\"#DejaVuSans-101\"/>\n       <use x=\"926.171875\" xlink:href=\"#DejaVuSans-114\"/>\n       <use x=\"967.285156\" xlink:href=\"#DejaVuSans-118\"/>\n       <use x=\"1026.464844\" xlink:href=\"#DejaVuSans-111\"/>\n       <use x=\"1087.646484\" xlink:href=\"#DejaVuSans-117\"/>\n       <use x=\"1151.025391\" xlink:href=\"#DejaVuSans-115\"/>\n       <use x=\"1203.125\" xlink:href=\"#DejaVuSans-32\"/>\n       <use x=\"1234.912109\" xlink:href=\"#DejaVuSans-115\"/>\n       <use x=\"1287.011719\" xlink:href=\"#DejaVuSans-121\"/>\n       <use x=\"1346.191406\" xlink:href=\"#DejaVuSans-115\"/>\n       <use x=\"1398.291016\" xlink:href=\"#DejaVuSans-116\"/>\n       <use x=\"1437.5\" xlink:href=\"#DejaVuSans-101\"/>\n       <use x=\"1499.023438\" xlink:href=\"#DejaVuSans-109\"/>\n      </g>\n     </g>\n    </g>\n    <g id=\"ytick_7\">\n     <g id=\"line2d_15\">\n      <g>\n       <use style=\"stroke:#000000;stroke-width:0.8;\" x=\"538.020313\" xlink:href=\"#m9e258a7c1d\" y=\"210.238125\"/>\n      </g>\n     </g>\n     <g id=\"text_12\">\n      <!-- Diseases of the eye and adnexa -->\n      <defs>\n       <path d=\"M 54.890625 54.6875  L 35.109375 28.078125  L 55.90625 0  L 45.3125 0  L 29.390625 21.484375  L 13.484375 0  L 2.875 0  L 24.125 28.609375  L 4.6875 54.6875  L 15.28125 54.6875  L 29.78125 35.203125  L 44.28125 54.6875  z \" id=\"DejaVuSans-120\"/>\n      </defs>\n      <g transform=\"translate(370.4875 214.037344)scale(0.1 -0.1)\">\n       <use xlink:href=\"#DejaVuSans-68\"/>\n       <use x=\"77.001953\" xlink:href=\"#DejaVuSans-105\"/>\n       <use x=\"104.785156\" xlink:href=\"#DejaVuSans-115\"/>\n       <use x=\"156.884766\" xlink:href=\"#DejaVuSans-101\"/>\n       <use x=\"218.408203\" xlink:href=\"#DejaVuSans-97\"/>\n       <use x=\"279.6875\" xlink:href=\"#DejaVuSans-115\"/>\n       <use x=\"331.787109\" xlink:href=\"#DejaVuSans-101\"/>\n       <use x=\"393.310547\" xlink:href=\"#DejaVuSans-115\"/>\n       <use x=\"445.410156\" xlink:href=\"#DejaVuSans-32\"/>\n       <use x=\"477.197266\" xlink:href=\"#DejaVuSans-111\"/>\n       <use x=\"538.378906\" xlink:href=\"#DejaVuSans-102\"/>\n       <use x=\"573.583984\" xlink:href=\"#DejaVuSans-32\"/>\n       <use x=\"605.371094\" xlink:href=\"#DejaVuSans-116\"/>\n       <use x=\"644.580078\" xlink:href=\"#DejaVuSans-104\"/>\n       <use x=\"707.958984\" xlink:href=\"#DejaVuSans-101\"/>\n       <use x=\"769.482422\" xlink:href=\"#DejaVuSans-32\"/>\n       <use x=\"801.269531\" xlink:href=\"#DejaVuSans-101\"/>\n       <use x=\"862.792969\" xlink:href=\"#DejaVuSans-121\"/>\n       <use x=\"921.972656\" xlink:href=\"#DejaVuSans-101\"/>\n       <use x=\"983.496094\" xlink:href=\"#DejaVuSans-32\"/>\n       <use x=\"1015.283203\" xlink:href=\"#DejaVuSans-97\"/>\n       <use x=\"1076.5625\" xlink:href=\"#DejaVuSans-110\"/>\n       <use x=\"1139.941406\" xlink:href=\"#DejaVuSans-100\"/>\n       <use x=\"1203.417969\" xlink:href=\"#DejaVuSans-32\"/>\n       <use x=\"1235.205078\" xlink:href=\"#DejaVuSans-97\"/>\n       <use x=\"1296.484375\" xlink:href=\"#DejaVuSans-100\"/>\n       <use x=\"1359.960938\" xlink:href=\"#DejaVuSans-110\"/>\n       <use x=\"1423.339844\" xlink:href=\"#DejaVuSans-101\"/>\n       <use x=\"1484.847656\" xlink:href=\"#DejaVuSans-120\"/>\n       <use x=\"1544.027344\" xlink:href=\"#DejaVuSans-97\"/>\n      </g>\n     </g>\n    </g>\n    <g id=\"ytick_8\">\n     <g id=\"line2d_16\">\n      <g>\n       <use style=\"stroke:#000000;stroke-width:0.8;\" x=\"538.020313\" xlink:href=\"#m9e258a7c1d\" y=\"188.638125\"/>\n      </g>\n     </g>\n     <g id=\"text_13\">\n      <!-- Diseases of the ear and mastoid process -->\n      <g transform=\"translate(327.265625 192.437344)scale(0.1 -0.1)\">\n       <use xlink:href=\"#DejaVuSans-68\"/>\n       <use x=\"77.001953\" xlink:href=\"#DejaVuSans-105\"/>\n       <use x=\"104.785156\" xlink:href=\"#DejaVuSans-115\"/>\n       <use x=\"156.884766\" xlink:href=\"#DejaVuSans-101\"/>\n       <use x=\"218.408203\" xlink:href=\"#DejaVuSans-97\"/>\n       <use x=\"279.6875\" xlink:href=\"#DejaVuSans-115\"/>\n       <use x=\"331.787109\" xlink:href=\"#DejaVuSans-101\"/>\n       <use x=\"393.310547\" xlink:href=\"#DejaVuSans-115\"/>\n       <use x=\"445.410156\" xlink:href=\"#DejaVuSans-32\"/>\n       <use x=\"477.197266\" xlink:href=\"#DejaVuSans-111\"/>\n       <use x=\"538.378906\" xlink:href=\"#DejaVuSans-102\"/>\n       <use x=\"573.583984\" xlink:href=\"#DejaVuSans-32\"/>\n       <use x=\"605.371094\" xlink:href=\"#DejaVuSans-116\"/>\n       <use x=\"644.580078\" xlink:href=\"#DejaVuSans-104\"/>\n       <use x=\"707.958984\" xlink:href=\"#DejaVuSans-101\"/>\n       <use x=\"769.482422\" xlink:href=\"#DejaVuSans-32\"/>\n       <use x=\"801.269531\" xlink:href=\"#DejaVuSans-101\"/>\n       <use x=\"862.792969\" xlink:href=\"#DejaVuSans-97\"/>\n       <use x=\"924.072266\" xlink:href=\"#DejaVuSans-114\"/>\n       <use x=\"965.185547\" xlink:href=\"#DejaVuSans-32\"/>\n       <use x=\"996.972656\" xlink:href=\"#DejaVuSans-97\"/>\n       <use x=\"1058.251953\" xlink:href=\"#DejaVuSans-110\"/>\n       <use x=\"1121.630859\" xlink:href=\"#DejaVuSans-100\"/>\n       <use x=\"1185.107422\" xlink:href=\"#DejaVuSans-32\"/>\n       <use x=\"1216.894531\" xlink:href=\"#DejaVuSans-109\"/>\n       <use x=\"1314.306641\" xlink:href=\"#DejaVuSans-97\"/>\n       <use x=\"1375.585938\" xlink:href=\"#DejaVuSans-115\"/>\n       <use x=\"1427.685547\" xlink:href=\"#DejaVuSans-116\"/>\n       <use x=\"1466.894531\" xlink:href=\"#DejaVuSans-111\"/>\n       <use x=\"1528.076172\" xlink:href=\"#DejaVuSans-105\"/>\n       <use x=\"1555.859375\" xlink:href=\"#DejaVuSans-100\"/>\n       <use x=\"1619.335938\" xlink:href=\"#DejaVuSans-32\"/>\n       <use x=\"1651.123047\" xlink:href=\"#DejaVuSans-112\"/>\n       <use x=\"1714.599609\" xlink:href=\"#DejaVuSans-114\"/>\n       <use x=\"1755.681641\" xlink:href=\"#DejaVuSans-111\"/>\n       <use x=\"1816.863281\" xlink:href=\"#DejaVuSans-99\"/>\n       <use x=\"1871.84375\" xlink:href=\"#DejaVuSans-101\"/>\n       <use x=\"1933.367188\" xlink:href=\"#DejaVuSans-115\"/>\n       <use x=\"1985.466797\" xlink:href=\"#DejaVuSans-115\"/>\n      </g>\n     </g>\n    </g>\n    <g id=\"ytick_9\">\n     <g id=\"line2d_17\">\n      <g>\n       <use style=\"stroke:#000000;stroke-width:0.8;\" x=\"538.020313\" xlink:href=\"#m9e258a7c1d\" y=\"167.038125\"/>\n      </g>\n     </g>\n     <g id=\"text_14\">\n      <!-- Diseases of the circulatory system -->\n      <g transform=\"translate(358.370313 170.837344)scale(0.1 -0.1)\">\n       <use xlink:href=\"#DejaVuSans-68\"/>\n       <use x=\"77.001953\" xlink:href=\"#DejaVuSans-105\"/>\n       <use x=\"104.785156\" xlink:href=\"#DejaVuSans-115\"/>\n       <use x=\"156.884766\" xlink:href=\"#DejaVuSans-101\"/>\n       <use x=\"218.408203\" xlink:href=\"#DejaVuSans-97\"/>\n       <use x=\"279.6875\" xlink:href=\"#DejaVuSans-115\"/>\n       <use x=\"331.787109\" xlink:href=\"#DejaVuSans-101\"/>\n       <use x=\"393.310547\" xlink:href=\"#DejaVuSans-115\"/>\n       <use x=\"445.410156\" xlink:href=\"#DejaVuSans-32\"/>\n       <use x=\"477.197266\" xlink:href=\"#DejaVuSans-111\"/>\n       <use x=\"538.378906\" xlink:href=\"#DejaVuSans-102\"/>\n       <use x=\"573.583984\" xlink:href=\"#DejaVuSans-32\"/>\n       <use x=\"605.371094\" xlink:href=\"#DejaVuSans-116\"/>\n       <use x=\"644.580078\" xlink:href=\"#DejaVuSans-104\"/>\n       <use x=\"707.958984\" xlink:href=\"#DejaVuSans-101\"/>\n       <use x=\"769.482422\" xlink:href=\"#DejaVuSans-32\"/>\n       <use x=\"801.269531\" xlink:href=\"#DejaVuSans-99\"/>\n       <use x=\"856.25\" xlink:href=\"#DejaVuSans-105\"/>\n       <use x=\"884.033203\" xlink:href=\"#DejaVuSans-114\"/>\n       <use x=\"925.115234\" xlink:href=\"#DejaVuSans-99\"/>\n       <use x=\"980.095703\" xlink:href=\"#DejaVuSans-117\"/>\n       <use x=\"1043.474609\" xlink:href=\"#DejaVuSans-108\"/>\n       <use x=\"1071.257812\" xlink:href=\"#DejaVuSans-97\"/>\n       <use x=\"1132.537109\" xlink:href=\"#DejaVuSans-116\"/>\n       <use x=\"1171.746094\" xlink:href=\"#DejaVuSans-111\"/>\n       <use x=\"1232.927734\" xlink:href=\"#DejaVuSans-114\"/>\n       <use x=\"1274.041016\" xlink:href=\"#DejaVuSans-121\"/>\n       <use x=\"1333.220703\" xlink:href=\"#DejaVuSans-32\"/>\n       <use x=\"1365.007812\" xlink:href=\"#DejaVuSans-115\"/>\n       <use x=\"1417.107422\" xlink:href=\"#DejaVuSans-121\"/>\n       <use x=\"1476.287109\" xlink:href=\"#DejaVuSans-115\"/>\n       <use x=\"1528.386719\" xlink:href=\"#DejaVuSans-116\"/>\n       <use x=\"1567.595703\" xlink:href=\"#DejaVuSans-101\"/>\n       <use x=\"1629.119141\" xlink:href=\"#DejaVuSans-109\"/>\n      </g>\n     </g>\n    </g>\n    <g id=\"ytick_10\">\n     <g id=\"line2d_18\">\n      <g>\n       <use style=\"stroke:#000000;stroke-width:0.8;\" x=\"538.020313\" xlink:href=\"#m9e258a7c1d\" y=\"145.438125\"/>\n      </g>\n     </g>\n     <g id=\"text_15\">\n      <!-- Diseases of the respiratory system -->\n      <g transform=\"translate(356.660938 149.237344)scale(0.1 -0.1)\">\n       <use xlink:href=\"#DejaVuSans-68\"/>\n       <use x=\"77.001953\" xlink:href=\"#DejaVuSans-105\"/>\n       <use x=\"104.785156\" xlink:href=\"#DejaVuSans-115\"/>\n       <use x=\"156.884766\" xlink:href=\"#DejaVuSans-101\"/>\n       <use x=\"218.408203\" xlink:href=\"#DejaVuSans-97\"/>\n       <use x=\"279.6875\" xlink:href=\"#DejaVuSans-115\"/>\n       <use x=\"331.787109\" xlink:href=\"#DejaVuSans-101\"/>\n       <use x=\"393.310547\" xlink:href=\"#DejaVuSans-115\"/>\n       <use x=\"445.410156\" xlink:href=\"#DejaVuSans-32\"/>\n       <use x=\"477.197266\" xlink:href=\"#DejaVuSans-111\"/>\n       <use x=\"538.378906\" xlink:href=\"#DejaVuSans-102\"/>\n       <use x=\"573.583984\" xlink:href=\"#DejaVuSans-32\"/>\n       <use x=\"605.371094\" xlink:href=\"#DejaVuSans-116\"/>\n       <use x=\"644.580078\" xlink:href=\"#DejaVuSans-104\"/>\n       <use x=\"707.958984\" xlink:href=\"#DejaVuSans-101\"/>\n       <use x=\"769.482422\" xlink:href=\"#DejaVuSans-32\"/>\n       <use x=\"801.269531\" xlink:href=\"#DejaVuSans-114\"/>\n       <use x=\"842.351562\" xlink:href=\"#DejaVuSans-101\"/>\n       <use x=\"903.875\" xlink:href=\"#DejaVuSans-115\"/>\n       <use x=\"955.974609\" xlink:href=\"#DejaVuSans-112\"/>\n       <use x=\"1019.451172\" xlink:href=\"#DejaVuSans-105\"/>\n       <use x=\"1047.234375\" xlink:href=\"#DejaVuSans-114\"/>\n       <use x=\"1088.347656\" xlink:href=\"#DejaVuSans-97\"/>\n       <use x=\"1149.626953\" xlink:href=\"#DejaVuSans-116\"/>\n       <use x=\"1188.835938\" xlink:href=\"#DejaVuSans-111\"/>\n       <use x=\"1250.017578\" xlink:href=\"#DejaVuSans-114\"/>\n       <use x=\"1291.130859\" xlink:href=\"#DejaVuSans-121\"/>\n       <use x=\"1350.310547\" xlink:href=\"#DejaVuSans-32\"/>\n       <use x=\"1382.097656\" xlink:href=\"#DejaVuSans-115\"/>\n       <use x=\"1434.197266\" xlink:href=\"#DejaVuSans-121\"/>\n       <use x=\"1493.376953\" xlink:href=\"#DejaVuSans-115\"/>\n       <use x=\"1545.476562\" xlink:href=\"#DejaVuSans-116\"/>\n       <use x=\"1584.685547\" xlink:href=\"#DejaVuSans-101\"/>\n       <use x=\"1646.208984\" xlink:href=\"#DejaVuSans-109\"/>\n      </g>\n     </g>\n    </g>\n    <g id=\"ytick_11\">\n     <g id=\"line2d_19\">\n      <g>\n       <use style=\"stroke:#000000;stroke-width:0.8;\" x=\"538.020313\" xlink:href=\"#m9e258a7c1d\" y=\"123.838125\"/>\n      </g>\n     </g>\n     <g id=\"text_16\">\n      <!-- Diseases of the digestive system -->\n      <g transform=\"translate(365.957813 127.637344)scale(0.1 -0.1)\">\n       <use xlink:href=\"#DejaVuSans-68\"/>\n       <use x=\"77.001953\" xlink:href=\"#DejaVuSans-105\"/>\n       <use x=\"104.785156\" xlink:href=\"#DejaVuSans-115\"/>\n       <use x=\"156.884766\" xlink:href=\"#DejaVuSans-101\"/>\n       <use x=\"218.408203\" xlink:href=\"#DejaVuSans-97\"/>\n       <use x=\"279.6875\" xlink:href=\"#DejaVuSans-115\"/>\n       <use x=\"331.787109\" xlink:href=\"#DejaVuSans-101\"/>\n       <use x=\"393.310547\" xlink:href=\"#DejaVuSans-115\"/>\n       <use x=\"445.410156\" xlink:href=\"#DejaVuSans-32\"/>\n       <use x=\"477.197266\" xlink:href=\"#DejaVuSans-111\"/>\n       <use x=\"538.378906\" xlink:href=\"#DejaVuSans-102\"/>\n       <use x=\"573.583984\" xlink:href=\"#DejaVuSans-32\"/>\n       <use x=\"605.371094\" xlink:href=\"#DejaVuSans-116\"/>\n       <use x=\"644.580078\" xlink:href=\"#DejaVuSans-104\"/>\n       <use x=\"707.958984\" xlink:href=\"#DejaVuSans-101\"/>\n       <use x=\"769.482422\" xlink:href=\"#DejaVuSans-32\"/>\n       <use x=\"801.269531\" xlink:href=\"#DejaVuSans-100\"/>\n       <use x=\"864.746094\" xlink:href=\"#DejaVuSans-105\"/>\n       <use x=\"892.529297\" xlink:href=\"#DejaVuSans-103\"/>\n       <use x=\"956.005859\" xlink:href=\"#DejaVuSans-101\"/>\n       <use x=\"1017.529297\" xlink:href=\"#DejaVuSans-115\"/>\n       <use x=\"1069.628906\" xlink:href=\"#DejaVuSans-116\"/>\n       <use x=\"1108.837891\" xlink:href=\"#DejaVuSans-105\"/>\n       <use x=\"1136.621094\" xlink:href=\"#DejaVuSans-118\"/>\n       <use x=\"1195.800781\" xlink:href=\"#DejaVuSans-101\"/>\n       <use x=\"1257.324219\" xlink:href=\"#DejaVuSans-32\"/>\n       <use x=\"1289.111328\" xlink:href=\"#DejaVuSans-115\"/>\n       <use x=\"1341.210938\" xlink:href=\"#DejaVuSans-121\"/>\n       <use x=\"1400.390625\" xlink:href=\"#DejaVuSans-115\"/>\n       <use x=\"1452.490234\" xlink:href=\"#DejaVuSans-116\"/>\n       <use x=\"1491.699219\" xlink:href=\"#DejaVuSans-101\"/>\n       <use x=\"1553.222656\" xlink:href=\"#DejaVuSans-109\"/>\n      </g>\n     </g>\n    </g>\n    <g id=\"ytick_12\">\n     <g id=\"line2d_20\">\n      <g>\n       <use style=\"stroke:#000000;stroke-width:0.8;\" x=\"538.020313\" xlink:href=\"#m9e258a7c1d\" y=\"102.238125\"/>\n      </g>\n     </g>\n     <g id=\"text_17\">\n      <!-- Diseases of the skin and subcutaneous tissue -->\n      <g transform=\"translate(302.8875 106.037344)scale(0.1 -0.1)\">\n       <use xlink:href=\"#DejaVuSans-68\"/>\n       <use x=\"77.001953\" xlink:href=\"#DejaVuSans-105\"/>\n       <use x=\"104.785156\" xlink:href=\"#DejaVuSans-115\"/>\n       <use x=\"156.884766\" xlink:href=\"#DejaVuSans-101\"/>\n       <use x=\"218.408203\" xlink:href=\"#DejaVuSans-97\"/>\n       <use x=\"279.6875\" xlink:href=\"#DejaVuSans-115\"/>\n       <use x=\"331.787109\" xlink:href=\"#DejaVuSans-101\"/>\n       <use x=\"393.310547\" xlink:href=\"#DejaVuSans-115\"/>\n       <use x=\"445.410156\" xlink:href=\"#DejaVuSans-32\"/>\n       <use x=\"477.197266\" xlink:href=\"#DejaVuSans-111\"/>\n       <use x=\"538.378906\" xlink:href=\"#DejaVuSans-102\"/>\n       <use x=\"573.583984\" xlink:href=\"#DejaVuSans-32\"/>\n       <use x=\"605.371094\" xlink:href=\"#DejaVuSans-116\"/>\n       <use x=\"644.580078\" xlink:href=\"#DejaVuSans-104\"/>\n       <use x=\"707.958984\" xlink:href=\"#DejaVuSans-101\"/>\n       <use x=\"769.482422\" xlink:href=\"#DejaVuSans-32\"/>\n       <use x=\"801.269531\" xlink:href=\"#DejaVuSans-115\"/>\n       <use x=\"853.369141\" xlink:href=\"#DejaVuSans-107\"/>\n       <use x=\"911.279297\" xlink:href=\"#DejaVuSans-105\"/>\n       <use x=\"939.0625\" xlink:href=\"#DejaVuSans-110\"/>\n       <use x=\"1002.441406\" xlink:href=\"#DejaVuSans-32\"/>\n       <use x=\"1034.228516\" xlink:href=\"#DejaVuSans-97\"/>\n       <use x=\"1095.507812\" xlink:href=\"#DejaVuSans-110\"/>\n       <use x=\"1158.886719\" xlink:href=\"#DejaVuSans-100\"/>\n       <use x=\"1222.363281\" xlink:href=\"#DejaVuSans-32\"/>\n       <use x=\"1254.150391\" xlink:href=\"#DejaVuSans-115\"/>\n       <use x=\"1306.25\" xlink:href=\"#DejaVuSans-117\"/>\n       <use x=\"1369.628906\" xlink:href=\"#DejaVuSans-98\"/>\n       <use x=\"1433.105469\" xlink:href=\"#DejaVuSans-99\"/>\n       <use x=\"1488.085938\" xlink:href=\"#DejaVuSans-117\"/>\n       <use x=\"1551.464844\" xlink:href=\"#DejaVuSans-116\"/>\n       <use x=\"1590.673828\" xlink:href=\"#DejaVuSans-97\"/>\n       <use x=\"1651.953125\" xlink:href=\"#DejaVuSans-110\"/>\n       <use x=\"1715.332031\" xlink:href=\"#DejaVuSans-101\"/>\n       <use x=\"1776.855469\" xlink:href=\"#DejaVuSans-111\"/>\n       <use x=\"1838.037109\" xlink:href=\"#DejaVuSans-117\"/>\n       <use x=\"1901.416016\" xlink:href=\"#DejaVuSans-115\"/>\n       <use x=\"1953.515625\" xlink:href=\"#DejaVuSans-32\"/>\n       <use x=\"1985.302734\" xlink:href=\"#DejaVuSans-116\"/>\n       <use x=\"2024.511719\" xlink:href=\"#DejaVuSans-105\"/>\n       <use x=\"2052.294922\" xlink:href=\"#DejaVuSans-115\"/>\n       <use x=\"2104.394531\" xlink:href=\"#DejaVuSans-115\"/>\n       <use x=\"2156.494141\" xlink:href=\"#DejaVuSans-117\"/>\n       <use x=\"2219.873047\" xlink:href=\"#DejaVuSans-101\"/>\n      </g>\n     </g>\n    </g>\n    <g id=\"ytick_13\">\n     <g id=\"line2d_21\">\n      <g>\n       <use style=\"stroke:#000000;stroke-width:0.8;\" x=\"538.020313\" xlink:href=\"#m9e258a7c1d\" y=\"80.638125\"/>\n      </g>\n     </g>\n     <g id=\"text_18\">\n      <!-- Diseases of the musculoskeletal system and connective tissue -->\n      <g transform=\"translate(217.96875 84.437344)scale(0.1 -0.1)\">\n       <use xlink:href=\"#DejaVuSans-68\"/>\n       <use x=\"77.001953\" xlink:href=\"#DejaVuSans-105\"/>\n       <use x=\"104.785156\" xlink:href=\"#DejaVuSans-115\"/>\n       <use x=\"156.884766\" xlink:href=\"#DejaVuSans-101\"/>\n       <use x=\"218.408203\" xlink:href=\"#DejaVuSans-97\"/>\n       <use x=\"279.6875\" xlink:href=\"#DejaVuSans-115\"/>\n       <use x=\"331.787109\" xlink:href=\"#DejaVuSans-101\"/>\n       <use x=\"393.310547\" xlink:href=\"#DejaVuSans-115\"/>\n       <use x=\"445.410156\" xlink:href=\"#DejaVuSans-32\"/>\n       <use x=\"477.197266\" xlink:href=\"#DejaVuSans-111\"/>\n       <use x=\"538.378906\" xlink:href=\"#DejaVuSans-102\"/>\n       <use x=\"573.583984\" xlink:href=\"#DejaVuSans-32\"/>\n       <use x=\"605.371094\" xlink:href=\"#DejaVuSans-116\"/>\n       <use x=\"644.580078\" xlink:href=\"#DejaVuSans-104\"/>\n       <use x=\"707.958984\" xlink:href=\"#DejaVuSans-101\"/>\n       <use x=\"769.482422\" xlink:href=\"#DejaVuSans-32\"/>\n       <use x=\"801.269531\" xlink:href=\"#DejaVuSans-109\"/>\n       <use x=\"898.681641\" xlink:href=\"#DejaVuSans-117\"/>\n       <use x=\"962.060547\" xlink:href=\"#DejaVuSans-115\"/>\n       <use x=\"1014.160156\" xlink:href=\"#DejaVuSans-99\"/>\n       <use x=\"1069.140625\" xlink:href=\"#DejaVuSans-117\"/>\n       <use x=\"1132.519531\" xlink:href=\"#DejaVuSans-108\"/>\n       <use x=\"1160.302734\" xlink:href=\"#DejaVuSans-111\"/>\n       <use x=\"1221.484375\" xlink:href=\"#DejaVuSans-115\"/>\n       <use x=\"1273.583984\" xlink:href=\"#DejaVuSans-107\"/>\n       <use x=\"1331.447266\" xlink:href=\"#DejaVuSans-101\"/>\n       <use x=\"1392.970703\" xlink:href=\"#DejaVuSans-108\"/>\n       <use x=\"1420.753906\" xlink:href=\"#DejaVuSans-101\"/>\n       <use x=\"1482.277344\" xlink:href=\"#DejaVuSans-116\"/>\n       <use x=\"1521.486328\" xlink:href=\"#DejaVuSans-97\"/>\n       <use x=\"1582.765625\" xlink:href=\"#DejaVuSans-108\"/>\n       <use x=\"1610.548828\" xlink:href=\"#DejaVuSans-32\"/>\n       <use x=\"1642.335938\" xlink:href=\"#DejaVuSans-115\"/>\n       <use x=\"1694.435547\" xlink:href=\"#DejaVuSans-121\"/>\n       <use x=\"1753.615234\" xlink:href=\"#DejaVuSans-115\"/>\n       <use x=\"1805.714844\" xlink:href=\"#DejaVuSans-116\"/>\n       <use x=\"1844.923828\" xlink:href=\"#DejaVuSans-101\"/>\n       <use x=\"1906.447266\" xlink:href=\"#DejaVuSans-109\"/>\n       <use x=\"2003.859375\" xlink:href=\"#DejaVuSans-32\"/>\n       <use x=\"2035.646484\" xlink:href=\"#DejaVuSans-97\"/>\n       <use x=\"2096.925781\" xlink:href=\"#DejaVuSans-110\"/>\n       <use x=\"2160.304688\" xlink:href=\"#DejaVuSans-100\"/>\n       <use x=\"2223.78125\" xlink:href=\"#DejaVuSans-32\"/>\n       <use x=\"2255.568359\" xlink:href=\"#DejaVuSans-99\"/>\n       <use x=\"2310.548828\" xlink:href=\"#DejaVuSans-111\"/>\n       <use x=\"2371.730469\" xlink:href=\"#DejaVuSans-110\"/>\n       <use x=\"2435.109375\" xlink:href=\"#DejaVuSans-110\"/>\n       <use x=\"2498.488281\" xlink:href=\"#DejaVuSans-101\"/>\n       <use x=\"2560.011719\" xlink:href=\"#DejaVuSans-99\"/>\n       <use x=\"2614.992188\" xlink:href=\"#DejaVuSans-116\"/>\n       <use x=\"2654.201172\" xlink:href=\"#DejaVuSans-105\"/>\n       <use x=\"2681.984375\" xlink:href=\"#DejaVuSans-118\"/>\n       <use x=\"2741.164062\" xlink:href=\"#DejaVuSans-101\"/>\n       <use x=\"2802.6875\" xlink:href=\"#DejaVuSans-32\"/>\n       <use x=\"2834.474609\" xlink:href=\"#DejaVuSans-116\"/>\n       <use x=\"2873.683594\" xlink:href=\"#DejaVuSans-105\"/>\n       <use x=\"2901.466797\" xlink:href=\"#DejaVuSans-115\"/>\n       <use x=\"2953.566406\" xlink:href=\"#DejaVuSans-115\"/>\n       <use x=\"3005.666016\" xlink:href=\"#DejaVuSans-117\"/>\n       <use x=\"3069.044922\" xlink:href=\"#DejaVuSans-101\"/>\n      </g>\n     </g>\n    </g>\n    <g id=\"ytick_14\">\n     <g id=\"line2d_22\">\n      <g>\n       <use style=\"stroke:#000000;stroke-width:0.8;\" x=\"538.020313\" xlink:href=\"#m9e258a7c1d\" y=\"59.038125\"/>\n      </g>\n     </g>\n     <g id=\"text_19\">\n      <!-- Diseases of the genitourinary system -->\n      <g transform=\"translate(344.1875 62.837344)scale(0.1 -0.1)\">\n       <use xlink:href=\"#DejaVuSans-68\"/>\n       <use x=\"77.001953\" xlink:href=\"#DejaVuSans-105\"/>\n       <use x=\"104.785156\" xlink:href=\"#DejaVuSans-115\"/>\n       <use x=\"156.884766\" xlink:href=\"#DejaVuSans-101\"/>\n       <use x=\"218.408203\" xlink:href=\"#DejaVuSans-97\"/>\n       <use x=\"279.6875\" xlink:href=\"#DejaVuSans-115\"/>\n       <use x=\"331.787109\" xlink:href=\"#DejaVuSans-101\"/>\n       <use x=\"393.310547\" xlink:href=\"#DejaVuSans-115\"/>\n       <use x=\"445.410156\" xlink:href=\"#DejaVuSans-32\"/>\n       <use x=\"477.197266\" xlink:href=\"#DejaVuSans-111\"/>\n       <use x=\"538.378906\" xlink:href=\"#DejaVuSans-102\"/>\n       <use x=\"573.583984\" xlink:href=\"#DejaVuSans-32\"/>\n       <use x=\"605.371094\" xlink:href=\"#DejaVuSans-116\"/>\n       <use x=\"644.580078\" xlink:href=\"#DejaVuSans-104\"/>\n       <use x=\"707.958984\" xlink:href=\"#DejaVuSans-101\"/>\n       <use x=\"769.482422\" xlink:href=\"#DejaVuSans-32\"/>\n       <use x=\"801.269531\" xlink:href=\"#DejaVuSans-103\"/>\n       <use x=\"864.746094\" xlink:href=\"#DejaVuSans-101\"/>\n       <use x=\"926.269531\" xlink:href=\"#DejaVuSans-110\"/>\n       <use x=\"989.648438\" xlink:href=\"#DejaVuSans-105\"/>\n       <use x=\"1017.431641\" xlink:href=\"#DejaVuSans-116\"/>\n       <use x=\"1056.640625\" xlink:href=\"#DejaVuSans-111\"/>\n       <use x=\"1117.822266\" xlink:href=\"#DejaVuSans-117\"/>\n       <use x=\"1181.201172\" xlink:href=\"#DejaVuSans-114\"/>\n       <use x=\"1222.314453\" xlink:href=\"#DejaVuSans-105\"/>\n       <use x=\"1250.097656\" xlink:href=\"#DejaVuSans-110\"/>\n       <use x=\"1313.476562\" xlink:href=\"#DejaVuSans-97\"/>\n       <use x=\"1374.755859\" xlink:href=\"#DejaVuSans-114\"/>\n       <use x=\"1415.869141\" xlink:href=\"#DejaVuSans-121\"/>\n       <use x=\"1475.048828\" xlink:href=\"#DejaVuSans-32\"/>\n       <use x=\"1506.835938\" xlink:href=\"#DejaVuSans-115\"/>\n       <use x=\"1558.935547\" xlink:href=\"#DejaVuSans-121\"/>\n       <use x=\"1618.115234\" xlink:href=\"#DejaVuSans-115\"/>\n       <use x=\"1670.214844\" xlink:href=\"#DejaVuSans-116\"/>\n       <use x=\"1709.423828\" xlink:href=\"#DejaVuSans-101\"/>\n       <use x=\"1770.947266\" xlink:href=\"#DejaVuSans-109\"/>\n      </g>\n     </g>\n    </g>\n    <g id=\"ytick_15\">\n     <g id=\"line2d_23\">\n      <g>\n       <use style=\"stroke:#000000;stroke-width:0.8;\" x=\"538.020313\" xlink:href=\"#m9e258a7c1d\" y=\"37.438125\"/>\n      </g>\n     </g>\n     <g id=\"text_20\">\n      <!-- Congenital malformations, deformations and chromosomal abnormalities -->\n      <g transform=\"translate(163.71875 41.237344)scale(0.1 -0.1)\">\n       <use xlink:href=\"#DejaVuSans-67\"/>\n       <use x=\"69.824219\" xlink:href=\"#DejaVuSans-111\"/>\n       <use x=\"131.005859\" xlink:href=\"#DejaVuSans-110\"/>\n       <use x=\"194.384766\" xlink:href=\"#DejaVuSans-103\"/>\n       <use x=\"257.861328\" xlink:href=\"#DejaVuSans-101\"/>\n       <use x=\"319.384766\" xlink:href=\"#DejaVuSans-110\"/>\n       <use x=\"382.763672\" xlink:href=\"#DejaVuSans-105\"/>\n       <use x=\"410.546875\" xlink:href=\"#DejaVuSans-116\"/>\n       <use x=\"449.755859\" xlink:href=\"#DejaVuSans-97\"/>\n       <use x=\"511.035156\" xlink:href=\"#DejaVuSans-108\"/>\n       <use x=\"538.818359\" xlink:href=\"#DejaVuSans-32\"/>\n       <use x=\"570.605469\" xlink:href=\"#DejaVuSans-109\"/>\n       <use x=\"668.017578\" xlink:href=\"#DejaVuSans-97\"/>\n       <use x=\"729.296875\" xlink:href=\"#DejaVuSans-108\"/>\n       <use x=\"757.080078\" xlink:href=\"#DejaVuSans-102\"/>\n       <use x=\"792.285156\" xlink:href=\"#DejaVuSans-111\"/>\n       <use x=\"853.466797\" xlink:href=\"#DejaVuSans-114\"/>\n       <use x=\"894.564453\" xlink:href=\"#DejaVuSans-109\"/>\n       <use x=\"991.976562\" xlink:href=\"#DejaVuSans-97\"/>\n       <use x=\"1053.255859\" xlink:href=\"#DejaVuSans-116\"/>\n       <use x=\"1092.464844\" xlink:href=\"#DejaVuSans-105\"/>\n       <use x=\"1120.248047\" xlink:href=\"#DejaVuSans-111\"/>\n       <use x=\"1181.429688\" xlink:href=\"#DejaVuSans-110\"/>\n       <use x=\"1244.808594\" xlink:href=\"#DejaVuSans-115\"/>\n       <use x=\"1296.908203\" xlink:href=\"#DejaVuSans-44\"/>\n       <use x=\"1328.695312\" xlink:href=\"#DejaVuSans-32\"/>\n       <use x=\"1360.482422\" xlink:href=\"#DejaVuSans-100\"/>\n       <use x=\"1423.958984\" xlink:href=\"#DejaVuSans-101\"/>\n       <use x=\"1485.482422\" xlink:href=\"#DejaVuSans-102\"/>\n       <use x=\"1520.6875\" xlink:href=\"#DejaVuSans-111\"/>\n       <use x=\"1581.869141\" xlink:href=\"#DejaVuSans-114\"/>\n       <use x=\"1622.966797\" xlink:href=\"#DejaVuSans-109\"/>\n       <use x=\"1720.378906\" xlink:href=\"#DejaVuSans-97\"/>\n       <use x=\"1781.658203\" xlink:href=\"#DejaVuSans-116\"/>\n       <use x=\"1820.867188\" xlink:href=\"#DejaVuSans-105\"/>\n       <use x=\"1848.650391\" xlink:href=\"#DejaVuSans-111\"/>\n       <use x=\"1909.832031\" xlink:href=\"#DejaVuSans-110\"/>\n       <use x=\"1973.210938\" xlink:href=\"#DejaVuSans-115\"/>\n       <use x=\"2025.310547\" xlink:href=\"#DejaVuSans-32\"/>\n       <use x=\"2057.097656\" xlink:href=\"#DejaVuSans-97\"/>\n       <use x=\"2118.376953\" xlink:href=\"#DejaVuSans-110\"/>\n       <use x=\"2181.755859\" xlink:href=\"#DejaVuSans-100\"/>\n       <use x=\"2245.232422\" xlink:href=\"#DejaVuSans-32\"/>\n       <use x=\"2277.019531\" xlink:href=\"#DejaVuSans-99\"/>\n       <use x=\"2332\" xlink:href=\"#DejaVuSans-104\"/>\n       <use x=\"2395.378906\" xlink:href=\"#DejaVuSans-114\"/>\n       <use x=\"2436.460938\" xlink:href=\"#DejaVuSans-111\"/>\n       <use x=\"2497.642578\" xlink:href=\"#DejaVuSans-109\"/>\n       <use x=\"2595.054688\" xlink:href=\"#DejaVuSans-111\"/>\n       <use x=\"2656.236328\" xlink:href=\"#DejaVuSans-115\"/>\n       <use x=\"2708.335938\" xlink:href=\"#DejaVuSans-111\"/>\n       <use x=\"2769.517578\" xlink:href=\"#DejaVuSans-109\"/>\n       <use x=\"2866.929688\" xlink:href=\"#DejaVuSans-97\"/>\n       <use x=\"2928.208984\" xlink:href=\"#DejaVuSans-108\"/>\n       <use x=\"2955.992188\" xlink:href=\"#DejaVuSans-32\"/>\n       <use x=\"2987.779297\" xlink:href=\"#DejaVuSans-97\"/>\n       <use x=\"3049.058594\" xlink:href=\"#DejaVuSans-98\"/>\n       <use x=\"3112.535156\" xlink:href=\"#DejaVuSans-110\"/>\n       <use x=\"3175.914062\" xlink:href=\"#DejaVuSans-111\"/>\n       <use x=\"3237.095703\" xlink:href=\"#DejaVuSans-114\"/>\n       <use x=\"3278.193359\" xlink:href=\"#DejaVuSans-109\"/>\n       <use x=\"3375.605469\" xlink:href=\"#DejaVuSans-97\"/>\n       <use x=\"3436.884766\" xlink:href=\"#DejaVuSans-108\"/>\n       <use x=\"3464.667969\" xlink:href=\"#DejaVuSans-105\"/>\n       <use x=\"3492.451172\" xlink:href=\"#DejaVuSans-116\"/>\n       <use x=\"3531.660156\" xlink:href=\"#DejaVuSans-105\"/>\n       <use x=\"3559.443359\" xlink:href=\"#DejaVuSans-101\"/>\n       <use x=\"3620.966797\" xlink:href=\"#DejaVuSans-115\"/>\n      </g>\n     </g>\n    </g>\n   </g>\n   <g id=\"LineCollection_1\">\n    <path clip-path=\"url(#pe84817d1d7)\" d=\"M 583.456933 339.838125  L 690.667159 339.838125  \" style=\"fill:none;stroke:#0000ff;stroke-width:1.5;\"/>\n    <path clip-path=\"url(#pe84817d1d7)\" d=\"M 603.789574 318.238125  L 730.756454 318.238125  \" style=\"fill:none;stroke:#0000ff;stroke-width:1.5;\"/>\n    <path clip-path=\"url(#pe84817d1d7)\" d=\"M 553.513298 296.638125  L 693.374893 296.638125  \" style=\"fill:none;stroke:#0000ff;stroke-width:1.5;\"/>\n    <path clip-path=\"url(#pe84817d1d7)\" d=\"M 562.394304 275.038125  L 678.008732 275.038125  \" style=\"fill:none;stroke:#0000ff;stroke-width:1.5;\"/>\n    <path clip-path=\"url(#pe84817d1d7)\" d=\"M 584.230127 253.438125  L 692.372782 253.438125  \" style=\"fill:none;stroke:#0000ff;stroke-width:1.5;\"/>\n    <path clip-path=\"url(#pe84817d1d7)\" d=\"M 588.161992 231.838125  L 708.081315 231.838125  \" style=\"fill:none;stroke:#0000ff;stroke-width:1.5;\"/>\n    <path clip-path=\"url(#pe84817d1d7)\" d=\"M 584.860265 210.238125  L 704.538711 210.238125  \" style=\"fill:none;stroke:#0000ff;stroke-width:1.5;\"/>\n    <path clip-path=\"url(#pe84817d1d7)\" d=\"M 553.238494 188.638125  L 679.328478 188.638125  \" style=\"fill:none;stroke:#0000ff;stroke-width:1.5;\"/>\n    <path clip-path=\"url(#pe84817d1d7)\" d=\"M 585.546441 167.038125  L 695.105872 167.038125  \" style=\"fill:none;stroke:#0000ff;stroke-width:1.5;\"/>\n    <path clip-path=\"url(#pe84817d1d7)\" d=\"M 586.825177 145.438125  L 695.974685 145.438125  \" style=\"fill:none;stroke:#0000ff;stroke-width:1.5;\"/>\n    <path clip-path=\"url(#pe84817d1d7)\" d=\"M 573.290941 123.838125  L 686.399977 123.838125  \" style=\"fill:none;stroke:#0000ff;stroke-width:1.5;\"/>\n    <path clip-path=\"url(#pe84817d1d7)\" d=\"M 580.188474 102.238125  L 697.729377 102.238125  \" style=\"fill:none;stroke:#0000ff;stroke-width:1.5;\"/>\n    <path clip-path=\"url(#pe84817d1d7)\" d=\"M 587.941718 80.638125  L 696.99957 80.638125  \" style=\"fill:none;stroke:#0000ff;stroke-width:1.5;\"/>\n    <path clip-path=\"url(#pe84817d1d7)\" d=\"M 580.5531 59.038125  L 692.212959 59.038125  \" style=\"fill:none;stroke:#0000ff;stroke-width:1.5;\"/>\n    <path clip-path=\"url(#pe84817d1d7)\" d=\"M 569.270664 37.438125  L 702.139882 37.438125  \" style=\"fill:none;stroke:#0000ff;stroke-width:1.5;\"/>\n   </g>\n   <g id=\"line2d_24\">\n    <path clip-path=\"url(#pe84817d1d7)\" d=\"M 857.602131 354.958125  L 857.602131 22.318125  \" style=\"fill:none;stroke:#000000;stroke-dasharray:3.7,1.6;stroke-dashoffset:0;\"/>\n   </g>\n   <g id=\"line2d_25\">\n    <defs>\n     <path d=\"M 0 5  C 1.326016 5 2.597899 4.473168 3.535534 3.535534  C 4.473168 2.597899 5 1.326016 5 0  C 5 -1.326016 4.473168 -2.597899 3.535534 -3.535534  C 2.597899 -4.473168 1.326016 -5 0 -5  C -1.326016 -5 -2.597899 -4.473168 -3.535534 -3.535534  C -4.473168 -2.597899 -5 -1.326016 -5 0  C -5 1.326016 -4.473168 2.597899 -3.535534 3.535534  C -2.597899 4.473168 -1.326016 5 0 5  z \" id=\"m70f9861886\" style=\"stroke:#0000ff;\"/>\n    </defs>\n    <g clip-path=\"url(#pe84817d1d7)\">\n     <use style=\"fill:#0000ff;stroke:#0000ff;\" x=\"643.987536\" xlink:href=\"#m70f9861886\" y=\"339.838125\"/>\n     <use style=\"fill:#0000ff;stroke:#0000ff;\" x=\"676.943038\" xlink:href=\"#m70f9861886\" y=\"318.238125\"/>\n     <use style=\"fill:#0000ff;stroke:#0000ff;\" x=\"635.139612\" xlink:href=\"#m70f9861886\" y=\"296.638125\"/>\n     <use style=\"fill:#0000ff;stroke:#0000ff;\" x=\"628.240815\" xlink:href=\"#m70f9861886\" y=\"275.038125\"/>\n     <use style=\"fill:#0000ff;stroke:#0000ff;\" x=\"645.346566\" xlink:href=\"#m70f9861886\" y=\"253.438125\"/>\n     <use style=\"fill:#0000ff;stroke:#0000ff;\" x=\"656.762358\" xlink:href=\"#m70f9861886\" y=\"231.838125\"/>\n     <use style=\"fill:#0000ff;stroke:#0000ff;\" x=\"653.305991\" xlink:href=\"#m70f9861886\" y=\"210.238125\"/>\n     <use style=\"fill:#0000ff;stroke:#0000ff;\" x=\"625.822424\" xlink:href=\"#m70f9861886\" y=\"188.638125\"/>\n     <use style=\"fill:#0000ff;stroke:#0000ff;\" x=\"647.554921\" xlink:href=\"#m70f9861886\" y=\"167.038125\"/>\n     <use style=\"fill:#0000ff;stroke:#0000ff;\" x=\"648.575323\" xlink:href=\"#m70f9861886\" y=\"145.438125\"/>\n     <use style=\"fill:#0000ff;stroke:#0000ff;\" x=\"637.54435\" xlink:href=\"#m70f9861886\" y=\"123.838125\"/>\n     <use style=\"fill:#0000ff;stroke:#0000ff;\" x=\"647.264783\" xlink:href=\"#m70f9861886\" y=\"102.238125\"/>\n     <use style=\"fill:#0000ff;stroke:#0000ff;\" x=\"649.634129\" xlink:href=\"#m70f9861886\" y=\"80.638125\"/>\n     <use style=\"fill:#0000ff;stroke:#0000ff;\" x=\"643.888261\" xlink:href=\"#m70f9861886\" y=\"59.038125\"/>\n     <use style=\"fill:#0000ff;stroke:#0000ff;\" x=\"646.27976\" xlink:href=\"#m70f9861886\" y=\"37.438125\"/>\n    </g>\n   </g>\n   <g id=\"patch_3\">\n    <path d=\"M 538.020313 354.958125  L 538.020313 22.318125  \" style=\"fill:none;stroke:#000000;stroke-linecap:square;stroke-linejoin:miter;stroke-width:0.8;\"/>\n   </g>\n   <g id=\"patch_4\">\n    <path d=\"M 872.820312 354.958125  L 872.820312 22.318125  \" style=\"fill:none;stroke:#000000;stroke-linecap:square;stroke-linejoin:miter;stroke-width:0.8;\"/>\n   </g>\n   <g id=\"patch_5\">\n    <path d=\"M 538.020313 354.958125  L 872.820312 354.958125  \" style=\"fill:none;stroke:#000000;stroke-linecap:square;stroke-linejoin:miter;stroke-width:0.8;\"/>\n   </g>\n   <g id=\"patch_6\">\n    <path d=\"M 538.020313 22.318125  L 872.820312 22.318125  \" style=\"fill:none;stroke:#000000;stroke-linecap:square;stroke-linejoin:miter;stroke-width:0.8;\"/>\n   </g>\n   <g id=\"text_21\">\n    <!-- Risk ratio of vaccination in people with underlying diseases in different ICD10 categories -->\n    <defs>\n     <path d=\"M 4.203125 54.6875  L 13.1875 54.6875  L 24.421875 12.015625  L 35.59375 54.6875  L 46.1875 54.6875  L 57.421875 12.015625  L 68.609375 54.6875  L 77.59375 54.6875  L 63.28125 0  L 52.6875 0  L 40.921875 44.828125  L 29.109375 0  L 18.5 0  z \" id=\"DejaVuSans-119\"/>\n     <path d=\"M 9.8125 72.90625  L 19.671875 72.90625  L 19.671875 0  L 9.8125 0  z \" id=\"DejaVuSans-73\"/>\n    </defs>\n    <g transform=\"translate(438.660313 16.318125)scale(0.12 -0.12)\">\n     <use xlink:href=\"#DejaVuSans-82\"/>\n     <use x=\"69.482422\" xlink:href=\"#DejaVuSans-105\"/>\n     <use x=\"97.265625\" xlink:href=\"#DejaVuSans-115\"/>\n     <use x=\"149.365234\" xlink:href=\"#DejaVuSans-107\"/>\n     <use x=\"207.275391\" xlink:href=\"#DejaVuSans-32\"/>\n     <use x=\"239.0625\" xlink:href=\"#DejaVuSans-114\"/>\n     <use x=\"280.175781\" xlink:href=\"#DejaVuSans-97\"/>\n     <use x=\"341.455078\" xlink:href=\"#DejaVuSans-116\"/>\n     <use x=\"380.664062\" xlink:href=\"#DejaVuSans-105\"/>\n     <use x=\"408.447266\" xlink:href=\"#DejaVuSans-111\"/>\n     <use x=\"469.628906\" xlink:href=\"#DejaVuSans-32\"/>\n     <use x=\"501.416016\" xlink:href=\"#DejaVuSans-111\"/>\n     <use x=\"562.597656\" xlink:href=\"#DejaVuSans-102\"/>\n     <use x=\"597.802734\" xlink:href=\"#DejaVuSans-32\"/>\n     <use x=\"629.589844\" xlink:href=\"#DejaVuSans-118\"/>\n     <use x=\"688.769531\" xlink:href=\"#DejaVuSans-97\"/>\n     <use x=\"750.048828\" xlink:href=\"#DejaVuSans-99\"/>\n     <use x=\"805.029297\" xlink:href=\"#DejaVuSans-99\"/>\n     <use x=\"860.009766\" xlink:href=\"#DejaVuSans-105\"/>\n     <use x=\"887.792969\" xlink:href=\"#DejaVuSans-110\"/>\n     <use x=\"951.171875\" xlink:href=\"#DejaVuSans-97\"/>\n     <use x=\"1012.451172\" xlink:href=\"#DejaVuSans-116\"/>\n     <use x=\"1051.660156\" xlink:href=\"#DejaVuSans-105\"/>\n     <use x=\"1079.443359\" xlink:href=\"#DejaVuSans-111\"/>\n     <use x=\"1140.625\" xlink:href=\"#DejaVuSans-110\"/>\n     <use x=\"1204.003906\" xlink:href=\"#DejaVuSans-32\"/>\n     <use x=\"1235.791016\" xlink:href=\"#DejaVuSans-105\"/>\n     <use x=\"1263.574219\" xlink:href=\"#DejaVuSans-110\"/>\n     <use x=\"1326.953125\" xlink:href=\"#DejaVuSans-32\"/>\n     <use x=\"1358.740234\" xlink:href=\"#DejaVuSans-112\"/>\n     <use x=\"1422.216797\" xlink:href=\"#DejaVuSans-101\"/>\n     <use x=\"1483.740234\" xlink:href=\"#DejaVuSans-111\"/>\n     <use x=\"1544.921875\" xlink:href=\"#DejaVuSans-112\"/>\n     <use x=\"1608.398438\" xlink:href=\"#DejaVuSans-108\"/>\n     <use x=\"1636.181641\" xlink:href=\"#DejaVuSans-101\"/>\n     <use x=\"1697.705078\" xlink:href=\"#DejaVuSans-32\"/>\n     <use x=\"1729.492188\" xlink:href=\"#DejaVuSans-119\"/>\n     <use x=\"1811.279297\" xlink:href=\"#DejaVuSans-105\"/>\n     <use x=\"1839.0625\" xlink:href=\"#DejaVuSans-116\"/>\n     <use x=\"1878.271484\" xlink:href=\"#DejaVuSans-104\"/>\n     <use x=\"1941.650391\" xlink:href=\"#DejaVuSans-32\"/>\n     <use x=\"1973.4375\" xlink:href=\"#DejaVuSans-117\"/>\n     <use x=\"2036.816406\" xlink:href=\"#DejaVuSans-110\"/>\n     <use x=\"2100.195312\" xlink:href=\"#DejaVuSans-100\"/>\n     <use x=\"2163.671875\" xlink:href=\"#DejaVuSans-101\"/>\n     <use x=\"2225.195312\" xlink:href=\"#DejaVuSans-114\"/>\n     <use x=\"2266.308594\" xlink:href=\"#DejaVuSans-108\"/>\n     <use x=\"2294.091797\" xlink:href=\"#DejaVuSans-121\"/>\n     <use x=\"2353.271484\" xlink:href=\"#DejaVuSans-105\"/>\n     <use x=\"2381.054688\" xlink:href=\"#DejaVuSans-110\"/>\n     <use x=\"2444.433594\" xlink:href=\"#DejaVuSans-103\"/>\n     <use x=\"2507.910156\" xlink:href=\"#DejaVuSans-32\"/>\n     <use x=\"2539.697266\" xlink:href=\"#DejaVuSans-100\"/>\n     <use x=\"2603.173828\" xlink:href=\"#DejaVuSans-105\"/>\n     <use x=\"2630.957031\" xlink:href=\"#DejaVuSans-115\"/>\n     <use x=\"2683.056641\" xlink:href=\"#DejaVuSans-101\"/>\n     <use x=\"2744.580078\" xlink:href=\"#DejaVuSans-97\"/>\n     <use x=\"2805.859375\" xlink:href=\"#DejaVuSans-115\"/>\n     <use x=\"2857.958984\" xlink:href=\"#DejaVuSans-101\"/>\n     <use x=\"2919.482422\" xlink:href=\"#DejaVuSans-115\"/>\n     <use x=\"2971.582031\" xlink:href=\"#DejaVuSans-32\"/>\n     <use x=\"3003.369141\" xlink:href=\"#DejaVuSans-105\"/>\n     <use x=\"3031.152344\" xlink:href=\"#DejaVuSans-110\"/>\n     <use x=\"3094.53125\" xlink:href=\"#DejaVuSans-32\"/>\n     <use x=\"3126.318359\" xlink:href=\"#DejaVuSans-100\"/>\n     <use x=\"3189.794922\" xlink:href=\"#DejaVuSans-105\"/>\n     <use x=\"3217.578125\" xlink:href=\"#DejaVuSans-102\"/>\n     <use x=\"3252.783203\" xlink:href=\"#DejaVuSans-102\"/>\n     <use x=\"3287.988281\" xlink:href=\"#DejaVuSans-101\"/>\n     <use x=\"3349.511719\" xlink:href=\"#DejaVuSans-114\"/>\n     <use x=\"3390.59375\" xlink:href=\"#DejaVuSans-101\"/>\n     <use x=\"3452.117188\" xlink:href=\"#DejaVuSans-110\"/>\n     <use x=\"3515.496094\" xlink:href=\"#DejaVuSans-116\"/>\n     <use x=\"3554.705078\" xlink:href=\"#DejaVuSans-32\"/>\n     <use x=\"3586.492188\" xlink:href=\"#DejaVuSans-73\"/>\n     <use x=\"3615.984375\" xlink:href=\"#DejaVuSans-67\"/>\n     <use x=\"3685.808594\" xlink:href=\"#DejaVuSans-68\"/>\n     <use x=\"3762.810547\" xlink:href=\"#DejaVuSans-49\"/>\n     <use x=\"3826.433594\" xlink:href=\"#DejaVuSans-48\"/>\n     <use x=\"3890.056641\" xlink:href=\"#DejaVuSans-32\"/>\n     <use x=\"3921.84375\" xlink:href=\"#DejaVuSans-99\"/>\n     <use x=\"3976.824219\" xlink:href=\"#DejaVuSans-97\"/>\n     <use x=\"4038.103516\" xlink:href=\"#DejaVuSans-116\"/>\n     <use x=\"4077.3125\" xlink:href=\"#DejaVuSans-101\"/>\n     <use x=\"4138.835938\" xlink:href=\"#DejaVuSans-103\"/>\n     <use x=\"4202.3125\" xlink:href=\"#DejaVuSans-111\"/>\n     <use x=\"4263.494141\" xlink:href=\"#DejaVuSans-114\"/>\n     <use x=\"4304.607422\" xlink:href=\"#DejaVuSans-105\"/>\n     <use x=\"4332.390625\" xlink:href=\"#DejaVuSans-101\"/>\n     <use x=\"4393.914062\" xlink:href=\"#DejaVuSans-115\"/>\n    </g>\n   </g>\n  </g>\n </g>\n <defs>\n  <clipPath id=\"pe84817d1d7\">\n   <rect height=\"332.64\" width=\"334.8\" x=\"538.020313\" y=\"22.318125\"/>\n  </clipPath>\n </defs>\n</svg>",
      "text/plain": [
       "<IPython.core.display.SVG object>"
      ]
     },
     "execution_count": 21,
     "metadata": {},
     "output_type": "execute_result"
    }
   ],
   "source": [
    "# Figure 8\n",
    "SVG(filename='analysis_euler/2c_deaths_RR.svg')"
   ]
  },
  {
   "cell_type": "markdown",
   "metadata": {},
   "source": [
    "# 4. Discussion\n",
    "The sample size as well as the number of vaccinated and unvaccinated people was comparable to Xiang et al. While we retrieved 186'139 individuals with underlying diseases with 146'167 vaccinated and 39'972 unvaccinated individuals, Barda et al. retrieved 180'727 with 145’455 vaccinated and 33'926 unvaccinated individuals. This was expected, as they also used the UKBB dataset and extracted it around the same time (June 2021). \\\n",
    "However, the number of AEs and risk ratio of AEs being higher in most vaccinated group was not expected. Conversely, the number of deaths and risk ratio of deaths was lower in most vaccinated group. Both could be explained by confounders such as age, as older people had higher priority in getting the vaccine. This could be corrected for example through regression analysis as done by Xiang et al. or by matching unvaccinated and vaccinated persons as done by Barda et al.\\\n",
    "The analysis has several strengths and limitations. One strength of this analysis is the limitation of the survival bias by prescription-time distribution matching by allocating a random date out of the issue dates of the vaccinated individuals to each unvaccinated individual. Further, we have found no preceding analysis of the effect of covid vaccination on people with specific underlying disease categories. Limitations include the calculation of a risk ratio instead of the time-related hazard ratio (as done by Xiang et al.) and the calculation of occurrences in general as opposed to the incidence, which would be the number of events within a given time frame. The confidence interval of the risk ratio would better be analysed with the percentile bootstrap method as described by Barda et al. \\\n",
    "Further next steps could be taken after optimizing the analysis method. First, the risk/hazard ratio of getting the vaccine could be compared to getting SARS-Cov-2 to put things in perspective. Second, the time of AEs and deaths could be analysed. Third, more specific underlying diseases that could be of relevance in this context such as myocarditis, thrombosis or lymphadenopathy could be analysed. Finally, a subgroup of fully vaccinated people as opposed to the here analysed group with at least one vaccine within the most recent dataset could be analysed."
   ]
  },
  {
   "cell_type": "markdown",
   "metadata": {},
   "source": [
    "# References\n",
    "Choi, W. S. & Cheong, H. J. COVID-19 Vaccination for People with Comorbidities. Infect Chemother 53, 155-158, doi:10.3947/ic.2021.0302 (2021)."
   ]
  }
 ],
 "metadata": {
  "colab": {
   "authorship_tag": "ABX9TyPbGrXdLmVVZJgOaOjZE42u",
   "collapsed_sections": [],
   "mount_file_id": "1lzi9RvA-pKhZOBpn5_9XFF17e746VcKM",
   "name": "Project_vaccine_comorbidities.ipynb",
   "provenance": [],
   "toc_visible": true
  },
  "kernelspec": {
   "display_name": "Python 3 (ipykernel)",
   "language": "python",
   "name": "python3"
  },
  "language_info": {
   "codemirror_mode": {
    "name": "ipython",
    "version": 3
   },
   "file_extension": ".py",
   "mimetype": "text/x-python",
   "name": "python",
   "nbconvert_exporter": "python",
   "pygments_lexer": "ipython3",
   "version": "3.9.7"
  }
 },
 "nbformat": 4,
 "nbformat_minor": 1
}
