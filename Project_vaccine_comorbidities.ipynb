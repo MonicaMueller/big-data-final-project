{
 "cells": [
  {
   "cell_type": "code",
   "execution_count": null,
   "metadata": {
    "id": "ShjvWps0_I39"
   },
   "outputs": [],
   "source": [
    "import pandas as pd\n",
    "import numpy as np"
   ]
  },
  {
   "cell_type": "code",
   "execution_count": null,
   "metadata": {},
   "outputs": [],
   "source": [
    "import random\n",
    "random.seed(13)"
   ]
  },
  {
   "cell_type": "markdown",
   "metadata": {
    "id": "BnOF_K5b9eXs"
   },
   "source": [
    "### Import data"
   ]
  },
  {
   "cell_type": "code",
   "execution_count": null,
   "metadata": {
    "id": "ceiF4zXL6wAQ"
   },
   "outputs": [],
   "source": [
    "# maybe use np.where to reduce the data imported"
   ]
  },
  {
   "cell_type": "markdown",
   "metadata": {
    "id": "bFNO3k2q_YP1"
   },
   "source": [
    "Read"
   ]
  },
  {
   "cell_type": "code",
   "execution_count": null,
   "metadata": {
    "id": "ctHMNIsY_Xrn"
   },
   "outputs": [],
   "source": [
    "code = pd.read_csv('data/coding7128.tsv', sep='\\t')"
   ]
  },
  {
   "cell_type": "code",
   "execution_count": null,
   "metadata": {
    "id": "ED2_-Iv0DbIJ"
   },
   "outputs": [],
   "source": [
    "clinical = pd.read_csv('data/tpp_gp_clinical_subset.csv') "
   ]
  },
  {
   "cell_type": "code",
   "execution_count": null,
   "metadata": {
    "id": "miZ_7lEpyVOQ"
   },
   "outputs": [],
   "source": [
    "ic10 = pd.read_csv('data/ic10_lookup.csv')"
   ]
  },
  {
   "cell_type": "code",
   "execution_count": null,
   "metadata": {
    "id": "zyYSNBpnypUf"
   },
   "outputs": [],
   "source": [
    "GPic10 = pd.read_csv('data/GP_ic10_lookup.csv') "
   ]
  },
  {
   "cell_type": "code",
   "execution_count": null,
   "metadata": {
    "id": "t22iGaL-2oPK"
   },
   "outputs": [],
   "source": [
    "scripts = pd.read_csv('data/sample_covid19_tpp_gp_scripts.txt')"
   ]
  },
  {
   "cell_type": "markdown",
   "metadata": {},
   "source": [
    "have a look at the data"
   ]
  },
  {
   "cell_type": "code",
   "execution_count": null,
   "metadata": {
    "colab": {
     "base_uri": "https://localhost:8080/",
     "height": 424
    },
    "executionInfo": {
     "elapsed": 234,
     "status": "ok",
     "timestamp": 1635342695852,
     "user": {
      "displayName": "Monica Müller",
      "photoUrl": "https://lh3.googleusercontent.com/a/default-user=s64",
      "userId": "03925055125343928828"
     },
     "user_tz": -120
    },
    "id": "oxm0xq1GHyoj",
    "outputId": "7354f996-6569-4fd5-d6e6-0138e2f289c3"
   },
   "outputs": [],
   "source": [
    "code.head()\n",
    "# CTV3 codes (used by GPs, in dataset clinical) and the corresponding disease and incidences\n",
    "# code can also be measurements, but will not be used by us"
   ]
  },
  {
   "cell_type": "code",
   "execution_count": null,
   "metadata": {
    "colab": {
     "base_uri": "https://localhost:8080/",
     "height": 424
    },
    "executionInfo": {
     "elapsed": 319,
     "status": "ok",
     "timestamp": 1635338237249,
     "user": {
      "displayName": "Monica Müller",
      "photoUrl": "https://lh3.googleusercontent.com/a/default-user=s64",
      "userId": "03925055125343928828"
     },
     "user_tz": -120
    },
    "id": "7svXJiX1F5PV",
    "outputId": "d5106cec-154c-46ed-8a33-e4764cd1b78d"
   },
   "outputs": [],
   "source": [
    "clinical\n",
    "# GP dataset from every patient\n",
    "# each line corresponds to one incident with a date (event_dt)\n",
    "# eid: patient number \n",
    "# code_type: ?\n",
    "# value: measured value of a test or whatever"
   ]
  },
  {
   "cell_type": "code",
   "execution_count": null,
   "metadata": {
    "colab": {
     "base_uri": "https://localhost:8080/",
     "height": 826
    },
    "executionInfo": {
     "elapsed": 8,
     "status": "ok",
     "timestamp": 1635338238489,
     "user": {
      "displayName": "Monica Müller",
      "photoUrl": "https://lh3.googleusercontent.com/a/default-user=s64",
      "userId": "03925055125343928828"
     },
     "user_tz": -120
    },
    "id": "e507eM28yt0Z",
    "outputId": "1d043f28-7538-4e32-ccf7-dc65e466f1f8"
   },
   "outputs": [],
   "source": [
    "ic10\n",
    "# description of ICD20 codes"
   ]
  },
  {
   "cell_type": "code",
   "execution_count": null,
   "metadata": {
    "colab": {
     "base_uri": "https://localhost:8080/",
     "height": 476
    },
    "executionInfo": {
     "elapsed": 11,
     "status": "ok",
     "timestamp": 1635338239808,
     "user": {
      "displayName": "Monica Müller",
      "photoUrl": "https://lh3.googleusercontent.com/a/default-user=s64",
      "userId": "03925055125343928828"
     },
     "user_tz": -120
    },
    "id": "QZo7OndFyvd_",
    "outputId": "78c836ec-1ff8-427f-baa7-52298ae33508"
   },
   "outputs": [],
   "source": [
    "GPic10\n",
    "#translates CTV3 codes (read_code) to ICD10 (icd10_code)"
   ]
  },
  {
   "cell_type": "code",
   "execution_count": null,
   "metadata": {
    "colab": {
     "base_uri": "https://localhost:8080/",
     "height": 424
    },
    "executionInfo": {
     "elapsed": 23,
     "status": "ok",
     "timestamp": 1635338241710,
     "user": {
      "displayName": "Monica Müller",
      "photoUrl": "https://lh3.googleusercontent.com/a/default-user=s64",
      "userId": "03925055125343928828"
     },
     "user_tz": -120
    },
    "id": "5xF6ZdG529rs",
    "outputId": "3fa90056-4ede-4317-f4ce-6382549004ca"
   },
   "outputs": [],
   "source": [
    "scripts\n",
    "# all medication patients got from their GP, incl. the COVID-19 vaccine \n",
    "# needs to be complete if want to compare vaccinated vs. non-vaccinated, but seems like not all vaccinations registered here but just the ones done by the GP"
   ]
  },
  {
   "cell_type": "code",
   "execution_count": null,
   "metadata": {
    "colab": {
     "base_uri": "https://localhost:8080/"
    },
    "executionInfo": {
     "elapsed": 231,
     "status": "ok",
     "timestamp": 1635173553779,
     "user": {
      "displayName": "Monica Müller",
      "photoUrl": "https://lh3.googleusercontent.com/a/default-user=s64",
      "userId": "03925055125343928828"
     },
     "user_tz": -120
    },
    "id": "_TBQXs1R7mHZ",
    "outputId": "9e496137-72d4-4792-9d4a-b182c8d9b791"
   },
   "outputs": [],
   "source": [
    "# get few individuals from large dataset -> may try to call only part of scripts dataset, where code == one of covid vaccine\n",
    "\n",
    "# try only to get lines from scripts dataset where dmd_code== a vaccine \n",
    "# use function read_csv. only where irgendwas\n",
    "\n",
    "print('lines in samplescripts: ', len(scripts))\n",
    "print('number of subjects in samplescripts: ', len(scripts['eid'].value_counts()))"
   ]
  },
  {
   "cell_type": "markdown",
   "metadata": {},
   "source": [
    "### Preparing the data"
   ]
  },
  {
   "cell_type": "markdown",
   "metadata": {},
   "source": [
    "#### Adding column with IC10 categories to clinical dataset for simpler analysis later on"
   ]
  },
  {
   "cell_type": "code",
   "execution_count": null,
   "metadata": {},
   "outputs": [],
   "source": [
    "# create a reduced dataset for merging with the clinical dataset \n",
    "GPic10_red =  GPic10[['read_code', 'icd10_code']]\n",
    "# rename to merge ont he ctv3 column with the clinical dataset\n",
    "GPic10_red = GPic10_red.rename(columns = {'read_code':'code'})\n",
    "GPic10_red.head()"
   ]
  },
  {
   "cell_type": "code",
   "execution_count": null,
   "metadata": {},
   "outputs": [],
   "source": [
    "clinical_ic10 = pd.merge(clinical, GPic10_red, how='inner', on='code')\n",
    "clinical_ic10"
   ]
  },
  {
   "cell_type": "markdown",
   "metadata": {},
   "source": [
    "#### Data Cleaning"
   ]
  },
  {
   "cell_type": "code",
   "execution_count": null,
   "metadata": {},
   "outputs": [],
   "source": [
    "# drop unnecessary columns\n",
    "clinical_ic10.drop(columns = ['code_type', 'value', 'Unnamed: 0'], inplace = True)\n",
    "clinical_ic10"
   ]
  },
  {
   "cell_type": "code",
   "execution_count": null,
   "metadata": {},
   "outputs": [],
   "source": [
    "pd.isnull(clinical_ic10).sum()\n",
    "# no NaN"
   ]
  },
  {
   "cell_type": "code",
   "execution_count": null,
   "metadata": {},
   "outputs": [],
   "source": [
    "pd.isnull(ic10).sum()"
   ]
  },
  {
   "cell_type": "code",
   "execution_count": null,
   "metadata": {},
   "outputs": [],
   "source": [
    "# remove duplicate entries in clinical dataset \n",
    "# (for other datasets, it should not be a problem)\n",
    "clinical_ic10.drop_duplicates(inplace = True) \n",
    "\n",
    "# remove NaN in selected column\n",
    "ic10.dropna(subset=['DESCRIPTION'], inplace = True)"
   ]
  },
  {
   "cell_type": "code",
   "execution_count": null,
   "metadata": {},
   "outputs": [],
   "source": [
    "pd.isnull(ic10).sum()"
   ]
  },
  {
   "cell_type": "code",
   "execution_count": null,
   "metadata": {},
   "outputs": [],
   "source": [
    "# remove not considered clinical events in the clinical dataset (e.g. external factors)\n",
    "\n",
    "\"\"\"\"\n",
    "Monica's suggestions: \n",
    "remove O-Z (pregnancy, congenital, others, COVID-19, external causes, factors)\n",
    "maybe keep Q (congenital) as underlying disease, keep all others\n",
    "\n",
    "Renée:\n",
    "I would also keep R in there: \"In general, categories in this chapter include the less well-defined conditions and symptoms that, without the necessary study of the case to establish a final diagnosis, point perhaps equally to two or more diseases or to two or more systems of the body.\n",
    "\n",
    "Decision:\n",
    "O-Z remove, but leave R as adverse event & Q as underlying disease.\n",
    "\n",
    "\"\"\""
   ]
  },
  {
   "cell_type": "markdown",
   "metadata": {
    "id": "bnqkYcgP6ayP"
   },
   "source": [
    "### Find who is vaccinated"
   ]
  },
  {
   "cell_type": "markdown",
   "metadata": {},
   "source": [
    "The meaning of the SNOMED codes ('dmd_code' in the 'scripts' dataset, where medications that the patients got are listed) were found on: https://services.nhsbsa.nhs.uk/dmd-browser/amp/view/159421?ref=YW1wTmFtZT1jb3ZpZCZzZWFyY2hUeXBlPUFNUCZzaG93SW52YWxpZEl0ZW1zPWZhbHNl#ampCodes\n",
    "\n",
    "Each vaccine has a specific code."
   ]
  },
  {
   "cell_type": "code",
   "execution_count": null,
   "metadata": {
    "colab": {
     "base_uri": "https://localhost:8080/",
     "height": 771
    },
    "executionInfo": {
     "elapsed": 324,
     "status": "ok",
     "timestamp": 1635172302951,
     "user": {
      "displayName": "Monica Müller",
      "photoUrl": "https://lh3.googleusercontent.com/a/default-user=s64",
      "userId": "03925055125343928828"
     },
     "user_tz": -120
    },
    "id": "rl78RX5p3Bbv",
    "outputId": "1a24e2b3-7296-4af9-b1e4-ad9df994137d"
   },
   "outputs": [],
   "source": [
    "# broadcasting to find individuals with AstraZEneca vaccine\n",
    "mask_AZ = scripts['dmd_code']== 39114911000001105\n",
    "scripts[mask_AZ].head()"
   ]
  },
  {
   "cell_type": "code",
   "execution_count": null,
   "metadata": {
    "colab": {
     "base_uri": "https://localhost:8080/",
     "height": 771
    },
    "executionInfo": {
     "elapsed": 321,
     "status": "ok",
     "timestamp": 1635338339030,
     "user": {
      "displayName": "Monica Müller",
      "photoUrl": "https://lh3.googleusercontent.com/a/default-user=s64",
      "userId": "03925055125343928828"
     },
     "user_tz": -120
    },
    "id": "Kr2whtVZ4Skz",
    "outputId": "a664936a-ae12-43d4-b826-dddda27225ab"
   },
   "outputs": [],
   "source": [
    "# getting IDs of individuals with any corona vaccine first (compare vaccinates vs. not)\n",
    "# may look at effects of specific vaccines later\n",
    "dict_vac = {39326911000001101: 'Moderna', 39230211000001104: 'Janssen', \\\n",
    "            39826711000001101:'Medicago', 39473011000001103: 'Baxter', \\\n",
    "            39114911000001105: 'AstraZeneca', 39115611000001103: 'Pfizer',\\\n",
    "            39373511000001104: 'Valneva'}\n",
    "\n",
    "for dmd_code in dict_vac:\n",
    "    mask_vac = scripts['dmd_code']== dmd_code\n",
    "    print(dict_vac[dmd_code], ':',len(scripts[mask_vac]))"
   ]
  },
  {
   "cell_type": "code",
   "execution_count": null,
   "metadata": {},
   "outputs": [],
   "source": [
    "# mask for any vaccine\n",
    "mask_vac = scripts['dmd_code'].isin(dict_vac)\n",
    "\n",
    "# number of vaccinated people\n",
    "print('Number of vaccinated people:', len(scripts[mask_vac]))"
   ]
  },
  {
   "cell_type": "code",
   "execution_count": null,
   "metadata": {
    "id": "nqF2wFkwyNZ0"
   },
   "outputs": [],
   "source": [
    "# finding eids of vaccinated people in the dataset\n",
    "id_vac = scripts[mask_vac]['eid'] \n",
    "id_vac"
   ]
  },
  {
   "cell_type": "code",
   "execution_count": null,
   "metadata": {
    "colab": {
     "base_uri": "https://localhost:8080/",
     "height": 394
    },
    "executionInfo": {
     "elapsed": 249,
     "status": "ok",
     "timestamp": 1635338889565,
     "user": {
      "displayName": "Monica Müller",
      "photoUrl": "https://lh3.googleusercontent.com/a/default-user=s64",
      "userId": "03925055125343928828"
     },
     "user_tz": -120
    },
    "id": "FRWu7mlIyoR7",
    "outputId": "7be7068c-fd1b-4b83-910c-e6e020beab65",
    "scrolled": false
   },
   "outputs": [],
   "source": [
    "# finding events of the vaccinated people, but only events before vaccination found \n",
    "# -> may need a more recent dataset\n",
    "# need to separate clinical events before & after vaccine\n",
    "mask_vac_clin = clinical_ic10['eid'].isin(id_vac)\n",
    "clinical_ic10[mask_vac_clin] "
   ]
  },
  {
   "cell_type": "markdown",
   "metadata": {},
   "source": [
    "# categorize event as before or after COVID-19 vaccination "
   ]
  },
  {
   "cell_type": "markdown",
   "metadata": {},
   "source": [
    "### make 'event_date' in 'clinical' be interpreted as a date"
   ]
  },
  {
   "cell_type": "code",
   "execution_count": null,
   "metadata": {
    "scrolled": true
   },
   "outputs": [],
   "source": [
    "clinical_ic10.head(10)"
   ]
  },
  {
   "cell_type": "code",
   "execution_count": null,
   "metadata": {},
   "outputs": [],
   "source": [
    "from datetime import datetime, timedelta"
   ]
  },
  {
   "cell_type": "markdown",
   "metadata": {},
   "source": [
    "### only to understand the function, can be deleted later"
   ]
  },
  {
   "cell_type": "code",
   "execution_count": null,
   "metadata": {},
   "outputs": [],
   "source": [
    "clinical_ic10['event_dt'].unique()\n",
    "# find out if the other dates are e.g. 06/01/2020 or 6/1/2020"
   ]
  },
  {
   "cell_type": "code",
   "execution_count": null,
   "metadata": {
    "scrolled": true
   },
   "outputs": [],
   "source": [
    "example_date = clinical_ic10['event_dt'].unique()[0]"
   ]
  },
  {
   "cell_type": "code",
   "execution_count": null,
   "metadata": {},
   "outputs": [],
   "source": [
    "example_date_new = datetime.strptime(example_date, '%d/%m/%Y')\n",
    "example_date_new #2020"
   ]
  },
  {
   "cell_type": "code",
   "execution_count": null,
   "metadata": {},
   "outputs": [],
   "source": [
    "example_date_2 = clinical_ic10['event_dt'].unique()[1]\n",
    "example_date_2 "
   ]
  },
  {
   "cell_type": "code",
   "execution_count": null,
   "metadata": {},
   "outputs": [],
   "source": [
    "example_date_2_new = datetime.strptime(example_date_2, '%d/%m/%Y')\n",
    "example_date_2_new #2019"
   ]
  },
  {
   "cell_type": "code",
   "execution_count": null,
   "metadata": {},
   "outputs": [],
   "source": [
    "# compare the 2 dates\n",
    "example_date_new > example_date_2_new # 2020 > 2019 --> True\n",
    "# recent > older --> True"
   ]
  },
  {
   "cell_type": "markdown",
   "metadata": {},
   "source": [
    "### actually convert the column into the before/after"
   ]
  },
  {
   "cell_type": "code",
   "execution_count": null,
   "metadata": {},
   "outputs": [],
   "source": [
    "# convert entire event_dt in datetime format\n",
    "clinical_ic10['event_dt_date_format'] = pd.to_datetime(clinical_ic10['event_dt'])\n",
    "clinical_ic10"
   ]
  },
  {
   "cell_type": "code",
   "execution_count": null,
   "metadata": {},
   "outputs": [],
   "source": [
    "# only to understand the function, can be deleted later!!\n",
    "# compare 2 dates (first row and last row) from the new column \n",
    "\n",
    "print(clinical_ic10['event_dt_date_format'].iloc[-1]) # 2019\n",
    "print(clinical_ic10['event_dt_date_format'].iloc[0]) # 2020\n",
    "clinical_ic10['event_dt_date_format'].iloc[0] > clinical_ic10['event_dt_date_format'].iloc[-1]"
   ]
  },
  {
   "cell_type": "markdown",
   "metadata": {},
   "source": [
    "### include unvaccinated people (needed for further calculations)\n",
    "for including them in the dataframe to do:\n",
    "* event_dt = 0 or NaN (for selecting them)\n",
    "* get random date of vaccinations for each unvaccinated person -> put it as the issue date in unvaccinated people\n",
    "* using this average date, define \"before/after\" --> this will be used to classify medical events as \"underlying disease\" or \"adverse event\" for before and after respectively.\n",
    "\n",
    "alternatively, just make another subset, again make\n",
    "* get random date of vaccinations (average issue_date) for each unvaccinated person -> put it as the issue date in unvaccinated people\n",
    "* using this average date, define \"underlying disease/adverse event\" like \"before/after\" by comparing to the average date\n"
   ]
  },
  {
   "cell_type": "markdown",
   "metadata": {},
   "source": [
    "### subset 'scripts' to only those patients (eid) that got the COVID-19 vaccine and drop 'Unnamed: 0' column"
   ]
  },
  {
   "cell_type": "code",
   "execution_count": null,
   "metadata": {},
   "outputs": [],
   "source": [
    "scripts.drop(columns = ['Unnamed: 0'], inplace = True)\n",
    "mask_scripts_vac = scripts['dmd_code'].isin(dict_vac)\n",
    "scripts_vaccines_only = scripts[mask_scripts_vac] \n",
    "\n",
    "len(scripts[mask_scripts_vac]) # corresponds to finding above: 7 pfizer and 23 astrazeneca"
   ]
  },
  {
   "cell_type": "code",
   "execution_count": null,
   "metadata": {},
   "outputs": [],
   "source": [
    "scripts_vaccines_only.head() # contains eid and date of vaccination\n",
    "# length: 30"
   ]
  },
  {
   "cell_type": "code",
   "execution_count": null,
   "metadata": {},
   "outputs": [],
   "source": [
    "clinical_ic10.head()\n",
    "# length: 4156\n",
    "len(clinical_ic10['eid'].unique()) # some eid are in there multiple times (of course)"
   ]
  },
  {
   "cell_type": "markdown",
   "metadata": {},
   "source": [
    "### add a column with the date of vaccination to clinical_ic10"
   ]
  },
  {
   "cell_type": "code",
   "execution_count": null,
   "metadata": {},
   "outputs": [],
   "source": [
    "# merge clinical_ic10 and scripts_vaccines_only to add the issue_date (date of vaccine) to the\n",
    "# Monica's suggestion: merge 'outer' to also include people that got vaccinated but have no medical events noted\n",
    "clinical_vac = pd.merge(clinical_ic10, scripts_vaccines_only, how ='outer', on ='eid')"
   ]
  },
  {
   "cell_type": "code",
   "execution_count": null,
   "metadata": {},
   "outputs": [],
   "source": [
    "clinical_vac"
   ]
  },
  {
   "cell_type": "code",
   "execution_count": null,
   "metadata": {},
   "outputs": [],
   "source": [
    "len(clinical_vac) \n",
    "# total amounts of events: vaccinations and medical events from clinical_ic10"
   ]
  },
  {
   "cell_type": "code",
   "execution_count": null,
   "metadata": {},
   "outputs": [],
   "source": [
    "clinical_vac['issue_date'].isna().sum()\n",
    "# 4150 events of unvaccinated, 34 of vaccinated patients"
   ]
  },
  {
   "cell_type": "markdown",
   "metadata": {},
   "source": [
    "### add column in clinical_ic10 that says whether a patient is vaccinated or not"
   ]
  },
  {
   "cell_type": "code",
   "execution_count": null,
   "metadata": {},
   "outputs": [],
   "source": [
    "mask_vaccinated = clinical_full['eid'].isin(id_vac)\n",
    "clinical_vac['vaccinated'] = mask_vaccinated\n",
    "\n",
    "# check how many vaccinated people there are\n",
    "clinical_vac['vaccinated'].value_counts()\n",
    "# 34 -> correct\n",
    "\n",
    "# clinical_ic10['eid'].loc[clinical_ic10['vaccinated']==True]"
   ]
  },
  {
   "cell_type": "code",
   "execution_count": null,
   "metadata": {},
   "outputs": [],
   "source": [
    "clinical_vac\n",
    "# rows with event_dt=NaN: vaccinated eids with medical events\n",
    "# maybe rename it"
   ]
  },
  {
   "cell_type": "markdown",
   "metadata": {},
   "source": [
    "### add random issue date to events of unvaccinated patients to 'issue_date'  in clinical_vac "
   ]
  },
  {
   "cell_type": "code",
   "execution_count": null,
   "metadata": {},
   "outputs": [],
   "source": [
    "# make list from 'issue_date' in scripts_vaccines_only\n",
    "issue_dates = scripts_vaccines_only['issue_date'].tolist()\n",
    "issue_dates"
   ]
  },
  {
   "cell_type": "code",
   "execution_count": null,
   "metadata": {},
   "outputs": [],
   "source": [
    "random.choice(issue_dates)"
   ]
  },
  {
   "cell_type": "code",
   "execution_count": null,
   "metadata": {
    "scrolled": false
   },
   "outputs": [],
   "source": [
    "# randomly sample a date from issue_dates for each unvaccinated patient\n",
    "\n",
    "for i in range (len(clinical_vac['eid'])):\n",
    "    if clinical_vac['vaccinated'].loc[i] == False:\n",
    "        clinical_vac['issue_date'].loc[i] = random.choice(issue_dates) # we just want the values attribute, not in an array\n",
    "        \n",
    "clinical_vac"
   ]
  },
  {
   "cell_type": "markdown",
   "metadata": {},
   "source": [
    "### add a column where it says if the event (event_dt_date_format) was before or after the vaccination (issue_date)"
   ]
  },
  {
   "cell_type": "code",
   "execution_count": null,
   "metadata": {
    "scrolled": true
   },
   "outputs": [],
   "source": [
    "# monica: is this step really needed? seems like issue_date is in date format already.\n",
    "clinical_vac['issue_date_format'] = pd.to_datetime(clinical_vac['issue_date'])\n",
    "clinical_vac\n",
    "# renée: I guess it's safer, since the dtype is 'datetime64' in the new column and 'object' in the old one:\n",
    "print(clinical_vac['issue_date']) \n",
    "print(clinical_vac['issue_date_format'])"
   ]
  },
  {
   "cell_type": "code",
   "execution_count": null,
   "metadata": {},
   "outputs": [],
   "source": [
    "clinical_vac['event_dt_date_format'].iloc[0]>=clinical_vac['issue_date_format'].iloc[0]"
   ]
  },
  {
   "cell_type": "code",
   "execution_count": null,
   "metadata": {},
   "outputs": [],
   "source": [
    "before_after_vaccine = []\n",
    "for i in range (len(clinical_vac)):\n",
    "    if clinical_vac['event_dt_date_format'].iloc[i] >= clinical_vac['issue_date_format'].iloc[i]:\n",
    "        # edit from monica: fill in the 'before/after' into the list, not overwrite the variable \n",
    "        before_after_vaccine.append('after')\n",
    "    else:\n",
    "        before_after_vaccine.append('before')\n",
    "clinical_vac['before_after_vaccine'] = before_after_vaccine"
   ]
  },
  {
   "cell_type": "code",
   "execution_count": null,
   "metadata": {},
   "outputs": [],
   "source": [
    "clinical_vac"
   ]
  },
  {
   "cell_type": "code",
   "execution_count": null,
   "metadata": {
    "scrolled": true
   },
   "outputs": [],
   "source": [
    "clinical_vac['before_after_vaccine'].value_counts() # no after -> correct"
   ]
  },
  {
   "cell_type": "markdown",
   "metadata": {
    "id": "rEjo9un76oVk"
   },
   "source": [
    "# Analysing clinical events"
   ]
  },
  {
   "cell_type": "markdown",
   "metadata": {
    "id": "7Bw4hTHD2Rg8"
   },
   "source": [
    "IC10 codes are structured. The following website was used for looking up the meanings of the categories (e.g. respiratory diseases):\n",
    "https://www.icd10data.com/ICD10CM/Codes"
   ]
  },
  {
   "cell_type": "code",
   "execution_count": null,
   "metadata": {
    "colab": {
     "base_uri": "https://localhost:8080/",
     "height": 826
    },
    "executionInfo": {
     "elapsed": 317,
     "status": "ok",
     "timestamp": 1635339679533,
     "user": {
      "displayName": "Monica Müller",
      "photoUrl": "https://lh3.googleusercontent.com/a/default-user=s64",
      "userId": "03925055125343928828"
     },
     "user_tz": -120
    },
    "id": "ahuA6Bm81vuv",
    "outputId": "8823e0ea-eb0d-4fd3-bc45-4de9ea0c73e3"
   },
   "outputs": [],
   "source": [
    "ic10.head()"
   ]
  },
  {
   "cell_type": "markdown",
   "metadata": {
    "id": "XM8L5a6w7JAx"
   },
   "source": [
    "the GP_ic10 has the read code which is the CTV3. \n",
    "(However, when things get nasty, there are multiple ICD10 codes per CTV3 codes and viceversa… there is a mapping status which tells you whether the code is primary, duplicated, to revision, etc)"
   ]
  },
  {
   "cell_type": "code",
   "execution_count": null,
   "metadata": {
    "colab": {
     "base_uri": "https://localhost:8080/",
     "height": 206
    },
    "executionInfo": {
     "elapsed": 273,
     "status": "ok",
     "timestamp": 1635342039638,
     "user": {
      "displayName": "Monica Müller",
      "photoUrl": "https://lh3.googleusercontent.com/a/default-user=s64",
      "userId": "03925055125343928828"
     },
     "user_tz": -120
    },
    "id": "DbwrzfVx-Osc",
    "outputId": "43a19bcd-47fd-45de-e127-2b0685fd5f1b"
   },
   "outputs": [],
   "source": [
    "# WILL PROBABLY NOT USE THIS\n",
    "\n",
    "# just to see if corresponding CTV3 to IC10 works\n",
    "\n",
    "# broadcasting for vaccinated comorbidities(CTV3) in ICD10\n",
    "mask_vac_ic10 = GPic10['read_code'].isin(clinical_ic10[mask_vac_clin]['code']) \n",
    "GPic10[mask_vac_ic10]\n",
    "\n",
    "# mask_vac: people that got any vaccine\n",
    "# search for patients that got the vaccine in GPic10\n",
    "# and look what clinical events they had via the read_code (e.g. XE01qn)\n"
   ]
  },
  {
   "cell_type": "markdown",
   "metadata": {
    "id": "heRqef1dIUra"
   },
   "source": [
    "if time: analyse specific diseases such as myocarditis etc."
   ]
  },
  {
   "cell_type": "code",
   "execution_count": null,
   "metadata": {},
   "outputs": [],
   "source": [
    "clinical_ic10"
   ]
  },
  {
   "cell_type": "code",
   "execution_count": null,
   "metadata": {},
   "outputs": [],
   "source": [
    "ic10.head(3)"
   ]
  },
  {
   "cell_type": "code",
   "execution_count": null,
   "metadata": {
    "colab": {
     "base_uri": "https://localhost:8080/",
     "height": 1000
    },
    "executionInfo": {
     "elapsed": 294,
     "status": "ok",
     "timestamp": 1635168978215,
     "user": {
      "displayName": "Monica Müller",
      "photoUrl": "https://lh3.googleusercontent.com/a/default-user=s64",
      "userId": "03925055125343928828"
     },
     "user_tz": -120
    },
    "id": "kPLoAylJCPmm",
    "outputId": "a6e3a4d1-8ce6-4d68-ec45-d2dfc84d7f73"
   },
   "outputs": [],
   "source": [
    "# mask for getting codes related to myocarditis\n",
    "mask_myocarditis = ic10['DESCRIPTION'].str.contains('myocarditis', case = False)\n",
    "ic10[mask_myocarditis]"
   ]
  },
  {
   "cell_type": "code",
   "execution_count": null,
   "metadata": {
    "colab": {
     "base_uri": "https://localhost:8080/",
     "height": 49
    },
    "executionInfo": {
     "elapsed": 57,
     "status": "ok",
     "timestamp": 1635168979858,
     "user": {
      "displayName": "Monica Müller",
      "photoUrl": "https://lh3.googleusercontent.com/a/default-user=s64",
      "userId": "03925055125343928828"
     },
     "user_tz": -120
    },
    "id": "hKa_DcDyImp6",
    "outputId": "62e533bb-9d71-471d-aaf6-de2f6ad3c1fe",
    "scrolled": true
   },
   "outputs": [],
   "source": [
    "# getting data with myocarditis\n",
    "\n",
    "# the alternative code 'ALT_CODE' used here, as this was used in the lookup table GPic10\n",
    "myocarditis = ic10[mask_myocarditis]['ALT_CODE']\n",
    "\n",
    "clinical_ic10[clinical_ic10['icd10_code'].isin(myocarditis)]\n",
    "# nobody had myocarditis in this restricted data"
   ]
  },
  {
   "cell_type": "code",
   "execution_count": null,
   "metadata": {
    "colab": {
     "base_uri": "https://localhost:8080/",
     "height": 488
    },
    "executionInfo": {
     "elapsed": 545,
     "status": "ok",
     "timestamp": 1635168980373,
     "user": {
      "displayName": "Monica Müller",
      "photoUrl": "https://lh3.googleusercontent.com/a/default-user=s64",
      "userId": "03925055125343928828"
     },
     "user_tz": -120
    },
    "id": "goWG5XqkTG1S",
    "outputId": "7cc992aa-c9d7-4268-dc1b-c975d24370a1"
   },
   "outputs": [],
   "source": [
    "## ishaemic heart disease\n",
    "mask_ihd = ic10['DESCRIPTION'].str.contains('ischaemic heart disease', case = False)\n",
    "ischaemicHD = ic10[mask_ihd]['ALT_CODE']\n",
    "clinical_ic10[clinical_ic10['icd10_code'].isin(ischaemicHD)]"
   ]
  },
  {
   "cell_type": "markdown",
   "metadata": {
    "id": "6vBzAZwepe65"
   },
   "source": [
    "several comorbidities"
   ]
  },
  {
   "cell_type": "code",
   "execution_count": null,
   "metadata": {
    "id": "sirLrrLvT5Ca"
   },
   "outputs": [],
   "source": [
    "# getting people with specific diseases\n",
    "\n",
    "# new column for filling with selected disease\n",
    "clinical_ic10['selected disease'] = np.nan \n",
    "\n",
    "# list of specific diseases, to be decided on\n",
    "diseases_selec = ['ischaemic heart disease', 'cardiomyopathy', 'heart failure',\\\n",
    "                  'myocarditis'] \n",
    "\n",
    "for disease in diseases_selec:\n",
    "    \n",
    "    # broadcasting for selected disease\n",
    "    mask = ic10['DESCRIPTION'].str.contains(disease, case = False) \n",
    "    # broadcasting for selected disease\n",
    "    sub_disease = clinical_ic10[clinical_ic10['icd10_code'].isin(ic10[mask]['ALT_CODE'])]\n",
    "    \n",
    "    for i in sub_disease.index:\n",
    "        # fill dataset with selected disease label\n",
    "        clinical_ic10.loc[i,'selected disease'] = disease "
   ]
  },
  {
   "cell_type": "code",
   "execution_count": null,
   "metadata": {
    "colab": {
     "base_uri": "https://localhost:8080/"
    },
    "executionInfo": {
     "elapsed": 41,
     "status": "ok",
     "timestamp": 1635168980381,
     "user": {
      "displayName": "Monica Müller",
      "photoUrl": "https://lh3.googleusercontent.com/a/default-user=s64",
      "userId": "03925055125343928828"
     },
     "user_tz": -120
    },
    "id": "mvy4mUUNW2oC",
    "outputId": "24524ffe-6fb2-4f2c-a8d9-5c186f924d73"
   },
   "outputs": [],
   "source": [
    "# counting how many people in the dataset have a specific disease\n",
    "clinical_ic10['selected disease'].value_counts()"
   ]
  },
  {
   "cell_type": "markdown",
   "metadata": {
    "id": "oJ0DDEwyBvPR"
   },
   "source": [
    "# getting people w. different categories of underlying diseases"
   ]
  },
  {
   "cell_type": "markdown",
   "metadata": {},
   "source": [
    "# Question 1: \n",
    "## 1. How common are \"adverse events\"? (i.e. how many percent of vaccinated people have registered medical events after the vaccine) compare vaccinated & nonvaccinated\n",
    "## 2. What about people with medical history?\n",
    "## Are they more common in people with (specific) underlying medical conditions? i.e.: \n",
    "* plot percentage of AEs with & without underlying conditions\n",
    "* plot percentages for specific underlying conditions (not considering if several conditions at once, plot for each category then), for vaccinated and non-vaccinated people\n",
    "* (optional: just for vaccinated people: plot what types of AEs (in IC10 categories) are common."
   ]
  },
  {
   "cell_type": "code",
   "execution_count": null,
   "metadata": {
    "colab": {
     "base_uri": "https://localhost:8080/",
     "height": 424
    },
    "executionInfo": {
     "elapsed": 530,
     "status": "ok",
     "timestamp": 1635342590713,
     "user": {
      "displayName": "Monica Müller",
      "photoUrl": "https://lh3.googleusercontent.com/a/default-user=s64",
      "userId": "03925055125343928828"
     },
     "user_tz": -120
    },
    "id": "Wr3iUUcp_YAD",
    "outputId": "7b128103-ba29-442e-e86b-27cb4f0d815c"
   },
   "outputs": [],
   "source": [
    "# code layout for getting the different categories\n",
    "\n",
    "# subsetting into categories using IC10\n",
    "# e.g. I00-I99 Diseases of the circulatory system, more details available too, e.g. Ischemic heart diseases\n",
    "GPic10.dropna(inplace=True) # drop NaN to enable making mask\n",
    "\n",
    "m_circ = GPic10['icd10_code'].str.startswith('I')\n",
    "GPic10[m_circ]['read_code']"
   ]
  },
  {
   "cell_type": "code",
   "execution_count": null,
   "metadata": {
    "colab": {
     "base_uri": "https://localhost:8080/",
     "height": 424
    },
    "executionInfo": {
     "elapsed": 338,
     "status": "ok",
     "timestamp": 1635342751479,
     "user": {
      "displayName": "Monica Müller",
      "photoUrl": "https://lh3.googleusercontent.com/a/default-user=s64",
      "userId": "03925055125343928828"
     },
     "user_tz": -120
    },
    "id": "joOSUIaFBKVm",
    "outputId": "fc8b9ea9-536a-45bc-d413-721751f8f244"
   },
   "outputs": [],
   "source": [
    "# getting corresponding CTV3 codes\n",
    "m_circ_CTV3 = code['coding'].isin(GPic10[m_circ]['read_code'])\n",
    "code[m_circ_CTV3]"
   ]
  },
  {
   "cell_type": "code",
   "execution_count": null,
   "metadata": {
    "colab": {
     "base_uri": "https://localhost:8080/",
     "height": 424
    },
    "executionInfo": {
     "elapsed": 272,
     "status": "ok",
     "timestamp": 1635343135065,
     "user": {
      "displayName": "Monica Müller",
      "photoUrl": "https://lh3.googleusercontent.com/a/default-user=s64",
      "userId": "03925055125343928828"
     },
     "user_tz": -120
    },
    "id": "oWct6dD0BKOd",
    "outputId": "6b6cecc6-92b1-4c59-c45b-273c1df6aed4"
   },
   "outputs": [],
   "source": [
    " # getting subjects with this condition\n",
    "m_circ_sub = clinical['code'].isin(code[m_circ_CTV3]['coding']) # another mask"
   ]
  },
  {
   "cell_type": "markdown",
   "metadata": {
    "id": "ZHbu6qcuEv-H"
   },
   "source": [
    "# correspond to vaccinated or not"
   ]
  },
  {
   "cell_type": "code",
   "execution_count": null,
   "metadata": {
    "colab": {
     "base_uri": "https://localhost:8080/"
    },
    "executionInfo": {
     "elapsed": 291,
     "status": "ok",
     "timestamp": 1635343751105,
     "user": {
      "displayName": "Monica Müller",
      "photoUrl": "https://lh3.googleusercontent.com/a/default-user=s64",
      "userId": "03925055125343928828"
     },
     "user_tz": -120
    },
    "id": "3c9ATWLdE0sn",
    "outputId": "6e510def-3879-48c5-ec8a-a4037a38dd64"
   },
   "outputs": [],
   "source": [
    "# no one with any vaccine had circulatory issue before vaccine on this limited dataset\n",
    "scripts[mask_vac]['eid'].isin(clinical[m_circ_sub]['eid']).sum()"
   ]
  },
  {
   "cell_type": "code",
   "execution_count": null,
   "metadata": {},
   "outputs": [],
   "source": []
  }
 ],
 "metadata": {
  "colab": {
   "authorship_tag": "ABX9TyPbGrXdLmVVZJgOaOjZE42u",
   "collapsed_sections": [],
   "mount_file_id": "1lzi9RvA-pKhZOBpn5_9XFF17e746VcKM",
   "name": "Project_vaccine_comorbidities.ipynb",
   "provenance": [],
   "toc_visible": true
  },
  "kernelspec": {
   "display_name": "Python 3 (ipykernel)",
   "language": "python",
   "name": "python3"
  },
  "language_info": {
   "codemirror_mode": {
    "name": "ipython",
    "version": 3
   },
   "file_extension": ".py",
   "mimetype": "text/x-python",
   "name": "python",
   "nbconvert_exporter": "python",
   "pygments_lexer": "ipython3",
   "version": "3.9.7"
  }
 },
 "nbformat": 4,
 "nbformat_minor": 1
}
